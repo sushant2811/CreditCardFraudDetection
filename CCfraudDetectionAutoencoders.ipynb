{
 "cells": [
  {
   "cell_type": "markdown",
   "metadata": {},
   "source": [
    "## Using autoencoders to find the anomalous transactions. \n",
    "\n",
    "\n",
    "The data from [Kaggle](https://www.kaggle.com/mlg-ulb/creditcardfraud). \n",
    "\n",
    "Follows the approach of [this notebook](https://github.com/curiousily/Credit-Card-Fraud-Detection-using-Autoencoders-in-Keras/blob/master/fraud_detection.ipynb)"
   ]
  },
  {
   "cell_type": "code",
   "execution_count": 33,
   "metadata": {
    "collapsed": true
   },
   "outputs": [],
   "source": [
    "import pandas as pd"
   ]
  },
  {
   "cell_type": "markdown",
   "metadata": {},
   "source": [
    "## Importing data "
   ]
  },
  {
   "cell_type": "code",
   "execution_count": 34,
   "metadata": {
    "collapsed": true
   },
   "outputs": [],
   "source": [
    "df = pd.read_csv('./creditcard.csv')"
   ]
  },
  {
   "cell_type": "code",
   "execution_count": 35,
   "metadata": {},
   "outputs": [
    {
     "data": {
      "text/html": [
       "<div>\n",
       "<style>\n",
       "    .dataframe thead tr:only-child th {\n",
       "        text-align: right;\n",
       "    }\n",
       "\n",
       "    .dataframe thead th {\n",
       "        text-align: left;\n",
       "    }\n",
       "\n",
       "    .dataframe tbody tr th {\n",
       "        vertical-align: top;\n",
       "    }\n",
       "</style>\n",
       "<table border=\"1\" class=\"dataframe\">\n",
       "  <thead>\n",
       "    <tr style=\"text-align: right;\">\n",
       "      <th></th>\n",
       "      <th>Time</th>\n",
       "      <th>V1</th>\n",
       "      <th>V2</th>\n",
       "      <th>V3</th>\n",
       "      <th>V4</th>\n",
       "      <th>V5</th>\n",
       "      <th>V6</th>\n",
       "      <th>V7</th>\n",
       "      <th>V8</th>\n",
       "      <th>V9</th>\n",
       "      <th>...</th>\n",
       "      <th>V21</th>\n",
       "      <th>V22</th>\n",
       "      <th>V23</th>\n",
       "      <th>V24</th>\n",
       "      <th>V25</th>\n",
       "      <th>V26</th>\n",
       "      <th>V27</th>\n",
       "      <th>V28</th>\n",
       "      <th>Amount</th>\n",
       "      <th>Class</th>\n",
       "    </tr>\n",
       "  </thead>\n",
       "  <tbody>\n",
       "    <tr>\n",
       "      <th>0</th>\n",
       "      <td>0.0</td>\n",
       "      <td>-1.359807</td>\n",
       "      <td>-0.072781</td>\n",
       "      <td>2.536347</td>\n",
       "      <td>1.378155</td>\n",
       "      <td>-0.338321</td>\n",
       "      <td>0.462388</td>\n",
       "      <td>0.239599</td>\n",
       "      <td>0.098698</td>\n",
       "      <td>0.363787</td>\n",
       "      <td>...</td>\n",
       "      <td>-0.018307</td>\n",
       "      <td>0.277838</td>\n",
       "      <td>-0.110474</td>\n",
       "      <td>0.066928</td>\n",
       "      <td>0.128539</td>\n",
       "      <td>-0.189115</td>\n",
       "      <td>0.133558</td>\n",
       "      <td>-0.021053</td>\n",
       "      <td>149.62</td>\n",
       "      <td>0</td>\n",
       "    </tr>\n",
       "    <tr>\n",
       "      <th>1</th>\n",
       "      <td>0.0</td>\n",
       "      <td>1.191857</td>\n",
       "      <td>0.266151</td>\n",
       "      <td>0.166480</td>\n",
       "      <td>0.448154</td>\n",
       "      <td>0.060018</td>\n",
       "      <td>-0.082361</td>\n",
       "      <td>-0.078803</td>\n",
       "      <td>0.085102</td>\n",
       "      <td>-0.255425</td>\n",
       "      <td>...</td>\n",
       "      <td>-0.225775</td>\n",
       "      <td>-0.638672</td>\n",
       "      <td>0.101288</td>\n",
       "      <td>-0.339846</td>\n",
       "      <td>0.167170</td>\n",
       "      <td>0.125895</td>\n",
       "      <td>-0.008983</td>\n",
       "      <td>0.014724</td>\n",
       "      <td>2.69</td>\n",
       "      <td>0</td>\n",
       "    </tr>\n",
       "    <tr>\n",
       "      <th>2</th>\n",
       "      <td>1.0</td>\n",
       "      <td>-1.358354</td>\n",
       "      <td>-1.340163</td>\n",
       "      <td>1.773209</td>\n",
       "      <td>0.379780</td>\n",
       "      <td>-0.503198</td>\n",
       "      <td>1.800499</td>\n",
       "      <td>0.791461</td>\n",
       "      <td>0.247676</td>\n",
       "      <td>-1.514654</td>\n",
       "      <td>...</td>\n",
       "      <td>0.247998</td>\n",
       "      <td>0.771679</td>\n",
       "      <td>0.909412</td>\n",
       "      <td>-0.689281</td>\n",
       "      <td>-0.327642</td>\n",
       "      <td>-0.139097</td>\n",
       "      <td>-0.055353</td>\n",
       "      <td>-0.059752</td>\n",
       "      <td>378.66</td>\n",
       "      <td>0</td>\n",
       "    </tr>\n",
       "    <tr>\n",
       "      <th>3</th>\n",
       "      <td>1.0</td>\n",
       "      <td>-0.966272</td>\n",
       "      <td>-0.185226</td>\n",
       "      <td>1.792993</td>\n",
       "      <td>-0.863291</td>\n",
       "      <td>-0.010309</td>\n",
       "      <td>1.247203</td>\n",
       "      <td>0.237609</td>\n",
       "      <td>0.377436</td>\n",
       "      <td>-1.387024</td>\n",
       "      <td>...</td>\n",
       "      <td>-0.108300</td>\n",
       "      <td>0.005274</td>\n",
       "      <td>-0.190321</td>\n",
       "      <td>-1.175575</td>\n",
       "      <td>0.647376</td>\n",
       "      <td>-0.221929</td>\n",
       "      <td>0.062723</td>\n",
       "      <td>0.061458</td>\n",
       "      <td>123.50</td>\n",
       "      <td>0</td>\n",
       "    </tr>\n",
       "    <tr>\n",
       "      <th>4</th>\n",
       "      <td>2.0</td>\n",
       "      <td>-1.158233</td>\n",
       "      <td>0.877737</td>\n",
       "      <td>1.548718</td>\n",
       "      <td>0.403034</td>\n",
       "      <td>-0.407193</td>\n",
       "      <td>0.095921</td>\n",
       "      <td>0.592941</td>\n",
       "      <td>-0.270533</td>\n",
       "      <td>0.817739</td>\n",
       "      <td>...</td>\n",
       "      <td>-0.009431</td>\n",
       "      <td>0.798278</td>\n",
       "      <td>-0.137458</td>\n",
       "      <td>0.141267</td>\n",
       "      <td>-0.206010</td>\n",
       "      <td>0.502292</td>\n",
       "      <td>0.219422</td>\n",
       "      <td>0.215153</td>\n",
       "      <td>69.99</td>\n",
       "      <td>0</td>\n",
       "    </tr>\n",
       "  </tbody>\n",
       "</table>\n",
       "<p>5 rows × 31 columns</p>\n",
       "</div>"
      ],
      "text/plain": [
       "   Time        V1        V2        V3        V4        V5        V6        V7  \\\n",
       "0   0.0 -1.359807 -0.072781  2.536347  1.378155 -0.338321  0.462388  0.239599   \n",
       "1   0.0  1.191857  0.266151  0.166480  0.448154  0.060018 -0.082361 -0.078803   \n",
       "2   1.0 -1.358354 -1.340163  1.773209  0.379780 -0.503198  1.800499  0.791461   \n",
       "3   1.0 -0.966272 -0.185226  1.792993 -0.863291 -0.010309  1.247203  0.237609   \n",
       "4   2.0 -1.158233  0.877737  1.548718  0.403034 -0.407193  0.095921  0.592941   \n",
       "\n",
       "         V8        V9  ...         V21       V22       V23       V24  \\\n",
       "0  0.098698  0.363787  ...   -0.018307  0.277838 -0.110474  0.066928   \n",
       "1  0.085102 -0.255425  ...   -0.225775 -0.638672  0.101288 -0.339846   \n",
       "2  0.247676 -1.514654  ...    0.247998  0.771679  0.909412 -0.689281   \n",
       "3  0.377436 -1.387024  ...   -0.108300  0.005274 -0.190321 -1.175575   \n",
       "4 -0.270533  0.817739  ...   -0.009431  0.798278 -0.137458  0.141267   \n",
       "\n",
       "        V25       V26       V27       V28  Amount  Class  \n",
       "0  0.128539 -0.189115  0.133558 -0.021053  149.62      0  \n",
       "1  0.167170  0.125895 -0.008983  0.014724    2.69      0  \n",
       "2 -0.327642 -0.139097 -0.055353 -0.059752  378.66      0  \n",
       "3  0.647376 -0.221929  0.062723  0.061458  123.50      0  \n",
       "4 -0.206010  0.502292  0.219422  0.215153   69.99      0  \n",
       "\n",
       "[5 rows x 31 columns]"
      ]
     },
     "execution_count": 35,
     "metadata": {},
     "output_type": "execute_result"
    }
   ],
   "source": [
    "df.head()"
   ]
  },
  {
   "cell_type": "code",
   "execution_count": 36,
   "metadata": {},
   "outputs": [
    {
     "data": {
      "text/plain": [
       "(284807, 31)"
      ]
     },
     "execution_count": 36,
     "metadata": {},
     "output_type": "execute_result"
    }
   ],
   "source": [
    "df.shape"
   ]
  },
  {
   "cell_type": "code",
   "execution_count": 37,
   "metadata": {},
   "outputs": [
    {
     "data": {
      "text/plain": [
       "Time      0\n",
       "V1        0\n",
       "V2        0\n",
       "V3        0\n",
       "V4        0\n",
       "V5        0\n",
       "V6        0\n",
       "V7        0\n",
       "V8        0\n",
       "V9        0\n",
       "V10       0\n",
       "V11       0\n",
       "V12       0\n",
       "V13       0\n",
       "V14       0\n",
       "V15       0\n",
       "V16       0\n",
       "V17       0\n",
       "V18       0\n",
       "V19       0\n",
       "V20       0\n",
       "V21       0\n",
       "V22       0\n",
       "V23       0\n",
       "V24       0\n",
       "V25       0\n",
       "V26       0\n",
       "V27       0\n",
       "V28       0\n",
       "Amount    0\n",
       "Class     0\n",
       "dtype: int64"
      ]
     },
     "execution_count": 37,
     "metadata": {},
     "output_type": "execute_result"
    }
   ],
   "source": [
    "df.isnull().sum()"
   ]
  },
  {
   "cell_type": "markdown",
   "metadata": {},
   "source": [
    "There are no null values"
   ]
  },
  {
   "cell_type": "code",
   "execution_count": 38,
   "metadata": {},
   "outputs": [
    {
     "data": {
      "text/plain": [
       "0    284315\n",
       "1       492\n",
       "Name: Class, dtype: int64"
      ]
     },
     "execution_count": 38,
     "metadata": {},
     "output_type": "execute_result"
    }
   ],
   "source": [
    "df['Class'].value_counts()"
   ]
  },
  {
   "cell_type": "code",
   "execution_count": 39,
   "metadata": {},
   "outputs": [
    {
     "data": {
      "text/plain": [
       "0.0017304750013189597"
      ]
     },
     "execution_count": 39,
     "metadata": {},
     "output_type": "execute_result"
    }
   ],
   "source": [
    "df['Class'].value_counts()[1] / df['Class'].value_counts()[0]"
   ]
  },
  {
   "cell_type": "markdown",
   "metadata": {},
   "source": [
    "We have about 0.17% fraud cases. Let's separate the fraud and valid transactions"
   ]
  },
  {
   "cell_type": "code",
   "execution_count": 40,
   "metadata": {
    "collapsed": true
   },
   "outputs": [],
   "source": [
    "fraud = df[df['Class'] == 1]\n",
    "valid = df[df['Class'] == 0]"
   ]
  },
  {
   "cell_type": "code",
   "execution_count": 41,
   "metadata": {},
   "outputs": [
    {
     "data": {
      "text/plain": [
       "(492, 31)"
      ]
     },
     "execution_count": 41,
     "metadata": {},
     "output_type": "execute_result"
    }
   ],
   "source": [
    "fraud.shape"
   ]
  },
  {
   "cell_type": "code",
   "execution_count": 42,
   "metadata": {},
   "outputs": [
    {
     "data": {
      "text/plain": [
       "(284315, 31)"
      ]
     },
     "execution_count": 42,
     "metadata": {},
     "output_type": "execute_result"
    }
   ],
   "source": [
    "valid.shape"
   ]
  },
  {
   "cell_type": "markdown",
   "metadata": {},
   "source": [
    "Let's look at the distribution of the amount in fraud vs. valid case"
   ]
  },
  {
   "cell_type": "code",
   "execution_count": 43,
   "metadata": {},
   "outputs": [
    {
     "data": {
      "text/plain": [
       "count     492.000000\n",
       "mean      122.211321\n",
       "std       256.683288\n",
       "min         0.000000\n",
       "25%         1.000000\n",
       "50%         9.250000\n",
       "75%       105.890000\n",
       "max      2125.870000\n",
       "Name: Amount, dtype: float64"
      ]
     },
     "execution_count": 43,
     "metadata": {},
     "output_type": "execute_result"
    }
   ],
   "source": [
    "fraud.Amount.describe()"
   ]
  },
  {
   "cell_type": "code",
   "execution_count": 44,
   "metadata": {},
   "outputs": [
    {
     "data": {
      "text/plain": [
       "count    284315.000000\n",
       "mean         88.291022\n",
       "std         250.105092\n",
       "min           0.000000\n",
       "25%           5.650000\n",
       "50%          22.000000\n",
       "75%          77.050000\n",
       "max       25691.160000\n",
       "Name: Amount, dtype: float64"
      ]
     },
     "execution_count": 44,
     "metadata": {},
     "output_type": "execute_result"
    }
   ],
   "source": [
    "valid.Amount.describe()"
   ]
  },
  {
   "cell_type": "markdown",
   "metadata": {},
   "source": [
    "Let's have a more graphical representation for the distribution of the amount"
   ]
  },
  {
   "cell_type": "code",
   "execution_count": 45,
   "metadata": {
    "collapsed": true
   },
   "outputs": [],
   "source": [
    "import matplotlib.pyplot as plt\n",
    "%matplotlib inline"
   ]
  },
  {
   "cell_type": "code",
   "execution_count": 46,
   "metadata": {},
   "outputs": [
    {
     "data": {
      "image/png": "[encoded data removed]",
      "text/plain": [
       "<matplotlib.figure.Figure at 0x1356cdda0>"
      ]
     },
     "metadata": {},
     "output_type": "display_data"
    }
   ],
   "source": [
    "f, (ax1, ax2) = plt.subplots(2, 1, sharex=True)\n",
    "#sharex=True allows both the subplots to share the same X axis. \n",
    "f.suptitle('Amount per transaction by class')\n",
    "\n",
    "numberBins = 400\n",
    "\n",
    "ax1.hist(fraud.Amount, bins=numberBins);\n",
    "ax1.set_title('Fraud')\n",
    "\n",
    "ax2.hist(valid.Amount, bins=numberBins);\n",
    "ax2.set_title('Normal')\n",
    "\n",
    "plt.xlabel('Amount ($)')\n",
    "plt.ylabel('Number of transactions')\n",
    "plt.xlim((0, 1000));\n",
    "#plt.yscale('log')"
   ]
  },
  {
   "cell_type": "markdown",
   "metadata": {},
   "source": [
    "Let's look at te distribution of time for fraud vs. valid transactions. "
   ]
  },
  {
   "cell_type": "code",
   "execution_count": 47,
   "metadata": {},
   "outputs": [
    {
     "data": {
      "image/png": "[encoded data removed]",
      "text/plain": [
       "<matplotlib.figure.Figure at 0x13580ab70>"
      ]
     },
     "metadata": {},
     "output_type": "display_data"
    }
   ],
   "source": [
    "f, (ax1, ax2) = plt.subplots(2, 1, sharex=True)\n",
    "\n",
    "f.suptitle('Time')\n",
    "\n",
    "ax1.hist(fraud.Time, bins=numberBins)\n",
    "ax1.set_title('fraud')\n",
    "\n",
    "ax2.hist(valid.Time, bins=numberBins)\n",
    "ax2.set_title('valid')\n",
    "\n",
    "plt.xlabel('Time')\n",
    "plt.ylabel('Number of transactions');"
   ]
  },
  {
   "cell_type": "markdown",
   "metadata": {},
   "source": [
    "Let's also look at the time of the transaction vs. amount for fraud and normal cases."
   ]
  },
  {
   "cell_type": "code",
   "execution_count": 48,
   "metadata": {},
   "outputs": [
    {
     "data": {
      "image/png": "[encoded data removed]",
      "text/plain": [
       "<matplotlib.figure.Figure at 0x10b822be0>"
      ]
     },
     "metadata": {},
     "output_type": "display_data"
    }
   ],
   "source": [
    "f, (ax1, ax2) = plt.subplots(2, 1, sharex=True)\n",
    "f.suptitle('Time of transaction vs. Amount by Class')\n",
    "\n",
    "ax1.scatter(fraud.Time, fraud.Amount)\n",
    "ax1.set_title('fraud')\n",
    "\n",
    "ax2.scatter(valid.Time, valid.Amount)\n",
    "ax2.set_title('valid');\n",
    "\n",
    "plt.xlabel('Time (in seconds)');\n",
    "plt.ylabel('Amount');"
   ]
  },
  {
   "cell_type": "code",
   "execution_count": 49,
   "metadata": {},
   "outputs": [
    {
     "data": {
      "text/plain": [
       "0    0.0\n",
       "1    0.0\n",
       "2    1.0\n",
       "3    1.0\n",
       "4    2.0\n",
       "5    2.0\n",
       "6    4.0\n",
       "7    7.0\n",
       "8    7.0\n",
       "9    9.0\n",
       "Name: Time, dtype: float64"
      ]
     },
     "execution_count": 49,
     "metadata": {},
     "output_type": "execute_result"
    }
   ],
   "source": [
    "df.Time.head(10)"
   ]
  },
  {
   "cell_type": "markdown",
   "metadata": {},
   "source": [
    "The time here is the time in seconds from the first transaction. We see (as expected) that it doesn't have any impact on whether the transaction is fraud or not. "
   ]
  },
  {
   "cell_type": "markdown",
   "metadata": {},
   "source": [
    "## Preparing the data\n",
    "\n",
    "We drop the time column and standardize the Amount column."
   ]
  },
  {
   "cell_type": "code",
   "execution_count": 50,
   "metadata": {
    "collapsed": true
   },
   "outputs": [],
   "source": [
    "from sklearn.preprocessing import StandardScaler"
   ]
  },
  {
   "cell_type": "code",
   "execution_count": 51,
   "metadata": {
    "collapsed": true
   },
   "outputs": [],
   "source": [
    "data = df.drop(['Time'], axis = 'columns')"
   ]
  },
  {
   "cell_type": "code",
   "execution_count": 52,
   "metadata": {},
   "outputs": [
    {
     "data": {
      "text/plain": [
       "0    149.62\n",
       "1      2.69\n",
       "2    378.66\n",
       "3    123.50\n",
       "4     69.99\n",
       "Name: Amount, dtype: float64"
      ]
     },
     "execution_count": 52,
     "metadata": {},
     "output_type": "execute_result"
    }
   ],
   "source": [
    "data['Amount'].head()"
   ]
  },
  {
   "cell_type": "code",
   "execution_count": 53,
   "metadata": {},
   "outputs": [
    {
     "data": {
      "text/plain": [
       "count    284807.000000\n",
       "mean         88.349619\n",
       "std         250.120109\n",
       "min           0.000000\n",
       "25%           5.600000\n",
       "50%          22.000000\n",
       "75%          77.165000\n",
       "max       25691.160000\n",
       "Name: Amount, dtype: float64"
      ]
     },
     "execution_count": 53,
     "metadata": {},
     "output_type": "execute_result"
    }
   ],
   "source": [
    "data['Amount'].describe()"
   ]
  },
  {
   "cell_type": "code",
   "execution_count": 54,
   "metadata": {
    "collapsed": true
   },
   "outputs": [],
   "source": [
    "data['Amount'] = StandardScaler().fit_transform(data['Amount'].values.reshape(-1, 1))"
   ]
  },
  {
   "cell_type": "code",
   "execution_count": 55,
   "metadata": {},
   "outputs": [
    {
     "data": {
      "text/plain": [
       "0    0.244964\n",
       "1   -0.342475\n",
       "2    1.160686\n",
       "3    0.140534\n",
       "4   -0.073403\n",
       "Name: Amount, dtype: float64"
      ]
     },
     "execution_count": 55,
     "metadata": {},
     "output_type": "execute_result"
    }
   ],
   "source": [
    "data['Amount'].head()"
   ]
  },
  {
   "cell_type": "code",
   "execution_count": 56,
   "metadata": {},
   "outputs": [
    {
     "data": {
      "text/plain": [
       "count    2.848070e+05\n",
       "mean     3.202236e-16\n",
       "std      1.000002e+00\n",
       "min     -3.532294e-01\n",
       "25%     -3.308401e-01\n",
       "50%     -2.652715e-01\n",
       "75%     -4.471707e-02\n",
       "max      1.023622e+02\n",
       "Name: Amount, dtype: float64"
      ]
     },
     "execution_count": 56,
     "metadata": {},
     "output_type": "execute_result"
    }
   ],
   "source": [
    "data['Amount'].describe()"
   ]
  },
  {
   "cell_type": "markdown",
   "metadata": {},
   "source": [
    "We train the autoencoder only on the valid transactions. "
   ]
  },
  {
   "cell_type": "code",
   "execution_count": 57,
   "metadata": {
    "collapsed": true
   },
   "outputs": [],
   "source": [
    "from sklearn.model_selection import train_test_split"
   ]
  },
  {
   "cell_type": "code",
   "execution_count": 58,
   "metadata": {
    "collapsed": true
   },
   "outputs": [],
   "source": [
    "Xtrain, Xtest = train_test_split(data, test_size = 0.2, random_state = 42)"
   ]
  },
  {
   "cell_type": "code",
   "execution_count": 59,
   "metadata": {},
   "outputs": [
    {
     "data": {
      "text/plain": [
       "0    227451\n",
       "1       394\n",
       "Name: Class, dtype: int64"
      ]
     },
     "execution_count": 59,
     "metadata": {},
     "output_type": "execute_result"
    }
   ],
   "source": [
    "Xtrain.Class.value_counts()"
   ]
  },
  {
   "cell_type": "code",
   "execution_count": 60,
   "metadata": {
    "collapsed": true
   },
   "outputs": [],
   "source": [
    "Xtrain = Xtrain[Xtrain.Class == 0]\n",
    "\n",
    "Xtrain = Xtrain.drop(['Class'], axis = 'columns')\n",
    "\n",
    "ytest = Xtest['Class']\n",
    "Xtest = Xtest.drop('Class', axis = 'columns')"
   ]
  },
  {
   "cell_type": "code",
   "execution_count": 61,
   "metadata": {},
   "outputs": [
    {
     "data": {
      "text/plain": [
       "(227451, 29)"
      ]
     },
     "execution_count": 61,
     "metadata": {},
     "output_type": "execute_result"
    }
   ],
   "source": [
    "Xtrain.shape"
   ]
  },
  {
   "cell_type": "markdown",
   "metadata": {},
   "source": [
    "## Building model"
   ]
  },
  {
   "cell_type": "markdown",
   "metadata": {},
   "source": [
    "As a first pass, we construct an Autoencoder with 4 fully connected layers with 14, 7, 7 and 29 neurons respectively. The first two layers are used for our encoding and the last two for the decoding. Additionally, L1 regularization will be used during training"
   ]
  },
  {
   "cell_type": "code",
   "execution_count": 62,
   "metadata": {},
   "outputs": [],
   "source": [
    "from keras.layers import Dense\n",
    "from keras.models import Sequential\n",
    "from keras import regularizers"
   ]
  },
  {
   "cell_type": "code",
   "execution_count": 65,
   "metadata": {
    "collapsed": true
   },
   "outputs": [],
   "source": [
    "layer1 = 14\n",
    "layer2 = 7\n",
    "layer3 = 7\n",
    "layer4 = Xtrain.shape[1]"
   ]
  },
  {
   "cell_type": "markdown",
   "metadata": {},
   "source": [
    "In autoencoders, the final has the same number of nodes as number of features. "
   ]
  },
  {
   "cell_type": "code",
   "execution_count": 67,
   "metadata": {
    "collapsed": true
   },
   "outputs": [],
   "source": [
    "autoencoder = Sequential()\n",
    "\n",
    "autoencoder.add(Dense(layer1, activation='tanh', activity_regularizer=regularizers.l1(10e-5), \\\n",
    "          input_shape=(Xtrain.shape[1],)))\n",
    "\n",
    "autoencoder.add(Dense(layer2, activation='relu'))\n",
    "\n",
    "autoencoder.add(Dense(layer3, activation='tanh'))\n",
    "\n",
    "autoencoder.add(Dense(layer4, activation='relu'))"
   ]
  },
  {
   "cell_type": "markdown",
   "metadata": {},
   "source": [
    "From the documentation: \n",
    "\n",
    "#### Example\n",
    "\n",
    "```python\n",
    "    # as first layer in a sequential model:\n",
    "    model = Sequential()\n",
    "    model.add(Dense(32, input_shape=(16,)))\n",
    "    # now the model will take as input arrays of shape (*, 16)\n",
    "    # and output arrays of shape (*, 32)\n",
    "\n",
    "    # after the first layer, you don't need to specify\n",
    "    # the size of the input anymore:\n",
    "    model.add(Dense(32))"
   ]
  },
  {
   "cell_type": "code",
   "execution_count": 70,
   "metadata": {},
   "outputs": [
    {
     "data": {
      "text/plain": [
       "29"
      ]
     },
     "execution_count": 70,
     "metadata": {},
     "output_type": "execute_result"
    }
   ],
   "source": [
    "Xtrain.shape[1]"
   ]
  },
  {
   "cell_type": "code",
   "execution_count": 69,
   "metadata": {},
   "outputs": [
    {
     "name": "stdout",
     "output_type": "stream",
     "text": [
      "_________________________________________________________________\n",
      "Layer (type)                 Output Shape              Param #   \n",
      "=================================================================\n",
      "dense_5 (Dense)              (None, 14)                420       \n",
      "_________________________________________________________________\n",
      "dense_6 (Dense)              (None, 7)                 105       \n",
      "_________________________________________________________________\n",
      "dense_7 (Dense)              (None, 7)                 56        \n",
      "_________________________________________________________________\n",
      "dense_8 (Dense)              (None, 29)                232       \n",
      "=================================================================\n",
      "Total params: 813\n",
      "Trainable params: 813\n",
      "Non-trainable params: 0\n",
      "_________________________________________________________________\n"
     ]
    }
   ],
   "source": [
    "autoencoder.summary()"
   ]
  },
  {
   "cell_type": "code",
   "execution_count": 35,
   "metadata": {},
   "outputs": [
    {
     "data": {
      "text/plain": [
       "(227451, 29)"
      ]
     },
     "execution_count": 35,
     "metadata": {},
     "output_type": "execute_result"
    }
   ],
   "source": [
    "Xtrain.shape"
   ]
  },
  {
   "cell_type": "code",
   "execution_count": 36,
   "metadata": {},
   "outputs": [
    {
     "data": {
      "text/plain": [
       "420"
      ]
     },
     "execution_count": 36,
     "metadata": {},
     "output_type": "execute_result"
    }
   ],
   "source": [
    "14 * 30"
   ]
  },
  {
   "cell_type": "code",
   "execution_count": 37,
   "metadata": {},
   "outputs": [
    {
     "data": {
      "text/plain": [
       "105"
      ]
     },
     "execution_count": 37,
     "metadata": {},
     "output_type": "execute_result"
    }
   ],
   "source": [
    "15 * 7"
   ]
  },
  {
   "cell_type": "code",
   "execution_count": 38,
   "metadata": {},
   "outputs": [
    {
     "data": {
      "text/plain": [
       "56"
      ]
     },
     "execution_count": 38,
     "metadata": {},
     "output_type": "execute_result"
    }
   ],
   "source": [
    "8 * 7"
   ]
  },
  {
   "cell_type": "code",
   "execution_count": 39,
   "metadata": {},
   "outputs": [
    {
     "data": {
      "text/plain": [
       "232"
      ]
     },
     "execution_count": 39,
     "metadata": {},
     "output_type": "execute_result"
    }
   ],
   "source": [
    "8 * 29"
   ]
  },
  {
   "cell_type": "markdown",
   "metadata": {},
   "source": [
    "Note how the number of parameters check out. Note that at each step, we have a bias unit added as well. "
   ]
  },
  {
   "cell_type": "markdown",
   "metadata": {},
   "source": [
    "Let's train our model for 100 epochs with a batch size of 32 samples and save the best performing model to a file. The ModelCheckpoint provided by Keras is really handy for such tasks. Additionally, the training progress will be exported in a format that TensorBoard understands."
   ]
  },
  {
   "cell_type": "code",
   "execution_count": 71,
   "metadata": {
    "collapsed": true
   },
   "outputs": [],
   "source": [
    "numEpoch = 100\n",
    "batchSize = 32"
   ]
  },
  {
   "cell_type": "code",
   "execution_count": 72,
   "metadata": {
    "collapsed": true
   },
   "outputs": [],
   "source": [
    "autoencoder.compile(optimizer='adam', loss='mean_squared_error', metrics=['accuracy'])"
   ]
  },
  {
   "cell_type": "code",
   "execution_count": 75,
   "metadata": {
    "collapsed": true
   },
   "outputs": [],
   "source": [
    "from keras.callbacks import ModelCheckpoint, TensorBoard, EarlyStopping"
   ]
  },
  {
   "cell_type": "code",
   "execution_count": 76,
   "metadata": {},
   "outputs": [],
   "source": [
    "checkpointer = ModelCheckpoint(filepath=\"autoencoderModel2.h5\",\n",
    "                               verbose=0,\n",
    "                               save_best_only=True)"
   ]
  },
  {
   "cell_type": "code",
   "execution_count": 77,
   "metadata": {},
   "outputs": [],
   "source": [
    "tensorboard = TensorBoard(log_dir='./logs',\n",
    "                          histogram_freq=0,\n",
    "                          write_graph=True,\n",
    "                          write_images=True)"
   ]
  },
  {
   "cell_type": "code",
   "execution_count": 78,
   "metadata": {},
   "outputs": [
    {
     "name": "stdout",
     "output_type": "stream",
     "text": [
      "Train on 227451 samples, validate on 56962 samples\n",
      "Epoch 1/100\n",
      "227451/227451 [==============================] - 11s 47us/step - loss: 0.8302 - acc: 0.5498 - val_loss: 0.8080 - val_acc: 0.6344\n",
      "Epoch 2/100\n",
      "227451/227451 [==============================] - 11s 47us/step - loss: 0.7712 - acc: 0.6288 - val_loss: 0.7936 - val_acc: 0.6393\n",
      "Epoch 3/100\n",
      "227451/227451 [==============================] - 11s 48us/step - loss: 0.7627 - acc: 0.6390 - val_loss: 0.7882 - val_acc: 0.6482\n",
      "Epoch 4/100\n",
      "227451/227451 [==============================] - 11s 47us/step - loss: 0.7582 - acc: 0.6455 - val_loss: 0.7830 - val_acc: 0.6551\n",
      "Epoch 5/100\n",
      "227451/227451 [==============================] - 11s 50us/step - loss: 0.7550 - acc: 0.6526 - val_loss: 0.7823 - val_acc: 0.6499\n",
      "Epoch 6/100\n",
      "227451/227451 [==============================] - 11s 48us/step - loss: 0.7524 - acc: 0.6570 - val_loss: 0.7793 - val_acc: 0.6592\n",
      "Epoch 7/100\n",
      "227451/227451 [==============================] - 11s 49us/step - loss: 0.7510 - acc: 0.6609 - val_loss: 0.7781 - val_acc: 0.6639\n",
      "Epoch 8/100\n",
      "227451/227451 [==============================] - 11s 49us/step - loss: 0.7494 - acc: 0.6627 - val_loss: 0.7780 - val_acc: 0.6631\n",
      "Epoch 9/100\n",
      "227451/227451 [==============================] - 11s 49us/step - loss: 0.7485 - acc: 0.6618 - val_loss: 0.7771 - val_acc: 0.6645\n",
      "Epoch 10/100\n",
      "227451/227451 [==============================] - 12s 51us/step - loss: 0.7476 - acc: 0.6648 - val_loss: 0.7756 - val_acc: 0.6752\n",
      "Epoch 11/100\n",
      "227451/227451 [==============================] - 11s 50us/step - loss: 0.7470 - acc: 0.6660 - val_loss: 0.7751 - val_acc: 0.6627\n",
      "Epoch 12/100\n",
      "227451/227451 [==============================] - 12s 52us/step - loss: 0.7464 - acc: 0.6677 - val_loss: 0.7764 - val_acc: 0.6485\n",
      "Epoch 13/100\n",
      "227451/227451 [==============================] - 12s 52us/step - loss: 0.7458 - acc: 0.6683 - val_loss: 0.7809 - val_acc: 0.6654\n",
      "Epoch 14/100\n",
      "227451/227451 [==============================] - 12s 54us/step - loss: 0.7454 - acc: 0.6690 - val_loss: 0.7750 - val_acc: 0.6709\n",
      "Epoch 15/100\n",
      "227451/227451 [==============================] - 13s 55us/step - loss: 0.7453 - acc: 0.6693 - val_loss: 0.7743 - val_acc: 0.6642\n",
      "Epoch 16/100\n",
      "227451/227451 [==============================] - 12s 54us/step - loss: 0.7452 - acc: 0.6697 - val_loss: 0.7732 - val_acc: 0.6736\n",
      "Epoch 17/100\n",
      "227451/227451 [==============================] - 12s 55us/step - loss: 0.7447 - acc: 0.6712 - val_loss: 0.7748 - val_acc: 0.6793\n",
      "Epoch 18/100\n",
      "227451/227451 [==============================] - 12s 54us/step - loss: 0.7446 - acc: 0.6707 - val_loss: 0.7769 - val_acc: 0.6664\n",
      "Epoch 19/100\n",
      "227451/227451 [==============================] - 12s 54us/step - loss: 0.7445 - acc: 0.6708 - val_loss: 0.7736 - val_acc: 0.6764\n"
     ]
    }
   ],
   "source": [
    "history = autoencoder.fit(Xtrain, Xtrain,\n",
    "                    epochs=numEpoch,\n",
    "                    batch_size=batchSize,\n",
    "                    shuffle=True,\n",
    "                    validation_data=(Xtest, Xtest),\n",
    "                    verbose=1,\n",
    "                    callbacks=[checkpointer, tensorboard, EarlyStopping(patience=3)]).history"
   ]
  },
  {
   "cell_type": "markdown",
   "metadata": {},
   "source": [
    "## Let's tune the model parameters"
   ]
  },
  {
   "cell_type": "markdown",
   "metadata": {},
   "source": [
    "**1. Increasing number of nodes**"
   ]
  },
  {
   "cell_type": "code",
   "execution_count": 86,
   "metadata": {
    "collapsed": true
   },
   "outputs": [],
   "source": [
    "layer1 = Xtrain.shape[1]\n",
    "layer2 = 7\n",
    "layer3 = 7\n",
    "layer4 = Xtrain.shape[1]"
   ]
  },
  {
   "cell_type": "code",
   "execution_count": 87,
   "metadata": {
    "collapsed": true
   },
   "outputs": [],
   "source": [
    "autoencoder = Sequential()\n",
    "\n",
    "autoencoder.add(Dense(layer1, activation='tanh', activity_regularizer=regularizers.l1(10e-5), \\\n",
    "          input_shape=(Xtrain.shape[1],)))\n",
    "\n",
    "autoencoder.add(Dense(layer2, activation='relu'))\n",
    "\n",
    "autoencoder.add(Dense(layer3, activation='tanh'))\n",
    "\n",
    "autoencoder.add(Dense(layer4, activation='relu'))"
   ]
  },
  {
   "cell_type": "code",
   "execution_count": 88,
   "metadata": {
    "collapsed": true
   },
   "outputs": [],
   "source": [
    "autoencoder.compile(optimizer='adam', loss='mean_squared_error', metrics=['accuracy'])"
   ]
  },
  {
   "cell_type": "code",
   "execution_count": 89,
   "metadata": {},
   "outputs": [
    {
     "name": "stdout",
     "output_type": "stream",
     "text": [
      "Train on 227451 samples, validate on 56962 samples\n",
      "Epoch 1/100\n",
      "227451/227451 [==============================] - 11s 49us/step - loss: 0.8168 - acc: 0.5989 - val_loss: 0.7988 - val_acc: 0.6577\n",
      "Epoch 2/100\n",
      "227451/227451 [==============================] - 11s 48us/step - loss: 0.7579 - acc: 0.6592 - val_loss: 0.7834 - val_acc: 0.6662\n",
      "Epoch 3/100\n",
      "227451/227451 [==============================] - 11s 49us/step - loss: 0.7473 - acc: 0.6654 - val_loss: 0.7793 - val_acc: 0.6644\n",
      "Epoch 4/100\n",
      "227451/227451 [==============================] - 11s 49us/step - loss: 0.7407 - acc: 0.6710 - val_loss: 0.7651 - val_acc: 0.6775\n",
      "Epoch 5/100\n",
      "227451/227451 [==============================] - 11s 49us/step - loss: 0.7291 - acc: 0.6784 - val_loss: 0.7582 - val_acc: 0.6763\n",
      "Epoch 6/100\n",
      "227451/227451 [==============================] - 11s 50us/step - loss: 0.7257 - acc: 0.6816 - val_loss: 0.7623 - val_acc: 0.6773\n",
      "Epoch 7/100\n",
      "227451/227451 [==============================] - 11s 50us/step - loss: 0.7238 - acc: 0.6845 - val_loss: 0.7602 - val_acc: 0.6832\n",
      "Epoch 8/100\n",
      "227451/227451 [==============================] - 12s 51us/step - loss: 0.7223 - acc: 0.6884 - val_loss: 0.7556 - val_acc: 0.6957\n",
      "Epoch 9/100\n",
      "227451/227451 [==============================] - 12s 51us/step - loss: 0.7209 - acc: 0.6933 - val_loss: 0.7532 - val_acc: 0.6964\n",
      "Epoch 10/100\n",
      "227451/227451 [==============================] - 13s 56us/step - loss: 0.7197 - acc: 0.6964 - val_loss: 0.7556 - val_acc: 0.6987\n",
      "Epoch 11/100\n",
      "227451/227451 [==============================] - 12s 51us/step - loss: 0.7187 - acc: 0.6995 - val_loss: 0.7516 - val_acc: 0.6970\n",
      "Epoch 12/100\n",
      "227451/227451 [==============================] - 12s 55us/step - loss: 0.7187 - acc: 0.7023 - val_loss: 0.7511 - val_acc: 0.7057\n",
      "Epoch 13/100\n",
      "227451/227451 [==============================] - 12s 52us/step - loss: 0.7171 - acc: 0.7052 - val_loss: 0.7522 - val_acc: 0.7089\n",
      "Epoch 14/100\n",
      "227451/227451 [==============================] - 12s 51us/step - loss: 0.7164 - acc: 0.7088 - val_loss: 0.7497 - val_acc: 0.7050\n",
      "Epoch 15/100\n",
      "227451/227451 [==============================] - 12s 52us/step - loss: 0.7157 - acc: 0.7109 - val_loss: 0.7493 - val_acc: 0.7220\n",
      "Epoch 16/100\n",
      "227451/227451 [==============================] - 12s 53us/step - loss: 0.7148 - acc: 0.7123 - val_loss: 0.7541 - val_acc: 0.7132\n",
      "Epoch 17/100\n",
      "227451/227451 [==============================] - 12s 53us/step - loss: 0.7146 - acc: 0.7123 - val_loss: 0.7490 - val_acc: 0.7145\n",
      "Epoch 18/100\n",
      "227451/227451 [==============================] - 12s 54us/step - loss: 0.7144 - acc: 0.7123 - val_loss: 0.7484 - val_acc: 0.7195\n",
      "Epoch 19/100\n",
      "227451/227451 [==============================] - 12s 54us/step - loss: 0.7140 - acc: 0.7131 - val_loss: 0.7491 - val_acc: 0.7125\n",
      "Epoch 20/100\n",
      "227451/227451 [==============================] - 13s 55us/step - loss: 0.7137 - acc: 0.7132 - val_loss: 0.7470 - val_acc: 0.7167\n",
      "Epoch 21/100\n",
      "227451/227451 [==============================] - 12s 55us/step - loss: 0.7139 - acc: 0.7131 - val_loss: 0.7526 - val_acc: 0.7142\n",
      "Epoch 22/100\n",
      "227451/227451 [==============================] - 13s 56us/step - loss: 0.7136 - acc: 0.7134 - val_loss: 0.7468 - val_acc: 0.7124\n",
      "Epoch 23/100\n",
      "227451/227451 [==============================] - 13s 57us/step - loss: 0.7132 - acc: 0.7137 - val_loss: 0.7482 - val_acc: 0.7173\n",
      "Epoch 24/100\n",
      "227451/227451 [==============================] - 14s 60us/step - loss: 0.7132 - acc: 0.7137 - val_loss: 0.7463 - val_acc: 0.7144\n",
      "Epoch 25/100\n",
      "227451/227451 [==============================] - 12s 52us/step - loss: 0.7134 - acc: 0.7140 - val_loss: 0.7473 - val_acc: 0.7187\n",
      "Epoch 26/100\n",
      "227451/227451 [==============================] - 11s 47us/step - loss: 0.7131 - acc: 0.7143 - val_loss: 0.7466 - val_acc: 0.7183\n",
      "Epoch 27/100\n",
      "227451/227451 [==============================] - 13s 57us/step - loss: 0.7127 - acc: 0.7135 - val_loss: 0.7541 - val_acc: 0.7000\n"
     ]
    }
   ],
   "source": [
    "history = autoencoder.fit(Xtrain, Xtrain,\n",
    "                    epochs=numEpoch,\n",
    "                    batch_size=batchSize,\n",
    "                    shuffle=True,\n",
    "                    validation_data=(Xtest, Xtest),\n",
    "                    verbose=1,\n",
    "                    callbacks=[EarlyStopping(patience=3)]).history"
   ]
  },
  {
   "cell_type": "markdown",
   "metadata": {},
   "source": [
    "**2.1 Changing the activation function**"
   ]
  },
  {
   "cell_type": "code",
   "execution_count": 90,
   "metadata": {
    "collapsed": true
   },
   "outputs": [],
   "source": [
    "autoencoder = Sequential()\n",
    "\n",
    "autoencoder.add(Dense(layer1, activation='relu', activity_regularizer=regularizers.l1(10e-5), \\\n",
    "          input_shape=(Xtrain.shape[1],)))\n",
    "\n",
    "autoencoder.add(Dense(layer2, activation='relu'))\n",
    "\n",
    "autoencoder.add(Dense(layer3, activation='relu'))\n",
    "\n",
    "autoencoder.add(Dense(layer4, activation='relu'))"
   ]
  },
  {
   "cell_type": "code",
   "execution_count": 91,
   "metadata": {
    "collapsed": true
   },
   "outputs": [],
   "source": [
    "autoencoder.compile(optimizer='adam', loss='mean_squared_error', metrics=['accuracy'])"
   ]
  },
  {
   "cell_type": "code",
   "execution_count": 92,
   "metadata": {},
   "outputs": [
    {
     "name": "stdout",
     "output_type": "stream",
     "text": [
      "Train on 227451 samples, validate on 56962 samples\n",
      "Epoch 1/100\n",
      "227451/227451 [==============================] - 13s 55us/step - loss: 0.8322 - acc: 0.4180 - val_loss: 0.8189 - val_acc: 0.4951\n",
      "Epoch 2/100\n",
      "227451/227451 [==============================] - 11s 49us/step - loss: 0.7746 - acc: 0.5069 - val_loss: 0.8027 - val_acc: 0.5203\n",
      "Epoch 3/100\n",
      "227451/227451 [==============================] - 11s 49us/step - loss: 0.7630 - acc: 0.5260 - val_loss: 0.7965 - val_acc: 0.5351\n",
      "Epoch 4/100\n",
      "227451/227451 [==============================] - 11s 49us/step - loss: 0.7586 - acc: 0.5321 - val_loss: 0.7900 - val_acc: 0.5407\n",
      "Epoch 5/100\n",
      "227451/227451 [==============================] - 11s 50us/step - loss: 0.7562 - acc: 0.5366 - val_loss: 0.7904 - val_acc: 0.5334\n",
      "Epoch 6/100\n",
      "227451/227451 [==============================] - 12s 51us/step - loss: 0.7549 - acc: 0.5345 - val_loss: 0.7861 - val_acc: 0.5396\n",
      "Epoch 7/100\n",
      "227451/227451 [==============================] - 12s 52us/step - loss: 0.7542 - acc: 0.5346 - val_loss: 0.7876 - val_acc: 0.5392\n",
      "Epoch 8/100\n",
      "227451/227451 [==============================] - 12s 52us/step - loss: 0.7538 - acc: 0.5338 - val_loss: 0.7859 - val_acc: 0.5394\n",
      "Epoch 9/100\n",
      "227451/227451 [==============================] - 12s 52us/step - loss: 0.7537 - acc: 0.5350 - val_loss: 0.7856 - val_acc: 0.5396\n",
      "Epoch 10/100\n",
      "227451/227451 [==============================] - 12s 54us/step - loss: 0.7530 - acc: 0.5350 - val_loss: 0.7879 - val_acc: 0.5372\n",
      "Epoch 11/100\n",
      "227451/227451 [==============================] - 12s 54us/step - loss: 0.7529 - acc: 0.5349 - val_loss: 0.7852 - val_acc: 0.5329\n",
      "Epoch 12/100\n",
      "227451/227451 [==============================] - 13s 56us/step - loss: 0.7526 - acc: 0.5365 - val_loss: 0.7845 - val_acc: 0.5453\n",
      "Epoch 13/100\n",
      "227451/227451 [==============================] - 12s 54us/step - loss: 0.7526 - acc: 0.5374 - val_loss: 0.7831 - val_acc: 0.5409\n",
      "Epoch 14/100\n",
      "227451/227451 [==============================] - 12s 54us/step - loss: 0.7522 - acc: 0.5378 - val_loss: 0.7908 - val_acc: 0.5362\n",
      "Epoch 15/100\n",
      "227451/227451 [==============================] - 13s 55us/step - loss: 0.7526 - acc: 0.5377 - val_loss: 0.7842 - val_acc: 0.5411\n",
      "Epoch 16/100\n",
      "227451/227451 [==============================] - 13s 55us/step - loss: 0.7521 - acc: 0.5389 - val_loss: 0.7840 - val_acc: 0.5449\n"
     ]
    }
   ],
   "source": [
    "history = autoencoder.fit(Xtrain, Xtrain,\n",
    "                    epochs=numEpoch,\n",
    "                    batch_size=batchSize,\n",
    "                    shuffle=True,\n",
    "                    validation_data=(Xtest, Xtest),\n",
    "                    verbose=1,\n",
    "                    callbacks=[EarlyStopping(patience=3)]).history"
   ]
  },
  {
   "cell_type": "markdown",
   "metadata": {},
   "source": [
    "**2.2 Changing the activation function**"
   ]
  },
  {
   "cell_type": "code",
   "execution_count": 93,
   "metadata": {
    "collapsed": true
   },
   "outputs": [],
   "source": [
    "autoencoder = Sequential()\n",
    "\n",
    "autoencoder.add(Dense(layer1, activation='tanh', activity_regularizer=regularizers.l1(10e-5), \\\n",
    "          input_shape=(Xtrain.shape[1],)))\n",
    "\n",
    "autoencoder.add(Dense(layer2, activation='tanh'))\n",
    "\n",
    "autoencoder.add(Dense(layer3, activation='tanh'))\n",
    "\n",
    "autoencoder.add(Dense(layer4, activation='tanh'))"
   ]
  },
  {
   "cell_type": "code",
   "execution_count": 94,
   "metadata": {
    "collapsed": true
   },
   "outputs": [],
   "source": [
    "autoencoder.compile(optimizer='adam', loss='mean_squared_error', metrics=['accuracy'])"
   ]
  },
  {
   "cell_type": "code",
   "execution_count": 95,
   "metadata": {},
   "outputs": [
    {
     "name": "stdout",
     "output_type": "stream",
     "text": [
      "Train on 227451 samples, validate on 56962 samples\n",
      "Epoch 1/100\n",
      "227451/227451 [==============================] - 12s 52us/step - loss: 0.7391 - acc: 0.4212 - val_loss: 0.7140 - val_acc: 0.4333\n",
      "Epoch 2/100\n",
      "227451/227451 [==============================] - 11s 50us/step - loss: 0.6803 - acc: 0.4437 - val_loss: 0.7002 - val_acc: 0.4565\n",
      "Epoch 3/100\n",
      "227451/227451 [==============================] - 12s 51us/step - loss: 0.6713 - acc: 0.4486 - val_loss: 0.6949 - val_acc: 0.4506\n",
      "Epoch 4/100\n",
      "227451/227451 [==============================] - 12s 51us/step - loss: 0.6676 - acc: 0.4476 - val_loss: 0.6920 - val_acc: 0.4476\n",
      "Epoch 5/100\n",
      "227451/227451 [==============================] - 12s 52us/step - loss: 0.6651 - acc: 0.4418 - val_loss: 0.6897 - val_acc: 0.4499\n",
      "Epoch 6/100\n",
      "227451/227451 [==============================] - 12s 53us/step - loss: 0.6634 - acc: 0.4390 - val_loss: 0.6879 - val_acc: 0.4382\n",
      "Epoch 7/100\n",
      "227451/227451 [==============================] - 12s 54us/step - loss: 0.6620 - acc: 0.4361 - val_loss: 0.6866 - val_acc: 0.4341\n",
      "Epoch 8/100\n",
      "227451/227451 [==============================] - 13s 56us/step - loss: 0.6610 - acc: 0.4353 - val_loss: 0.6874 - val_acc: 0.4372\n",
      "Epoch 9/100\n",
      "227451/227451 [==============================] - 12s 54us/step - loss: 0.6599 - acc: 0.4351 - val_loss: 0.6872 - val_acc: 0.4430\n",
      "Epoch 10/100\n",
      "227451/227451 [==============================] - 13s 55us/step - loss: 0.6588 - acc: 0.4350 - val_loss: 0.6845 - val_acc: 0.4351\n",
      "Epoch 11/100\n",
      "227451/227451 [==============================] - 13s 55us/step - loss: 0.6580 - acc: 0.4340 - val_loss: 0.6839 - val_acc: 0.4310\n",
      "Epoch 12/100\n",
      "227451/227451 [==============================] - 13s 56us/step - loss: 0.6573 - acc: 0.4325 - val_loss: 0.6838 - val_acc: 0.4356\n",
      "Epoch 13/100\n",
      "227451/227451 [==============================] - 13s 57us/step - loss: 0.6561 - acc: 0.4329 - val_loss: 0.6828 - val_acc: 0.4377\n",
      "Epoch 14/100\n",
      "227451/227451 [==============================] - 13s 56us/step - loss: 0.6554 - acc: 0.4355 - val_loss: 0.6828 - val_acc: 0.4326\n",
      "Epoch 15/100\n",
      "227451/227451 [==============================] - 13s 57us/step - loss: 0.6548 - acc: 0.4354 - val_loss: 0.6845 - val_acc: 0.4305\n",
      "Epoch 16/100\n",
      "227451/227451 [==============================] - 13s 57us/step - loss: 0.6543 - acc: 0.4363 - val_loss: 0.6801 - val_acc: 0.4314\n",
      "Epoch 17/100\n",
      "227451/227451 [==============================] - 13s 57us/step - loss: 0.6539 - acc: 0.4355 - val_loss: 0.6795 - val_acc: 0.4306\n",
      "Epoch 18/100\n",
      "227451/227451 [==============================] - 13s 58us/step - loss: 0.6536 - acc: 0.4360 - val_loss: 0.6805 - val_acc: 0.4317\n",
      "Epoch 19/100\n",
      "227451/227451 [==============================] - 14s 59us/step - loss: 0.6533 - acc: 0.4353 - val_loss: 0.6789 - val_acc: 0.4413\n",
      "Epoch 20/100\n",
      "227451/227451 [==============================] - 13s 56us/step - loss: 0.6531 - acc: 0.4350 - val_loss: 0.6781 - val_acc: 0.4362\n",
      "Epoch 21/100\n",
      "227451/227451 [==============================] - 13s 56us/step - loss: 0.6528 - acc: 0.4354 - val_loss: 0.6797 - val_acc: 0.4395\n",
      "Epoch 22/100\n",
      "227451/227451 [==============================] - 13s 56us/step - loss: 0.6526 - acc: 0.4348 - val_loss: 0.6776 - val_acc: 0.4326\n",
      "Epoch 23/100\n",
      "227451/227451 [==============================] - 13s 56us/step - loss: 0.6525 - acc: 0.4341 - val_loss: 0.6793 - val_acc: 0.4389\n",
      "Epoch 24/100\n",
      "227451/227451 [==============================] - 13s 57us/step - loss: 0.6523 - acc: 0.4351 - val_loss: 0.6772 - val_acc: 0.4293\n",
      "Epoch 25/100\n",
      "227451/227451 [==============================] - 13s 57us/step - loss: 0.6525 - acc: 0.4344 - val_loss: 0.6767 - val_acc: 0.4313\n",
      "Epoch 26/100\n",
      "227451/227451 [==============================] - 13s 58us/step - loss: 0.6521 - acc: 0.4345 - val_loss: 0.6790 - val_acc: 0.4439\n",
      "Epoch 27/100\n",
      "227451/227451 [==============================] - 13s 58us/step - loss: 0.6519 - acc: 0.4345 - val_loss: 0.6779 - val_acc: 0.4298\n",
      "Epoch 28/100\n",
      "227451/227451 [==============================] - 13s 59us/step - loss: 0.6518 - acc: 0.4344 - val_loss: 0.6759 - val_acc: 0.4322\n",
      "Epoch 29/100\n",
      "227451/227451 [==============================] - 13s 57us/step - loss: 0.6516 - acc: 0.4351 - val_loss: 0.6768 - val_acc: 0.4327\n",
      "Epoch 30/100\n",
      "227451/227451 [==============================] - 13s 59us/step - loss: 0.6518 - acc: 0.4358 - val_loss: 0.6782 - val_acc: 0.4246\n",
      "Epoch 31/100\n",
      "227451/227451 [==============================] - 13s 59us/step - loss: 0.6513 - acc: 0.4357 - val_loss: 0.6773 - val_acc: 0.4337\n"
     ]
    }
   ],
   "source": [
    "history = autoencoder.fit(Xtrain, Xtrain,\n",
    "                    epochs=numEpoch,\n",
    "                    batch_size=batchSize,\n",
    "                    shuffle=True,\n",
    "                    validation_data=(Xtest, Xtest),\n",
    "                    verbose=1,\n",
    "                    callbacks=[EarlyStopping(patience=3)]).history"
   ]
  },
  {
   "cell_type": "code",
   "execution_count": null,
   "metadata": {
    "collapsed": true
   },
   "outputs": [],
   "source": []
  },
  {
   "cell_type": "markdown",
   "metadata": {},
   "source": [
    "## Evaluation"
   ]
  },
  {
   "cell_type": "code",
   "execution_count": 49,
   "metadata": {},
   "outputs": [
    {
     "data": {
      "text/plain": [
       "dict"
      ]
     },
     "execution_count": 49,
     "metadata": {},
     "output_type": "execute_result"
    }
   ],
   "source": [
    "type(history)"
   ]
  },
  {
   "cell_type": "code",
   "execution_count": 50,
   "metadata": {},
   "outputs": [
    {
     "data": {
      "text/plain": [
       "dict_keys(['val_loss', 'val_acc', 'loss', 'acc'])"
      ]
     },
     "execution_count": 50,
     "metadata": {},
     "output_type": "execute_result"
    }
   ],
   "source": [
    "history.keys()"
   ]
  },
  {
   "cell_type": "code",
   "execution_count": 53,
   "metadata": {},
   "outputs": [
    {
     "data": {
      "text/plain": [
       "[0.7761044334021687,\n",
       " 0.7728777687832956,\n",
       " 0.7701167724167559,\n",
       " 0.7679852686638681,\n",
       " 0.7665447594122871,\n",
       " 0.7649855586480994,\n",
       " 0.7641122535459218,\n",
       " 0.7633742649144221,\n",
       " 0.7628157844590668,\n",
       " 0.7624578003127837,\n",
       " 0.7620371639884207,\n",
       " 0.7618202296435831,\n",
       " 0.7616840608213225,\n",
       " 0.7614316767008104,\n",
       " 0.7614041989700511,\n",
       " 0.761212007623036,\n",
       " 0.7613907455461164,\n",
       " 0.7611809040592742,\n",
       " 0.7608114649746116,\n",
       " 0.7606323724206532]"
      ]
     },
     "execution_count": 53,
     "metadata": {},
     "output_type": "execute_result"
    }
   ],
   "source": [
    "history['loss'][:20]"
   ]
  },
  {
   "cell_type": "code",
   "execution_count": 54,
   "metadata": {},
   "outputs": [
    {
     "data": {
      "image/png": "[encoded data removed]",
      "text/plain": [
       "<matplotlib.figure.Figure at 0x133950cc0>"
      ]
     },
     "metadata": {},
     "output_type": "display_data"
    }
   ],
   "source": [
    "plt.plot(history['loss']);\n",
    "plt.plot(history['val_loss']);\n",
    "plt.title('model loss')\n",
    "plt.ylabel('loss')\n",
    "plt.xlabel('epoch')\n",
    "plt.legend(['training set loss', 'validation set loss']);"
   ]
  },
  {
   "cell_type": "markdown",
   "metadata": {},
   "source": [
    "**Let's now look at the reconstruction error**"
   ]
  },
  {
   "cell_type": "code",
   "execution_count": 55,
   "metadata": {
    "collapsed": true
   },
   "outputs": [],
   "source": [
    "predictions = autoencoder.predict(Xtest)"
   ]
  },
  {
   "cell_type": "code",
   "execution_count": 56,
   "metadata": {},
   "outputs": [
    {
     "data": {
      "text/plain": [
       "array([[0.        , 5.6368365 , 0.        , ..., 1.1145061 , 0.        ,\n",
       "        0.        ],\n",
       "       [0.4581251 , 0.        , 0.08737671, ..., 0.        , 0.        ,\n",
       "        0.        ],\n",
       "       [1.3623562 , 0.        , 0.        , ..., 0.        , 0.        ,\n",
       "        0.        ],\n",
       "       ...,\n",
       "       [0.        , 0.09652805, 0.        , ..., 0.        , 0.        ,\n",
       "        0.        ],\n",
       "       [0.        , 0.6890912 , 1.6088597 , ..., 0.        , 0.        ,\n",
       "        0.        ],\n",
       "       [0.        , 1.0420175 , 0.3029219 , ..., 0.        , 0.        ,\n",
       "        0.        ]], dtype=float32)"
      ]
     },
     "execution_count": 56,
     "metadata": {},
     "output_type": "execute_result"
    }
   ],
   "source": [
    "predictions"
   ]
  },
  {
   "cell_type": "code",
   "execution_count": 57,
   "metadata": {
    "collapsed": true
   },
   "outputs": [],
   "source": [
    "import numpy as np"
   ]
  },
  {
   "cell_type": "code",
   "execution_count": 58,
   "metadata": {},
   "outputs": [
    {
     "data": {
      "text/html": [
       "<div>\n",
       "<style>\n",
       "    .dataframe thead tr:only-child th {\n",
       "        text-align: right;\n",
       "    }\n",
       "\n",
       "    .dataframe thead th {\n",
       "        text-align: left;\n",
       "    }\n",
       "\n",
       "    .dataframe tbody tr th {\n",
       "        vertical-align: top;\n",
       "    }\n",
       "</style>\n",
       "<table border=\"1\" class=\"dataframe\">\n",
       "  <thead>\n",
       "    <tr style=\"text-align: right;\">\n",
       "      <th></th>\n",
       "      <th>V1</th>\n",
       "      <th>V2</th>\n",
       "      <th>V3</th>\n",
       "      <th>V4</th>\n",
       "      <th>V5</th>\n",
       "      <th>V6</th>\n",
       "      <th>V7</th>\n",
       "      <th>V8</th>\n",
       "      <th>V9</th>\n",
       "      <th>V10</th>\n",
       "      <th>...</th>\n",
       "      <th>V20</th>\n",
       "      <th>V21</th>\n",
       "      <th>V22</th>\n",
       "      <th>V23</th>\n",
       "      <th>V24</th>\n",
       "      <th>V25</th>\n",
       "      <th>V26</th>\n",
       "      <th>V27</th>\n",
       "      <th>V28</th>\n",
       "      <th>Amount</th>\n",
       "    </tr>\n",
       "  </thead>\n",
       "  <tbody>\n",
       "    <tr>\n",
       "      <th>43428</th>\n",
       "      <td>-16.526507</td>\n",
       "      <td>8.584972</td>\n",
       "      <td>-18.649853</td>\n",
       "      <td>9.505594</td>\n",
       "      <td>-13.793819</td>\n",
       "      <td>-2.832404</td>\n",
       "      <td>-16.701694</td>\n",
       "      <td>7.517344</td>\n",
       "      <td>-8.507059</td>\n",
       "      <td>-14.110184</td>\n",
       "      <td>...</td>\n",
       "      <td>-1.514923</td>\n",
       "      <td>1.190739</td>\n",
       "      <td>-1.127670</td>\n",
       "      <td>-2.358579</td>\n",
       "      <td>0.673461</td>\n",
       "      <td>-1.413700</td>\n",
       "      <td>-0.462762</td>\n",
       "      <td>-2.018575</td>\n",
       "      <td>-1.042804</td>\n",
       "      <td>1.102834</td>\n",
       "    </tr>\n",
       "    <tr>\n",
       "      <th>49906</th>\n",
       "      <td>0.339812</td>\n",
       "      <td>-2.743745</td>\n",
       "      <td>-0.134070</td>\n",
       "      <td>-1.385729</td>\n",
       "      <td>-1.451413</td>\n",
       "      <td>1.015887</td>\n",
       "      <td>-0.524379</td>\n",
       "      <td>0.224060</td>\n",
       "      <td>0.899746</td>\n",
       "      <td>-0.565012</td>\n",
       "      <td>...</td>\n",
       "      <td>0.506044</td>\n",
       "      <td>-0.213436</td>\n",
       "      <td>-0.942525</td>\n",
       "      <td>-0.526819</td>\n",
       "      <td>-1.156992</td>\n",
       "      <td>0.311211</td>\n",
       "      <td>-0.746647</td>\n",
       "      <td>0.040996</td>\n",
       "      <td>0.102038</td>\n",
       "      <td>1.726255</td>\n",
       "    </tr>\n",
       "    <tr>\n",
       "      <th>29474</th>\n",
       "      <td>1.399590</td>\n",
       "      <td>-0.590701</td>\n",
       "      <td>0.168619</td>\n",
       "      <td>-1.029950</td>\n",
       "      <td>-0.539806</td>\n",
       "      <td>0.040444</td>\n",
       "      <td>-0.712567</td>\n",
       "      <td>0.002299</td>\n",
       "      <td>-0.971747</td>\n",
       "      <td>0.756801</td>\n",
       "      <td>...</td>\n",
       "      <td>0.212877</td>\n",
       "      <td>0.102398</td>\n",
       "      <td>0.168269</td>\n",
       "      <td>-0.166639</td>\n",
       "      <td>-0.810250</td>\n",
       "      <td>0.505083</td>\n",
       "      <td>-0.232340</td>\n",
       "      <td>0.011409</td>\n",
       "      <td>0.004634</td>\n",
       "      <td>-0.229289</td>\n",
       "    </tr>\n",
       "    <tr>\n",
       "      <th>276481</th>\n",
       "      <td>-0.432071</td>\n",
       "      <td>1.647895</td>\n",
       "      <td>-1.669361</td>\n",
       "      <td>-0.349504</td>\n",
       "      <td>0.785785</td>\n",
       "      <td>-0.630647</td>\n",
       "      <td>0.276990</td>\n",
       "      <td>0.586025</td>\n",
       "      <td>-0.484715</td>\n",
       "      <td>-1.376648</td>\n",
       "      <td>...</td>\n",
       "      <td>-0.244633</td>\n",
       "      <td>0.358932</td>\n",
       "      <td>0.873663</td>\n",
       "      <td>-0.178642</td>\n",
       "      <td>-0.017171</td>\n",
       "      <td>-0.207392</td>\n",
       "      <td>-0.157756</td>\n",
       "      <td>-0.237386</td>\n",
       "      <td>0.001934</td>\n",
       "      <td>-0.347232</td>\n",
       "    </tr>\n",
       "    <tr>\n",
       "      <th>278846</th>\n",
       "      <td>2.014160</td>\n",
       "      <td>-0.137394</td>\n",
       "      <td>-1.015839</td>\n",
       "      <td>0.327269</td>\n",
       "      <td>-0.182179</td>\n",
       "      <td>-0.956571</td>\n",
       "      <td>0.043241</td>\n",
       "      <td>-0.160746</td>\n",
       "      <td>0.363241</td>\n",
       "      <td>0.259452</td>\n",
       "      <td>...</td>\n",
       "      <td>-0.255293</td>\n",
       "      <td>-0.238644</td>\n",
       "      <td>-0.616400</td>\n",
       "      <td>0.347045</td>\n",
       "      <td>0.061561</td>\n",
       "      <td>-0.360196</td>\n",
       "      <td>0.174730</td>\n",
       "      <td>-0.078043</td>\n",
       "      <td>-0.070571</td>\n",
       "      <td>-0.349671</td>\n",
       "    </tr>\n",
       "  </tbody>\n",
       "</table>\n",
       "<p>5 rows × 29 columns</p>\n",
       "</div>"
      ],
      "text/plain": [
       "               V1        V2         V3        V4         V5        V6  \\\n",
       "43428  -16.526507  8.584972 -18.649853  9.505594 -13.793819 -2.832404   \n",
       "49906    0.339812 -2.743745  -0.134070 -1.385729  -1.451413  1.015887   \n",
       "29474    1.399590 -0.590701   0.168619 -1.029950  -0.539806  0.040444   \n",
       "276481  -0.432071  1.647895  -1.669361 -0.349504   0.785785 -0.630647   \n",
       "278846   2.014160 -0.137394  -1.015839  0.327269  -0.182179 -0.956571   \n",
       "\n",
       "               V7        V8        V9        V10    ...          V20  \\\n",
       "43428  -16.701694  7.517344 -8.507059 -14.110184    ...    -1.514923   \n",
       "49906   -0.524379  0.224060  0.899746  -0.565012    ...     0.506044   \n",
       "29474   -0.712567  0.002299 -0.971747   0.756801    ...     0.212877   \n",
       "276481   0.276990  0.586025 -0.484715  -1.376648    ...    -0.244633   \n",
       "278846   0.043241 -0.160746  0.363241   0.259452    ...    -0.255293   \n",
       "\n",
       "             V21       V22       V23       V24       V25       V26       V27  \\\n",
       "43428   1.190739 -1.127670 -2.358579  0.673461 -1.413700 -0.462762 -2.018575   \n",
       "49906  -0.213436 -0.942525 -0.526819 -1.156992  0.311211 -0.746647  0.040996   \n",
       "29474   0.102398  0.168269 -0.166639 -0.810250  0.505083 -0.232340  0.011409   \n",
       "276481  0.358932  0.873663 -0.178642 -0.017171 -0.207392 -0.157756 -0.237386   \n",
       "278846 -0.238644 -0.616400  0.347045  0.061561 -0.360196  0.174730 -0.078043   \n",
       "\n",
       "             V28    Amount  \n",
       "43428  -1.042804  1.102834  \n",
       "49906   0.102038  1.726255  \n",
       "29474   0.004634 -0.229289  \n",
       "276481  0.001934 -0.347232  \n",
       "278846 -0.070571 -0.349671  \n",
       "\n",
       "[5 rows x 29 columns]"
      ]
     },
     "execution_count": 58,
     "metadata": {},
     "output_type": "execute_result"
    }
   ],
   "source": [
    "Xtest.head()"
   ]
  },
  {
   "cell_type": "code",
   "execution_count": 59,
   "metadata": {},
   "outputs": [
    {
     "data": {
      "text/html": [
       "<div>\n",
       "<style>\n",
       "    .dataframe thead tr:only-child th {\n",
       "        text-align: right;\n",
       "    }\n",
       "\n",
       "    .dataframe thead th {\n",
       "        text-align: left;\n",
       "    }\n",
       "\n",
       "    .dataframe tbody tr th {\n",
       "        vertical-align: top;\n",
       "    }\n",
       "</style>\n",
       "<table border=\"1\" class=\"dataframe\">\n",
       "  <thead>\n",
       "    <tr style=\"text-align: right;\">\n",
       "      <th></th>\n",
       "      <th>V1</th>\n",
       "      <th>V2</th>\n",
       "      <th>V3</th>\n",
       "      <th>V4</th>\n",
       "      <th>V5</th>\n",
       "      <th>V6</th>\n",
       "      <th>V7</th>\n",
       "      <th>V8</th>\n",
       "      <th>V9</th>\n",
       "      <th>V10</th>\n",
       "      <th>...</th>\n",
       "      <th>V20</th>\n",
       "      <th>V21</th>\n",
       "      <th>V22</th>\n",
       "      <th>V23</th>\n",
       "      <th>V24</th>\n",
       "      <th>V25</th>\n",
       "      <th>V26</th>\n",
       "      <th>V27</th>\n",
       "      <th>V28</th>\n",
       "      <th>Amount</th>\n",
       "    </tr>\n",
       "  </thead>\n",
       "  <tbody>\n",
       "    <tr>\n",
       "      <th>43428</th>\n",
       "      <td>273.125419</td>\n",
       "      <td>8.691502</td>\n",
       "      <td>347.817024</td>\n",
       "      <td>90.356308</td>\n",
       "      <td>190.269430</td>\n",
       "      <td>8.022514</td>\n",
       "      <td>278.946592</td>\n",
       "      <td>56.510459</td>\n",
       "      <td>72.370047</td>\n",
       "      <td>199.097305</td>\n",
       "      <td>...</td>\n",
       "      <td>2.294993</td>\n",
       "      <td>1.417859</td>\n",
       "      <td>1.271640</td>\n",
       "      <td>9.228744</td>\n",
       "      <td>0.453550</td>\n",
       "      <td>1.998547</td>\n",
       "      <td>0.214149</td>\n",
       "      <td>9.816199</td>\n",
       "      <td>1.087441</td>\n",
       "      <td>1.216242</td>\n",
       "    </tr>\n",
       "    <tr>\n",
       "      <th>49906</th>\n",
       "      <td>0.013998</td>\n",
       "      <td>7.528138</td>\n",
       "      <td>0.049038</td>\n",
       "      <td>1.920246</td>\n",
       "      <td>2.106601</td>\n",
       "      <td>0.270260</td>\n",
       "      <td>0.274973</td>\n",
       "      <td>0.003564</td>\n",
       "      <td>0.097142</td>\n",
       "      <td>0.319238</td>\n",
       "      <td>...</td>\n",
       "      <td>0.256080</td>\n",
       "      <td>0.045555</td>\n",
       "      <td>0.888353</td>\n",
       "      <td>0.277538</td>\n",
       "      <td>1.338630</td>\n",
       "      <td>0.096852</td>\n",
       "      <td>0.557481</td>\n",
       "      <td>0.001681</td>\n",
       "      <td>0.010412</td>\n",
       "      <td>2.979957</td>\n",
       "    </tr>\n",
       "    <tr>\n",
       "      <th>29474</th>\n",
       "      <td>0.001386</td>\n",
       "      <td>0.348928</td>\n",
       "      <td>0.028432</td>\n",
       "      <td>1.060798</td>\n",
       "      <td>0.291391</td>\n",
       "      <td>0.001636</td>\n",
       "      <td>0.507751</td>\n",
       "      <td>0.000005</td>\n",
       "      <td>0.944292</td>\n",
       "      <td>0.003604</td>\n",
       "      <td>...</td>\n",
       "      <td>0.045317</td>\n",
       "      <td>0.010485</td>\n",
       "      <td>0.002116</td>\n",
       "      <td>0.027769</td>\n",
       "      <td>0.656505</td>\n",
       "      <td>0.255109</td>\n",
       "      <td>0.053982</td>\n",
       "      <td>0.000130</td>\n",
       "      <td>0.000021</td>\n",
       "      <td>0.052573</td>\n",
       "    </tr>\n",
       "    <tr>\n",
       "      <th>276481</th>\n",
       "      <td>0.186685</td>\n",
       "      <td>0.014945</td>\n",
       "      <td>2.786765</td>\n",
       "      <td>0.251617</td>\n",
       "      <td>0.096685</td>\n",
       "      <td>0.397715</td>\n",
       "      <td>0.002910</td>\n",
       "      <td>0.343425</td>\n",
       "      <td>0.234949</td>\n",
       "      <td>1.895160</td>\n",
       "      <td>...</td>\n",
       "      <td>0.059845</td>\n",
       "      <td>0.128832</td>\n",
       "      <td>0.763287</td>\n",
       "      <td>0.031913</td>\n",
       "      <td>0.000295</td>\n",
       "      <td>0.043011</td>\n",
       "      <td>0.024887</td>\n",
       "      <td>0.056352</td>\n",
       "      <td>0.000004</td>\n",
       "      <td>0.120570</td>\n",
       "    </tr>\n",
       "    <tr>\n",
       "      <th>278846</th>\n",
       "      <td>0.014773</td>\n",
       "      <td>0.018877</td>\n",
       "      <td>1.031929</td>\n",
       "      <td>0.107105</td>\n",
       "      <td>0.033189</td>\n",
       "      <td>0.915027</td>\n",
       "      <td>0.000379</td>\n",
       "      <td>0.025839</td>\n",
       "      <td>0.131944</td>\n",
       "      <td>0.067315</td>\n",
       "      <td>...</td>\n",
       "      <td>0.065175</td>\n",
       "      <td>0.056951</td>\n",
       "      <td>0.379950</td>\n",
       "      <td>0.120440</td>\n",
       "      <td>0.003790</td>\n",
       "      <td>0.129741</td>\n",
       "      <td>0.030531</td>\n",
       "      <td>0.006091</td>\n",
       "      <td>0.004980</td>\n",
       "      <td>0.122270</td>\n",
       "    </tr>\n",
       "  </tbody>\n",
       "</table>\n",
       "<p>5 rows × 29 columns</p>\n",
       "</div>"
      ],
      "text/plain": [
       "                V1        V2          V3         V4          V5        V6  \\\n",
       "43428   273.125419  8.691502  347.817024  90.356308  190.269430  8.022514   \n",
       "49906     0.013998  7.528138    0.049038   1.920246    2.106601  0.270260   \n",
       "29474     0.001386  0.348928    0.028432   1.060798    0.291391  0.001636   \n",
       "276481    0.186685  0.014945    2.786765   0.251617    0.096685  0.397715   \n",
       "278846    0.014773  0.018877    1.031929   0.107105    0.033189  0.915027   \n",
       "\n",
       "                V7         V8         V9         V10    ...          V20  \\\n",
       "43428   278.946592  56.510459  72.370047  199.097305    ...     2.294993   \n",
       "49906     0.274973   0.003564   0.097142    0.319238    ...     0.256080   \n",
       "29474     0.507751   0.000005   0.944292    0.003604    ...     0.045317   \n",
       "276481    0.002910   0.343425   0.234949    1.895160    ...     0.059845   \n",
       "278846    0.000379   0.025839   0.131944    0.067315    ...     0.065175   \n",
       "\n",
       "             V21       V22       V23       V24       V25       V26       V27  \\\n",
       "43428   1.417859  1.271640  9.228744  0.453550  1.998547  0.214149  9.816199   \n",
       "49906   0.045555  0.888353  0.277538  1.338630  0.096852  0.557481  0.001681   \n",
       "29474   0.010485  0.002116  0.027769  0.656505  0.255109  0.053982  0.000130   \n",
       "276481  0.128832  0.763287  0.031913  0.000295  0.043011  0.024887  0.056352   \n",
       "278846  0.056951  0.379950  0.120440  0.003790  0.129741  0.030531  0.006091   \n",
       "\n",
       "             V28    Amount  \n",
       "43428   1.087441  1.216242  \n",
       "49906   0.010412  2.979957  \n",
       "29474   0.000021  0.052573  \n",
       "276481  0.000004  0.120570  \n",
       "278846  0.004980  0.122270  \n",
       "\n",
       "[5 rows x 29 columns]"
      ]
     },
     "execution_count": 59,
     "metadata": {},
     "output_type": "execute_result"
    }
   ],
   "source": [
    "np.power(Xtest - predictions, 2).head()"
   ]
  },
  {
   "cell_type": "code",
   "execution_count": 60,
   "metadata": {
    "scrolled": true
   },
   "outputs": [
    {
     "data": {
      "text/plain": [
       "V1    2.684888\n",
       "V2    1.775939\n",
       "V3    1.541900\n",
       "V4    0.991421\n",
       "V5    1.069581\n",
       "dtype: float64"
      ]
     },
     "execution_count": 60,
     "metadata": {},
     "output_type": "execute_result"
    }
   ],
   "source": [
    "np.mean(np.power(Xtest - predictions, 2), axis = 'rows').head()"
   ]
  },
  {
   "cell_type": "code",
   "execution_count": 61,
   "metadata": {},
   "outputs": [
    {
     "data": {
      "text/plain": [
       "43428     79.818455\n",
       "49906      0.926384\n",
       "29474      0.221266\n",
       "276481     0.373049\n",
       "278846     0.154457\n",
       "dtype: float64"
      ]
     },
     "execution_count": 61,
     "metadata": {},
     "output_type": "execute_result"
    }
   ],
   "source": [
    "np.mean(np.power(Xtest - predictions, 2), axis = 'columns').head()"
   ]
  },
  {
   "cell_type": "code",
   "execution_count": 62,
   "metadata": {
    "collapsed": true
   },
   "outputs": [],
   "source": [
    "mse = np.mean(np.power(Xtest - predictions, 2), axis = 'columns')"
   ]
  },
  {
   "cell_type": "code",
   "execution_count": 63,
   "metadata": {
    "collapsed": true
   },
   "outputs": [],
   "source": [
    "reconstructionErrorDF = pd.DataFrame({'mse': mse, 'trueClass': ytest})"
   ]
  },
  {
   "cell_type": "code",
   "execution_count": 64,
   "metadata": {},
   "outputs": [
    {
     "data": {
      "text/html": [
       "<div>\n",
       "<style>\n",
       "    .dataframe thead tr:only-child th {\n",
       "        text-align: right;\n",
       "    }\n",
       "\n",
       "    .dataframe thead th {\n",
       "        text-align: left;\n",
       "    }\n",
       "\n",
       "    .dataframe tbody tr th {\n",
       "        vertical-align: top;\n",
       "    }\n",
       "</style>\n",
       "<table border=\"1\" class=\"dataframe\">\n",
       "  <thead>\n",
       "    <tr style=\"text-align: right;\">\n",
       "      <th></th>\n",
       "      <th>mse</th>\n",
       "      <th>trueClass</th>\n",
       "    </tr>\n",
       "  </thead>\n",
       "  <tbody>\n",
       "    <tr>\n",
       "      <th>43428</th>\n",
       "      <td>79.818455</td>\n",
       "      <td>1</td>\n",
       "    </tr>\n",
       "    <tr>\n",
       "      <th>49906</th>\n",
       "      <td>0.926384</td>\n",
       "      <td>0</td>\n",
       "    </tr>\n",
       "    <tr>\n",
       "      <th>29474</th>\n",
       "      <td>0.221266</td>\n",
       "      <td>0</td>\n",
       "    </tr>\n",
       "    <tr>\n",
       "      <th>276481</th>\n",
       "      <td>0.373049</td>\n",
       "      <td>0</td>\n",
       "    </tr>\n",
       "    <tr>\n",
       "      <th>278846</th>\n",
       "      <td>0.154457</td>\n",
       "      <td>0</td>\n",
       "    </tr>\n",
       "  </tbody>\n",
       "</table>\n",
       "</div>"
      ],
      "text/plain": [
       "              mse  trueClass\n",
       "43428   79.818455          1\n",
       "49906    0.926384          0\n",
       "29474    0.221266          0\n",
       "276481   0.373049          0\n",
       "278846   0.154457          0"
      ]
     },
     "execution_count": 64,
     "metadata": {},
     "output_type": "execute_result"
    }
   ],
   "source": [
    "reconstructionErrorDF.head()"
   ]
  },
  {
   "cell_type": "code",
   "execution_count": 65,
   "metadata": {
    "collapsed": true
   },
   "outputs": [],
   "source": [
    "validReconstructionErrorDf = reconstructionErrorDF[reconstructionErrorDF['trueClass'] == 0]"
   ]
  },
  {
   "cell_type": "code",
   "execution_count": 66,
   "metadata": {
    "collapsed": true
   },
   "outputs": [],
   "source": [
    "fraudReconstructionErrorDF = reconstructionErrorDF[reconstructionErrorDF['trueClass'] == 1]"
   ]
  },
  {
   "cell_type": "code",
   "execution_count": 67,
   "metadata": {},
   "outputs": [
    {
     "data": {
      "text/plain": [
       "(56864, 2)"
      ]
     },
     "execution_count": 67,
     "metadata": {},
     "output_type": "execute_result"
    }
   ],
   "source": [
    "validReconstructionErrorDf.shape"
   ]
  },
  {
   "cell_type": "code",
   "execution_count": 68,
   "metadata": {},
   "outputs": [
    {
     "data": {
      "text/plain": [
       "(98, 2)"
      ]
     },
     "execution_count": 68,
     "metadata": {},
     "output_type": "execute_result"
    }
   ],
   "source": [
    "fraudReconstructionErrorDF.shape"
   ]
  },
  {
   "cell_type": "code",
   "execution_count": 69,
   "metadata": {},
   "outputs": [
    {
     "data": {
      "text/plain": [
       "count     98.000000\n",
       "mean      30.118440\n",
       "std       44.554990\n",
       "min        0.166711\n",
       "25%        3.650527\n",
       "50%       10.425117\n",
       "75%       49.902009\n",
       "max      250.983315\n",
       "Name: mse, dtype: float64"
      ]
     },
     "execution_count": 69,
     "metadata": {},
     "output_type": "execute_result"
    }
   ],
   "source": [
    "fraudReconstructionErrorDF.mse.describe()"
   ]
  },
  {
   "cell_type": "code",
   "execution_count": 70,
   "metadata": {},
   "outputs": [
    {
     "data": {
      "text/plain": [
       "count    56864.000000\n",
       "mean         0.730182\n",
       "std          2.722149\n",
       "min          0.028873\n",
       "25%          0.245117\n",
       "50%          0.392474\n",
       "75%          0.623275\n",
       "max        168.874743\n",
       "Name: mse, dtype: float64"
      ]
     },
     "execution_count": 70,
     "metadata": {},
     "output_type": "execute_result"
    }
   ],
   "source": [
    "validReconstructionErrorDf.mse.describe()"
   ]
  },
  {
   "cell_type": "markdown",
   "metadata": {},
   "source": [
    "We see that the reconstruction error is higher for the fraud examples."
   ]
  },
  {
   "cell_type": "code",
   "execution_count": 71,
   "metadata": {
    "collapsed": true
   },
   "outputs": [],
   "source": [
    "import seaborn as sns"
   ]
  },
  {
   "cell_type": "code",
   "execution_count": 72,
   "metadata": {
    "collapsed": true
   },
   "outputs": [],
   "source": [
    "sns.set(style='whitegrid', font_scale=1.5)"
   ]
  },
  {
   "cell_type": "code",
   "execution_count": 126,
   "metadata": {},
   "outputs": [
    {
     "data": {
      "image/png": "[encoded data removed]",
      "text/plain": [
       "<matplotlib.figure.Figure at 0x13a562518>"
      ]
     },
     "metadata": {},
     "output_type": "display_data"
    }
   ],
   "source": [
    "sns.distplot(validReconstructionErrorDf.mse.values, bins = 40, norm_hist=True, kde=False);\n",
    "sns.distplot(fraudReconstructionErrorDF.mse.values, bins = 40, norm_hist=True, kde=False);\n",
    "plt.xlim((0, 100));\n",
    "plt.xticks(np.linspace(0, 100, 11));"
   ]
  },
  {
   "cell_type": "code",
   "execution_count": 174,
   "metadata": {
    "collapsed": true
   },
   "outputs": [],
   "source": [
    "from sklearn.metrics import (confusion_matrix, precision_recall_curve, auc, roc_curve, recall_score, \\\n",
    "                             classification_report, f1_score, precision_score)"
   ]
  },
  {
   "cell_type": "code",
   "execution_count": 75,
   "metadata": {
    "collapsed": true
   },
   "outputs": [],
   "source": [
    "fpr, tpr, thresholds = roc_curve(reconstructionErrorDF.trueClass, reconstructionErrorDF.mse)"
   ]
  },
  {
   "cell_type": "markdown",
   "metadata": {},
   "source": [
    "The first parameter of the roc_curve function is y_true (the true binary labels either {0, 1} or {-1, 1}). \n",
    "\n",
    "The second parameter of the roc_curve is y_score. \n",
    "Target scores, can either be probability estimates of the positive class, confidence values, or non-thresholded measure of decisions (as returned by “decision_function” on some classifiers).\n",
    "\n",
    "The output are as follows: \n",
    "\n",
    "**fpr** : array, shape = [>2]\n",
    "\n",
    "Increasing false positive rates such that element i is the false positive rate of predictions with score >= thresholds[i].\n",
    "\n",
    "** tpr ** : array, shape = [>2]\n",
    "\n",
    "Increasing true positive rates such that element i is the true positive rate of predictions with score >= thresholds[i].\n",
    "\n",
    "** thresholds **: array, shape = [n_thresholds]\n",
    "\n",
    "Decreasing thresholds on the decision function used to compute fpr and tpr. thresholds[0] represents no instances being predicted and is arbitrarily set to max(y_score) + 1."
   ]
  },
  {
   "cell_type": "code",
   "execution_count": 76,
   "metadata": {},
   "outputs": [
    {
     "data": {
      "text/plain": [
       "array([2.50983315e+02, 1.91728688e+02, 1.53529397e+02, ...,\n",
       "       4.35756158e-02, 4.34579237e-02, 2.88734837e-02])"
      ]
     },
     "execution_count": 76,
     "metadata": {},
     "output_type": "execute_result"
    }
   ],
   "source": [
    "thresholds"
   ]
  },
  {
   "cell_type": "code",
   "execution_count": 77,
   "metadata": {},
   "outputs": [
    {
     "data": {
      "text/plain": [
       "array([0.00000000e+00, 0.00000000e+00, 5.27574564e-05, ...,\n",
       "       9.99648284e-01, 9.99683455e-01, 1.00000000e+00])"
      ]
     },
     "execution_count": 77,
     "metadata": {},
     "output_type": "execute_result"
    }
   ],
   "source": [
    "fpr"
   ]
  },
  {
   "cell_type": "code",
   "execution_count": 78,
   "metadata": {},
   "outputs": [
    {
     "data": {
      "text/plain": [
       "array([0.01020408, 0.02040816, 0.02040816, ..., 1.        , 1.        ,\n",
       "       1.        ])"
      ]
     },
     "execution_count": 78,
     "metadata": {},
     "output_type": "execute_result"
    }
   ],
   "source": [
    "tpr"
   ]
  },
  {
   "cell_type": "markdown",
   "metadata": {},
   "source": [
    "TPR (Recall) = TP/ (actual yes) = TP /(TP + FN)\n",
    "\n",
    "FPR = FP / (actual no) = FP / (TN + FP)"
   ]
  },
  {
   "cell_type": "code",
   "execution_count": 79,
   "metadata": {},
   "outputs": [
    {
     "data": {
      "text/plain": [
       "(1026,)"
      ]
     },
     "execution_count": 79,
     "metadata": {},
     "output_type": "execute_result"
    }
   ],
   "source": [
    "fpr.shape"
   ]
  },
  {
   "cell_type": "code",
   "execution_count": 80,
   "metadata": {},
   "outputs": [
    {
     "data": {
      "text/plain": [
       "(1026,)"
      ]
     },
     "execution_count": 80,
     "metadata": {},
     "output_type": "execute_result"
    }
   ],
   "source": [
    "tpr.shape"
   ]
  },
  {
   "cell_type": "code",
   "execution_count": 81,
   "metadata": {},
   "outputs": [
    {
     "data": {
      "text/plain": [
       "(1026,)"
      ]
     },
     "execution_count": 81,
     "metadata": {},
     "output_type": "execute_result"
    }
   ],
   "source": [
    "thresholds.shape"
   ]
  },
  {
   "cell_type": "code",
   "execution_count": 82,
   "metadata": {},
   "outputs": [
    {
     "data": {
      "text/plain": [
       "(56962,)"
      ]
     },
     "execution_count": 82,
     "metadata": {},
     "output_type": "execute_result"
    }
   ],
   "source": [
    "reconstructionErrorDF.trueClass.shape"
   ]
  },
  {
   "cell_type": "code",
   "execution_count": 83,
   "metadata": {
    "collapsed": true
   },
   "outputs": [],
   "source": [
    "rocAuc = auc(fpr, tpr)"
   ]
  },
  {
   "cell_type": "code",
   "execution_count": 89,
   "metadata": {},
   "outputs": [
    {
     "data": {
      "text/plain": [
       "0.9585606330320535"
      ]
     },
     "execution_count": 89,
     "metadata": {},
     "output_type": "execute_result"
    }
   ],
   "source": [
    "rocAuc"
   ]
  },
  {
   "cell_type": "code",
   "execution_count": 98,
   "metadata": {},
   "outputs": [
    {
     "data": {
      "image/png": "[encoded data removed]",
      "text/plain": [
       "<matplotlib.figure.Figure at 0x137965748>"
      ]
     },
     "metadata": {},
     "output_type": "display_data"
    }
   ],
   "source": [
    "plt.plot(fpr,tpr, label = 'AUC = %0.4f'% rocAuc);\n",
    "plt.title('Receiver operating characteristics');\n",
    "plt.legend(loc='lower right');\n",
    "plt.plot([0,1], [0,1], 'r--');\n",
    "plt.xlabel('False positive rate');\n",
    "plt.ylabel('True positive rate');"
   ]
  },
  {
   "cell_type": "code",
   "execution_count": 99,
   "metadata": {},
   "outputs": [
    {
     "data": {
      "text/plain": [
       "Index(['mse', 'trueClass'], dtype='object')"
      ]
     },
     "execution_count": 99,
     "metadata": {},
     "output_type": "execute_result"
    }
   ],
   "source": [
    "reconstructionErrorDF.columns"
   ]
  },
  {
   "cell_type": "code",
   "execution_count": 100,
   "metadata": {
    "collapsed": true
   },
   "outputs": [],
   "source": [
    "precision, recall, th = precision_recall_curve(reconstructionErrorDF.trueClass, mse)"
   ]
  },
  {
   "cell_type": "markdown",
   "metadata": {},
   "source": [
    "Note that the input arguments of the precision_recall_curve are the same as that of the roc_curve. \n",
    "See the note below the roc_curve. The mean-squared reconstruction error here is a proxy for 'y_score' of the estimated probabilities. "
   ]
  },
  {
   "cell_type": "code",
   "execution_count": 107,
   "metadata": {},
   "outputs": [
    {
     "data": {
      "image/png": "[encoded data removed]",
      "text/plain": [
       "<matplotlib.figure.Figure at 0x136f33518>"
      ]
     },
     "metadata": {},
     "output_type": "display_data"
    }
   ],
   "source": [
    "plt.plot(recall, precision, 'b', label = 'Precision-recall curve');\n",
    "plt.xlabel('recall');\n",
    "plt.ylabel('precision');"
   ]
  },
  {
   "cell_type": "code",
   "execution_count": 113,
   "metadata": {},
   "outputs": [
    {
     "data": {
      "text/plain": [
       "array([1.66710672e-01, 1.66711371e-01, 1.66712548e-01, ...,\n",
       "       1.68874743e+02, 1.91728688e+02, 2.50983315e+02])"
      ]
     },
     "execution_count": 113,
     "metadata": {},
     "output_type": "execute_result"
    }
   ],
   "source": [
    "th #thresholds output from the precision_recall curve function"
   ]
  },
  {
   "cell_type": "code",
   "execution_count": 114,
   "metadata": {},
   "outputs": [
    {
     "data": {
      "text/plain": [
       "array([0.00190447, 0.00188507, 0.00188511, ..., 1.        , 1.        ,\n",
       "       1.        ])"
      ]
     },
     "execution_count": 114,
     "metadata": {},
     "output_type": "execute_result"
    }
   ],
   "source": [
    "precision"
   ]
  },
  {
   "cell_type": "code",
   "execution_count": 115,
   "metadata": {},
   "outputs": [
    {
     "data": {
      "text/plain": [
       "array([1.        , 0.98979592, 0.98979592, ..., 0.02040816, 0.01020408,\n",
       "       0.        ])"
      ]
     },
     "execution_count": 115,
     "metadata": {},
     "output_type": "execute_result"
    }
   ],
   "source": [
    "recall"
   ]
  },
  {
   "cell_type": "markdown",
   "metadata": {},
   "source": [
    "We see from above that:\n",
    "\n",
    "high threshold => high precision and low recall.\n",
    "\n",
    "low theshold => low precision and high recall. \n",
    "\n",
    "A high area under the precision recall curve represents both high recall and high precision where high precision relates to a low false positive rate and a high recall relates to a low false negative rate. "
   ]
  },
  {
   "cell_type": "code",
   "execution_count": 117,
   "metadata": {},
   "outputs": [
    {
     "data": {
      "text/plain": [
       "50856"
      ]
     },
     "execution_count": 117,
     "metadata": {},
     "output_type": "execute_result"
    }
   ],
   "source": [
    "len(precision)"
   ]
  },
  {
   "cell_type": "code",
   "execution_count": 110,
   "metadata": {},
   "outputs": [
    {
     "data": {
      "text/plain": [
       "50855"
      ]
     },
     "execution_count": 110,
     "metadata": {},
     "output_type": "execute_result"
    }
   ],
   "source": [
    "len(th)"
   ]
  },
  {
   "cell_type": "code",
   "execution_count": 112,
   "metadata": {},
   "outputs": [
    {
     "data": {
      "text/plain": [
       "array([2.50983315e+02, 1.91728688e+02, 1.53529397e+02, ...,\n",
       "       4.35756158e-02, 4.34579237e-02, 2.88734837e-02])"
      ]
     },
     "execution_count": 112,
     "metadata": {},
     "output_type": "execute_result"
    }
   ],
   "source": [
    "thresholds #thresholds output from the roc curve function"
   ]
  },
  {
   "cell_type": "code",
   "execution_count": 111,
   "metadata": {},
   "outputs": [
    {
     "data": {
      "text/plain": [
       "1026"
      ]
     },
     "execution_count": 111,
     "metadata": {},
     "output_type": "execute_result"
    }
   ],
   "source": [
    "len(thresholds)"
   ]
  },
  {
   "cell_type": "markdown",
   "metadata": {},
   "source": [
    "Let's look at the precision-threshold and recall-threshold curves."
   ]
  },
  {
   "cell_type": "code",
   "execution_count": 124,
   "metadata": {},
   "outputs": [
    {
     "data": {
      "image/png": "[encoded data removed]",
      "text/plain": [
       "<matplotlib.figure.Figure at 0x139db1198>"
      ]
     },
     "metadata": {},
     "output_type": "display_data"
    }
   ],
   "source": [
    "plt.plot(th, precision[1:], 'b');\n",
    "plt.xlabel('Threshold');\n",
    "plt.ylabel('Precision');\n",
    "plt.title('Precision vs. threshold');"
   ]
  },
  {
   "cell_type": "code",
   "execution_count": 125,
   "metadata": {},
   "outputs": [
    {
     "data": {
      "image/png": "[encoded data removed]",
      "text/plain": [
       "<matplotlib.figure.Figure at 0x13a2007f0>"
      ]
     },
     "metadata": {},
     "output_type": "display_data"
    }
   ],
   "source": [
    "plt.plot(th, recall[1:], 'b');\n",
    "plt.xlabel('Threshold');\n",
    "plt.ylabel('Recall');\n",
    "plt.title('Recall vs. threshold');"
   ]
  },
  {
   "cell_type": "markdown",
   "metadata": {},
   "source": [
    "### Predictions\n",
    "\n",
    "In order to predict whether or not a new/unseen transaction is normal or fraudulent, we'll calculate the reconstruction error from the transaction data itself. If the error is larger than a predefined threshold, we'll mark it as a fraud (since our model should have a low error on normal transactions). \n",
    "\n",
    "Based on the graph below, I chose the threshold to be 4.1."
   ]
  },
  {
   "cell_type": "code",
   "execution_count": 128,
   "metadata": {
    "scrolled": true
   },
   "outputs": [
    {
     "data": {
      "image/png": "[encoded data removed]",
      "text/plain": [
       "<matplotlib.figure.Figure at 0x138096438>"
      ]
     },
     "metadata": {},
     "output_type": "display_data"
    }
   ],
   "source": [
    "sns.distplot(validReconstructionErrorDf.mse.values, bins = 40, norm_hist=True, kde=False);\n",
    "sns.distplot(fraudReconstructionErrorDF.mse.values, bins = 40, norm_hist=True, kde=False);\n",
    "plt.xlim((0, 10));\n",
    "plt.xticks(np.linspace(0, 10, 11));"
   ]
  },
  {
   "cell_type": "code",
   "execution_count": null,
   "metadata": {
    "collapsed": true
   },
   "outputs": [],
   "source": [
    "groups  =  error_dferror_df.groupby('true_class')\n",
    "fig, ax = plt.subplots()\n",
    "\n",
    "for name, group in groups:\n",
    "    ax.plot(group.index, group.reconstruction_error, marker='o', ms=3.5, linestyle='',\n",
    "            label= \"Fraud\" if name == 1 else \"Normal\")\n",
    "ax.hlines(threshold, ax.get_xlim()[0], ax.get_xlim()[1], colors=\"r\", zorder=100, label='Threshold')\n",
    "ax.legend()\n",
    "plt.title(\"Reconstruction error for different classes\")\n",
    "plt.ylabel(\"Reconstruction error\")\n",
    "plt.xlabel(\"Data point index\")\n",
    "plt.show();"
   ]
  },
  {
   "cell_type": "code",
   "execution_count": 146,
   "metadata": {
    "collapsed": true
   },
   "outputs": [],
   "source": [
    "thresholdMSE = 4.1"
   ]
  },
  {
   "cell_type": "code",
   "execution_count": 144,
   "metadata": {},
   "outputs": [
    {
     "data": {
      "text/plain": [
       "-14240.150000000001"
      ]
     },
     "execution_count": 144,
     "metadata": {},
     "output_type": "execute_result"
    }
   ],
   "source": [
    "ax.get_xlim()[0]"
   ]
  },
  {
   "cell_type": "code",
   "execution_count": 147,
   "metadata": {},
   "outputs": [
    {
     "data": {
      "text/plain": [
       "(-14240.150000000001, 299043.15)"
      ]
     },
     "execution_count": 147,
     "metadata": {},
     "output_type": "execute_result"
    }
   ],
   "source": [
    "ax.get_xlim()"
   ]
  },
  {
   "cell_type": "code",
   "execution_count": 130,
   "metadata": {},
   "outputs": [
    {
     "data": {
      "text/plain": [
       "<pandas.core.groupby.DataFrameGroupBy object at 0x13a7e2da0>"
      ]
     },
     "execution_count": 130,
     "metadata": {},
     "output_type": "execute_result"
    }
   ],
   "source": [
    "groups"
   ]
  },
  {
   "cell_type": "code",
   "execution_count": 136,
   "metadata": {},
   "outputs": [
    {
     "name": "stdout",
     "output_type": "stream",
     "text": [
      "name: 0\n",
      "group:              mse  trueClass\n",
      "49906   0.926384          0\n",
      "29474   0.221266          0\n",
      "276481  0.373049          0\n",
      "278846  0.154457          0\n",
      "101565  0.985582          0\n",
      "260880  0.181401          0\n",
      "214337  0.411403          0\n",
      "201575  0.554766          0\n",
      "81055   2.662419          0\n",
      "134976  0.297906          0\n",
      "237701  0.385238          0\n",
      "256836  0.486059          0\n",
      "97650   0.205384          0\n",
      "158290  0.678566          0\n",
      "246697  1.527952          0\n",
      "68279   0.781315          0\n",
      "267585  0.766597          0\n",
      "26525   0.527700          0\n",
      "74422   1.194972          0\n",
      "206357  0.360036          0\n",
      "257395  0.419868          0\n",
      "283656  1.209072          0\n",
      "231156  0.469845          0\n",
      "38442   1.057967          0\n",
      "225485  0.459399          0\n",
      "92410   0.129582          0\n",
      "10828   0.824117          0\n",
      "61461   0.173722          0\n",
      "134354  0.456501          0\n",
      "45265   0.474566          0\n",
      "...          ...        ...\n",
      "97068   0.468987          0\n",
      "127928  0.195281          0\n",
      "254929  1.666512          0\n",
      "203745  0.468230          0\n",
      "189799  0.766404          0\n",
      "2085    0.519900          0\n",
      "15725   0.180221          0\n",
      "243506  0.435946          0\n",
      "250359  0.662264          0\n",
      "49049   0.376553          0\n",
      "153683  0.566745          0\n",
      "97271   0.116439          0\n",
      "171952  0.132170          0\n",
      "255048  0.655098          0\n",
      "176498  0.724802          0\n",
      "145799  0.237181          0\n",
      "183815  0.471128          0\n",
      "48060   0.165685          0\n",
      "163478  0.192463          0\n",
      "151081  1.271720          0\n",
      "132236  0.257779          0\n",
      "83248   0.208929          0\n",
      "135640  0.181323          0\n",
      "70136   0.276494          0\n",
      "235173  0.225176          0\n",
      "75723   0.808162          0\n",
      "252263  0.220600          0\n",
      "221246  0.538191          0\n",
      "81910   0.135605          0\n",
      "59490   2.272624          0\n",
      "\n",
      "[56864 rows x 2 columns]\n",
      "group.index: Int64Index([ 49906,  29474, 276481, 278846, 101565, 260880, 214337, 201575,\n",
      "             81055, 134976,\n",
      "            ...\n",
      "            132236,  83248, 135640,  70136, 235173,  75723, 252263, 221246,\n",
      "             81910,  59490],\n",
      "           dtype='int64', length=56864)\n",
      "name: 1\n",
      "group:                mse  trueClass\n",
      "43428    79.818455          1\n",
      "116404    4.346719          1\n",
      "215984    8.954090          1\n",
      "249239    1.763686          1\n",
      "146790    1.526500          1\n",
      "77099     7.209513          1\n",
      "15810   100.116464          1\n",
      "261473    3.558258          1\n",
      "280149    2.949760          1\n",
      "82400    10.694846          1\n",
      "73857    24.548226          1\n",
      "204503    7.618680          1\n",
      "124176    1.311067          1\n",
      "108258    0.706259          1\n",
      "189701   11.439204          1\n",
      "143188    4.905742          1\n",
      "214775    0.906437          1\n",
      "44270    91.413896          1\n",
      "102442  110.208339          1\n",
      "229730    1.908845          1\n",
      "237426    3.232410          1\n",
      "42635    60.618834          1\n",
      "150697   71.088892          1\n",
      "151006  149.512698          1\n",
      "108708    7.677318          1\n",
      "235644    9.288975          1\n",
      "68067     0.790185          1\n",
      "64329    23.727017          1\n",
      "43061    73.277507          1\n",
      "154454    4.558566          1\n",
      "...            ...        ...\n",
      "226877   10.801402          1\n",
      "263877   11.827755          1\n",
      "118308    0.285151          1\n",
      "154371  191.728688          1\n",
      "15781    96.783899          1\n",
      "17407   117.919451          1\n",
      "93788     0.433819          1\n",
      "6882     17.162841          1\n",
      "16780   106.693713          1\n",
      "77348     7.101227          1\n",
      "191359    6.861149          1\n",
      "15225    73.694614          1\n",
      "249828   11.063343          1\n",
      "116139    3.855050          1\n",
      "149577    3.083337          1\n",
      "274475    2.272756          1\n",
      "81186    11.298658          1\n",
      "149600   10.313085          1\n",
      "64460    26.391791          1\n",
      "11880    75.330077          1\n",
      "150661   62.425191          1\n",
      "151730    8.385935          1\n",
      "102443  110.208339          1\n",
      "244333   18.484241          1\n",
      "111690    7.809845          1\n",
      "152223   93.511956          1\n",
      "6903     17.327964          1\n",
      "276864    4.208710          1\n",
      "199896    6.137229          1\n",
      "248971    2.432556          1\n",
      "\n",
      "[98 rows x 2 columns]\n",
      "group.index: Int64Index([ 43428, 116404, 215984, 249239, 146790,  77099,  15810, 261473,\n",
      "            280149,  82400,  73857, 204503, 124176, 108258, 189701, 143188,\n",
      "            214775,  44270, 102442, 229730, 237426,  42635, 150697, 151006,\n",
      "            108708, 235644,  68067,  64329,  43061, 154454, 143728,  42784,\n",
      "            150654, 213116,   8615, 233258, 144754, 263324,  11710,  39183,\n",
      "            243749,  41569,  89190,   9252,  12070,  79883,  94218,  88876,\n",
      "             42007, 163586,  79536, 137705,  20198, 249167, 154587, 154718,\n",
      "            219025,  68522,  74507, 150663,  77387, 123238,  72757,  44091,\n",
      "            280143,  84543, 247673,  93486, 226877, 263877, 118308, 154371,\n",
      "             15781,  17407,  93788,   6882,  16780,  77348, 191359,  15225,\n",
      "            249828, 116139, 149577, 274475,  81186, 149600,  64460,  11880,\n",
      "            150661, 151730, 102443, 244333, 111690, 152223,   6903, 276864,\n",
      "            199896, 248971],\n",
      "           dtype='int64')\n"
     ]
    }
   ],
   "source": [
    "for name, group in groups:\n",
    "    \n",
    "    print(\"name:\", name)\n",
    "    print(\"group:\", group)\n",
    "    print(\"group.index:\", group.index)"
   ]
  },
  {
   "cell_type": "code",
   "execution_count": 162,
   "metadata": {},
   "outputs": [
    {
     "data": {
      "image/png": "[encoded data removed]",
      "text/plain": [
       "<matplotlib.figure.Figure at 0x138c360f0>"
      ]
     },
     "metadata": {},
     "output_type": "display_data"
    }
   ],
   "source": [
    "groups  =  reconstructionErrorDF.groupby('trueClass')\n",
    "fig, ax = plt.subplots()\n",
    "\n",
    "for name, group in groups:\n",
    "    \n",
    "    ax.plot(group.index, group.mse, marker = 'o', linestyle='', \n",
    "           label=\"Fraud\" if name == 1 else \"Valid\")\n",
    "    \n",
    "ax.hlines(thresholdMSE, ax.get_xlim()[0], ax.get_xlim()[1], colors = \"r\", zorder = 10, label=thresholdMSE);\n",
    "\n",
    "ax.legend();"
   ]
  },
  {
   "cell_type": "code",
   "execution_count": 133,
   "metadata": {},
   "outputs": [
    {
     "data": {
      "text/html": [
       "<div>\n",
       "<style>\n",
       "    .dataframe thead tr:only-child th {\n",
       "        text-align: right;\n",
       "    }\n",
       "\n",
       "    .dataframe thead th {\n",
       "        text-align: left;\n",
       "    }\n",
       "\n",
       "    .dataframe tbody tr th {\n",
       "        vertical-align: top;\n",
       "    }\n",
       "</style>\n",
       "<table border=\"1\" class=\"dataframe\">\n",
       "  <thead>\n",
       "    <tr style=\"text-align: right;\">\n",
       "      <th></th>\n",
       "      <th>mse</th>\n",
       "      <th>trueClass</th>\n",
       "    </tr>\n",
       "  </thead>\n",
       "  <tbody>\n",
       "    <tr>\n",
       "      <th>43428</th>\n",
       "      <td>79.818455</td>\n",
       "      <td>1</td>\n",
       "    </tr>\n",
       "    <tr>\n",
       "      <th>49906</th>\n",
       "      <td>0.926384</td>\n",
       "      <td>0</td>\n",
       "    </tr>\n",
       "    <tr>\n",
       "      <th>29474</th>\n",
       "      <td>0.221266</td>\n",
       "      <td>0</td>\n",
       "    </tr>\n",
       "    <tr>\n",
       "      <th>276481</th>\n",
       "      <td>0.373049</td>\n",
       "      <td>0</td>\n",
       "    </tr>\n",
       "    <tr>\n",
       "      <th>278846</th>\n",
       "      <td>0.154457</td>\n",
       "      <td>0</td>\n",
       "    </tr>\n",
       "    <tr>\n",
       "      <th>101565</th>\n",
       "      <td>0.985582</td>\n",
       "      <td>0</td>\n",
       "    </tr>\n",
       "    <tr>\n",
       "      <th>260880</th>\n",
       "      <td>0.181401</td>\n",
       "      <td>0</td>\n",
       "    </tr>\n",
       "    <tr>\n",
       "      <th>214337</th>\n",
       "      <td>0.411403</td>\n",
       "      <td>0</td>\n",
       "    </tr>\n",
       "    <tr>\n",
       "      <th>201575</th>\n",
       "      <td>0.554766</td>\n",
       "      <td>0</td>\n",
       "    </tr>\n",
       "    <tr>\n",
       "      <th>81055</th>\n",
       "      <td>2.662419</td>\n",
       "      <td>0</td>\n",
       "    </tr>\n",
       "    <tr>\n",
       "      <th>134976</th>\n",
       "      <td>0.297906</td>\n",
       "      <td>0</td>\n",
       "    </tr>\n",
       "    <tr>\n",
       "      <th>237701</th>\n",
       "      <td>0.385238</td>\n",
       "      <td>0</td>\n",
       "    </tr>\n",
       "    <tr>\n",
       "      <th>256836</th>\n",
       "      <td>0.486059</td>\n",
       "      <td>0</td>\n",
       "    </tr>\n",
       "    <tr>\n",
       "      <th>97650</th>\n",
       "      <td>0.205384</td>\n",
       "      <td>0</td>\n",
       "    </tr>\n",
       "    <tr>\n",
       "      <th>158290</th>\n",
       "      <td>0.678566</td>\n",
       "      <td>0</td>\n",
       "    </tr>\n",
       "    <tr>\n",
       "      <th>246697</th>\n",
       "      <td>1.527952</td>\n",
       "      <td>0</td>\n",
       "    </tr>\n",
       "    <tr>\n",
       "      <th>68279</th>\n",
       "      <td>0.781315</td>\n",
       "      <td>0</td>\n",
       "    </tr>\n",
       "    <tr>\n",
       "      <th>267585</th>\n",
       "      <td>0.766597</td>\n",
       "      <td>0</td>\n",
       "    </tr>\n",
       "    <tr>\n",
       "      <th>26525</th>\n",
       "      <td>0.527700</td>\n",
       "      <td>0</td>\n",
       "    </tr>\n",
       "    <tr>\n",
       "      <th>74422</th>\n",
       "      <td>1.194972</td>\n",
       "      <td>0</td>\n",
       "    </tr>\n",
       "    <tr>\n",
       "      <th>206357</th>\n",
       "      <td>0.360036</td>\n",
       "      <td>0</td>\n",
       "    </tr>\n",
       "    <tr>\n",
       "      <th>257395</th>\n",
       "      <td>0.419868</td>\n",
       "      <td>0</td>\n",
       "    </tr>\n",
       "    <tr>\n",
       "      <th>283656</th>\n",
       "      <td>1.209072</td>\n",
       "      <td>0</td>\n",
       "    </tr>\n",
       "    <tr>\n",
       "      <th>231156</th>\n",
       "      <td>0.469845</td>\n",
       "      <td>0</td>\n",
       "    </tr>\n",
       "    <tr>\n",
       "      <th>38442</th>\n",
       "      <td>1.057967</td>\n",
       "      <td>0</td>\n",
       "    </tr>\n",
       "    <tr>\n",
       "      <th>225485</th>\n",
       "      <td>0.459399</td>\n",
       "      <td>0</td>\n",
       "    </tr>\n",
       "    <tr>\n",
       "      <th>92410</th>\n",
       "      <td>0.129582</td>\n",
       "      <td>0</td>\n",
       "    </tr>\n",
       "    <tr>\n",
       "      <th>10828</th>\n",
       "      <td>0.824117</td>\n",
       "      <td>0</td>\n",
       "    </tr>\n",
       "    <tr>\n",
       "      <th>61461</th>\n",
       "      <td>0.173722</td>\n",
       "      <td>0</td>\n",
       "    </tr>\n",
       "    <tr>\n",
       "      <th>134354</th>\n",
       "      <td>0.456501</td>\n",
       "      <td>0</td>\n",
       "    </tr>\n",
       "    <tr>\n",
       "      <th>...</th>\n",
       "      <td>...</td>\n",
       "      <td>...</td>\n",
       "    </tr>\n",
       "    <tr>\n",
       "      <th>97068</th>\n",
       "      <td>0.468987</td>\n",
       "      <td>0</td>\n",
       "    </tr>\n",
       "    <tr>\n",
       "      <th>127928</th>\n",
       "      <td>0.195281</td>\n",
       "      <td>0</td>\n",
       "    </tr>\n",
       "    <tr>\n",
       "      <th>254929</th>\n",
       "      <td>1.666512</td>\n",
       "      <td>0</td>\n",
       "    </tr>\n",
       "    <tr>\n",
       "      <th>203745</th>\n",
       "      <td>0.468230</td>\n",
       "      <td>0</td>\n",
       "    </tr>\n",
       "    <tr>\n",
       "      <th>189799</th>\n",
       "      <td>0.766404</td>\n",
       "      <td>0</td>\n",
       "    </tr>\n",
       "    <tr>\n",
       "      <th>2085</th>\n",
       "      <td>0.519900</td>\n",
       "      <td>0</td>\n",
       "    </tr>\n",
       "    <tr>\n",
       "      <th>15725</th>\n",
       "      <td>0.180221</td>\n",
       "      <td>0</td>\n",
       "    </tr>\n",
       "    <tr>\n",
       "      <th>243506</th>\n",
       "      <td>0.435946</td>\n",
       "      <td>0</td>\n",
       "    </tr>\n",
       "    <tr>\n",
       "      <th>250359</th>\n",
       "      <td>0.662264</td>\n",
       "      <td>0</td>\n",
       "    </tr>\n",
       "    <tr>\n",
       "      <th>49049</th>\n",
       "      <td>0.376553</td>\n",
       "      <td>0</td>\n",
       "    </tr>\n",
       "    <tr>\n",
       "      <th>153683</th>\n",
       "      <td>0.566745</td>\n",
       "      <td>0</td>\n",
       "    </tr>\n",
       "    <tr>\n",
       "      <th>97271</th>\n",
       "      <td>0.116439</td>\n",
       "      <td>0</td>\n",
       "    </tr>\n",
       "    <tr>\n",
       "      <th>171952</th>\n",
       "      <td>0.132170</td>\n",
       "      <td>0</td>\n",
       "    </tr>\n",
       "    <tr>\n",
       "      <th>255048</th>\n",
       "      <td>0.655098</td>\n",
       "      <td>0</td>\n",
       "    </tr>\n",
       "    <tr>\n",
       "      <th>176498</th>\n",
       "      <td>0.724802</td>\n",
       "      <td>0</td>\n",
       "    </tr>\n",
       "    <tr>\n",
       "      <th>145799</th>\n",
       "      <td>0.237181</td>\n",
       "      <td>0</td>\n",
       "    </tr>\n",
       "    <tr>\n",
       "      <th>183815</th>\n",
       "      <td>0.471128</td>\n",
       "      <td>0</td>\n",
       "    </tr>\n",
       "    <tr>\n",
       "      <th>48060</th>\n",
       "      <td>0.165685</td>\n",
       "      <td>0</td>\n",
       "    </tr>\n",
       "    <tr>\n",
       "      <th>163478</th>\n",
       "      <td>0.192463</td>\n",
       "      <td>0</td>\n",
       "    </tr>\n",
       "    <tr>\n",
       "      <th>151081</th>\n",
       "      <td>1.271720</td>\n",
       "      <td>0</td>\n",
       "    </tr>\n",
       "    <tr>\n",
       "      <th>132236</th>\n",
       "      <td>0.257779</td>\n",
       "      <td>0</td>\n",
       "    </tr>\n",
       "    <tr>\n",
       "      <th>83248</th>\n",
       "      <td>0.208929</td>\n",
       "      <td>0</td>\n",
       "    </tr>\n",
       "    <tr>\n",
       "      <th>135640</th>\n",
       "      <td>0.181323</td>\n",
       "      <td>0</td>\n",
       "    </tr>\n",
       "    <tr>\n",
       "      <th>70136</th>\n",
       "      <td>0.276494</td>\n",
       "      <td>0</td>\n",
       "    </tr>\n",
       "    <tr>\n",
       "      <th>235173</th>\n",
       "      <td>0.225176</td>\n",
       "      <td>0</td>\n",
       "    </tr>\n",
       "    <tr>\n",
       "      <th>75723</th>\n",
       "      <td>0.808162</td>\n",
       "      <td>0</td>\n",
       "    </tr>\n",
       "    <tr>\n",
       "      <th>252263</th>\n",
       "      <td>0.220600</td>\n",
       "      <td>0</td>\n",
       "    </tr>\n",
       "    <tr>\n",
       "      <th>221246</th>\n",
       "      <td>0.538191</td>\n",
       "      <td>0</td>\n",
       "    </tr>\n",
       "    <tr>\n",
       "      <th>81910</th>\n",
       "      <td>0.135605</td>\n",
       "      <td>0</td>\n",
       "    </tr>\n",
       "    <tr>\n",
       "      <th>59490</th>\n",
       "      <td>2.272624</td>\n",
       "      <td>0</td>\n",
       "    </tr>\n",
       "  </tbody>\n",
       "</table>\n",
       "<p>56962 rows × 2 columns</p>\n",
       "</div>"
      ],
      "text/plain": [
       "              mse  trueClass\n",
       "43428   79.818455          1\n",
       "49906    0.926384          0\n",
       "29474    0.221266          0\n",
       "276481   0.373049          0\n",
       "278846   0.154457          0\n",
       "101565   0.985582          0\n",
       "260880   0.181401          0\n",
       "214337   0.411403          0\n",
       "201575   0.554766          0\n",
       "81055    2.662419          0\n",
       "134976   0.297906          0\n",
       "237701   0.385238          0\n",
       "256836   0.486059          0\n",
       "97650    0.205384          0\n",
       "158290   0.678566          0\n",
       "246697   1.527952          0\n",
       "68279    0.781315          0\n",
       "267585   0.766597          0\n",
       "26525    0.527700          0\n",
       "74422    1.194972          0\n",
       "206357   0.360036          0\n",
       "257395   0.419868          0\n",
       "283656   1.209072          0\n",
       "231156   0.469845          0\n",
       "38442    1.057967          0\n",
       "225485   0.459399          0\n",
       "92410    0.129582          0\n",
       "10828    0.824117          0\n",
       "61461    0.173722          0\n",
       "134354   0.456501          0\n",
       "...           ...        ...\n",
       "97068    0.468987          0\n",
       "127928   0.195281          0\n",
       "254929   1.666512          0\n",
       "203745   0.468230          0\n",
       "189799   0.766404          0\n",
       "2085     0.519900          0\n",
       "15725    0.180221          0\n",
       "243506   0.435946          0\n",
       "250359   0.662264          0\n",
       "49049    0.376553          0\n",
       "153683   0.566745          0\n",
       "97271    0.116439          0\n",
       "171952   0.132170          0\n",
       "255048   0.655098          0\n",
       "176498   0.724802          0\n",
       "145799   0.237181          0\n",
       "183815   0.471128          0\n",
       "48060    0.165685          0\n",
       "163478   0.192463          0\n",
       "151081   1.271720          0\n",
       "132236   0.257779          0\n",
       "83248    0.208929          0\n",
       "135640   0.181323          0\n",
       "70136    0.276494          0\n",
       "235173   0.225176          0\n",
       "75723    0.808162          0\n",
       "252263   0.220600          0\n",
       "221246   0.538191          0\n",
       "81910    0.135605          0\n",
       "59490    2.272624          0\n",
       "\n",
       "[56962 rows x 2 columns]"
      ]
     },
     "execution_count": 133,
     "metadata": {},
     "output_type": "execute_result"
    }
   ],
   "source": [
    "reconstructionErrorDF"
   ]
  },
  {
   "cell_type": "markdown",
   "metadata": {},
   "source": [
    "Let's look at the confusion matrix for the given threshold. "
   ]
  },
  {
   "cell_type": "code",
   "execution_count": 163,
   "metadata": {
    "collapsed": true
   },
   "outputs": [],
   "source": [
    "yPred = [1 if val > thresholdMSE else 0 for val in reconstructionErrorDF.mse]"
   ]
  },
  {
   "cell_type": "code",
   "execution_count": 165,
   "metadata": {
    "collapsed": true
   },
   "outputs": [],
   "source": [
    "confMatrixMSE = confusion_matrix(reconstructionErrorDF.trueClass, yPred)"
   ]
  },
  {
   "cell_type": "code",
   "execution_count": 166,
   "metadata": {},
   "outputs": [
    {
     "data": {
      "text/plain": [
       "array([[55791,  1073],\n",
       "       [   27,    71]])"
      ]
     },
     "execution_count": 166,
     "metadata": {},
     "output_type": "execute_result"
    }
   ],
   "source": [
    "confMatrixMSE"
   ]
  },
  {
   "cell_type": "code",
   "execution_count": 173,
   "metadata": {},
   "outputs": [
    {
     "data": {
      "image/png": "[encoded data removed]",
      "text/plain": [
       "<matplotlib.figure.Figure at 0x136804da0>"
      ]
     },
     "metadata": {},
     "output_type": "display_data"
    }
   ],
   "source": [
    "sns.heatmap(confMatrixMSE, xticklabels=[\"Valid\", \"Fraud\"], yticklabels=[\"Valid\", \"Fraud\"], annot=True, fmt='d');\n",
    "plt.xlabel('Predicted Class');\n",
    "plt.ylabel('Actual Class');"
   ]
  },
  {
   "cell_type": "code",
   "execution_count": 175,
   "metadata": {},
   "outputs": [
    {
     "data": {
      "text/plain": [
       "0.062062937062937064"
      ]
     },
     "execution_count": 175,
     "metadata": {},
     "output_type": "execute_result"
    }
   ],
   "source": [
    "precision_score(reconstructionErrorDF.trueClass, yPred)"
   ]
  },
  {
   "cell_type": "code",
   "execution_count": 176,
   "metadata": {},
   "outputs": [
    {
     "data": {
      "text/plain": [
       "0.062062937062937064"
      ]
     },
     "execution_count": 176,
     "metadata": {},
     "output_type": "execute_result"
    }
   ],
   "source": [
    "71/ (71 + 1073) # precision"
   ]
  },
  {
   "cell_type": "code",
   "execution_count": 178,
   "metadata": {},
   "outputs": [
    {
     "data": {
      "text/plain": [
       "16.112676056338028"
      ]
     },
     "execution_count": 178,
     "metadata": {},
     "output_type": "execute_result"
    }
   ],
   "source": [
    "(1073+ 71) / 71 # FPR in Bank terms"
   ]
  },
  {
   "cell_type": "code",
   "execution_count": 179,
   "metadata": {},
   "outputs": [
    {
     "data": {
      "text/plain": [
       "0.7244897959183674"
      ]
     },
     "execution_count": 179,
     "metadata": {},
     "output_type": "execute_result"
    }
   ],
   "source": [
    "recall_score(reconstructionErrorDF.trueClass, yPred)"
   ]
  },
  {
   "cell_type": "code",
   "execution_count": 181,
   "metadata": {},
   "outputs": [
    {
     "data": {
      "text/plain": [
       "0.7244897959183674"
      ]
     },
     "execution_count": 181,
     "metadata": {},
     "output_type": "execute_result"
    }
   ],
   "source": [
    "71/ (71 + 27) # recall"
   ]
  },
  {
   "cell_type": "markdown",
   "metadata": {},
   "source": [
    "As we have seen, we can change the precision/ recall tradeoff by varying the thresholdMSE."
   ]
  },
  {
   "cell_type": "code",
   "execution_count": null,
   "metadata": {
    "collapsed": true
   },
   "outputs": [],
   "source": []
  }
 ],
 "metadata": {
  "kernelspec": {
   "display_name": "Python 3",
   "language": "python",
   "name": "python3"
  },
  "language_info": {
   "codemirror_mode": {
    "name": "ipython",
    "version": 3
   },
   "file_extension": ".py",
   "mimetype": "text/x-python",
   "name": "python",
   "nbconvert_exporter": "python",
   "pygments_lexer": "ipython3",
   "version": "3.6.3"
  }
 },
 "nbformat": 4,
 "nbformat_minor": 2
}
