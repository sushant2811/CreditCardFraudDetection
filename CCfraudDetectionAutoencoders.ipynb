{
 "cells": [
  {
   "cell_type": "code",
   "execution_count": 1,
   "metadata": {
    "collapsed": true
   },
   "outputs": [],
   "source": [
    "import pandas as pd"
   ]
  },
  {
   "cell_type": "markdown",
   "metadata": {},
   "source": [
    "## Importing data "
   ]
  },
  {
   "cell_type": "code",
   "execution_count": 2,
   "metadata": {
    "collapsed": true
   },
   "outputs": [],
   "source": [
    "df = pd.read_csv('./creditcard.csv')"
   ]
  },
  {
   "cell_type": "code",
   "execution_count": 3,
   "metadata": {},
   "outputs": [
    {
     "data": {
      "text/html": [
       "<div>\n",
       "<style>\n",
       "    .dataframe thead tr:only-child th {\n",
       "        text-align: right;\n",
       "    }\n",
       "\n",
       "    .dataframe thead th {\n",
       "        text-align: left;\n",
       "    }\n",
       "\n",
       "    .dataframe tbody tr th {\n",
       "        vertical-align: top;\n",
       "    }\n",
       "</style>\n",
       "<table border=\"1\" class=\"dataframe\">\n",
       "  <thead>\n",
       "    <tr style=\"text-align: right;\">\n",
       "      <th></th>\n",
       "      <th>Time</th>\n",
       "      <th>V1</th>\n",
       "      <th>V2</th>\n",
       "      <th>V3</th>\n",
       "      <th>V4</th>\n",
       "      <th>V5</th>\n",
       "      <th>V6</th>\n",
       "      <th>V7</th>\n",
       "      <th>V8</th>\n",
       "      <th>V9</th>\n",
       "      <th>...</th>\n",
       "      <th>V21</th>\n",
       "      <th>V22</th>\n",
       "      <th>V23</th>\n",
       "      <th>V24</th>\n",
       "      <th>V25</th>\n",
       "      <th>V26</th>\n",
       "      <th>V27</th>\n",
       "      <th>V28</th>\n",
       "      <th>Amount</th>\n",
       "      <th>Class</th>\n",
       "    </tr>\n",
       "  </thead>\n",
       "  <tbody>\n",
       "    <tr>\n",
       "      <th>0</th>\n",
       "      <td>0.0</td>\n",
       "      <td>-1.359807</td>\n",
       "      <td>-0.072781</td>\n",
       "      <td>2.536347</td>\n",
       "      <td>1.378155</td>\n",
       "      <td>-0.338321</td>\n",
       "      <td>0.462388</td>\n",
       "      <td>0.239599</td>\n",
       "      <td>0.098698</td>\n",
       "      <td>0.363787</td>\n",
       "      <td>...</td>\n",
       "      <td>-0.018307</td>\n",
       "      <td>0.277838</td>\n",
       "      <td>-0.110474</td>\n",
       "      <td>0.066928</td>\n",
       "      <td>0.128539</td>\n",
       "      <td>-0.189115</td>\n",
       "      <td>0.133558</td>\n",
       "      <td>-0.021053</td>\n",
       "      <td>149.62</td>\n",
       "      <td>0</td>\n",
       "    </tr>\n",
       "    <tr>\n",
       "      <th>1</th>\n",
       "      <td>0.0</td>\n",
       "      <td>1.191857</td>\n",
       "      <td>0.266151</td>\n",
       "      <td>0.166480</td>\n",
       "      <td>0.448154</td>\n",
       "      <td>0.060018</td>\n",
       "      <td>-0.082361</td>\n",
       "      <td>-0.078803</td>\n",
       "      <td>0.085102</td>\n",
       "      <td>-0.255425</td>\n",
       "      <td>...</td>\n",
       "      <td>-0.225775</td>\n",
       "      <td>-0.638672</td>\n",
       "      <td>0.101288</td>\n",
       "      <td>-0.339846</td>\n",
       "      <td>0.167170</td>\n",
       "      <td>0.125895</td>\n",
       "      <td>-0.008983</td>\n",
       "      <td>0.014724</td>\n",
       "      <td>2.69</td>\n",
       "      <td>0</td>\n",
       "    </tr>\n",
       "    <tr>\n",
       "      <th>2</th>\n",
       "      <td>1.0</td>\n",
       "      <td>-1.358354</td>\n",
       "      <td>-1.340163</td>\n",
       "      <td>1.773209</td>\n",
       "      <td>0.379780</td>\n",
       "      <td>-0.503198</td>\n",
       "      <td>1.800499</td>\n",
       "      <td>0.791461</td>\n",
       "      <td>0.247676</td>\n",
       "      <td>-1.514654</td>\n",
       "      <td>...</td>\n",
       "      <td>0.247998</td>\n",
       "      <td>0.771679</td>\n",
       "      <td>0.909412</td>\n",
       "      <td>-0.689281</td>\n",
       "      <td>-0.327642</td>\n",
       "      <td>-0.139097</td>\n",
       "      <td>-0.055353</td>\n",
       "      <td>-0.059752</td>\n",
       "      <td>378.66</td>\n",
       "      <td>0</td>\n",
       "    </tr>\n",
       "    <tr>\n",
       "      <th>3</th>\n",
       "      <td>1.0</td>\n",
       "      <td>-0.966272</td>\n",
       "      <td>-0.185226</td>\n",
       "      <td>1.792993</td>\n",
       "      <td>-0.863291</td>\n",
       "      <td>-0.010309</td>\n",
       "      <td>1.247203</td>\n",
       "      <td>0.237609</td>\n",
       "      <td>0.377436</td>\n",
       "      <td>-1.387024</td>\n",
       "      <td>...</td>\n",
       "      <td>-0.108300</td>\n",
       "      <td>0.005274</td>\n",
       "      <td>-0.190321</td>\n",
       "      <td>-1.175575</td>\n",
       "      <td>0.647376</td>\n",
       "      <td>-0.221929</td>\n",
       "      <td>0.062723</td>\n",
       "      <td>0.061458</td>\n",
       "      <td>123.50</td>\n",
       "      <td>0</td>\n",
       "    </tr>\n",
       "    <tr>\n",
       "      <th>4</th>\n",
       "      <td>2.0</td>\n",
       "      <td>-1.158233</td>\n",
       "      <td>0.877737</td>\n",
       "      <td>1.548718</td>\n",
       "      <td>0.403034</td>\n",
       "      <td>-0.407193</td>\n",
       "      <td>0.095921</td>\n",
       "      <td>0.592941</td>\n",
       "      <td>-0.270533</td>\n",
       "      <td>0.817739</td>\n",
       "      <td>...</td>\n",
       "      <td>-0.009431</td>\n",
       "      <td>0.798278</td>\n",
       "      <td>-0.137458</td>\n",
       "      <td>0.141267</td>\n",
       "      <td>-0.206010</td>\n",
       "      <td>0.502292</td>\n",
       "      <td>0.219422</td>\n",
       "      <td>0.215153</td>\n",
       "      <td>69.99</td>\n",
       "      <td>0</td>\n",
       "    </tr>\n",
       "  </tbody>\n",
       "</table>\n",
       "<p>5 rows × 31 columns</p>\n",
       "</div>"
      ],
      "text/plain": [
       "   Time        V1        V2        V3        V4        V5        V6        V7  \\\n",
       "0   0.0 -1.359807 -0.072781  2.536347  1.378155 -0.338321  0.462388  0.239599   \n",
       "1   0.0  1.191857  0.266151  0.166480  0.448154  0.060018 -0.082361 -0.078803   \n",
       "2   1.0 -1.358354 -1.340163  1.773209  0.379780 -0.503198  1.800499  0.791461   \n",
       "3   1.0 -0.966272 -0.185226  1.792993 -0.863291 -0.010309  1.247203  0.237609   \n",
       "4   2.0 -1.158233  0.877737  1.548718  0.403034 -0.407193  0.095921  0.592941   \n",
       "\n",
       "         V8        V9  ...         V21       V22       V23       V24  \\\n",
       "0  0.098698  0.363787  ...   -0.018307  0.277838 -0.110474  0.066928   \n",
       "1  0.085102 -0.255425  ...   -0.225775 -0.638672  0.101288 -0.339846   \n",
       "2  0.247676 -1.514654  ...    0.247998  0.771679  0.909412 -0.689281   \n",
       "3  0.377436 -1.387024  ...   -0.108300  0.005274 -0.190321 -1.175575   \n",
       "4 -0.270533  0.817739  ...   -0.009431  0.798278 -0.137458  0.141267   \n",
       "\n",
       "        V25       V26       V27       V28  Amount  Class  \n",
       "0  0.128539 -0.189115  0.133558 -0.021053  149.62      0  \n",
       "1  0.167170  0.125895 -0.008983  0.014724    2.69      0  \n",
       "2 -0.327642 -0.139097 -0.055353 -0.059752  378.66      0  \n",
       "3  0.647376 -0.221929  0.062723  0.061458  123.50      0  \n",
       "4 -0.206010  0.502292  0.219422  0.215153   69.99      0  \n",
       "\n",
       "[5 rows x 31 columns]"
      ]
     },
     "execution_count": 3,
     "metadata": {},
     "output_type": "execute_result"
    }
   ],
   "source": [
    "df.head()"
   ]
  },
  {
   "cell_type": "code",
   "execution_count": 4,
   "metadata": {},
   "outputs": [
    {
     "data": {
      "text/plain": [
       "(284807, 31)"
      ]
     },
     "execution_count": 4,
     "metadata": {},
     "output_type": "execute_result"
    }
   ],
   "source": [
    "df.shape"
   ]
  },
  {
   "cell_type": "code",
   "execution_count": 5,
   "metadata": {},
   "outputs": [
    {
     "data": {
      "text/plain": [
       "Time      0\n",
       "V1        0\n",
       "V2        0\n",
       "V3        0\n",
       "V4        0\n",
       "V5        0\n",
       "V6        0\n",
       "V7        0\n",
       "V8        0\n",
       "V9        0\n",
       "V10       0\n",
       "V11       0\n",
       "V12       0\n",
       "V13       0\n",
       "V14       0\n",
       "V15       0\n",
       "V16       0\n",
       "V17       0\n",
       "V18       0\n",
       "V19       0\n",
       "V20       0\n",
       "V21       0\n",
       "V22       0\n",
       "V23       0\n",
       "V24       0\n",
       "V25       0\n",
       "V26       0\n",
       "V27       0\n",
       "V28       0\n",
       "Amount    0\n",
       "Class     0\n",
       "dtype: int64"
      ]
     },
     "execution_count": 5,
     "metadata": {},
     "output_type": "execute_result"
    }
   ],
   "source": [
    "df.isnull().sum()"
   ]
  },
  {
   "cell_type": "markdown",
   "metadata": {},
   "source": [
    "There are no null values"
   ]
  },
  {
   "cell_type": "code",
   "execution_count": 6,
   "metadata": {},
   "outputs": [
    {
     "data": {
      "text/plain": [
       "0    284315\n",
       "1       492\n",
       "Name: Class, dtype: int64"
      ]
     },
     "execution_count": 6,
     "metadata": {},
     "output_type": "execute_result"
    }
   ],
   "source": [
    "df['Class'].value_counts()"
   ]
  },
  {
   "cell_type": "code",
   "execution_count": 8,
   "metadata": {},
   "outputs": [
    {
     "data": {
      "text/plain": [
       "0.0017304750013189597"
      ]
     },
     "execution_count": 8,
     "metadata": {},
     "output_type": "execute_result"
    }
   ],
   "source": [
    "df['Class'].value_counts()[1] / df['Class'].value_counts()[0]"
   ]
  },
  {
   "cell_type": "markdown",
   "metadata": {},
   "source": [
    "We have about 0.17% fraud cases. Let's separate the fraud and valid transactions"
   ]
  },
  {
   "cell_type": "code",
   "execution_count": 29,
   "metadata": {
    "collapsed": true
   },
   "outputs": [],
   "source": [
    "fraud = df[df['Class'] == 1]\n",
    "valid = df[df['Class'] == 0]"
   ]
  },
  {
   "cell_type": "code",
   "execution_count": 30,
   "metadata": {},
   "outputs": [
    {
     "data": {
      "text/plain": [
       "(492, 31)"
      ]
     },
     "execution_count": 30,
     "metadata": {},
     "output_type": "execute_result"
    }
   ],
   "source": [
    "fraud.shape"
   ]
  },
  {
   "cell_type": "code",
   "execution_count": 31,
   "metadata": {},
   "outputs": [
    {
     "data": {
      "text/plain": [
       "(284315, 31)"
      ]
     },
     "execution_count": 31,
     "metadata": {},
     "output_type": "execute_result"
    }
   ],
   "source": [
    "valid.shape"
   ]
  },
  {
   "cell_type": "markdown",
   "metadata": {},
   "source": [
    "Let's look at the distribution of the amount in fraud vs. valid case"
   ]
  },
  {
   "cell_type": "code",
   "execution_count": 32,
   "metadata": {},
   "outputs": [
    {
     "data": {
      "text/plain": [
       "count     492.000000\n",
       "mean      122.211321\n",
       "std       256.683288\n",
       "min         0.000000\n",
       "25%         1.000000\n",
       "50%         9.250000\n",
       "75%       105.890000\n",
       "max      2125.870000\n",
       "Name: Amount, dtype: float64"
      ]
     },
     "execution_count": 32,
     "metadata": {},
     "output_type": "execute_result"
    }
   ],
   "source": [
    "fraud.Amount.describe()"
   ]
  },
  {
   "cell_type": "code",
   "execution_count": 33,
   "metadata": {},
   "outputs": [
    {
     "data": {
      "text/plain": [
       "count    284315.000000\n",
       "mean         88.291022\n",
       "std         250.105092\n",
       "min           0.000000\n",
       "25%           5.650000\n",
       "50%          22.000000\n",
       "75%          77.050000\n",
       "max       25691.160000\n",
       "Name: Amount, dtype: float64"
      ]
     },
     "execution_count": 33,
     "metadata": {},
     "output_type": "execute_result"
    }
   ],
   "source": [
    "valid.Amount.describe()"
   ]
  },
  {
   "cell_type": "markdown",
   "metadata": {},
   "source": [
    "Let's have a more graphical representation for the distribution of the amount"
   ]
  },
  {
   "cell_type": "code",
   "execution_count": 34,
   "metadata": {
    "collapsed": true
   },
   "outputs": [],
   "source": [
    "import matplotlib.pyplot as plt\n",
    "%matplotlib inline"
   ]
  },
  {
   "cell_type": "code",
   "execution_count": 71,
   "metadata": {},
   "outputs": [
    {
     "data": {
      "image/png": "[encoded data removed]",
      "text/plain": [
       "<matplotlib.figure.Figure at 0x1185b9a58>"
      ]
     },
     "metadata": {},
     "output_type": "display_data"
    }
   ],
   "source": [
    "f, (ax1, ax2) = plt.subplots(2, 1, sharex=True)\n",
    "#sharex=True allows both the subplots to share the same X axis. \n",
    "f.suptitle('Amount per transaction by class')\n",
    "\n",
    "numberBins = 400\n",
    "\n",
    "ax1.hist(fraud.Amount, bins=numberBins);\n",
    "ax1.set_title('Fraud')\n",
    "\n",
    "ax2.hist(valid.Amount, bins=numberBins);\n",
    "ax2.set_title('Normal')\n",
    "\n",
    "plt.xlabel('Amount ($)')\n",
    "plt.ylabel('Number of transactions')\n",
    "plt.xlim((0, 1000));\n",
    "#plt.yscale('log')"
   ]
  },
  {
   "cell_type": "markdown",
   "metadata": {},
   "source": [
    "Let's look at te distribution of time for fraud vs. valid transactions. "
   ]
  },
  {
   "cell_type": "code",
   "execution_count": 74,
   "metadata": {},
   "outputs": [
    {
     "data": {
      "image/png": "[encoded data removed]",
      "text/plain": [
       "<matplotlib.figure.Figure at 0x116224ba8>"
      ]
     },
     "metadata": {},
     "output_type": "display_data"
    }
   ],
   "source": [
    "f, (ax1, ax2) = plt.subplots(2, 1, sharex=True)\n",
    "\n",
    "f.suptitle('Time')\n",
    "\n",
    "ax1.hist(fraud.Time, bins=numberBins)\n",
    "ax1.set_title('fraud')\n",
    "\n",
    "ax2.hist(valid.Time, bins=numberBins)\n",
    "ax2.set_title('valid')\n",
    "\n",
    "plt.xlabel('Time')\n",
    "plt.ylabel('Number of transactions');"
   ]
  },
  {
   "cell_type": "markdown",
   "metadata": {},
   "source": [
    "Let's also look at the time of the transaction vs. amount for fraud and normal cases."
   ]
  },
  {
   "cell_type": "code",
   "execution_count": 77,
   "metadata": {},
   "outputs": [
    {
     "data": {
      "image/png": "[encoded data removed]",
      "text/plain": [
       "<matplotlib.figure.Figure at 0x1165b8320>"
      ]
     },
     "metadata": {},
     "output_type": "display_data"
    }
   ],
   "source": [
    "f, (ax1, ax2) = plt.subplots(2, 1, sharex=True)\n",
    "f.suptitle('Time of transaction vs. Amount by Class')\n",
    "\n",
    "ax1.scatter(fraud.Time, fraud.Amount)\n",
    "ax1.set_title('fraud')\n",
    "\n",
    "ax2.scatter(valid.Time, valid.Amount)\n",
    "ax2.set_title('valid');\n",
    "\n",
    "plt.xlabel('Time (in seconds)');\n",
    "plt.ylabel('Amount');"
   ]
  },
  {
   "cell_type": "code",
   "execution_count": 79,
   "metadata": {},
   "outputs": [
    {
     "data": {
      "text/plain": [
       "0    0.0\n",
       "1    0.0\n",
       "2    1.0\n",
       "3    1.0\n",
       "4    2.0\n",
       "5    2.0\n",
       "6    4.0\n",
       "7    7.0\n",
       "8    7.0\n",
       "9    9.0\n",
       "Name: Time, dtype: float64"
      ]
     },
     "execution_count": 79,
     "metadata": {},
     "output_type": "execute_result"
    }
   ],
   "source": [
    "df.Time.head(10)"
   ]
  },
  {
   "cell_type": "markdown",
   "metadata": {},
   "source": [
    "The time here is the time in seconds from the first transaction. We see (as expected) that it doesn't have any impact on whether the transaction is fraud or not. "
   ]
  },
  {
   "cell_type": "markdown",
   "metadata": {},
   "source": [
    "## Preparing the data\n",
    "\n",
    "We drop the time column and standardize the Amount column."
   ]
  },
  {
   "cell_type": "code",
   "execution_count": 80,
   "metadata": {
    "collapsed": true
   },
   "outputs": [],
   "source": [
    "from sklearn.preprocessing import StandardScaler"
   ]
  },
  {
   "cell_type": "code",
   "execution_count": 81,
   "metadata": {
    "collapsed": true
   },
   "outputs": [],
   "source": [
    "data = df.drop(['Time'], axis = 'columns')"
   ]
  },
  {
   "cell_type": "code",
   "execution_count": 82,
   "metadata": {},
   "outputs": [
    {
     "data": {
      "text/plain": [
       "0    149.62\n",
       "1      2.69\n",
       "2    378.66\n",
       "3    123.50\n",
       "4     69.99\n",
       "Name: Amount, dtype: float64"
      ]
     },
     "execution_count": 82,
     "metadata": {},
     "output_type": "execute_result"
    }
   ],
   "source": [
    "data['Amount'].head()"
   ]
  },
  {
   "cell_type": "code",
   "execution_count": 83,
   "metadata": {},
   "outputs": [
    {
     "data": {
      "text/plain": [
       "count    284807.000000\n",
       "mean         88.349619\n",
       "std         250.120109\n",
       "min           0.000000\n",
       "25%           5.600000\n",
       "50%          22.000000\n",
       "75%          77.165000\n",
       "max       25691.160000\n",
       "Name: Amount, dtype: float64"
      ]
     },
     "execution_count": 83,
     "metadata": {},
     "output_type": "execute_result"
    }
   ],
   "source": [
    "data['Amount'].describe()"
   ]
  },
  {
   "cell_type": "code",
   "execution_count": 84,
   "metadata": {
    "collapsed": true
   },
   "outputs": [],
   "source": [
    "data['Amount'] = StandardScaler().fit_transform(data['Amount'].values.reshape(-1, 1))"
   ]
  },
  {
   "cell_type": "code",
   "execution_count": 85,
   "metadata": {},
   "outputs": [
    {
     "data": {
      "text/plain": [
       "0    0.244964\n",
       "1   -0.342475\n",
       "2    1.160686\n",
       "3    0.140534\n",
       "4   -0.073403\n",
       "Name: Amount, dtype: float64"
      ]
     },
     "execution_count": 85,
     "metadata": {},
     "output_type": "execute_result"
    }
   ],
   "source": [
    "data['Amount'].head()"
   ]
  },
  {
   "cell_type": "code",
   "execution_count": 86,
   "metadata": {},
   "outputs": [
    {
     "data": {
      "text/plain": [
       "count    2.848070e+05\n",
       "mean     3.202236e-16\n",
       "std      1.000002e+00\n",
       "min     -3.532294e-01\n",
       "25%     -3.308401e-01\n",
       "50%     -2.652715e-01\n",
       "75%     -4.471707e-02\n",
       "max      1.023622e+02\n",
       "Name: Amount, dtype: float64"
      ]
     },
     "execution_count": 86,
     "metadata": {},
     "output_type": "execute_result"
    }
   ],
   "source": [
    "data['Amount'].describe()"
   ]
  },
  {
   "cell_type": "markdown",
   "metadata": {},
   "source": [
    "We train the autoencoder only on the valid transactions. "
   ]
  },
  {
   "cell_type": "code",
   "execution_count": 107,
   "metadata": {
    "collapsed": true
   },
   "outputs": [],
   "source": [
    "from sklearn.model_selection import train_test_split"
   ]
  },
  {
   "cell_type": "code",
   "execution_count": 108,
   "metadata": {
    "collapsed": true
   },
   "outputs": [],
   "source": [
    "Xtrain, Xtest = train_test_split(data, test_size = 0.2, random_state = 42)"
   ]
  },
  {
   "cell_type": "code",
   "execution_count": 109,
   "metadata": {},
   "outputs": [
    {
     "data": {
      "text/plain": [
       "0    227451\n",
       "1       394\n",
       "Name: Class, dtype: int64"
      ]
     },
     "execution_count": 109,
     "metadata": {},
     "output_type": "execute_result"
    }
   ],
   "source": [
    "Xtrain.Class.value_counts()"
   ]
  },
  {
   "cell_type": "code",
   "execution_count": 110,
   "metadata": {},
   "outputs": [],
   "source": [
    "Xtrain = Xtrain[Xtrain.Class == 0]\n",
    "\n",
    "Xtrain = Xtrain.drop(['Class'], axis = 'columns')\n",
    "\n",
    "ytest = Xtest['Class']\n",
    "Xtest = Xtest.drop('Class', axis = 'columns')"
   ]
  },
  {
   "cell_type": "code",
   "execution_count": 111,
   "metadata": {},
   "outputs": [
    {
     "data": {
      "text/plain": [
       "(227451, 29)"
      ]
     },
     "execution_count": 111,
     "metadata": {},
     "output_type": "execute_result"
    }
   ],
   "source": [
    "Xtrain.shape"
   ]
  },
  {
   "cell_type": "markdown",
   "metadata": {},
   "source": [
    "## Building model"
   ]
  },
  {
   "cell_type": "markdown",
   "metadata": {},
   "source": [
    "As a first pass, we construct an Autoencoder with 4 fully connected layers with 14, 7, 7 and 29 neurons respectively. The first two layers are used for our encoding and the last two for the decoding. Additionally, L1 regularization will be used during training"
   ]
  },
  {
   "cell_type": "code",
   "execution_count": 121,
   "metadata": {
    "collapsed": true
   },
   "outputs": [],
   "source": [
    "from keras.layers import Dense\n",
    "from keras.models import Sequential\n",
    "from keras import regularizers"
   ]
  },
  {
   "cell_type": "code",
   "execution_count": 126,
   "metadata": {
    "collapsed": true
   },
   "outputs": [],
   "source": [
    "layer1 = 14\n",
    "layer2 = 7\n",
    "layer3 = 7"
   ]
  },
  {
   "cell_type": "code",
   "execution_count": 141,
   "metadata": {},
   "outputs": [],
   "source": [
    "autoencoder = Sequential()\n",
    "\n",
    "autoencoder.add(Dense(layer1, activation='tanh', activity_regularizer=regularizers.l1(10e-5), \\\n",
    "          input_shape=(Xtrain.shape[1],)))\n",
    "\n",
    "autoencoder.add(Dense(layer2, activation='relu'))\n",
    "\n",
    "autoencoder.add(Dense(layer3, activation='tanh'))\n",
    "\n",
    "autoencoder.add(Dense(Xtrain.shape[1], activation='relu'))"
   ]
  },
  {
   "cell_type": "markdown",
   "metadata": {},
   "source": [
    "From the documentation: \n",
    "\n",
    "#### Example\n",
    "\n",
    "```python\n",
    "    # as first layer in a sequential model:\n",
    "    model = Sequential()\n",
    "    model.add(Dense(32, input_shape=(16,)))\n",
    "    # now the model will take as input arrays of shape (*, 16)\n",
    "    # and output arrays of shape (*, 32)\n",
    "\n",
    "    # after the first layer, you don't need to specify\n",
    "    # the size of the input anymore:\n",
    "    model.add(Dense(32))"
   ]
  },
  {
   "cell_type": "code",
   "execution_count": 136,
   "metadata": {},
   "outputs": [
    {
     "data": {
      "text/plain": [
       "29"
      ]
     },
     "execution_count": 136,
     "metadata": {},
     "output_type": "execute_result"
    }
   ],
   "source": [
    "Xtrain.shape[1]"
   ]
  },
  {
   "cell_type": "code",
   "execution_count": 142,
   "metadata": {},
   "outputs": [
    {
     "name": "stdout",
     "output_type": "stream",
     "text": [
      "_________________________________________________________________\n",
      "Layer (type)                 Output Shape              Param #   \n",
      "=================================================================\n",
      "dense_13 (Dense)             (None, 14)                420       \n",
      "_________________________________________________________________\n",
      "dense_14 (Dense)             (None, 7)                 105       \n",
      "_________________________________________________________________\n",
      "dense_15 (Dense)             (None, 7)                 56        \n",
      "_________________________________________________________________\n",
      "dense_16 (Dense)             (None, 29)                232       \n",
      "=================================================================\n",
      "Total params: 813\n",
      "Trainable params: 813\n",
      "Non-trainable params: 0\n",
      "_________________________________________________________________\n"
     ]
    }
   ],
   "source": [
    "autoencoder.summary()"
   ]
  },
  {
   "cell_type": "code",
   "execution_count": 133,
   "metadata": {},
   "outputs": [
    {
     "data": {
      "text/plain": [
       "(227451, 29)"
      ]
     },
     "execution_count": 133,
     "metadata": {},
     "output_type": "execute_result"
    }
   ],
   "source": [
    "Xtrain.shape"
   ]
  },
  {
   "cell_type": "code",
   "execution_count": 134,
   "metadata": {},
   "outputs": [
    {
     "data": {
      "text/plain": [
       "420"
      ]
     },
     "execution_count": 134,
     "metadata": {},
     "output_type": "execute_result"
    }
   ],
   "source": [
    "14 * 30"
   ]
  },
  {
   "cell_type": "code",
   "execution_count": 138,
   "metadata": {},
   "outputs": [
    {
     "data": {
      "text/plain": [
       "105"
      ]
     },
     "execution_count": 138,
     "metadata": {},
     "output_type": "execute_result"
    }
   ],
   "source": [
    "15 * 7"
   ]
  },
  {
   "cell_type": "code",
   "execution_count": 139,
   "metadata": {},
   "outputs": [
    {
     "data": {
      "text/plain": [
       "56"
      ]
     },
     "execution_count": 139,
     "metadata": {},
     "output_type": "execute_result"
    }
   ],
   "source": [
    "8 * 7"
   ]
  },
  {
   "cell_type": "code",
   "execution_count": 140,
   "metadata": {},
   "outputs": [
    {
     "data": {
      "text/plain": [
       "232"
      ]
     },
     "execution_count": 140,
     "metadata": {},
     "output_type": "execute_result"
    }
   ],
   "source": [
    "8 * 29"
   ]
  },
  {
   "cell_type": "markdown",
   "metadata": {},
   "source": [
    "Note how the number of parameters check out. Note that at each step, we have a bias unit added as well. "
   ]
  },
  {
   "cell_type": "markdown",
   "metadata": {},
   "source": [
    "Let's train our model for 100 epochs with a batch size of 32 samples and save the best performing model to a file. The ModelCheckpoint provided by Keras is really handy for such tasks. Additionally, the training progress will be exported in a format that TensorBoard understands."
   ]
  },
  {
   "cell_type": "code",
   "execution_count": 143,
   "metadata": {
    "collapsed": true
   },
   "outputs": [],
   "source": [
    "numEpoch = 100\n",
    "batchSize = 32\n"
   ]
  },
  {
   "cell_type": "code",
   "execution_count": 144,
   "metadata": {
    "collapsed": true
   },
   "outputs": [],
   "source": [
    "autoencoder.compile(optimizer='adam', loss='mean_squared_error', metrics=['accuracy'])\n"
   ]
  },
  {
   "cell_type": "code",
   "execution_count": 145,
   "metadata": {
    "collapsed": true
   },
   "outputs": [],
   "source": [
    "from keras.callbacks import ModelCheckpoint, TensorBoard\n"
   ]
  },
  {
   "cell_type": "code",
   "execution_count": 146,
   "metadata": {
    "collapsed": true
   },
   "outputs": [],
   "source": [
    "checkpointer = ModelCheckpoint(filepath=\"autoencoderModel.h5\",\n",
    "                               verbose=0,\n",
    "                               save_best_only=True)\n"
   ]
  },
  {
   "cell_type": "code",
   "execution_count": 147,
   "metadata": {
    "collapsed": true
   },
   "outputs": [],
   "source": [
    "tensorboard = TensorBoard(log_dir='./logs',\n",
    "                          histogram_freq=0,\n",
    "                          write_graph=True,\n",
    "                          write_images=True)\n"
   ]
  },
  {
   "cell_type": "code",
   "execution_count": 148,
   "metadata": {},
   "outputs": [
    {
     "name": "stdout",
     "output_type": "stream",
     "text": [
      "Train on 227451 samples, validate on 56962 samples\n",
      "Epoch 1/100\n",
      "227451/227451 [==============================] - 11s 46us/step - loss: 0.8346 - acc: 0.5430 - val_loss: 0.7902 - val_acc: 0.6587\n",
      "Epoch 2/100\n",
      "227451/227451 [==============================] - 10s 46us/step - loss: 0.7481 - acc: 0.6636 - val_loss: 0.7760 - val_acc: 0.6582\n",
      "Epoch 3/100\n",
      "227451/227451 [==============================] - 10s 46us/step - loss: 0.7384 - acc: 0.6676 - val_loss: 0.7687 - val_acc: 0.6684\n",
      "Epoch 4/100\n",
      "227451/227451 [==============================] - 10s 46us/step - loss: 0.7345 - acc: 0.6686 - val_loss: 0.7657 - val_acc: 0.6720\n",
      "Epoch 5/100\n",
      "227451/227451 [==============================] - 11s 46us/step - loss: 0.7322 - acc: 0.6680 - val_loss: 0.7668 - val_acc: 0.6683\n",
      "Epoch 6/100\n",
      "227451/227451 [==============================] - 11s 47us/step - loss: 0.7312 - acc: 0.6676 - val_loss: 0.7658 - val_acc: 0.6736\n",
      "Epoch 7/100\n",
      "227451/227451 [==============================] - 11s 47us/step - loss: 0.7302 - acc: 0.6683 - val_loss: 0.7630 - val_acc: 0.6723\n",
      "Epoch 8/100\n",
      "227451/227451 [==============================] - 11s 47us/step - loss: 0.7297 - acc: 0.6688 - val_loss: 0.7625 - val_acc: 0.6676\n",
      "Epoch 9/100\n",
      "227451/227451 [==============================] - 9s 38us/step - loss: 0.7288 - acc: 0.6684 - val_loss: 0.7612 - val_acc: 0.6687\n",
      "Epoch 10/100\n",
      "227451/227451 [==============================] - 2534s 11ms/step - loss: 0.7292 - acc: 0.6682 - val_loss: 0.7657 - val_acc: 0.6667\n",
      "Epoch 11/100\n",
      "227451/227451 [==============================] - 10s 46us/step - loss: 0.7280 - acc: 0.6691 - val_loss: 0.7613 - val_acc: 0.6708\n",
      "Epoch 12/100\n",
      "227451/227451 [==============================] - 11s 48us/step - loss: 0.7277 - acc: 0.6696 - val_loss: 0.7604 - val_acc: 0.6699\n",
      "Epoch 13/100\n",
      "227451/227451 [==============================] - 11s 50us/step - loss: 0.7269 - acc: 0.6728 - val_loss: 0.7610 - val_acc: 0.6675\n",
      "Epoch 14/100\n",
      "227451/227451 [==============================] - 11s 46us/step - loss: 0.7260 - acc: 0.6748 - val_loss: 0.7612 - val_acc: 0.6781\n",
      "Epoch 15/100\n",
      "227451/227451 [==============================] - 15s 65us/step - loss: 0.7254 - acc: 0.6759 - val_loss: 0.7578 - val_acc: 0.6795\n",
      "Epoch 16/100\n",
      "227451/227451 [==============================] - 9s 40us/step - loss: 0.7248 - acc: 0.6777 - val_loss: 0.7611 - val_acc: 0.6831\n",
      "Epoch 17/100\n",
      "227451/227451 [==============================] - 9s 38us/step - loss: 0.7244 - acc: 0.6780 - val_loss: 0.7578 - val_acc: 0.6741\n",
      "Epoch 18/100\n",
      "227451/227451 [==============================] - 10s 43us/step - loss: 0.7237 - acc: 0.6795 - val_loss: 0.7577 - val_acc: 0.6863\n",
      "Epoch 19/100\n",
      "227451/227451 [==============================] - 14s 60us/step - loss: 0.7234 - acc: 0.6797 - val_loss: 0.7592 - val_acc: 0.6785\n",
      "Epoch 20/100\n",
      "227451/227451 [==============================] - 12s 53us/step - loss: 0.7235 - acc: 0.6804 - val_loss: 0.7583 - val_acc: 0.6824\n",
      "Epoch 21/100\n",
      "227451/227451 [==============================] - 10s 45us/step - loss: 0.7228 - acc: 0.6814 - val_loss: 0.7569 - val_acc: 0.6866\n",
      "Epoch 22/100\n",
      "227451/227451 [==============================] - 11s 49us/step - loss: 0.7226 - acc: 0.6820 - val_loss: 0.7577 - val_acc: 0.6800\n",
      "Epoch 23/100\n",
      "227451/227451 [==============================] - 12s 51us/step - loss: 0.7218 - acc: 0.6827 - val_loss: 0.7562 - val_acc: 0.6921\n",
      "Epoch 24/100\n",
      "227451/227451 [==============================] - 11s 50us/step - loss: 0.7222 - acc: 0.6827 - val_loss: 0.7543 - val_acc: 0.6898\n",
      "Epoch 25/100\n",
      "227451/227451 [==============================] - 11s 50us/step - loss: 0.7209 - acc: 0.6834 - val_loss: 0.7544 - val_acc: 0.6855\n",
      "Epoch 26/100\n",
      "227451/227451 [==============================] - 11s 50us/step - loss: 0.7206 - acc: 0.6856 - val_loss: 0.7543 - val_acc: 0.6842\n",
      "Epoch 27/100\n",
      "227451/227451 [==============================] - 12s 51us/step - loss: 0.7204 - acc: 0.6862 - val_loss: 0.7622 - val_acc: 0.6787\n",
      "Epoch 28/100\n",
      "227451/227451 [==============================] - 12s 52us/step - loss: 0.7205 - acc: 0.6871 - val_loss: 0.7536 - val_acc: 0.6923\n",
      "Epoch 29/100\n",
      "227451/227451 [==============================] - 12s 52us/step - loss: 0.7198 - acc: 0.6893 - val_loss: 0.7528 - val_acc: 0.6902\n",
      "Epoch 30/100\n",
      "227451/227451 [==============================] - 12s 53us/step - loss: 0.7200 - acc: 0.6909 - val_loss: 0.7526 - val_acc: 0.6934\n",
      "Epoch 31/100\n",
      "227451/227451 [==============================] - 12s 53us/step - loss: 0.7191 - acc: 0.6924 - val_loss: 0.7517 - val_acc: 0.7031\n",
      "Epoch 32/100\n",
      "227451/227451 [==============================] - 12s 52us/step - loss: 0.7191 - acc: 0.6925 - val_loss: 0.7561 - val_acc: 0.6852\n",
      "Epoch 33/100\n",
      "227451/227451 [==============================] - 12s 53us/step - loss: 0.7188 - acc: 0.6943 - val_loss: 0.7527 - val_acc: 0.6980\n",
      "Epoch 34/100\n",
      "227451/227451 [==============================] - 13s 56us/step - loss: 0.7187 - acc: 0.6938 - val_loss: 0.7524 - val_acc: 0.7025\n",
      "Epoch 35/100\n",
      "227451/227451 [==============================] - 13s 57us/step - loss: 0.7184 - acc: 0.6949 - val_loss: 0.7525 - val_acc: 0.7016\n",
      "Epoch 36/100\n",
      "227451/227451 [==============================] - 9s 39us/step - loss: 0.7185 - acc: 0.6938 - val_loss: 0.7600 - val_acc: 0.6891\n",
      "Epoch 37/100\n",
      "227451/227451 [==============================] - 9s 38us/step - loss: 0.7177 - acc: 0.6939 - val_loss: 0.7551 - val_acc: 0.6791\n",
      "Epoch 38/100\n",
      "227451/227451 [==============================] - 9s 38us/step - loss: 0.7179 - acc: 0.6933 - val_loss: 0.7564 - val_acc: 0.6936\n",
      "Epoch 39/100\n",
      "227451/227451 [==============================] - 9s 39us/step - loss: 0.7178 - acc: 0.6949 - val_loss: 0.7518 - val_acc: 0.6948\n",
      "Epoch 40/100\n",
      "227451/227451 [==============================] - 9s 38us/step - loss: 0.7177 - acc: 0.6946 - val_loss: 0.7511 - val_acc: 0.7066\n",
      "Epoch 41/100\n",
      "227451/227451 [==============================] - 10s 45us/step - loss: 0.7173 - acc: 0.6949 - val_loss: 0.7543 - val_acc: 0.6929\n",
      "Epoch 42/100\n",
      "227451/227451 [==============================] - 12s 55us/step - loss: 0.7173 - acc: 0.6942 - val_loss: 0.7505 - val_acc: 0.6969\n",
      "Epoch 43/100\n",
      "227451/227451 [==============================] - 12s 53us/step - loss: 0.7172 - acc: 0.6948 - val_loss: 0.7518 - val_acc: 0.6954\n",
      "Epoch 44/100\n",
      "227451/227451 [==============================] - 12s 53us/step - loss: 0.7173 - acc: 0.6942 - val_loss: 0.7659 - val_acc: 0.6764\n",
      "Epoch 45/100\n",
      "227451/227451 [==============================] - 12s 54us/step - loss: 0.7177 - acc: 0.6933 - val_loss: 0.7543 - val_acc: 0.6876\n",
      "Epoch 46/100\n",
      "227451/227451 [==============================] - 12s 53us/step - loss: 0.7171 - acc: 0.6935 - val_loss: 0.7541 - val_acc: 0.6951\n",
      "Epoch 47/100\n",
      "227451/227451 [==============================] - 12s 53us/step - loss: 0.7173 - acc: 0.6936 - val_loss: 0.7616 - val_acc: 0.6862\n",
      "Epoch 48/100\n",
      "227451/227451 [==============================] - 12s 54us/step - loss: 0.7172 - acc: 0.6947 - val_loss: 0.7511 - val_acc: 0.6998\n",
      "Epoch 49/100\n",
      "227451/227451 [==============================] - 12s 53us/step - loss: 0.7169 - acc: 0.6935 - val_loss: 0.7548 - val_acc: 0.6902\n",
      "Epoch 50/100\n",
      "227451/227451 [==============================] - 12s 53us/step - loss: 0.7175 - acc: 0.6946 - val_loss: 0.7526 - val_acc: 0.6911\n",
      "Epoch 51/100\n",
      "227451/227451 [==============================] - 12s 53us/step - loss: 0.7167 - acc: 0.6945 - val_loss: 0.7503 - val_acc: 0.7005\n",
      "Epoch 52/100\n",
      "227451/227451 [==============================] - 12s 55us/step - loss: 0.7166 - acc: 0.6940 - val_loss: 0.7503 - val_acc: 0.6969\n",
      "Epoch 53/100\n",
      "227451/227451 [==============================] - 11s 49us/step - loss: 0.7163 - acc: 0.6947 - val_loss: 0.7498 - val_acc: 0.6920\n",
      "Epoch 54/100\n",
      "227451/227451 [==============================] - 9s 38us/step - loss: 0.7165 - acc: 0.6936 - val_loss: 0.7543 - val_acc: 0.6967\n",
      "Epoch 55/100\n",
      "227451/227451 [==============================] - 12s 55us/step - loss: 0.7183 - acc: 0.6931 - val_loss: 0.7521 - val_acc: 0.7041\n",
      "Epoch 56/100\n",
      "227451/227451 [==============================] - 11s 49us/step - loss: 0.7165 - acc: 0.6940 - val_loss: 0.7534 - val_acc: 0.6946\n",
      "Epoch 57/100\n",
      "227451/227451 [==============================] - 11s 50us/step - loss: 0.7160 - acc: 0.6944 - val_loss: 0.7514 - val_acc: 0.6947\n",
      "Epoch 58/100\n"
     ]
    },
    {
     "name": "stdout",
     "output_type": "stream",
     "text": [
      "227451/227451 [==============================] - 9s 39us/step - loss: 0.7170 - acc: 0.6941 - val_loss: 0.7517 - val_acc: 0.6947\n",
      "Epoch 59/100\n",
      "227451/227451 [==============================] - 9s 38us/step - loss: 0.7159 - acc: 0.6951 - val_loss: 0.7506 - val_acc: 0.6979\n",
      "Epoch 60/100\n",
      "227451/227451 [==============================] - 10s 43us/step - loss: 0.7162 - acc: 0.6950 - val_loss: 0.7505 - val_acc: 0.6944\n",
      "Epoch 61/100\n",
      "227451/227451 [==============================] - 9s 39us/step - loss: 0.7158 - acc: 0.6947 - val_loss: 0.7512 - val_acc: 0.7028\n",
      "Epoch 62/100\n",
      "227451/227451 [==============================] - 9s 38us/step - loss: 0.7156 - acc: 0.6944 - val_loss: 0.7498 - val_acc: 0.6977\n",
      "Epoch 63/100\n",
      "227451/227451 [==============================] - 13s 56us/step - loss: 0.7164 - acc: 0.6941 - val_loss: 0.7505 - val_acc: 0.6899\n",
      "Epoch 64/100\n",
      "227451/227451 [==============================] - 9s 38us/step - loss: 0.7166 - acc: 0.6949 - val_loss: 0.7551 - val_acc: 0.6933\n",
      "Epoch 65/100\n",
      "227451/227451 [==============================] - 9s 38us/step - loss: 0.7159 - acc: 0.6944 - val_loss: 0.7523 - val_acc: 0.6965\n",
      "Epoch 66/100\n",
      "227451/227451 [==============================] - 9s 38us/step - loss: 0.7162 - acc: 0.6933 - val_loss: 0.7502 - val_acc: 0.7000\n",
      "Epoch 67/100\n",
      "227451/227451 [==============================] - 9s 38us/step - loss: 0.7156 - acc: 0.6945 - val_loss: 0.7518 - val_acc: 0.6872\n",
      "Epoch 68/100\n",
      "227451/227451 [==============================] - 9s 38us/step - loss: 0.7164 - acc: 0.6937 - val_loss: 0.7499 - val_acc: 0.6944\n",
      "Epoch 69/100\n",
      "227451/227451 [==============================] - 9s 42us/step - loss: 0.7159 - acc: 0.6947 - val_loss: 0.7504 - val_acc: 0.6943\n",
      "Epoch 70/100\n",
      "227451/227451 [==============================] - 9s 38us/step - loss: 0.7157 - acc: 0.6942 - val_loss: 0.7536 - val_acc: 0.6960\n",
      "Epoch 71/100\n",
      "227451/227451 [==============================] - 9s 39us/step - loss: 0.7154 - acc: 0.6945 - val_loss: 0.7505 - val_acc: 0.6968\n",
      "Epoch 72/100\n",
      "227451/227451 [==============================] - 9s 38us/step - loss: 0.7159 - acc: 0.6940 - val_loss: 0.7508 - val_acc: 0.7019\n",
      "Epoch 73/100\n",
      "227451/227451 [==============================] - 9s 39us/step - loss: 0.7158 - acc: 0.6939 - val_loss: 0.7507 - val_acc: 0.6796\n",
      "Epoch 74/100\n",
      "227451/227451 [==============================] - 11s 47us/step - loss: 0.7163 - acc: 0.6941 - val_loss: 0.7510 - val_acc: 0.7015\n",
      "Epoch 75/100\n",
      "227451/227451 [==============================] - 12s 53us/step - loss: 0.7157 - acc: 0.6944 - val_loss: 0.7504 - val_acc: 0.6978\n",
      "Epoch 76/100\n",
      "227451/227451 [==============================] - 12s 53us/step - loss: 0.7152 - acc: 0.6944 - val_loss: 0.7501 - val_acc: 0.7048\n",
      "Epoch 77/100\n",
      "227451/227451 [==============================] - 12s 53us/step - loss: 0.7153 - acc: 0.6943 - val_loss: 0.7507 - val_acc: 0.6918\n",
      "Epoch 78/100\n",
      "227451/227451 [==============================] - 12s 53us/step - loss: 0.7155 - acc: 0.6948 - val_loss: 0.7495 - val_acc: 0.6989\n",
      "Epoch 79/100\n",
      "227451/227451 [==============================] - 12s 53us/step - loss: 0.7156 - acc: 0.6942 - val_loss: 0.7509 - val_acc: 0.6937\n",
      "Epoch 80/100\n",
      "227451/227451 [==============================] - 12s 54us/step - loss: 0.7154 - acc: 0.6942 - val_loss: 0.7495 - val_acc: 0.7002\n",
      "Epoch 81/100\n",
      "227451/227451 [==============================] - 13s 56us/step - loss: 0.7157 - acc: 0.6939 - val_loss: 0.7532 - val_acc: 0.6756\n",
      "Epoch 82/100\n",
      "227451/227451 [==============================] - 12s 54us/step - loss: 0.7154 - acc: 0.6945 - val_loss: 0.7485 - val_acc: 0.6940\n",
      "Epoch 83/100\n",
      "227451/227451 [==============================] - 12s 54us/step - loss: 0.7160 - acc: 0.6945 - val_loss: 0.7518 - val_acc: 0.6965\n",
      "Epoch 84/100\n",
      "227451/227451 [==============================] - 12s 54us/step - loss: 0.7155 - acc: 0.6944 - val_loss: 0.7497 - val_acc: 0.6975\n",
      "Epoch 85/100\n",
      "227451/227451 [==============================] - 12s 53us/step - loss: 0.7150 - acc: 0.6948 - val_loss: 0.7511 - val_acc: 0.6871\n",
      "Epoch 86/100\n",
      "227451/227451 [==============================] - 12s 54us/step - loss: 0.7149 - acc: 0.6937 - val_loss: 0.7489 - val_acc: 0.6964\n",
      "Epoch 87/100\n",
      "227451/227451 [==============================] - 12s 53us/step - loss: 0.7151 - acc: 0.6933 - val_loss: 0.7490 - val_acc: 0.6919\n",
      "Epoch 88/100\n",
      "227451/227451 [==============================] - 12s 52us/step - loss: 0.7152 - acc: 0.6937 - val_loss: 0.7499 - val_acc: 0.6933\n",
      "Epoch 89/100\n",
      "227451/227451 [==============================] - 12s 54us/step - loss: 0.7151 - acc: 0.6936 - val_loss: 0.7545 - val_acc: 0.6931\n",
      "Epoch 90/100\n",
      "227451/227451 [==============================] - 12s 52us/step - loss: 0.7150 - acc: 0.6939 - val_loss: 0.7501 - val_acc: 0.6920\n",
      "Epoch 91/100\n",
      "227451/227451 [==============================] - 12s 53us/step - loss: 0.7149 - acc: 0.6940 - val_loss: 0.7489 - val_acc: 0.6964\n",
      "Epoch 92/100\n",
      "227451/227451 [==============================] - 12s 52us/step - loss: 0.7147 - acc: 0.6943 - val_loss: 0.7510 - val_acc: 0.6947\n",
      "Epoch 93/100\n",
      "227451/227451 [==============================] - 12s 53us/step - loss: 0.7148 - acc: 0.6933 - val_loss: 0.7538 - val_acc: 0.6859\n",
      "Epoch 94/100\n",
      "227451/227451 [==============================] - 12s 53us/step - loss: 0.7160 - acc: 0.6924 - val_loss: 0.7502 - val_acc: 0.7024\n",
      "Epoch 95/100\n",
      "227451/227451 [==============================] - 12s 53us/step - loss: 0.7146 - acc: 0.6940 - val_loss: 0.7484 - val_acc: 0.7032\n",
      "Epoch 96/100\n",
      "227451/227451 [==============================] - 12s 53us/step - loss: 0.7149 - acc: 0.6942 - val_loss: 0.7541 - val_acc: 0.6947\n",
      "Epoch 97/100\n",
      "227451/227451 [==============================] - 12s 54us/step - loss: 0.7148 - acc: 0.6951 - val_loss: 0.7498 - val_acc: 0.6917\n",
      "Epoch 98/100\n",
      "227451/227451 [==============================] - 12s 54us/step - loss: 0.7147 - acc: 0.6940 - val_loss: 0.7477 - val_acc: 0.7036\n",
      "Epoch 99/100\n",
      "227451/227451 [==============================] - 12s 54us/step - loss: 0.7162 - acc: 0.6939 - val_loss: 0.7484 - val_acc: 0.6961\n",
      "Epoch 100/100\n",
      "227451/227451 [==============================] - 12s 55us/step - loss: 0.7150 - acc: 0.6939 - val_loss: 0.7505 - val_acc: 0.7044\n"
     ]
    }
   ],
   "source": [
    "history = autoencoder.fit(Xtrain, Xtrain,\n",
    "                    epochs=numEpoch,\n",
    "                    batch_size=batchSize,\n",
    "                    shuffle=True,\n",
    "                    validation_data=(Xtest, Xtest),\n",
    "                    verbose=1,\n",
    "                    callbacks=[checkpointer, tensorboard]).history\n"
   ]
  },
  {
   "cell_type": "markdown",
   "metadata": {},
   "source": [
    "## Evaluation"
   ]
  },
  {
   "cell_type": "code",
   "execution_count": 152,
   "metadata": {},
   "outputs": [
    {
     "data": {
      "text/plain": [
       "dict"
      ]
     },
     "execution_count": 152,
     "metadata": {},
     "output_type": "execute_result"
    }
   ],
   "source": [
    "type(history)"
   ]
  },
  {
   "cell_type": "code",
   "execution_count": 154,
   "metadata": {},
   "outputs": [
    {
     "data": {
      "text/plain": [
       "dict_keys(['val_loss', 'val_acc', 'loss', 'acc'])"
      ]
     },
     "execution_count": 154,
     "metadata": {},
     "output_type": "execute_result"
    }
   ],
   "source": [
    "history.keys()"
   ]
  },
  {
   "cell_type": "code",
   "execution_count": 161,
   "metadata": {},
   "outputs": [
    {
     "data": {
      "image/png": "[encoded data removed]",
      "text/plain": [
       "<matplotlib.figure.Figure at 0x1a391af1d0>"
      ]
     },
     "metadata": {},
     "output_type": "display_data"
    }
   ],
   "source": [
    "plt.plot(history['loss']);\n",
    "plt.plot(history['val_loss']);\n",
    "plt.title('model loss')\n",
    "plt.ylabel('loss')\n",
    "plt.xlabel('epoch')\n",
    "plt.legend(['training set loss', 'validation set loss']);"
   ]
  },
  {
   "cell_type": "markdown",
   "metadata": {},
   "source": [
    "**Let's now look at the reconstruction error**"
   ]
  },
  {
   "cell_type": "code",
   "execution_count": 179,
   "metadata": {
    "collapsed": true
   },
   "outputs": [],
   "source": [
    "predictions = autoencoder.predict(Xtest)"
   ]
  },
  {
   "cell_type": "code",
   "execution_count": 180,
   "metadata": {},
   "outputs": [
    {
     "data": {
      "text/plain": [
       "array([[ 0.        ,  4.09085798,  0.        , ...,  0.88769448,\n",
       "         0.        ,  0.        ],\n",
       "       [ 0.8397584 ,  0.        ,  0.        , ...,  0.        ,\n",
       "         0.        ,  1.48942947],\n",
       "       [ 1.6279335 ,  0.        ,  0.23472691, ...,  0.        ,\n",
       "         0.        ,  0.        ],\n",
       "       ..., \n",
       "       [ 0.        ,  0.5557065 ,  0.        , ...,  0.        ,\n",
       "         0.        ,  0.        ],\n",
       "       [ 0.        ,  0.90350479,  1.75944138, ...,  0.        ,\n",
       "         0.        ,  0.        ],\n",
       "       [ 0.        ,  0.        ,  0.        , ...,  0.        ,\n",
       "         0.        ,  3.48110938]], dtype=float32)"
      ]
     },
     "execution_count": 180,
     "metadata": {},
     "output_type": "execute_result"
    }
   ],
   "source": [
    "predictions"
   ]
  },
  {
   "cell_type": "code",
   "execution_count": 181,
   "metadata": {
    "collapsed": true
   },
   "outputs": [],
   "source": [
    "import numpy as np"
   ]
  },
  {
   "cell_type": "code",
   "execution_count": 182,
   "metadata": {},
   "outputs": [
    {
     "data": {
      "text/html": [
       "<div>\n",
       "<style>\n",
       "    .dataframe thead tr:only-child th {\n",
       "        text-align: right;\n",
       "    }\n",
       "\n",
       "    .dataframe thead th {\n",
       "        text-align: left;\n",
       "    }\n",
       "\n",
       "    .dataframe tbody tr th {\n",
       "        vertical-align: top;\n",
       "    }\n",
       "</style>\n",
       "<table border=\"1\" class=\"dataframe\">\n",
       "  <thead>\n",
       "    <tr style=\"text-align: right;\">\n",
       "      <th></th>\n",
       "      <th>V1</th>\n",
       "      <th>V2</th>\n",
       "      <th>V3</th>\n",
       "      <th>V4</th>\n",
       "      <th>V5</th>\n",
       "      <th>V6</th>\n",
       "      <th>V7</th>\n",
       "      <th>V8</th>\n",
       "      <th>V9</th>\n",
       "      <th>V10</th>\n",
       "      <th>...</th>\n",
       "      <th>V20</th>\n",
       "      <th>V21</th>\n",
       "      <th>V22</th>\n",
       "      <th>V23</th>\n",
       "      <th>V24</th>\n",
       "      <th>V25</th>\n",
       "      <th>V26</th>\n",
       "      <th>V27</th>\n",
       "      <th>V28</th>\n",
       "      <th>Amount</th>\n",
       "    </tr>\n",
       "  </thead>\n",
       "  <tbody>\n",
       "    <tr>\n",
       "      <th>43428</th>\n",
       "      <td>-16.526507</td>\n",
       "      <td>8.584972</td>\n",
       "      <td>-18.649853</td>\n",
       "      <td>9.505594</td>\n",
       "      <td>-13.793819</td>\n",
       "      <td>-2.832404</td>\n",
       "      <td>-16.701694</td>\n",
       "      <td>7.517344</td>\n",
       "      <td>-8.507059</td>\n",
       "      <td>-14.110184</td>\n",
       "      <td>...</td>\n",
       "      <td>-1.514923</td>\n",
       "      <td>1.190739</td>\n",
       "      <td>-1.127670</td>\n",
       "      <td>-2.358579</td>\n",
       "      <td>0.673461</td>\n",
       "      <td>-1.413700</td>\n",
       "      <td>-0.462762</td>\n",
       "      <td>-2.018575</td>\n",
       "      <td>-1.042804</td>\n",
       "      <td>1.102834</td>\n",
       "    </tr>\n",
       "    <tr>\n",
       "      <th>49906</th>\n",
       "      <td>0.339812</td>\n",
       "      <td>-2.743745</td>\n",
       "      <td>-0.134070</td>\n",
       "      <td>-1.385729</td>\n",
       "      <td>-1.451413</td>\n",
       "      <td>1.015887</td>\n",
       "      <td>-0.524379</td>\n",
       "      <td>0.224060</td>\n",
       "      <td>0.899746</td>\n",
       "      <td>-0.565012</td>\n",
       "      <td>...</td>\n",
       "      <td>0.506044</td>\n",
       "      <td>-0.213436</td>\n",
       "      <td>-0.942525</td>\n",
       "      <td>-0.526819</td>\n",
       "      <td>-1.156992</td>\n",
       "      <td>0.311211</td>\n",
       "      <td>-0.746647</td>\n",
       "      <td>0.040996</td>\n",
       "      <td>0.102038</td>\n",
       "      <td>1.726255</td>\n",
       "    </tr>\n",
       "    <tr>\n",
       "      <th>29474</th>\n",
       "      <td>1.399590</td>\n",
       "      <td>-0.590701</td>\n",
       "      <td>0.168619</td>\n",
       "      <td>-1.029950</td>\n",
       "      <td>-0.539806</td>\n",
       "      <td>0.040444</td>\n",
       "      <td>-0.712567</td>\n",
       "      <td>0.002299</td>\n",
       "      <td>-0.971747</td>\n",
       "      <td>0.756801</td>\n",
       "      <td>...</td>\n",
       "      <td>0.212877</td>\n",
       "      <td>0.102398</td>\n",
       "      <td>0.168269</td>\n",
       "      <td>-0.166639</td>\n",
       "      <td>-0.810250</td>\n",
       "      <td>0.505083</td>\n",
       "      <td>-0.232340</td>\n",
       "      <td>0.011409</td>\n",
       "      <td>0.004634</td>\n",
       "      <td>-0.229289</td>\n",
       "    </tr>\n",
       "    <tr>\n",
       "      <th>276481</th>\n",
       "      <td>-0.432071</td>\n",
       "      <td>1.647895</td>\n",
       "      <td>-1.669361</td>\n",
       "      <td>-0.349504</td>\n",
       "      <td>0.785785</td>\n",
       "      <td>-0.630647</td>\n",
       "      <td>0.276990</td>\n",
       "      <td>0.586025</td>\n",
       "      <td>-0.484715</td>\n",
       "      <td>-1.376648</td>\n",
       "      <td>...</td>\n",
       "      <td>-0.244633</td>\n",
       "      <td>0.358932</td>\n",
       "      <td>0.873663</td>\n",
       "      <td>-0.178642</td>\n",
       "      <td>-0.017171</td>\n",
       "      <td>-0.207392</td>\n",
       "      <td>-0.157756</td>\n",
       "      <td>-0.237386</td>\n",
       "      <td>0.001934</td>\n",
       "      <td>-0.347232</td>\n",
       "    </tr>\n",
       "    <tr>\n",
       "      <th>278846</th>\n",
       "      <td>2.014160</td>\n",
       "      <td>-0.137394</td>\n",
       "      <td>-1.015839</td>\n",
       "      <td>0.327269</td>\n",
       "      <td>-0.182179</td>\n",
       "      <td>-0.956571</td>\n",
       "      <td>0.043241</td>\n",
       "      <td>-0.160746</td>\n",
       "      <td>0.363241</td>\n",
       "      <td>0.259452</td>\n",
       "      <td>...</td>\n",
       "      <td>-0.255293</td>\n",
       "      <td>-0.238644</td>\n",
       "      <td>-0.616400</td>\n",
       "      <td>0.347045</td>\n",
       "      <td>0.061561</td>\n",
       "      <td>-0.360196</td>\n",
       "      <td>0.174730</td>\n",
       "      <td>-0.078043</td>\n",
       "      <td>-0.070571</td>\n",
       "      <td>-0.349671</td>\n",
       "    </tr>\n",
       "  </tbody>\n",
       "</table>\n",
       "<p>5 rows × 29 columns</p>\n",
       "</div>"
      ],
      "text/plain": [
       "               V1        V2         V3        V4         V5        V6  \\\n",
       "43428  -16.526507  8.584972 -18.649853  9.505594 -13.793819 -2.832404   \n",
       "49906    0.339812 -2.743745  -0.134070 -1.385729  -1.451413  1.015887   \n",
       "29474    1.399590 -0.590701   0.168619 -1.029950  -0.539806  0.040444   \n",
       "276481  -0.432071  1.647895  -1.669361 -0.349504   0.785785 -0.630647   \n",
       "278846   2.014160 -0.137394  -1.015839  0.327269  -0.182179 -0.956571   \n",
       "\n",
       "               V7        V8        V9        V10    ...          V20  \\\n",
       "43428  -16.701694  7.517344 -8.507059 -14.110184    ...    -1.514923   \n",
       "49906   -0.524379  0.224060  0.899746  -0.565012    ...     0.506044   \n",
       "29474   -0.712567  0.002299 -0.971747   0.756801    ...     0.212877   \n",
       "276481   0.276990  0.586025 -0.484715  -1.376648    ...    -0.244633   \n",
       "278846   0.043241 -0.160746  0.363241   0.259452    ...    -0.255293   \n",
       "\n",
       "             V21       V22       V23       V24       V25       V26       V27  \\\n",
       "43428   1.190739 -1.127670 -2.358579  0.673461 -1.413700 -0.462762 -2.018575   \n",
       "49906  -0.213436 -0.942525 -0.526819 -1.156992  0.311211 -0.746647  0.040996   \n",
       "29474   0.102398  0.168269 -0.166639 -0.810250  0.505083 -0.232340  0.011409   \n",
       "276481  0.358932  0.873663 -0.178642 -0.017171 -0.207392 -0.157756 -0.237386   \n",
       "278846 -0.238644 -0.616400  0.347045  0.061561 -0.360196  0.174730 -0.078043   \n",
       "\n",
       "             V28    Amount  \n",
       "43428  -1.042804  1.102834  \n",
       "49906   0.102038  1.726255  \n",
       "29474   0.004634 -0.229289  \n",
       "276481  0.001934 -0.347232  \n",
       "278846 -0.070571 -0.349671  \n",
       "\n",
       "[5 rows x 29 columns]"
      ]
     },
     "execution_count": 182,
     "metadata": {},
     "output_type": "execute_result"
    }
   ],
   "source": [
    "Xtest.head()"
   ]
  },
  {
   "cell_type": "code",
   "execution_count": 183,
   "metadata": {},
   "outputs": [
    {
     "data": {
      "text/html": [
       "<div>\n",
       "<style>\n",
       "    .dataframe thead tr:only-child th {\n",
       "        text-align: right;\n",
       "    }\n",
       "\n",
       "    .dataframe thead th {\n",
       "        text-align: left;\n",
       "    }\n",
       "\n",
       "    .dataframe tbody tr th {\n",
       "        vertical-align: top;\n",
       "    }\n",
       "</style>\n",
       "<table border=\"1\" class=\"dataframe\">\n",
       "  <thead>\n",
       "    <tr style=\"text-align: right;\">\n",
       "      <th></th>\n",
       "      <th>V1</th>\n",
       "      <th>V2</th>\n",
       "      <th>V3</th>\n",
       "      <th>V4</th>\n",
       "      <th>V5</th>\n",
       "      <th>V6</th>\n",
       "      <th>V7</th>\n",
       "      <th>V8</th>\n",
       "      <th>V9</th>\n",
       "      <th>V10</th>\n",
       "      <th>...</th>\n",
       "      <th>V20</th>\n",
       "      <th>V21</th>\n",
       "      <th>V22</th>\n",
       "      <th>V23</th>\n",
       "      <th>V24</th>\n",
       "      <th>V25</th>\n",
       "      <th>V26</th>\n",
       "      <th>V27</th>\n",
       "      <th>V28</th>\n",
       "      <th>Amount</th>\n",
       "    </tr>\n",
       "  </thead>\n",
       "  <tbody>\n",
       "    <tr>\n",
       "      <th>43428</th>\n",
       "      <td>273.125419</td>\n",
       "      <td>20.197059</td>\n",
       "      <td>347.817024</td>\n",
       "      <td>90.356308</td>\n",
       "      <td>190.269430</td>\n",
       "      <td>8.022514</td>\n",
       "      <td>288.842975</td>\n",
       "      <td>12.380537</td>\n",
       "      <td>72.370047</td>\n",
       "      <td>199.097305</td>\n",
       "      <td>...</td>\n",
       "      <td>2.294993</td>\n",
       "      <td>3.673228</td>\n",
       "      <td>1.271640</td>\n",
       "      <td>8.363948</td>\n",
       "      <td>0.200784</td>\n",
       "      <td>1.998547</td>\n",
       "      <td>0.214149</td>\n",
       "      <td>8.446404</td>\n",
       "      <td>1.087441</td>\n",
       "      <td>1.216242</td>\n",
       "    </tr>\n",
       "    <tr>\n",
       "      <th>49906</th>\n",
       "      <td>0.249946</td>\n",
       "      <td>7.528138</td>\n",
       "      <td>0.017975</td>\n",
       "      <td>1.920246</td>\n",
       "      <td>2.106601</td>\n",
       "      <td>0.073847</td>\n",
       "      <td>0.274973</td>\n",
       "      <td>0.050203</td>\n",
       "      <td>0.300415</td>\n",
       "      <td>0.319238</td>\n",
       "      <td>...</td>\n",
       "      <td>0.256080</td>\n",
       "      <td>0.045555</td>\n",
       "      <td>0.888353</td>\n",
       "      <td>0.277538</td>\n",
       "      <td>1.338630</td>\n",
       "      <td>0.096852</td>\n",
       "      <td>0.557481</td>\n",
       "      <td>0.001681</td>\n",
       "      <td>0.010412</td>\n",
       "      <td>0.056086</td>\n",
       "    </tr>\n",
       "    <tr>\n",
       "      <th>29474</th>\n",
       "      <td>0.052141</td>\n",
       "      <td>0.348928</td>\n",
       "      <td>0.004370</td>\n",
       "      <td>1.060798</td>\n",
       "      <td>0.291391</td>\n",
       "      <td>0.001636</td>\n",
       "      <td>0.507751</td>\n",
       "      <td>0.000005</td>\n",
       "      <td>0.944292</td>\n",
       "      <td>0.572747</td>\n",
       "      <td>...</td>\n",
       "      <td>0.045317</td>\n",
       "      <td>0.010485</td>\n",
       "      <td>0.028179</td>\n",
       "      <td>0.027769</td>\n",
       "      <td>0.751101</td>\n",
       "      <td>0.255109</td>\n",
       "      <td>0.053982</td>\n",
       "      <td>0.000130</td>\n",
       "      <td>0.000021</td>\n",
       "      <td>0.052573</td>\n",
       "    </tr>\n",
       "    <tr>\n",
       "      <th>276481</th>\n",
       "      <td>0.630560</td>\n",
       "      <td>0.000921</td>\n",
       "      <td>2.786765</td>\n",
       "      <td>0.122153</td>\n",
       "      <td>0.057338</td>\n",
       "      <td>0.397715</td>\n",
       "      <td>0.076724</td>\n",
       "      <td>0.343425</td>\n",
       "      <td>0.234949</td>\n",
       "      <td>1.895160</td>\n",
       "      <td>...</td>\n",
       "      <td>0.059845</td>\n",
       "      <td>0.128832</td>\n",
       "      <td>0.009334</td>\n",
       "      <td>0.031913</td>\n",
       "      <td>0.000295</td>\n",
       "      <td>0.043011</td>\n",
       "      <td>0.024887</td>\n",
       "      <td>0.056352</td>\n",
       "      <td>0.000004</td>\n",
       "      <td>0.120570</td>\n",
       "    </tr>\n",
       "    <tr>\n",
       "      <th>278846</th>\n",
       "      <td>0.015495</td>\n",
       "      <td>0.018877</td>\n",
       "      <td>1.031929</td>\n",
       "      <td>0.000022</td>\n",
       "      <td>0.033189</td>\n",
       "      <td>0.915027</td>\n",
       "      <td>0.001870</td>\n",
       "      <td>0.025839</td>\n",
       "      <td>0.131944</td>\n",
       "      <td>0.067315</td>\n",
       "      <td>...</td>\n",
       "      <td>0.065175</td>\n",
       "      <td>0.056951</td>\n",
       "      <td>0.379950</td>\n",
       "      <td>0.089032</td>\n",
       "      <td>0.003790</td>\n",
       "      <td>0.129741</td>\n",
       "      <td>0.030531</td>\n",
       "      <td>0.006091</td>\n",
       "      <td>0.004980</td>\n",
       "      <td>0.122270</td>\n",
       "    </tr>\n",
       "  </tbody>\n",
       "</table>\n",
       "<p>5 rows × 29 columns</p>\n",
       "</div>"
      ],
      "text/plain": [
       "                V1         V2          V3         V4          V5        V6  \\\n",
       "43428   273.125419  20.197059  347.817024  90.356308  190.269430  8.022514   \n",
       "49906     0.249946   7.528138    0.017975   1.920246    2.106601  0.073847   \n",
       "29474     0.052141   0.348928    0.004370   1.060798    0.291391  0.001636   \n",
       "276481    0.630560   0.000921    2.786765   0.122153    0.057338  0.397715   \n",
       "278846    0.015495   0.018877    1.031929   0.000022    0.033189  0.915027   \n",
       "\n",
       "                V7         V8         V9         V10    ...          V20  \\\n",
       "43428   288.842975  12.380537  72.370047  199.097305    ...     2.294993   \n",
       "49906     0.274973   0.050203   0.300415    0.319238    ...     0.256080   \n",
       "29474     0.507751   0.000005   0.944292    0.572747    ...     0.045317   \n",
       "276481    0.076724   0.343425   0.234949    1.895160    ...     0.059845   \n",
       "278846    0.001870   0.025839   0.131944    0.067315    ...     0.065175   \n",
       "\n",
       "             V21       V22       V23       V24       V25       V26       V27  \\\n",
       "43428   3.673228  1.271640  8.363948  0.200784  1.998547  0.214149  8.446404   \n",
       "49906   0.045555  0.888353  0.277538  1.338630  0.096852  0.557481  0.001681   \n",
       "29474   0.010485  0.028179  0.027769  0.751101  0.255109  0.053982  0.000130   \n",
       "276481  0.128832  0.009334  0.031913  0.000295  0.043011  0.024887  0.056352   \n",
       "278846  0.056951  0.379950  0.089032  0.003790  0.129741  0.030531  0.006091   \n",
       "\n",
       "             V28    Amount  \n",
       "43428   1.087441  1.216242  \n",
       "49906   0.010412  0.056086  \n",
       "29474   0.000021  0.052573  \n",
       "276481  0.000004  0.120570  \n",
       "278846  0.004980  0.122270  \n",
       "\n",
       "[5 rows x 29 columns]"
      ]
     },
     "execution_count": 183,
     "metadata": {},
     "output_type": "execute_result"
    }
   ],
   "source": [
    "np.power(Xtest - predictions, 2).head()"
   ]
  },
  {
   "cell_type": "code",
   "execution_count": 184,
   "metadata": {},
   "outputs": [
    {
     "data": {
      "text/plain": [
       "V1    2.726380\n",
       "V2    1.830875\n",
       "V3    1.529412\n",
       "V4    0.964084\n",
       "V5    0.959713\n",
       "dtype: float64"
      ]
     },
     "execution_count": 184,
     "metadata": {},
     "output_type": "execute_result"
    }
   ],
   "source": [
    "np.mean(np.power(Xtest - predictions, 2), axis = 'rows').head()"
   ]
  },
  {
   "cell_type": "code",
   "execution_count": 185,
   "metadata": {},
   "outputs": [
    {
     "data": {
      "text/plain": [
       "43428     80.434173\n",
       "49906      0.769405\n",
       "29474      0.250688\n",
       "276481     0.395672\n",
       "278846     0.165268\n",
       "dtype: float64"
      ]
     },
     "execution_count": 185,
     "metadata": {},
     "output_type": "execute_result"
    }
   ],
   "source": [
    "np.mean(np.power(Xtest - predictions, 2), axis = 'columns').head()"
   ]
  },
  {
   "cell_type": "code",
   "execution_count": 186,
   "metadata": {
    "collapsed": true
   },
   "outputs": [],
   "source": [
    "mse = np.mean(np.power(Xtest - predictions, 2), axis = 'columns')"
   ]
  },
  {
   "cell_type": "code",
   "execution_count": 189,
   "metadata": {
    "collapsed": true
   },
   "outputs": [],
   "source": [
    "reconstructionErrorDF = pd.DataFrame({'mse': mse, 'trueClass': ytest})"
   ]
  },
  {
   "cell_type": "code",
   "execution_count": 190,
   "metadata": {},
   "outputs": [
    {
     "data": {
      "text/html": [
       "<div>\n",
       "<style>\n",
       "    .dataframe thead tr:only-child th {\n",
       "        text-align: right;\n",
       "    }\n",
       "\n",
       "    .dataframe thead th {\n",
       "        text-align: left;\n",
       "    }\n",
       "\n",
       "    .dataframe tbody tr th {\n",
       "        vertical-align: top;\n",
       "    }\n",
       "</style>\n",
       "<table border=\"1\" class=\"dataframe\">\n",
       "  <thead>\n",
       "    <tr style=\"text-align: right;\">\n",
       "      <th></th>\n",
       "      <th>mse</th>\n",
       "      <th>trueClass</th>\n",
       "    </tr>\n",
       "  </thead>\n",
       "  <tbody>\n",
       "    <tr>\n",
       "      <th>43428</th>\n",
       "      <td>80.434173</td>\n",
       "      <td>1</td>\n",
       "    </tr>\n",
       "    <tr>\n",
       "      <th>49906</th>\n",
       "      <td>0.769405</td>\n",
       "      <td>0</td>\n",
       "    </tr>\n",
       "    <tr>\n",
       "      <th>29474</th>\n",
       "      <td>0.250688</td>\n",
       "      <td>0</td>\n",
       "    </tr>\n",
       "    <tr>\n",
       "      <th>276481</th>\n",
       "      <td>0.395672</td>\n",
       "      <td>0</td>\n",
       "    </tr>\n",
       "    <tr>\n",
       "      <th>278846</th>\n",
       "      <td>0.165268</td>\n",
       "      <td>0</td>\n",
       "    </tr>\n",
       "  </tbody>\n",
       "</table>\n",
       "</div>"
      ],
      "text/plain": [
       "              mse  trueClass\n",
       "43428   80.434173          1\n",
       "49906    0.769405          0\n",
       "29474    0.250688          0\n",
       "276481   0.395672          0\n",
       "278846   0.165268          0"
      ]
     },
     "execution_count": 190,
     "metadata": {},
     "output_type": "execute_result"
    }
   ],
   "source": [
    "reconstructionErrorDF.head()"
   ]
  },
  {
   "cell_type": "code",
   "execution_count": 193,
   "metadata": {
    "collapsed": true
   },
   "outputs": [],
   "source": [
    "validReconstructionErrorDf = reconstructionErrorDF[reconstructionErrorDF['trueClass'] == 0]"
   ]
  },
  {
   "cell_type": "code",
   "execution_count": 194,
   "metadata": {
    "collapsed": true
   },
   "outputs": [],
   "source": [
    "fraudReconstructionErrorDF = reconstructionErrorDF[reconstructionErrorDF['trueClass'] == 1]"
   ]
  },
  {
   "cell_type": "code",
   "execution_count": 196,
   "metadata": {},
   "outputs": [
    {
     "data": {
      "text/plain": [
       "(56864, 2)"
      ]
     },
     "execution_count": 196,
     "metadata": {},
     "output_type": "execute_result"
    }
   ],
   "source": [
    "validReconstructionErrorDf.shape"
   ]
  },
  {
   "cell_type": "code",
   "execution_count": 197,
   "metadata": {},
   "outputs": [
    {
     "data": {
      "text/plain": [
       "(98, 2)"
      ]
     },
     "execution_count": 197,
     "metadata": {},
     "output_type": "execute_result"
    }
   ],
   "source": [
    "fraudReconstructionErrorDF.shape"
   ]
  },
  {
   "cell_type": "code",
   "execution_count": 198,
   "metadata": {},
   "outputs": [
    {
     "data": {
      "text/plain": [
       "count     98.000000\n",
       "mean      31.770310\n",
       "std       47.346760\n",
       "min        0.187261\n",
       "25%        4.559711\n",
       "50%       11.532585\n",
       "75%       51.610954\n",
       "max      274.415336\n",
       "Name: mse, dtype: float64"
      ]
     },
     "execution_count": 198,
     "metadata": {},
     "output_type": "execute_result"
    }
   ],
   "source": [
    "fraudReconstructionErrorDF.mse.describe()"
   ]
  },
  {
   "cell_type": "code",
   "execution_count": 199,
   "metadata": {},
   "outputs": [
    {
     "data": {
      "text/plain": [
       "count    56864.000000\n",
       "mean         0.689552\n",
       "std          2.539457\n",
       "min          0.043978\n",
       "25%          0.250279\n",
       "50%          0.395319\n",
       "75%          0.629515\n",
       "max        158.461884\n",
       "Name: mse, dtype: float64"
      ]
     },
     "execution_count": 199,
     "metadata": {},
     "output_type": "execute_result"
    }
   ],
   "source": [
    "validReconstructionErrorDf.mse.describe()"
   ]
  },
  {
   "cell_type": "markdown",
   "metadata": {},
   "source": [
    "We see that the reconstruction error is higher for the fraud examples."
   ]
  },
  {
   "cell_type": "code",
   "execution_count": 205,
   "metadata": {
    "collapsed": true
   },
   "outputs": [],
   "source": [
    "import seaborn as sns"
   ]
  },
  {
   "cell_type": "code",
   "execution_count": 216,
   "metadata": {
    "collapsed": true
   },
   "outputs": [],
   "source": [
    "sns.set(style='whitegrid', font_scale=1.5)"
   ]
  },
  {
   "cell_type": "code",
   "execution_count": 229,
   "metadata": {},
   "outputs": [
    {
     "data": {
      "image/png": "[encoded data removed]",
      "text/plain": [
       "<matplotlib.figure.Figure at 0x1a3a347da0>"
      ]
     },
     "metadata": {},
     "output_type": "display_data"
    }
   ],
   "source": [
    "sns.distplot(validReconstructionErrorDf.mse.values, bins = 40, norm_hist=True, kde=False);\n",
    "sns.distplot(fraudReconstructionErrorDF.mse.values, bins = 40, norm_hist=True, kde=False);\n",
    "plt.xlim((0, 100));\n",
    "plt.xticks(np.linspace(0, 100, 11));"
   ]
  },
  {
   "cell_type": "code",
   "execution_count": null,
   "metadata": {
    "collapsed": true
   },
   "outputs": [],
   "source": []
  }
 ],
 "metadata": {
  "kernelspec": {
   "display_name": "Python 3",
   "language": "python",
   "name": "python3"
  },
  "language_info": {
   "codemirror_mode": {
    "name": "ipython",
    "version": 3
   },
   "file_extension": ".py",
   "mimetype": "text/x-python",
   "name": "python",
   "nbconvert_exporter": "python",
   "pygments_lexer": "ipython3",
   "version": "3.6.3"
  }
 },
 "nbformat": 4,
 "nbformat_minor": 2
}
