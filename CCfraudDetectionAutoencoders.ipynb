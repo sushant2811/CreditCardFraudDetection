{
 "cells": [
  {
   "cell_type": "markdown",
   "metadata": {},
   "source": [
    "## Using autoencoders to find the anomalous transactions. \n",
    "\n",
    "\n",
    "The data from [Kaggle](https://www.kaggle.com/mlg-ulb/creditcardfraud). \n",
    "\n",
    "Follows the approach of [this notebook](https://github.com/curiousily/Credit-Card-Fraud-Detection-using-Autoencoders-in-Keras/blob/master/fraud_detection.ipynb)"
   ]
  },
  {
   "cell_type": "code",
   "execution_count": 33,
   "metadata": {
    "collapsed": true
   },
   "outputs": [],
   "source": [
    "import pandas as pd"
   ]
  },
  {
   "cell_type": "markdown",
   "metadata": {},
   "source": [
    "## Importing data "
   ]
  },
  {
   "cell_type": "code",
   "execution_count": 34,
   "metadata": {
    "collapsed": true
   },
   "outputs": [],
   "source": [
    "df = pd.read_csv('./creditcard.csv')"
   ]
  },
  {
   "cell_type": "code",
   "execution_count": 35,
   "metadata": {},
   "outputs": [
    {
     "data": {
      "text/html": [
       "<div>\n",
       "<style>\n",
       "    .dataframe thead tr:only-child th {\n",
       "        text-align: right;\n",
       "    }\n",
       "\n",
       "    .dataframe thead th {\n",
       "        text-align: left;\n",
       "    }\n",
       "\n",
       "    .dataframe tbody tr th {\n",
       "        vertical-align: top;\n",
       "    }\n",
       "</style>\n",
       "<table border=\"1\" class=\"dataframe\">\n",
       "  <thead>\n",
       "    <tr style=\"text-align: right;\">\n",
       "      <th></th>\n",
       "      <th>Time</th>\n",
       "      <th>V1</th>\n",
       "      <th>V2</th>\n",
       "      <th>V3</th>\n",
       "      <th>V4</th>\n",
       "      <th>V5</th>\n",
       "      <th>V6</th>\n",
       "      <th>V7</th>\n",
       "      <th>V8</th>\n",
       "      <th>V9</th>\n",
       "      <th>...</th>\n",
       "      <th>V21</th>\n",
       "      <th>V22</th>\n",
       "      <th>V23</th>\n",
       "      <th>V24</th>\n",
       "      <th>V25</th>\n",
       "      <th>V26</th>\n",
       "      <th>V27</th>\n",
       "      <th>V28</th>\n",
       "      <th>Amount</th>\n",
       "      <th>Class</th>\n",
       "    </tr>\n",
       "  </thead>\n",
       "  <tbody>\n",
       "    <tr>\n",
       "      <th>0</th>\n",
       "      <td>0.0</td>\n",
       "      <td>-1.359807</td>\n",
       "      <td>-0.072781</td>\n",
       "      <td>2.536347</td>\n",
       "      <td>1.378155</td>\n",
       "      <td>-0.338321</td>\n",
       "      <td>0.462388</td>\n",
       "      <td>0.239599</td>\n",
       "      <td>0.098698</td>\n",
       "      <td>0.363787</td>\n",
       "      <td>...</td>\n",
       "      <td>-0.018307</td>\n",
       "      <td>0.277838</td>\n",
       "      <td>-0.110474</td>\n",
       "      <td>0.066928</td>\n",
       "      <td>0.128539</td>\n",
       "      <td>-0.189115</td>\n",
       "      <td>0.133558</td>\n",
       "      <td>-0.021053</td>\n",
       "      <td>149.62</td>\n",
       "      <td>0</td>\n",
       "    </tr>\n",
       "    <tr>\n",
       "      <th>1</th>\n",
       "      <td>0.0</td>\n",
       "      <td>1.191857</td>\n",
       "      <td>0.266151</td>\n",
       "      <td>0.166480</td>\n",
       "      <td>0.448154</td>\n",
       "      <td>0.060018</td>\n",
       "      <td>-0.082361</td>\n",
       "      <td>-0.078803</td>\n",
       "      <td>0.085102</td>\n",
       "      <td>-0.255425</td>\n",
       "      <td>...</td>\n",
       "      <td>-0.225775</td>\n",
       "      <td>-0.638672</td>\n",
       "      <td>0.101288</td>\n",
       "      <td>-0.339846</td>\n",
       "      <td>0.167170</td>\n",
       "      <td>0.125895</td>\n",
       "      <td>-0.008983</td>\n",
       "      <td>0.014724</td>\n",
       "      <td>2.69</td>\n",
       "      <td>0</td>\n",
       "    </tr>\n",
       "    <tr>\n",
       "      <th>2</th>\n",
       "      <td>1.0</td>\n",
       "      <td>-1.358354</td>\n",
       "      <td>-1.340163</td>\n",
       "      <td>1.773209</td>\n",
       "      <td>0.379780</td>\n",
       "      <td>-0.503198</td>\n",
       "      <td>1.800499</td>\n",
       "      <td>0.791461</td>\n",
       "      <td>0.247676</td>\n",
       "      <td>-1.514654</td>\n",
       "      <td>...</td>\n",
       "      <td>0.247998</td>\n",
       "      <td>0.771679</td>\n",
       "      <td>0.909412</td>\n",
       "      <td>-0.689281</td>\n",
       "      <td>-0.327642</td>\n",
       "      <td>-0.139097</td>\n",
       "      <td>-0.055353</td>\n",
       "      <td>-0.059752</td>\n",
       "      <td>378.66</td>\n",
       "      <td>0</td>\n",
       "    </tr>\n",
       "    <tr>\n",
       "      <th>3</th>\n",
       "      <td>1.0</td>\n",
       "      <td>-0.966272</td>\n",
       "      <td>-0.185226</td>\n",
       "      <td>1.792993</td>\n",
       "      <td>-0.863291</td>\n",
       "      <td>-0.010309</td>\n",
       "      <td>1.247203</td>\n",
       "      <td>0.237609</td>\n",
       "      <td>0.377436</td>\n",
       "      <td>-1.387024</td>\n",
       "      <td>...</td>\n",
       "      <td>-0.108300</td>\n",
       "      <td>0.005274</td>\n",
       "      <td>-0.190321</td>\n",
       "      <td>-1.175575</td>\n",
       "      <td>0.647376</td>\n",
       "      <td>-0.221929</td>\n",
       "      <td>0.062723</td>\n",
       "      <td>0.061458</td>\n",
       "      <td>123.50</td>\n",
       "      <td>0</td>\n",
       "    </tr>\n",
       "    <tr>\n",
       "      <th>4</th>\n",
       "      <td>2.0</td>\n",
       "      <td>-1.158233</td>\n",
       "      <td>0.877737</td>\n",
       "      <td>1.548718</td>\n",
       "      <td>0.403034</td>\n",
       "      <td>-0.407193</td>\n",
       "      <td>0.095921</td>\n",
       "      <td>0.592941</td>\n",
       "      <td>-0.270533</td>\n",
       "      <td>0.817739</td>\n",
       "      <td>...</td>\n",
       "      <td>-0.009431</td>\n",
       "      <td>0.798278</td>\n",
       "      <td>-0.137458</td>\n",
       "      <td>0.141267</td>\n",
       "      <td>-0.206010</td>\n",
       "      <td>0.502292</td>\n",
       "      <td>0.219422</td>\n",
       "      <td>0.215153</td>\n",
       "      <td>69.99</td>\n",
       "      <td>0</td>\n",
       "    </tr>\n",
       "  </tbody>\n",
       "</table>\n",
       "<p>5 rows × 31 columns</p>\n",
       "</div>"
      ],
      "text/plain": [
       "   Time        V1        V2        V3        V4        V5        V6        V7  \\\n",
       "0   0.0 -1.359807 -0.072781  2.536347  1.378155 -0.338321  0.462388  0.239599   \n",
       "1   0.0  1.191857  0.266151  0.166480  0.448154  0.060018 -0.082361 -0.078803   \n",
       "2   1.0 -1.358354 -1.340163  1.773209  0.379780 -0.503198  1.800499  0.791461   \n",
       "3   1.0 -0.966272 -0.185226  1.792993 -0.863291 -0.010309  1.247203  0.237609   \n",
       "4   2.0 -1.158233  0.877737  1.548718  0.403034 -0.407193  0.095921  0.592941   \n",
       "\n",
       "         V8        V9  ...         V21       V22       V23       V24  \\\n",
       "0  0.098698  0.363787  ...   -0.018307  0.277838 -0.110474  0.066928   \n",
       "1  0.085102 -0.255425  ...   -0.225775 -0.638672  0.101288 -0.339846   \n",
       "2  0.247676 -1.514654  ...    0.247998  0.771679  0.909412 -0.689281   \n",
       "3  0.377436 -1.387024  ...   -0.108300  0.005274 -0.190321 -1.175575   \n",
       "4 -0.270533  0.817739  ...   -0.009431  0.798278 -0.137458  0.141267   \n",
       "\n",
       "        V25       V26       V27       V28  Amount  Class  \n",
       "0  0.128539 -0.189115  0.133558 -0.021053  149.62      0  \n",
       "1  0.167170  0.125895 -0.008983  0.014724    2.69      0  \n",
       "2 -0.327642 -0.139097 -0.055353 -0.059752  378.66      0  \n",
       "3  0.647376 -0.221929  0.062723  0.061458  123.50      0  \n",
       "4 -0.206010  0.502292  0.219422  0.215153   69.99      0  \n",
       "\n",
       "[5 rows x 31 columns]"
      ]
     },
     "execution_count": 35,
     "metadata": {},
     "output_type": "execute_result"
    }
   ],
   "source": [
    "df.head()"
   ]
  },
  {
   "cell_type": "code",
   "execution_count": 36,
   "metadata": {},
   "outputs": [
    {
     "data": {
      "text/plain": [
       "(284807, 31)"
      ]
     },
     "execution_count": 36,
     "metadata": {},
     "output_type": "execute_result"
    }
   ],
   "source": [
    "df.shape"
   ]
  },
  {
   "cell_type": "code",
   "execution_count": 37,
   "metadata": {},
   "outputs": [
    {
     "data": {
      "text/plain": [
       "Time      0\n",
       "V1        0\n",
       "V2        0\n",
       "V3        0\n",
       "V4        0\n",
       "V5        0\n",
       "V6        0\n",
       "V7        0\n",
       "V8        0\n",
       "V9        0\n",
       "V10       0\n",
       "V11       0\n",
       "V12       0\n",
       "V13       0\n",
       "V14       0\n",
       "V15       0\n",
       "V16       0\n",
       "V17       0\n",
       "V18       0\n",
       "V19       0\n",
       "V20       0\n",
       "V21       0\n",
       "V22       0\n",
       "V23       0\n",
       "V24       0\n",
       "V25       0\n",
       "V26       0\n",
       "V27       0\n",
       "V28       0\n",
       "Amount    0\n",
       "Class     0\n",
       "dtype: int64"
      ]
     },
     "execution_count": 37,
     "metadata": {},
     "output_type": "execute_result"
    }
   ],
   "source": [
    "df.isnull().sum()"
   ]
  },
  {
   "cell_type": "markdown",
   "metadata": {},
   "source": [
    "There are no null values"
   ]
  },
  {
   "cell_type": "code",
   "execution_count": 38,
   "metadata": {},
   "outputs": [
    {
     "data": {
      "text/plain": [
       "0    284315\n",
       "1       492\n",
       "Name: Class, dtype: int64"
      ]
     },
     "execution_count": 38,
     "metadata": {},
     "output_type": "execute_result"
    }
   ],
   "source": [
    "df['Class'].value_counts()"
   ]
  },
  {
   "cell_type": "code",
   "execution_count": 39,
   "metadata": {},
   "outputs": [
    {
     "data": {
      "text/plain": [
       "0.0017304750013189597"
      ]
     },
     "execution_count": 39,
     "metadata": {},
     "output_type": "execute_result"
    }
   ],
   "source": [
    "df['Class'].value_counts()[1] / df['Class'].value_counts()[0]"
   ]
  },
  {
   "cell_type": "markdown",
   "metadata": {},
   "source": [
    "We have about 0.17% fraud cases. Let's separate the fraud and valid transactions"
   ]
  },
  {
   "cell_type": "code",
   "execution_count": 40,
   "metadata": {
    "collapsed": true
   },
   "outputs": [],
   "source": [
    "fraud = df[df['Class'] == 1]\n",
    "valid = df[df['Class'] == 0]"
   ]
  },
  {
   "cell_type": "code",
   "execution_count": 41,
   "metadata": {},
   "outputs": [
    {
     "data": {
      "text/plain": [
       "(492, 31)"
      ]
     },
     "execution_count": 41,
     "metadata": {},
     "output_type": "execute_result"
    }
   ],
   "source": [
    "fraud.shape"
   ]
  },
  {
   "cell_type": "code",
   "execution_count": 42,
   "metadata": {},
   "outputs": [
    {
     "data": {
      "text/plain": [
       "(284315, 31)"
      ]
     },
     "execution_count": 42,
     "metadata": {},
     "output_type": "execute_result"
    }
   ],
   "source": [
    "valid.shape"
   ]
  },
  {
   "cell_type": "markdown",
   "metadata": {},
   "source": [
    "Let's look at the distribution of the amount in fraud vs. valid case"
   ]
  },
  {
   "cell_type": "code",
   "execution_count": 43,
   "metadata": {},
   "outputs": [
    {
     "data": {
      "text/plain": [
       "count     492.000000\n",
       "mean      122.211321\n",
       "std       256.683288\n",
       "min         0.000000\n",
       "25%         1.000000\n",
       "50%         9.250000\n",
       "75%       105.890000\n",
       "max      2125.870000\n",
       "Name: Amount, dtype: float64"
      ]
     },
     "execution_count": 43,
     "metadata": {},
     "output_type": "execute_result"
    }
   ],
   "source": [
    "fraud.Amount.describe()"
   ]
  },
  {
   "cell_type": "code",
   "execution_count": 44,
   "metadata": {},
   "outputs": [
    {
     "data": {
      "text/plain": [
       "count    284315.000000\n",
       "mean         88.291022\n",
       "std         250.105092\n",
       "min           0.000000\n",
       "25%           5.650000\n",
       "50%          22.000000\n",
       "75%          77.050000\n",
       "max       25691.160000\n",
       "Name: Amount, dtype: float64"
      ]
     },
     "execution_count": 44,
     "metadata": {},
     "output_type": "execute_result"
    }
   ],
   "source": [
    "valid.Amount.describe()"
   ]
  },
  {
   "cell_type": "markdown",
   "metadata": {},
   "source": [
    "Let's have a more graphical representation for the distribution of the amount"
   ]
  },
  {
   "cell_type": "code",
   "execution_count": 45,
   "metadata": {
    "collapsed": true
   },
   "outputs": [],
   "source": [
    "import matplotlib.pyplot as plt\n",
    "%matplotlib inline"
   ]
  },
  {
   "cell_type": "code",
   "execution_count": 46,
   "metadata": {},
   "outputs": [
    {
     "data": {
      "image/png": "[encoded data removed]",
      "text/plain": [
       "<matplotlib.figure.Figure at 0x1356cdda0>"
      ]
     },
     "metadata": {},
     "output_type": "display_data"
    }
   ],
   "source": [
    "f, (ax1, ax2) = plt.subplots(2, 1, sharex=True)\n",
    "#sharex=True allows both the subplots to share the same X axis. \n",
    "f.suptitle('Amount per transaction by class')\n",
    "\n",
    "numberBins = 400\n",
    "\n",
    "ax1.hist(fraud.Amount, bins=numberBins);\n",
    "ax1.set_title('Fraud')\n",
    "\n",
    "ax2.hist(valid.Amount, bins=numberBins);\n",
    "ax2.set_title('Normal')\n",
    "\n",
    "plt.xlabel('Amount ($)')\n",
    "plt.ylabel('Number of transactions')\n",
    "plt.xlim((0, 1000));\n",
    "#plt.yscale('log')"
   ]
  },
  {
   "cell_type": "markdown",
   "metadata": {},
   "source": [
    "Let's look at te distribution of time for fraud vs. valid transactions. "
   ]
  },
  {
   "cell_type": "code",
   "execution_count": 47,
   "metadata": {},
   "outputs": [
    {
     "data": {
      "image/png": "[encoded data removed]",
      "text/plain": [
       "<matplotlib.figure.Figure at 0x13580ab70>"
      ]
     },
     "metadata": {},
     "output_type": "display_data"
    }
   ],
   "source": [
    "f, (ax1, ax2) = plt.subplots(2, 1, sharex=True)\n",
    "\n",
    "f.suptitle('Time')\n",
    "\n",
    "ax1.hist(fraud.Time, bins=numberBins)\n",
    "ax1.set_title('fraud')\n",
    "\n",
    "ax2.hist(valid.Time, bins=numberBins)\n",
    "ax2.set_title('valid')\n",
    "\n",
    "plt.xlabel('Time')\n",
    "plt.ylabel('Number of transactions');"
   ]
  },
  {
   "cell_type": "markdown",
   "metadata": {},
   "source": [
    "Let's also look at the time of the transaction vs. amount for fraud and normal cases."
   ]
  },
  {
   "cell_type": "code",
   "execution_count": 48,
   "metadata": {},
   "outputs": [
    {
     "data": {
      "image/png": "[encoded data removed]",
      "text/plain": [
       "<matplotlib.figure.Figure at 0x10b822be0>"
      ]
     },
     "metadata": {},
     "output_type": "display_data"
    }
   ],
   "source": [
    "f, (ax1, ax2) = plt.subplots(2, 1, sharex=True)\n",
    "f.suptitle('Time of transaction vs. Amount by Class')\n",
    "\n",
    "ax1.scatter(fraud.Time, fraud.Amount)\n",
    "ax1.set_title('fraud')\n",
    "\n",
    "ax2.scatter(valid.Time, valid.Amount)\n",
    "ax2.set_title('valid');\n",
    "\n",
    "plt.xlabel('Time (in seconds)');\n",
    "plt.ylabel('Amount');"
   ]
  },
  {
   "cell_type": "code",
   "execution_count": 49,
   "metadata": {},
   "outputs": [
    {
     "data": {
      "text/plain": [
       "0    0.0\n",
       "1    0.0\n",
       "2    1.0\n",
       "3    1.0\n",
       "4    2.0\n",
       "5    2.0\n",
       "6    4.0\n",
       "7    7.0\n",
       "8    7.0\n",
       "9    9.0\n",
       "Name: Time, dtype: float64"
      ]
     },
     "execution_count": 49,
     "metadata": {},
     "output_type": "execute_result"
    }
   ],
   "source": [
    "df.Time.head(10)"
   ]
  },
  {
   "cell_type": "markdown",
   "metadata": {},
   "source": [
    "The time here is the time in seconds from the first transaction. We see (as expected) that it doesn't have any impact on whether the transaction is fraud or not. "
   ]
  },
  {
   "cell_type": "markdown",
   "metadata": {},
   "source": [
    "## Preparing the data\n",
    "\n",
    "We drop the time column and standardize the Amount column."
   ]
  },
  {
   "cell_type": "code",
   "execution_count": 50,
   "metadata": {
    "collapsed": true
   },
   "outputs": [],
   "source": [
    "from sklearn.preprocessing import StandardScaler"
   ]
  },
  {
   "cell_type": "code",
   "execution_count": 51,
   "metadata": {
    "collapsed": true
   },
   "outputs": [],
   "source": [
    "data = df.drop(['Time'], axis = 'columns')"
   ]
  },
  {
   "cell_type": "code",
   "execution_count": 52,
   "metadata": {},
   "outputs": [
    {
     "data": {
      "text/plain": [
       "0    149.62\n",
       "1      2.69\n",
       "2    378.66\n",
       "3    123.50\n",
       "4     69.99\n",
       "Name: Amount, dtype: float64"
      ]
     },
     "execution_count": 52,
     "metadata": {},
     "output_type": "execute_result"
    }
   ],
   "source": [
    "data['Amount'].head()"
   ]
  },
  {
   "cell_type": "code",
   "execution_count": 53,
   "metadata": {},
   "outputs": [
    {
     "data": {
      "text/plain": [
       "count    284807.000000\n",
       "mean         88.349619\n",
       "std         250.120109\n",
       "min           0.000000\n",
       "25%           5.600000\n",
       "50%          22.000000\n",
       "75%          77.165000\n",
       "max       25691.160000\n",
       "Name: Amount, dtype: float64"
      ]
     },
     "execution_count": 53,
     "metadata": {},
     "output_type": "execute_result"
    }
   ],
   "source": [
    "data['Amount'].describe()"
   ]
  },
  {
   "cell_type": "code",
   "execution_count": 54,
   "metadata": {
    "collapsed": true
   },
   "outputs": [],
   "source": [
    "data['Amount'] = StandardScaler().fit_transform(data['Amount'].values.reshape(-1, 1))"
   ]
  },
  {
   "cell_type": "code",
   "execution_count": 55,
   "metadata": {},
   "outputs": [
    {
     "data": {
      "text/plain": [
       "0    0.244964\n",
       "1   -0.342475\n",
       "2    1.160686\n",
       "3    0.140534\n",
       "4   -0.073403\n",
       "Name: Amount, dtype: float64"
      ]
     },
     "execution_count": 55,
     "metadata": {},
     "output_type": "execute_result"
    }
   ],
   "source": [
    "data['Amount'].head()"
   ]
  },
  {
   "cell_type": "code",
   "execution_count": 56,
   "metadata": {},
   "outputs": [
    {
     "data": {
      "text/plain": [
       "count    2.848070e+05\n",
       "mean     3.202236e-16\n",
       "std      1.000002e+00\n",
       "min     -3.532294e-01\n",
       "25%     -3.308401e-01\n",
       "50%     -2.652715e-01\n",
       "75%     -4.471707e-02\n",
       "max      1.023622e+02\n",
       "Name: Amount, dtype: float64"
      ]
     },
     "execution_count": 56,
     "metadata": {},
     "output_type": "execute_result"
    }
   ],
   "source": [
    "data['Amount'].describe()"
   ]
  },
  {
   "cell_type": "markdown",
   "metadata": {},
   "source": [
    "We train the autoencoder only on the valid transactions. "
   ]
  },
  {
   "cell_type": "code",
   "execution_count": 57,
   "metadata": {
    "collapsed": true
   },
   "outputs": [],
   "source": [
    "from sklearn.model_selection import train_test_split"
   ]
  },
  {
   "cell_type": "code",
   "execution_count": 58,
   "metadata": {
    "collapsed": true
   },
   "outputs": [],
   "source": [
    "Xtrain, Xtest = train_test_split(data, test_size = 0.2, random_state = 42)"
   ]
  },
  {
   "cell_type": "code",
   "execution_count": 59,
   "metadata": {},
   "outputs": [
    {
     "data": {
      "text/plain": [
       "0    227451\n",
       "1       394\n",
       "Name: Class, dtype: int64"
      ]
     },
     "execution_count": 59,
     "metadata": {},
     "output_type": "execute_result"
    }
   ],
   "source": [
    "Xtrain.Class.value_counts()"
   ]
  },
  {
   "cell_type": "code",
   "execution_count": 60,
   "metadata": {
    "collapsed": true
   },
   "outputs": [],
   "source": [
    "Xtrain = Xtrain[Xtrain.Class == 0]\n",
    "\n",
    "Xtrain = Xtrain.drop(['Class'], axis = 'columns')\n",
    "\n",
    "ytest = Xtest['Class']\n",
    "Xtest = Xtest.drop('Class', axis = 'columns')"
   ]
  },
  {
   "cell_type": "code",
   "execution_count": 61,
   "metadata": {},
   "outputs": [
    {
     "data": {
      "text/plain": [
       "(227451, 29)"
      ]
     },
     "execution_count": 61,
     "metadata": {},
     "output_type": "execute_result"
    }
   ],
   "source": [
    "Xtrain.shape"
   ]
  },
  {
   "cell_type": "markdown",
   "metadata": {},
   "source": [
    "## Building model"
   ]
  },
  {
   "cell_type": "markdown",
   "metadata": {},
   "source": [
    "As a first pass, we construct an Autoencoder with 4 fully connected layers with 14, 7, 7 and 29 neurons respectively. The first two layers are used for our encoding and the last two for the decoding. Additionally, L1 regularization will be used during training"
   ]
  },
  {
   "cell_type": "code",
   "execution_count": 62,
   "metadata": {},
   "outputs": [],
   "source": [
    "from keras.layers import Dense\n",
    "from keras.models import Sequential\n",
    "from keras import regularizers"
   ]
  },
  {
   "cell_type": "code",
   "execution_count": 65,
   "metadata": {
    "collapsed": true
   },
   "outputs": [],
   "source": [
    "layer1 = 14\n",
    "layer2 = 7\n",
    "layer3 = 7\n",
    "layer4 = Xtrain.shape[1]"
   ]
  },
  {
   "cell_type": "markdown",
   "metadata": {},
   "source": [
    "In autoencoders, the final has the same number of nodes as number of features. "
   ]
  },
  {
   "cell_type": "code",
   "execution_count": 67,
   "metadata": {
    "collapsed": true
   },
   "outputs": [],
   "source": [
    "autoencoder = Sequential()\n",
    "\n",
    "autoencoder.add(Dense(layer1, activation='tanh', activity_regularizer=regularizers.l1(10e-5), \\\n",
    "          input_shape=(Xtrain.shape[1],)))\n",
    "\n",
    "autoencoder.add(Dense(layer2, activation='relu'))\n",
    "\n",
    "autoencoder.add(Dense(layer3, activation='tanh'))\n",
    "\n",
    "autoencoder.add(Dense(layer4, activation='relu'))"
   ]
  },
  {
   "cell_type": "markdown",
   "metadata": {},
   "source": [
    "From the documentation: \n",
    "\n",
    "#### Example\n",
    "\n",
    "```python\n",
    "    # as first layer in a sequential model:\n",
    "    model = Sequential()\n",
    "    model.add(Dense(32, input_shape=(16,)))\n",
    "    # now the model will take as input arrays of shape (*, 16)\n",
    "    # and output arrays of shape (*, 32)\n",
    "\n",
    "    # after the first layer, you don't need to specify\n",
    "    # the size of the input anymore:\n",
    "    model.add(Dense(32))"
   ]
  },
  {
   "cell_type": "code",
   "execution_count": 70,
   "metadata": {},
   "outputs": [
    {
     "data": {
      "text/plain": [
       "29"
      ]
     },
     "execution_count": 70,
     "metadata": {},
     "output_type": "execute_result"
    }
   ],
   "source": [
    "Xtrain.shape[1]"
   ]
  },
  {
   "cell_type": "code",
   "execution_count": 69,
   "metadata": {},
   "outputs": [
    {
     "name": "stdout",
     "output_type": "stream",
     "text": [
      "_________________________________________________________________\n",
      "Layer (type)                 Output Shape              Param #   \n",
      "=================================================================\n",
      "dense_5 (Dense)              (None, 14)                420       \n",
      "_________________________________________________________________\n",
      "dense_6 (Dense)              (None, 7)                 105       \n",
      "_________________________________________________________________\n",
      "dense_7 (Dense)              (None, 7)                 56        \n",
      "_________________________________________________________________\n",
      "dense_8 (Dense)              (None, 29)                232       \n",
      "=================================================================\n",
      "Total params: 813\n",
      "Trainable params: 813\n",
      "Non-trainable params: 0\n",
      "_________________________________________________________________\n"
     ]
    }
   ],
   "source": [
    "autoencoder.summary()"
   ]
  },
  {
   "cell_type": "code",
   "execution_count": 35,
   "metadata": {},
   "outputs": [
    {
     "data": {
      "text/plain": [
       "(227451, 29)"
      ]
     },
     "execution_count": 35,
     "metadata": {},
     "output_type": "execute_result"
    }
   ],
   "source": [
    "Xtrain.shape"
   ]
  },
  {
   "cell_type": "code",
   "execution_count": 36,
   "metadata": {},
   "outputs": [
    {
     "data": {
      "text/plain": [
       "420"
      ]
     },
     "execution_count": 36,
     "metadata": {},
     "output_type": "execute_result"
    }
   ],
   "source": [
    "14 * 30"
   ]
  },
  {
   "cell_type": "code",
   "execution_count": 37,
   "metadata": {},
   "outputs": [
    {
     "data": {
      "text/plain": [
       "105"
      ]
     },
     "execution_count": 37,
     "metadata": {},
     "output_type": "execute_result"
    }
   ],
   "source": [
    "15 * 7"
   ]
  },
  {
   "cell_type": "code",
   "execution_count": 38,
   "metadata": {},
   "outputs": [
    {
     "data": {
      "text/plain": [
       "56"
      ]
     },
     "execution_count": 38,
     "metadata": {},
     "output_type": "execute_result"
    }
   ],
   "source": [
    "8 * 7"
   ]
  },
  {
   "cell_type": "code",
   "execution_count": 39,
   "metadata": {},
   "outputs": [
    {
     "data": {
      "text/plain": [
       "232"
      ]
     },
     "execution_count": 39,
     "metadata": {},
     "output_type": "execute_result"
    }
   ],
   "source": [
    "8 * 29"
   ]
  },
  {
   "cell_type": "markdown",
   "metadata": {},
   "source": [
    "Note how the number of parameters check out. Note that at each step, we have a bias unit added as well. "
   ]
  },
  {
   "cell_type": "markdown",
   "metadata": {},
   "source": [
    "Let's train our model for 100 epochs with a batch size of 32 samples and save the best performing model to a file. The ModelCheckpoint provided by Keras is really handy for such tasks. Additionally, the training progress will be exported in a format that TensorBoard understands."
   ]
  },
  {
   "cell_type": "code",
   "execution_count": 71,
   "metadata": {
    "collapsed": true
   },
   "outputs": [],
   "source": [
    "numEpoch = 100\n",
    "batchSize = 32"
   ]
  },
  {
   "cell_type": "code",
   "execution_count": 72,
   "metadata": {
    "collapsed": true
   },
   "outputs": [],
   "source": [
    "autoencoder.compile(optimizer='adam', loss='mean_squared_error', metrics=['accuracy'])"
   ]
  },
  {
   "cell_type": "code",
   "execution_count": 75,
   "metadata": {
    "collapsed": true
   },
   "outputs": [],
   "source": [
    "from keras.callbacks import ModelCheckpoint, TensorBoard, EarlyStopping"
   ]
  },
  {
   "cell_type": "code",
   "execution_count": 76,
   "metadata": {},
   "outputs": [],
   "source": [
    "checkpointer = ModelCheckpoint(filepath=\"autoencoderModel2.h5\",\n",
    "                               verbose=0,\n",
    "                               save_best_only=True)"
   ]
  },
  {
   "cell_type": "code",
   "execution_count": 77,
   "metadata": {},
   "outputs": [],
   "source": [
    "tensorboard = TensorBoard(log_dir='./logs',\n",
    "                          histogram_freq=0,\n",
    "                          write_graph=True,\n",
    "                          write_images=True)"
   ]
  },
  {
   "cell_type": "code",
   "execution_count": 78,
   "metadata": {},
   "outputs": [
    {
     "name": "stdout",
     "output_type": "stream",
     "text": [
      "Train on 227451 samples, validate on 56962 samples\n",
      "Epoch 1/100\n",
      "227451/227451 [==============================] - 11s 47us/step - loss: 0.8302 - acc: 0.5498 - val_loss: 0.8080 - val_acc: 0.6344\n",
      "Epoch 2/100\n",
      "227451/227451 [==============================] - 11s 47us/step - loss: 0.7712 - acc: 0.6288 - val_loss: 0.7936 - val_acc: 0.6393\n",
      "Epoch 3/100\n",
      "227451/227451 [==============================] - 11s 48us/step - loss: 0.7627 - acc: 0.6390 - val_loss: 0.7882 - val_acc: 0.6482\n",
      "Epoch 4/100\n",
      "227451/227451 [==============================] - 11s 47us/step - loss: 0.7582 - acc: 0.6455 - val_loss: 0.7830 - val_acc: 0.6551\n",
      "Epoch 5/100\n",
      "227451/227451 [==============================] - 11s 50us/step - loss: 0.7550 - acc: 0.6526 - val_loss: 0.7823 - val_acc: 0.6499\n",
      "Epoch 6/100\n",
      "227451/227451 [==============================] - 11s 48us/step - loss: 0.7524 - acc: 0.6570 - val_loss: 0.7793 - val_acc: 0.6592\n",
      "Epoch 7/100\n",
      "227451/227451 [==============================] - 11s 49us/step - loss: 0.7510 - acc: 0.6609 - val_loss: 0.7781 - val_acc: 0.6639\n",
      "Epoch 8/100\n",
      "227451/227451 [==============================] - 11s 49us/step - loss: 0.7494 - acc: 0.6627 - val_loss: 0.7780 - val_acc: 0.6631\n",
      "Epoch 9/100\n",
      "227451/227451 [==============================] - 11s 49us/step - loss: 0.7485 - acc: 0.6618 - val_loss: 0.7771 - val_acc: 0.6645\n",
      "Epoch 10/100\n",
      "227451/227451 [==============================] - 12s 51us/step - loss: 0.7476 - acc: 0.6648 - val_loss: 0.7756 - val_acc: 0.6752\n",
      "Epoch 11/100\n",
      "227451/227451 [==============================] - 11s 50us/step - loss: 0.7470 - acc: 0.6660 - val_loss: 0.7751 - val_acc: 0.6627\n",
      "Epoch 12/100\n",
      "227451/227451 [==============================] - 12s 52us/step - loss: 0.7464 - acc: 0.6677 - val_loss: 0.7764 - val_acc: 0.6485\n",
      "Epoch 13/100\n",
      "227451/227451 [==============================] - 12s 52us/step - loss: 0.7458 - acc: 0.6683 - val_loss: 0.7809 - val_acc: 0.6654\n",
      "Epoch 14/100\n",
      "227451/227451 [==============================] - 12s 54us/step - loss: 0.7454 - acc: 0.6690 - val_loss: 0.7750 - val_acc: 0.6709\n",
      "Epoch 15/100\n",
      "227451/227451 [==============================] - 13s 55us/step - loss: 0.7453 - acc: 0.6693 - val_loss: 0.7743 - val_acc: 0.6642\n",
      "Epoch 16/100\n",
      "227451/227451 [==============================] - 12s 54us/step - loss: 0.7452 - acc: 0.6697 - val_loss: 0.7732 - val_acc: 0.6736\n",
      "Epoch 17/100\n",
      "227451/227451 [==============================] - 12s 55us/step - loss: 0.7447 - acc: 0.6712 - val_loss: 0.7748 - val_acc: 0.6793\n",
      "Epoch 18/100\n",
      "227451/227451 [==============================] - 12s 54us/step - loss: 0.7446 - acc: 0.6707 - val_loss: 0.7769 - val_acc: 0.6664\n",
      "Epoch 19/100\n",
      "227451/227451 [==============================] - 12s 54us/step - loss: 0.7445 - acc: 0.6708 - val_loss: 0.7736 - val_acc: 0.6764\n"
     ]
    }
   ],
   "source": [
    "history = autoencoder.fit(Xtrain, Xtrain,\n",
    "                    epochs=numEpoch,\n",
    "                    batch_size=batchSize,\n",
    "                    shuffle=True,\n",
    "                    validation_data=(Xtest, Xtest),\n",
    "                    verbose=1,\n",
    "                    callbacks=[checkpointer, tensorboard, EarlyStopping(patience=3)]).history"
   ]
  },
  {
   "cell_type": "markdown",
   "metadata": {},
   "source": [
    "## Let's tune the model parameters"
   ]
  },
  {
   "cell_type": "markdown",
   "metadata": {},
   "source": [
    "**1. Increasing number of nodes**"
   ]
  },
  {
   "cell_type": "code",
   "execution_count": 86,
   "metadata": {
    "collapsed": true
   },
   "outputs": [],
   "source": [
    "layer1 = Xtrain.shape[1]\n",
    "layer2 = 7\n",
    "layer3 = 7\n",
    "layer4 = Xtrain.shape[1]"
   ]
  },
  {
   "cell_type": "code",
   "execution_count": 87,
   "metadata": {
    "collapsed": true
   },
   "outputs": [],
   "source": [
    "autoencoder = Sequential()\n",
    "\n",
    "autoencoder.add(Dense(layer1, activation='tanh', activity_regularizer=regularizers.l1(10e-5), \\\n",
    "          input_shape=(Xtrain.shape[1],)))\n",
    "\n",
    "autoencoder.add(Dense(layer2, activation='relu'))\n",
    "\n",
    "autoencoder.add(Dense(layer3, activation='tanh'))\n",
    "\n",
    "autoencoder.add(Dense(layer4, activation='relu'))"
   ]
  },
  {
   "cell_type": "code",
   "execution_count": 88,
   "metadata": {
    "collapsed": true
   },
   "outputs": [],
   "source": [
    "autoencoder.compile(optimizer='adam', loss='mean_squared_error', metrics=['accuracy'])"
   ]
  },
  {
   "cell_type": "code",
   "execution_count": 89,
   "metadata": {},
   "outputs": [
    {
     "name": "stdout",
     "output_type": "stream",
     "text": [
      "Train on 227451 samples, validate on 56962 samples\n",
      "Epoch 1/100\n",
      "227451/227451 [==============================] - 11s 49us/step - loss: 0.8168 - acc: 0.5989 - val_loss: 0.7988 - val_acc: 0.6577\n",
      "Epoch 2/100\n",
      "227451/227451 [==============================] - 11s 48us/step - loss: 0.7579 - acc: 0.6592 - val_loss: 0.7834 - val_acc: 0.6662\n",
      "Epoch 3/100\n",
      "227451/227451 [==============================] - 11s 49us/step - loss: 0.7473 - acc: 0.6654 - val_loss: 0.7793 - val_acc: 0.6644\n",
      "Epoch 4/100\n",
      "227451/227451 [==============================] - 11s 49us/step - loss: 0.7407 - acc: 0.6710 - val_loss: 0.7651 - val_acc: 0.6775\n",
      "Epoch 5/100\n",
      "227451/227451 [==============================] - 11s 49us/step - loss: 0.7291 - acc: 0.6784 - val_loss: 0.7582 - val_acc: 0.6763\n",
      "Epoch 6/100\n",
      "227451/227451 [==============================] - 11s 50us/step - loss: 0.7257 - acc: 0.6816 - val_loss: 0.7623 - val_acc: 0.6773\n",
      "Epoch 7/100\n",
      "227451/227451 [==============================] - 11s 50us/step - loss: 0.7238 - acc: 0.6845 - val_loss: 0.7602 - val_acc: 0.6832\n",
      "Epoch 8/100\n",
      "227451/227451 [==============================] - 12s 51us/step - loss: 0.7223 - acc: 0.6884 - val_loss: 0.7556 - val_acc: 0.6957\n",
      "Epoch 9/100\n",
      "227451/227451 [==============================] - 12s 51us/step - loss: 0.7209 - acc: 0.6933 - val_loss: 0.7532 - val_acc: 0.6964\n",
      "Epoch 10/100\n",
      "227451/227451 [==============================] - 13s 56us/step - loss: 0.7197 - acc: 0.6964 - val_loss: 0.7556 - val_acc: 0.6987\n",
      "Epoch 11/100\n",
      "227451/227451 [==============================] - 12s 51us/step - loss: 0.7187 - acc: 0.6995 - val_loss: 0.7516 - val_acc: 0.6970\n",
      "Epoch 12/100\n",
      "227451/227451 [==============================] - 12s 55us/step - loss: 0.7187 - acc: 0.7023 - val_loss: 0.7511 - val_acc: 0.7057\n",
      "Epoch 13/100\n",
      "227451/227451 [==============================] - 12s 52us/step - loss: 0.7171 - acc: 0.7052 - val_loss: 0.7522 - val_acc: 0.7089\n",
      "Epoch 14/100\n",
      "227451/227451 [==============================] - 12s 51us/step - loss: 0.7164 - acc: 0.7088 - val_loss: 0.7497 - val_acc: 0.7050\n",
      "Epoch 15/100\n",
      "227451/227451 [==============================] - 12s 52us/step - loss: 0.7157 - acc: 0.7109 - val_loss: 0.7493 - val_acc: 0.7220\n",
      "Epoch 16/100\n",
      "227451/227451 [==============================] - 12s 53us/step - loss: 0.7148 - acc: 0.7123 - val_loss: 0.7541 - val_acc: 0.7132\n",
      "Epoch 17/100\n",
      "227451/227451 [==============================] - 12s 53us/step - loss: 0.7146 - acc: 0.7123 - val_loss: 0.7490 - val_acc: 0.7145\n",
      "Epoch 18/100\n",
      "227451/227451 [==============================] - 12s 54us/step - loss: 0.7144 - acc: 0.7123 - val_loss: 0.7484 - val_acc: 0.7195\n",
      "Epoch 19/100\n",
      "227451/227451 [==============================] - 12s 54us/step - loss: 0.7140 - acc: 0.7131 - val_loss: 0.7491 - val_acc: 0.7125\n",
      "Epoch 20/100\n",
      "227451/227451 [==============================] - 13s 55us/step - loss: 0.7137 - acc: 0.7132 - val_loss: 0.7470 - val_acc: 0.7167\n",
      "Epoch 21/100\n",
      "227451/227451 [==============================] - 12s 55us/step - loss: 0.7139 - acc: 0.7131 - val_loss: 0.7526 - val_acc: 0.7142\n",
      "Epoch 22/100\n",
      "227451/227451 [==============================] - 13s 56us/step - loss: 0.7136 - acc: 0.7134 - val_loss: 0.7468 - val_acc: 0.7124\n",
      "Epoch 23/100\n",
      "227451/227451 [==============================] - 13s 57us/step - loss: 0.7132 - acc: 0.7137 - val_loss: 0.7482 - val_acc: 0.7173\n",
      "Epoch 24/100\n",
      "227451/227451 [==============================] - 14s 60us/step - loss: 0.7132 - acc: 0.7137 - val_loss: 0.7463 - val_acc: 0.7144\n",
      "Epoch 25/100\n",
      "227451/227451 [==============================] - 12s 52us/step - loss: 0.7134 - acc: 0.7140 - val_loss: 0.7473 - val_acc: 0.7187\n",
      "Epoch 26/100\n",
      "227451/227451 [==============================] - 11s 47us/step - loss: 0.7131 - acc: 0.7143 - val_loss: 0.7466 - val_acc: 0.7183\n",
      "Epoch 27/100\n",
      "227451/227451 [==============================] - 13s 57us/step - loss: 0.7127 - acc: 0.7135 - val_loss: 0.7541 - val_acc: 0.7000\n"
     ]
    }
   ],
   "source": [
    "history = autoencoder.fit(Xtrain, Xtrain,\n",
    "                    epochs=numEpoch,\n",
    "                    batch_size=batchSize,\n",
    "                    shuffle=True,\n",
    "                    validation_data=(Xtest, Xtest),\n",
    "                    verbose=1,\n",
    "                    callbacks=[EarlyStopping(patience=3)]).history"
   ]
  },
  {
   "cell_type": "markdown",
   "metadata": {},
   "source": [
    "**2.1 Changing the activation function**"
   ]
  },
  {
   "cell_type": "code",
   "execution_count": 90,
   "metadata": {
    "collapsed": true
   },
   "outputs": [],
   "source": [
    "autoencoder = Sequential()\n",
    "\n",
    "autoencoder.add(Dense(layer1, activation='relu', activity_regularizer=regularizers.l1(10e-5), \\\n",
    "          input_shape=(Xtrain.shape[1],)))\n",
    "\n",
    "autoencoder.add(Dense(layer2, activation='relu'))\n",
    "\n",
    "autoencoder.add(Dense(layer3, activation='relu'))\n",
    "\n",
    "autoencoder.add(Dense(layer4, activation='relu'))"
   ]
  },
  {
   "cell_type": "code",
   "execution_count": 91,
   "metadata": {
    "collapsed": true
   },
   "outputs": [],
   "source": [
    "autoencoder.compile(optimizer='adam', loss='mean_squared_error', metrics=['accuracy'])"
   ]
  },
  {
   "cell_type": "code",
   "execution_count": 92,
   "metadata": {},
   "outputs": [
    {
     "name": "stdout",
     "output_type": "stream",
     "text": [
      "Train on 227451 samples, validate on 56962 samples\n",
      "Epoch 1/100\n",
      "227451/227451 [==============================] - 13s 55us/step - loss: 0.8322 - acc: 0.4180 - val_loss: 0.8189 - val_acc: 0.4951\n",
      "Epoch 2/100\n",
      "227451/227451 [==============================] - 11s 49us/step - loss: 0.7746 - acc: 0.5069 - val_loss: 0.8027 - val_acc: 0.5203\n",
      "Epoch 3/100\n",
      "227451/227451 [==============================] - 11s 49us/step - loss: 0.7630 - acc: 0.5260 - val_loss: 0.7965 - val_acc: 0.5351\n",
      "Epoch 4/100\n",
      "227451/227451 [==============================] - 11s 49us/step - loss: 0.7586 - acc: 0.5321 - val_loss: 0.7900 - val_acc: 0.5407\n",
      "Epoch 5/100\n",
      "227451/227451 [==============================] - 11s 50us/step - loss: 0.7562 - acc: 0.5366 - val_loss: 0.7904 - val_acc: 0.5334\n",
      "Epoch 6/100\n",
      "227451/227451 [==============================] - 12s 51us/step - loss: 0.7549 - acc: 0.5345 - val_loss: 0.7861 - val_acc: 0.5396\n",
      "Epoch 7/100\n",
      "227451/227451 [==============================] - 12s 52us/step - loss: 0.7542 - acc: 0.5346 - val_loss: 0.7876 - val_acc: 0.5392\n",
      "Epoch 8/100\n",
      "227451/227451 [==============================] - 12s 52us/step - loss: 0.7538 - acc: 0.5338 - val_loss: 0.7859 - val_acc: 0.5394\n",
      "Epoch 9/100\n",
      "227451/227451 [==============================] - 12s 52us/step - loss: 0.7537 - acc: 0.5350 - val_loss: 0.7856 - val_acc: 0.5396\n",
      "Epoch 10/100\n",
      "227451/227451 [==============================] - 12s 54us/step - loss: 0.7530 - acc: 0.5350 - val_loss: 0.7879 - val_acc: 0.5372\n",
      "Epoch 11/100\n",
      "227451/227451 [==============================] - 12s 54us/step - loss: 0.7529 - acc: 0.5349 - val_loss: 0.7852 - val_acc: 0.5329\n",
      "Epoch 12/100\n",
      "227451/227451 [==============================] - 13s 56us/step - loss: 0.7526 - acc: 0.5365 - val_loss: 0.7845 - val_acc: 0.5453\n",
      "Epoch 13/100\n",
      "227451/227451 [==============================] - 12s 54us/step - loss: 0.7526 - acc: 0.5374 - val_loss: 0.7831 - val_acc: 0.5409\n",
      "Epoch 14/100\n",
      "227451/227451 [==============================] - 12s 54us/step - loss: 0.7522 - acc: 0.5378 - val_loss: 0.7908 - val_acc: 0.5362\n",
      "Epoch 15/100\n",
      "227451/227451 [==============================] - 13s 55us/step - loss: 0.7526 - acc: 0.5377 - val_loss: 0.7842 - val_acc: 0.5411\n",
      "Epoch 16/100\n",
      "227451/227451 [==============================] - 13s 55us/step - loss: 0.7521 - acc: 0.5389 - val_loss: 0.7840 - val_acc: 0.5449\n"
     ]
    }
   ],
   "source": [
    "history = autoencoder.fit(Xtrain, Xtrain,\n",
    "                    epochs=numEpoch,\n",
    "                    batch_size=batchSize,\n",
    "                    shuffle=True,\n",
    "                    validation_data=(Xtest, Xtest),\n",
    "                    verbose=1,\n",
    "                    callbacks=[EarlyStopping(patience=3)]).history"
   ]
  },
  {
   "cell_type": "markdown",
   "metadata": {},
   "source": [
    "**2.2 Changing the activation function**"
   ]
  },
  {
   "cell_type": "code",
   "execution_count": 102,
   "metadata": {
    "collapsed": true
   },
   "outputs": [],
   "source": [
    "layer1 = Xtrain.shape[1]\n",
    "layer2 = 7\n",
    "layer3 = 7\n",
    "layer4 = Xtrain.shape[1]"
   ]
  },
  {
   "cell_type": "code",
   "execution_count": 103,
   "metadata": {
    "collapsed": true
   },
   "outputs": [],
   "source": [
    "autoencoder = Sequential()\n",
    "\n",
    "autoencoder.add(Dense(layer1, activation='tanh', activity_regularizer=regularizers.l1(10e-5), \\\n",
    "          input_shape=(Xtrain.shape[1],)))\n",
    "\n",
    "autoencoder.add(Dense(layer2, activation='tanh'))\n",
    "\n",
    "autoencoder.add(Dense(layer3, activation='tanh'))\n",
    "\n",
    "autoencoder.add(Dense(layer4, activation='tanh'))"
   ]
  },
  {
   "cell_type": "code",
   "execution_count": 104,
   "metadata": {
    "collapsed": true
   },
   "outputs": [],
   "source": [
    "autoencoder.compile(optimizer='adam', loss='mean_squared_error', metrics=['accuracy'])"
   ]
  },
  {
   "cell_type": "code",
   "execution_count": 105,
   "metadata": {},
   "outputs": [
    {
     "name": "stdout",
     "output_type": "stream",
     "text": [
      "Train on 227451 samples, validate on 56962 samples\n",
      "Epoch 1/100\n",
      "227451/227451 [==============================] - 12s 55us/step - loss: 0.7329 - acc: 0.4524 - val_loss: 0.7170 - val_acc: 0.4571\n",
      "Epoch 2/100\n",
      "227451/227451 [==============================] - 12s 53us/step - loss: 0.6804 - acc: 0.4300 - val_loss: 0.7027 - val_acc: 0.4163\n",
      "Epoch 3/100\n",
      "227451/227451 [==============================] - 12s 53us/step - loss: 0.6717 - acc: 0.4119 - val_loss: 0.6964 - val_acc: 0.4082\n",
      "Epoch 4/100\n",
      "227451/227451 [==============================] - 12s 54us/step - loss: 0.6680 - acc: 0.4078 - val_loss: 0.6931 - val_acc: 0.4053\n",
      "Epoch 5/100\n",
      "227451/227451 [==============================] - 12s 55us/step - loss: 0.6656 - acc: 0.4051 - val_loss: 0.6909 - val_acc: 0.4065\n",
      "Epoch 6/100\n",
      "227451/227451 [==============================] - 12s 55us/step - loss: 0.6643 - acc: 0.4041 - val_loss: 0.6881 - val_acc: 0.4039\n",
      "Epoch 7/100\n",
      "227451/227451 [==============================] - 13s 56us/step - loss: 0.6630 - acc: 0.4017 - val_loss: 0.6884 - val_acc: 0.3955\n",
      "Epoch 8/100\n",
      "227451/227451 [==============================] - 13s 58us/step - loss: 0.6623 - acc: 0.4007 - val_loss: 0.6875 - val_acc: 0.4033\n",
      "Epoch 9/100\n",
      "227451/227451 [==============================] - 13s 58us/step - loss: 0.6618 - acc: 0.4009 - val_loss: 0.6852 - val_acc: 0.4003\n",
      "Epoch 10/100\n",
      "227451/227451 [==============================] - 13s 58us/step - loss: 0.6611 - acc: 0.4000 - val_loss: 0.6857 - val_acc: 0.3984\n",
      "Epoch 11/100\n",
      "227451/227451 [==============================] - 13s 58us/step - loss: 0.6604 - acc: 0.4009 - val_loss: 0.6885 - val_acc: 0.4119\n",
      "Epoch 12/100\n",
      "227451/227451 [==============================] - 13s 59us/step - loss: 0.6599 - acc: 0.4012 - val_loss: 0.6847 - val_acc: 0.3987\n",
      "Epoch 13/100\n",
      "227451/227451 [==============================] - 13s 59us/step - loss: 0.6596 - acc: 0.4022 - val_loss: 0.6846 - val_acc: 0.4069\n",
      "Epoch 14/100\n",
      "227451/227451 [==============================] - 13s 58us/step - loss: 0.6593 - acc: 0.4038 - val_loss: 0.6840 - val_acc: 0.4060\n",
      "Epoch 15/100\n",
      "227451/227451 [==============================] - 13s 58us/step - loss: 0.6591 - acc: 0.4051 - val_loss: 0.6842 - val_acc: 0.4037\n",
      "Epoch 16/100\n",
      "227451/227451 [==============================] - 11s 49us/step - loss: 0.6589 - acc: 0.4055 - val_loss: 0.6832 - val_acc: 0.4080\n",
      "Epoch 17/100\n",
      "227451/227451 [==============================] - 11s 47us/step - loss: 0.6587 - acc: 0.4046 - val_loss: 0.6824 - val_acc: 0.4003\n",
      "Epoch 18/100\n",
      "227451/227451 [==============================] - 13s 56us/step - loss: 0.6586 - acc: 0.4053 - val_loss: 0.6839 - val_acc: 0.4102\n",
      "Epoch 19/100\n",
      "227451/227451 [==============================] - 12s 51us/step - loss: 0.6583 - acc: 0.4067 - val_loss: 0.6833 - val_acc: 0.4010\n",
      "Epoch 20/100\n",
      "227451/227451 [==============================] - 10s 44us/step - loss: 0.6583 - acc: 0.4060 - val_loss: 0.6834 - val_acc: 0.4075\n"
     ]
    }
   ],
   "source": [
    "history = autoencoder.fit(Xtrain, Xtrain,\n",
    "                    epochs=numEpoch,\n",
    "                    batch_size=batchSize,\n",
    "                    shuffle=True,\n",
    "                    validation_data=(Xtest, Xtest),\n",
    "                    verbose=1,\n",
    "                    callbacks=[EarlyStopping(patience=3)]).history"
   ]
  },
  {
   "cell_type": "markdown",
   "metadata": {},
   "source": [
    "**3. Adding a layer**"
   ]
  },
  {
   "cell_type": "code",
   "execution_count": 98,
   "metadata": {
    "collapsed": true
   },
   "outputs": [],
   "source": [
    "layer1 = Xtrain.shape[1]\n",
    "layer2 = 7\n",
    "layer3 = 5\n",
    "layer4 = 7\n",
    "layer5 = Xtrain.shape[1]"
   ]
  },
  {
   "cell_type": "code",
   "execution_count": 99,
   "metadata": {
    "collapsed": true
   },
   "outputs": [],
   "source": [
    "autoencoder = Sequential()\n",
    "\n",
    "autoencoder.add(Dense(layer1, activation='tanh', activity_regularizer=regularizers.l1(10e-5), \\\n",
    "          input_shape=(Xtrain.shape[1],)))\n",
    "\n",
    "autoencoder.add(Dense(layer2, activation='tanh'))\n",
    "\n",
    "autoencoder.add(Dense(layer3, activation='tanh'))\n",
    "\n",
    "autoencoder.add(Dense(layer4, activation='tanh'))\n",
    "\n",
    "autoencoder.add(Dense(layer5, activation='tanh'))"
   ]
  },
  {
   "cell_type": "code",
   "execution_count": 100,
   "metadata": {
    "collapsed": true
   },
   "outputs": [],
   "source": [
    "autoencoder.compile(optimizer='adam', loss='mean_squared_error', metrics=['accuracy'])"
   ]
  },
  {
   "cell_type": "code",
   "execution_count": 101,
   "metadata": {},
   "outputs": [
    {
     "name": "stdout",
     "output_type": "stream",
     "text": [
      "Train on 227451 samples, validate on 56962 samples\n",
      "Epoch 1/100\n",
      "227451/227451 [==============================] - 13s 55us/step - loss: 0.7944 - acc: 0.4322 - val_loss: 0.7802 - val_acc: 0.4362\n",
      "Epoch 2/100\n",
      "227451/227451 [==============================] - 12s 55us/step - loss: 0.7388 - acc: 0.4505 - val_loss: 0.7578 - val_acc: 0.4650\n",
      "Epoch 3/100\n",
      "227451/227451 [==============================] - 13s 56us/step - loss: 0.7258 - acc: 0.4518 - val_loss: 0.7493 - val_acc: 0.4489\n",
      "Epoch 4/100\n",
      "227451/227451 [==============================] - 13s 56us/step - loss: 0.7186 - acc: 0.4381 - val_loss: 0.7412 - val_acc: 0.4400\n",
      "Epoch 5/100\n",
      "227451/227451 [==============================] - 13s 56us/step - loss: 0.7094 - acc: 0.4401 - val_loss: 0.7340 - val_acc: 0.4518\n",
      "Epoch 6/100\n",
      "227451/227451 [==============================] - 13s 57us/step - loss: 0.7045 - acc: 0.4422 - val_loss: 0.7309 - val_acc: 0.4349\n",
      "Epoch 7/100\n",
      "227451/227451 [==============================] - 13s 58us/step - loss: 0.7018 - acc: 0.4422 - val_loss: 0.7288 - val_acc: 0.4391\n",
      "Epoch 8/100\n",
      "227451/227451 [==============================] - 13s 59us/step - loss: 0.7001 - acc: 0.4409 - val_loss: 0.7260 - val_acc: 0.4379\n",
      "Epoch 9/100\n",
      "227451/227451 [==============================] - 14s 60us/step - loss: 0.6988 - acc: 0.4404 - val_loss: 0.7247 - val_acc: 0.4425\n",
      "Epoch 10/100\n",
      "227451/227451 [==============================] - 14s 60us/step - loss: 0.6976 - acc: 0.4398 - val_loss: 0.7235 - val_acc: 0.4428\n",
      "Epoch 11/100\n",
      "227451/227451 [==============================] - 14s 61us/step - loss: 0.6967 - acc: 0.4419 - val_loss: 0.7232 - val_acc: 0.4395\n",
      "Epoch 12/100\n",
      "227451/227451 [==============================] - 14s 62us/step - loss: 0.6962 - acc: 0.4428 - val_loss: 0.7228 - val_acc: 0.4419\n",
      "Epoch 13/100\n",
      "227451/227451 [==============================] - 14s 61us/step - loss: 0.6952 - acc: 0.4437 - val_loss: 0.7215 - val_acc: 0.4439\n",
      "Epoch 14/100\n",
      "227451/227451 [==============================] - 14s 63us/step - loss: 0.6947 - acc: 0.4443 - val_loss: 0.7207 - val_acc: 0.4410\n",
      "Epoch 15/100\n",
      "227451/227451 [==============================] - 14s 62us/step - loss: 0.6942 - acc: 0.4434 - val_loss: 0.7195 - val_acc: 0.4403\n",
      "Epoch 16/100\n",
      "227451/227451 [==============================] - 14s 63us/step - loss: 0.6934 - acc: 0.4424 - val_loss: 0.7205 - val_acc: 0.4445\n",
      "Epoch 17/100\n",
      "227451/227451 [==============================] - 14s 63us/step - loss: 0.6930 - acc: 0.4416 - val_loss: 0.7201 - val_acc: 0.4400\n",
      "Epoch 18/100\n",
      "227451/227451 [==============================] - 14s 62us/step - loss: 0.6925 - acc: 0.4407 - val_loss: 0.7202 - val_acc: 0.4342\n"
     ]
    }
   ],
   "source": [
    "history = autoencoder.fit(Xtrain, Xtrain,\n",
    "                    epochs=numEpoch,\n",
    "                    batch_size=batchSize,\n",
    "                    shuffle=True,\n",
    "                    validation_data=(Xtest, Xtest),\n",
    "                    verbose=1,\n",
    "                    callbacks=[EarlyStopping(patience=3)]).history"
   ]
  },
  {
   "cell_type": "markdown",
   "metadata": {},
   "source": [
    "**4.1 Increasing number of nodes**"
   ]
  },
  {
   "cell_type": "code",
   "execution_count": 114,
   "metadata": {
    "collapsed": true
   },
   "outputs": [],
   "source": [
    "layer1 = Xtrain.shape[1]\n",
    "layer2 = 10\n",
    "layer3 = 10\n",
    "layer4 = Xtrain.shape[1]"
   ]
  },
  {
   "cell_type": "code",
   "execution_count": 115,
   "metadata": {
    "collapsed": true
   },
   "outputs": [],
   "source": [
    "autoencoder = Sequential()\n",
    "\n",
    "autoencoder.add(Dense(layer1, activation='tanh', activity_regularizer=regularizers.l1(10e-5), \\\n",
    "          input_shape=(Xtrain.shape[1],)))\n",
    "\n",
    "autoencoder.add(Dense(layer2, activation='tanh'))\n",
    "\n",
    "autoencoder.add(Dense(layer3, activation='tanh'))\n",
    "\n",
    "autoencoder.add(Dense(layer4, activation='tanh'))"
   ]
  },
  {
   "cell_type": "code",
   "execution_count": 116,
   "metadata": {
    "collapsed": true
   },
   "outputs": [],
   "source": [
    "autoencoder.compile(optimizer='adam', loss='mean_squared_error', metrics=['accuracy'])"
   ]
  },
  {
   "cell_type": "code",
   "execution_count": 117,
   "metadata": {},
   "outputs": [
    {
     "name": "stdout",
     "output_type": "stream",
     "text": [
      "Train on 227451 samples, validate on 56962 samples\n",
      "Epoch 1/100\n",
      "227451/227451 [==============================] - 14s 62us/step - loss: 0.6589 - acc: 0.5029 - val_loss: 0.6327 - val_acc: 0.5062\n",
      "Epoch 2/100\n",
      "227451/227451 [==============================] - 14s 61us/step - loss: 0.6005 - acc: 0.5153 - val_loss: 0.6226 - val_acc: 0.5201\n",
      "Epoch 3/100\n",
      "227451/227451 [==============================] - 14s 61us/step - loss: 0.5911 - acc: 0.5213 - val_loss: 0.6118 - val_acc: 0.5100\n",
      "Epoch 4/100\n",
      "227451/227451 [==============================] - 14s 62us/step - loss: 0.5867 - acc: 0.5220 - val_loss: 0.6098 - val_acc: 0.5186\n",
      "Epoch 5/100\n",
      "227451/227451 [==============================] - 14s 62us/step - loss: 0.5845 - acc: 0.5204 - val_loss: 0.6074 - val_acc: 0.5210\n",
      "Epoch 6/100\n",
      "227451/227451 [==============================] - 14s 63us/step - loss: 0.5831 - acc: 0.5183 - val_loss: 0.6061 - val_acc: 0.5073\n",
      "Epoch 7/100\n",
      "227451/227451 [==============================] - 14s 63us/step - loss: 0.5822 - acc: 0.5172 - val_loss: 0.6063 - val_acc: 0.5190\n",
      "Epoch 8/100\n",
      "227451/227451 [==============================] - 15s 64us/step - loss: 0.5815 - acc: 0.5170 - val_loss: 0.6058 - val_acc: 0.5285\n",
      "Epoch 9/100\n",
      "227451/227451 [==============================] - 15s 64us/step - loss: 0.5809 - acc: 0.5169 - val_loss: 0.6035 - val_acc: 0.5153\n",
      "Epoch 10/100\n",
      "227451/227451 [==============================] - 15s 64us/step - loss: 0.5795 - acc: 0.5131 - val_loss: 0.6017 - val_acc: 0.5048\n",
      "Epoch 11/100\n",
      "227451/227451 [==============================] - 15s 65us/step - loss: 0.5789 - acc: 0.5125 - val_loss: 0.6033 - val_acc: 0.5135\n",
      "Epoch 12/100\n",
      "227451/227451 [==============================] - 14s 62us/step - loss: 0.5782 - acc: 0.5108 - val_loss: 0.6022 - val_acc: 0.5144\n",
      "Epoch 13/100\n",
      "227451/227451 [==============================] - 14s 62us/step - loss: 0.5779 - acc: 0.5101 - val_loss: 0.6021 - val_acc: 0.5078\n"
     ]
    }
   ],
   "source": [
    "history = autoencoder.fit(Xtrain, Xtrain,\n",
    "                    epochs=numEpoch,\n",
    "                    batch_size=batchSize,\n",
    "                    shuffle=True,\n",
    "                    validation_data=(Xtest, Xtest),\n",
    "                    verbose=1,\n",
    "                    callbacks=[EarlyStopping(patience=3)]).history"
   ]
  },
  {
   "cell_type": "markdown",
   "metadata": {},
   "source": [
    "**Increasing the number of nodes further might not be in the spirit of autoencoders. Need to validate further by looking at the test data**"
   ]
  },
  {
   "cell_type": "markdown",
   "metadata": {},
   "source": [
    "## Evaluation"
   ]
  },
  {
   "cell_type": "code",
   "execution_count": 118,
   "metadata": {},
   "outputs": [
    {
     "data": {
      "text/plain": [
       "dict"
      ]
     },
     "execution_count": 118,
     "metadata": {},
     "output_type": "execute_result"
    }
   ],
   "source": [
    "type(history)"
   ]
  },
  {
   "cell_type": "code",
   "execution_count": 119,
   "metadata": {},
   "outputs": [
    {
     "data": {
      "text/plain": [
       "dict_keys(['val_loss', 'val_acc', 'loss', 'acc'])"
      ]
     },
     "execution_count": 119,
     "metadata": {},
     "output_type": "execute_result"
    }
   ],
   "source": [
    "history.keys()"
   ]
  },
  {
   "cell_type": "code",
   "execution_count": 120,
   "metadata": {},
   "outputs": [
    {
     "data": {
      "text/plain": [
       "[0.658942913072746,\n",
       " 0.6005007616075309,\n",
       " 0.5911381066349422,\n",
       " 0.586697300844088,\n",
       " 0.5844780968783062,\n",
       " 0.5830787539699098,\n",
       " 0.5821772552101131,\n",
       " 0.5814537490188221,\n",
       " 0.580890027658323,\n",
       " 0.579458993835091,\n",
       " 0.5788932259411432,\n",
       " 0.5781785792598698,\n",
       " 0.5779050408510571]"
      ]
     },
     "execution_count": 120,
     "metadata": {},
     "output_type": "execute_result"
    }
   ],
   "source": [
    "history['loss'][:20]"
   ]
  },
  {
   "cell_type": "code",
   "execution_count": 121,
   "metadata": {},
   "outputs": [
    {
     "data": {
      "image/png": "[encoded data removed]",
      "text/plain": [
       "<matplotlib.figure.Figure at 0x12676ce10>"
      ]
     },
     "metadata": {},
     "output_type": "display_data"
    }
   ],
   "source": [
    "plt.plot(history['loss']);\n",
    "plt.plot(history['val_loss']);\n",
    "plt.title('model loss')\n",
    "plt.ylabel('loss')\n",
    "plt.xlabel('epoch')\n",
    "plt.legend(['training set loss', 'validation set loss']);"
   ]
  },
  {
   "cell_type": "markdown",
   "metadata": {},
   "source": [
    "**Let's now look at the reconstruction error**"
   ]
  },
  {
   "cell_type": "code",
   "execution_count": 122,
   "metadata": {
    "collapsed": true
   },
   "outputs": [],
   "source": [
    "predictions = autoencoder.predict(Xtest)"
   ]
  },
  {
   "cell_type": "code",
   "execution_count": 123,
   "metadata": {},
   "outputs": [
    {
     "data": {
      "text/plain": [
       "array([[-9.9260265e-01,  9.1527528e-01, -9.7714502e-01, ...,\n",
       "        -3.4279701e-01, -6.1530867e-03,  7.3162001e-01],\n",
       "       [-4.8658884e-01, -9.9958783e-01, -2.1342187e-01, ...,\n",
       "        -4.4310406e-02,  4.1346077e-02,  9.1755110e-01],\n",
       "       [ 9.9708188e-01, -6.6277426e-01,  6.1136144e-01, ...,\n",
       "         3.8858216e-02, -3.8570903e-02, -5.9637785e-01],\n",
       "       ...,\n",
       "       [ 9.0453631e-01,  2.8732592e-01, -9.9728847e-01, ...,\n",
       "        -4.5657672e-02, -2.4982922e-02, -1.4394833e-01],\n",
       "       [-9.8423034e-01,  9.4149017e-01,  9.4973189e-01, ...,\n",
       "         5.4138177e-03, -5.7189335e-04, -3.7094048e-01],\n",
       "       [-9.9728400e-01,  8.3552480e-01, -2.0529483e-02, ...,\n",
       "        -5.2647531e-02,  1.4335479e-01,  8.8054466e-01]], dtype=float32)"
      ]
     },
     "execution_count": 123,
     "metadata": {},
     "output_type": "execute_result"
    }
   ],
   "source": [
    "predictions"
   ]
  },
  {
   "cell_type": "code",
   "execution_count": 124,
   "metadata": {
    "collapsed": true
   },
   "outputs": [],
   "source": [
    "import numpy as np"
   ]
  },
  {
   "cell_type": "code",
   "execution_count": 125,
   "metadata": {},
   "outputs": [
    {
     "data": {
      "text/html": [
       "<div>\n",
       "<style>\n",
       "    .dataframe thead tr:only-child th {\n",
       "        text-align: right;\n",
       "    }\n",
       "\n",
       "    .dataframe thead th {\n",
       "        text-align: left;\n",
       "    }\n",
       "\n",
       "    .dataframe tbody tr th {\n",
       "        vertical-align: top;\n",
       "    }\n",
       "</style>\n",
       "<table border=\"1\" class=\"dataframe\">\n",
       "  <thead>\n",
       "    <tr style=\"text-align: right;\">\n",
       "      <th></th>\n",
       "      <th>V1</th>\n",
       "      <th>V2</th>\n",
       "      <th>V3</th>\n",
       "      <th>V4</th>\n",
       "      <th>V5</th>\n",
       "      <th>V6</th>\n",
       "      <th>V7</th>\n",
       "      <th>V8</th>\n",
       "      <th>V9</th>\n",
       "      <th>V10</th>\n",
       "      <th>...</th>\n",
       "      <th>V20</th>\n",
       "      <th>V21</th>\n",
       "      <th>V22</th>\n",
       "      <th>V23</th>\n",
       "      <th>V24</th>\n",
       "      <th>V25</th>\n",
       "      <th>V26</th>\n",
       "      <th>V27</th>\n",
       "      <th>V28</th>\n",
       "      <th>Amount</th>\n",
       "    </tr>\n",
       "  </thead>\n",
       "  <tbody>\n",
       "    <tr>\n",
       "      <th>43428</th>\n",
       "      <td>-16.526507</td>\n",
       "      <td>8.584972</td>\n",
       "      <td>-18.649853</td>\n",
       "      <td>9.505594</td>\n",
       "      <td>-13.793819</td>\n",
       "      <td>-2.832404</td>\n",
       "      <td>-16.701694</td>\n",
       "      <td>7.517344</td>\n",
       "      <td>-8.507059</td>\n",
       "      <td>-14.110184</td>\n",
       "      <td>...</td>\n",
       "      <td>-1.514923</td>\n",
       "      <td>1.190739</td>\n",
       "      <td>-1.127670</td>\n",
       "      <td>-2.358579</td>\n",
       "      <td>0.673461</td>\n",
       "      <td>-1.413700</td>\n",
       "      <td>-0.462762</td>\n",
       "      <td>-2.018575</td>\n",
       "      <td>-1.042804</td>\n",
       "      <td>1.102834</td>\n",
       "    </tr>\n",
       "    <tr>\n",
       "      <th>49906</th>\n",
       "      <td>0.339812</td>\n",
       "      <td>-2.743745</td>\n",
       "      <td>-0.134070</td>\n",
       "      <td>-1.385729</td>\n",
       "      <td>-1.451413</td>\n",
       "      <td>1.015887</td>\n",
       "      <td>-0.524379</td>\n",
       "      <td>0.224060</td>\n",
       "      <td>0.899746</td>\n",
       "      <td>-0.565012</td>\n",
       "      <td>...</td>\n",
       "      <td>0.506044</td>\n",
       "      <td>-0.213436</td>\n",
       "      <td>-0.942525</td>\n",
       "      <td>-0.526819</td>\n",
       "      <td>-1.156992</td>\n",
       "      <td>0.311211</td>\n",
       "      <td>-0.746647</td>\n",
       "      <td>0.040996</td>\n",
       "      <td>0.102038</td>\n",
       "      <td>1.726255</td>\n",
       "    </tr>\n",
       "    <tr>\n",
       "      <th>29474</th>\n",
       "      <td>1.399590</td>\n",
       "      <td>-0.590701</td>\n",
       "      <td>0.168619</td>\n",
       "      <td>-1.029950</td>\n",
       "      <td>-0.539806</td>\n",
       "      <td>0.040444</td>\n",
       "      <td>-0.712567</td>\n",
       "      <td>0.002299</td>\n",
       "      <td>-0.971747</td>\n",
       "      <td>0.756801</td>\n",
       "      <td>...</td>\n",
       "      <td>0.212877</td>\n",
       "      <td>0.102398</td>\n",
       "      <td>0.168269</td>\n",
       "      <td>-0.166639</td>\n",
       "      <td>-0.810250</td>\n",
       "      <td>0.505083</td>\n",
       "      <td>-0.232340</td>\n",
       "      <td>0.011409</td>\n",
       "      <td>0.004634</td>\n",
       "      <td>-0.229289</td>\n",
       "    </tr>\n",
       "    <tr>\n",
       "      <th>276481</th>\n",
       "      <td>-0.432071</td>\n",
       "      <td>1.647895</td>\n",
       "      <td>-1.669361</td>\n",
       "      <td>-0.349504</td>\n",
       "      <td>0.785785</td>\n",
       "      <td>-0.630647</td>\n",
       "      <td>0.276990</td>\n",
       "      <td>0.586025</td>\n",
       "      <td>-0.484715</td>\n",
       "      <td>-1.376648</td>\n",
       "      <td>...</td>\n",
       "      <td>-0.244633</td>\n",
       "      <td>0.358932</td>\n",
       "      <td>0.873663</td>\n",
       "      <td>-0.178642</td>\n",
       "      <td>-0.017171</td>\n",
       "      <td>-0.207392</td>\n",
       "      <td>-0.157756</td>\n",
       "      <td>-0.237386</td>\n",
       "      <td>0.001934</td>\n",
       "      <td>-0.347232</td>\n",
       "    </tr>\n",
       "    <tr>\n",
       "      <th>278846</th>\n",
       "      <td>2.014160</td>\n",
       "      <td>-0.137394</td>\n",
       "      <td>-1.015839</td>\n",
       "      <td>0.327269</td>\n",
       "      <td>-0.182179</td>\n",
       "      <td>-0.956571</td>\n",
       "      <td>0.043241</td>\n",
       "      <td>-0.160746</td>\n",
       "      <td>0.363241</td>\n",
       "      <td>0.259452</td>\n",
       "      <td>...</td>\n",
       "      <td>-0.255293</td>\n",
       "      <td>-0.238644</td>\n",
       "      <td>-0.616400</td>\n",
       "      <td>0.347045</td>\n",
       "      <td>0.061561</td>\n",
       "      <td>-0.360196</td>\n",
       "      <td>0.174730</td>\n",
       "      <td>-0.078043</td>\n",
       "      <td>-0.070571</td>\n",
       "      <td>-0.349671</td>\n",
       "    </tr>\n",
       "  </tbody>\n",
       "</table>\n",
       "<p>5 rows × 29 columns</p>\n",
       "</div>"
      ],
      "text/plain": [
       "               V1        V2         V3        V4         V5        V6  \\\n",
       "43428  -16.526507  8.584972 -18.649853  9.505594 -13.793819 -2.832404   \n",
       "49906    0.339812 -2.743745  -0.134070 -1.385729  -1.451413  1.015887   \n",
       "29474    1.399590 -0.590701   0.168619 -1.029950  -0.539806  0.040444   \n",
       "276481  -0.432071  1.647895  -1.669361 -0.349504   0.785785 -0.630647   \n",
       "278846   2.014160 -0.137394  -1.015839  0.327269  -0.182179 -0.956571   \n",
       "\n",
       "               V7        V8        V9        V10    ...          V20  \\\n",
       "43428  -16.701694  7.517344 -8.507059 -14.110184    ...    -1.514923   \n",
       "49906   -0.524379  0.224060  0.899746  -0.565012    ...     0.506044   \n",
       "29474   -0.712567  0.002299 -0.971747   0.756801    ...     0.212877   \n",
       "276481   0.276990  0.586025 -0.484715  -1.376648    ...    -0.244633   \n",
       "278846   0.043241 -0.160746  0.363241   0.259452    ...    -0.255293   \n",
       "\n",
       "             V21       V22       V23       V24       V25       V26       V27  \\\n",
       "43428   1.190739 -1.127670 -2.358579  0.673461 -1.413700 -0.462762 -2.018575   \n",
       "49906  -0.213436 -0.942525 -0.526819 -1.156992  0.311211 -0.746647  0.040996   \n",
       "29474   0.102398  0.168269 -0.166639 -0.810250  0.505083 -0.232340  0.011409   \n",
       "276481  0.358932  0.873663 -0.178642 -0.017171 -0.207392 -0.157756 -0.237386   \n",
       "278846 -0.238644 -0.616400  0.347045  0.061561 -0.360196  0.174730 -0.078043   \n",
       "\n",
       "             V28    Amount  \n",
       "43428  -1.042804  1.102834  \n",
       "49906   0.102038  1.726255  \n",
       "29474   0.004634 -0.229289  \n",
       "276481  0.001934 -0.347232  \n",
       "278846 -0.070571 -0.349671  \n",
       "\n",
       "[5 rows x 29 columns]"
      ]
     },
     "execution_count": 125,
     "metadata": {},
     "output_type": "execute_result"
    }
   ],
   "source": [
    "Xtest.head()"
   ]
  },
  {
   "cell_type": "code",
   "execution_count": 126,
   "metadata": {},
   "outputs": [
    {
     "data": {
      "text/html": [
       "<div>\n",
       "<style>\n",
       "    .dataframe thead tr:only-child th {\n",
       "        text-align: right;\n",
       "    }\n",
       "\n",
       "    .dataframe thead th {\n",
       "        text-align: left;\n",
       "    }\n",
       "\n",
       "    .dataframe tbody tr th {\n",
       "        vertical-align: top;\n",
       "    }\n",
       "</style>\n",
       "<table border=\"1\" class=\"dataframe\">\n",
       "  <thead>\n",
       "    <tr style=\"text-align: right;\">\n",
       "      <th></th>\n",
       "      <th>V1</th>\n",
       "      <th>V2</th>\n",
       "      <th>V3</th>\n",
       "      <th>V4</th>\n",
       "      <th>V5</th>\n",
       "      <th>V6</th>\n",
       "      <th>V7</th>\n",
       "      <th>V8</th>\n",
       "      <th>V9</th>\n",
       "      <th>V10</th>\n",
       "      <th>...</th>\n",
       "      <th>V20</th>\n",
       "      <th>V21</th>\n",
       "      <th>V22</th>\n",
       "      <th>V23</th>\n",
       "      <th>V24</th>\n",
       "      <th>V25</th>\n",
       "      <th>V26</th>\n",
       "      <th>V27</th>\n",
       "      <th>V28</th>\n",
       "      <th>Amount</th>\n",
       "    </tr>\n",
       "  </thead>\n",
       "  <tbody>\n",
       "    <tr>\n",
       "      <th>43428</th>\n",
       "      <td>241.302171</td>\n",
       "      <td>58.824245</td>\n",
       "      <td>312.324614</td>\n",
       "      <td>72.345125</td>\n",
       "      <td>164.448057</td>\n",
       "      <td>14.687274</td>\n",
       "      <td>250.988739</td>\n",
       "      <td>42.475940</td>\n",
       "      <td>61.185283</td>\n",
       "      <td>175.012209</td>\n",
       "      <td>...</td>\n",
       "      <td>4.501202</td>\n",
       "      <td>1.673662</td>\n",
       "      <td>2.541145</td>\n",
       "      <td>5.358650</td>\n",
       "      <td>1.616643</td>\n",
       "      <td>1.580136</td>\n",
       "      <td>0.153089</td>\n",
       "      <td>2.808233</td>\n",
       "      <td>1.074645</td>\n",
       "      <td>0.137800</td>\n",
       "    </tr>\n",
       "    <tr>\n",
       "      <th>49906</th>\n",
       "      <td>0.682938</td>\n",
       "      <td>3.042085</td>\n",
       "      <td>0.006297</td>\n",
       "      <td>0.210713</td>\n",
       "      <td>0.213326</td>\n",
       "      <td>0.001586</td>\n",
       "      <td>0.019440</td>\n",
       "      <td>0.017098</td>\n",
       "      <td>0.002668</td>\n",
       "      <td>0.002932</td>\n",
       "      <td>...</td>\n",
       "      <td>0.022570</td>\n",
       "      <td>0.197129</td>\n",
       "      <td>0.823635</td>\n",
       "      <td>0.266913</td>\n",
       "      <td>1.039212</td>\n",
       "      <td>0.129657</td>\n",
       "      <td>0.547229</td>\n",
       "      <td>0.007277</td>\n",
       "      <td>0.003683</td>\n",
       "      <td>0.654002</td>\n",
       "    </tr>\n",
       "    <tr>\n",
       "      <th>29474</th>\n",
       "      <td>0.162013</td>\n",
       "      <td>0.005195</td>\n",
       "      <td>0.196021</td>\n",
       "      <td>0.032211</td>\n",
       "      <td>0.064463</td>\n",
       "      <td>0.143282</td>\n",
       "      <td>0.038967</td>\n",
       "      <td>0.000414</td>\n",
       "      <td>0.071592</td>\n",
       "      <td>0.016648</td>\n",
       "      <td>...</td>\n",
       "      <td>0.355623</td>\n",
       "      <td>0.006244</td>\n",
       "      <td>0.032875</td>\n",
       "      <td>0.077205</td>\n",
       "      <td>0.631740</td>\n",
       "      <td>0.226230</td>\n",
       "      <td>0.059837</td>\n",
       "      <td>0.000753</td>\n",
       "      <td>0.001867</td>\n",
       "      <td>0.134754</td>\n",
       "    </tr>\n",
       "    <tr>\n",
       "      <th>276481</th>\n",
       "      <td>0.025577</td>\n",
       "      <td>0.452947</td>\n",
       "      <td>0.619427</td>\n",
       "      <td>0.008901</td>\n",
       "      <td>0.040813</td>\n",
       "      <td>0.150934</td>\n",
       "      <td>0.248826</td>\n",
       "      <td>0.211586</td>\n",
       "      <td>0.046188</td>\n",
       "      <td>0.497785</td>\n",
       "      <td>...</td>\n",
       "      <td>0.014344</td>\n",
       "      <td>0.060340</td>\n",
       "      <td>0.772896</td>\n",
       "      <td>0.027502</td>\n",
       "      <td>0.002507</td>\n",
       "      <td>0.033159</td>\n",
       "      <td>0.027957</td>\n",
       "      <td>0.058423</td>\n",
       "      <td>0.000409</td>\n",
       "      <td>0.020562</td>\n",
       "    </tr>\n",
       "    <tr>\n",
       "      <th>278846</th>\n",
       "      <td>1.028803</td>\n",
       "      <td>0.016420</td>\n",
       "      <td>0.003013</td>\n",
       "      <td>0.004712</td>\n",
       "      <td>0.044059</td>\n",
       "      <td>0.001025</td>\n",
       "      <td>0.010009</td>\n",
       "      <td>0.000792</td>\n",
       "      <td>0.000577</td>\n",
       "      <td>0.121075</td>\n",
       "      <td>...</td>\n",
       "      <td>0.004916</td>\n",
       "      <td>0.059546</td>\n",
       "      <td>0.316920</td>\n",
       "      <td>0.091563</td>\n",
       "      <td>0.002509</td>\n",
       "      <td>0.172265</td>\n",
       "      <td>0.036006</td>\n",
       "      <td>0.005269</td>\n",
       "      <td>0.003835</td>\n",
       "      <td>0.006319</td>\n",
       "    </tr>\n",
       "  </tbody>\n",
       "</table>\n",
       "<p>5 rows × 29 columns</p>\n",
       "</div>"
      ],
      "text/plain": [
       "                V1         V2          V3         V4          V5         V6  \\\n",
       "43428   241.302171  58.824245  312.324614  72.345125  164.448057  14.687274   \n",
       "49906     0.682938   3.042085    0.006297   0.210713    0.213326   0.001586   \n",
       "29474     0.162013   0.005195    0.196021   0.032211    0.064463   0.143282   \n",
       "276481    0.025577   0.452947    0.619427   0.008901    0.040813   0.150934   \n",
       "278846    1.028803   0.016420    0.003013   0.004712    0.044059   0.001025   \n",
       "\n",
       "                V7         V8         V9         V10    ...          V20  \\\n",
       "43428   250.988739  42.475940  61.185283  175.012209    ...     4.501202   \n",
       "49906     0.019440   0.017098   0.002668    0.002932    ...     0.022570   \n",
       "29474     0.038967   0.000414   0.071592    0.016648    ...     0.355623   \n",
       "276481    0.248826   0.211586   0.046188    0.497785    ...     0.014344   \n",
       "278846    0.010009   0.000792   0.000577    0.121075    ...     0.004916   \n",
       "\n",
       "             V21       V22       V23       V24       V25       V26       V27  \\\n",
       "43428   1.673662  2.541145  5.358650  1.616643  1.580136  0.153089  2.808233   \n",
       "49906   0.197129  0.823635  0.266913  1.039212  0.129657  0.547229  0.007277   \n",
       "29474   0.006244  0.032875  0.077205  0.631740  0.226230  0.059837  0.000753   \n",
       "276481  0.060340  0.772896  0.027502  0.002507  0.033159  0.027957  0.058423   \n",
       "278846  0.059546  0.316920  0.091563  0.002509  0.172265  0.036006  0.005269   \n",
       "\n",
       "             V28    Amount  \n",
       "43428   1.074645  0.137800  \n",
       "49906   0.003683  0.654002  \n",
       "29474   0.001867  0.134754  \n",
       "276481  0.000409  0.020562  \n",
       "278846  0.003835  0.006319  \n",
       "\n",
       "[5 rows x 29 columns]"
      ]
     },
     "execution_count": 126,
     "metadata": {},
     "output_type": "execute_result"
    }
   ],
   "source": [
    "np.power(Xtest - predictions, 2).head()"
   ]
  },
  {
   "cell_type": "code",
   "execution_count": 127,
   "metadata": {
    "scrolled": true
   },
   "outputs": [
    {
     "data": {
      "text/plain": [
       "V1    1.980206\n",
       "V2    1.562726\n",
       "V3    0.968004\n",
       "V4    0.908779\n",
       "V5    0.878946\n",
       "dtype: float64"
      ]
     },
     "execution_count": 127,
     "metadata": {},
     "output_type": "execute_result"
    }
   ],
   "source": [
    "np.mean(np.power(Xtest - predictions, 2), axis = 'rows').head()"
   ]
  },
  {
   "cell_type": "code",
   "execution_count": 128,
   "metadata": {},
   "outputs": [
    {
     "data": {
      "text/plain": [
       "43428     74.516323\n",
       "49906      0.383587\n",
       "29474      0.158329\n",
       "276481     0.253020\n",
       "278846     0.087153\n",
       "dtype: float64"
      ]
     },
     "execution_count": 128,
     "metadata": {},
     "output_type": "execute_result"
    }
   ],
   "source": [
    "np.mean(np.power(Xtest - predictions, 2), axis = 'columns').head()"
   ]
  },
  {
   "cell_type": "code",
   "execution_count": 129,
   "metadata": {
    "collapsed": true
   },
   "outputs": [],
   "source": [
    "mse = np.mean(np.power(Xtest - predictions, 2), axis = 'columns')"
   ]
  },
  {
   "cell_type": "code",
   "execution_count": 130,
   "metadata": {
    "collapsed": true
   },
   "outputs": [],
   "source": [
    "reconstructionErrorDF = pd.DataFrame({'mse': mse, 'trueClass': ytest})"
   ]
  },
  {
   "cell_type": "code",
   "execution_count": 131,
   "metadata": {},
   "outputs": [
    {
     "data": {
      "text/html": [
       "<div>\n",
       "<style>\n",
       "    .dataframe thead tr:only-child th {\n",
       "        text-align: right;\n",
       "    }\n",
       "\n",
       "    .dataframe thead th {\n",
       "        text-align: left;\n",
       "    }\n",
       "\n",
       "    .dataframe tbody tr th {\n",
       "        vertical-align: top;\n",
       "    }\n",
       "</style>\n",
       "<table border=\"1\" class=\"dataframe\">\n",
       "  <thead>\n",
       "    <tr style=\"text-align: right;\">\n",
       "      <th></th>\n",
       "      <th>mse</th>\n",
       "      <th>trueClass</th>\n",
       "    </tr>\n",
       "  </thead>\n",
       "  <tbody>\n",
       "    <tr>\n",
       "      <th>43428</th>\n",
       "      <td>74.516323</td>\n",
       "      <td>1</td>\n",
       "    </tr>\n",
       "    <tr>\n",
       "      <th>49906</th>\n",
       "      <td>0.383587</td>\n",
       "      <td>0</td>\n",
       "    </tr>\n",
       "    <tr>\n",
       "      <th>29474</th>\n",
       "      <td>0.158329</td>\n",
       "      <td>0</td>\n",
       "    </tr>\n",
       "    <tr>\n",
       "      <th>276481</th>\n",
       "      <td>0.253020</td>\n",
       "      <td>0</td>\n",
       "    </tr>\n",
       "    <tr>\n",
       "      <th>278846</th>\n",
       "      <td>0.087153</td>\n",
       "      <td>0</td>\n",
       "    </tr>\n",
       "  </tbody>\n",
       "</table>\n",
       "</div>"
      ],
      "text/plain": [
       "              mse  trueClass\n",
       "43428   74.516323          1\n",
       "49906    0.383587          0\n",
       "29474    0.158329          0\n",
       "276481   0.253020          0\n",
       "278846   0.087153          0"
      ]
     },
     "execution_count": 131,
     "metadata": {},
     "output_type": "execute_result"
    }
   ],
   "source": [
    "reconstructionErrorDF.head()"
   ]
  },
  {
   "cell_type": "code",
   "execution_count": 132,
   "metadata": {
    "collapsed": true
   },
   "outputs": [],
   "source": [
    "validReconstructionErrorDf = reconstructionErrorDF[reconstructionErrorDF['trueClass'] == 0]"
   ]
  },
  {
   "cell_type": "code",
   "execution_count": 133,
   "metadata": {
    "collapsed": true
   },
   "outputs": [],
   "source": [
    "fraudReconstructionErrorDF = reconstructionErrorDF[reconstructionErrorDF['trueClass'] == 1]"
   ]
  },
  {
   "cell_type": "code",
   "execution_count": 134,
   "metadata": {},
   "outputs": [
    {
     "data": {
      "text/plain": [
       "(56864, 2)"
      ]
     },
     "execution_count": 134,
     "metadata": {},
     "output_type": "execute_result"
    }
   ],
   "source": [
    "validReconstructionErrorDf.shape"
   ]
  },
  {
   "cell_type": "code",
   "execution_count": 135,
   "metadata": {},
   "outputs": [
    {
     "data": {
      "text/plain": [
       "(98, 2)"
      ]
     },
     "execution_count": 135,
     "metadata": {},
     "output_type": "execute_result"
    }
   ],
   "source": [
    "fraudReconstructionErrorDF.shape"
   ]
  },
  {
   "cell_type": "code",
   "execution_count": 136,
   "metadata": {},
   "outputs": [
    {
     "data": {
      "text/plain": [
       "count     98.000000\n",
       "mean      28.616814\n",
       "std       43.819648\n",
       "min        0.146889\n",
       "25%        3.484932\n",
       "50%        9.131339\n",
       "75%       47.231051\n",
       "max      250.327661\n",
       "Name: mse, dtype: float64"
      ]
     },
     "execution_count": 136,
     "metadata": {},
     "output_type": "execute_result"
    }
   ],
   "source": [
    "fraudReconstructionErrorDF.mse.describe()"
   ]
  },
  {
   "cell_type": "code",
   "execution_count": 139,
   "metadata": {},
   "outputs": [
    {
     "data": {
      "text/plain": [
       "count    56864.000000\n",
       "mean         0.547956\n",
       "std          2.716749\n",
       "min          0.021168\n",
       "25%          0.129157\n",
       "50%          0.217056\n",
       "75%          0.417656\n",
       "max        172.311063\n",
       "Name: mse, dtype: float64"
      ]
     },
     "execution_count": 139,
     "metadata": {},
     "output_type": "execute_result"
    }
   ],
   "source": [
    "validReconstructionErrorDf.mse.describe()"
   ]
  },
  {
   "cell_type": "markdown",
   "metadata": {},
   "source": [
    "We see that the reconstruction error is higher for the fraud examples."
   ]
  },
  {
   "cell_type": "code",
   "execution_count": 140,
   "metadata": {
    "collapsed": true
   },
   "outputs": [],
   "source": [
    "import seaborn as sns"
   ]
  },
  {
   "cell_type": "code",
   "execution_count": 141,
   "metadata": {
    "collapsed": true
   },
   "outputs": [],
   "source": [
    "sns.set(style='whitegrid', font_scale=1.5)"
   ]
  },
  {
   "cell_type": "code",
   "execution_count": 142,
   "metadata": {},
   "outputs": [
    {
     "data": {
      "image/png": "[encoded data removed]",
      "text/plain": [
       "<matplotlib.figure.Figure at 0x149ed7da0>"
      ]
     },
     "metadata": {},
     "output_type": "display_data"
    }
   ],
   "source": [
    "sns.distplot(validReconstructionErrorDf.mse.values, bins = 40, norm_hist=True, kde=False);\n",
    "sns.distplot(fraudReconstructionErrorDF.mse.values, bins = 40, norm_hist=True, kde=False);\n",
    "plt.xlim((0, 100));\n",
    "plt.xticks(np.linspace(0, 100, 11));"
   ]
  },
  {
   "cell_type": "code",
   "execution_count": 143,
   "metadata": {
    "collapsed": true
   },
   "outputs": [],
   "source": [
    "from sklearn.metrics import (confusion_matrix, precision_recall_curve, auc, roc_curve, recall_score, \\\n",
    "                             classification_report, f1_score, precision_score)"
   ]
  },
  {
   "cell_type": "code",
   "execution_count": 144,
   "metadata": {
    "collapsed": true
   },
   "outputs": [],
   "source": [
    "fpr, tpr, thresholds = roc_curve(reconstructionErrorDF.trueClass, reconstructionErrorDF.mse)"
   ]
  },
  {
   "cell_type": "markdown",
   "metadata": {},
   "source": [
    "The first parameter of the roc_curve function is y_true (the true binary labels either {0, 1} or {-1, 1}). \n",
    "\n",
    "The second parameter of the roc_curve is y_score. \n",
    "Target scores, can either be probability estimates of the positive class, confidence values, or non-thresholded measure of decisions (as returned by “decision_function” on some classifiers).\n",
    "\n",
    "The output are as follows: \n",
    "\n",
    "**fpr** : array, shape = [>2]\n",
    "\n",
    "Increasing false positive rates such that element i is the false positive rate of predictions with score >= thresholds[i].\n",
    "\n",
    "** tpr ** : array, shape = [>2]\n",
    "\n",
    "Increasing true positive rates such that element i is the true positive rate of predictions with score >= thresholds[i].\n",
    "\n",
    "** thresholds **: array, shape = [n_thresholds]\n",
    "\n",
    "Decreasing thresholds on the decision function used to compute fpr and tpr. thresholds[0] represents no instances being predicted and is arbitrarily set to max(y_score) + 1."
   ]
  },
  {
   "cell_type": "code",
   "execution_count": 145,
   "metadata": {},
   "outputs": [
    {
     "data": {
      "text/plain": [
       "array([2.50327661e+02, 1.91744366e+02, 1.67528987e+02, ...,\n",
       "       3.72966397e-02, 3.72753747e-02, 2.11682533e-02])"
      ]
     },
     "execution_count": 145,
     "metadata": {},
     "output_type": "execute_result"
    }
   ],
   "source": [
    "thresholds"
   ]
  },
  {
   "cell_type": "code",
   "execution_count": 146,
   "metadata": {},
   "outputs": [
    {
     "data": {
      "text/plain": [
       "array([0.00000000e+00, 0.00000000e+00, 5.27574564e-05, ...,\n",
       "       9.98100732e-01, 9.98135903e-01, 1.00000000e+00])"
      ]
     },
     "execution_count": 146,
     "metadata": {},
     "output_type": "execute_result"
    }
   ],
   "source": [
    "fpr"
   ]
  },
  {
   "cell_type": "code",
   "execution_count": 147,
   "metadata": {},
   "outputs": [
    {
     "data": {
      "text/plain": [
       "array([0.01020408, 0.02040816, 0.02040816, ..., 1.        , 1.        ,\n",
       "       1.        ])"
      ]
     },
     "execution_count": 147,
     "metadata": {},
     "output_type": "execute_result"
    }
   ],
   "source": [
    "tpr"
   ]
  },
  {
   "cell_type": "markdown",
   "metadata": {},
   "source": [
    "TPR (Recall) = TP/ (actual yes) = TP /(TP + FN)\n",
    "\n",
    "FPR = FP / (actual no) = FP / (TN + FP)"
   ]
  },
  {
   "cell_type": "code",
   "execution_count": 148,
   "metadata": {},
   "outputs": [
    {
     "data": {
      "text/plain": [
       "(1033,)"
      ]
     },
     "execution_count": 148,
     "metadata": {},
     "output_type": "execute_result"
    }
   ],
   "source": [
    "fpr.shape"
   ]
  },
  {
   "cell_type": "code",
   "execution_count": 149,
   "metadata": {},
   "outputs": [
    {
     "data": {
      "text/plain": [
       "(1033,)"
      ]
     },
     "execution_count": 149,
     "metadata": {},
     "output_type": "execute_result"
    }
   ],
   "source": [
    "tpr.shape"
   ]
  },
  {
   "cell_type": "code",
   "execution_count": 150,
   "metadata": {},
   "outputs": [
    {
     "data": {
      "text/plain": [
       "(1033,)"
      ]
     },
     "execution_count": 150,
     "metadata": {},
     "output_type": "execute_result"
    }
   ],
   "source": [
    "thresholds.shape"
   ]
  },
  {
   "cell_type": "code",
   "execution_count": 151,
   "metadata": {},
   "outputs": [
    {
     "data": {
      "text/plain": [
       "(56962,)"
      ]
     },
     "execution_count": 151,
     "metadata": {},
     "output_type": "execute_result"
    }
   ],
   "source": [
    "reconstructionErrorDF.trueClass.shape"
   ]
  },
  {
   "cell_type": "code",
   "execution_count": 152,
   "metadata": {
    "collapsed": true
   },
   "outputs": [],
   "source": [
    "rocAuc = auc(fpr, tpr)"
   ]
  },
  {
   "cell_type": "code",
   "execution_count": 153,
   "metadata": {},
   "outputs": [
    {
     "data": {
      "text/plain": [
       "0.9638760364866262"
      ]
     },
     "execution_count": 153,
     "metadata": {},
     "output_type": "execute_result"
    }
   ],
   "source": [
    "rocAuc"
   ]
  },
  {
   "cell_type": "code",
   "execution_count": 154,
   "metadata": {},
   "outputs": [
    {
     "data": {
      "image/png": "[encoded data removed]",
      "text/plain": [
       "<matplotlib.figure.Figure at 0x149f67be0>"
      ]
     },
     "metadata": {},
     "output_type": "display_data"
    }
   ],
   "source": [
    "plt.plot(fpr,tpr, label = 'AUC = %0.4f'% rocAuc);\n",
    "plt.title('Receiver operating characteristics');\n",
    "plt.legend(loc='lower right');\n",
    "plt.plot([0,1], [0,1], 'r--');\n",
    "plt.xlabel('False positive rate');\n",
    "plt.ylabel('True positive rate');"
   ]
  },
  {
   "cell_type": "code",
   "execution_count": 155,
   "metadata": {},
   "outputs": [
    {
     "data": {
      "text/plain": [
       "Index(['mse', 'trueClass'], dtype='object')"
      ]
     },
     "execution_count": 155,
     "metadata": {},
     "output_type": "execute_result"
    }
   ],
   "source": [
    "reconstructionErrorDF.columns"
   ]
  },
  {
   "cell_type": "code",
   "execution_count": 156,
   "metadata": {
    "collapsed": true
   },
   "outputs": [],
   "source": [
    "precision, recall, th = precision_recall_curve(reconstructionErrorDF.trueClass, mse)"
   ]
  },
  {
   "cell_type": "markdown",
   "metadata": {},
   "source": [
    "Note that the input arguments of the precision_recall_curve are the same as that of the roc_curve. \n",
    "See the note below the roc_curve. The mean-squared reconstruction error here is a proxy for 'y_score' of the estimated probabilities. "
   ]
  },
  {
   "cell_type": "code",
   "execution_count": 157,
   "metadata": {},
   "outputs": [
    {
     "data": {
      "image/png": "[encoded data removed]",
      "text/plain": [
       "<matplotlib.figure.Figure at 0x14bb05e80>"
      ]
     },
     "metadata": {},
     "output_type": "display_data"
    }
   ],
   "source": [
    "plt.plot(recall, precision, 'b', label = 'Precision-recall curve');\n",
    "plt.xlabel('recall');\n",
    "plt.ylabel('precision');"
   ]
  },
  {
   "cell_type": "code",
   "execution_count": 158,
   "metadata": {},
   "outputs": [
    {
     "data": {
      "text/plain": [
       "array([1.46888775e-01, 1.46896611e-01, 1.46899929e-01, ...,\n",
       "       1.72311063e+02, 1.91744366e+02, 2.50327661e+02])"
      ]
     },
     "execution_count": 158,
     "metadata": {},
     "output_type": "execute_result"
    }
   ],
   "source": [
    "th #thresholds output from the precision_recall curve function"
   ]
  },
  {
   "cell_type": "code",
   "execution_count": 159,
   "metadata": {},
   "outputs": [
    {
     "data": {
      "text/plain": [
       "array([0.00248271, 0.00245744, 0.0024575 , ..., 1.        , 1.        ,\n",
       "       1.        ])"
      ]
     },
     "execution_count": 159,
     "metadata": {},
     "output_type": "execute_result"
    }
   ],
   "source": [
    "precision"
   ]
  },
  {
   "cell_type": "code",
   "execution_count": 160,
   "metadata": {},
   "outputs": [
    {
     "data": {
      "text/plain": [
       "array([1.        , 0.98979592, 0.98979592, ..., 0.02040816, 0.01020408,\n",
       "       0.        ])"
      ]
     },
     "execution_count": 160,
     "metadata": {},
     "output_type": "execute_result"
    }
   ],
   "source": [
    "recall"
   ]
  },
  {
   "cell_type": "markdown",
   "metadata": {},
   "source": [
    "We see from above that:\n",
    "\n",
    "high threshold => high precision and low recall.\n",
    "\n",
    "low theshold => low precision and high recall. \n",
    "\n",
    "A high area under the precision recall curve represents both high recall and high precision where high precision relates to a low false positive rate and a high recall relates to a low false negative rate. "
   ]
  },
  {
   "cell_type": "code",
   "execution_count": 161,
   "metadata": {},
   "outputs": [
    {
     "data": {
      "text/plain": [
       "39035"
      ]
     },
     "execution_count": 161,
     "metadata": {},
     "output_type": "execute_result"
    }
   ],
   "source": [
    "len(precision)"
   ]
  },
  {
   "cell_type": "code",
   "execution_count": 162,
   "metadata": {},
   "outputs": [
    {
     "data": {
      "text/plain": [
       "39034"
      ]
     },
     "execution_count": 162,
     "metadata": {},
     "output_type": "execute_result"
    }
   ],
   "source": [
    "len(th)"
   ]
  },
  {
   "cell_type": "code",
   "execution_count": 163,
   "metadata": {},
   "outputs": [
    {
     "data": {
      "text/plain": [
       "array([2.50327661e+02, 1.91744366e+02, 1.67528987e+02, ...,\n",
       "       3.72966397e-02, 3.72753747e-02, 2.11682533e-02])"
      ]
     },
     "execution_count": 163,
     "metadata": {},
     "output_type": "execute_result"
    }
   ],
   "source": [
    "thresholds #thresholds output from the roc curve function"
   ]
  },
  {
   "cell_type": "code",
   "execution_count": 164,
   "metadata": {},
   "outputs": [
    {
     "data": {
      "text/plain": [
       "1033"
      ]
     },
     "execution_count": 164,
     "metadata": {},
     "output_type": "execute_result"
    }
   ],
   "source": [
    "len(thresholds)"
   ]
  },
  {
   "cell_type": "markdown",
   "metadata": {},
   "source": [
    "Let's look at the precision-threshold and recall-threshold curves."
   ]
  },
  {
   "cell_type": "code",
   "execution_count": 165,
   "metadata": {},
   "outputs": [
    {
     "data": {
      "image/png": "[encoded data removed]",
      "text/plain": [
       "<matplotlib.figure.Figure at 0x14bb05f98>"
      ]
     },
     "metadata": {},
     "output_type": "display_data"
    }
   ],
   "source": [
    "plt.plot(th, precision[1:], 'b');\n",
    "plt.xlabel('Threshold');\n",
    "plt.ylabel('Precision');\n",
    "plt.title('Precision vs. threshold');"
   ]
  },
  {
   "cell_type": "code",
   "execution_count": 166,
   "metadata": {},
   "outputs": [
    {
     "data": {
      "image/png": "[encoded data removed]",
      "text/plain": [
       "<matplotlib.figure.Figure at 0x12681fda0>"
      ]
     },
     "metadata": {},
     "output_type": "display_data"
    }
   ],
   "source": [
    "plt.plot(th, recall[1:], 'b');\n",
    "plt.xlabel('Threshold');\n",
    "plt.ylabel('Recall');\n",
    "plt.title('Recall vs. threshold');"
   ]
  },
  {
   "cell_type": "markdown",
   "metadata": {},
   "source": [
    "### Predictions\n",
    "\n",
    "In order to predict whether or not a new/unseen transaction is normal or fraudulent, we'll calculate the reconstruction error from the transaction data itself. If the error is larger than a predefined threshold, we'll mark it as a fraud (since our model should have a low error on normal transactions). \n",
    "\n",
    "Based on the graph below, I chose the threshold to be 4.1."
   ]
  },
  {
   "cell_type": "code",
   "execution_count": 203,
   "metadata": {
    "scrolled": true
   },
   "outputs": [
    {
     "data": {
      "image/png": "[encoded data removed]",
      "text/plain": [
       "<matplotlib.figure.Figure at 0x14f463198>"
      ]
     },
     "metadata": {},
     "output_type": "display_data"
    }
   ],
   "source": [
    "sns.distplot(validReconstructionErrorDf.mse.values, bins = 40, norm_hist=True, kde=False);\n",
    "sns.distplot(fraudReconstructionErrorDF.mse.values, bins = 40, norm_hist=True, kde=False);\n",
    "plt.xlim((0, 10));\n",
    "plt.xticks(np.linspace(0, 10, 11));"
   ]
  },
  {
   "cell_type": "code",
   "execution_count": 204,
   "metadata": {
    "collapsed": true
   },
   "outputs": [],
   "source": [
    "thresholdMSE = 2"
   ]
  },
  {
   "cell_type": "code",
   "execution_count": 208,
   "metadata": {},
   "outputs": [
    {
     "data": {
      "image/png": "[encoded data removed]",
      "text/plain": [
       "<matplotlib.figure.Figure at 0x14f410240>"
      ]
     },
     "metadata": {},
     "output_type": "display_data"
    }
   ],
   "source": [
    "groups  =  reconstructionErrorDF.groupby('trueClass')\n",
    "fig, ax = plt.subplots()\n",
    "\n",
    "for name, group in groups:\n",
    "    \n",
    "    ax.plot(group.index, group.mse, marker = 'o', linestyle='', \n",
    "           label=\"Fraud\" if name == 1 else \"Valid\")\n",
    "    \n",
    "ax.hlines(thresholdMSE, ax.get_xlim()[0], ax.get_xlim()[1], colors = \"r\", zorder = 10, label=\"threshold = {}\".format(thresholdMSE));\n",
    "\n",
    "ax.legend();"
   ]
  },
  {
   "cell_type": "code",
   "execution_count": 209,
   "metadata": {},
   "outputs": [
    {
     "name": "stdout",
     "output_type": "stream",
     "text": [
      "name: 0\n",
      "group:              mse  trueClass\n",
      "49906   0.383587          0\n",
      "29474   0.158329          0\n",
      "276481  0.253020          0\n",
      "278846  0.087153          0\n",
      "101565  0.385509          0\n",
      "260880  0.083605          0\n",
      "214337  0.295148          0\n",
      "201575  0.234576          0\n",
      "81055   1.889362          0\n",
      "134976  0.078242          0\n",
      "237701  0.513429          0\n",
      "256836  0.220929          0\n",
      "97650   0.135202          0\n",
      "158290  0.498265          0\n",
      "246697  1.096200          0\n",
      "68279   0.833276          0\n",
      "267585  0.805858          0\n",
      "26525   0.168703          0\n",
      "74422   1.106057          0\n",
      "206357  0.170980          0\n",
      "257395  0.246086          0\n",
      "283656  0.895281          0\n",
      "231156  0.604140          0\n",
      "38442   0.495199          0\n",
      "225485  0.220690          0\n",
      "92410   0.072105          0\n",
      "10828   0.409638          0\n",
      "61461   0.063442          0\n",
      "134354  0.805412          0\n",
      "45265   0.305514          0\n",
      "...          ...        ...\n",
      "97068   0.118380          0\n",
      "127928  0.093689          0\n",
      "254929  1.291835          0\n",
      "203745  0.760172          0\n",
      "189799  0.556922          0\n",
      "2085    0.382009          0\n",
      "15725   0.064185          0\n",
      "243506  0.151307          0\n",
      "250359  0.338719          0\n",
      "49049   0.152988          0\n",
      "153683  0.426935          0\n",
      "97271   0.124488          0\n",
      "171952  0.092038          0\n",
      "255048  0.488597          0\n",
      "176498  0.360028          0\n",
      "145799  0.126699          0\n",
      "183815  0.172446          0\n",
      "48060   0.114941          0\n",
      "163478  0.146949          0\n",
      "151081  0.994626          0\n",
      "132236  0.100958          0\n",
      "83248   0.109610          0\n",
      "135640  0.149714          0\n",
      "70136   0.113718          0\n",
      "235173  0.203500          0\n",
      "75723   0.388036          0\n",
      "252263  0.084721          0\n",
      "221246  0.478727          0\n",
      "81910   0.125990          0\n",
      "59490   1.472625          0\n",
      "\n",
      "[56864 rows x 2 columns]\n",
      "group.index: Int64Index([ 49906,  29474, 276481, 278846, 101565, 260880, 214337, 201575,\n",
      "             81055, 134976,\n",
      "            ...\n",
      "            132236,  83248, 135640,  70136, 235173,  75723, 252263, 221246,\n",
      "             81910,  59490],\n",
      "           dtype='int64', length=56864)\n",
      "name: 1\n",
      "group:                mse  trueClass\n",
      "43428    74.516323          1\n",
      "116404    4.066781          1\n",
      "215984    7.263413          1\n",
      "249239    0.908772          1\n",
      "146790    2.356153          1\n",
      "77099     6.028490          1\n",
      "15810    97.558758          1\n",
      "261473    3.744881          1\n",
      "280149    2.242193          1\n",
      "82400     9.942579          1\n",
      "73857    22.103234          1\n",
      "204503    6.481249          1\n",
      "124176    1.570379          1\n",
      "108258    0.535272          1\n",
      "189701    9.688271          1\n",
      "143188    4.317312          1\n",
      "214775    0.867498          1\n",
      "44270    85.867854          1\n",
      "102442  108.393380          1\n",
      "229730    2.256594          1\n",
      "237426    4.229832          1\n",
      "42635    56.525737          1\n",
      "150697   66.812093          1\n",
      "151006  144.621397          1\n",
      "108708    6.506392          1\n",
      "235644    7.773594          1\n",
      "68067     0.335816          1\n",
      "64329    21.497219          1\n",
      "43061    68.795894          1\n",
      "154454    4.234326          1\n",
      "...            ...        ...\n",
      "226877    9.255966          1\n",
      "263877   10.394044          1\n",
      "118308    0.146889          1\n",
      "154371  191.744366          1\n",
      "15781    94.182295          1\n",
      "17407   115.786269          1\n",
      "93788     0.520787          1\n",
      "6882     15.473203          1\n",
      "16780   104.406499          1\n",
      "77348     6.156363          1\n",
      "191359    5.416039          1\n",
      "15225    70.891936          1\n",
      "249828    9.727889          1\n",
      "116139    3.042337          1\n",
      "149577    3.460434          1\n",
      "274475    2.071663          1\n",
      "81186     9.859800          1\n",
      "149600   10.165570          1\n",
      "64460    24.105126          1\n",
      "11880    71.475306          1\n",
      "150661   59.228289          1\n",
      "151730    7.258229          1\n",
      "102443  108.393380          1\n",
      "244333   16.748324          1\n",
      "111690    6.633095          1\n",
      "152223   88.809347          1\n",
      "6903     15.325701          1\n",
      "276864    3.558427          1\n",
      "199896    5.317945          1\n",
      "248971    2.232308          1\n",
      "\n",
      "[98 rows x 2 columns]\n",
      "group.index: Int64Index([ 43428, 116404, 215984, 249239, 146790,  77099,  15810, 261473,\n",
      "            280149,  82400,  73857, 204503, 124176, 108258, 189701, 143188,\n",
      "            214775,  44270, 102442, 229730, 237426,  42635, 150697, 151006,\n",
      "            108708, 235644,  68067,  64329,  43061, 154454, 143728,  42784,\n",
      "            150654, 213116,   8615, 233258, 144754, 263324,  11710,  39183,\n",
      "            243749,  41569,  89190,   9252,  12070,  79883,  94218,  88876,\n",
      "             42007, 163586,  79536, 137705,  20198, 249167, 154587, 154718,\n",
      "            219025,  68522,  74507, 150663,  77387, 123238,  72757,  44091,\n",
      "            280143,  84543, 247673,  93486, 226877, 263877, 118308, 154371,\n",
      "             15781,  17407,  93788,   6882,  16780,  77348, 191359,  15225,\n",
      "            249828, 116139, 149577, 274475,  81186, 149600,  64460,  11880,\n",
      "            150661, 151730, 102443, 244333, 111690, 152223,   6903, 276864,\n",
      "            199896, 248971],\n",
      "           dtype='int64')\n"
     ]
    }
   ],
   "source": [
    "for name, group in groups:\n",
    "    \n",
    "    print(\"name:\", name)\n",
    "    print(\"group:\", group)\n",
    "    print(\"group.index:\", group.index)"
   ]
  },
  {
   "cell_type": "code",
   "execution_count": 210,
   "metadata": {},
   "outputs": [
    {
     "data": {
      "text/html": [
       "<div>\n",
       "<style>\n",
       "    .dataframe thead tr:only-child th {\n",
       "        text-align: right;\n",
       "    }\n",
       "\n",
       "    .dataframe thead th {\n",
       "        text-align: left;\n",
       "    }\n",
       "\n",
       "    .dataframe tbody tr th {\n",
       "        vertical-align: top;\n",
       "    }\n",
       "</style>\n",
       "<table border=\"1\" class=\"dataframe\">\n",
       "  <thead>\n",
       "    <tr style=\"text-align: right;\">\n",
       "      <th></th>\n",
       "      <th>mse</th>\n",
       "      <th>trueClass</th>\n",
       "    </tr>\n",
       "  </thead>\n",
       "  <tbody>\n",
       "    <tr>\n",
       "      <th>43428</th>\n",
       "      <td>74.516323</td>\n",
       "      <td>1</td>\n",
       "    </tr>\n",
       "    <tr>\n",
       "      <th>49906</th>\n",
       "      <td>0.383587</td>\n",
       "      <td>0</td>\n",
       "    </tr>\n",
       "    <tr>\n",
       "      <th>29474</th>\n",
       "      <td>0.158329</td>\n",
       "      <td>0</td>\n",
       "    </tr>\n",
       "    <tr>\n",
       "      <th>276481</th>\n",
       "      <td>0.253020</td>\n",
       "      <td>0</td>\n",
       "    </tr>\n",
       "    <tr>\n",
       "      <th>278846</th>\n",
       "      <td>0.087153</td>\n",
       "      <td>0</td>\n",
       "    </tr>\n",
       "    <tr>\n",
       "      <th>101565</th>\n",
       "      <td>0.385509</td>\n",
       "      <td>0</td>\n",
       "    </tr>\n",
       "    <tr>\n",
       "      <th>260880</th>\n",
       "      <td>0.083605</td>\n",
       "      <td>0</td>\n",
       "    </tr>\n",
       "    <tr>\n",
       "      <th>214337</th>\n",
       "      <td>0.295148</td>\n",
       "      <td>0</td>\n",
       "    </tr>\n",
       "    <tr>\n",
       "      <th>201575</th>\n",
       "      <td>0.234576</td>\n",
       "      <td>0</td>\n",
       "    </tr>\n",
       "    <tr>\n",
       "      <th>81055</th>\n",
       "      <td>1.889362</td>\n",
       "      <td>0</td>\n",
       "    </tr>\n",
       "    <tr>\n",
       "      <th>134976</th>\n",
       "      <td>0.078242</td>\n",
       "      <td>0</td>\n",
       "    </tr>\n",
       "    <tr>\n",
       "      <th>237701</th>\n",
       "      <td>0.513429</td>\n",
       "      <td>0</td>\n",
       "    </tr>\n",
       "    <tr>\n",
       "      <th>256836</th>\n",
       "      <td>0.220929</td>\n",
       "      <td>0</td>\n",
       "    </tr>\n",
       "    <tr>\n",
       "      <th>97650</th>\n",
       "      <td>0.135202</td>\n",
       "      <td>0</td>\n",
       "    </tr>\n",
       "    <tr>\n",
       "      <th>158290</th>\n",
       "      <td>0.498265</td>\n",
       "      <td>0</td>\n",
       "    </tr>\n",
       "    <tr>\n",
       "      <th>246697</th>\n",
       "      <td>1.096200</td>\n",
       "      <td>0</td>\n",
       "    </tr>\n",
       "    <tr>\n",
       "      <th>68279</th>\n",
       "      <td>0.833276</td>\n",
       "      <td>0</td>\n",
       "    </tr>\n",
       "    <tr>\n",
       "      <th>267585</th>\n",
       "      <td>0.805858</td>\n",
       "      <td>0</td>\n",
       "    </tr>\n",
       "    <tr>\n",
       "      <th>26525</th>\n",
       "      <td>0.168703</td>\n",
       "      <td>0</td>\n",
       "    </tr>\n",
       "    <tr>\n",
       "      <th>74422</th>\n",
       "      <td>1.106057</td>\n",
       "      <td>0</td>\n",
       "    </tr>\n",
       "    <tr>\n",
       "      <th>206357</th>\n",
       "      <td>0.170980</td>\n",
       "      <td>0</td>\n",
       "    </tr>\n",
       "    <tr>\n",
       "      <th>257395</th>\n",
       "      <td>0.246086</td>\n",
       "      <td>0</td>\n",
       "    </tr>\n",
       "    <tr>\n",
       "      <th>283656</th>\n",
       "      <td>0.895281</td>\n",
       "      <td>0</td>\n",
       "    </tr>\n",
       "    <tr>\n",
       "      <th>231156</th>\n",
       "      <td>0.604140</td>\n",
       "      <td>0</td>\n",
       "    </tr>\n",
       "    <tr>\n",
       "      <th>38442</th>\n",
       "      <td>0.495199</td>\n",
       "      <td>0</td>\n",
       "    </tr>\n",
       "    <tr>\n",
       "      <th>225485</th>\n",
       "      <td>0.220690</td>\n",
       "      <td>0</td>\n",
       "    </tr>\n",
       "    <tr>\n",
       "      <th>92410</th>\n",
       "      <td>0.072105</td>\n",
       "      <td>0</td>\n",
       "    </tr>\n",
       "    <tr>\n",
       "      <th>10828</th>\n",
       "      <td>0.409638</td>\n",
       "      <td>0</td>\n",
       "    </tr>\n",
       "    <tr>\n",
       "      <th>61461</th>\n",
       "      <td>0.063442</td>\n",
       "      <td>0</td>\n",
       "    </tr>\n",
       "    <tr>\n",
       "      <th>134354</th>\n",
       "      <td>0.805412</td>\n",
       "      <td>0</td>\n",
       "    </tr>\n",
       "    <tr>\n",
       "      <th>...</th>\n",
       "      <td>...</td>\n",
       "      <td>...</td>\n",
       "    </tr>\n",
       "    <tr>\n",
       "      <th>97068</th>\n",
       "      <td>0.118380</td>\n",
       "      <td>0</td>\n",
       "    </tr>\n",
       "    <tr>\n",
       "      <th>127928</th>\n",
       "      <td>0.093689</td>\n",
       "      <td>0</td>\n",
       "    </tr>\n",
       "    <tr>\n",
       "      <th>254929</th>\n",
       "      <td>1.291835</td>\n",
       "      <td>0</td>\n",
       "    </tr>\n",
       "    <tr>\n",
       "      <th>203745</th>\n",
       "      <td>0.760172</td>\n",
       "      <td>0</td>\n",
       "    </tr>\n",
       "    <tr>\n",
       "      <th>189799</th>\n",
       "      <td>0.556922</td>\n",
       "      <td>0</td>\n",
       "    </tr>\n",
       "    <tr>\n",
       "      <th>2085</th>\n",
       "      <td>0.382009</td>\n",
       "      <td>0</td>\n",
       "    </tr>\n",
       "    <tr>\n",
       "      <th>15725</th>\n",
       "      <td>0.064185</td>\n",
       "      <td>0</td>\n",
       "    </tr>\n",
       "    <tr>\n",
       "      <th>243506</th>\n",
       "      <td>0.151307</td>\n",
       "      <td>0</td>\n",
       "    </tr>\n",
       "    <tr>\n",
       "      <th>250359</th>\n",
       "      <td>0.338719</td>\n",
       "      <td>0</td>\n",
       "    </tr>\n",
       "    <tr>\n",
       "      <th>49049</th>\n",
       "      <td>0.152988</td>\n",
       "      <td>0</td>\n",
       "    </tr>\n",
       "    <tr>\n",
       "      <th>153683</th>\n",
       "      <td>0.426935</td>\n",
       "      <td>0</td>\n",
       "    </tr>\n",
       "    <tr>\n",
       "      <th>97271</th>\n",
       "      <td>0.124488</td>\n",
       "      <td>0</td>\n",
       "    </tr>\n",
       "    <tr>\n",
       "      <th>171952</th>\n",
       "      <td>0.092038</td>\n",
       "      <td>0</td>\n",
       "    </tr>\n",
       "    <tr>\n",
       "      <th>255048</th>\n",
       "      <td>0.488597</td>\n",
       "      <td>0</td>\n",
       "    </tr>\n",
       "    <tr>\n",
       "      <th>176498</th>\n",
       "      <td>0.360028</td>\n",
       "      <td>0</td>\n",
       "    </tr>\n",
       "    <tr>\n",
       "      <th>145799</th>\n",
       "      <td>0.126699</td>\n",
       "      <td>0</td>\n",
       "    </tr>\n",
       "    <tr>\n",
       "      <th>183815</th>\n",
       "      <td>0.172446</td>\n",
       "      <td>0</td>\n",
       "    </tr>\n",
       "    <tr>\n",
       "      <th>48060</th>\n",
       "      <td>0.114941</td>\n",
       "      <td>0</td>\n",
       "    </tr>\n",
       "    <tr>\n",
       "      <th>163478</th>\n",
       "      <td>0.146949</td>\n",
       "      <td>0</td>\n",
       "    </tr>\n",
       "    <tr>\n",
       "      <th>151081</th>\n",
       "      <td>0.994626</td>\n",
       "      <td>0</td>\n",
       "    </tr>\n",
       "    <tr>\n",
       "      <th>132236</th>\n",
       "      <td>0.100958</td>\n",
       "      <td>0</td>\n",
       "    </tr>\n",
       "    <tr>\n",
       "      <th>83248</th>\n",
       "      <td>0.109610</td>\n",
       "      <td>0</td>\n",
       "    </tr>\n",
       "    <tr>\n",
       "      <th>135640</th>\n",
       "      <td>0.149714</td>\n",
       "      <td>0</td>\n",
       "    </tr>\n",
       "    <tr>\n",
       "      <th>70136</th>\n",
       "      <td>0.113718</td>\n",
       "      <td>0</td>\n",
       "    </tr>\n",
       "    <tr>\n",
       "      <th>235173</th>\n",
       "      <td>0.203500</td>\n",
       "      <td>0</td>\n",
       "    </tr>\n",
       "    <tr>\n",
       "      <th>75723</th>\n",
       "      <td>0.388036</td>\n",
       "      <td>0</td>\n",
       "    </tr>\n",
       "    <tr>\n",
       "      <th>252263</th>\n",
       "      <td>0.084721</td>\n",
       "      <td>0</td>\n",
       "    </tr>\n",
       "    <tr>\n",
       "      <th>221246</th>\n",
       "      <td>0.478727</td>\n",
       "      <td>0</td>\n",
       "    </tr>\n",
       "    <tr>\n",
       "      <th>81910</th>\n",
       "      <td>0.125990</td>\n",
       "      <td>0</td>\n",
       "    </tr>\n",
       "    <tr>\n",
       "      <th>59490</th>\n",
       "      <td>1.472625</td>\n",
       "      <td>0</td>\n",
       "    </tr>\n",
       "  </tbody>\n",
       "</table>\n",
       "<p>56962 rows × 2 columns</p>\n",
       "</div>"
      ],
      "text/plain": [
       "              mse  trueClass\n",
       "43428   74.516323          1\n",
       "49906    0.383587          0\n",
       "29474    0.158329          0\n",
       "276481   0.253020          0\n",
       "278846   0.087153          0\n",
       "101565   0.385509          0\n",
       "260880   0.083605          0\n",
       "214337   0.295148          0\n",
       "201575   0.234576          0\n",
       "81055    1.889362          0\n",
       "134976   0.078242          0\n",
       "237701   0.513429          0\n",
       "256836   0.220929          0\n",
       "97650    0.135202          0\n",
       "158290   0.498265          0\n",
       "246697   1.096200          0\n",
       "68279    0.833276          0\n",
       "267585   0.805858          0\n",
       "26525    0.168703          0\n",
       "74422    1.106057          0\n",
       "206357   0.170980          0\n",
       "257395   0.246086          0\n",
       "283656   0.895281          0\n",
       "231156   0.604140          0\n",
       "38442    0.495199          0\n",
       "225485   0.220690          0\n",
       "92410    0.072105          0\n",
       "10828    0.409638          0\n",
       "61461    0.063442          0\n",
       "134354   0.805412          0\n",
       "...           ...        ...\n",
       "97068    0.118380          0\n",
       "127928   0.093689          0\n",
       "254929   1.291835          0\n",
       "203745   0.760172          0\n",
       "189799   0.556922          0\n",
       "2085     0.382009          0\n",
       "15725    0.064185          0\n",
       "243506   0.151307          0\n",
       "250359   0.338719          0\n",
       "49049    0.152988          0\n",
       "153683   0.426935          0\n",
       "97271    0.124488          0\n",
       "171952   0.092038          0\n",
       "255048   0.488597          0\n",
       "176498   0.360028          0\n",
       "145799   0.126699          0\n",
       "183815   0.172446          0\n",
       "48060    0.114941          0\n",
       "163478   0.146949          0\n",
       "151081   0.994626          0\n",
       "132236   0.100958          0\n",
       "83248    0.109610          0\n",
       "135640   0.149714          0\n",
       "70136    0.113718          0\n",
       "235173   0.203500          0\n",
       "75723    0.388036          0\n",
       "252263   0.084721          0\n",
       "221246   0.478727          0\n",
       "81910    0.125990          0\n",
       "59490    1.472625          0\n",
       "\n",
       "[56962 rows x 2 columns]"
      ]
     },
     "execution_count": 210,
     "metadata": {},
     "output_type": "execute_result"
    }
   ],
   "source": [
    "reconstructionErrorDF"
   ]
  },
  {
   "cell_type": "markdown",
   "metadata": {},
   "source": [
    "Let's look at the confusion matrix for the given threshold. "
   ]
  },
  {
   "cell_type": "code",
   "execution_count": 211,
   "metadata": {
    "collapsed": true
   },
   "outputs": [],
   "source": [
    "yPred = [1 if val > thresholdMSE else 0 for val in reconstructionErrorDF.mse]"
   ]
  },
  {
   "cell_type": "code",
   "execution_count": 212,
   "metadata": {
    "collapsed": true
   },
   "outputs": [],
   "source": [
    "confMatrixMSE = confusion_matrix(reconstructionErrorDF.trueClass, yPred)"
   ]
  },
  {
   "cell_type": "code",
   "execution_count": 213,
   "metadata": {},
   "outputs": [
    {
     "data": {
      "text/plain": [
       "array([[55056,  1808],\n",
       "       [   15,    83]])"
      ]
     },
     "execution_count": 213,
     "metadata": {},
     "output_type": "execute_result"
    }
   ],
   "source": [
    "confMatrixMSE"
   ]
  },
  {
   "cell_type": "code",
   "execution_count": 214,
   "metadata": {},
   "outputs": [
    {
     "data": {
      "image/png": "[encoded data removed]",
      "text/plain": [
       "<matplotlib.figure.Figure at 0x14cc4e898>"
      ]
     },
     "metadata": {},
     "output_type": "display_data"
    }
   ],
   "source": [
    "sns.heatmap(confMatrixMSE, xticklabels=[\"Valid\", \"Fraud\"], yticklabels=[\"Valid\", \"Fraud\"], annot=True, fmt='d');\n",
    "plt.xlabel('Predicted Class');\n",
    "plt.ylabel('Actual Class');"
   ]
  },
  {
   "cell_type": "code",
   "execution_count": 215,
   "metadata": {},
   "outputs": [
    {
     "data": {
      "text/plain": [
       "0.04389212057112639"
      ]
     },
     "execution_count": 215,
     "metadata": {},
     "output_type": "execute_result"
    }
   ],
   "source": [
    "precision_score(reconstructionErrorDF.trueClass, yPred)"
   ]
  },
  {
   "cell_type": "code",
   "execution_count": 217,
   "metadata": {},
   "outputs": [
    {
     "data": {
      "text/plain": [
       "22.783132530120483"
      ]
     },
     "execution_count": 217,
     "metadata": {},
     "output_type": "execute_result"
    }
   ],
   "source": [
    "(confMatrixMSE[0][1] + confMatrixMSE[1][1]) / confMatrixMSE[1][1] #FPR in bank terms"
   ]
  },
  {
   "cell_type": "code",
   "execution_count": 218,
   "metadata": {},
   "outputs": [
    {
     "data": {
      "text/plain": [
       "0.8469387755102041"
      ]
     },
     "execution_count": 218,
     "metadata": {},
     "output_type": "execute_result"
    }
   ],
   "source": [
    "recall_score(reconstructionErrorDF.trueClass, yPred)"
   ]
  },
  {
   "cell_type": "markdown",
   "metadata": {},
   "source": [
    "As we have seen, we can change the precision/ recall tradeoff by varying the thresholdMSE."
   ]
  },
  {
   "cell_type": "code",
   "execution_count": null,
   "metadata": {
    "collapsed": true
   },
   "outputs": [],
   "source": []
  }
 ],
 "metadata": {
  "kernelspec": {
   "display_name": "Python 3",
   "language": "python",
   "name": "python3"
  },
  "language_info": {
   "codemirror_mode": {
    "name": "ipython",
    "version": 3
   },
   "file_extension": ".py",
   "mimetype": "text/x-python",
   "name": "python",
   "nbconvert_exporter": "python",
   "pygments_lexer": "ipython3",
   "version": "3.6.3"
  }
 },
 "nbformat": 4,
 "nbformat_minor": 2
}
