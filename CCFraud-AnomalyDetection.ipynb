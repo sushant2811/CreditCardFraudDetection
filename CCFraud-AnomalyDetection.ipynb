{
 "cells": [
  {
   "cell_type": "markdown",
   "metadata": {},
   "source": [
    "# Detecting Credit card fraud using Anomaly Detection algorithms\n",
    "\n",
    "### The key idea is that instead of using the supervised learning models, we will build a probability of features for the normal transactions. Use the fradulent cases to set a threshold on what we call anomaly. \n",
    "\n",
    "Author: Sushant N. More"
   ]
  },
  {
   "cell_type": "code",
   "execution_count": 102,
   "metadata": {
    "collapsed": true
   },
   "outputs": [],
   "source": [
    "import pandas as pd\n",
    "import numpy as np\n",
    "import matplotlib.pyplot as plt\n",
    "import seaborn as sns \n",
    "%matplotlib inline\n",
    "from sklearn.preprocessing import StandardScaler\n",
    "from sklearn.model_selection import train_test_split\n",
    "from scipy.stats import multivariate_normal\n",
    "from sklearn.metrics import confusion_matrix, precision_recall_curve, auc,roc_auc_score, \\\n",
    "roc_curve, recall_score, classification_report, precision_score, f1_score "
   ]
  },
  {
   "cell_type": "markdown",
   "metadata": {},
   "source": [
    "Importing data"
   ]
  },
  {
   "cell_type": "code",
   "execution_count": 4,
   "metadata": {
    "collapsed": true
   },
   "outputs": [],
   "source": [
    "df = pd.read_csv('./creditcard.csv')"
   ]
  },
  {
   "cell_type": "code",
   "execution_count": 5,
   "metadata": {},
   "outputs": [
    {
     "data": {
      "text/html": [
       "<div>\n",
       "<style>\n",
       "    .dataframe thead tr:only-child th {\n",
       "        text-align: right;\n",
       "    }\n",
       "\n",
       "    .dataframe thead th {\n",
       "        text-align: left;\n",
       "    }\n",
       "\n",
       "    .dataframe tbody tr th {\n",
       "        vertical-align: top;\n",
       "    }\n",
       "</style>\n",
       "<table border=\"1\" class=\"dataframe\">\n",
       "  <thead>\n",
       "    <tr style=\"text-align: right;\">\n",
       "      <th></th>\n",
       "      <th>Time</th>\n",
       "      <th>V1</th>\n",
       "      <th>V2</th>\n",
       "      <th>V3</th>\n",
       "      <th>V4</th>\n",
       "      <th>V5</th>\n",
       "      <th>V6</th>\n",
       "      <th>V7</th>\n",
       "      <th>V8</th>\n",
       "      <th>V9</th>\n",
       "      <th>...</th>\n",
       "      <th>V21</th>\n",
       "      <th>V22</th>\n",
       "      <th>V23</th>\n",
       "      <th>V24</th>\n",
       "      <th>V25</th>\n",
       "      <th>V26</th>\n",
       "      <th>V27</th>\n",
       "      <th>V28</th>\n",
       "      <th>Amount</th>\n",
       "      <th>Class</th>\n",
       "    </tr>\n",
       "  </thead>\n",
       "  <tbody>\n",
       "    <tr>\n",
       "      <th>0</th>\n",
       "      <td>0.0</td>\n",
       "      <td>-1.359807</td>\n",
       "      <td>-0.072781</td>\n",
       "      <td>2.536347</td>\n",
       "      <td>1.378155</td>\n",
       "      <td>-0.338321</td>\n",
       "      <td>0.462388</td>\n",
       "      <td>0.239599</td>\n",
       "      <td>0.098698</td>\n",
       "      <td>0.363787</td>\n",
       "      <td>...</td>\n",
       "      <td>-0.018307</td>\n",
       "      <td>0.277838</td>\n",
       "      <td>-0.110474</td>\n",
       "      <td>0.066928</td>\n",
       "      <td>0.128539</td>\n",
       "      <td>-0.189115</td>\n",
       "      <td>0.133558</td>\n",
       "      <td>-0.021053</td>\n",
       "      <td>149.62</td>\n",
       "      <td>0</td>\n",
       "    </tr>\n",
       "    <tr>\n",
       "      <th>1</th>\n",
       "      <td>0.0</td>\n",
       "      <td>1.191857</td>\n",
       "      <td>0.266151</td>\n",
       "      <td>0.166480</td>\n",
       "      <td>0.448154</td>\n",
       "      <td>0.060018</td>\n",
       "      <td>-0.082361</td>\n",
       "      <td>-0.078803</td>\n",
       "      <td>0.085102</td>\n",
       "      <td>-0.255425</td>\n",
       "      <td>...</td>\n",
       "      <td>-0.225775</td>\n",
       "      <td>-0.638672</td>\n",
       "      <td>0.101288</td>\n",
       "      <td>-0.339846</td>\n",
       "      <td>0.167170</td>\n",
       "      <td>0.125895</td>\n",
       "      <td>-0.008983</td>\n",
       "      <td>0.014724</td>\n",
       "      <td>2.69</td>\n",
       "      <td>0</td>\n",
       "    </tr>\n",
       "    <tr>\n",
       "      <th>2</th>\n",
       "      <td>1.0</td>\n",
       "      <td>-1.358354</td>\n",
       "      <td>-1.340163</td>\n",
       "      <td>1.773209</td>\n",
       "      <td>0.379780</td>\n",
       "      <td>-0.503198</td>\n",
       "      <td>1.800499</td>\n",
       "      <td>0.791461</td>\n",
       "      <td>0.247676</td>\n",
       "      <td>-1.514654</td>\n",
       "      <td>...</td>\n",
       "      <td>0.247998</td>\n",
       "      <td>0.771679</td>\n",
       "      <td>0.909412</td>\n",
       "      <td>-0.689281</td>\n",
       "      <td>-0.327642</td>\n",
       "      <td>-0.139097</td>\n",
       "      <td>-0.055353</td>\n",
       "      <td>-0.059752</td>\n",
       "      <td>378.66</td>\n",
       "      <td>0</td>\n",
       "    </tr>\n",
       "    <tr>\n",
       "      <th>3</th>\n",
       "      <td>1.0</td>\n",
       "      <td>-0.966272</td>\n",
       "      <td>-0.185226</td>\n",
       "      <td>1.792993</td>\n",
       "      <td>-0.863291</td>\n",
       "      <td>-0.010309</td>\n",
       "      <td>1.247203</td>\n",
       "      <td>0.237609</td>\n",
       "      <td>0.377436</td>\n",
       "      <td>-1.387024</td>\n",
       "      <td>...</td>\n",
       "      <td>-0.108300</td>\n",
       "      <td>0.005274</td>\n",
       "      <td>-0.190321</td>\n",
       "      <td>-1.175575</td>\n",
       "      <td>0.647376</td>\n",
       "      <td>-0.221929</td>\n",
       "      <td>0.062723</td>\n",
       "      <td>0.061458</td>\n",
       "      <td>123.50</td>\n",
       "      <td>0</td>\n",
       "    </tr>\n",
       "    <tr>\n",
       "      <th>4</th>\n",
       "      <td>2.0</td>\n",
       "      <td>-1.158233</td>\n",
       "      <td>0.877737</td>\n",
       "      <td>1.548718</td>\n",
       "      <td>0.403034</td>\n",
       "      <td>-0.407193</td>\n",
       "      <td>0.095921</td>\n",
       "      <td>0.592941</td>\n",
       "      <td>-0.270533</td>\n",
       "      <td>0.817739</td>\n",
       "      <td>...</td>\n",
       "      <td>-0.009431</td>\n",
       "      <td>0.798278</td>\n",
       "      <td>-0.137458</td>\n",
       "      <td>0.141267</td>\n",
       "      <td>-0.206010</td>\n",
       "      <td>0.502292</td>\n",
       "      <td>0.219422</td>\n",
       "      <td>0.215153</td>\n",
       "      <td>69.99</td>\n",
       "      <td>0</td>\n",
       "    </tr>\n",
       "  </tbody>\n",
       "</table>\n",
       "<p>5 rows × 31 columns</p>\n",
       "</div>"
      ],
      "text/plain": [
       "   Time        V1        V2        V3        V4        V5        V6        V7  \\\n",
       "0   0.0 -1.359807 -0.072781  2.536347  1.378155 -0.338321  0.462388  0.239599   \n",
       "1   0.0  1.191857  0.266151  0.166480  0.448154  0.060018 -0.082361 -0.078803   \n",
       "2   1.0 -1.358354 -1.340163  1.773209  0.379780 -0.503198  1.800499  0.791461   \n",
       "3   1.0 -0.966272 -0.185226  1.792993 -0.863291 -0.010309  1.247203  0.237609   \n",
       "4   2.0 -1.158233  0.877737  1.548718  0.403034 -0.407193  0.095921  0.592941   \n",
       "\n",
       "         V8        V9  ...         V21       V22       V23       V24  \\\n",
       "0  0.098698  0.363787  ...   -0.018307  0.277838 -0.110474  0.066928   \n",
       "1  0.085102 -0.255425  ...   -0.225775 -0.638672  0.101288 -0.339846   \n",
       "2  0.247676 -1.514654  ...    0.247998  0.771679  0.909412 -0.689281   \n",
       "3  0.377436 -1.387024  ...   -0.108300  0.005274 -0.190321 -1.175575   \n",
       "4 -0.270533  0.817739  ...   -0.009431  0.798278 -0.137458  0.141267   \n",
       "\n",
       "        V25       V26       V27       V28  Amount  Class  \n",
       "0  0.128539 -0.189115  0.133558 -0.021053  149.62      0  \n",
       "1  0.167170  0.125895 -0.008983  0.014724    2.69      0  \n",
       "2 -0.327642 -0.139097 -0.055353 -0.059752  378.66      0  \n",
       "3  0.647376 -0.221929  0.062723  0.061458  123.50      0  \n",
       "4 -0.206010  0.502292  0.219422  0.215153   69.99      0  \n",
       "\n",
       "[5 rows x 31 columns]"
      ]
     },
     "execution_count": 5,
     "metadata": {},
     "output_type": "execute_result"
    }
   ],
   "source": [
    "df.head()"
   ]
  },
  {
   "cell_type": "code",
   "execution_count": 6,
   "metadata": {},
   "outputs": [
    {
     "data": {
      "text/plain": [
       "(284807, 31)"
      ]
     },
     "execution_count": 6,
     "metadata": {},
     "output_type": "execute_result"
    }
   ],
   "source": [
    "df.shape"
   ]
  },
  {
   "cell_type": "markdown",
   "metadata": {},
   "source": [
    "We already did a detailed data exploration in the CreditCardFraudDetection notebook. \n",
    "\n",
    "Here are some of the points we remind ourselves.\n",
    "\n",
    "1. The data is highly skewed. Out of 284,807 examples only 0.17% are fradulent. \n",
    "\n",
    "2. We noticed and reasoned that the time column doesn't have any effect on the transaction being fradulent or not. We drop it. \n",
    "\n",
    "3. We do the mean normalization of the amount column to make it amenable to ML techniques. \n",
    "\n",
    "4. We had seen that the probability density for features V1 through V28 roughly seems Gaussian\n",
    "\n",
    "In the present case, the workflow is as follows: \n",
    "\n",
    "a) We repeat the steps 2 and 3 above.\n",
    "\n",
    "b) We separate the normal transactions and do a probability density estimation. \n",
    "\n",
    "c) Use cross-validation to figure out the threshold. \n",
    "\n",
    "d) Finally test on the test set!"
   ]
  },
  {
   "cell_type": "code",
   "execution_count": 8,
   "metadata": {
    "collapsed": true
   },
   "outputs": [],
   "source": [
    "df['normAmount'] = StandardScaler().fit_transform(df['Amount'].values.reshape(-1,1))"
   ]
  },
  {
   "cell_type": "code",
   "execution_count": 9,
   "metadata": {},
   "outputs": [
    {
     "data": {
      "text/plain": [
       "Index([u'Time', u'V1', u'V2', u'V3', u'V4', u'V5', u'V6', u'V7', u'V8', u'V9',\n",
       "       u'V10', u'V11', u'V12', u'V13', u'V14', u'V15', u'V16', u'V17', u'V18',\n",
       "       u'V19', u'V20', u'V21', u'V22', u'V23', u'V24', u'V25', u'V26', u'V27',\n",
       "       u'V28', u'Amount', u'Class', u'normAmount'],\n",
       "      dtype='object')"
      ]
     },
     "execution_count": 9,
     "metadata": {},
     "output_type": "execute_result"
    }
   ],
   "source": [
    "df.columns"
   ]
  },
  {
   "cell_type": "code",
   "execution_count": 10,
   "metadata": {
    "collapsed": true
   },
   "outputs": [],
   "source": [
    "dfMod = df.drop(['Time', 'Amount'], axis = 1)"
   ]
  },
  {
   "cell_type": "code",
   "execution_count": 11,
   "metadata": {},
   "outputs": [
    {
     "data": {
      "text/plain": [
       "Index([u'V1', u'V2', u'V3', u'V4', u'V5', u'V6', u'V7', u'V8', u'V9', u'V10',\n",
       "       u'V11', u'V12', u'V13', u'V14', u'V15', u'V16', u'V17', u'V18', u'V19',\n",
       "       u'V20', u'V21', u'V22', u'V23', u'V24', u'V25', u'V26', u'V27', u'V28',\n",
       "       u'Class', u'normAmount'],\n",
       "      dtype='object')"
      ]
     },
     "execution_count": 11,
     "metadata": {},
     "output_type": "execute_result"
    }
   ],
   "source": [
    "dfMod.columns"
   ]
  },
  {
   "cell_type": "code",
   "execution_count": 12,
   "metadata": {},
   "outputs": [
    {
     "data": {
      "text/html": [
       "<div>\n",
       "<style>\n",
       "    .dataframe thead tr:only-child th {\n",
       "        text-align: right;\n",
       "    }\n",
       "\n",
       "    .dataframe thead th {\n",
       "        text-align: left;\n",
       "    }\n",
       "\n",
       "    .dataframe tbody tr th {\n",
       "        vertical-align: top;\n",
       "    }\n",
       "</style>\n",
       "<table border=\"1\" class=\"dataframe\">\n",
       "  <thead>\n",
       "    <tr style=\"text-align: right;\">\n",
       "      <th></th>\n",
       "      <th>V1</th>\n",
       "      <th>V2</th>\n",
       "      <th>V3</th>\n",
       "      <th>V4</th>\n",
       "      <th>V5</th>\n",
       "      <th>V6</th>\n",
       "      <th>V7</th>\n",
       "      <th>V8</th>\n",
       "      <th>V9</th>\n",
       "      <th>V10</th>\n",
       "      <th>...</th>\n",
       "      <th>V21</th>\n",
       "      <th>V22</th>\n",
       "      <th>V23</th>\n",
       "      <th>V24</th>\n",
       "      <th>V25</th>\n",
       "      <th>V26</th>\n",
       "      <th>V27</th>\n",
       "      <th>V28</th>\n",
       "      <th>Class</th>\n",
       "      <th>normAmount</th>\n",
       "    </tr>\n",
       "  </thead>\n",
       "  <tbody>\n",
       "    <tr>\n",
       "      <th>0</th>\n",
       "      <td>-1.359807</td>\n",
       "      <td>-0.072781</td>\n",
       "      <td>2.536347</td>\n",
       "      <td>1.378155</td>\n",
       "      <td>-0.338321</td>\n",
       "      <td>0.462388</td>\n",
       "      <td>0.239599</td>\n",
       "      <td>0.098698</td>\n",
       "      <td>0.363787</td>\n",
       "      <td>0.090794</td>\n",
       "      <td>...</td>\n",
       "      <td>-0.018307</td>\n",
       "      <td>0.277838</td>\n",
       "      <td>-0.110474</td>\n",
       "      <td>0.066928</td>\n",
       "      <td>0.128539</td>\n",
       "      <td>-0.189115</td>\n",
       "      <td>0.133558</td>\n",
       "      <td>-0.021053</td>\n",
       "      <td>0</td>\n",
       "      <td>0.244964</td>\n",
       "    </tr>\n",
       "    <tr>\n",
       "      <th>1</th>\n",
       "      <td>1.191857</td>\n",
       "      <td>0.266151</td>\n",
       "      <td>0.166480</td>\n",
       "      <td>0.448154</td>\n",
       "      <td>0.060018</td>\n",
       "      <td>-0.082361</td>\n",
       "      <td>-0.078803</td>\n",
       "      <td>0.085102</td>\n",
       "      <td>-0.255425</td>\n",
       "      <td>-0.166974</td>\n",
       "      <td>...</td>\n",
       "      <td>-0.225775</td>\n",
       "      <td>-0.638672</td>\n",
       "      <td>0.101288</td>\n",
       "      <td>-0.339846</td>\n",
       "      <td>0.167170</td>\n",
       "      <td>0.125895</td>\n",
       "      <td>-0.008983</td>\n",
       "      <td>0.014724</td>\n",
       "      <td>0</td>\n",
       "      <td>-0.342475</td>\n",
       "    </tr>\n",
       "    <tr>\n",
       "      <th>2</th>\n",
       "      <td>-1.358354</td>\n",
       "      <td>-1.340163</td>\n",
       "      <td>1.773209</td>\n",
       "      <td>0.379780</td>\n",
       "      <td>-0.503198</td>\n",
       "      <td>1.800499</td>\n",
       "      <td>0.791461</td>\n",
       "      <td>0.247676</td>\n",
       "      <td>-1.514654</td>\n",
       "      <td>0.207643</td>\n",
       "      <td>...</td>\n",
       "      <td>0.247998</td>\n",
       "      <td>0.771679</td>\n",
       "      <td>0.909412</td>\n",
       "      <td>-0.689281</td>\n",
       "      <td>-0.327642</td>\n",
       "      <td>-0.139097</td>\n",
       "      <td>-0.055353</td>\n",
       "      <td>-0.059752</td>\n",
       "      <td>0</td>\n",
       "      <td>1.160686</td>\n",
       "    </tr>\n",
       "    <tr>\n",
       "      <th>3</th>\n",
       "      <td>-0.966272</td>\n",
       "      <td>-0.185226</td>\n",
       "      <td>1.792993</td>\n",
       "      <td>-0.863291</td>\n",
       "      <td>-0.010309</td>\n",
       "      <td>1.247203</td>\n",
       "      <td>0.237609</td>\n",
       "      <td>0.377436</td>\n",
       "      <td>-1.387024</td>\n",
       "      <td>-0.054952</td>\n",
       "      <td>...</td>\n",
       "      <td>-0.108300</td>\n",
       "      <td>0.005274</td>\n",
       "      <td>-0.190321</td>\n",
       "      <td>-1.175575</td>\n",
       "      <td>0.647376</td>\n",
       "      <td>-0.221929</td>\n",
       "      <td>0.062723</td>\n",
       "      <td>0.061458</td>\n",
       "      <td>0</td>\n",
       "      <td>0.140534</td>\n",
       "    </tr>\n",
       "    <tr>\n",
       "      <th>4</th>\n",
       "      <td>-1.158233</td>\n",
       "      <td>0.877737</td>\n",
       "      <td>1.548718</td>\n",
       "      <td>0.403034</td>\n",
       "      <td>-0.407193</td>\n",
       "      <td>0.095921</td>\n",
       "      <td>0.592941</td>\n",
       "      <td>-0.270533</td>\n",
       "      <td>0.817739</td>\n",
       "      <td>0.753074</td>\n",
       "      <td>...</td>\n",
       "      <td>-0.009431</td>\n",
       "      <td>0.798278</td>\n",
       "      <td>-0.137458</td>\n",
       "      <td>0.141267</td>\n",
       "      <td>-0.206010</td>\n",
       "      <td>0.502292</td>\n",
       "      <td>0.219422</td>\n",
       "      <td>0.215153</td>\n",
       "      <td>0</td>\n",
       "      <td>-0.073403</td>\n",
       "    </tr>\n",
       "  </tbody>\n",
       "</table>\n",
       "<p>5 rows × 30 columns</p>\n",
       "</div>"
      ],
      "text/plain": [
       "         V1        V2        V3        V4        V5        V6        V7  \\\n",
       "0 -1.359807 -0.072781  2.536347  1.378155 -0.338321  0.462388  0.239599   \n",
       "1  1.191857  0.266151  0.166480  0.448154  0.060018 -0.082361 -0.078803   \n",
       "2 -1.358354 -1.340163  1.773209  0.379780 -0.503198  1.800499  0.791461   \n",
       "3 -0.966272 -0.185226  1.792993 -0.863291 -0.010309  1.247203  0.237609   \n",
       "4 -1.158233  0.877737  1.548718  0.403034 -0.407193  0.095921  0.592941   \n",
       "\n",
       "         V8        V9       V10     ...           V21       V22       V23  \\\n",
       "0  0.098698  0.363787  0.090794     ...     -0.018307  0.277838 -0.110474   \n",
       "1  0.085102 -0.255425 -0.166974     ...     -0.225775 -0.638672  0.101288   \n",
       "2  0.247676 -1.514654  0.207643     ...      0.247998  0.771679  0.909412   \n",
       "3  0.377436 -1.387024 -0.054952     ...     -0.108300  0.005274 -0.190321   \n",
       "4 -0.270533  0.817739  0.753074     ...     -0.009431  0.798278 -0.137458   \n",
       "\n",
       "        V24       V25       V26       V27       V28  Class  normAmount  \n",
       "0  0.066928  0.128539 -0.189115  0.133558 -0.021053      0    0.244964  \n",
       "1 -0.339846  0.167170  0.125895 -0.008983  0.014724      0   -0.342475  \n",
       "2 -0.689281 -0.327642 -0.139097 -0.055353 -0.059752      0    1.160686  \n",
       "3 -1.175575  0.647376 -0.221929  0.062723  0.061458      0    0.140534  \n",
       "4  0.141267 -0.206010  0.502292  0.219422  0.215153      0   -0.073403  \n",
       "\n",
       "[5 rows x 30 columns]"
      ]
     },
     "execution_count": 12,
     "metadata": {},
     "output_type": "execute_result"
    }
   ],
   "source": [
    "dfMod.head()"
   ]
  },
  {
   "cell_type": "markdown",
   "metadata": {},
   "source": [
    "Let's separate the normal transactions from the fradulent"
   ]
  },
  {
   "cell_type": "code",
   "execution_count": 13,
   "metadata": {
    "collapsed": true
   },
   "outputs": [],
   "source": [
    "FraudTransaction = dfMod[dfMod['Class'] == 1]\n",
    "NormalTransaction = dfMod[dfMod['Class'] == 0]"
   ]
  },
  {
   "cell_type": "markdown",
   "metadata": {},
   "source": [
    "Note in this case, our training set consists of all normal examples. \n",
    "Let's split as follows:\n",
    "\n",
    "Training set: 60% of the normal data\n",
    "\n",
    "Cross validation set: 20% of normal data, 50% of fradulent data. \n",
    "\n",
    "Training set: 20% of normal data, 50% of fradulent data.\n",
    "\n",
    "Before making this split, we randomly shuffle the data using the sample method of pandas and then apply np.split"
   ]
  },
  {
   "cell_type": "code",
   "execution_count": 15,
   "metadata": {},
   "outputs": [
    {
     "data": {
      "text/plain": [
       "284315"
      ]
     },
     "execution_count": 15,
     "metadata": {},
     "output_type": "execute_result"
    }
   ],
   "source": [
    "len(NormalTransaction)"
   ]
  },
  {
   "cell_type": "code",
   "execution_count": 16,
   "metadata": {},
   "outputs": [
    {
     "data": {
      "text/html": [
       "<div>\n",
       "<style>\n",
       "    .dataframe thead tr:only-child th {\n",
       "        text-align: right;\n",
       "    }\n",
       "\n",
       "    .dataframe thead th {\n",
       "        text-align: left;\n",
       "    }\n",
       "\n",
       "    .dataframe tbody tr th {\n",
       "        vertical-align: top;\n",
       "    }\n",
       "</style>\n",
       "<table border=\"1\" class=\"dataframe\">\n",
       "  <thead>\n",
       "    <tr style=\"text-align: right;\">\n",
       "      <th></th>\n",
       "      <th>V1</th>\n",
       "      <th>V2</th>\n",
       "      <th>V3</th>\n",
       "      <th>V4</th>\n",
       "      <th>V5</th>\n",
       "      <th>V6</th>\n",
       "      <th>V7</th>\n",
       "      <th>V8</th>\n",
       "      <th>V9</th>\n",
       "      <th>V10</th>\n",
       "      <th>...</th>\n",
       "      <th>V21</th>\n",
       "      <th>V22</th>\n",
       "      <th>V23</th>\n",
       "      <th>V24</th>\n",
       "      <th>V25</th>\n",
       "      <th>V26</th>\n",
       "      <th>V27</th>\n",
       "      <th>V28</th>\n",
       "      <th>Class</th>\n",
       "      <th>normAmount</th>\n",
       "    </tr>\n",
       "  </thead>\n",
       "  <tbody>\n",
       "    <tr>\n",
       "      <th>0</th>\n",
       "      <td>-1.359807</td>\n",
       "      <td>-0.072781</td>\n",
       "      <td>2.536347</td>\n",
       "      <td>1.378155</td>\n",
       "      <td>-0.338321</td>\n",
       "      <td>0.462388</td>\n",
       "      <td>0.239599</td>\n",
       "      <td>0.098698</td>\n",
       "      <td>0.363787</td>\n",
       "      <td>0.090794</td>\n",
       "      <td>...</td>\n",
       "      <td>-0.018307</td>\n",
       "      <td>0.277838</td>\n",
       "      <td>-0.110474</td>\n",
       "      <td>0.066928</td>\n",
       "      <td>0.128539</td>\n",
       "      <td>-0.189115</td>\n",
       "      <td>0.133558</td>\n",
       "      <td>-0.021053</td>\n",
       "      <td>0</td>\n",
       "      <td>0.244964</td>\n",
       "    </tr>\n",
       "    <tr>\n",
       "      <th>1</th>\n",
       "      <td>1.191857</td>\n",
       "      <td>0.266151</td>\n",
       "      <td>0.166480</td>\n",
       "      <td>0.448154</td>\n",
       "      <td>0.060018</td>\n",
       "      <td>-0.082361</td>\n",
       "      <td>-0.078803</td>\n",
       "      <td>0.085102</td>\n",
       "      <td>-0.255425</td>\n",
       "      <td>-0.166974</td>\n",
       "      <td>...</td>\n",
       "      <td>-0.225775</td>\n",
       "      <td>-0.638672</td>\n",
       "      <td>0.101288</td>\n",
       "      <td>-0.339846</td>\n",
       "      <td>0.167170</td>\n",
       "      <td>0.125895</td>\n",
       "      <td>-0.008983</td>\n",
       "      <td>0.014724</td>\n",
       "      <td>0</td>\n",
       "      <td>-0.342475</td>\n",
       "    </tr>\n",
       "    <tr>\n",
       "      <th>2</th>\n",
       "      <td>-1.358354</td>\n",
       "      <td>-1.340163</td>\n",
       "      <td>1.773209</td>\n",
       "      <td>0.379780</td>\n",
       "      <td>-0.503198</td>\n",
       "      <td>1.800499</td>\n",
       "      <td>0.791461</td>\n",
       "      <td>0.247676</td>\n",
       "      <td>-1.514654</td>\n",
       "      <td>0.207643</td>\n",
       "      <td>...</td>\n",
       "      <td>0.247998</td>\n",
       "      <td>0.771679</td>\n",
       "      <td>0.909412</td>\n",
       "      <td>-0.689281</td>\n",
       "      <td>-0.327642</td>\n",
       "      <td>-0.139097</td>\n",
       "      <td>-0.055353</td>\n",
       "      <td>-0.059752</td>\n",
       "      <td>0</td>\n",
       "      <td>1.160686</td>\n",
       "    </tr>\n",
       "    <tr>\n",
       "      <th>3</th>\n",
       "      <td>-0.966272</td>\n",
       "      <td>-0.185226</td>\n",
       "      <td>1.792993</td>\n",
       "      <td>-0.863291</td>\n",
       "      <td>-0.010309</td>\n",
       "      <td>1.247203</td>\n",
       "      <td>0.237609</td>\n",
       "      <td>0.377436</td>\n",
       "      <td>-1.387024</td>\n",
       "      <td>-0.054952</td>\n",
       "      <td>...</td>\n",
       "      <td>-0.108300</td>\n",
       "      <td>0.005274</td>\n",
       "      <td>-0.190321</td>\n",
       "      <td>-1.175575</td>\n",
       "      <td>0.647376</td>\n",
       "      <td>-0.221929</td>\n",
       "      <td>0.062723</td>\n",
       "      <td>0.061458</td>\n",
       "      <td>0</td>\n",
       "      <td>0.140534</td>\n",
       "    </tr>\n",
       "    <tr>\n",
       "      <th>4</th>\n",
       "      <td>-1.158233</td>\n",
       "      <td>0.877737</td>\n",
       "      <td>1.548718</td>\n",
       "      <td>0.403034</td>\n",
       "      <td>-0.407193</td>\n",
       "      <td>0.095921</td>\n",
       "      <td>0.592941</td>\n",
       "      <td>-0.270533</td>\n",
       "      <td>0.817739</td>\n",
       "      <td>0.753074</td>\n",
       "      <td>...</td>\n",
       "      <td>-0.009431</td>\n",
       "      <td>0.798278</td>\n",
       "      <td>-0.137458</td>\n",
       "      <td>0.141267</td>\n",
       "      <td>-0.206010</td>\n",
       "      <td>0.502292</td>\n",
       "      <td>0.219422</td>\n",
       "      <td>0.215153</td>\n",
       "      <td>0</td>\n",
       "      <td>-0.073403</td>\n",
       "    </tr>\n",
       "  </tbody>\n",
       "</table>\n",
       "<p>5 rows × 30 columns</p>\n",
       "</div>"
      ],
      "text/plain": [
       "         V1        V2        V3        V4        V5        V6        V7  \\\n",
       "0 -1.359807 -0.072781  2.536347  1.378155 -0.338321  0.462388  0.239599   \n",
       "1  1.191857  0.266151  0.166480  0.448154  0.060018 -0.082361 -0.078803   \n",
       "2 -1.358354 -1.340163  1.773209  0.379780 -0.503198  1.800499  0.791461   \n",
       "3 -0.966272 -0.185226  1.792993 -0.863291 -0.010309  1.247203  0.237609   \n",
       "4 -1.158233  0.877737  1.548718  0.403034 -0.407193  0.095921  0.592941   \n",
       "\n",
       "         V8        V9       V10     ...           V21       V22       V23  \\\n",
       "0  0.098698  0.363787  0.090794     ...     -0.018307  0.277838 -0.110474   \n",
       "1  0.085102 -0.255425 -0.166974     ...     -0.225775 -0.638672  0.101288   \n",
       "2  0.247676 -1.514654  0.207643     ...      0.247998  0.771679  0.909412   \n",
       "3  0.377436 -1.387024 -0.054952     ...     -0.108300  0.005274 -0.190321   \n",
       "4 -0.270533  0.817739  0.753074     ...     -0.009431  0.798278 -0.137458   \n",
       "\n",
       "        V24       V25       V26       V27       V28  Class  normAmount  \n",
       "0  0.066928  0.128539 -0.189115  0.133558 -0.021053      0    0.244964  \n",
       "1 -0.339846  0.167170  0.125895 -0.008983  0.014724      0   -0.342475  \n",
       "2 -0.689281 -0.327642 -0.139097 -0.055353 -0.059752      0    1.160686  \n",
       "3 -1.175575  0.647376 -0.221929  0.062723  0.061458      0    0.140534  \n",
       "4  0.141267 -0.206010  0.502292  0.219422  0.215153      0   -0.073403  \n",
       "\n",
       "[5 rows x 30 columns]"
      ]
     },
     "execution_count": 16,
     "metadata": {},
     "output_type": "execute_result"
    }
   ],
   "source": [
    "NormalTransaction.head()"
   ]
  },
  {
   "cell_type": "code",
   "execution_count": 17,
   "metadata": {},
   "outputs": [
    {
     "data": {
      "text/plain": [
       "Int64Index([     0,      1,      2,      3,      4,      5,      6,      7,\n",
       "                 8,      9,\n",
       "            ...\n",
       "            284797, 284798, 284799, 284800, 284801, 284802, 284803, 284804,\n",
       "            284805, 284806],\n",
       "           dtype='int64', length=284315)"
      ]
     },
     "execution_count": 17,
     "metadata": {},
     "output_type": "execute_result"
    }
   ],
   "source": [
    "NormalTransaction.index"
   ]
  },
  {
   "cell_type": "code",
   "execution_count": 18,
   "metadata": {
    "collapsed": true
   },
   "outputs": [],
   "source": [
    "NormalTransactionShuffled = NormalTransaction.sample(frac = 1)"
   ]
  },
  {
   "cell_type": "code",
   "execution_count": 19,
   "metadata": {},
   "outputs": [
    {
     "data": {
      "text/html": [
       "<div>\n",
       "<style>\n",
       "    .dataframe thead tr:only-child th {\n",
       "        text-align: right;\n",
       "    }\n",
       "\n",
       "    .dataframe thead th {\n",
       "        text-align: left;\n",
       "    }\n",
       "\n",
       "    .dataframe tbody tr th {\n",
       "        vertical-align: top;\n",
       "    }\n",
       "</style>\n",
       "<table border=\"1\" class=\"dataframe\">\n",
       "  <thead>\n",
       "    <tr style=\"text-align: right;\">\n",
       "      <th></th>\n",
       "      <th>V1</th>\n",
       "      <th>V2</th>\n",
       "      <th>V3</th>\n",
       "      <th>V4</th>\n",
       "      <th>V5</th>\n",
       "      <th>V6</th>\n",
       "      <th>V7</th>\n",
       "      <th>V8</th>\n",
       "      <th>V9</th>\n",
       "      <th>V10</th>\n",
       "      <th>...</th>\n",
       "      <th>V21</th>\n",
       "      <th>V22</th>\n",
       "      <th>V23</th>\n",
       "      <th>V24</th>\n",
       "      <th>V25</th>\n",
       "      <th>V26</th>\n",
       "      <th>V27</th>\n",
       "      <th>V28</th>\n",
       "      <th>Class</th>\n",
       "      <th>normAmount</th>\n",
       "    </tr>\n",
       "  </thead>\n",
       "  <tbody>\n",
       "    <tr>\n",
       "      <th>227143</th>\n",
       "      <td>2.008021</td>\n",
       "      <td>-0.210928</td>\n",
       "      <td>-3.134833</td>\n",
       "      <td>-0.343703</td>\n",
       "      <td>2.597961</td>\n",
       "      <td>3.286339</td>\n",
       "      <td>-0.555582</td>\n",
       "      <td>0.832574</td>\n",
       "      <td>0.677253</td>\n",
       "      <td>-0.655852</td>\n",
       "      <td>...</td>\n",
       "      <td>-0.031826</td>\n",
       "      <td>0.094989</td>\n",
       "      <td>0.072766</td>\n",
       "      <td>0.631860</td>\n",
       "      <td>0.123913</td>\n",
       "      <td>0.659120</td>\n",
       "      <td>-0.022794</td>\n",
       "      <td>-0.035894</td>\n",
       "      <td>0</td>\n",
       "      <td>-0.313249</td>\n",
       "    </tr>\n",
       "    <tr>\n",
       "      <th>111151</th>\n",
       "      <td>1.178239</td>\n",
       "      <td>-0.112266</td>\n",
       "      <td>-0.528712</td>\n",
       "      <td>0.055660</td>\n",
       "      <td>-0.067912</td>\n",
       "      <td>-1.110653</td>\n",
       "      <td>0.532842</td>\n",
       "      <td>-0.377442</td>\n",
       "      <td>-0.088516</td>\n",
       "      <td>-0.116822</td>\n",
       "      <td>...</td>\n",
       "      <td>-0.027329</td>\n",
       "      <td>-0.272626</td>\n",
       "      <td>-0.226306</td>\n",
       "      <td>-0.034026</td>\n",
       "      <td>0.574890</td>\n",
       "      <td>1.092502</td>\n",
       "      <td>-0.133263</td>\n",
       "      <td>0.001482</td>\n",
       "      <td>0</td>\n",
       "      <td>0.046379</td>\n",
       "    </tr>\n",
       "    <tr>\n",
       "      <th>274188</th>\n",
       "      <td>-0.559310</td>\n",
       "      <td>0.252248</td>\n",
       "      <td>0.718171</td>\n",
       "      <td>-0.061253</td>\n",
       "      <td>1.167424</td>\n",
       "      <td>-0.583950</td>\n",
       "      <td>0.425633</td>\n",
       "      <td>0.035439</td>\n",
       "      <td>-0.653711</td>\n",
       "      <td>-0.226866</td>\n",
       "      <td>...</td>\n",
       "      <td>-0.137535</td>\n",
       "      <td>-0.517707</td>\n",
       "      <td>-0.022232</td>\n",
       "      <td>-0.462955</td>\n",
       "      <td>-0.407223</td>\n",
       "      <td>0.374007</td>\n",
       "      <td>0.067637</td>\n",
       "      <td>0.136836</td>\n",
       "      <td>0</td>\n",
       "      <td>-0.349671</td>\n",
       "    </tr>\n",
       "    <tr>\n",
       "      <th>36596</th>\n",
       "      <td>-0.707835</td>\n",
       "      <td>1.119971</td>\n",
       "      <td>1.288918</td>\n",
       "      <td>0.942082</td>\n",
       "      <td>-0.084526</td>\n",
       "      <td>-1.000469</td>\n",
       "      <td>0.756299</td>\n",
       "      <td>-0.238079</td>\n",
       "      <td>-0.299020</td>\n",
       "      <td>0.230965</td>\n",
       "      <td>...</td>\n",
       "      <td>0.138632</td>\n",
       "      <td>0.536785</td>\n",
       "      <td>-0.186578</td>\n",
       "      <td>0.713265</td>\n",
       "      <td>-0.390907</td>\n",
       "      <td>-0.434221</td>\n",
       "      <td>-0.539133</td>\n",
       "      <td>-0.359817</td>\n",
       "      <td>0</td>\n",
       "      <td>-0.311529</td>\n",
       "    </tr>\n",
       "    <tr>\n",
       "      <th>123354</th>\n",
       "      <td>-1.386725</td>\n",
       "      <td>1.067763</td>\n",
       "      <td>1.822499</td>\n",
       "      <td>-0.682421</td>\n",
       "      <td>-0.377616</td>\n",
       "      <td>-0.680118</td>\n",
       "      <td>0.282821</td>\n",
       "      <td>0.430088</td>\n",
       "      <td>0.150079</td>\n",
       "      <td>-0.372859</td>\n",
       "      <td>...</td>\n",
       "      <td>0.060073</td>\n",
       "      <td>0.011975</td>\n",
       "      <td>-0.091141</td>\n",
       "      <td>0.443813</td>\n",
       "      <td>-0.236341</td>\n",
       "      <td>-0.925158</td>\n",
       "      <td>-0.202221</td>\n",
       "      <td>-0.115952</td>\n",
       "      <td>0</td>\n",
       "      <td>-0.325283</td>\n",
       "    </tr>\n",
       "  </tbody>\n",
       "</table>\n",
       "<p>5 rows × 30 columns</p>\n",
       "</div>"
      ],
      "text/plain": [
       "              V1        V2        V3        V4        V5        V6        V7  \\\n",
       "227143  2.008021 -0.210928 -3.134833 -0.343703  2.597961  3.286339 -0.555582   \n",
       "111151  1.178239 -0.112266 -0.528712  0.055660 -0.067912 -1.110653  0.532842   \n",
       "274188 -0.559310  0.252248  0.718171 -0.061253  1.167424 -0.583950  0.425633   \n",
       "36596  -0.707835  1.119971  1.288918  0.942082 -0.084526 -1.000469  0.756299   \n",
       "123354 -1.386725  1.067763  1.822499 -0.682421 -0.377616 -0.680118  0.282821   \n",
       "\n",
       "              V8        V9       V10     ...           V21       V22  \\\n",
       "227143  0.832574  0.677253 -0.655852     ...     -0.031826  0.094989   \n",
       "111151 -0.377442 -0.088516 -0.116822     ...     -0.027329 -0.272626   \n",
       "274188  0.035439 -0.653711 -0.226866     ...     -0.137535 -0.517707   \n",
       "36596  -0.238079 -0.299020  0.230965     ...      0.138632  0.536785   \n",
       "123354  0.430088  0.150079 -0.372859     ...      0.060073  0.011975   \n",
       "\n",
       "             V23       V24       V25       V26       V27       V28  Class  \\\n",
       "227143  0.072766  0.631860  0.123913  0.659120 -0.022794 -0.035894      0   \n",
       "111151 -0.226306 -0.034026  0.574890  1.092502 -0.133263  0.001482      0   \n",
       "274188 -0.022232 -0.462955 -0.407223  0.374007  0.067637  0.136836      0   \n",
       "36596  -0.186578  0.713265 -0.390907 -0.434221 -0.539133 -0.359817      0   \n",
       "123354 -0.091141  0.443813 -0.236341 -0.925158 -0.202221 -0.115952      0   \n",
       "\n",
       "        normAmount  \n",
       "227143   -0.313249  \n",
       "111151    0.046379  \n",
       "274188   -0.349671  \n",
       "36596    -0.311529  \n",
       "123354   -0.325283  \n",
       "\n",
       "[5 rows x 30 columns]"
      ]
     },
     "execution_count": 19,
     "metadata": {},
     "output_type": "execute_result"
    }
   ],
   "source": [
    "NormalTransactionShuffled.head()"
   ]
  },
  {
   "cell_type": "code",
   "execution_count": 20,
   "metadata": {},
   "outputs": [
    {
     "data": {
      "text/plain": [
       "Int64Index([227143, 111151, 274188,  36596, 123354, 188769, 143654, 271800,\n",
       "            205058, 148641,\n",
       "            ...\n",
       "            270192, 169599, 223292, 146892, 284442,  62393, 101240, 116059,\n",
       "             21779, 193586],\n",
       "           dtype='int64', length=284315)"
      ]
     },
     "execution_count": 20,
     "metadata": {},
     "output_type": "execute_result"
    }
   ],
   "source": [
    "NormalTransactionShuffled.index"
   ]
  },
  {
   "cell_type": "code",
   "execution_count": 67,
   "metadata": {
    "collapsed": true
   },
   "outputs": [],
   "source": [
    "NormalTrain, NormalValidate, NormalTest = np.split(NormalTransactionShuffled, \\\n",
    "                                                    [int(0.6 * len(NormalTransactionShuffled)), \\\n",
    "                                                    int(0.8 * len(NormalTransactionShuffled)) \n",
    "                                                    ])"
   ]
  },
  {
   "cell_type": "code",
   "execution_count": 68,
   "metadata": {},
   "outputs": [
    {
     "data": {
      "text/html": [
       "<div>\n",
       "<style>\n",
       "    .dataframe thead tr:only-child th {\n",
       "        text-align: right;\n",
       "    }\n",
       "\n",
       "    .dataframe thead th {\n",
       "        text-align: left;\n",
       "    }\n",
       "\n",
       "    .dataframe tbody tr th {\n",
       "        vertical-align: top;\n",
       "    }\n",
       "</style>\n",
       "<table border=\"1\" class=\"dataframe\">\n",
       "  <thead>\n",
       "    <tr style=\"text-align: right;\">\n",
       "      <th></th>\n",
       "      <th>V1</th>\n",
       "      <th>V2</th>\n",
       "      <th>V3</th>\n",
       "      <th>V4</th>\n",
       "      <th>V5</th>\n",
       "      <th>V6</th>\n",
       "      <th>V7</th>\n",
       "      <th>V8</th>\n",
       "      <th>V9</th>\n",
       "      <th>V10</th>\n",
       "      <th>...</th>\n",
       "      <th>V21</th>\n",
       "      <th>V22</th>\n",
       "      <th>V23</th>\n",
       "      <th>V24</th>\n",
       "      <th>V25</th>\n",
       "      <th>V26</th>\n",
       "      <th>V27</th>\n",
       "      <th>V28</th>\n",
       "      <th>Class</th>\n",
       "      <th>normAmount</th>\n",
       "    </tr>\n",
       "  </thead>\n",
       "  <tbody>\n",
       "    <tr>\n",
       "      <th>227143</th>\n",
       "      <td>2.008021</td>\n",
       "      <td>-0.210928</td>\n",
       "      <td>-3.134833</td>\n",
       "      <td>-0.343703</td>\n",
       "      <td>2.597961</td>\n",
       "      <td>3.286339</td>\n",
       "      <td>-0.555582</td>\n",
       "      <td>0.832574</td>\n",
       "      <td>0.677253</td>\n",
       "      <td>-0.655852</td>\n",
       "      <td>...</td>\n",
       "      <td>-0.031826</td>\n",
       "      <td>0.094989</td>\n",
       "      <td>0.072766</td>\n",
       "      <td>0.631860</td>\n",
       "      <td>0.123913</td>\n",
       "      <td>0.659120</td>\n",
       "      <td>-0.022794</td>\n",
       "      <td>-0.035894</td>\n",
       "      <td>0</td>\n",
       "      <td>-0.313249</td>\n",
       "    </tr>\n",
       "    <tr>\n",
       "      <th>111151</th>\n",
       "      <td>1.178239</td>\n",
       "      <td>-0.112266</td>\n",
       "      <td>-0.528712</td>\n",
       "      <td>0.055660</td>\n",
       "      <td>-0.067912</td>\n",
       "      <td>-1.110653</td>\n",
       "      <td>0.532842</td>\n",
       "      <td>-0.377442</td>\n",
       "      <td>-0.088516</td>\n",
       "      <td>-0.116822</td>\n",
       "      <td>...</td>\n",
       "      <td>-0.027329</td>\n",
       "      <td>-0.272626</td>\n",
       "      <td>-0.226306</td>\n",
       "      <td>-0.034026</td>\n",
       "      <td>0.574890</td>\n",
       "      <td>1.092502</td>\n",
       "      <td>-0.133263</td>\n",
       "      <td>0.001482</td>\n",
       "      <td>0</td>\n",
       "      <td>0.046379</td>\n",
       "    </tr>\n",
       "    <tr>\n",
       "      <th>274188</th>\n",
       "      <td>-0.559310</td>\n",
       "      <td>0.252248</td>\n",
       "      <td>0.718171</td>\n",
       "      <td>-0.061253</td>\n",
       "      <td>1.167424</td>\n",
       "      <td>-0.583950</td>\n",
       "      <td>0.425633</td>\n",
       "      <td>0.035439</td>\n",
       "      <td>-0.653711</td>\n",
       "      <td>-0.226866</td>\n",
       "      <td>...</td>\n",
       "      <td>-0.137535</td>\n",
       "      <td>-0.517707</td>\n",
       "      <td>-0.022232</td>\n",
       "      <td>-0.462955</td>\n",
       "      <td>-0.407223</td>\n",
       "      <td>0.374007</td>\n",
       "      <td>0.067637</td>\n",
       "      <td>0.136836</td>\n",
       "      <td>0</td>\n",
       "      <td>-0.349671</td>\n",
       "    </tr>\n",
       "    <tr>\n",
       "      <th>36596</th>\n",
       "      <td>-0.707835</td>\n",
       "      <td>1.119971</td>\n",
       "      <td>1.288918</td>\n",
       "      <td>0.942082</td>\n",
       "      <td>-0.084526</td>\n",
       "      <td>-1.000469</td>\n",
       "      <td>0.756299</td>\n",
       "      <td>-0.238079</td>\n",
       "      <td>-0.299020</td>\n",
       "      <td>0.230965</td>\n",
       "      <td>...</td>\n",
       "      <td>0.138632</td>\n",
       "      <td>0.536785</td>\n",
       "      <td>-0.186578</td>\n",
       "      <td>0.713265</td>\n",
       "      <td>-0.390907</td>\n",
       "      <td>-0.434221</td>\n",
       "      <td>-0.539133</td>\n",
       "      <td>-0.359817</td>\n",
       "      <td>0</td>\n",
       "      <td>-0.311529</td>\n",
       "    </tr>\n",
       "    <tr>\n",
       "      <th>123354</th>\n",
       "      <td>-1.386725</td>\n",
       "      <td>1.067763</td>\n",
       "      <td>1.822499</td>\n",
       "      <td>-0.682421</td>\n",
       "      <td>-0.377616</td>\n",
       "      <td>-0.680118</td>\n",
       "      <td>0.282821</td>\n",
       "      <td>0.430088</td>\n",
       "      <td>0.150079</td>\n",
       "      <td>-0.372859</td>\n",
       "      <td>...</td>\n",
       "      <td>0.060073</td>\n",
       "      <td>0.011975</td>\n",
       "      <td>-0.091141</td>\n",
       "      <td>0.443813</td>\n",
       "      <td>-0.236341</td>\n",
       "      <td>-0.925158</td>\n",
       "      <td>-0.202221</td>\n",
       "      <td>-0.115952</td>\n",
       "      <td>0</td>\n",
       "      <td>-0.325283</td>\n",
       "    </tr>\n",
       "  </tbody>\n",
       "</table>\n",
       "<p>5 rows × 30 columns</p>\n",
       "</div>"
      ],
      "text/plain": [
       "              V1        V2        V3        V4        V5        V6        V7  \\\n",
       "227143  2.008021 -0.210928 -3.134833 -0.343703  2.597961  3.286339 -0.555582   \n",
       "111151  1.178239 -0.112266 -0.528712  0.055660 -0.067912 -1.110653  0.532842   \n",
       "274188 -0.559310  0.252248  0.718171 -0.061253  1.167424 -0.583950  0.425633   \n",
       "36596  -0.707835  1.119971  1.288918  0.942082 -0.084526 -1.000469  0.756299   \n",
       "123354 -1.386725  1.067763  1.822499 -0.682421 -0.377616 -0.680118  0.282821   \n",
       "\n",
       "              V8        V9       V10     ...           V21       V22  \\\n",
       "227143  0.832574  0.677253 -0.655852     ...     -0.031826  0.094989   \n",
       "111151 -0.377442 -0.088516 -0.116822     ...     -0.027329 -0.272626   \n",
       "274188  0.035439 -0.653711 -0.226866     ...     -0.137535 -0.517707   \n",
       "36596  -0.238079 -0.299020  0.230965     ...      0.138632  0.536785   \n",
       "123354  0.430088  0.150079 -0.372859     ...      0.060073  0.011975   \n",
       "\n",
       "             V23       V24       V25       V26       V27       V28  Class  \\\n",
       "227143  0.072766  0.631860  0.123913  0.659120 -0.022794 -0.035894      0   \n",
       "111151 -0.226306 -0.034026  0.574890  1.092502 -0.133263  0.001482      0   \n",
       "274188 -0.022232 -0.462955 -0.407223  0.374007  0.067637  0.136836      0   \n",
       "36596  -0.186578  0.713265 -0.390907 -0.434221 -0.539133 -0.359817      0   \n",
       "123354 -0.091141  0.443813 -0.236341 -0.925158 -0.202221 -0.115952      0   \n",
       "\n",
       "        normAmount  \n",
       "227143   -0.313249  \n",
       "111151    0.046379  \n",
       "274188   -0.349671  \n",
       "36596    -0.311529  \n",
       "123354   -0.325283  \n",
       "\n",
       "[5 rows x 30 columns]"
      ]
     },
     "execution_count": 68,
     "metadata": {},
     "output_type": "execute_result"
    }
   ],
   "source": [
    "NormalTrain.head()"
   ]
  },
  {
   "cell_type": "code",
   "execution_count": 70,
   "metadata": {},
   "outputs": [
    {
     "data": {
      "text/plain": [
       "284315"
      ]
     },
     "execution_count": 70,
     "metadata": {},
     "output_type": "execute_result"
    }
   ],
   "source": [
    "len(NormalTrain) + len(NormalValidate) + len(NormalTest) "
   ]
  },
  {
   "cell_type": "code",
   "execution_count": 28,
   "metadata": {},
   "outputs": [
    {
     "data": {
      "text/plain": [
       "284315"
      ]
     },
     "execution_count": 28,
     "metadata": {},
     "output_type": "execute_result"
    }
   ],
   "source": [
    "len(NormalTransaction)"
   ]
  },
  {
   "cell_type": "markdown",
   "metadata": {},
   "source": [
    "For the Fraud transactions, we can conveniently use the test_train split function from the sci-kit learn"
   ]
  },
  {
   "cell_type": "code",
   "execution_count": 29,
   "metadata": {
    "collapsed": true
   },
   "outputs": [],
   "source": [
    "FraudValidate, FraudTest = train_test_split(FraudTransaction, test_size = 0.5)"
   ]
  },
  {
   "cell_type": "code",
   "execution_count": 30,
   "metadata": {},
   "outputs": [
    {
     "data": {
      "text/html": [
       "<div>\n",
       "<style>\n",
       "    .dataframe thead tr:only-child th {\n",
       "        text-align: right;\n",
       "    }\n",
       "\n",
       "    .dataframe thead th {\n",
       "        text-align: left;\n",
       "    }\n",
       "\n",
       "    .dataframe tbody tr th {\n",
       "        vertical-align: top;\n",
       "    }\n",
       "</style>\n",
       "<table border=\"1\" class=\"dataframe\">\n",
       "  <thead>\n",
       "    <tr style=\"text-align: right;\">\n",
       "      <th></th>\n",
       "      <th>V1</th>\n",
       "      <th>V2</th>\n",
       "      <th>V3</th>\n",
       "      <th>V4</th>\n",
       "      <th>V5</th>\n",
       "      <th>V6</th>\n",
       "      <th>V7</th>\n",
       "      <th>V8</th>\n",
       "      <th>V9</th>\n",
       "      <th>V10</th>\n",
       "      <th>...</th>\n",
       "      <th>V21</th>\n",
       "      <th>V22</th>\n",
       "      <th>V23</th>\n",
       "      <th>V24</th>\n",
       "      <th>V25</th>\n",
       "      <th>V26</th>\n",
       "      <th>V27</th>\n",
       "      <th>V28</th>\n",
       "      <th>Class</th>\n",
       "      <th>normAmount</th>\n",
       "    </tr>\n",
       "  </thead>\n",
       "  <tbody>\n",
       "    <tr>\n",
       "      <th>252774</th>\n",
       "      <td>-1.201398</td>\n",
       "      <td>4.864535</td>\n",
       "      <td>-8.328823</td>\n",
       "      <td>7.652399</td>\n",
       "      <td>-0.167445</td>\n",
       "      <td>-2.767695</td>\n",
       "      <td>-3.176421</td>\n",
       "      <td>1.623279</td>\n",
       "      <td>-4.367228</td>\n",
       "      <td>-5.533443</td>\n",
       "      <td>...</td>\n",
       "      <td>0.532320</td>\n",
       "      <td>-0.556913</td>\n",
       "      <td>0.192444</td>\n",
       "      <td>-0.698588</td>\n",
       "      <td>0.025003</td>\n",
       "      <td>0.514968</td>\n",
       "      <td>0.378105</td>\n",
       "      <td>-0.053133</td>\n",
       "      <td>1</td>\n",
       "      <td>-0.350151</td>\n",
       "    </tr>\n",
       "    <tr>\n",
       "      <th>46918</th>\n",
       "      <td>-4.423508</td>\n",
       "      <td>1.648048</td>\n",
       "      <td>-6.934388</td>\n",
       "      <td>4.894601</td>\n",
       "      <td>-5.078131</td>\n",
       "      <td>0.010849</td>\n",
       "      <td>-3.409096</td>\n",
       "      <td>1.409291</td>\n",
       "      <td>-3.260672</td>\n",
       "      <td>-7.781353</td>\n",
       "      <td>...</td>\n",
       "      <td>0.698359</td>\n",
       "      <td>0.487478</td>\n",
       "      <td>1.228698</td>\n",
       "      <td>-0.535217</td>\n",
       "      <td>0.388278</td>\n",
       "      <td>-0.009466</td>\n",
       "      <td>2.300164</td>\n",
       "      <td>0.081231</td>\n",
       "      <td>1</td>\n",
       "      <td>2.237530</td>\n",
       "    </tr>\n",
       "    <tr>\n",
       "      <th>263080</th>\n",
       "      <td>2.132386</td>\n",
       "      <td>0.705608</td>\n",
       "      <td>-3.530759</td>\n",
       "      <td>0.514779</td>\n",
       "      <td>1.527175</td>\n",
       "      <td>-1.716268</td>\n",
       "      <td>1.132791</td>\n",
       "      <td>-0.574214</td>\n",
       "      <td>0.128904</td>\n",
       "      <td>-1.000805</td>\n",
       "      <td>...</td>\n",
       "      <td>0.163739</td>\n",
       "      <td>0.703910</td>\n",
       "      <td>-0.245076</td>\n",
       "      <td>0.460049</td>\n",
       "      <td>0.920281</td>\n",
       "      <td>-0.216586</td>\n",
       "      <td>-0.026219</td>\n",
       "      <td>-0.025001</td>\n",
       "      <td>1</td>\n",
       "      <td>-0.349231</td>\n",
       "    </tr>\n",
       "    <tr>\n",
       "      <th>9035</th>\n",
       "      <td>-2.589617</td>\n",
       "      <td>7.016714</td>\n",
       "      <td>-13.705407</td>\n",
       "      <td>10.343228</td>\n",
       "      <td>-2.954461</td>\n",
       "      <td>-3.055116</td>\n",
       "      <td>-9.301289</td>\n",
       "      <td>3.349573</td>\n",
       "      <td>-5.654212</td>\n",
       "      <td>-11.853867</td>\n",
       "      <td>...</td>\n",
       "      <td>1.887738</td>\n",
       "      <td>0.333998</td>\n",
       "      <td>0.287659</td>\n",
       "      <td>-1.186406</td>\n",
       "      <td>-0.690273</td>\n",
       "      <td>0.631704</td>\n",
       "      <td>1.934221</td>\n",
       "      <td>0.789687</td>\n",
       "      <td>1</td>\n",
       "      <td>-0.349231</td>\n",
       "    </tr>\n",
       "    <tr>\n",
       "      <th>6899</th>\n",
       "      <td>-2.661802</td>\n",
       "      <td>5.856393</td>\n",
       "      <td>-7.653616</td>\n",
       "      <td>6.379742</td>\n",
       "      <td>-0.060712</td>\n",
       "      <td>-3.131550</td>\n",
       "      <td>-3.103570</td>\n",
       "      <td>1.778492</td>\n",
       "      <td>-3.831154</td>\n",
       "      <td>-7.191604</td>\n",
       "      <td>...</td>\n",
       "      <td>0.734775</td>\n",
       "      <td>-0.435901</td>\n",
       "      <td>-0.384766</td>\n",
       "      <td>-0.286016</td>\n",
       "      <td>1.007934</td>\n",
       "      <td>0.413196</td>\n",
       "      <td>0.280284</td>\n",
       "      <td>0.303937</td>\n",
       "      <td>1</td>\n",
       "      <td>-0.349231</td>\n",
       "    </tr>\n",
       "  </tbody>\n",
       "</table>\n",
       "<p>5 rows × 30 columns</p>\n",
       "</div>"
      ],
      "text/plain": [
       "              V1        V2         V3         V4        V5        V6  \\\n",
       "252774 -1.201398  4.864535  -8.328823   7.652399 -0.167445 -2.767695   \n",
       "46918  -4.423508  1.648048  -6.934388   4.894601 -5.078131  0.010849   \n",
       "263080  2.132386  0.705608  -3.530759   0.514779  1.527175 -1.716268   \n",
       "9035   -2.589617  7.016714 -13.705407  10.343228 -2.954461 -3.055116   \n",
       "6899   -2.661802  5.856393  -7.653616   6.379742 -0.060712 -3.131550   \n",
       "\n",
       "              V7        V8        V9        V10     ...           V21  \\\n",
       "252774 -3.176421  1.623279 -4.367228  -5.533443     ...      0.532320   \n",
       "46918  -3.409096  1.409291 -3.260672  -7.781353     ...      0.698359   \n",
       "263080  1.132791 -0.574214  0.128904  -1.000805     ...      0.163739   \n",
       "9035   -9.301289  3.349573 -5.654212 -11.853867     ...      1.887738   \n",
       "6899   -3.103570  1.778492 -3.831154  -7.191604     ...      0.734775   \n",
       "\n",
       "             V22       V23       V24       V25       V26       V27       V28  \\\n",
       "252774 -0.556913  0.192444 -0.698588  0.025003  0.514968  0.378105 -0.053133   \n",
       "46918   0.487478  1.228698 -0.535217  0.388278 -0.009466  2.300164  0.081231   \n",
       "263080  0.703910 -0.245076  0.460049  0.920281 -0.216586 -0.026219 -0.025001   \n",
       "9035    0.333998  0.287659 -1.186406 -0.690273  0.631704  1.934221  0.789687   \n",
       "6899   -0.435901 -0.384766 -0.286016  1.007934  0.413196  0.280284  0.303937   \n",
       "\n",
       "        Class  normAmount  \n",
       "252774      1   -0.350151  \n",
       "46918       1    2.237530  \n",
       "263080      1   -0.349231  \n",
       "9035        1   -0.349231  \n",
       "6899        1   -0.349231  \n",
       "\n",
       "[5 rows x 30 columns]"
      ]
     },
     "execution_count": 30,
     "metadata": {},
     "output_type": "execute_result"
    }
   ],
   "source": [
    "FraudValidate.head()"
   ]
  },
  {
   "cell_type": "code",
   "execution_count": 31,
   "metadata": {},
   "outputs": [
    {
     "data": {
      "text/plain": [
       "246"
      ]
     },
     "execution_count": 31,
     "metadata": {},
     "output_type": "execute_result"
    }
   ],
   "source": [
    "len(FraudValidate)"
   ]
  },
  {
   "cell_type": "code",
   "execution_count": 32,
   "metadata": {},
   "outputs": [
    {
     "data": {
      "text/plain": [
       "246"
      ]
     },
     "execution_count": 32,
     "metadata": {},
     "output_type": "execute_result"
    }
   ],
   "source": [
    "len(FraudTest)"
   ]
  },
  {
   "cell_type": "code",
   "execution_count": 33,
   "metadata": {},
   "outputs": [
    {
     "data": {
      "text/plain": [
       "492"
      ]
     },
     "execution_count": 33,
     "metadata": {},
     "output_type": "execute_result"
    }
   ],
   "source": [
    "len(FraudTransaction)"
   ]
  },
  {
   "cell_type": "markdown",
   "metadata": {
    "collapsed": true
   },
   "source": [
    "Great, now let's model a probability distribution based on the normal examples in the training set. "
   ]
  },
  {
   "cell_type": "code",
   "execution_count": 45,
   "metadata": {
    "collapsed": true
   },
   "outputs": [],
   "source": [
    "mu = NormalTrain.drop('Class', axis = 1).mean(axis = 0).values"
   ]
  },
  {
   "cell_type": "code",
   "execution_count": 46,
   "metadata": {},
   "outputs": [
    {
     "data": {
      "text/plain": [
       "array([ 0.01454376, -0.00489052,  0.01024795, -0.00760175,  0.00357395,\n",
       "        0.00314653,  0.00710655,  0.00067526,  0.00548902,  0.00793077,\n",
       "       -0.00931862,  0.01185401,  0.00201089,  0.01150641, -0.00016354,\n",
       "        0.0053953 ,  0.01247777,  0.00328759, -0.00268081, -0.00216582,\n",
       "       -0.00294412,  0.0003498 , -0.00194123, -0.00103484,  0.00110445,\n",
       "        0.00017356, -0.00153843,  0.00016741, -0.00239629])"
      ]
     },
     "execution_count": 46,
     "metadata": {},
     "output_type": "execute_result"
    }
   ],
   "source": [
    "mu"
   ]
  },
  {
   "cell_type": "code",
   "execution_count": 51,
   "metadata": {
    "collapsed": true
   },
   "outputs": [],
   "source": [
    "Sigma = NormalTrain.drop('Class', axis = 1).cov().values"
   ]
  },
  {
   "cell_type": "code",
   "execution_count": 52,
   "metadata": {},
   "outputs": [
    {
     "data": {
      "text/plain": [
       "array([[  3.72383943e+00,   4.98056772e-02,  -1.20253716e-01,\n",
       "          6.47032573e-02,  -6.69683794e-02,  -2.03540491e-02,\n",
       "         -1.19218445e-01,  -1.46868367e-02,  -4.18952552e-02,\n",
       "         -8.35177645e-02,   4.34310395e-02,  -8.24347776e-02,\n",
       "         -4.35948797e-04,  -7.04988450e-02,  -1.98384677e-03,\n",
       "         -5.69897335e-02,  -1.07574914e-01,  -3.90558920e-02,\n",
       "          1.32399132e-02,   1.33182573e-02,   2.31712203e-03,\n",
       "         -8.34174264e-04,   2.19031996e-02,   9.22886948e-04,\n",
       "          5.45562432e-03,   1.54939939e-03,   1.77006833e-02,\n",
       "         -2.31847749e-02,  -4.31854759e-01],\n",
       "       [  4.98056772e-02,   2.64486642e+00,   8.23263752e-02,\n",
       "         -3.13171963e-02,   5.35054899e-02,   5.53683809e-03,\n",
       "          7.68421477e-02,   8.38621869e-03,   2.23048775e-02,\n",
       "          4.60994291e-02,  -3.51916284e-02,   5.70897630e-02,\n",
       "         -2.42998416e-03,   6.37128938e-02,   5.16634028e-03,\n",
       "          4.39446559e-02,   7.42052702e-02,   2.91739261e-02,\n",
       "         -2.19650501e-03,   1.90874282e-03,  -2.22792559e-03,\n",
       "          9.17430014e-04,   2.15828511e-02,   4.44514938e-04,\n",
       "          3.78351693e-03,  -1.90916604e-04,   1.08936520e-02,\n",
       "         -1.90348797e-02,  -8.53876116e-01],\n",
       "       [ -1.20253716e-01,   8.23263752e-02,   2.14216788e+00,\n",
       "          8.38420678e-02,  -9.67509259e-02,  -1.47329510e-02,\n",
       "         -1.31252746e-01,   6.19381447e-03,  -5.05078420e-02,\n",
       "         -1.19709702e-01,   6.51166120e-02,  -1.10332618e-01,\n",
       "          3.69498957e-03,  -1.14245379e-01,  -4.67616360e-03,\n",
       "         -7.99720082e-02,  -1.36856109e-01,  -5.17723666e-02,\n",
       "          1.58714804e-02,   1.10488996e-02,   2.37419823e-03,\n",
       "          3.62756509e-03,  -1.89264318e-04,  -1.76509860e-03,\n",
       "          2.00525829e-03,   4.20043676e-04,   6.39378676e-03,\n",
       "         -9.81237048e-03,  -3.04498612e-01],\n",
       "       [  6.47032573e-02,  -3.13171963e-02,   8.38420678e-02,\n",
       "          1.95567049e+00,   3.69788973e-02,   9.01285521e-03,\n",
       "          6.43025847e-02,  -4.23067169e-03,   3.35716575e-02,\n",
       "          6.77800159e-02,  -4.05751215e-02,   6.58789599e-02,\n",
       "         -4.31780604e-03,   6.45750522e-02,  -3.45121909e-03,\n",
       "          4.45934305e-02,   7.18302658e-02,   2.29645075e-02,\n",
       "         -1.19736757e-02,  -3.25679411e-03,   1.79409216e-03,\n",
       "         -2.48503679e-03,  -6.81056988e-03,   6.65358861e-04,\n",
       "         -2.12367910e-04,  -5.25810996e-04,  -5.44187764e-03,\n",
       "          6.64110444e-03,   1.31469284e-01],\n",
       "       [ -6.69683794e-02,   5.35054899e-02,  -9.67509259e-02,\n",
       "          3.69788973e-02,   1.83016890e+00,   5.14159054e-03,\n",
       "         -5.92290239e-02,   2.11190167e-03,  -3.15106821e-02,\n",
       "         -6.71675584e-02,   3.48350306e-02,  -6.52288032e-02,\n",
       "          7.22695261e-04,  -4.99940428e-02,   1.57010916e-03,\n",
       "         -4.50331791e-02,  -8.56280557e-02,  -3.04885489e-02,\n",
       "          1.21952118e-02,  -6.63300693e-03,  -8.50916451e-03,\n",
       "          4.45596682e-03,  -9.25572625e-03,   4.32312545e-03,\n",
       "          1.11127529e-03,   1.58859165e-03,   5.38195644e-03,\n",
       "         -2.58579700e-03,  -5.15116847e-01],\n",
       "       [ -2.03540491e-02,   5.53683809e-03,  -1.47329510e-02,\n",
       "          9.01285521e-03,   5.14159054e-03,   1.75608128e+00,\n",
       "         -2.82386364e-02,   2.34360125e-02,  -5.96841015e-03,\n",
       "         -1.51477499e-02,   1.32833382e-02,  -2.01476165e-02,\n",
       "         -6.42145768e-04,  -2.75331634e-02,  -2.97721519e-03,\n",
       "         -1.69434776e-02,  -2.14506125e-02,  -8.10461207e-03,\n",
       "         -1.26149024e-03,   1.02276756e-02,   2.27819537e-03,\n",
       "          3.52767590e-04,   3.69165873e-03,  -2.60366696e-03,\n",
       "         -2.48004604e-05,   1.05748580e-03,  -5.91670664e-03,\n",
       "          8.27376385e-04,   2.75073811e-01],\n",
       "       [ -1.19218445e-01,   7.68421477e-02,  -1.31252746e-01,\n",
       "          6.43025847e-02,  -5.92290239e-02,  -2.82386364e-02,\n",
       "          1.36196092e+00,  -1.51195159e-02,  -4.33537373e-02,\n",
       "         -1.04058376e-01,   5.47784602e-02,  -9.21766977e-02,\n",
       "         -2.98294217e-03,  -8.16977242e-02,  -6.27715789e-03,\n",
       "         -7.51045292e-02,  -1.24034071e-01,  -4.85313190e-02,\n",
       "          1.02178442e-02,   1.82986054e-02,   5.60996675e-03,\n",
       "          2.08003985e-03,   6.33502138e-03,  -2.23068014e-03,\n",
       "         -3.80010095e-03,   4.99962374e-04,  -1.27659684e-02,\n",
       "          2.21672182e-03,   4.64369851e-01],\n",
       "       [ -1.46868367e-02,   8.38621869e-03,   6.19381447e-03,\n",
       "         -4.23067169e-03,   2.11190167e-03,   2.34360125e-02,\n",
       "         -1.51195159e-02,   1.32665373e+00,   2.08431656e-03,\n",
       "          4.95952558e-03,  -1.26862280e-02,   2.20655347e-02,\n",
       "         -2.95370780e-03,   2.35098886e-02,  -3.46943778e-03,\n",
       "          1.81400980e-02,   2.68758806e-02,   7.15111746e-03,\n",
       "         -5.88167092e-03,  -4.57758073e-03,   4.36888036e-03,\n",
       "         -1.98738030e-03,   9.30807403e-03,  -4.28425597e-04,\n",
       "         -1.96514576e-03,   5.20024267e-04,   1.83956672e-03,\n",
       "         -4.80407548e-03,  -1.17937527e-01],\n",
       "       [ -4.18952552e-02,   2.23048775e-02,  -5.05078420e-02,\n",
       "          3.35716575e-02,  -3.15106821e-02,  -5.96841015e-03,\n",
       "         -4.33537373e-02,   2.08431656e-03,   1.18295179e+00,\n",
       "         -4.75197145e-02,   2.50177028e-02,  -4.52587947e-02,\n",
       "          1.58887940e-03,  -4.01456391e-02,  -3.34577291e-03,\n",
       "         -2.71340222e-02,  -5.02867941e-02,  -1.89277086e-02,\n",
       "          5.56578458e-03,  -3.07067150e-05,  -4.27344525e-03,\n",
       "          3.61789577e-03,   3.37932970e-04,  -9.48822235e-04,\n",
       "         -6.79197441e-04,   5.19794232e-04,  -5.34251750e-03,\n",
       "          2.64517862e-03,  -4.76254828e-02],\n",
       "       [ -8.35177645e-02,   4.60994291e-02,  -1.19709702e-01,\n",
       "          6.77800159e-02,  -6.71675584e-02,  -1.51477499e-02,\n",
       "         -1.04058376e-01,   4.95952558e-03,  -4.75197145e-02,\n",
       "          1.08257734e+00,   4.97274028e-02,  -9.33475225e-02,\n",
       "          2.12180172e-03,  -8.65069963e-02,  -4.75850858e-03,\n",
       "         -6.21034742e-02,  -1.11170094e-01,  -3.98277421e-02,\n",
       "          1.12619649e-02,   2.10168225e-03,  -2.12643953e-03,\n",
       "          3.49687379e-03,  -3.42786314e-04,  -1.07509156e-04,\n",
       "         -1.22489012e-03,   8.22104945e-04,  -7.61866909e-03,\n",
       "          3.20431363e-04,  -1.05713009e-01],\n",
       "       [  4.34310395e-02,  -3.51916284e-02,   6.51166120e-02,\n",
       "         -4.05751215e-02,   3.48350306e-02,   1.32833382e-02,\n",
       "          5.47784602e-02,  -1.26862280e-02,   2.50177028e-02,\n",
       "          4.97274028e-02,   1.00636275e+00,   6.23735944e-02,\n",
       "         -1.32868739e-03,   6.10195926e-02,   3.08793620e-03,\n",
       "          3.91113944e-02,   6.27678294e-02,   2.16229721e-02,\n",
       "         -6.16137924e-03,  -2.51575517e-03,  -5.52177125e-03,\n",
       "         -1.67613071e-04,   1.31125029e-03,   1.39021105e-03,\n",
       "         -7.04791508e-04,  -7.68872094e-04,  -4.86393298e-03,\n",
       "          1.02900490e-03,  -1.11783940e-03],\n",
       "       [ -8.24347776e-02,   5.70897630e-02,  -1.10332618e-01,\n",
       "          6.58789599e-02,  -6.52288032e-02,  -2.01476165e-02,\n",
       "         -9.21766977e-02,   2.20655347e-02,  -4.52587947e-02,\n",
       "         -9.33475225e-02,   6.23735944e-02,   8.97983313e-01,\n",
       "          1.16194253e-04,  -9.94738011e-02,  -1.94132058e-03,\n",
       "         -7.04190968e-02,  -1.15489750e-01,  -4.01495332e-02,\n",
       "          1.35776758e-02,   5.44944342e-03,   8.34013697e-03,\n",
       "          3.14931225e-03,  -8.17442573e-04,   4.42803349e-04,\n",
       "          1.16200035e-03,   8.05962840e-04,   1.33382635e-03,\n",
       "          1.53340705e-03,  -4.76735186e-03],\n",
       "       [ -4.35948797e-04,  -2.42998416e-03,   3.69498957e-03,\n",
       "         -4.31780604e-03,   7.22695261e-04,  -6.42145768e-04,\n",
       "         -2.98294217e-03,  -2.95370780e-03,   1.58887940e-03,\n",
       "          2.12180172e-03,  -1.32868739e-03,   1.16194253e-04,\n",
       "          9.90417105e-01,  -5.92067685e-04,  -3.44108684e-03,\n",
       "          7.62969906e-04,  -1.30159613e-05,   3.05488643e-03,\n",
       "         -1.64234953e-03,   1.21455535e-03,   8.30587944e-04,\n",
       "         -2.52580389e-04,  -3.20486085e-04,  -6.81890615e-04,\n",
       "          3.75592487e-04,   6.64672250e-04,  -2.10689237e-03,\n",
       "          1.22126451e-03,   2.98204899e-03],\n",
       "       [ -7.04988450e-02,   6.37128938e-02,  -1.14245379e-01,\n",
       "          6.45750522e-02,  -4.99940428e-02,  -2.75331634e-02,\n",
       "         -8.16977242e-02,   2.35098886e-02,  -4.01456391e-02,\n",
       "         -8.65069963e-02,   6.10195926e-02,  -9.94738011e-02,\n",
       "         -5.92067685e-04,   8.06732542e-01,  -6.12125087e-04,\n",
       "         -6.63009601e-02,  -1.06999371e-01,  -3.67058605e-02,\n",
       "          1.07332598e-02,   4.10043528e-03,   1.40755475e-02,\n",
       "         -2.22375790e-03,  -8.25977588e-05,  -1.75732012e-03,\n",
       "          1.61005993e-03,   1.60491908e-03,   5.94979286e-03,\n",
       "          1.31746371e-03,   3.19738193e-02],\n",
       "       [ -1.98384677e-03,   5.16634028e-03,  -4.67616360e-03,\n",
       "         -3.45121909e-03,   1.57010916e-03,  -2.97721519e-03,\n",
       "         -6.27715789e-03,  -3.46943778e-03,  -3.34577291e-03,\n",
       "         -4.75850858e-03,   3.08793620e-03,  -1.94132058e-03,\n",
       "         -3.44108684e-03,  -6.12125087e-04,   8.38706637e-01,\n",
       "         -7.39512930e-04,  -1.15567151e-04,  -8.06173193e-04,\n",
       "         -2.28771994e-03,   1.98124626e-03,  -1.21119800e-03,\n",
       "         -1.19173819e-03,  -9.64155592e-04,  -1.42206687e-04,\n",
       "          2.46694410e-04,  -1.13167842e-03,  -3.70219623e-03,\n",
       "          2.60613527e-03,  -6.49429013e-03],\n",
       "       [ -5.69897335e-02,   4.39446559e-02,  -7.99720082e-02,\n",
       "          4.45934305e-02,  -4.50331791e-02,  -1.69434776e-02,\n",
       "         -7.51045292e-02,   1.81400980e-02,  -2.71340222e-02,\n",
       "         -6.21034742e-02,   3.91113944e-02,  -7.04190968e-02,\n",
       "          7.62969906e-04,  -6.63009601e-02,  -7.39512930e-04,\n",
       "          7.17406663e-01,  -9.19804314e-02,  -3.43106739e-02,\n",
       "          1.17886595e-02,   9.40034704e-03,   1.01805105e-02,\n",
       "         -9.73645789e-05,  -7.75875065e-04,  -1.10979629e-03,\n",
       "         -1.39229077e-03,   1.10777268e-03,  -2.41638446e-03,\n",
       "          3.55515577e-03,  -6.56744382e-03],\n",
       "       [ -1.07574914e-01,   7.42052702e-02,  -1.36856109e-01,\n",
       "          7.18302658e-02,  -8.56280557e-02,  -2.14506125e-02,\n",
       "         -1.24034071e-01,   2.68758806e-02,  -5.02867941e-02,\n",
       "         -1.11170094e-01,   6.27678294e-02,  -1.15489750e-01,\n",
       "         -1.30159613e-05,  -1.06999371e-01,  -1.15567151e-04,\n",
       "         -9.19804314e-02,   5.66716899e-01,  -6.04190263e-02,\n",
       "          1.80480762e-02,   5.50075320e-03,   9.12432663e-03,\n",
       "          3.98048845e-03,  -1.52198436e-04,   5.33190086e-04,\n",
       "          1.27058567e-03,   2.79098488e-04,   2.16673942e-03,\n",
       "         -6.69373191e-04,   8.25512208e-03],\n",
       "       [ -3.90558920e-02,   2.91739261e-02,  -5.17723666e-02,\n",
       "          2.29645075e-02,  -3.04885489e-02,  -8.10461207e-03,\n",
       "         -4.85313190e-02,   7.15111746e-03,  -1.89277086e-02,\n",
       "         -3.98277421e-02,   2.16229721e-02,  -4.01495332e-02,\n",
       "          3.05488643e-03,  -3.67058605e-02,  -8.06173193e-04,\n",
       "         -3.43106739e-02,  -6.04190263e-02,   6.81705178e-01,\n",
       "          6.09362876e-03,   8.18756259e-04,   3.14383751e-03,\n",
       "          1.48167065e-03,  -1.05338861e-03,   2.67321740e-04,\n",
       "         -7.64286016e-04,  -7.64573098e-05,   1.37587205e-03,\n",
       "         -1.40244489e-03,   2.89593574e-02],\n",
       "       [  1.32399132e-02,  -2.19650501e-03,   1.58714804e-02,\n",
       "         -1.19736757e-02,   1.21952118e-02,  -1.26149024e-03,\n",
       "          1.02178442e-02,  -5.88167092e-03,   5.56578458e-03,\n",
       "          1.12619649e-02,  -6.16137924e-03,   1.35776758e-02,\n",
       "         -1.64234953e-03,   1.07332598e-02,  -2.28771994e-03,\n",
       "          1.17886595e-02,   1.80480762e-02,   6.09362876e-03,\n",
       "          6.59272091e-01,   8.14125486e-04,  -1.85221932e-03,\n",
       "         -2.95399983e-03,  -1.02424628e-03,  -1.73897465e-03,\n",
       "          9.22443440e-04,  -6.99698587e-04,  -2.54440793e-03,\n",
       "          1.43631509e-03,  -5.07625254e-02],\n",
       "       [  1.33182573e-02,   1.90874282e-03,   1.10488996e-02,\n",
       "         -3.25679411e-03,  -6.63300693e-03,   1.02276756e-02,\n",
       "          1.82986054e-02,  -4.57758073e-03,  -3.07067150e-05,\n",
       "          2.10168225e-03,  -2.51575517e-03,   5.44944342e-03,\n",
       "          1.21455535e-03,   4.10043528e-03,   1.98124626e-03,\n",
       "          9.40034704e-03,   5.50075320e-03,   8.18756259e-04,\n",
       "          8.14125486e-04,   5.69755273e-01,   3.03887004e-03,\n",
       "         -1.06580603e-03,  -7.55735028e-03,   5.40924544e-04,\n",
       "         -2.67842436e-03,   2.26092739e-04,   1.64271915e-02,\n",
       "         -1.18937799e-02,   2.70139197e-01],\n",
       "       [  2.31712203e-03,  -2.22792559e-03,   2.37419823e-03,\n",
       "          1.79409216e-03,  -8.50916451e-03,   2.27819537e-03,\n",
       "          5.60996675e-03,   4.36888036e-03,  -4.27344525e-03,\n",
       "         -2.12643953e-03,  -5.52177125e-03,   8.34013697e-03,\n",
       "          8.30587944e-04,   1.40755475e-02,  -1.21119800e-03,\n",
       "          1.01805105e-02,   9.12432663e-03,   3.14383751e-03,\n",
       "         -1.85221932e-03,   3.03887004e-03,   4.99431861e-01,\n",
       "          1.44574395e-02,  -2.25486148e-03,   1.90555109e-03,\n",
       "         -6.23363467e-04,   1.51006579e-04,   1.78400990e-03,\n",
       "         -6.98721967e-03,   8.25498528e-02],\n",
       "       [ -8.34174264e-04,   9.17430014e-04,   3.62756509e-03,\n",
       "         -2.48503679e-03,   4.45596682e-03,   3.52767590e-04,\n",
       "          2.08003985e-03,  -1.98738030e-03,   3.61789577e-03,\n",
       "          3.49687379e-03,  -1.67613071e-04,   3.14931225e-03,\n",
       "         -2.52580389e-04,  -2.22375790e-03,  -1.19173819e-03,\n",
       "         -9.73645789e-05,   3.98048845e-03,   1.48167065e-03,\n",
       "         -2.95399983e-03,  -1.06580603e-03,   1.44574395e-02,\n",
       "          5.20170614e-01,   2.27482246e-03,   5.49125370e-04,\n",
       "          5.84923720e-04,  -1.37448714e-04,   5.28637393e-04,\n",
       "          4.86225196e-04,  -4.84292667e-02],\n",
       "       [  2.19031996e-02,   2.15828511e-02,  -1.89264318e-04,\n",
       "         -6.81056988e-03,  -9.25572625e-03,   3.69165873e-03,\n",
       "          6.33502138e-03,   9.30807403e-03,   3.37932970e-04,\n",
       "         -3.42786314e-04,   1.31125029e-03,  -8.17442573e-04,\n",
       "         -3.20486085e-04,  -8.25977588e-05,  -9.64155592e-04,\n",
       "         -7.75875065e-04,  -1.52198436e-04,  -1.05338861e-03,\n",
       "         -1.02424628e-03,  -7.55735028e-03,  -2.25486148e-03,\n",
       "          2.27482246e-03,   3.76704497e-01,  -3.39035556e-04,\n",
       "         -3.25093881e-03,   1.24877877e-04,   3.09100709e-03,\n",
       "         -5.02916828e-03,  -7.62151887e-02],\n",
       "       [  9.22886948e-04,   4.44514938e-04,  -1.76509860e-03,\n",
       "          6.65358861e-04,   4.32312545e-03,  -2.60366696e-03,\n",
       "         -2.23068014e-03,  -4.28425597e-04,  -9.48822235e-04,\n",
       "         -1.07509156e-04,   1.39021105e-03,   4.42803349e-04,\n",
       "         -6.81890615e-04,  -1.75732012e-03,  -1.42206687e-04,\n",
       "         -1.10979629e-03,   5.33190086e-04,   2.67321740e-04,\n",
       "         -1.73897465e-03,   5.40924544e-04,   1.90555109e-03,\n",
       "          5.49125370e-04,  -3.39035556e-04,   3.67217212e-01,\n",
       "         -2.09808534e-05,   3.65633859e-05,  -9.17821395e-04,\n",
       "          3.52312380e-04,   1.05972517e-03],\n",
       "       [  5.45562432e-03,   3.78351693e-03,   2.00525829e-03,\n",
       "         -2.12367910e-04,   1.11127529e-03,  -2.48004604e-05,\n",
       "         -3.80010095e-03,  -1.96514576e-03,  -6.79197441e-04,\n",
       "         -1.22489012e-03,  -7.04791508e-04,   1.16200035e-03,\n",
       "          3.75592487e-04,   1.61005993e-03,   2.46694410e-04,\n",
       "         -1.39229077e-03,   1.27058567e-03,  -7.64286016e-04,\n",
       "          9.22443440e-04,  -2.67842436e-03,  -6.23363467e-04,\n",
       "          5.84923720e-04,  -3.25093881e-03,  -2.09808534e-05,\n",
       "          2.68109108e-01,  -2.99053117e-04,  -2.38203179e-04,\n",
       "          5.15088340e-04,  -2.91353563e-02],\n",
       "       [  1.54939939e-03,  -1.90916604e-04,   4.20043676e-04,\n",
       "         -5.25810996e-04,   1.58859165e-03,   1.05748580e-03,\n",
       "          4.99962374e-04,   5.20024267e-04,   5.19794232e-04,\n",
       "          8.22104945e-04,  -7.68872094e-04,   8.05962840e-04,\n",
       "          6.64672250e-04,   1.60491908e-03,  -1.13167842e-03,\n",
       "          1.10777268e-03,   2.79098488e-04,  -7.64573098e-05,\n",
       "         -6.99698587e-04,   2.26092739e-04,   1.51006579e-04,\n",
       "         -1.37448714e-04,   1.24877877e-04,   3.65633859e-05,\n",
       "         -2.99053117e-04,   2.32724679e-01,  -2.30365758e-04,\n",
       "          3.61485356e-04,  -2.34735066e-03],\n",
       "       [  1.77006833e-02,   1.08936520e-02,   6.39378676e-03,\n",
       "         -5.44187764e-03,   5.38195644e-03,  -5.91670664e-03,\n",
       "         -1.27659684e-02,   1.83956672e-03,  -5.34251750e-03,\n",
       "         -7.61866909e-03,  -4.86393298e-03,   1.33382635e-03,\n",
       "         -2.10689237e-03,   5.94979286e-03,  -3.70219623e-03,\n",
       "         -2.41638446e-03,   2.16673942e-03,   1.37587205e-03,\n",
       "         -2.54440793e-03,   1.64271915e-02,   1.78400990e-03,\n",
       "          5.28637393e-04,   3.09100709e-03,  -9.17821395e-04,\n",
       "         -2.38203179e-04,  -2.30365758e-04,   1.61360444e-01,\n",
       "         -1.70807052e-04,   3.85894741e-03],\n",
       "       [ -2.31847749e-02,  -1.90348797e-02,  -9.81237048e-03,\n",
       "          6.64110444e-03,  -2.58579700e-03,   8.27376385e-04,\n",
       "          2.21672182e-03,  -4.80407548e-03,   2.64517862e-03,\n",
       "          3.20431363e-04,   1.02900490e-03,   1.53340705e-03,\n",
       "          1.22126451e-03,   1.31746371e-03,   2.60613527e-03,\n",
       "          3.55515577e-03,  -6.69373191e-04,  -1.40244489e-03,\n",
       "          1.43631509e-03,  -1.18937799e-02,  -6.98721967e-03,\n",
       "          4.86225196e-04,  -5.02916828e-03,   3.52312380e-04,\n",
       "          5.15088340e-04,   3.61485356e-04,  -1.70807052e-04,\n",
       "          1.13317526e-01,   8.99022766e-03],\n",
       "       [ -4.31854759e-01,  -8.53876116e-01,  -3.04498612e-01,\n",
       "          1.31469284e-01,  -5.15116847e-01,   2.75073811e-01,\n",
       "          4.64369851e-01,  -1.17937527e-01,  -4.76254828e-02,\n",
       "         -1.05713009e-01,  -1.11783940e-03,  -4.76735186e-03,\n",
       "          2.98204899e-03,   3.19738193e-02,  -6.49429013e-03,\n",
       "         -6.56744382e-03,   8.25512208e-03,   2.89593574e-02,\n",
       "         -5.07625254e-02,   2.70139197e-01,   8.25498528e-02,\n",
       "         -4.84292667e-02,  -7.62151887e-02,   1.05972517e-03,\n",
       "         -2.91353563e-02,  -2.34735066e-03,   3.85894741e-03,\n",
       "          8.99022766e-03,   9.71143058e-01]])"
      ]
     },
     "execution_count": 52,
     "metadata": {},
     "output_type": "execute_result"
    }
   ],
   "source": [
    "Sigma"
   ]
  },
  {
   "cell_type": "code",
   "execution_count": 53,
   "metadata": {},
   "outputs": [
    {
     "data": {
      "text/plain": [
       "(29, 29)"
      ]
     },
     "execution_count": 53,
     "metadata": {},
     "output_type": "execute_result"
    }
   ],
   "source": [
    "Sigma.shape"
   ]
  },
  {
   "cell_type": "code",
   "execution_count": 54,
   "metadata": {
    "collapsed": true
   },
   "outputs": [],
   "source": [
    "model = multivariate_normal(cov=Sigma, mean=mu)"
   ]
  },
  {
   "cell_type": "code",
   "execution_count": 55,
   "metadata": {},
   "outputs": [
    {
     "data": {
      "text/plain": [
       "<scipy.stats._multivariate.multivariate_normal_frozen at 0x7f26f8fb6cd0>"
      ]
     },
     "execution_count": 55,
     "metadata": {},
     "output_type": "execute_result"
    }
   ],
   "source": [
    "model"
   ]
  },
  {
   "cell_type": "code",
   "execution_count": 63,
   "metadata": {},
   "outputs": [
    {
     "data": {
      "text/plain": [
       "(3.3748177797006406e-10, 2.3051335684159874e-30)"
      ]
     },
     "execution_count": 63,
     "metadata": {},
     "output_type": "execute_result"
    }
   ],
   "source": [
    "model.pdf(0.1), model.pdf(1) "
   ]
  },
  {
   "cell_type": "code",
   "execution_count": 58,
   "metadata": {},
   "outputs": [
    {
     "data": {
      "text/plain": [
       "-21.809509598273351"
      ]
     },
     "execution_count": 58,
     "metadata": {},
     "output_type": "execute_result"
    }
   ],
   "source": [
    "model.logpdf(0.1)"
   ]
  },
  {
   "cell_type": "markdown",
   "metadata": {},
   "source": [
    "Since, the probabilities here are very small number, we work with logarithms"
   ]
  },
  {
   "cell_type": "code",
   "execution_count": 64,
   "metadata": {},
   "outputs": [
    {
     "data": {
      "text/plain": [
       "-30.040188639211298"
      ]
     },
     "execution_count": 64,
     "metadata": {},
     "output_type": "execute_result"
    }
   ],
   "source": [
    "np.median(model.logpdf(NormalTrain.drop('Class', axis=1).values))"
   ]
  },
  {
   "cell_type": "code",
   "execution_count": 66,
   "metadata": {},
   "outputs": [
    {
     "data": {
      "text/plain": [
       "-30.056938322493451"
      ]
     },
     "execution_count": 66,
     "metadata": {},
     "output_type": "execute_result"
    }
   ],
   "source": [
    "np.median(model.logpdf(NormalValidate.drop('Class', axis=1).values))"
   ]
  },
  {
   "cell_type": "code",
   "execution_count": 71,
   "metadata": {},
   "outputs": [
    {
     "data": {
      "text/plain": [
       "-30.062984443568425"
      ]
     },
     "execution_count": 71,
     "metadata": {},
     "output_type": "execute_result"
    }
   ],
   "source": [
    "np.median(model.logpdf(NormalTest.drop('Class', axis=1).values))"
   ]
  },
  {
   "cell_type": "code",
   "execution_count": 72,
   "metadata": {},
   "outputs": [
    {
     "data": {
      "text/plain": [
       "-704.52681524032346"
      ]
     },
     "execution_count": 72,
     "metadata": {},
     "output_type": "execute_result"
    }
   ],
   "source": [
    "np.median(model.logpdf(FraudTest.drop('Class', axis=1).values))"
   ]
  },
  {
   "cell_type": "code",
   "execution_count": 73,
   "metadata": {},
   "outputs": [
    {
     "data": {
      "text/plain": [
       "-643.73247494767838"
      ]
     },
     "execution_count": 73,
     "metadata": {},
     "output_type": "execute_result"
    }
   ],
   "source": [
    "np.median(model.logpdf(FraudValidate.drop('Class', axis=1).values))"
   ]
  },
  {
   "cell_type": "code",
   "execution_count": null,
   "metadata": {
    "collapsed": true
   },
   "outputs": [],
   "source": []
  },
  {
   "cell_type": "code",
   "execution_count": 74,
   "metadata": {},
   "outputs": [
    {
     "data": {
      "text/plain": [
       "-35.871605067214496"
      ]
     },
     "execution_count": 74,
     "metadata": {},
     "output_type": "execute_result"
    }
   ],
   "source": [
    "np.mean(model.logpdf(NormalTrain.drop('Class', axis=1).values))"
   ]
  },
  {
   "cell_type": "code",
   "execution_count": 75,
   "metadata": {},
   "outputs": [
    {
     "data": {
      "text/plain": [
       "-35.753182475971776"
      ]
     },
     "execution_count": 75,
     "metadata": {},
     "output_type": "execute_result"
    }
   ],
   "source": [
    "np.mean(model.logpdf(NormalTest.drop('Class', axis=1).values))"
   ]
  },
  {
   "cell_type": "code",
   "execution_count": 76,
   "metadata": {},
   "outputs": [
    {
     "data": {
      "text/plain": [
       "-36.11508558415504"
      ]
     },
     "execution_count": 76,
     "metadata": {},
     "output_type": "execute_result"
    }
   ],
   "source": [
    "np.mean(model.logpdf(NormalValidate.drop('Class', axis=1).values))"
   ]
  },
  {
   "cell_type": "code",
   "execution_count": 77,
   "metadata": {},
   "outputs": [
    {
     "data": {
      "text/plain": [
       "-1668.5579545688915"
      ]
     },
     "execution_count": 77,
     "metadata": {},
     "output_type": "execute_result"
    }
   ],
   "source": [
    "np.mean(model.logpdf(FraudTest.drop('Class', axis=1).values))"
   ]
  },
  {
   "cell_type": "code",
   "execution_count": 78,
   "metadata": {},
   "outputs": [
    {
     "data": {
      "text/plain": [
       "-1566.1077589772622"
      ]
     },
     "execution_count": 78,
     "metadata": {},
     "output_type": "execute_result"
    }
   ],
   "source": [
    "np.mean(model.logpdf(FraudValidate.drop('Class', axis=1).values))"
   ]
  },
  {
   "cell_type": "markdown",
   "metadata": {},
   "source": [
    "It's clear that the Fraud examples are prominently in the tail"
   ]
  },
  {
   "cell_type": "code",
   "execution_count": 79,
   "metadata": {},
   "outputs": [
    {
     "data": {
      "text/plain": [
       "-7575.433100764606"
      ]
     },
     "execution_count": 79,
     "metadata": {},
     "output_type": "execute_result"
    }
   ],
   "source": [
    "np.min(model.logpdf(NormalTrain.drop('Class', axis=1).values))"
   ]
  },
  {
   "cell_type": "code",
   "execution_count": 80,
   "metadata": {},
   "outputs": [
    {
     "data": {
      "text/plain": [
       "-26.474251406819874"
      ]
     },
     "execution_count": 80,
     "metadata": {},
     "output_type": "execute_result"
    }
   ],
   "source": [
    "np.max(model.logpdf(FraudValidate.drop('Class', axis=1).values))"
   ]
  },
  {
   "cell_type": "code",
   "execution_count": 87,
   "metadata": {},
   "outputs": [
    {
     "data": {
      "image/png": "[encoded data removed]",
      "text/plain": [
       "<matplotlib.figure.Figure at 0x7f26ef1e9950>"
      ]
     },
     "metadata": {},
     "output_type": "display_data"
    }
   ],
   "source": [
    "plt.hist(model.logpdf(NormalTrain.drop('Class', axis=1).values), bins = 20);"
   ]
  },
  {
   "cell_type": "code",
   "execution_count": 88,
   "metadata": {},
   "outputs": [
    {
     "data": {
      "image/png": "[encoded data removed]",
      "text/plain": [
       "<matplotlib.figure.Figure at 0x7f26ef1d3210>"
      ]
     },
     "metadata": {},
     "output_type": "display_data"
    }
   ],
   "source": [
    "plt.hist(model.logpdf(FraudValidate.drop('Class', axis=1).values), bins = 20);"
   ]
  },
  {
   "cell_type": "code",
   "execution_count": 89,
   "metadata": {},
   "outputs": [
    {
     "data": {
      "image/png": "[encoded data removed]",
      "text/plain": [
       "<matplotlib.figure.Figure at 0x7f26ef390390>"
      ]
     },
     "metadata": {},
     "output_type": "display_data"
    }
   ],
   "source": [
    "plt.hist(model.logpdf(FraudTest.drop('Class', axis=1).values), bins = 20);"
   ]
  },
  {
   "cell_type": "markdown",
   "metadata": {},
   "source": [
    "We immediately see a problem. The anomalous examples have a feature distribution which is not in the tails and at the same time, normal examples could also have a feature distribution which is in the tails.\n",
    "\n",
    "Nonetheless, let's go ahead and look at the precision/ recall scores as a function of threshold. And remember we will be doing this on the cross validation set. Note to build our validation set, we concatenate the normal and fraud examples in the validation set. "
   ]
  },
  {
   "cell_type": "code",
   "execution_count": 96,
   "metadata": {},
   "outputs": [
    {
     "data": {
      "text/plain": [
       "array([1, 1, 0, 1, 1, 1, 1, 1, 1, 1, 1, 1, 1, 1, 1, 1, 1, 1, 0, 1, 1, 0, 1,\n",
       "       1, 1, 0, 1, 1, 0, 1, 1, 1, 1, 0, 1, 1, 0, 1, 1, 0, 1, 1, 0, 1, 1, 1,\n",
       "       1, 1, 1, 1, 0, 1, 1, 0, 1, 1, 0, 1, 1, 1, 1, 1, 1, 1, 1, 1, 1, 1, 1,\n",
       "       1, 0, 1, 1, 1, 0, 1, 1, 0, 1, 1, 1, 1, 0, 1, 0, 1, 0, 0, 1, 1, 1, 1,\n",
       "       1, 0, 0, 1, 1, 1, 1, 1, 1, 1, 1, 1, 1, 1, 1, 1, 1, 1, 1, 1, 1, 1, 1,\n",
       "       1, 1, 1, 1, 1, 0, 1, 1, 1, 1, 1, 1, 1, 1, 1, 1, 1, 1, 1, 1, 1, 1, 1,\n",
       "       1, 1, 0, 1, 1, 0, 1, 1, 0, 1, 0, 0, 1, 1, 1, 1, 1, 1, 1, 1, 1, 1, 1,\n",
       "       1, 1, 1, 1, 1, 1, 1, 1, 0, 0, 0, 1, 0, 1, 0, 1, 1, 1, 0, 1, 1, 1, 1,\n",
       "       1, 1, 1, 0, 1, 1, 1, 1, 1, 0, 1, 1, 1, 1, 1, 1, 1, 1, 1, 1, 1, 0, 0,\n",
       "       0, 1, 0, 1, 0, 1, 0, 1, 0, 1, 1, 1, 1, 1, 1, 1, 0, 1, 0, 1, 1, 1, 1,\n",
       "       0, 0, 1, 1, 1, 0, 1, 1, 1, 1, 1, 1, 0, 1, 1, 1])"
      ]
     },
     "execution_count": 96,
     "metadata": {},
     "output_type": "execute_result"
    }
   ],
   "source": [
    "(model.logpdf(FraudValidate.drop('Class', axis=1).values) < -100).astype(int)"
   ]
  },
  {
   "cell_type": "code",
   "execution_count": 97,
   "metadata": {
    "collapsed": true
   },
   "outputs": [],
   "source": [
    "Validate = pd.concat([NormalValidate, FraudValidate])"
   ]
  },
  {
   "cell_type": "code",
   "execution_count": 99,
   "metadata": {},
   "outputs": [
    {
     "data": {
      "text/html": [
       "<div>\n",
       "<style>\n",
       "    .dataframe thead tr:only-child th {\n",
       "        text-align: right;\n",
       "    }\n",
       "\n",
       "    .dataframe thead th {\n",
       "        text-align: left;\n",
       "    }\n",
       "\n",
       "    .dataframe tbody tr th {\n",
       "        vertical-align: top;\n",
       "    }\n",
       "</style>\n",
       "<table border=\"1\" class=\"dataframe\">\n",
       "  <thead>\n",
       "    <tr style=\"text-align: right;\">\n",
       "      <th></th>\n",
       "      <th>V1</th>\n",
       "      <th>V2</th>\n",
       "      <th>V3</th>\n",
       "      <th>V4</th>\n",
       "      <th>V5</th>\n",
       "      <th>V6</th>\n",
       "      <th>V7</th>\n",
       "      <th>V8</th>\n",
       "      <th>V9</th>\n",
       "      <th>V10</th>\n",
       "      <th>...</th>\n",
       "      <th>V21</th>\n",
       "      <th>V22</th>\n",
       "      <th>V23</th>\n",
       "      <th>V24</th>\n",
       "      <th>V25</th>\n",
       "      <th>V26</th>\n",
       "      <th>V27</th>\n",
       "      <th>V28</th>\n",
       "      <th>Class</th>\n",
       "      <th>normAmount</th>\n",
       "    </tr>\n",
       "  </thead>\n",
       "  <tbody>\n",
       "    <tr>\n",
       "      <th>83396</th>\n",
       "      <td>0.838976</td>\n",
       "      <td>-1.312336</td>\n",
       "      <td>0.479948</td>\n",
       "      <td>-1.268141</td>\n",
       "      <td>-1.405630</td>\n",
       "      <td>-0.355518</td>\n",
       "      <td>-0.540094</td>\n",
       "      <td>0.092694</td>\n",
       "      <td>1.786481</td>\n",
       "      <td>-1.067959</td>\n",
       "      <td>...</td>\n",
       "      <td>0.264879</td>\n",
       "      <td>0.479762</td>\n",
       "      <td>-0.337600</td>\n",
       "      <td>0.069668</td>\n",
       "      <td>0.396941</td>\n",
       "      <td>0.096965</td>\n",
       "      <td>-0.003580</td>\n",
       "      <td>0.045458</td>\n",
       "      <td>0</td>\n",
       "      <td>0.514355</td>\n",
       "    </tr>\n",
       "    <tr>\n",
       "      <th>267088</th>\n",
       "      <td>2.151710</td>\n",
       "      <td>-0.805652</td>\n",
       "      <td>-0.730330</td>\n",
       "      <td>-0.618679</td>\n",
       "      <td>-0.535349</td>\n",
       "      <td>0.078233</td>\n",
       "      <td>-0.833660</td>\n",
       "      <td>-0.054197</td>\n",
       "      <td>-0.156326</td>\n",
       "      <td>0.765813</td>\n",
       "      <td>...</td>\n",
       "      <td>-0.656489</td>\n",
       "      <td>-1.329040</td>\n",
       "      <td>0.450422</td>\n",
       "      <td>0.057924</td>\n",
       "      <td>-0.614261</td>\n",
       "      <td>0.236217</td>\n",
       "      <td>-0.014512</td>\n",
       "      <td>-0.034251</td>\n",
       "      <td>0</td>\n",
       "      <td>-0.269509</td>\n",
       "    </tr>\n",
       "    <tr>\n",
       "      <th>62489</th>\n",
       "      <td>1.065918</td>\n",
       "      <td>-0.701800</td>\n",
       "      <td>0.585918</td>\n",
       "      <td>-0.215388</td>\n",
       "      <td>-0.485223</td>\n",
       "      <td>1.029476</td>\n",
       "      <td>-0.793134</td>\n",
       "      <td>0.381710</td>\n",
       "      <td>0.893662</td>\n",
       "      <td>-0.298974</td>\n",
       "      <td>...</td>\n",
       "      <td>-0.068993</td>\n",
       "      <td>-0.172295</td>\n",
       "      <td>-0.134280</td>\n",
       "      <td>-1.055628</td>\n",
       "      <td>0.138537</td>\n",
       "      <td>1.066278</td>\n",
       "      <td>-0.037146</td>\n",
       "      <td>0.004392</td>\n",
       "      <td>0</td>\n",
       "      <td>-0.013592</td>\n",
       "    </tr>\n",
       "    <tr>\n",
       "      <th>24202</th>\n",
       "      <td>-1.773704</td>\n",
       "      <td>1.272402</td>\n",
       "      <td>-1.544407</td>\n",
       "      <td>-3.802906</td>\n",
       "      <td>2.225204</td>\n",
       "      <td>3.694046</td>\n",
       "      <td>-0.880167</td>\n",
       "      <td>-4.234330</td>\n",
       "      <td>1.451294</td>\n",
       "      <td>-0.809141</td>\n",
       "      <td>...</td>\n",
       "      <td>4.475575</td>\n",
       "      <td>-1.367460</td>\n",
       "      <td>0.303548</td>\n",
       "      <td>0.990597</td>\n",
       "      <td>0.039447</td>\n",
       "      <td>-0.166861</td>\n",
       "      <td>0.537489</td>\n",
       "      <td>0.002988</td>\n",
       "      <td>0</td>\n",
       "      <td>-0.113344</td>\n",
       "    </tr>\n",
       "    <tr>\n",
       "      <th>195982</th>\n",
       "      <td>-0.415784</td>\n",
       "      <td>1.131399</td>\n",
       "      <td>-0.317913</td>\n",
       "      <td>-0.987318</td>\n",
       "      <td>0.773693</td>\n",
       "      <td>0.081082</td>\n",
       "      <td>0.271282</td>\n",
       "      <td>-1.506520</td>\n",
       "      <td>0.035813</td>\n",
       "      <td>-0.071557</td>\n",
       "      <td>...</td>\n",
       "      <td>1.240946</td>\n",
       "      <td>-1.240830</td>\n",
       "      <td>0.167143</td>\n",
       "      <td>-1.097380</td>\n",
       "      <td>-0.375726</td>\n",
       "      <td>0.199518</td>\n",
       "      <td>0.305005</td>\n",
       "      <td>0.091164</td>\n",
       "      <td>0</td>\n",
       "      <td>-0.349671</td>\n",
       "    </tr>\n",
       "  </tbody>\n",
       "</table>\n",
       "<p>5 rows × 30 columns</p>\n",
       "</div>"
      ],
      "text/plain": [
       "              V1        V2        V3        V4        V5        V6        V7  \\\n",
       "83396   0.838976 -1.312336  0.479948 -1.268141 -1.405630 -0.355518 -0.540094   \n",
       "267088  2.151710 -0.805652 -0.730330 -0.618679 -0.535349  0.078233 -0.833660   \n",
       "62489   1.065918 -0.701800  0.585918 -0.215388 -0.485223  1.029476 -0.793134   \n",
       "24202  -1.773704  1.272402 -1.544407 -3.802906  2.225204  3.694046 -0.880167   \n",
       "195982 -0.415784  1.131399 -0.317913 -0.987318  0.773693  0.081082  0.271282   \n",
       "\n",
       "              V8        V9       V10     ...           V21       V22  \\\n",
       "83396   0.092694  1.786481 -1.067959     ...      0.264879  0.479762   \n",
       "267088 -0.054197 -0.156326  0.765813     ...     -0.656489 -1.329040   \n",
       "62489   0.381710  0.893662 -0.298974     ...     -0.068993 -0.172295   \n",
       "24202  -4.234330  1.451294 -0.809141     ...      4.475575 -1.367460   \n",
       "195982 -1.506520  0.035813 -0.071557     ...      1.240946 -1.240830   \n",
       "\n",
       "             V23       V24       V25       V26       V27       V28  Class  \\\n",
       "83396  -0.337600  0.069668  0.396941  0.096965 -0.003580  0.045458      0   \n",
       "267088  0.450422  0.057924 -0.614261  0.236217 -0.014512 -0.034251      0   \n",
       "62489  -0.134280 -1.055628  0.138537  1.066278 -0.037146  0.004392      0   \n",
       "24202   0.303548  0.990597  0.039447 -0.166861  0.537489  0.002988      0   \n",
       "195982  0.167143 -1.097380 -0.375726  0.199518  0.305005  0.091164      0   \n",
       "\n",
       "        normAmount  \n",
       "83396     0.514355  \n",
       "267088   -0.269509  \n",
       "62489    -0.013592  \n",
       "24202    -0.113344  \n",
       "195982   -0.349671  \n",
       "\n",
       "[5 rows x 30 columns]"
      ]
     },
     "execution_count": 99,
     "metadata": {},
     "output_type": "execute_result"
    }
   ],
   "source": [
    "Validate.head()"
   ]
  },
  {
   "cell_type": "code",
   "execution_count": 100,
   "metadata": {},
   "outputs": [
    {
     "data": {
      "text/html": [
       "<div>\n",
       "<style>\n",
       "    .dataframe thead tr:only-child th {\n",
       "        text-align: right;\n",
       "    }\n",
       "\n",
       "    .dataframe thead th {\n",
       "        text-align: left;\n",
       "    }\n",
       "\n",
       "    .dataframe tbody tr th {\n",
       "        vertical-align: top;\n",
       "    }\n",
       "</style>\n",
       "<table border=\"1\" class=\"dataframe\">\n",
       "  <thead>\n",
       "    <tr style=\"text-align: right;\">\n",
       "      <th></th>\n",
       "      <th>V1</th>\n",
       "      <th>V2</th>\n",
       "      <th>V3</th>\n",
       "      <th>V4</th>\n",
       "      <th>V5</th>\n",
       "      <th>V6</th>\n",
       "      <th>V7</th>\n",
       "      <th>V8</th>\n",
       "      <th>V9</th>\n",
       "      <th>V10</th>\n",
       "      <th>...</th>\n",
       "      <th>V21</th>\n",
       "      <th>V22</th>\n",
       "      <th>V23</th>\n",
       "      <th>V24</th>\n",
       "      <th>V25</th>\n",
       "      <th>V26</th>\n",
       "      <th>V27</th>\n",
       "      <th>V28</th>\n",
       "      <th>Class</th>\n",
       "      <th>normAmount</th>\n",
       "    </tr>\n",
       "  </thead>\n",
       "  <tbody>\n",
       "    <tr>\n",
       "      <th>220725</th>\n",
       "      <td>-1.169203</td>\n",
       "      <td>1.863414</td>\n",
       "      <td>-2.515135</td>\n",
       "      <td>5.463681</td>\n",
       "      <td>-0.297971</td>\n",
       "      <td>1.364918</td>\n",
       "      <td>0.759219</td>\n",
       "      <td>-0.118861</td>\n",
       "      <td>-2.293921</td>\n",
       "      <td>-0.423784</td>\n",
       "      <td>...</td>\n",
       "      <td>-0.393090</td>\n",
       "      <td>-0.708692</td>\n",
       "      <td>0.471309</td>\n",
       "      <td>-0.078616</td>\n",
       "      <td>-0.544655</td>\n",
       "      <td>0.014777</td>\n",
       "      <td>-0.240930</td>\n",
       "      <td>-0.781055</td>\n",
       "      <td>1</td>\n",
       "      <td>0.944509</td>\n",
       "    </tr>\n",
       "    <tr>\n",
       "      <th>251881</th>\n",
       "      <td>1.868226</td>\n",
       "      <td>1.363077</td>\n",
       "      <td>-1.994934</td>\n",
       "      <td>4.173516</td>\n",
       "      <td>1.239751</td>\n",
       "      <td>-0.746186</td>\n",
       "      <td>0.572731</td>\n",
       "      <td>-0.131235</td>\n",
       "      <td>-1.551839</td>\n",
       "      <td>0.228849</td>\n",
       "      <td>...</td>\n",
       "      <td>-0.301001</td>\n",
       "      <td>-0.818972</td>\n",
       "      <td>0.206812</td>\n",
       "      <td>-0.263683</td>\n",
       "      <td>-0.114958</td>\n",
       "      <td>-0.240672</td>\n",
       "      <td>-0.006629</td>\n",
       "      <td>0.017258</td>\n",
       "      <td>1</td>\n",
       "      <td>-0.340675</td>\n",
       "    </tr>\n",
       "    <tr>\n",
       "      <th>42756</th>\n",
       "      <td>-10.645800</td>\n",
       "      <td>5.918307</td>\n",
       "      <td>-11.671043</td>\n",
       "      <td>8.807369</td>\n",
       "      <td>-7.975501</td>\n",
       "      <td>-3.586806</td>\n",
       "      <td>-13.616797</td>\n",
       "      <td>6.428169</td>\n",
       "      <td>-7.368451</td>\n",
       "      <td>-12.888158</td>\n",
       "      <td>...</td>\n",
       "      <td>2.571970</td>\n",
       "      <td>0.206809</td>\n",
       "      <td>-1.667801</td>\n",
       "      <td>0.558419</td>\n",
       "      <td>-0.027898</td>\n",
       "      <td>0.354254</td>\n",
       "      <td>0.273329</td>\n",
       "      <td>-0.152908</td>\n",
       "      <td>1</td>\n",
       "      <td>-0.353229</td>\n",
       "    </tr>\n",
       "    <tr>\n",
       "      <th>143728</th>\n",
       "      <td>-1.756712</td>\n",
       "      <td>3.266574</td>\n",
       "      <td>-4.153388</td>\n",
       "      <td>3.924526</td>\n",
       "      <td>-1.753772</td>\n",
       "      <td>-1.005787</td>\n",
       "      <td>-4.313217</td>\n",
       "      <td>1.560712</td>\n",
       "      <td>-3.295674</td>\n",
       "      <td>-6.213355</td>\n",
       "      <td>...</td>\n",
       "      <td>0.911427</td>\n",
       "      <td>0.053061</td>\n",
       "      <td>-0.367701</td>\n",
       "      <td>-0.776338</td>\n",
       "      <td>0.292094</td>\n",
       "      <td>0.026000</td>\n",
       "      <td>1.062968</td>\n",
       "      <td>0.501148</td>\n",
       "      <td>1</td>\n",
       "      <td>-0.349231</td>\n",
       "    </tr>\n",
       "    <tr>\n",
       "      <th>153823</th>\n",
       "      <td>-19.641857</td>\n",
       "      <td>14.706335</td>\n",
       "      <td>-22.801238</td>\n",
       "      <td>12.114672</td>\n",
       "      <td>-14.898113</td>\n",
       "      <td>0.840778</td>\n",
       "      <td>-28.011293</td>\n",
       "      <td>-11.919639</td>\n",
       "      <td>-8.960922</td>\n",
       "      <td>-18.913243</td>\n",
       "      <td>...</td>\n",
       "      <td>-8.228874</td>\n",
       "      <td>3.318178</td>\n",
       "      <td>2.585212</td>\n",
       "      <td>0.195009</td>\n",
       "      <td>-1.194803</td>\n",
       "      <td>0.038423</td>\n",
       "      <td>-4.126746</td>\n",
       "      <td>-0.645329</td>\n",
       "      <td>1</td>\n",
       "      <td>-0.344114</td>\n",
       "    </tr>\n",
       "  </tbody>\n",
       "</table>\n",
       "<p>5 rows × 30 columns</p>\n",
       "</div>"
      ],
      "text/plain": [
       "               V1         V2         V3         V4         V5        V6  \\\n",
       "220725  -1.169203   1.863414  -2.515135   5.463681  -0.297971  1.364918   \n",
       "251881   1.868226   1.363077  -1.994934   4.173516   1.239751 -0.746186   \n",
       "42756  -10.645800   5.918307 -11.671043   8.807369  -7.975501 -3.586806   \n",
       "143728  -1.756712   3.266574  -4.153388   3.924526  -1.753772 -1.005787   \n",
       "153823 -19.641857  14.706335 -22.801238  12.114672 -14.898113  0.840778   \n",
       "\n",
       "               V7         V8        V9        V10     ...           V21  \\\n",
       "220725   0.759219  -0.118861 -2.293921  -0.423784     ...     -0.393090   \n",
       "251881   0.572731  -0.131235 -1.551839   0.228849     ...     -0.301001   \n",
       "42756  -13.616797   6.428169 -7.368451 -12.888158     ...      2.571970   \n",
       "143728  -4.313217   1.560712 -3.295674  -6.213355     ...      0.911427   \n",
       "153823 -28.011293 -11.919639 -8.960922 -18.913243     ...     -8.228874   \n",
       "\n",
       "             V22       V23       V24       V25       V26       V27       V28  \\\n",
       "220725 -0.708692  0.471309 -0.078616 -0.544655  0.014777 -0.240930 -0.781055   \n",
       "251881 -0.818972  0.206812 -0.263683 -0.114958 -0.240672 -0.006629  0.017258   \n",
       "42756   0.206809 -1.667801  0.558419 -0.027898  0.354254  0.273329 -0.152908   \n",
       "143728  0.053061 -0.367701 -0.776338  0.292094  0.026000  1.062968  0.501148   \n",
       "153823  3.318178  2.585212  0.195009 -1.194803  0.038423 -4.126746 -0.645329   \n",
       "\n",
       "        Class  normAmount  \n",
       "220725      1    0.944509  \n",
       "251881      1   -0.340675  \n",
       "42756       1   -0.353229  \n",
       "143728      1   -0.349231  \n",
       "153823      1   -0.344114  \n",
       "\n",
       "[5 rows x 30 columns]"
      ]
     },
     "execution_count": 100,
     "metadata": {},
     "output_type": "execute_result"
    }
   ],
   "source": [
    "Validate.tail()"
   ]
  },
  {
   "cell_type": "markdown",
   "metadata": {},
   "source": [
    "Looking at the histograms above, we see that we can set the lowest threshold (on logprobability) at -1000 and work our way upwards. "
   ]
  },
  {
   "cell_type": "code",
   "execution_count": 117,
   "metadata": {
    "collapsed": true
   },
   "outputs": [],
   "source": [
    "thresholds = np.linspace(-1000,-10, 400)"
   ]
  },
  {
   "cell_type": "code",
   "execution_count": 118,
   "metadata": {
    "collapsed": true
   },
   "outputs": [],
   "source": [
    "scores = []\n",
    "for threshold in thresholds:\n",
    "    y_hat = (model.logpdf(Validate.drop('Class', axis = 1).values) < threshold).astype(int)\n",
    "    scores.append([recall_score(y_pred = y_hat, y_true = Validate['Class'].values), \\\n",
    "                  precision_score(y_pred = y_hat, y_true = Validate['Class'].values), \\\n",
    "                  f1_score(y_pred = y_hat, y_true = Validate['Class'].values)])"
   ]
  },
  {
   "cell_type": "code",
   "execution_count": 119,
   "metadata": {},
   "outputs": [],
   "source": [
    "scores = np.array(scores)"
   ]
  },
  {
   "cell_type": "code",
   "execution_count": 120,
   "metadata": {},
   "outputs": [
    {
     "data": {
      "text/plain": [
       "array([[ 0.35772358,  0.73333333,  0.48087432],\n",
       "       [ 0.35772358,  0.73333333,  0.48087432],\n",
       "       [ 0.35772358,  0.73333333,  0.48087432],\n",
       "       ..., \n",
       "       [ 1.        ,  0.00430755,  0.00857815],\n",
       "       [ 1.        ,  0.00430755,  0.00857815],\n",
       "       [ 1.        ,  0.00430755,  0.00857815]])"
      ]
     },
     "execution_count": 120,
     "metadata": {},
     "output_type": "execute_result"
    }
   ],
   "source": [
    "scores"
   ]
  },
  {
   "cell_type": "code",
   "execution_count": 121,
   "metadata": {},
   "outputs": [
    {
     "data": {
      "text/plain": [
       "0.63687150837988837"
      ]
     },
     "execution_count": 121,
     "metadata": {},
     "output_type": "execute_result"
    }
   ],
   "source": [
    "scores[:, 2].max() # Best F1 score"
   ]
  },
  {
   "cell_type": "code",
   "execution_count": 122,
   "metadata": {},
   "outputs": [
    {
     "data": {
      "text/plain": [
       "271"
      ]
     },
     "execution_count": 122,
     "metadata": {},
     "output_type": "execute_result"
    }
   ],
   "source": [
    "scores[:, 2].argmax()"
   ]
  },
  {
   "cell_type": "code",
   "execution_count": 125,
   "metadata": {},
   "outputs": [
    {
     "data": {
      "text/plain": [
       "-327.59398496240601"
      ]
     },
     "execution_count": 125,
     "metadata": {},
     "output_type": "execute_result"
    }
   ],
   "source": [
    "thresholds[271]"
   ]
  },
  {
   "cell_type": "code",
   "execution_count": 126,
   "metadata": {},
   "outputs": [
    {
     "data": {
      "text/plain": [
       "0.58762886597938147"
      ]
     },
     "execution_count": 126,
     "metadata": {},
     "output_type": "execute_result"
    }
   ],
   "source": [
    "scores[271, 1] # precision for the best F1 score"
   ]
  },
  {
   "cell_type": "code",
   "execution_count": 127,
   "metadata": {},
   "outputs": [
    {
     "data": {
      "text/plain": [
       "0.69512195121951215"
      ]
     },
     "execution_count": 127,
     "metadata": {},
     "output_type": "execute_result"
    }
   ],
   "source": [
    "scores[271, 0] # recall for the best F1 score"
   ]
  },
  {
   "cell_type": "markdown",
   "metadata": {},
   "source": [
    "Let's plot precision, recall, and F1 score as a function of threshold. "
   ]
  },
  {
   "cell_type": "code",
   "execution_count": 138,
   "metadata": {},
   "outputs": [
    {
     "data": {
      "image/png": "[encoded data removed]",
      "text/plain": [
       "<matplotlib.figure.Figure at 0x7f26dc16bb90>"
      ]
     },
     "metadata": {},
     "output_type": "display_data"
    }
   ],
   "source": [
    "plt.plot(thresholds, scores[:, 0], label = 'Recall');\n",
    "plt.plot(thresholds, scores[:, 1], label = 'Precision');\n",
    "plt.plot(thresholds, scores[:, 2], label = 'F1 score');\n",
    "plt.legend(loc = 'lower left');"
   ]
  },
  {
   "cell_type": "markdown",
   "metadata": {},
   "source": [
    "In this case, we want recall to be high. We want false negatives to be as low as possible. Let's choose threshold corresponding to recall = 80% and recall = 90 % and see the prediction on the test set. "
   ]
  },
  {
   "cell_type": "code",
   "execution_count": 171,
   "metadata": {},
   "outputs": [
    {
     "data": {
      "text/plain": [
       "array([361])"
      ]
     },
     "execution_count": 171,
     "metadata": {},
     "output_type": "execute_result"
    }
   ],
   "source": [
    "np.where(np.logical_and(scores[:, 0] > 0.798, scores[:, 0] < 0.801) == True)[0]"
   ]
  },
  {
   "cell_type": "code",
   "execution_count": 172,
   "metadata": {
    "collapsed": true
   },
   "outputs": [],
   "source": [
    "index80 = np.where(np.logical_and(scores[:, 0] > 0.798, scores[:, 0] < 0.801) == True)[0][0]"
   ]
  },
  {
   "cell_type": "code",
   "execution_count": 173,
   "metadata": {
    "collapsed": true
   },
   "outputs": [],
   "source": [
    "threshold80 = thresholds[index80]"
   ]
  },
  {
   "cell_type": "code",
   "execution_count": 174,
   "metadata": {},
   "outputs": [
    {
     "data": {
      "text/plain": [
       "-104.28571428571433"
      ]
     },
     "execution_count": 174,
     "metadata": {},
     "output_type": "execute_result"
    }
   ],
   "source": [
    "threshold80"
   ]
  },
  {
   "cell_type": "code",
   "execution_count": 176,
   "metadata": {},
   "outputs": [],
   "source": [
    "index90 = np.where(np.logical_and(scores[:, 0] > 0.898, scores[:, 0] < 0.901) == True)[0][0]"
   ]
  },
  {
   "cell_type": "code",
   "execution_count": 177,
   "metadata": {
    "collapsed": true
   },
   "outputs": [],
   "source": [
    "threshold90 = thresholds[index90]"
   ]
  },
  {
   "cell_type": "code",
   "execution_count": 178,
   "metadata": {},
   "outputs": [
    {
     "data": {
      "text/plain": [
       "-37.29323308270682"
      ]
     },
     "execution_count": 178,
     "metadata": {},
     "output_type": "execute_result"
    }
   ],
   "source": [
    "threshold90"
   ]
  },
  {
   "cell_type": "markdown",
   "metadata": {},
   "source": [
    "Before, we move on to the test set, let's plot confusion matrix for the cross validation set with these two thresholds. "
   ]
  },
  {
   "cell_type": "code",
   "execution_count": 179,
   "metadata": {
    "collapsed": true
   },
   "outputs": [],
   "source": [
    "yPred80 = (model.logpdf(Validate.drop('Class', axis = 1).values) < threshold80).astype(int)"
   ]
  },
  {
   "cell_type": "code",
   "execution_count": 189,
   "metadata": {},
   "outputs": [
    {
     "data": {
      "image/png": "[encoded data removed]",
      "text/plain": [
       "<matplotlib.figure.Figure at 0x7f26dc195550>"
      ]
     },
     "metadata": {},
     "output_type": "display_data"
    }
   ],
   "source": [
    "sns.heatmap(confusion_matrix(Validate['Class'].values, yPred80), annot=True, fmt = '.0f', annot_kws={'size': 14});\n",
    "plt.xlabel('Predicted label', fontsize = 16);\n",
    "plt.ylabel('Actual label', fontsize = 16);"
   ]
  },
  {
   "cell_type": "code",
   "execution_count": 192,
   "metadata": {},
   "outputs": [
    {
     "data": {
      "text/plain": [
       "0.80081300813008127"
      ]
     },
     "execution_count": 192,
     "metadata": {},
     "output_type": "execute_result"
    }
   ],
   "source": [
    "recall_score(y_pred = yPred80, y_true = Validate['Class'].values)"
   ]
  },
  {
   "cell_type": "markdown",
   "metadata": {},
   "source": [
    "Note if not preceded by y_pred and y_true, then the default arguments are given in the opposite order. "
   ]
  },
  {
   "cell_type": "code",
   "execution_count": 193,
   "metadata": {},
   "outputs": [
    {
     "data": {
      "text/plain": [
       "0.20435684647302904"
      ]
     },
     "execution_count": 193,
     "metadata": {},
     "output_type": "execute_result"
    }
   ],
   "source": [
    "precision_score(y_pred = yPred80, y_true = Validate['Class'].values)"
   ]
  },
  {
   "cell_type": "code",
   "execution_count": 194,
   "metadata": {},
   "outputs": [
    {
     "data": {
      "text/plain": [
       "0.32561983471074379"
      ]
     },
     "execution_count": 194,
     "metadata": {},
     "output_type": "execute_result"
    }
   ],
   "source": [
    "f1_score(y_pred = yPred80, y_true = Validate['Class'].values)"
   ]
  },
  {
   "cell_type": "markdown",
   "metadata": {},
   "source": [
    "Let's now look at the confusion matrix with the threshold at recall = 0.9"
   ]
  },
  {
   "cell_type": "code",
   "execution_count": 195,
   "metadata": {
    "collapsed": true
   },
   "outputs": [],
   "source": [
    "yPred90 = (model.logpdf(Validate.drop('Class', axis = 1).values) < threshold90).astype(int)"
   ]
  },
  {
   "cell_type": "code",
   "execution_count": 196,
   "metadata": {},
   "outputs": [
    {
     "data": {
      "image/png": "[encoded data removed]",
      "text/plain": [
       "<matplotlib.figure.Figure at 0x7f26f86212d0>"
      ]
     },
     "metadata": {},
     "output_type": "display_data"
    }
   ],
   "source": [
    "sns.heatmap(confusion_matrix(Validate['Class'].values, yPred90), annot=True, fmt = '.0f', annot_kws={'size': 14});\n",
    "plt.xlabel('Predicted label', fontsize = 16);\n",
    "plt.ylabel('Actual label', fontsize = 16);"
   ]
  },
  {
   "cell_type": "code",
   "execution_count": 197,
   "metadata": {},
   "outputs": [
    {
     "data": {
      "text/plain": [
       "0.89837398373983735"
      ]
     },
     "execution_count": 197,
     "metadata": {},
     "output_type": "execute_result"
    }
   ],
   "source": [
    "recall_score(y_pred = yPred90, y_true = Validate['Class'].values)"
   ]
  },
  {
   "cell_type": "markdown",
   "metadata": {},
   "source": [
    "Note if not preceded by y_pred and y_true, then the default arguments are given in the opposite order. "
   ]
  },
  {
   "cell_type": "code",
   "execution_count": 198,
   "metadata": {},
   "outputs": [
    {
     "data": {
      "text/plain": [
       "0.024060968971148611"
      ]
     },
     "execution_count": 198,
     "metadata": {},
     "output_type": "execute_result"
    }
   ],
   "source": [
    "precision_score(y_pred = yPred90, y_true = Validate['Class'].values)"
   ]
  },
  {
   "cell_type": "code",
   "execution_count": 199,
   "metadata": {},
   "outputs": [
    {
     "data": {
      "text/plain": [
       "0.046866716148870745"
      ]
     },
     "execution_count": 199,
     "metadata": {},
     "output_type": "execute_result"
    }
   ],
   "source": [
    "f1_score(y_pred = yPred90, y_true = Validate['Class'].values)"
   ]
  },
  {
   "cell_type": "code",
   "execution_count": null,
   "metadata": {
    "collapsed": true
   },
   "outputs": [],
   "source": []
  }
 ],
 "metadata": {
  "kernelspec": {
   "display_name": "Python 2",
   "language": "python",
   "name": "python2"
  },
  "language_info": {
   "codemirror_mode": {
    "name": "ipython",
    "version": 2
   },
   "file_extension": ".py",
   "mimetype": "text/x-python",
   "name": "python",
   "nbconvert_exporter": "python",
   "pygments_lexer": "ipython2",
   "version": "2.7.13"
  }
 },
 "nbformat": 4,
 "nbformat_minor": 2
}
