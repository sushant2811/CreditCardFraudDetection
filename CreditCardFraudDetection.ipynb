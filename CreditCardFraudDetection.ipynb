{
 "cells": [
  {
   "cell_type": "markdown",
   "metadata": {},
   "source": [
    "# Credit card fraud detection\n",
    "\n",
    "### Exploring the credit card transaction data to learn a model for anomalies. \n",
    "### Key concept: handling skewed data.\n",
    "\n",
    "#### Author: Sushant N. More\n",
    "\n",
    "#### Revision history: \n",
    "\n",
    "October 20, 2017: Started writing\n",
    "\n",
    "Borrows elements from the [this notebook](https://www.kaggle.com/joparga3/in-depth-skewed-data-classif-93-recall-acc-now/notebook) on Kaggle\n",
    "\n",
    "See the description for data [here](https://www.kaggle.com/dalpozz/creditcardfraud)\n"
   ]
  },
  {
   "cell_type": "markdown",
   "metadata": {},
   "source": [
    "### Brief summary:\n",
    "\n",
    "Logistic regression and support vector machine models are trained on a highly skewed data. This is accomplished through resampling (specifically undersampling). The parameters of the models are chosen through KFold cross validation to give a high recall accuracy.  \n",
    "\n",
    "For unseen data, logistic regression and SVM both give over 90% recall accuracy, with SVM doing slightly better. \n",
    "\n",
    "The notebook also does the ROC analysis and the looks at precision recall curves as a function of threshold."
   ]
  },
  {
   "cell_type": "code",
   "execution_count": 30,
   "metadata": {
    "collapsed": true
   },
   "outputs": [],
   "source": [
    "import pandas as pd\n",
    "import matplotlib.pyplot as plt\n",
    "import numpy as np\n",
    "import seaborn as sns\n",
    "\n",
    "%matplotlib inline"
   ]
  },
  {
   "cell_type": "markdown",
   "metadata": {},
   "source": [
    "Importing the data"
   ]
  },
  {
   "cell_type": "code",
   "execution_count": 31,
   "metadata": {
    "collapsed": true
   },
   "outputs": [],
   "source": [
    "df = pd.read_csv('./creditcard.csv')"
   ]
  },
  {
   "cell_type": "code",
   "execution_count": 32,
   "metadata": {},
   "outputs": [
    {
     "data": {
      "text/html": [
       "<div>\n",
       "<style>\n",
       "    .dataframe thead tr:only-child th {\n",
       "        text-align: right;\n",
       "    }\n",
       "\n",
       "    .dataframe thead th {\n",
       "        text-align: left;\n",
       "    }\n",
       "\n",
       "    .dataframe tbody tr th {\n",
       "        vertical-align: top;\n",
       "    }\n",
       "</style>\n",
       "<table border=\"1\" class=\"dataframe\">\n",
       "  <thead>\n",
       "    <tr style=\"text-align: right;\">\n",
       "      <th></th>\n",
       "      <th>Time</th>\n",
       "      <th>V1</th>\n",
       "      <th>V2</th>\n",
       "      <th>V3</th>\n",
       "      <th>V4</th>\n",
       "      <th>V5</th>\n",
       "      <th>V6</th>\n",
       "      <th>V7</th>\n",
       "      <th>V8</th>\n",
       "      <th>V9</th>\n",
       "      <th>...</th>\n",
       "      <th>V21</th>\n",
       "      <th>V22</th>\n",
       "      <th>V23</th>\n",
       "      <th>V24</th>\n",
       "      <th>V25</th>\n",
       "      <th>V26</th>\n",
       "      <th>V27</th>\n",
       "      <th>V28</th>\n",
       "      <th>Amount</th>\n",
       "      <th>Class</th>\n",
       "    </tr>\n",
       "  </thead>\n",
       "  <tbody>\n",
       "    <tr>\n",
       "      <th>0</th>\n",
       "      <td>0.0</td>\n",
       "      <td>-1.359807</td>\n",
       "      <td>-0.072781</td>\n",
       "      <td>2.536347</td>\n",
       "      <td>1.378155</td>\n",
       "      <td>-0.338321</td>\n",
       "      <td>0.462388</td>\n",
       "      <td>0.239599</td>\n",
       "      <td>0.098698</td>\n",
       "      <td>0.363787</td>\n",
       "      <td>...</td>\n",
       "      <td>-0.018307</td>\n",
       "      <td>0.277838</td>\n",
       "      <td>-0.110474</td>\n",
       "      <td>0.066928</td>\n",
       "      <td>0.128539</td>\n",
       "      <td>-0.189115</td>\n",
       "      <td>0.133558</td>\n",
       "      <td>-0.021053</td>\n",
       "      <td>149.62</td>\n",
       "      <td>0</td>\n",
       "    </tr>\n",
       "    <tr>\n",
       "      <th>1</th>\n",
       "      <td>0.0</td>\n",
       "      <td>1.191857</td>\n",
       "      <td>0.266151</td>\n",
       "      <td>0.166480</td>\n",
       "      <td>0.448154</td>\n",
       "      <td>0.060018</td>\n",
       "      <td>-0.082361</td>\n",
       "      <td>-0.078803</td>\n",
       "      <td>0.085102</td>\n",
       "      <td>-0.255425</td>\n",
       "      <td>...</td>\n",
       "      <td>-0.225775</td>\n",
       "      <td>-0.638672</td>\n",
       "      <td>0.101288</td>\n",
       "      <td>-0.339846</td>\n",
       "      <td>0.167170</td>\n",
       "      <td>0.125895</td>\n",
       "      <td>-0.008983</td>\n",
       "      <td>0.014724</td>\n",
       "      <td>2.69</td>\n",
       "      <td>0</td>\n",
       "    </tr>\n",
       "    <tr>\n",
       "      <th>2</th>\n",
       "      <td>1.0</td>\n",
       "      <td>-1.358354</td>\n",
       "      <td>-1.340163</td>\n",
       "      <td>1.773209</td>\n",
       "      <td>0.379780</td>\n",
       "      <td>-0.503198</td>\n",
       "      <td>1.800499</td>\n",
       "      <td>0.791461</td>\n",
       "      <td>0.247676</td>\n",
       "      <td>-1.514654</td>\n",
       "      <td>...</td>\n",
       "      <td>0.247998</td>\n",
       "      <td>0.771679</td>\n",
       "      <td>0.909412</td>\n",
       "      <td>-0.689281</td>\n",
       "      <td>-0.327642</td>\n",
       "      <td>-0.139097</td>\n",
       "      <td>-0.055353</td>\n",
       "      <td>-0.059752</td>\n",
       "      <td>378.66</td>\n",
       "      <td>0</td>\n",
       "    </tr>\n",
       "    <tr>\n",
       "      <th>3</th>\n",
       "      <td>1.0</td>\n",
       "      <td>-0.966272</td>\n",
       "      <td>-0.185226</td>\n",
       "      <td>1.792993</td>\n",
       "      <td>-0.863291</td>\n",
       "      <td>-0.010309</td>\n",
       "      <td>1.247203</td>\n",
       "      <td>0.237609</td>\n",
       "      <td>0.377436</td>\n",
       "      <td>-1.387024</td>\n",
       "      <td>...</td>\n",
       "      <td>-0.108300</td>\n",
       "      <td>0.005274</td>\n",
       "      <td>-0.190321</td>\n",
       "      <td>-1.175575</td>\n",
       "      <td>0.647376</td>\n",
       "      <td>-0.221929</td>\n",
       "      <td>0.062723</td>\n",
       "      <td>0.061458</td>\n",
       "      <td>123.50</td>\n",
       "      <td>0</td>\n",
       "    </tr>\n",
       "    <tr>\n",
       "      <th>4</th>\n",
       "      <td>2.0</td>\n",
       "      <td>-1.158233</td>\n",
       "      <td>0.877737</td>\n",
       "      <td>1.548718</td>\n",
       "      <td>0.403034</td>\n",
       "      <td>-0.407193</td>\n",
       "      <td>0.095921</td>\n",
       "      <td>0.592941</td>\n",
       "      <td>-0.270533</td>\n",
       "      <td>0.817739</td>\n",
       "      <td>...</td>\n",
       "      <td>-0.009431</td>\n",
       "      <td>0.798278</td>\n",
       "      <td>-0.137458</td>\n",
       "      <td>0.141267</td>\n",
       "      <td>-0.206010</td>\n",
       "      <td>0.502292</td>\n",
       "      <td>0.219422</td>\n",
       "      <td>0.215153</td>\n",
       "      <td>69.99</td>\n",
       "      <td>0</td>\n",
       "    </tr>\n",
       "  </tbody>\n",
       "</table>\n",
       "<p>5 rows × 31 columns</p>\n",
       "</div>"
      ],
      "text/plain": [
       "   Time        V1        V2        V3        V4        V5        V6        V7  \\\n",
       "0   0.0 -1.359807 -0.072781  2.536347  1.378155 -0.338321  0.462388  0.239599   \n",
       "1   0.0  1.191857  0.266151  0.166480  0.448154  0.060018 -0.082361 -0.078803   \n",
       "2   1.0 -1.358354 -1.340163  1.773209  0.379780 -0.503198  1.800499  0.791461   \n",
       "3   1.0 -0.966272 -0.185226  1.792993 -0.863291 -0.010309  1.247203  0.237609   \n",
       "4   2.0 -1.158233  0.877737  1.548718  0.403034 -0.407193  0.095921  0.592941   \n",
       "\n",
       "         V8        V9  ...         V21       V22       V23       V24  \\\n",
       "0  0.098698  0.363787  ...   -0.018307  0.277838 -0.110474  0.066928   \n",
       "1  0.085102 -0.255425  ...   -0.225775 -0.638672  0.101288 -0.339846   \n",
       "2  0.247676 -1.514654  ...    0.247998  0.771679  0.909412 -0.689281   \n",
       "3  0.377436 -1.387024  ...   -0.108300  0.005274 -0.190321 -1.175575   \n",
       "4 -0.270533  0.817739  ...   -0.009431  0.798278 -0.137458  0.141267   \n",
       "\n",
       "        V25       V26       V27       V28  Amount  Class  \n",
       "0  0.128539 -0.189115  0.133558 -0.021053  149.62      0  \n",
       "1  0.167170  0.125895 -0.008983  0.014724    2.69      0  \n",
       "2 -0.327642 -0.139097 -0.055353 -0.059752  378.66      0  \n",
       "3  0.647376 -0.221929  0.062723  0.061458  123.50      0  \n",
       "4 -0.206010  0.502292  0.219422  0.215153   69.99      0  \n",
       "\n",
       "[5 rows x 31 columns]"
      ]
     },
     "execution_count": 32,
     "metadata": {},
     "output_type": "execute_result"
    }
   ],
   "source": [
    "df.head()"
   ]
  },
  {
   "cell_type": "markdown",
   "metadata": {},
   "source": [
    "As described here V1 through V28 are the obtained through PCA.\n",
    "The only features which have not been transformed with PCA are 'Time' and 'Amount'. Feature 'Time' contains the seconds elapsed between each transaction and the first transaction in the dataset. The feature 'Amount' is the transaction Amount, this feature can be used for example-dependant cost-senstive learning. Feature 'Class' is the response variable and it takes value 1 in case of fraud and 0 otherwise.\n",
    "\n",
    "\n",
    "\n",
    "Data exploration is in the order"
   ]
  },
  {
   "cell_type": "code",
   "execution_count": 33,
   "metadata": {},
   "outputs": [
    {
     "data": {
      "text/plain": [
       "0    0.0\n",
       "1    0.0\n",
       "2    1.0\n",
       "3    1.0\n",
       "4    2.0\n",
       "5    2.0\n",
       "6    4.0\n",
       "7    7.0\n",
       "8    7.0\n",
       "9    9.0\n",
       "Name: Time, dtype: float64"
      ]
     },
     "execution_count": 33,
     "metadata": {},
     "output_type": "execute_result"
    }
   ],
   "source": [
    "df['Time'].head(10)"
   ]
  },
  {
   "cell_type": "markdown",
   "metadata": {},
   "source": [
    "So, time just monotonically increases"
   ]
  },
  {
   "cell_type": "code",
   "execution_count": 34,
   "metadata": {},
   "outputs": [
    {
     "name": "stdout",
     "output_type": "stream",
     "text": [
      "<class 'pandas.core.frame.DataFrame'>\n",
      "RangeIndex: 284807 entries, 0 to 284806\n",
      "Data columns (total 31 columns):\n",
      "Time      284807 non-null float64\n",
      "V1        284807 non-null float64\n",
      "V2        284807 non-null float64\n",
      "V3        284807 non-null float64\n",
      "V4        284807 non-null float64\n",
      "V5        284807 non-null float64\n",
      "V6        284807 non-null float64\n",
      "V7        284807 non-null float64\n",
      "V8        284807 non-null float64\n",
      "V9        284807 non-null float64\n",
      "V10       284807 non-null float64\n",
      "V11       284807 non-null float64\n",
      "V12       284807 non-null float64\n",
      "V13       284807 non-null float64\n",
      "V14       284807 non-null float64\n",
      "V15       284807 non-null float64\n",
      "V16       284807 non-null float64\n",
      "V17       284807 non-null float64\n",
      "V18       284807 non-null float64\n",
      "V19       284807 non-null float64\n",
      "V20       284807 non-null float64\n",
      "V21       284807 non-null float64\n",
      "V22       284807 non-null float64\n",
      "V23       284807 non-null float64\n",
      "V24       284807 non-null float64\n",
      "V25       284807 non-null float64\n",
      "V26       284807 non-null float64\n",
      "V27       284807 non-null float64\n",
      "V28       284807 non-null float64\n",
      "Amount    284807 non-null float64\n",
      "Class     284807 non-null int64\n",
      "dtypes: float64(30), int64(1)\n",
      "memory usage: 67.4 MB\n"
     ]
    }
   ],
   "source": [
    "df.info()"
   ]
  },
  {
   "cell_type": "markdown",
   "metadata": {},
   "source": [
    "We find that no NULL values are present.\n",
    "\n",
    "Just taking a look at the purchase amount to get a feel for values"
   ]
  },
  {
   "cell_type": "code",
   "execution_count": 35,
   "metadata": {},
   "outputs": [
    {
     "data": {
      "text/plain": [
       "0    149.62\n",
       "1      2.69\n",
       "2    378.66\n",
       "3    123.50\n",
       "4     69.99\n",
       "Name: Amount, dtype: float64"
      ]
     },
     "execution_count": 35,
     "metadata": {},
     "output_type": "execute_result"
    }
   ],
   "source": [
    "df.loc[:,'Amount'].head()"
   ]
  },
  {
   "cell_type": "code",
   "execution_count": 36,
   "metadata": {},
   "outputs": [
    {
     "data": {
      "text/plain": [
       "count    284807.000000\n",
       "mean         88.349619\n",
       "std         250.120109\n",
       "min           0.000000\n",
       "25%           5.600000\n",
       "50%          22.000000\n",
       "75%          77.165000\n",
       "max       25691.160000\n",
       "Name: Amount, dtype: float64"
      ]
     },
     "execution_count": 36,
     "metadata": {},
     "output_type": "execute_result"
    }
   ],
   "source": [
    "df['Amount'].describe()"
   ]
  },
  {
   "cell_type": "code",
   "execution_count": 37,
   "metadata": {},
   "outputs": [
    {
     "data": {
      "text/plain": [
       "0    284315\n",
       "1       492\n",
       "Name: Class, dtype: int64"
      ]
     },
     "execution_count": 37,
     "metadata": {},
     "output_type": "execute_result"
    }
   ],
   "source": [
    "df['Class'].value_counts()"
   ]
  },
  {
   "cell_type": "code",
   "execution_count": 9,
   "metadata": {},
   "outputs": [
    {
     "data": {
      "text/plain": [
       "<matplotlib.text.Text at 0x7f590c7b6810>"
      ]
     },
     "execution_count": 9,
     "metadata": {},
     "output_type": "execute_result"
    },
    {
     "data": {
      "image/png": "[encoded data removed]",
      "text/plain": [
       "<matplotlib.figure.Figure at 0x7f590c7cc190>"
      ]
     },
     "metadata": {},
     "output_type": "display_data"
    }
   ],
   "source": [
    "df['Class'].value_counts().plot(kind = 'bar')\n",
    "plt.xlabel('Class')\n",
    "plt.ylabel('Frequency')"
   ]
  },
  {
   "cell_type": "markdown",
   "metadata": {},
   "source": [
    "** Highly skewed **\n",
    "\n",
    "There are two things to keep in mind when dealing with skewed data\n",
    "\n",
    "1. Accuracy is no longer a good metric.  (A model which predicts y = 0, will be highly accurate too!). So, we need to change the accuracy metric to some thing like F1 score\n",
    "\n",
    "2. Try to restore the balance by resampling.  This has two components. \n",
    "\n",
    "(i) Oversampling: add copies of the under-represented class (works better when dataset small)\n",
    "\n",
    "(ii) Undersampling: Delete instances from the over-represented class (works better when dataset large)\n",
    "\n",
    "Another popular approach goes by the name SMOTE---Synthetic minority oversampling technique. In SMOTE the oversampling approach is not by replicating minority class but constructing new minority class data instance via an algorithm.\n",
    "\n",
    "Note: the resampling methods are still in the spirit of supervised learning.  Another approach to try is the anomaly detection algorithm where we build the (joint) probability distribution for the features.  The idea is that the features occur in the tail.  The threshold \\epislon can be chosen by cross validation."
   ]
  },
  {
   "cell_type": "code",
   "execution_count": 45,
   "metadata": {},
   "outputs": [
    {
     "data": {
      "text/plain": [
       "<matplotlib.axes._subplots.AxesSubplot at 0x7f58fcec3d10>"
      ]
     },
     "execution_count": 45,
     "metadata": {},
     "output_type": "execute_result"
    },
    {
     "data": {
      "image/png": "[encoded data removed]",
      "text/plain": [
       "<matplotlib.figure.Figure at 0x7f58fce9fb10>"
      ]
     },
     "metadata": {},
     "output_type": "display_data"
    }
   ],
   "source": [
    "sns.distplot(df['Amount'], kde = False)"
   ]
  },
  {
   "cell_type": "code",
   "execution_count": 46,
   "metadata": {},
   "outputs": [
    {
     "data": {
      "text/plain": [
       "<matplotlib.axes._subplots.AxesSubplot at 0x7f58fccaf090>"
      ]
     },
     "execution_count": 46,
     "metadata": {},
     "output_type": "execute_result"
    },
    {
     "data": {
      "image/png": "[encoded data removed]",
      "text/plain": [
       "<matplotlib.figure.Figure at 0x7f58fcd05910>"
      ]
     },
     "metadata": {},
     "output_type": "display_data"
    }
   ],
   "source": [
    "sns.distplot(df['Time'])"
   ]
  },
  {
   "cell_type": "code",
   "execution_count": 47,
   "metadata": {},
   "outputs": [
    {
     "data": {
      "text/plain": [
       "<matplotlib.axes._subplots.AxesSubplot at 0x7f58fcb59d50>"
      ]
     },
     "execution_count": 47,
     "metadata": {},
     "output_type": "execute_result"
    },
    {
     "data": {
      "image/png": "[encoded data removed]",
      "text/plain": [
       "<matplotlib.figure.Figure at 0x7f58fcb0c190>"
      ]
     },
     "metadata": {},
     "output_type": "display_data"
    }
   ],
   "source": [
    "sns.distplot(df['V1'], kde = False)"
   ]
  },
  {
   "cell_type": "code",
   "execution_count": 48,
   "metadata": {},
   "outputs": [
    {
     "data": {
      "text/plain": [
       "<matplotlib.axes._subplots.AxesSubplot at 0x7f58fc9f83d0>"
      ]
     },
     "execution_count": 48,
     "metadata": {},
     "output_type": "execute_result"
    },
    {
     "data": {
      "image/png": "[encoded data removed]",
      "text/plain": [
       "<matplotlib.figure.Figure at 0x7f58fc9acf50>"
      ]
     },
     "metadata": {},
     "output_type": "display_data"
    }
   ],
   "source": [
    "sns.distplot(df['V2'], kde = False)"
   ]
  },
  {
   "cell_type": "code",
   "execution_count": 49,
   "metadata": {},
   "outputs": [
    {
     "data": {
      "text/plain": [
       "<matplotlib.axes._subplots.AxesSubplot at 0x7f58fc777510>"
      ]
     },
     "execution_count": 49,
     "metadata": {},
     "output_type": "execute_result"
    },
    {
     "data": {
      "image/png": "[encoded data removed]",
      "text/plain": [
       "<matplotlib.figure.Figure at 0x7f58fc782b90>"
      ]
     },
     "metadata": {},
     "output_type": "display_data"
    }
   ],
   "source": [
    "sns.distplot(df['V3'], kde = False)"
   ]
  },
  {
   "cell_type": "code",
   "execution_count": 50,
   "metadata": {},
   "outputs": [
    {
     "data": {
      "text/plain": [
       "<matplotlib.axes._subplots.AxesSubplot at 0x7f58fc640190>"
      ]
     },
     "execution_count": 50,
     "metadata": {},
     "output_type": "execute_result"
    },
    {
     "data": {
      "image/png": "[encoded data removed]",
      "text/plain": [
       "<matplotlib.figure.Figure at 0x7f58fcac1410>"
      ]
     },
     "metadata": {},
     "output_type": "display_data"
    }
   ],
   "source": [
    "sns.distplot(df['V28'], kde = False)"
   ]
  },
  {
   "cell_type": "markdown",
   "metadata": {},
   "source": [
    "Interesting to note that the features V1 through V28 are mostly centered around zero. "
   ]
  },
  {
   "cell_type": "code",
   "execution_count": 51,
   "metadata": {},
   "outputs": [
    {
     "data": {
      "text/plain": [
       "count    2.848070e+05\n",
       "mean     9.170318e-16\n",
       "std      1.020713e+00\n",
       "min     -4.797473e+00\n",
       "25%     -7.624942e-01\n",
       "50%     -3.275735e-02\n",
       "75%      7.395934e-01\n",
       "max      1.201891e+01\n",
       "Name: V11, dtype: float64"
      ]
     },
     "execution_count": 51,
     "metadata": {},
     "output_type": "execute_result"
    }
   ],
   "source": [
    "df['V11'].describe()"
   ]
  },
  {
   "cell_type": "markdown",
   "metadata": {},
   "source": [
    "Normalize the Time and the Amount feature to fall in line with the V's. "
   ]
  },
  {
   "cell_type": "code",
   "execution_count": 52,
   "metadata": {},
   "outputs": [
    {
     "data": {
      "text/plain": [
       "array([[ 149.62],\n",
       "       [   2.69],\n",
       "       [ 378.66],\n",
       "       ..., \n",
       "       [  67.88],\n",
       "       [  10.  ],\n",
       "       [ 217.  ]])"
      ]
     },
     "execution_count": 52,
     "metadata": {},
     "output_type": "execute_result"
    }
   ],
   "source": [
    "df['Amount'].values.reshape(-1, 1)"
   ]
  },
  {
   "cell_type": "code",
   "execution_count": 53,
   "metadata": {},
   "outputs": [
    {
     "data": {
      "text/plain": [
       "(284807, 1)"
      ]
     },
     "execution_count": 53,
     "metadata": {},
     "output_type": "execute_result"
    }
   ],
   "source": [
    "np.shape(df['Amount'].values.reshape(-1, 1))"
   ]
  },
  {
   "cell_type": "markdown",
   "metadata": {},
   "source": [
    "Use reshape to get the amount column in the row form. The -1 entry tells numpy to figure out the length of that dimension. "
   ]
  },
  {
   "cell_type": "code",
   "execution_count": 54,
   "metadata": {
    "collapsed": true
   },
   "outputs": [],
   "source": [
    "from sklearn.preprocessing import StandardScaler\n",
    "\n",
    "df['normAmount'] = StandardScaler().fit_transform(df['Amount'].values.reshape(-1,1))\n",
    "df['normTime'] = StandardScaler().fit_transform(df['Time'].values.reshape(-1,1))"
   ]
  },
  {
   "cell_type": "code",
   "execution_count": 55,
   "metadata": {},
   "outputs": [
    {
     "data": {
      "text/plain": [
       "<matplotlib.axes._subplots.AxesSubplot at 0x7f58fcedf250>"
      ]
     },
     "execution_count": 55,
     "metadata": {},
     "output_type": "execute_result"
    },
    {
     "data": {
      "image/png": "[encoded data removed]",
      "text/plain": [
       "<matplotlib.figure.Figure at 0x7f58fc4c8090>"
      ]
     },
     "metadata": {},
     "output_type": "display_data"
    }
   ],
   "source": [
    "sns.distplot(df['normAmount'], kde = False)"
   ]
  },
  {
   "cell_type": "code",
   "execution_count": 56,
   "metadata": {},
   "outputs": [
    {
     "data": {
      "text/plain": [
       "<matplotlib.axes._subplots.AxesSubplot at 0x7f58fc2b4c10>"
      ]
     },
     "execution_count": 56,
     "metadata": {},
     "output_type": "execute_result"
    },
    {
     "data": {
      "image/png": "[encoded data removed]",
      "text/plain": [
       "<matplotlib.figure.Figure at 0x7f58fc3add90>"
      ]
     },
     "metadata": {},
     "output_type": "display_data"
    }
   ],
   "source": [
    "sns.distplot(df['normTime'], kde = False)"
   ]
  },
  {
   "cell_type": "code",
   "execution_count": 57,
   "metadata": {
    "collapsed": true
   },
   "outputs": [],
   "source": [
    "dfMod = df.drop(['Time','Amount'], axis = 1)"
   ]
  },
  {
   "cell_type": "code",
   "execution_count": 58,
   "metadata": {},
   "outputs": [
    {
     "data": {
      "text/html": [
       "<div>\n",
       "<style>\n",
       "    .dataframe thead tr:only-child th {\n",
       "        text-align: right;\n",
       "    }\n",
       "\n",
       "    .dataframe thead th {\n",
       "        text-align: left;\n",
       "    }\n",
       "\n",
       "    .dataframe tbody tr th {\n",
       "        vertical-align: top;\n",
       "    }\n",
       "</style>\n",
       "<table border=\"1\" class=\"dataframe\">\n",
       "  <thead>\n",
       "    <tr style=\"text-align: right;\">\n",
       "      <th></th>\n",
       "      <th>V1</th>\n",
       "      <th>V2</th>\n",
       "      <th>V3</th>\n",
       "      <th>V4</th>\n",
       "      <th>V5</th>\n",
       "      <th>V6</th>\n",
       "      <th>V7</th>\n",
       "      <th>V8</th>\n",
       "      <th>V9</th>\n",
       "      <th>V10</th>\n",
       "      <th>...</th>\n",
       "      <th>V22</th>\n",
       "      <th>V23</th>\n",
       "      <th>V24</th>\n",
       "      <th>V25</th>\n",
       "      <th>V26</th>\n",
       "      <th>V27</th>\n",
       "      <th>V28</th>\n",
       "      <th>Class</th>\n",
       "      <th>normAmount</th>\n",
       "      <th>normTime</th>\n",
       "    </tr>\n",
       "  </thead>\n",
       "  <tbody>\n",
       "    <tr>\n",
       "      <th>0</th>\n",
       "      <td>-1.359807</td>\n",
       "      <td>-0.072781</td>\n",
       "      <td>2.536347</td>\n",
       "      <td>1.378155</td>\n",
       "      <td>-0.338321</td>\n",
       "      <td>0.462388</td>\n",
       "      <td>0.239599</td>\n",
       "      <td>0.098698</td>\n",
       "      <td>0.363787</td>\n",
       "      <td>0.090794</td>\n",
       "      <td>...</td>\n",
       "      <td>0.277838</td>\n",
       "      <td>-0.110474</td>\n",
       "      <td>0.066928</td>\n",
       "      <td>0.128539</td>\n",
       "      <td>-0.189115</td>\n",
       "      <td>0.133558</td>\n",
       "      <td>-0.021053</td>\n",
       "      <td>0</td>\n",
       "      <td>0.244964</td>\n",
       "      <td>-1.996583</td>\n",
       "    </tr>\n",
       "    <tr>\n",
       "      <th>1</th>\n",
       "      <td>1.191857</td>\n",
       "      <td>0.266151</td>\n",
       "      <td>0.166480</td>\n",
       "      <td>0.448154</td>\n",
       "      <td>0.060018</td>\n",
       "      <td>-0.082361</td>\n",
       "      <td>-0.078803</td>\n",
       "      <td>0.085102</td>\n",
       "      <td>-0.255425</td>\n",
       "      <td>-0.166974</td>\n",
       "      <td>...</td>\n",
       "      <td>-0.638672</td>\n",
       "      <td>0.101288</td>\n",
       "      <td>-0.339846</td>\n",
       "      <td>0.167170</td>\n",
       "      <td>0.125895</td>\n",
       "      <td>-0.008983</td>\n",
       "      <td>0.014724</td>\n",
       "      <td>0</td>\n",
       "      <td>-0.342475</td>\n",
       "      <td>-1.996583</td>\n",
       "    </tr>\n",
       "    <tr>\n",
       "      <th>2</th>\n",
       "      <td>-1.358354</td>\n",
       "      <td>-1.340163</td>\n",
       "      <td>1.773209</td>\n",
       "      <td>0.379780</td>\n",
       "      <td>-0.503198</td>\n",
       "      <td>1.800499</td>\n",
       "      <td>0.791461</td>\n",
       "      <td>0.247676</td>\n",
       "      <td>-1.514654</td>\n",
       "      <td>0.207643</td>\n",
       "      <td>...</td>\n",
       "      <td>0.771679</td>\n",
       "      <td>0.909412</td>\n",
       "      <td>-0.689281</td>\n",
       "      <td>-0.327642</td>\n",
       "      <td>-0.139097</td>\n",
       "      <td>-0.055353</td>\n",
       "      <td>-0.059752</td>\n",
       "      <td>0</td>\n",
       "      <td>1.160686</td>\n",
       "      <td>-1.996562</td>\n",
       "    </tr>\n",
       "    <tr>\n",
       "      <th>3</th>\n",
       "      <td>-0.966272</td>\n",
       "      <td>-0.185226</td>\n",
       "      <td>1.792993</td>\n",
       "      <td>-0.863291</td>\n",
       "      <td>-0.010309</td>\n",
       "      <td>1.247203</td>\n",
       "      <td>0.237609</td>\n",
       "      <td>0.377436</td>\n",
       "      <td>-1.387024</td>\n",
       "      <td>-0.054952</td>\n",
       "      <td>...</td>\n",
       "      <td>0.005274</td>\n",
       "      <td>-0.190321</td>\n",
       "      <td>-1.175575</td>\n",
       "      <td>0.647376</td>\n",
       "      <td>-0.221929</td>\n",
       "      <td>0.062723</td>\n",
       "      <td>0.061458</td>\n",
       "      <td>0</td>\n",
       "      <td>0.140534</td>\n",
       "      <td>-1.996562</td>\n",
       "    </tr>\n",
       "    <tr>\n",
       "      <th>4</th>\n",
       "      <td>-1.158233</td>\n",
       "      <td>0.877737</td>\n",
       "      <td>1.548718</td>\n",
       "      <td>0.403034</td>\n",
       "      <td>-0.407193</td>\n",
       "      <td>0.095921</td>\n",
       "      <td>0.592941</td>\n",
       "      <td>-0.270533</td>\n",
       "      <td>0.817739</td>\n",
       "      <td>0.753074</td>\n",
       "      <td>...</td>\n",
       "      <td>0.798278</td>\n",
       "      <td>-0.137458</td>\n",
       "      <td>0.141267</td>\n",
       "      <td>-0.206010</td>\n",
       "      <td>0.502292</td>\n",
       "      <td>0.219422</td>\n",
       "      <td>0.215153</td>\n",
       "      <td>0</td>\n",
       "      <td>-0.073403</td>\n",
       "      <td>-1.996541</td>\n",
       "    </tr>\n",
       "  </tbody>\n",
       "</table>\n",
       "<p>5 rows × 31 columns</p>\n",
       "</div>"
      ],
      "text/plain": [
       "         V1        V2        V3        V4        V5        V6        V7  \\\n",
       "0 -1.359807 -0.072781  2.536347  1.378155 -0.338321  0.462388  0.239599   \n",
       "1  1.191857  0.266151  0.166480  0.448154  0.060018 -0.082361 -0.078803   \n",
       "2 -1.358354 -1.340163  1.773209  0.379780 -0.503198  1.800499  0.791461   \n",
       "3 -0.966272 -0.185226  1.792993 -0.863291 -0.010309  1.247203  0.237609   \n",
       "4 -1.158233  0.877737  1.548718  0.403034 -0.407193  0.095921  0.592941   \n",
       "\n",
       "         V8        V9       V10    ...          V22       V23       V24  \\\n",
       "0  0.098698  0.363787  0.090794    ...     0.277838 -0.110474  0.066928   \n",
       "1  0.085102 -0.255425 -0.166974    ...    -0.638672  0.101288 -0.339846   \n",
       "2  0.247676 -1.514654  0.207643    ...     0.771679  0.909412 -0.689281   \n",
       "3  0.377436 -1.387024 -0.054952    ...     0.005274 -0.190321 -1.175575   \n",
       "4 -0.270533  0.817739  0.753074    ...     0.798278 -0.137458  0.141267   \n",
       "\n",
       "        V25       V26       V27       V28  Class  normAmount  normTime  \n",
       "0  0.128539 -0.189115  0.133558 -0.021053      0    0.244964 -1.996583  \n",
       "1  0.167170  0.125895 -0.008983  0.014724      0   -0.342475 -1.996583  \n",
       "2 -0.327642 -0.139097 -0.055353 -0.059752      0    1.160686 -1.996562  \n",
       "3  0.647376 -0.221929  0.062723  0.061458      0    0.140534 -1.996562  \n",
       "4 -0.206010  0.502292  0.219422  0.215153      0   -0.073403 -1.996541  \n",
       "\n",
       "[5 rows x 31 columns]"
      ]
     },
     "execution_count": 58,
     "metadata": {},
     "output_type": "execute_result"
    }
   ],
   "source": [
    "dfMod.head()"
   ]
  },
  {
   "cell_type": "markdown",
   "metadata": {},
   "source": [
    "Let's look at the fraud and normal transactions separately"
   ]
  },
  {
   "cell_type": "code",
   "execution_count": 59,
   "metadata": {
    "collapsed": true
   },
   "outputs": [],
   "source": [
    "FraudTransaction = dfMod[dfMod['Class'] == 1]\n",
    "NormalTransaction = dfMod[dfMod['Class'] == 0]"
   ]
  },
  {
   "cell_type": "markdown",
   "metadata": {},
   "source": [
    "Interested in seeing if there is there is a correlation between the amount and the fraud transaction"
   ]
  },
  {
   "cell_type": "code",
   "execution_count": 60,
   "metadata": {},
   "outputs": [
    {
     "data": {
      "text/plain": [
       "<matplotlib.axes._subplots.AxesSubplot at 0x7f58fc092110>"
      ]
     },
     "execution_count": 60,
     "metadata": {},
     "output_type": "execute_result"
    },
    {
     "data": {
      "image/png": "[encoded data removed]",
      "text/plain": [
       "<matplotlib.figure.Figure at 0x7f58fc57c350>"
      ]
     },
     "metadata": {},
     "output_type": "display_data"
    }
   ],
   "source": [
    "FraudTransaction['normAmount'].plot.hist()"
   ]
  },
  {
   "cell_type": "code",
   "execution_count": 61,
   "metadata": {},
   "outputs": [
    {
     "data": {
      "text/plain": [
       "<matplotlib.axes._subplots.AxesSubplot at 0x7f58fbfec590>"
      ]
     },
     "execution_count": 61,
     "metadata": {},
     "output_type": "execute_result"
    },
    {
     "data": {
      "image/png": "[encoded data removed]",
      "text/plain": [
       "<matplotlib.figure.Figure at 0x7f58fc0d3ad0>"
      ]
     },
     "metadata": {},
     "output_type": "display_data"
    }
   ],
   "source": [
    "NormalTransaction['normAmount'].plot.hist()"
   ]
  },
  {
   "cell_type": "code",
   "execution_count": 62,
   "metadata": {},
   "outputs": [
    {
     "data": {
      "text/plain": [
       "array([  -0.35322939,   -0.35322939,   -0.35322939, ...,   75.25058053,\n",
       "         78.23527182,  102.36224271])"
      ]
     },
     "execution_count": 62,
     "metadata": {},
     "output_type": "execute_result"
    }
   ],
   "source": [
    "np.sort(NormalTransaction['normAmount'])"
   ]
  },
  {
   "cell_type": "markdown",
   "metadata": {},
   "source": [
    "So, fraud transactions where done for both small and large amount. Next look at the time"
   ]
  },
  {
   "cell_type": "code",
   "execution_count": 63,
   "metadata": {},
   "outputs": [
    {
     "data": {
      "text/plain": [
       "<matplotlib.axes._subplots.AxesSubplot at 0x7f58fbf54190>"
      ]
     },
     "execution_count": 63,
     "metadata": {},
     "output_type": "execute_result"
    },
    {
     "data": {
      "image/png": "[encoded data removed]",
      "text/plain": [
       "<matplotlib.figure.Figure at 0x7f58fc0fc350>"
      ]
     },
     "metadata": {},
     "output_type": "display_data"
    }
   ],
   "source": [
    "FraudTransaction['normTime'].plot.hist()"
   ]
  },
  {
   "cell_type": "code",
   "execution_count": 64,
   "metadata": {},
   "outputs": [
    {
     "data": {
      "text/plain": [
       "<matplotlib.axes._subplots.AxesSubplot at 0x7f58fbdfebd0>"
      ]
     },
     "execution_count": 64,
     "metadata": {},
     "output_type": "execute_result"
    },
    {
     "data": {
      "image/png": "[encoded data removed]",
      "text/plain": [
       "<matplotlib.figure.Figure at 0x7f58fbe3dad0>"
      ]
     },
     "metadata": {},
     "output_type": "display_data"
    }
   ],
   "source": [
    "NormalTransaction['normTime'].plot.hist()"
   ]
  },
  {
   "cell_type": "markdown",
   "metadata": {},
   "source": [
    "Again, the same kind of distribution for fraud vs. normal"
   ]
  },
  {
   "cell_type": "code",
   "execution_count": 65,
   "metadata": {},
   "outputs": [
    {
     "data": {
      "text/plain": [
       "<matplotlib.axes._subplots.AxesSubplot at 0x7f58fa745110>"
      ]
     },
     "execution_count": 65,
     "metadata": {},
     "output_type": "execute_result"
    },
    {
     "data": {
      "image/png": "[encoded data removed]",
      "text/plain": [
       "<matplotlib.figure.Figure at 0x7f58fbe1ce10>"
      ]
     },
     "metadata": {},
     "output_type": "display_data"
    }
   ],
   "source": [
    "FraudTransaction['V23'].plot.hist()"
   ]
  },
  {
   "cell_type": "code",
   "execution_count": 66,
   "metadata": {},
   "outputs": [
    {
     "data": {
      "text/plain": [
       "<matplotlib.axes._subplots.AxesSubplot at 0x7f58fbc8c810>"
      ]
     },
     "execution_count": 66,
     "metadata": {},
     "output_type": "execute_result"
    },
    {
     "data": {
      "image/png": "[encoded data removed]",
      "text/plain": [
       "<matplotlib.figure.Figure at 0x7f58fbca0b90>"
      ]
     },
     "metadata": {},
     "output_type": "display_data"
    }
   ],
   "source": [
    "NormalTransaction['V23'].plot.hist()"
   ]
  },
  {
   "cell_type": "code",
   "execution_count": 67,
   "metadata": {},
   "outputs": [
    {
     "data": {
      "text/plain": [
       "array([-44.8077352 , -36.66600007, -32.828995  , ...,  20.8033441 ,\n",
       "        22.08354487,  22.52841169])"
      ]
     },
     "execution_count": 67,
     "metadata": {},
     "output_type": "execute_result"
    }
   ],
   "source": [
    "np.sort(NormalTransaction['V23'])"
   ]
  },
  {
   "cell_type": "code",
   "execution_count": 68,
   "metadata": {},
   "outputs": [
    {
     "data": {
      "text/plain": [
       "<matplotlib.axes._subplots.AxesSubplot at 0x7f58fbccecd0>"
      ]
     },
     "execution_count": 68,
     "metadata": {},
     "output_type": "execute_result"
    },
    {
     "data": {
      "image/png": "[encoded data removed]",
      "text/plain": [
       "<matplotlib.figure.Figure at 0x7f58fbc65ad0>"
      ]
     },
     "metadata": {},
     "output_type": "display_data"
    }
   ],
   "source": [
    "sns.distplot(dfMod['V22'][dfMod['Class'] == 0])\n",
    "sns.distplot(dfMod['V22'][dfMod['Class'] == 1])"
   ]
  },
  {
   "cell_type": "code",
   "execution_count": 69,
   "metadata": {},
   "outputs": [
    {
     "data": {
      "text/plain": [
       "<matplotlib.axes._subplots.AxesSubplot at 0x7f58fb93d390>"
      ]
     },
     "execution_count": 69,
     "metadata": {},
     "output_type": "execute_result"
    },
    {
     "data": {
      "image/png": "[encoded data removed]",
      "text/plain": [
       "<matplotlib.figure.Figure at 0x7f58fbc4bcd0>"
      ]
     },
     "metadata": {},
     "output_type": "display_data"
    }
   ],
   "source": [
    "sns.distplot(dfMod['normAmount'][dfMod['Class'] == 0])\n",
    "sns.distplot(dfMod['normAmount'][dfMod['Class'] == 1])"
   ]
  },
  {
   "cell_type": "code",
   "execution_count": 70,
   "metadata": {},
   "outputs": [
    {
     "data": {
      "text/plain": [
       "<matplotlib.axes._subplots.AxesSubplot at 0x7f58fb650a90>"
      ]
     },
     "execution_count": 70,
     "metadata": {},
     "output_type": "execute_result"
    },
    {
     "data": {
      "image/png": "[encoded data removed]",
      "text/plain": [
       "<matplotlib.figure.Figure at 0x7f58fa5a0890>"
      ]
     },
     "metadata": {},
     "output_type": "display_data"
    }
   ],
   "source": [
    "sns.distplot(dfMod['V20'][dfMod['Class'] == 0])\n",
    "sns.distplot(dfMod['V20'][dfMod['Class'] == 1])"
   ]
  },
  {
   "cell_type": "code",
   "execution_count": 71,
   "metadata": {},
   "outputs": [
    {
     "data": {
      "text/plain": [
       "<matplotlib.axes._subplots.AxesSubplot at 0x7f58fa5abe10>"
      ]
     },
     "execution_count": 71,
     "metadata": {},
     "output_type": "execute_result"
    },
    {
     "data": {
      "image/png": "[encoded data removed]",
      "text/plain": [
       "<matplotlib.figure.Figure at 0x7f58fb331750>"
      ]
     },
     "metadata": {},
     "output_type": "display_data"
    }
   ],
   "source": [
    "sns.distplot(dfMod['V5'][dfMod['Class'] == 0])\n",
    "sns.distplot(dfMod['V5'][dfMod['Class'] == 1])"
   ]
  },
  {
   "cell_type": "markdown",
   "metadata": {},
   "source": [
    "Looking at the distribution of few randomly selected features for the normal and the fraud cases, we can convince ourselves that in the fraud cases, features seem to take extreme values. "
   ]
  },
  {
   "cell_type": "markdown",
   "metadata": {},
   "source": [
    "Time column is just the chronological difference between the first transaction and the next. Can't see how it can affect the Fraud analysis.  Drop it. "
   ]
  },
  {
   "cell_type": "code",
   "execution_count": 72,
   "metadata": {},
   "outputs": [
    {
     "data": {
      "text/plain": [
       "Index([u'V1', u'V2', u'V3', u'V4', u'V5', u'V6', u'V7', u'V8', u'V9', u'V10',\n",
       "       u'V11', u'V12', u'V13', u'V14', u'V15', u'V16', u'V17', u'V18', u'V19',\n",
       "       u'V20', u'V21', u'V22', u'V23', u'V24', u'V25', u'V26', u'V27', u'V28',\n",
       "       u'Class', u'normAmount', u'normTime'],\n",
       "      dtype='object')"
      ]
     },
     "execution_count": 72,
     "metadata": {},
     "output_type": "execute_result"
    }
   ],
   "source": [
    "dfMod.columns"
   ]
  },
  {
   "cell_type": "code",
   "execution_count": 73,
   "metadata": {
    "collapsed": true
   },
   "outputs": [],
   "source": [
    "dfMod = dfMod.drop('normTime', axis = 1)"
   ]
  },
  {
   "cell_type": "code",
   "execution_count": 74,
   "metadata": {},
   "outputs": [
    {
     "data": {
      "text/plain": [
       "Index([u'V1', u'V2', u'V3', u'V4', u'V5', u'V6', u'V7', u'V8', u'V9', u'V10',\n",
       "       u'V11', u'V12', u'V13', u'V14', u'V15', u'V16', u'V17', u'V18', u'V19',\n",
       "       u'V20', u'V21', u'V22', u'V23', u'V24', u'V25', u'V26', u'V27', u'V28',\n",
       "       u'Class', u'normAmount'],\n",
       "      dtype='object')"
      ]
     },
     "execution_count": 74,
     "metadata": {},
     "output_type": "execute_result"
    }
   ],
   "source": [
    "dfMod.columns"
   ]
  },
  {
   "cell_type": "markdown",
   "metadata": {},
   "source": [
    "Now, let's seprate the class column from all other features. "
   ]
  },
  {
   "cell_type": "code",
   "execution_count": 75,
   "metadata": {
    "collapsed": true
   },
   "outputs": [],
   "source": [
    "X = dfMod.loc[:, dfMod.columns != 'Class']\n",
    "y = dfMod.loc[:, dfMod.columns == 'Class']"
   ]
  },
  {
   "cell_type": "code",
   "execution_count": 76,
   "metadata": {},
   "outputs": [
    {
     "data": {
      "text/plain": [
       "Index([u'V1', u'V2', u'V3', u'V4', u'V5', u'V6', u'V7', u'V8', u'V9', u'V10',\n",
       "       u'V11', u'V12', u'V13', u'V14', u'V15', u'V16', u'V17', u'V18', u'V19',\n",
       "       u'V20', u'V21', u'V22', u'V23', u'V24', u'V25', u'V26', u'V27', u'V28',\n",
       "       u'normAmount'],\n",
       "      dtype='object')"
      ]
     },
     "execution_count": 76,
     "metadata": {},
     "output_type": "execute_result"
    }
   ],
   "source": [
    "X.columns"
   ]
  },
  {
   "cell_type": "code",
   "execution_count": 77,
   "metadata": {},
   "outputs": [
    {
     "data": {
      "text/html": [
       "<div>\n",
       "<style>\n",
       "    .dataframe thead tr:only-child th {\n",
       "        text-align: right;\n",
       "    }\n",
       "\n",
       "    .dataframe thead th {\n",
       "        text-align: left;\n",
       "    }\n",
       "\n",
       "    .dataframe tbody tr th {\n",
       "        vertical-align: top;\n",
       "    }\n",
       "</style>\n",
       "<table border=\"1\" class=\"dataframe\">\n",
       "  <thead>\n",
       "    <tr style=\"text-align: right;\">\n",
       "      <th></th>\n",
       "      <th>Class</th>\n",
       "    </tr>\n",
       "  </thead>\n",
       "  <tbody>\n",
       "    <tr>\n",
       "      <th>0</th>\n",
       "      <td>0</td>\n",
       "    </tr>\n",
       "    <tr>\n",
       "      <th>1</th>\n",
       "      <td>0</td>\n",
       "    </tr>\n",
       "    <tr>\n",
       "      <th>2</th>\n",
       "      <td>0</td>\n",
       "    </tr>\n",
       "    <tr>\n",
       "      <th>3</th>\n",
       "      <td>0</td>\n",
       "    </tr>\n",
       "    <tr>\n",
       "      <th>4</th>\n",
       "      <td>0</td>\n",
       "    </tr>\n",
       "  </tbody>\n",
       "</table>\n",
       "</div>"
      ],
      "text/plain": [
       "   Class\n",
       "0      0\n",
       "1      0\n",
       "2      0\n",
       "3      0\n",
       "4      0"
      ]
     },
     "execution_count": 77,
     "metadata": {},
     "output_type": "execute_result"
    }
   ],
   "source": [
    "y.head()"
   ]
  },
  {
   "cell_type": "code",
   "execution_count": 78,
   "metadata": {},
   "outputs": [
    {
     "data": {
      "text/plain": [
       "(492, 31)"
      ]
     },
     "execution_count": 78,
     "metadata": {},
     "output_type": "execute_result"
    }
   ],
   "source": [
    "FraudTransaction.shape"
   ]
  },
  {
   "cell_type": "code",
   "execution_count": 79,
   "metadata": {},
   "outputs": [
    {
     "data": {
      "text/plain": [
       "(284315, 31)"
      ]
     },
     "execution_count": 79,
     "metadata": {},
     "output_type": "execute_result"
    }
   ],
   "source": [
    "NormalTransaction.shape"
   ]
  },
  {
   "cell_type": "code",
   "execution_count": 80,
   "metadata": {},
   "outputs": [
    {
     "data": {
      "text/plain": [
       "(284807, 29)"
      ]
     },
     "execution_count": 80,
     "metadata": {},
     "output_type": "execute_result"
    }
   ],
   "source": [
    "X.shape"
   ]
  },
  {
   "cell_type": "code",
   "execution_count": 81,
   "metadata": {
    "collapsed": true
   },
   "outputs": [],
   "source": [
    "numberFraud = FraudTransaction.shape[0]"
   ]
  },
  {
   "cell_type": "code",
   "execution_count": 82,
   "metadata": {
    "collapsed": true
   },
   "outputs": [],
   "source": [
    "FraudTransactionModX = FraudTransaction.drop(['normTime', 'Class'], axis = 1)"
   ]
  },
  {
   "cell_type": "code",
   "execution_count": 83,
   "metadata": {},
   "outputs": [
    {
     "data": {
      "text/plain": [
       "(492, 29)"
      ]
     },
     "execution_count": 83,
     "metadata": {},
     "output_type": "execute_result"
    }
   ],
   "source": [
    "FraudTransactionModX.shape"
   ]
  },
  {
   "cell_type": "code",
   "execution_count": 84,
   "metadata": {
    "collapsed": true
   },
   "outputs": [],
   "source": [
    "NormalTransactionModX = NormalTransaction.drop(['normTime', 'Class'], axis = 1)"
   ]
  },
  {
   "cell_type": "code",
   "execution_count": 85,
   "metadata": {},
   "outputs": [
    {
     "data": {
      "text/plain": [
       "(284315, 29)"
      ]
     },
     "execution_count": 85,
     "metadata": {},
     "output_type": "execute_result"
    }
   ],
   "source": [
    "NormalTransactionModX.shape"
   ]
  },
  {
   "cell_type": "code",
   "execution_count": 86,
   "metadata": {
    "collapsed": true
   },
   "outputs": [],
   "source": [
    "NormalTransactionModY = NormalTransaction['Class']"
   ]
  },
  {
   "cell_type": "code",
   "execution_count": 87,
   "metadata": {},
   "outputs": [
    {
     "data": {
      "text/plain": [
       "0    0\n",
       "1    0\n",
       "2    0\n",
       "3    0\n",
       "4    0\n",
       "Name: Class, dtype: int64"
      ]
     },
     "execution_count": 87,
     "metadata": {},
     "output_type": "execute_result"
    }
   ],
   "source": [
    "NormalTransactionModY.head()"
   ]
  },
  {
   "cell_type": "code",
   "execution_count": 88,
   "metadata": {
    "collapsed": true
   },
   "outputs": [],
   "source": [
    "FraudTransactionModY = FraudTransaction['Class']"
   ]
  },
  {
   "cell_type": "code",
   "execution_count": 89,
   "metadata": {},
   "outputs": [
    {
     "data": {
      "text/html": [
       "<div>\n",
       "<style>\n",
       "    .dataframe thead tr:only-child th {\n",
       "        text-align: right;\n",
       "    }\n",
       "\n",
       "    .dataframe thead th {\n",
       "        text-align: left;\n",
       "    }\n",
       "\n",
       "    .dataframe tbody tr th {\n",
       "        vertical-align: top;\n",
       "    }\n",
       "</style>\n",
       "<table border=\"1\" class=\"dataframe\">\n",
       "  <thead>\n",
       "    <tr style=\"text-align: right;\">\n",
       "      <th></th>\n",
       "      <th>V1</th>\n",
       "      <th>V2</th>\n",
       "      <th>V3</th>\n",
       "      <th>V4</th>\n",
       "      <th>V5</th>\n",
       "      <th>V6</th>\n",
       "      <th>V7</th>\n",
       "      <th>V8</th>\n",
       "      <th>V9</th>\n",
       "      <th>V10</th>\n",
       "      <th>...</th>\n",
       "      <th>V21</th>\n",
       "      <th>V22</th>\n",
       "      <th>V23</th>\n",
       "      <th>V24</th>\n",
       "      <th>V25</th>\n",
       "      <th>V26</th>\n",
       "      <th>V27</th>\n",
       "      <th>V28</th>\n",
       "      <th>Class</th>\n",
       "      <th>normAmount</th>\n",
       "    </tr>\n",
       "  </thead>\n",
       "  <tbody>\n",
       "    <tr>\n",
       "      <th>0</th>\n",
       "      <td>-1.359807</td>\n",
       "      <td>-0.072781</td>\n",
       "      <td>2.536347</td>\n",
       "      <td>1.378155</td>\n",
       "      <td>-0.338321</td>\n",
       "      <td>0.462388</td>\n",
       "      <td>0.239599</td>\n",
       "      <td>0.098698</td>\n",
       "      <td>0.363787</td>\n",
       "      <td>0.090794</td>\n",
       "      <td>...</td>\n",
       "      <td>-0.018307</td>\n",
       "      <td>0.277838</td>\n",
       "      <td>-0.110474</td>\n",
       "      <td>0.066928</td>\n",
       "      <td>0.128539</td>\n",
       "      <td>-0.189115</td>\n",
       "      <td>0.133558</td>\n",
       "      <td>-0.021053</td>\n",
       "      <td>0</td>\n",
       "      <td>0.244964</td>\n",
       "    </tr>\n",
       "    <tr>\n",
       "      <th>1</th>\n",
       "      <td>1.191857</td>\n",
       "      <td>0.266151</td>\n",
       "      <td>0.166480</td>\n",
       "      <td>0.448154</td>\n",
       "      <td>0.060018</td>\n",
       "      <td>-0.082361</td>\n",
       "      <td>-0.078803</td>\n",
       "      <td>0.085102</td>\n",
       "      <td>-0.255425</td>\n",
       "      <td>-0.166974</td>\n",
       "      <td>...</td>\n",
       "      <td>-0.225775</td>\n",
       "      <td>-0.638672</td>\n",
       "      <td>0.101288</td>\n",
       "      <td>-0.339846</td>\n",
       "      <td>0.167170</td>\n",
       "      <td>0.125895</td>\n",
       "      <td>-0.008983</td>\n",
       "      <td>0.014724</td>\n",
       "      <td>0</td>\n",
       "      <td>-0.342475</td>\n",
       "    </tr>\n",
       "    <tr>\n",
       "      <th>2</th>\n",
       "      <td>-1.358354</td>\n",
       "      <td>-1.340163</td>\n",
       "      <td>1.773209</td>\n",
       "      <td>0.379780</td>\n",
       "      <td>-0.503198</td>\n",
       "      <td>1.800499</td>\n",
       "      <td>0.791461</td>\n",
       "      <td>0.247676</td>\n",
       "      <td>-1.514654</td>\n",
       "      <td>0.207643</td>\n",
       "      <td>...</td>\n",
       "      <td>0.247998</td>\n",
       "      <td>0.771679</td>\n",
       "      <td>0.909412</td>\n",
       "      <td>-0.689281</td>\n",
       "      <td>-0.327642</td>\n",
       "      <td>-0.139097</td>\n",
       "      <td>-0.055353</td>\n",
       "      <td>-0.059752</td>\n",
       "      <td>0</td>\n",
       "      <td>1.160686</td>\n",
       "    </tr>\n",
       "    <tr>\n",
       "      <th>3</th>\n",
       "      <td>-0.966272</td>\n",
       "      <td>-0.185226</td>\n",
       "      <td>1.792993</td>\n",
       "      <td>-0.863291</td>\n",
       "      <td>-0.010309</td>\n",
       "      <td>1.247203</td>\n",
       "      <td>0.237609</td>\n",
       "      <td>0.377436</td>\n",
       "      <td>-1.387024</td>\n",
       "      <td>-0.054952</td>\n",
       "      <td>...</td>\n",
       "      <td>-0.108300</td>\n",
       "      <td>0.005274</td>\n",
       "      <td>-0.190321</td>\n",
       "      <td>-1.175575</td>\n",
       "      <td>0.647376</td>\n",
       "      <td>-0.221929</td>\n",
       "      <td>0.062723</td>\n",
       "      <td>0.061458</td>\n",
       "      <td>0</td>\n",
       "      <td>0.140534</td>\n",
       "    </tr>\n",
       "    <tr>\n",
       "      <th>4</th>\n",
       "      <td>-1.158233</td>\n",
       "      <td>0.877737</td>\n",
       "      <td>1.548718</td>\n",
       "      <td>0.403034</td>\n",
       "      <td>-0.407193</td>\n",
       "      <td>0.095921</td>\n",
       "      <td>0.592941</td>\n",
       "      <td>-0.270533</td>\n",
       "      <td>0.817739</td>\n",
       "      <td>0.753074</td>\n",
       "      <td>...</td>\n",
       "      <td>-0.009431</td>\n",
       "      <td>0.798278</td>\n",
       "      <td>-0.137458</td>\n",
       "      <td>0.141267</td>\n",
       "      <td>-0.206010</td>\n",
       "      <td>0.502292</td>\n",
       "      <td>0.219422</td>\n",
       "      <td>0.215153</td>\n",
       "      <td>0</td>\n",
       "      <td>-0.073403</td>\n",
       "    </tr>\n",
       "  </tbody>\n",
       "</table>\n",
       "<p>5 rows × 30 columns</p>\n",
       "</div>"
      ],
      "text/plain": [
       "         V1        V2        V3        V4        V5        V6        V7  \\\n",
       "0 -1.359807 -0.072781  2.536347  1.378155 -0.338321  0.462388  0.239599   \n",
       "1  1.191857  0.266151  0.166480  0.448154  0.060018 -0.082361 -0.078803   \n",
       "2 -1.358354 -1.340163  1.773209  0.379780 -0.503198  1.800499  0.791461   \n",
       "3 -0.966272 -0.185226  1.792993 -0.863291 -0.010309  1.247203  0.237609   \n",
       "4 -1.158233  0.877737  1.548718  0.403034 -0.407193  0.095921  0.592941   \n",
       "\n",
       "         V8        V9       V10     ...           V21       V22       V23  \\\n",
       "0  0.098698  0.363787  0.090794     ...     -0.018307  0.277838 -0.110474   \n",
       "1  0.085102 -0.255425 -0.166974     ...     -0.225775 -0.638672  0.101288   \n",
       "2  0.247676 -1.514654  0.207643     ...      0.247998  0.771679  0.909412   \n",
       "3  0.377436 -1.387024 -0.054952     ...     -0.108300  0.005274 -0.190321   \n",
       "4 -0.270533  0.817739  0.753074     ...     -0.009431  0.798278 -0.137458   \n",
       "\n",
       "        V24       V25       V26       V27       V28  Class  normAmount  \n",
       "0  0.066928  0.128539 -0.189115  0.133558 -0.021053      0    0.244964  \n",
       "1 -0.339846  0.167170  0.125895 -0.008983  0.014724      0   -0.342475  \n",
       "2 -0.689281 -0.327642 -0.139097 -0.055353 -0.059752      0    1.160686  \n",
       "3 -1.175575  0.647376 -0.221929  0.062723  0.061458      0    0.140534  \n",
       "4  0.141267 -0.206010  0.502292  0.219422  0.215153      0   -0.073403  \n",
       "\n",
       "[5 rows x 30 columns]"
      ]
     },
     "execution_count": 89,
     "metadata": {},
     "output_type": "execute_result"
    }
   ],
   "source": [
    "dfMod.head()"
   ]
  },
  {
   "cell_type": "code",
   "execution_count": 90,
   "metadata": {},
   "outputs": [
    {
     "data": {
      "text/html": [
       "<div>\n",
       "<style>\n",
       "    .dataframe thead tr:only-child th {\n",
       "        text-align: right;\n",
       "    }\n",
       "\n",
       "    .dataframe thead th {\n",
       "        text-align: left;\n",
       "    }\n",
       "\n",
       "    .dataframe tbody tr th {\n",
       "        vertical-align: top;\n",
       "    }\n",
       "</style>\n",
       "<table border=\"1\" class=\"dataframe\">\n",
       "  <thead>\n",
       "    <tr style=\"text-align: right;\">\n",
       "      <th></th>\n",
       "      <th>V1</th>\n",
       "      <th>V2</th>\n",
       "      <th>V3</th>\n",
       "      <th>V4</th>\n",
       "      <th>V5</th>\n",
       "      <th>V6</th>\n",
       "      <th>V7</th>\n",
       "      <th>V8</th>\n",
       "      <th>V9</th>\n",
       "      <th>V10</th>\n",
       "      <th>...</th>\n",
       "      <th>V20</th>\n",
       "      <th>V21</th>\n",
       "      <th>V22</th>\n",
       "      <th>V23</th>\n",
       "      <th>V24</th>\n",
       "      <th>V25</th>\n",
       "      <th>V26</th>\n",
       "      <th>V27</th>\n",
       "      <th>V28</th>\n",
       "      <th>normAmount</th>\n",
       "    </tr>\n",
       "  </thead>\n",
       "  <tbody>\n",
       "    <tr>\n",
       "      <th>541</th>\n",
       "      <td>-2.312227</td>\n",
       "      <td>1.951992</td>\n",
       "      <td>-1.609851</td>\n",
       "      <td>3.997906</td>\n",
       "      <td>-0.522188</td>\n",
       "      <td>-1.426545</td>\n",
       "      <td>-2.537387</td>\n",
       "      <td>1.391657</td>\n",
       "      <td>-2.770089</td>\n",
       "      <td>-2.772272</td>\n",
       "      <td>...</td>\n",
       "      <td>0.126911</td>\n",
       "      <td>0.517232</td>\n",
       "      <td>-0.035049</td>\n",
       "      <td>-0.465211</td>\n",
       "      <td>0.320198</td>\n",
       "      <td>0.044519</td>\n",
       "      <td>0.177840</td>\n",
       "      <td>0.261145</td>\n",
       "      <td>-0.143276</td>\n",
       "      <td>-0.353229</td>\n",
       "    </tr>\n",
       "    <tr>\n",
       "      <th>623</th>\n",
       "      <td>-3.043541</td>\n",
       "      <td>-3.157307</td>\n",
       "      <td>1.088463</td>\n",
       "      <td>2.288644</td>\n",
       "      <td>1.359805</td>\n",
       "      <td>-1.064823</td>\n",
       "      <td>0.325574</td>\n",
       "      <td>-0.067794</td>\n",
       "      <td>-0.270953</td>\n",
       "      <td>-0.838587</td>\n",
       "      <td>...</td>\n",
       "      <td>2.102339</td>\n",
       "      <td>0.661696</td>\n",
       "      <td>0.435477</td>\n",
       "      <td>1.375966</td>\n",
       "      <td>-0.293803</td>\n",
       "      <td>0.279798</td>\n",
       "      <td>-0.145362</td>\n",
       "      <td>-0.252773</td>\n",
       "      <td>0.035764</td>\n",
       "      <td>1.761758</td>\n",
       "    </tr>\n",
       "    <tr>\n",
       "      <th>4920</th>\n",
       "      <td>-2.303350</td>\n",
       "      <td>1.759247</td>\n",
       "      <td>-0.359745</td>\n",
       "      <td>2.330243</td>\n",
       "      <td>-0.821628</td>\n",
       "      <td>-0.075788</td>\n",
       "      <td>0.562320</td>\n",
       "      <td>-0.399147</td>\n",
       "      <td>-0.238253</td>\n",
       "      <td>-1.525412</td>\n",
       "      <td>...</td>\n",
       "      <td>-0.430022</td>\n",
       "      <td>-0.294166</td>\n",
       "      <td>-0.932391</td>\n",
       "      <td>0.172726</td>\n",
       "      <td>-0.087330</td>\n",
       "      <td>-0.156114</td>\n",
       "      <td>-0.542628</td>\n",
       "      <td>0.039566</td>\n",
       "      <td>-0.153029</td>\n",
       "      <td>0.606031</td>\n",
       "    </tr>\n",
       "    <tr>\n",
       "      <th>6108</th>\n",
       "      <td>-4.397974</td>\n",
       "      <td>1.358367</td>\n",
       "      <td>-2.592844</td>\n",
       "      <td>2.679787</td>\n",
       "      <td>-1.128131</td>\n",
       "      <td>-1.706536</td>\n",
       "      <td>-3.496197</td>\n",
       "      <td>-0.248778</td>\n",
       "      <td>-0.247768</td>\n",
       "      <td>-4.801637</td>\n",
       "      <td>...</td>\n",
       "      <td>-0.171608</td>\n",
       "      <td>0.573574</td>\n",
       "      <td>0.176968</td>\n",
       "      <td>-0.436207</td>\n",
       "      <td>-0.053502</td>\n",
       "      <td>0.252405</td>\n",
       "      <td>-0.657488</td>\n",
       "      <td>-0.827136</td>\n",
       "      <td>0.849573</td>\n",
       "      <td>-0.117342</td>\n",
       "    </tr>\n",
       "    <tr>\n",
       "      <th>6329</th>\n",
       "      <td>1.234235</td>\n",
       "      <td>3.019740</td>\n",
       "      <td>-4.304597</td>\n",
       "      <td>4.732795</td>\n",
       "      <td>3.624201</td>\n",
       "      <td>-1.357746</td>\n",
       "      <td>1.713445</td>\n",
       "      <td>-0.496358</td>\n",
       "      <td>-1.282858</td>\n",
       "      <td>-2.447469</td>\n",
       "      <td>...</td>\n",
       "      <td>0.009061</td>\n",
       "      <td>-0.379068</td>\n",
       "      <td>-0.704181</td>\n",
       "      <td>-0.656805</td>\n",
       "      <td>-1.632653</td>\n",
       "      <td>1.488901</td>\n",
       "      <td>0.566797</td>\n",
       "      <td>-0.010016</td>\n",
       "      <td>0.146793</td>\n",
       "      <td>-0.349231</td>\n",
       "    </tr>\n",
       "  </tbody>\n",
       "</table>\n",
       "<p>5 rows × 29 columns</p>\n",
       "</div>"
      ],
      "text/plain": [
       "            V1        V2        V3        V4        V5        V6        V7  \\\n",
       "541  -2.312227  1.951992 -1.609851  3.997906 -0.522188 -1.426545 -2.537387   \n",
       "623  -3.043541 -3.157307  1.088463  2.288644  1.359805 -1.064823  0.325574   \n",
       "4920 -2.303350  1.759247 -0.359745  2.330243 -0.821628 -0.075788  0.562320   \n",
       "6108 -4.397974  1.358367 -2.592844  2.679787 -1.128131 -1.706536 -3.496197   \n",
       "6329  1.234235  3.019740 -4.304597  4.732795  3.624201 -1.357746  1.713445   \n",
       "\n",
       "            V8        V9       V10     ...           V20       V21       V22  \\\n",
       "541   1.391657 -2.770089 -2.772272     ...      0.126911  0.517232 -0.035049   \n",
       "623  -0.067794 -0.270953 -0.838587     ...      2.102339  0.661696  0.435477   \n",
       "4920 -0.399147 -0.238253 -1.525412     ...     -0.430022 -0.294166 -0.932391   \n",
       "6108 -0.248778 -0.247768 -4.801637     ...     -0.171608  0.573574  0.176968   \n",
       "6329 -0.496358 -1.282858 -2.447469     ...      0.009061 -0.379068 -0.704181   \n",
       "\n",
       "           V23       V24       V25       V26       V27       V28  normAmount  \n",
       "541  -0.465211  0.320198  0.044519  0.177840  0.261145 -0.143276   -0.353229  \n",
       "623   1.375966 -0.293803  0.279798 -0.145362 -0.252773  0.035764    1.761758  \n",
       "4920  0.172726 -0.087330 -0.156114 -0.542628  0.039566 -0.153029    0.606031  \n",
       "6108 -0.436207 -0.053502  0.252405 -0.657488 -0.827136  0.849573   -0.117342  \n",
       "6329 -0.656805 -1.632653  1.488901  0.566797 -0.010016  0.146793   -0.349231  \n",
       "\n",
       "[5 rows x 29 columns]"
      ]
     },
     "execution_count": 90,
     "metadata": {},
     "output_type": "execute_result"
    }
   ],
   "source": [
    "FraudTransactionModX.head()"
   ]
  },
  {
   "cell_type": "code",
   "execution_count": 91,
   "metadata": {},
   "outputs": [
    {
     "data": {
      "text/plain": [
       "V2    1.951992\n",
       "V3   -1.609851\n",
       "V4    3.997906\n",
       "Name: 541, dtype: float64"
      ]
     },
     "execution_count": 91,
     "metadata": {},
     "output_type": "execute_result"
    }
   ],
   "source": [
    "dfMod.iloc[541,1:4]"
   ]
  },
  {
   "cell_type": "code",
   "execution_count": 92,
   "metadata": {},
   "outputs": [
    {
     "data": {
      "text/html": [
       "<div>\n",
       "<style>\n",
       "    .dataframe thead tr:only-child th {\n",
       "        text-align: right;\n",
       "    }\n",
       "\n",
       "    .dataframe thead th {\n",
       "        text-align: left;\n",
       "    }\n",
       "\n",
       "    .dataframe tbody tr th {\n",
       "        vertical-align: top;\n",
       "    }\n",
       "</style>\n",
       "<table border=\"1\" class=\"dataframe\">\n",
       "  <thead>\n",
       "    <tr style=\"text-align: right;\">\n",
       "      <th></th>\n",
       "      <th>V1</th>\n",
       "      <th>V2</th>\n",
       "      <th>V3</th>\n",
       "      <th>V4</th>\n",
       "      <th>V5</th>\n",
       "      <th>V6</th>\n",
       "      <th>V7</th>\n",
       "      <th>V8</th>\n",
       "      <th>V9</th>\n",
       "      <th>V10</th>\n",
       "      <th>...</th>\n",
       "      <th>V20</th>\n",
       "      <th>V21</th>\n",
       "      <th>V22</th>\n",
       "      <th>V23</th>\n",
       "      <th>V24</th>\n",
       "      <th>V25</th>\n",
       "      <th>V26</th>\n",
       "      <th>V27</th>\n",
       "      <th>V28</th>\n",
       "      <th>normAmount</th>\n",
       "    </tr>\n",
       "  </thead>\n",
       "  <tbody>\n",
       "    <tr>\n",
       "      <th>191544</th>\n",
       "      <td>0.054682</td>\n",
       "      <td>1.856500</td>\n",
       "      <td>-4.075451</td>\n",
       "      <td>4.100098</td>\n",
       "      <td>-0.800931</td>\n",
       "      <td>-0.292502</td>\n",
       "      <td>-2.317431</td>\n",
       "      <td>1.189747</td>\n",
       "      <td>-0.786238</td>\n",
       "      <td>-3.906746</td>\n",
       "      <td>...</td>\n",
       "      <td>0.509559</td>\n",
       "      <td>0.618248</td>\n",
       "      <td>0.800932</td>\n",
       "      <td>0.130016</td>\n",
       "      <td>0.288946</td>\n",
       "      <td>-0.366658</td>\n",
       "      <td>0.030307</td>\n",
       "      <td>0.431182</td>\n",
       "      <td>0.110698</td>\n",
       "      <td>-0.029784</td>\n",
       "    </tr>\n",
       "    <tr>\n",
       "      <th>150668</th>\n",
       "      <td>-10.632375</td>\n",
       "      <td>7.251936</td>\n",
       "      <td>-17.681072</td>\n",
       "      <td>8.204144</td>\n",
       "      <td>-10.166591</td>\n",
       "      <td>-4.510344</td>\n",
       "      <td>-12.981606</td>\n",
       "      <td>6.783589</td>\n",
       "      <td>-4.659330</td>\n",
       "      <td>-14.924655</td>\n",
       "      <td>...</td>\n",
       "      <td>-0.810146</td>\n",
       "      <td>2.715357</td>\n",
       "      <td>0.695603</td>\n",
       "      <td>-1.138122</td>\n",
       "      <td>0.459442</td>\n",
       "      <td>0.386337</td>\n",
       "      <td>0.522438</td>\n",
       "      <td>-1.416604</td>\n",
       "      <td>-0.488307</td>\n",
       "      <td>0.400490</td>\n",
       "    </tr>\n",
       "  </tbody>\n",
       "</table>\n",
       "<p>2 rows × 29 columns</p>\n",
       "</div>"
      ],
      "text/plain": [
       "               V1        V2         V3        V4         V5        V6  \\\n",
       "191544   0.054682  1.856500  -4.075451  4.100098  -0.800931 -0.292502   \n",
       "150668 -10.632375  7.251936 -17.681072  8.204144 -10.166591 -4.510344   \n",
       "\n",
       "               V7        V8        V9        V10     ...           V20  \\\n",
       "191544  -2.317431  1.189747 -0.786238  -3.906746     ...      0.509559   \n",
       "150668 -12.981606  6.783589 -4.659330 -14.924655     ...     -0.810146   \n",
       "\n",
       "             V21       V22       V23       V24       V25       V26       V27  \\\n",
       "191544  0.618248  0.800932  0.130016  0.288946 -0.366658  0.030307  0.431182   \n",
       "150668  2.715357  0.695603 -1.138122  0.459442  0.386337  0.522438 -1.416604   \n",
       "\n",
       "             V28  normAmount  \n",
       "191544  0.110698   -0.029784  \n",
       "150668 -0.488307    0.400490  \n",
       "\n",
       "[2 rows x 29 columns]"
      ]
     },
     "execution_count": 92,
     "metadata": {},
     "output_type": "execute_result"
    }
   ],
   "source": [
    "FraudTransactionModX.sample(n= 2)"
   ]
  },
  {
   "cell_type": "code",
   "execution_count": 93,
   "metadata": {},
   "outputs": [
    {
     "data": {
      "text/plain": [
       "V2    12.785971\n",
       "V3    -9.906650\n",
       "V4     3.320337\n",
       "Name: 102445, dtype: float64"
      ]
     },
     "execution_count": 93,
     "metadata": {},
     "output_type": "execute_result"
    }
   ],
   "source": [
    "dfMod.iloc[102445,1:4]"
   ]
  },
  {
   "cell_type": "markdown",
   "metadata": {},
   "source": [
    "Sample works as expected"
   ]
  },
  {
   "cell_type": "markdown",
   "metadata": {},
   "source": [
    "We will now jump into undersampling. Specifically, we will choose at random numberFraud examples from the Normal transaction data set. Ideally, we should do this random selection multiple times and take an average of results. But will leave it for later. There is no reason to believe that things will change drastically depending on the random choice. "
   ]
  },
  {
   "cell_type": "code",
   "execution_count": 94,
   "metadata": {
    "collapsed": true
   },
   "outputs": [],
   "source": [
    "underSampleNormalX = NormalTransactionModX.sample(n = numberFraud)"
   ]
  },
  {
   "cell_type": "code",
   "execution_count": 95,
   "metadata": {},
   "outputs": [
    {
     "data": {
      "text/html": [
       "<div>\n",
       "<style>\n",
       "    .dataframe thead tr:only-child th {\n",
       "        text-align: right;\n",
       "    }\n",
       "\n",
       "    .dataframe thead th {\n",
       "        text-align: left;\n",
       "    }\n",
       "\n",
       "    .dataframe tbody tr th {\n",
       "        vertical-align: top;\n",
       "    }\n",
       "</style>\n",
       "<table border=\"1\" class=\"dataframe\">\n",
       "  <thead>\n",
       "    <tr style=\"text-align: right;\">\n",
       "      <th></th>\n",
       "      <th>V1</th>\n",
       "      <th>V2</th>\n",
       "      <th>V3</th>\n",
       "      <th>V4</th>\n",
       "      <th>V5</th>\n",
       "      <th>V6</th>\n",
       "      <th>V7</th>\n",
       "      <th>V8</th>\n",
       "      <th>V9</th>\n",
       "      <th>V10</th>\n",
       "      <th>...</th>\n",
       "      <th>V20</th>\n",
       "      <th>V21</th>\n",
       "      <th>V22</th>\n",
       "      <th>V23</th>\n",
       "      <th>V24</th>\n",
       "      <th>V25</th>\n",
       "      <th>V26</th>\n",
       "      <th>V27</th>\n",
       "      <th>V28</th>\n",
       "      <th>normAmount</th>\n",
       "    </tr>\n",
       "  </thead>\n",
       "  <tbody>\n",
       "    <tr>\n",
       "      <th>110184</th>\n",
       "      <td>-1.066843</td>\n",
       "      <td>0.156848</td>\n",
       "      <td>1.169319</td>\n",
       "      <td>-2.986768</td>\n",
       "      <td>-0.612956</td>\n",
       "      <td>0.073655</td>\n",
       "      <td>-0.265748</td>\n",
       "      <td>0.130869</td>\n",
       "      <td>-1.963688</td>\n",
       "      <td>1.866204</td>\n",
       "      <td>...</td>\n",
       "      <td>0.152191</td>\n",
       "      <td>-0.482955</td>\n",
       "      <td>-0.625627</td>\n",
       "      <td>-0.194579</td>\n",
       "      <td>-0.899299</td>\n",
       "      <td>0.040963</td>\n",
       "      <td>-0.538297</td>\n",
       "      <td>0.121663</td>\n",
       "      <td>-0.224320</td>\n",
       "      <td>-0.241283</td>\n",
       "    </tr>\n",
       "    <tr>\n",
       "      <th>12662</th>\n",
       "      <td>1.186488</td>\n",
       "      <td>-0.249223</td>\n",
       "      <td>1.032612</td>\n",
       "      <td>-0.571891</td>\n",
       "      <td>-0.873586</td>\n",
       "      <td>-0.281131</td>\n",
       "      <td>-0.663373</td>\n",
       "      <td>-0.032737</td>\n",
       "      <td>2.955477</td>\n",
       "      <td>-1.527880</td>\n",
       "      <td>...</td>\n",
       "      <td>-0.116959</td>\n",
       "      <td>-0.117560</td>\n",
       "      <td>0.215653</td>\n",
       "      <td>-0.015491</td>\n",
       "      <td>0.063980</td>\n",
       "      <td>0.432840</td>\n",
       "      <td>-0.699871</td>\n",
       "      <td>0.087647</td>\n",
       "      <td>0.029430</td>\n",
       "      <td>-0.305852</td>\n",
       "    </tr>\n",
       "    <tr>\n",
       "      <th>107630</th>\n",
       "      <td>-1.787242</td>\n",
       "      <td>0.227820</td>\n",
       "      <td>0.736906</td>\n",
       "      <td>-1.406726</td>\n",
       "      <td>-1.527773</td>\n",
       "      <td>-0.104907</td>\n",
       "      <td>-1.347567</td>\n",
       "      <td>1.229743</td>\n",
       "      <td>-0.904559</td>\n",
       "      <td>-0.096175</td>\n",
       "      <td>...</td>\n",
       "      <td>-0.380987</td>\n",
       "      <td>0.571351</td>\n",
       "      <td>1.431000</td>\n",
       "      <td>0.037344</td>\n",
       "      <td>0.280040</td>\n",
       "      <td>-0.236640</td>\n",
       "      <td>-0.292084</td>\n",
       "      <td>-0.803056</td>\n",
       "      <td>-0.392232</td>\n",
       "      <td>-0.316967</td>\n",
       "    </tr>\n",
       "    <tr>\n",
       "      <th>153610</th>\n",
       "      <td>1.948870</td>\n",
       "      <td>-1.267213</td>\n",
       "      <td>-3.205275</td>\n",
       "      <td>-1.568744</td>\n",
       "      <td>2.144763</td>\n",
       "      <td>3.106998</td>\n",
       "      <td>-0.508760</td>\n",
       "      <td>0.481979</td>\n",
       "      <td>0.535356</td>\n",
       "      <td>0.389533</td>\n",
       "      <td>...</td>\n",
       "      <td>0.265310</td>\n",
       "      <td>0.152835</td>\n",
       "      <td>0.360000</td>\n",
       "      <td>-0.088403</td>\n",
       "      <td>0.708016</td>\n",
       "      <td>0.321557</td>\n",
       "      <td>-0.030376</td>\n",
       "      <td>-0.093369</td>\n",
       "      <td>-0.063850</td>\n",
       "      <td>0.284026</td>\n",
       "    </tr>\n",
       "    <tr>\n",
       "      <th>78064</th>\n",
       "      <td>0.946928</td>\n",
       "      <td>-0.144497</td>\n",
       "      <td>0.133049</td>\n",
       "      <td>1.094965</td>\n",
       "      <td>-0.062093</td>\n",
       "      <td>0.145908</td>\n",
       "      <td>0.078642</td>\n",
       "      <td>0.093164</td>\n",
       "      <td>-0.226857</td>\n",
       "      <td>0.144769</td>\n",
       "      <td>...</td>\n",
       "      <td>0.067842</td>\n",
       "      <td>0.194871</td>\n",
       "      <td>0.334861</td>\n",
       "      <td>-0.232244</td>\n",
       "      <td>-0.298750</td>\n",
       "      <td>0.563724</td>\n",
       "      <td>-0.259578</td>\n",
       "      <td>0.006746</td>\n",
       "      <td>0.024784</td>\n",
       "      <td>0.128140</td>\n",
       "    </tr>\n",
       "  </tbody>\n",
       "</table>\n",
       "<p>5 rows × 29 columns</p>\n",
       "</div>"
      ],
      "text/plain": [
       "              V1        V2        V3        V4        V5        V6        V7  \\\n",
       "110184 -1.066843  0.156848  1.169319 -2.986768 -0.612956  0.073655 -0.265748   \n",
       "12662   1.186488 -0.249223  1.032612 -0.571891 -0.873586 -0.281131 -0.663373   \n",
       "107630 -1.787242  0.227820  0.736906 -1.406726 -1.527773 -0.104907 -1.347567   \n",
       "153610  1.948870 -1.267213 -3.205275 -1.568744  2.144763  3.106998 -0.508760   \n",
       "78064   0.946928 -0.144497  0.133049  1.094965 -0.062093  0.145908  0.078642   \n",
       "\n",
       "              V8        V9       V10     ...           V20       V21  \\\n",
       "110184  0.130869 -1.963688  1.866204     ...      0.152191 -0.482955   \n",
       "12662  -0.032737  2.955477 -1.527880     ...     -0.116959 -0.117560   \n",
       "107630  1.229743 -0.904559 -0.096175     ...     -0.380987  0.571351   \n",
       "153610  0.481979  0.535356  0.389533     ...      0.265310  0.152835   \n",
       "78064   0.093164 -0.226857  0.144769     ...      0.067842  0.194871   \n",
       "\n",
       "             V22       V23       V24       V25       V26       V27       V28  \\\n",
       "110184 -0.625627 -0.194579 -0.899299  0.040963 -0.538297  0.121663 -0.224320   \n",
       "12662   0.215653 -0.015491  0.063980  0.432840 -0.699871  0.087647  0.029430   \n",
       "107630  1.431000  0.037344  0.280040 -0.236640 -0.292084 -0.803056 -0.392232   \n",
       "153610  0.360000 -0.088403  0.708016  0.321557 -0.030376 -0.093369 -0.063850   \n",
       "78064   0.334861 -0.232244 -0.298750  0.563724 -0.259578  0.006746  0.024784   \n",
       "\n",
       "        normAmount  \n",
       "110184   -0.241283  \n",
       "12662    -0.305852  \n",
       "107630   -0.316967  \n",
       "153610    0.284026  \n",
       "78064     0.128140  \n",
       "\n",
       "[5 rows x 29 columns]"
      ]
     },
     "execution_count": 95,
     "metadata": {},
     "output_type": "execute_result"
    }
   ],
   "source": [
    "underSampleNormalX.head()"
   ]
  },
  {
   "cell_type": "code",
   "execution_count": 96,
   "metadata": {},
   "outputs": [
    {
     "data": {
      "text/plain": [
       "-1.0668427337338802"
      ]
     },
     "execution_count": 96,
     "metadata": {},
     "output_type": "execute_result"
    }
   ],
   "source": [
    "underSampleNormalX.iloc[0,0]"
   ]
  },
  {
   "cell_type": "code",
   "execution_count": 97,
   "metadata": {
    "collapsed": true
   },
   "outputs": [],
   "source": [
    "underSampleNormalY = NormalTransactionModY.sample(n = numberFraud)"
   ]
  },
  {
   "cell_type": "code",
   "execution_count": 98,
   "metadata": {
    "collapsed": true
   },
   "outputs": [],
   "source": [
    "underSampleNormPlusFraudX = pd.concat([underSampleNormalX, FraudTransactionModX])"
   ]
  },
  {
   "cell_type": "code",
   "execution_count": 99,
   "metadata": {},
   "outputs": [
    {
     "data": {
      "text/html": [
       "<div>\n",
       "<style>\n",
       "    .dataframe thead tr:only-child th {\n",
       "        text-align: right;\n",
       "    }\n",
       "\n",
       "    .dataframe thead th {\n",
       "        text-align: left;\n",
       "    }\n",
       "\n",
       "    .dataframe tbody tr th {\n",
       "        vertical-align: top;\n",
       "    }\n",
       "</style>\n",
       "<table border=\"1\" class=\"dataframe\">\n",
       "  <thead>\n",
       "    <tr style=\"text-align: right;\">\n",
       "      <th></th>\n",
       "      <th>V1</th>\n",
       "      <th>V2</th>\n",
       "      <th>V3</th>\n",
       "      <th>V4</th>\n",
       "      <th>V5</th>\n",
       "      <th>V6</th>\n",
       "      <th>V7</th>\n",
       "      <th>V8</th>\n",
       "      <th>V9</th>\n",
       "      <th>V10</th>\n",
       "      <th>...</th>\n",
       "      <th>V20</th>\n",
       "      <th>V21</th>\n",
       "      <th>V22</th>\n",
       "      <th>V23</th>\n",
       "      <th>V24</th>\n",
       "      <th>V25</th>\n",
       "      <th>V26</th>\n",
       "      <th>V27</th>\n",
       "      <th>V28</th>\n",
       "      <th>normAmount</th>\n",
       "    </tr>\n",
       "  </thead>\n",
       "  <tbody>\n",
       "    <tr>\n",
       "      <th>110184</th>\n",
       "      <td>-1.066843</td>\n",
       "      <td>0.156848</td>\n",
       "      <td>1.169319</td>\n",
       "      <td>-2.986768</td>\n",
       "      <td>-0.612956</td>\n",
       "      <td>0.073655</td>\n",
       "      <td>-0.265748</td>\n",
       "      <td>0.130869</td>\n",
       "      <td>-1.963688</td>\n",
       "      <td>1.866204</td>\n",
       "      <td>...</td>\n",
       "      <td>0.152191</td>\n",
       "      <td>-0.482955</td>\n",
       "      <td>-0.625627</td>\n",
       "      <td>-0.194579</td>\n",
       "      <td>-0.899299</td>\n",
       "      <td>0.040963</td>\n",
       "      <td>-0.538297</td>\n",
       "      <td>0.121663</td>\n",
       "      <td>-0.224320</td>\n",
       "      <td>-0.241283</td>\n",
       "    </tr>\n",
       "    <tr>\n",
       "      <th>12662</th>\n",
       "      <td>1.186488</td>\n",
       "      <td>-0.249223</td>\n",
       "      <td>1.032612</td>\n",
       "      <td>-0.571891</td>\n",
       "      <td>-0.873586</td>\n",
       "      <td>-0.281131</td>\n",
       "      <td>-0.663373</td>\n",
       "      <td>-0.032737</td>\n",
       "      <td>2.955477</td>\n",
       "      <td>-1.527880</td>\n",
       "      <td>...</td>\n",
       "      <td>-0.116959</td>\n",
       "      <td>-0.117560</td>\n",
       "      <td>0.215653</td>\n",
       "      <td>-0.015491</td>\n",
       "      <td>0.063980</td>\n",
       "      <td>0.432840</td>\n",
       "      <td>-0.699871</td>\n",
       "      <td>0.087647</td>\n",
       "      <td>0.029430</td>\n",
       "      <td>-0.305852</td>\n",
       "    </tr>\n",
       "    <tr>\n",
       "      <th>107630</th>\n",
       "      <td>-1.787242</td>\n",
       "      <td>0.227820</td>\n",
       "      <td>0.736906</td>\n",
       "      <td>-1.406726</td>\n",
       "      <td>-1.527773</td>\n",
       "      <td>-0.104907</td>\n",
       "      <td>-1.347567</td>\n",
       "      <td>1.229743</td>\n",
       "      <td>-0.904559</td>\n",
       "      <td>-0.096175</td>\n",
       "      <td>...</td>\n",
       "      <td>-0.380987</td>\n",
       "      <td>0.571351</td>\n",
       "      <td>1.431000</td>\n",
       "      <td>0.037344</td>\n",
       "      <td>0.280040</td>\n",
       "      <td>-0.236640</td>\n",
       "      <td>-0.292084</td>\n",
       "      <td>-0.803056</td>\n",
       "      <td>-0.392232</td>\n",
       "      <td>-0.316967</td>\n",
       "    </tr>\n",
       "    <tr>\n",
       "      <th>153610</th>\n",
       "      <td>1.948870</td>\n",
       "      <td>-1.267213</td>\n",
       "      <td>-3.205275</td>\n",
       "      <td>-1.568744</td>\n",
       "      <td>2.144763</td>\n",
       "      <td>3.106998</td>\n",
       "      <td>-0.508760</td>\n",
       "      <td>0.481979</td>\n",
       "      <td>0.535356</td>\n",
       "      <td>0.389533</td>\n",
       "      <td>...</td>\n",
       "      <td>0.265310</td>\n",
       "      <td>0.152835</td>\n",
       "      <td>0.360000</td>\n",
       "      <td>-0.088403</td>\n",
       "      <td>0.708016</td>\n",
       "      <td>0.321557</td>\n",
       "      <td>-0.030376</td>\n",
       "      <td>-0.093369</td>\n",
       "      <td>-0.063850</td>\n",
       "      <td>0.284026</td>\n",
       "    </tr>\n",
       "    <tr>\n",
       "      <th>78064</th>\n",
       "      <td>0.946928</td>\n",
       "      <td>-0.144497</td>\n",
       "      <td>0.133049</td>\n",
       "      <td>1.094965</td>\n",
       "      <td>-0.062093</td>\n",
       "      <td>0.145908</td>\n",
       "      <td>0.078642</td>\n",
       "      <td>0.093164</td>\n",
       "      <td>-0.226857</td>\n",
       "      <td>0.144769</td>\n",
       "      <td>...</td>\n",
       "      <td>0.067842</td>\n",
       "      <td>0.194871</td>\n",
       "      <td>0.334861</td>\n",
       "      <td>-0.232244</td>\n",
       "      <td>-0.298750</td>\n",
       "      <td>0.563724</td>\n",
       "      <td>-0.259578</td>\n",
       "      <td>0.006746</td>\n",
       "      <td>0.024784</td>\n",
       "      <td>0.128140</td>\n",
       "    </tr>\n",
       "  </tbody>\n",
       "</table>\n",
       "<p>5 rows × 29 columns</p>\n",
       "</div>"
      ],
      "text/plain": [
       "              V1        V2        V3        V4        V5        V6        V7  \\\n",
       "110184 -1.066843  0.156848  1.169319 -2.986768 -0.612956  0.073655 -0.265748   \n",
       "12662   1.186488 -0.249223  1.032612 -0.571891 -0.873586 -0.281131 -0.663373   \n",
       "107630 -1.787242  0.227820  0.736906 -1.406726 -1.527773 -0.104907 -1.347567   \n",
       "153610  1.948870 -1.267213 -3.205275 -1.568744  2.144763  3.106998 -0.508760   \n",
       "78064   0.946928 -0.144497  0.133049  1.094965 -0.062093  0.145908  0.078642   \n",
       "\n",
       "              V8        V9       V10     ...           V20       V21  \\\n",
       "110184  0.130869 -1.963688  1.866204     ...      0.152191 -0.482955   \n",
       "12662  -0.032737  2.955477 -1.527880     ...     -0.116959 -0.117560   \n",
       "107630  1.229743 -0.904559 -0.096175     ...     -0.380987  0.571351   \n",
       "153610  0.481979  0.535356  0.389533     ...      0.265310  0.152835   \n",
       "78064   0.093164 -0.226857  0.144769     ...      0.067842  0.194871   \n",
       "\n",
       "             V22       V23       V24       V25       V26       V27       V28  \\\n",
       "110184 -0.625627 -0.194579 -0.899299  0.040963 -0.538297  0.121663 -0.224320   \n",
       "12662   0.215653 -0.015491  0.063980  0.432840 -0.699871  0.087647  0.029430   \n",
       "107630  1.431000  0.037344  0.280040 -0.236640 -0.292084 -0.803056 -0.392232   \n",
       "153610  0.360000 -0.088403  0.708016  0.321557 -0.030376 -0.093369 -0.063850   \n",
       "78064   0.334861 -0.232244 -0.298750  0.563724 -0.259578  0.006746  0.024784   \n",
       "\n",
       "        normAmount  \n",
       "110184   -0.241283  \n",
       "12662    -0.305852  \n",
       "107630   -0.316967  \n",
       "153610    0.284026  \n",
       "78064     0.128140  \n",
       "\n",
       "[5 rows x 29 columns]"
      ]
     },
     "execution_count": 99,
     "metadata": {},
     "output_type": "execute_result"
    }
   ],
   "source": [
    "underSampleNormPlusFraudX.head()"
   ]
  },
  {
   "cell_type": "code",
   "execution_count": 100,
   "metadata": {},
   "outputs": [
    {
     "data": {
      "text/html": [
       "<div>\n",
       "<style>\n",
       "    .dataframe thead tr:only-child th {\n",
       "        text-align: right;\n",
       "    }\n",
       "\n",
       "    .dataframe thead th {\n",
       "        text-align: left;\n",
       "    }\n",
       "\n",
       "    .dataframe tbody tr th {\n",
       "        vertical-align: top;\n",
       "    }\n",
       "</style>\n",
       "<table border=\"1\" class=\"dataframe\">\n",
       "  <thead>\n",
       "    <tr style=\"text-align: right;\">\n",
       "      <th></th>\n",
       "      <th>V1</th>\n",
       "      <th>V2</th>\n",
       "      <th>V3</th>\n",
       "      <th>V4</th>\n",
       "      <th>V5</th>\n",
       "      <th>V6</th>\n",
       "      <th>V7</th>\n",
       "      <th>V8</th>\n",
       "      <th>V9</th>\n",
       "      <th>V10</th>\n",
       "      <th>...</th>\n",
       "      <th>V20</th>\n",
       "      <th>V21</th>\n",
       "      <th>V22</th>\n",
       "      <th>V23</th>\n",
       "      <th>V24</th>\n",
       "      <th>V25</th>\n",
       "      <th>V26</th>\n",
       "      <th>V27</th>\n",
       "      <th>V28</th>\n",
       "      <th>normAmount</th>\n",
       "    </tr>\n",
       "  </thead>\n",
       "  <tbody>\n",
       "    <tr>\n",
       "      <th>279863</th>\n",
       "      <td>-1.927883</td>\n",
       "      <td>1.125653</td>\n",
       "      <td>-4.518331</td>\n",
       "      <td>1.749293</td>\n",
       "      <td>-1.566487</td>\n",
       "      <td>-2.010494</td>\n",
       "      <td>-0.882850</td>\n",
       "      <td>0.697211</td>\n",
       "      <td>-2.064945</td>\n",
       "      <td>-5.587794</td>\n",
       "      <td>...</td>\n",
       "      <td>1.252967</td>\n",
       "      <td>0.778584</td>\n",
       "      <td>-0.319189</td>\n",
       "      <td>0.639419</td>\n",
       "      <td>-0.294885</td>\n",
       "      <td>0.537503</td>\n",
       "      <td>0.788395</td>\n",
       "      <td>0.292680</td>\n",
       "      <td>0.147968</td>\n",
       "      <td>1.206024</td>\n",
       "    </tr>\n",
       "    <tr>\n",
       "      <th>280143</th>\n",
       "      <td>1.378559</td>\n",
       "      <td>1.289381</td>\n",
       "      <td>-5.004247</td>\n",
       "      <td>1.411850</td>\n",
       "      <td>0.442581</td>\n",
       "      <td>-1.326536</td>\n",
       "      <td>-1.413170</td>\n",
       "      <td>0.248525</td>\n",
       "      <td>-1.127396</td>\n",
       "      <td>-3.232153</td>\n",
       "      <td>...</td>\n",
       "      <td>0.226138</td>\n",
       "      <td>0.370612</td>\n",
       "      <td>0.028234</td>\n",
       "      <td>-0.145640</td>\n",
       "      <td>-0.081049</td>\n",
       "      <td>0.521875</td>\n",
       "      <td>0.739467</td>\n",
       "      <td>0.389152</td>\n",
       "      <td>0.186637</td>\n",
       "      <td>-0.350191</td>\n",
       "    </tr>\n",
       "    <tr>\n",
       "      <th>280149</th>\n",
       "      <td>-0.676143</td>\n",
       "      <td>1.126366</td>\n",
       "      <td>-2.213700</td>\n",
       "      <td>0.468308</td>\n",
       "      <td>-1.120541</td>\n",
       "      <td>-0.003346</td>\n",
       "      <td>-2.234739</td>\n",
       "      <td>1.210158</td>\n",
       "      <td>-0.652250</td>\n",
       "      <td>-3.463891</td>\n",
       "      <td>...</td>\n",
       "      <td>0.247968</td>\n",
       "      <td>0.751826</td>\n",
       "      <td>0.834108</td>\n",
       "      <td>0.190944</td>\n",
       "      <td>0.032070</td>\n",
       "      <td>-0.739695</td>\n",
       "      <td>0.471111</td>\n",
       "      <td>0.385107</td>\n",
       "      <td>0.194361</td>\n",
       "      <td>-0.041818</td>\n",
       "    </tr>\n",
       "    <tr>\n",
       "      <th>281144</th>\n",
       "      <td>-3.113832</td>\n",
       "      <td>0.585864</td>\n",
       "      <td>-5.399730</td>\n",
       "      <td>1.817092</td>\n",
       "      <td>-0.840618</td>\n",
       "      <td>-2.943548</td>\n",
       "      <td>-2.208002</td>\n",
       "      <td>1.058733</td>\n",
       "      <td>-1.632333</td>\n",
       "      <td>-5.245984</td>\n",
       "      <td>...</td>\n",
       "      <td>0.306271</td>\n",
       "      <td>0.583276</td>\n",
       "      <td>-0.269209</td>\n",
       "      <td>-0.456108</td>\n",
       "      <td>-0.183659</td>\n",
       "      <td>-0.328168</td>\n",
       "      <td>0.606116</td>\n",
       "      <td>0.884876</td>\n",
       "      <td>-0.253700</td>\n",
       "      <td>0.626302</td>\n",
       "    </tr>\n",
       "    <tr>\n",
       "      <th>281674</th>\n",
       "      <td>1.991976</td>\n",
       "      <td>0.158476</td>\n",
       "      <td>-2.583441</td>\n",
       "      <td>0.408670</td>\n",
       "      <td>1.151147</td>\n",
       "      <td>-0.096695</td>\n",
       "      <td>0.223050</td>\n",
       "      <td>-0.068384</td>\n",
       "      <td>0.577829</td>\n",
       "      <td>-0.888722</td>\n",
       "      <td>...</td>\n",
       "      <td>-0.017652</td>\n",
       "      <td>-0.164350</td>\n",
       "      <td>-0.295135</td>\n",
       "      <td>-0.072173</td>\n",
       "      <td>-0.450261</td>\n",
       "      <td>0.313267</td>\n",
       "      <td>-0.289617</td>\n",
       "      <td>0.002988</td>\n",
       "      <td>-0.015309</td>\n",
       "      <td>-0.183191</td>\n",
       "    </tr>\n",
       "  </tbody>\n",
       "</table>\n",
       "<p>5 rows × 29 columns</p>\n",
       "</div>"
      ],
      "text/plain": [
       "              V1        V2        V3        V4        V5        V6        V7  \\\n",
       "279863 -1.927883  1.125653 -4.518331  1.749293 -1.566487 -2.010494 -0.882850   \n",
       "280143  1.378559  1.289381 -5.004247  1.411850  0.442581 -1.326536 -1.413170   \n",
       "280149 -0.676143  1.126366 -2.213700  0.468308 -1.120541 -0.003346 -2.234739   \n",
       "281144 -3.113832  0.585864 -5.399730  1.817092 -0.840618 -2.943548 -2.208002   \n",
       "281674  1.991976  0.158476 -2.583441  0.408670  1.151147 -0.096695  0.223050   \n",
       "\n",
       "              V8        V9       V10     ...           V20       V21  \\\n",
       "279863  0.697211 -2.064945 -5.587794     ...      1.252967  0.778584   \n",
       "280143  0.248525 -1.127396 -3.232153     ...      0.226138  0.370612   \n",
       "280149  1.210158 -0.652250 -3.463891     ...      0.247968  0.751826   \n",
       "281144  1.058733 -1.632333 -5.245984     ...      0.306271  0.583276   \n",
       "281674 -0.068384  0.577829 -0.888722     ...     -0.017652 -0.164350   \n",
       "\n",
       "             V22       V23       V24       V25       V26       V27       V28  \\\n",
       "279863 -0.319189  0.639419 -0.294885  0.537503  0.788395  0.292680  0.147968   \n",
       "280143  0.028234 -0.145640 -0.081049  0.521875  0.739467  0.389152  0.186637   \n",
       "280149  0.834108  0.190944  0.032070 -0.739695  0.471111  0.385107  0.194361   \n",
       "281144 -0.269209 -0.456108 -0.183659 -0.328168  0.606116  0.884876 -0.253700   \n",
       "281674 -0.295135 -0.072173 -0.450261  0.313267 -0.289617  0.002988 -0.015309   \n",
       "\n",
       "        normAmount  \n",
       "279863    1.206024  \n",
       "280143   -0.350191  \n",
       "280149   -0.041818  \n",
       "281144    0.626302  \n",
       "281674   -0.183191  \n",
       "\n",
       "[5 rows x 29 columns]"
      ]
     },
     "execution_count": 100,
     "metadata": {},
     "output_type": "execute_result"
    }
   ],
   "source": [
    "underSampleNormPlusFraudX.tail()"
   ]
  },
  {
   "cell_type": "code",
   "execution_count": 101,
   "metadata": {},
   "outputs": [
    {
     "data": {
      "text/plain": [
       "1"
      ]
     },
     "execution_count": 101,
     "metadata": {},
     "output_type": "execute_result"
    }
   ],
   "source": [
    "dfMod.loc[281144, 'Class']"
   ]
  },
  {
   "cell_type": "code",
   "execution_count": 102,
   "metadata": {},
   "outputs": [
    {
     "data": {
      "text/plain": [
       "(984, 29)"
      ]
     },
     "execution_count": 102,
     "metadata": {},
     "output_type": "execute_result"
    }
   ],
   "source": [
    "underSampleNormPlusFraudX.shape"
   ]
  },
  {
   "cell_type": "code",
   "execution_count": 103,
   "metadata": {
    "collapsed": true
   },
   "outputs": [],
   "source": [
    "underSampleNormPlusFraudY = pd.concat([underSampleNormalY, FraudTransactionModY])"
   ]
  },
  {
   "cell_type": "code",
   "execution_count": 104,
   "metadata": {},
   "outputs": [
    {
     "data": {
      "text/plain": [
       "(984,)"
      ]
     },
     "execution_count": 104,
     "metadata": {},
     "output_type": "execute_result"
    }
   ],
   "source": [
    "underSampleNormPlusFraudY.shape"
   ]
  },
  {
   "cell_type": "markdown",
   "metadata": {},
   "source": [
    "** Splitting data into train and test sets **"
   ]
  },
  {
   "cell_type": "code",
   "execution_count": 106,
   "metadata": {},
   "outputs": [],
   "source": [
    "from sklearn.model_selection import train_test_split"
   ]
  },
  {
   "cell_type": "code",
   "execution_count": 107,
   "metadata": {
    "collapsed": true
   },
   "outputs": [],
   "source": [
    "trainUnderSampleX, testUnderSampleX, trainUnderSampleY, testUnderSampleY \\\n",
    "    = train_test_split(underSampleNormPlusFraudX, underSampleNormPlusFraudY, test_size = 0.3) "
   ]
  },
  {
   "cell_type": "code",
   "execution_count": 108,
   "metadata": {},
   "outputs": [
    {
     "name": "stdout",
     "output_type": "stream",
     "text": [
      "('Number transactions train dataset: ', 688)\n",
      "('Number transactions test dataset: ', 296)\n",
      "('Total number of transactions: ', 984)\n"
     ]
    }
   ],
   "source": [
    "print(\"Number transactions train dataset: \", len(trainUnderSampleX))\n",
    "print(\"Number transactions test dataset: \", len(testUnderSampleX))\n",
    "print(\"Total number of transactions: \", len(trainUnderSampleX)+len(testUnderSampleX))"
   ]
  },
  {
   "cell_type": "code",
   "execution_count": 109,
   "metadata": {},
   "outputs": [
    {
     "data": {
      "text/plain": [
       "(688, 29)"
      ]
     },
     "execution_count": 109,
     "metadata": {},
     "output_type": "execute_result"
    }
   ],
   "source": [
    "trainUnderSampleX.shape"
   ]
  },
  {
   "cell_type": "code",
   "execution_count": 110,
   "metadata": {},
   "outputs": [
    {
     "data": {
      "text/plain": [
       "56500     0\n",
       "262423    0\n",
       "149134    0\n",
       "147268    0\n",
       "154694    1\n",
       "46171     0\n",
       "138589    0\n",
       "53521     0\n",
       "282887    0\n",
       "541       1\n",
       "Name: Class, dtype: int64"
      ]
     },
     "execution_count": 110,
     "metadata": {},
     "output_type": "execute_result"
    }
   ],
   "source": [
    "trainUnderSampleY.head(10)"
   ]
  },
  {
   "cell_type": "code",
   "execution_count": 111,
   "metadata": {},
   "outputs": [
    {
     "data": {
      "text/plain": [
       "6472      1\n",
       "237426    1\n",
       "6108      1\n",
       "96929     0\n",
       "142557    1\n",
       "86485     0\n",
       "122479    1\n",
       "276566    0\n",
       "263080    1\n",
       "10690     1\n",
       "Name: Class, dtype: int64"
      ]
     },
     "execution_count": 111,
     "metadata": {},
     "output_type": "execute_result"
    }
   ],
   "source": [
    "testUnderSampleY.head(10)"
   ]
  },
  {
   "cell_type": "code",
   "execution_count": 112,
   "metadata": {},
   "outputs": [
    {
     "data": {
      "text/plain": [
       "0    149\n",
       "1    147\n",
       "Name: Class, dtype: int64"
      ]
     },
     "execution_count": 112,
     "metadata": {},
     "output_type": "execute_result"
    }
   ],
   "source": [
    "testUnderSampleY.value_counts()"
   ]
  },
  {
   "cell_type": "code",
   "execution_count": 113,
   "metadata": {},
   "outputs": [
    {
     "data": {
      "text/plain": [
       "1    345\n",
       "0    343\n",
       "Name: Class, dtype: int64"
      ]
     },
     "execution_count": 113,
     "metadata": {},
     "output_type": "execute_result"
    }
   ],
   "source": [
    "trainUnderSampleY.value_counts()"
   ]
  },
  {
   "cell_type": "markdown",
   "metadata": {},
   "source": [
    "Now we can go ahead and start fitting models. \n",
    "\n",
    "Before that let's review some concepts:\n",
    "\n",
    "* Accuracy = (TP + TN) / total\n",
    "\n",
    "* Precision = TP / (TP + FP)\n",
    "\n",
    "* Recall = TP / (TP + FN)\n",
    "\n",
    "In the credit card case, we want to minimize the False negatives (i.e., we don't want to miss flagging fradulent transactions). So in general we want the accuracy to be large."
   ]
  },
  {
   "cell_type": "code",
   "execution_count": 164,
   "metadata": {
    "collapsed": true
   },
   "outputs": [],
   "source": [
    "from sklearn.linear_model import LogisticRegression\n",
    "from sklearn.svm import SVC\n",
    "from sklearn.model_selection import KFold, cross_val_score"
   ]
  },
  {
   "cell_type": "markdown",
   "metadata": {},
   "source": [
    "**KFold:**\n",
    "\n",
    "Provides train/test indices to split data in train test sets. Split dataset into k consecutive folds (without shuffling).\n",
    "\n",
    "Each fold is then used a validation set once while the k - 1 remaining fold form the training set."
   ]
  },
  {
   "cell_type": "code",
   "execution_count": 119,
   "metadata": {},
   "outputs": [],
   "source": [
    "fold = KFold(5, shuffle=False) "
   ]
  },
  {
   "cell_type": "code",
   "execution_count": 120,
   "metadata": {},
   "outputs": [
    {
     "data": {
      "text/plain": [
       "KFold(n_splits=5, random_state=None, shuffle=False)"
      ]
     },
     "execution_count": 120,
     "metadata": {},
     "output_type": "execute_result"
    }
   ],
   "source": [
    "fold"
   ]
  },
  {
   "cell_type": "code",
   "execution_count": 137,
   "metadata": {},
   "outputs": [
    {
     "data": {
      "text/plain": [
       "<generator object split at 0x7f58fa7b4c80>"
      ]
     },
     "execution_count": 137,
     "metadata": {},
     "output_type": "execute_result"
    }
   ],
   "source": [
    "fold.split(trainUnderSampleY)"
   ]
  },
  {
   "cell_type": "code",
   "execution_count": 210,
   "metadata": {
    "collapsed": true
   },
   "outputs": [],
   "source": [
    "# different C parameters\n",
    "CparamRange = [0.001, 0.005, 0.01, 0.1, 1, 10, 100, 1000]"
   ]
  },
  {
   "cell_type": "code",
   "execution_count": 211,
   "metadata": {
    "collapsed": true
   },
   "outputs": [],
   "source": [
    "resultsTable = pd.DataFrame(index = range(len(CparamRange),2), columns = ['Cparameter','MeanRecallScore', \\\n",
    "                                                                          'MeanPrecisionScore', 'MeanF1Score'])"
   ]
  },
  {
   "cell_type": "code",
   "execution_count": 212,
   "metadata": {
    "collapsed": true
   },
   "outputs": [],
   "source": [
    "resultsTableSVC = pd.DataFrame(columns = ['Cparameter','MeanRecallScoreSVC', \\\n",
    "                                                                          'MeanPrecisionScoreSVC', 'MeanF1ScoreSVC'])"
   ]
  },
  {
   "cell_type": "code",
   "execution_count": 213,
   "metadata": {},
   "outputs": [
    {
     "data": {
      "text/plain": [
       "[]"
      ]
     },
     "execution_count": 213,
     "metadata": {},
     "output_type": "execute_result"
    }
   ],
   "source": [
    "range(len(CparamRange),2)"
   ]
  },
  {
   "cell_type": "code",
   "execution_count": 162,
   "metadata": {},
   "outputs": [
    {
     "data": {
      "text/html": [
       "<div>\n",
       "<style>\n",
       "    .dataframe thead tr:only-child th {\n",
       "        text-align: right;\n",
       "    }\n",
       "\n",
       "    .dataframe thead th {\n",
       "        text-align: left;\n",
       "    }\n",
       "\n",
       "    .dataframe tbody tr th {\n",
       "        vertical-align: top;\n",
       "    }\n",
       "</style>\n",
       "<table border=\"1\" class=\"dataframe\">\n",
       "  <thead>\n",
       "    <tr style=\"text-align: right;\">\n",
       "      <th></th>\n",
       "      <th>CparameterSVC</th>\n",
       "      <th>MeanRecallScoreSVC</th>\n",
       "      <th>MeanPrecisionScoreSVC</th>\n",
       "      <th>MeanF1ScoreSVC</th>\n",
       "    </tr>\n",
       "  </thead>\n",
       "  <tbody>\n",
       "  </tbody>\n",
       "</table>\n",
       "</div>"
      ],
      "text/plain": [
       "Empty DataFrame\n",
       "Columns: [CparameterSVC, MeanRecallScoreSVC, MeanPrecisionScoreSVC, MeanF1ScoreSVC]\n",
       "Index: []"
      ]
     },
     "execution_count": 162,
     "metadata": {},
     "output_type": "execute_result"
    }
   ],
   "source": [
    "resultsTableSVC"
   ]
  },
  {
   "cell_type": "code",
   "execution_count": 125,
   "metadata": {},
   "outputs": [
    {
     "data": {
      "text/plain": [
       "[]"
      ]
     },
     "execution_count": 125,
     "metadata": {},
     "output_type": "execute_result"
    }
   ],
   "source": [
    "range(3,2)"
   ]
  },
  {
   "cell_type": "code",
   "execution_count": 126,
   "metadata": {
    "collapsed": true
   },
   "outputs": [],
   "source": [
    "resultsTable['Cparameter'] = CparamRange"
   ]
  },
  {
   "cell_type": "code",
   "execution_count": 127,
   "metadata": {},
   "outputs": [
    {
     "data": {
      "text/html": [
       "<div>\n",
       "<style>\n",
       "    .dataframe thead tr:only-child th {\n",
       "        text-align: right;\n",
       "    }\n",
       "\n",
       "    .dataframe thead th {\n",
       "        text-align: left;\n",
       "    }\n",
       "\n",
       "    .dataframe tbody tr th {\n",
       "        vertical-align: top;\n",
       "    }\n",
       "</style>\n",
       "<table border=\"1\" class=\"dataframe\">\n",
       "  <thead>\n",
       "    <tr style=\"text-align: right;\">\n",
       "      <th></th>\n",
       "      <th>Cparameter</th>\n",
       "      <th>MeanRecallScore</th>\n",
       "      <th>MeanPrecisionScore</th>\n",
       "      <th>MeanF1Score</th>\n",
       "    </tr>\n",
       "  </thead>\n",
       "  <tbody>\n",
       "    <tr>\n",
       "      <th>0</th>\n",
       "      <td>0.001</td>\n",
       "      <td>NaN</td>\n",
       "      <td>NaN</td>\n",
       "      <td>NaN</td>\n",
       "    </tr>\n",
       "    <tr>\n",
       "      <th>1</th>\n",
       "      <td>0.005</td>\n",
       "      <td>NaN</td>\n",
       "      <td>NaN</td>\n",
       "      <td>NaN</td>\n",
       "    </tr>\n",
       "    <tr>\n",
       "      <th>2</th>\n",
       "      <td>0.010</td>\n",
       "      <td>NaN</td>\n",
       "      <td>NaN</td>\n",
       "      <td>NaN</td>\n",
       "    </tr>\n",
       "    <tr>\n",
       "      <th>3</th>\n",
       "      <td>0.100</td>\n",
       "      <td>NaN</td>\n",
       "      <td>NaN</td>\n",
       "      <td>NaN</td>\n",
       "    </tr>\n",
       "    <tr>\n",
       "      <th>4</th>\n",
       "      <td>1.000</td>\n",
       "      <td>NaN</td>\n",
       "      <td>NaN</td>\n",
       "      <td>NaN</td>\n",
       "    </tr>\n",
       "    <tr>\n",
       "      <th>5</th>\n",
       "      <td>10.000</td>\n",
       "      <td>NaN</td>\n",
       "      <td>NaN</td>\n",
       "      <td>NaN</td>\n",
       "    </tr>\n",
       "    <tr>\n",
       "      <th>6</th>\n",
       "      <td>100.000</td>\n",
       "      <td>NaN</td>\n",
       "      <td>NaN</td>\n",
       "      <td>NaN</td>\n",
       "    </tr>\n",
       "  </tbody>\n",
       "</table>\n",
       "</div>"
      ],
      "text/plain": [
       "   Cparameter MeanRecallScore MeanPrecisionScore MeanF1Score\n",
       "0       0.001             NaN                NaN         NaN\n",
       "1       0.005             NaN                NaN         NaN\n",
       "2       0.010             NaN                NaN         NaN\n",
       "3       0.100             NaN                NaN         NaN\n",
       "4       1.000             NaN                NaN         NaN\n",
       "5      10.000             NaN                NaN         NaN\n",
       "6     100.000             NaN                NaN         NaN"
      ]
     },
     "execution_count": 127,
     "metadata": {},
     "output_type": "execute_result"
    }
   ],
   "source": [
    "resultsTable"
   ]
  },
  {
   "cell_type": "markdown",
   "metadata": {},
   "source": [
    " Enumerate is a built-in Python function. \n",
    " It allows us to loop over something and have an automatic counter. Here is an example:"
   ]
  },
  {
   "cell_type": "code",
   "execution_count": 128,
   "metadata": {},
   "outputs": [
    {
     "name": "stdout",
     "output_type": "stream",
     "text": [
      "2 apple\n",
      "3 banana\n",
      "4 grapes\n",
      "5 pear\n"
     ]
    }
   ],
   "source": [
    "my_list = ['apple', 'banana', 'grapes', 'pear']\n",
    "for c, value in enumerate(my_list, start = 2):\n",
    "    print c, value"
   ]
  },
  {
   "cell_type": "code",
   "execution_count": 129,
   "metadata": {},
   "outputs": [
    {
     "data": {
      "text/plain": [
       "<enumerate at 0x7f58fa7b48c0>"
      ]
     },
     "execution_count": 129,
     "metadata": {},
     "output_type": "execute_result"
    }
   ],
   "source": [
    "enumerate(my_list)"
   ]
  },
  {
   "cell_type": "code",
   "execution_count": 146,
   "metadata": {},
   "outputs": [
    {
     "name": "stdout",
     "output_type": "stream",
     "text": [
      "550\n",
      "138\n",
      "550\n",
      "138\n",
      "550\n",
      "138\n",
      "551\n",
      "137\n",
      "551\n",
      "137\n"
     ]
    }
   ],
   "source": [
    "for iterations, indices in enumerate(fold.split(trainUnderSampleX)):\n",
    "    print len(indices[0]) \n",
    "    print len(indices[1]) "
   ]
  },
  {
   "cell_type": "code",
   "execution_count": 152,
   "metadata": {},
   "outputs": [
    {
     "data": {
      "text/plain": [
       "array([551, 552, 553, 554, 555, 556, 557, 558, 559, 560, 561, 562, 563,\n",
       "       564, 565, 566, 567, 568, 569, 570, 571, 572, 573, 574, 575, 576,\n",
       "       577, 578, 579, 580, 581, 582, 583, 584, 585, 586, 587, 588, 589,\n",
       "       590, 591, 592, 593, 594, 595, 596, 597, 598, 599, 600, 601, 602,\n",
       "       603, 604, 605, 606, 607, 608, 609, 610, 611, 612, 613, 614, 615,\n",
       "       616, 617, 618, 619, 620, 621, 622, 623, 624, 625, 626, 627, 628,\n",
       "       629, 630, 631, 632, 633, 634, 635, 636, 637, 638, 639, 640, 641,\n",
       "       642, 643, 644, 645, 646, 647, 648, 649, 650, 651, 652, 653, 654,\n",
       "       655, 656, 657, 658, 659, 660, 661, 662, 663, 664, 665, 666, 667,\n",
       "       668, 669, 670, 671, 672, 673, 674, 675, 676, 677, 678, 679, 680,\n",
       "       681, 682, 683, 684, 685, 686, 687])"
      ]
     },
     "execution_count": 152,
     "metadata": {},
     "output_type": "execute_result"
    }
   ],
   "source": [
    "indices[1]"
   ]
  },
  {
   "cell_type": "code",
   "execution_count": 153,
   "metadata": {},
   "outputs": [
    {
     "data": {
      "text/plain": [
       "685"
      ]
     },
     "execution_count": 153,
     "metadata": {},
     "output_type": "execute_result"
    }
   ],
   "source": [
    "137*5"
   ]
  },
  {
   "cell_type": "markdown",
   "metadata": {},
   "source": [
    "the k-fold will give 2 lists: train_indices = indices[0], test_indices = indices[1]"
   ]
  },
  {
   "cell_type": "code",
   "execution_count": 154,
   "metadata": {
    "collapsed": true
   },
   "outputs": [],
   "source": [
    "indices[0];"
   ]
  },
  {
   "cell_type": "code",
   "execution_count": 155,
   "metadata": {},
   "outputs": [
    {
     "data": {
      "text/plain": [
       "array([0, 0, 0, 0, 1, 0, 0, 0, 0, 1, 1, 1, 1, 1, 0, 1, 0, 1, 0, 0, 1, 1, 1,\n",
       "       0, 1, 1, 0, 1, 1, 0, 0, 1, 0, 1, 1, 1, 1, 0, 0, 1, 0, 1, 0, 1, 0, 1,\n",
       "       0, 1, 1, 0, 1, 1, 1, 1, 0, 0, 1, 1, 1, 1, 1, 0, 0, 1, 0, 0, 1, 1, 1,\n",
       "       1, 0, 1, 1, 0, 1, 1, 0, 1, 0, 1, 1, 0, 1, 1, 0, 1, 0, 1, 1, 0, 0, 0,\n",
       "       0, 1, 0, 0, 1, 0, 0, 0, 1, 0, 0, 0, 0, 1, 0, 0, 0, 0, 1, 0, 0, 0, 1,\n",
       "       0, 1, 1, 0, 0, 0, 1, 1, 1, 0, 0, 1, 0, 1, 1, 1, 0, 1, 0, 1, 0, 1, 0,\n",
       "       0, 0, 0, 1, 0, 1, 1, 0, 1, 0, 1, 0, 1, 0, 1, 0, 0, 0, 1, 1, 1, 0, 1,\n",
       "       0, 1, 1, 0, 1, 1, 1, 0, 0, 0, 0, 1, 1, 1, 0, 1, 0, 0, 1, 0, 0, 0, 0,\n",
       "       0, 1, 0, 1, 1, 0, 0, 1, 0, 1, 1, 0, 1, 0, 0, 1, 0, 0, 1, 0, 1, 0, 1,\n",
       "       0, 0, 0, 0, 1, 0, 0, 1, 0, 1, 1, 1, 0, 0, 1, 0, 1, 1, 1, 0, 0, 0, 0,\n",
       "       0, 0, 1, 1, 0, 0, 1, 1, 0, 0, 0, 1, 0, 1, 1, 1, 1, 1, 1, 1, 1, 0, 0,\n",
       "       0, 1, 0, 1, 0, 1, 1, 1, 0, 1, 0, 1, 0, 0, 1, 1, 0, 0, 0, 1, 0, 0, 0,\n",
       "       1, 1, 1, 0, 0, 1, 1, 1, 0, 1, 0, 1, 0, 0, 1, 0, 1, 0, 1, 1, 1, 0, 0,\n",
       "       0, 0, 0, 1, 0, 1, 1, 0, 1, 1, 1, 1, 0, 1, 1, 0, 1, 1, 0, 0, 1, 1, 1,\n",
       "       1, 0, 1, 1, 1, 1, 1, 0, 1, 0, 0, 1, 1, 0, 1, 1, 0, 0, 0, 1, 1, 0, 1,\n",
       "       0, 0, 0, 1, 0, 1, 1, 1, 0, 1, 0, 1, 0, 1, 0, 1, 0, 1, 0, 1, 1, 1, 1,\n",
       "       0, 1, 0, 0, 0, 1, 1, 1, 0, 1, 0, 1, 1, 0, 0, 0, 1, 1, 0, 0, 1, 0, 0,\n",
       "       0, 0, 0, 0, 0, 1, 0, 1, 0, 1, 0, 1, 0, 0, 1, 0, 0, 0, 0, 1, 0, 0, 0,\n",
       "       0, 1, 1, 0, 0, 0, 1, 1, 1, 1, 1, 1, 0, 0, 1, 0, 0, 0, 1, 0, 0, 1, 0,\n",
       "       0, 0, 0, 1, 0, 1, 1, 1, 0, 1, 1, 0, 0, 1, 1, 1, 1, 1, 1, 1, 0, 0, 0,\n",
       "       0, 0, 0, 0, 1, 0, 1, 0, 1, 1, 0, 0, 0, 1, 1, 1, 0, 1, 0, 0, 0, 1, 0,\n",
       "       0, 1, 0, 1, 0, 1, 1, 1, 0, 1, 1, 1, 1, 1, 0, 1, 1, 0, 1, 0, 0, 1, 0,\n",
       "       1, 0, 0, 0, 1, 0, 1, 1, 0, 0, 0, 0, 1, 0, 1, 0, 0, 1, 0, 0, 0, 0, 0,\n",
       "       1, 0, 1, 0, 1, 0, 0, 1, 1, 0, 0, 0, 1, 0, 0, 1, 0, 0, 0, 1, 0, 1])"
      ]
     },
     "execution_count": 155,
     "metadata": {},
     "output_type": "execute_result"
    }
   ],
   "source": [
    "trainUnderSampleY.iloc[indices[0]].values"
   ]
  },
  {
   "cell_type": "code",
   "execution_count": 156,
   "metadata": {
    "collapsed": true
   },
   "outputs": [],
   "source": [
    "from sklearn.metrics import confusion_matrix, precision_recall_curve, auc,roc_auc_score, \\\n",
    "roc_curve, recall_score, classification_report, precision_score, f1_score "
   ]
  },
  {
   "cell_type": "code",
   "execution_count": 214,
   "metadata": {},
   "outputs": [
    {
     "name": "stdout",
     "output_type": "stream",
     "text": [
      "------------------------------\n",
      "C value =  0.001\n",
      "------------------------------\n",
      "Iteration 1 : recall score =  0.985714285714 , precision score =  0.945205479452 , F1 score =  0.965034965035\n",
      "Iteration 1 : recall score SVC =  0.942857142857 , precision score SVC =  0.80487804878 , F1 score SVC=  0.868421052632\n",
      "Iteration 2 : recall score =  0.96875 , precision score =  0.815789473684 , F1 score =  0.885714285714\n",
      "Iteration 2 : recall score SVC =  1.0 , precision score SVC =  0.463768115942 , F1 score SVC=  0.633663366337\n",
      "Iteration 3 : recall score =  0.985714285714 , precision score =  0.8625 , F1 score =  0.92\n",
      "Iteration 3 : recall score SVC =  0.928571428571 , precision score SVC =  0.822784810127 , F1 score SVC=  0.872483221477\n",
      "Iteration 4 : recall score =  1.0 , precision score =  0.818181818182 , F1 score =  0.9\n",
      "Iteration 4 : recall score SVC =  1.0 , precision score SVC =  0.459854014599 , F1 score SVC=  0.63\n",
      "Iteration 5 : recall score =  0.987179487179 , precision score =  0.916666666667 , F1 score =  0.950617283951\n",
      "Iteration 5 : recall score SVC =  0.0 , precision score SVC =  0.0 , F1 score SVC=  0.0\n",
      "------------------------------\n",
      "C value =  0.005\n",
      "------------------------------\n",
      "Iteration 1 : recall score =  0.957142857143 , precision score =  0.957142857143 , F1 score =  0.957142857143\n",
      "Iteration 1 : recall score SVC =  0.942857142857 , precision score SVC =  0.80487804878 , F1 score SVC=  0.868421052632\n",
      "Iteration 2 : recall score =  0.9375 , precision score =  0.882352941176 , F1 score =  0.909090909091\n",
      "Iteration 2 : recall score SVC =  1.0 , precision score SVC =  0.463768115942 , F1 score SVC=  0.633663366337\n",
      "Iteration 3 : recall score =  0.957142857143 , precision score =  0.943661971831 , F1 score =  0.950354609929\n",
      "Iteration 3 : recall score SVC =  0.928571428571 , precision score SVC =  0.822784810127 , F1 score SVC=  0.872483221477\n",
      "Iteration 4 : recall score =  0.936507936508 , precision score =  0.921875 , F1 score =  0.929133858268\n",
      "Iteration 4 : recall score SVC =  1.0 , precision score SVC =  0.459854014599 , F1 score SVC=  0.63\n",
      "Iteration 5 : recall score =  0.935897435897 , precision score =  0.973333333333 , F1 score =  0.954248366013\n",
      "Iteration 5 : recall score SVC =  0.0 , precision score SVC =  0.0 , F1 score SVC=  0.0\n",
      "------------------------------\n",
      "C value =  0.01\n",
      "------------------------------\n",
      "Iteration 1 : recall score =  0.942857142857 , precision score =  0.985074626866 , F1 score =  0.963503649635\n",
      "Iteration 1 : recall score SVC =  0.942857142857 , precision score SVC =  0.80487804878 , F1 score SVC=  0.868421052632\n",
      "Iteration 2 : recall score =  0.9375 , precision score =  0.89552238806 , F1 score =  0.916030534351\n",
      "Iteration 2 : recall score SVC =  1.0 , precision score SVC =  0.533333333333 , F1 score SVC=  0.695652173913\n",
      "Iteration 3 : recall score =  0.942857142857 , precision score =  0.95652173913 , F1 score =  0.94964028777\n",
      "Iteration 3 : recall score SVC =  0.928571428571 , precision score SVC =  0.822784810127 , F1 score SVC=  0.872483221477\n",
      "Iteration 4 : recall score =  0.936507936508 , precision score =  0.951612903226 , F1 score =  0.944\n",
      "Iteration 4 : recall score SVC =  1.0 , precision score SVC =  0.504 , F1 score SVC=  0.670212765957\n",
      "Iteration 5 : recall score =  0.935897435897 , precision score =  0.973333333333 , F1 score =  0.954248366013\n",
      "Iteration 5 : recall score SVC =  0.153846153846 , precision score SVC =  1.0 , F1 score SVC=  0.266666666667\n",
      "------------------------------\n",
      "C value =  0.1\n",
      "------------------------------\n",
      "Iteration 1 : recall score =  0.928571428571 , precision score =  0.984848484848 , F1 score =  0.955882352941\n",
      "Iteration 1 : recall score SVC =  0.942857142857 , precision score SVC =  0.88 , F1 score SVC=  0.910344827586\n",
      "Iteration 2 : recall score =  0.90625 , precision score =  0.920634920635 , F1 score =  0.913385826772\n",
      "Iteration 2 : recall score SVC =  0.90625 , precision score SVC =  0.865671641791 , F1 score SVC=  0.885496183206\n",
      "Iteration 3 : recall score =  0.914285714286 , precision score =  0.969696969697 , F1 score =  0.941176470588\n",
      "Iteration 3 : recall score SVC =  0.928571428571 , precision score SVC =  0.915492957746 , F1 score SVC=  0.921985815603\n",
      "Iteration 4 : recall score =  0.936507936508 , precision score =  0.967213114754 , F1 score =  0.951612903226\n",
      "Iteration 4 : recall score SVC =  0.920634920635 , precision score SVC =  0.852941176471 , F1 score SVC=  0.885496183206\n",
      "Iteration 5 : recall score =  0.923076923077 , precision score =  1.0 , F1 score =  0.96\n",
      "Iteration 5 : recall score SVC =  0.923076923077 , precision score SVC =  0.96 , F1 score SVC=  0.941176470588\n",
      "------------------------------\n",
      "C value =  1\n",
      "------------------------------\n",
      "Iteration 1 : recall score =  0.942857142857 , precision score =  0.95652173913 , F1 score =  0.94964028777\n",
      "Iteration 1 : recall score SVC =  0.957142857143 , precision score SVC =  0.943661971831 , F1 score SVC=  0.950354609929\n",
      "Iteration 2 : recall score =  0.90625 , precision score =  0.90625 , F1 score =  0.90625\n",
      "Iteration 2 : recall score SVC =  0.921875 , precision score SVC =  0.880597014925 , F1 score SVC=  0.900763358779\n",
      "Iteration 3 : recall score =  0.9 , precision score =  0.969230769231 , F1 score =  0.933333333333\n",
      "Iteration 3 : recall score SVC =  0.914285714286 , precision score SVC =  0.969696969697 , F1 score SVC=  0.941176470588\n",
      "Iteration 4 : recall score =  0.936507936508 , precision score =  0.936507936508 , F1 score =  0.936507936508\n",
      "Iteration 4 : recall score SVC =  0.936507936508 , precision score SVC =  0.936507936508 , F1 score SVC=  0.936507936508\n",
      "Iteration 5 : recall score =  0.923076923077 , precision score =  1.0 , F1 score =  0.96\n",
      "Iteration 5 : recall score SVC =  0.935897435897 , precision score SVC =  0.986486486486 , F1 score SVC=  0.960526315789\n",
      "------------------------------\n",
      "C value =  10\n",
      "------------------------------\n",
      "Iteration 1 : recall score =  0.942857142857 , precision score =  0.95652173913 , F1 score =  0.94964028777\n",
      "Iteration 1 : recall score SVC =  0.985714285714 , precision score SVC =  0.945205479452 , F1 score SVC=  0.965034965035\n",
      "Iteration 2 : recall score =  0.90625 , precision score =  0.90625 , F1 score =  0.90625\n",
      "Iteration 2 : recall score SVC =  0.90625 , precision score SVC =  0.865671641791 , F1 score SVC=  0.885496183206\n",
      "Iteration 3 : recall score =  0.9 , precision score =  0.969230769231 , F1 score =  0.933333333333\n",
      "Iteration 3 : recall score SVC =  0.942857142857 , precision score SVC =  0.95652173913 , F1 score SVC=  0.94964028777\n",
      "Iteration 4 : recall score =  0.936507936508 , precision score =  0.936507936508 , F1 score =  0.936507936508\n",
      "Iteration 4 : recall score SVC =  0.936507936508 , precision score SVC =  0.880597014925 , F1 score SVC=  0.907692307692\n",
      "Iteration 5 : recall score =  0.910256410256 , precision score =  1.0 , F1 score =  0.953020134228\n",
      "Iteration 5 : recall score SVC =  0.974358974359 , precision score SVC =  0.962025316456 , F1 score SVC=  0.968152866242\n",
      "------------------------------\n",
      "C value =  100\n",
      "------------------------------\n",
      "Iteration 1 : recall score =  0.957142857143 , precision score =  0.943661971831 , F1 score =  0.950354609929\n",
      "Iteration 1 : recall score SVC =  0.985714285714 , precision score SVC =  0.945205479452 , F1 score SVC=  0.965034965035\n",
      "Iteration 2 : recall score =  0.90625 , precision score =  0.90625 , F1 score =  0.90625\n",
      "Iteration 2 : recall score SVC =  0.921875 , precision score SVC =  0.855072463768 , F1 score SVC=  0.887218045113\n",
      "Iteration 3 : recall score =  0.914285714286 , precision score =  0.969696969697 , F1 score =  0.941176470588\n",
      "Iteration 3 : recall score SVC =  0.942857142857 , precision score SVC =  0.95652173913 , F1 score SVC=  0.94964028777\n",
      "Iteration 4 : recall score =  0.920634920635 , precision score =  0.935483870968 , F1 score =  0.928\n",
      "Iteration 4 : recall score SVC =  0.936507936508 , precision score SVC =  0.893939393939 , F1 score SVC=  0.914728682171\n",
      "Iteration 5 : recall score =  0.923076923077 , precision score =  1.0 , F1 score =  0.96\n",
      "Iteration 5 : recall score SVC =  0.948717948718 , precision score SVC =  0.961038961039 , F1 score SVC=  0.954838709677\n",
      "------------------------------\n",
      "C value =  1000\n",
      "------------------------------\n",
      "Iteration 1 : recall score =  0.971428571429 , precision score =  0.944444444444 , F1 score =  0.957746478873\n",
      "Iteration 1 : recall score SVC =  0.985714285714 , precision score SVC =  0.945205479452 , F1 score SVC=  0.965034965035\n",
      "Iteration 2 : recall score =  0.921875 , precision score =  0.893939393939 , F1 score =  0.907692307692\n",
      "Iteration 2 : recall score SVC =  0.921875 , precision score SVC =  0.855072463768 , F1 score SVC=  0.887218045113\n",
      "Iteration 3 : recall score =  0.914285714286 , precision score =  0.984615384615 , F1 score =  0.948148148148\n",
      "Iteration 3 : recall score SVC =  0.942857142857 , precision score SVC =  0.95652173913 , F1 score SVC=  0.94964028777\n",
      "Iteration 4 : recall score =  0.904761904762 , precision score =  0.934426229508 , F1 score =  0.91935483871\n",
      "Iteration 4 : recall score SVC =  0.936507936508 , precision score SVC =  0.893939393939 , F1 score SVC=  0.914728682171\n",
      "Iteration 5 : recall score =  0.910256410256 , precision score =  0.986111111111 , F1 score =  0.946666666667\n",
      "Iteration 5 : recall score SVC =  0.948717948718 , precision score SVC =  0.961038961039 , F1 score SVC=  0.954838709677\n"
     ]
    }
   ],
   "source": [
    "j = 0\n",
    "for Cparameter in CparamRange:\n",
    "    print '------------------------------'\n",
    "    print 'C value = ', Cparameter\n",
    "    print '------------------------------'\n",
    "    \n",
    "    recallVal = []\n",
    "    precisionVal = []\n",
    "    F1scoreVal = []\n",
    "    recallValSVC = []\n",
    "    precisionValSVC = []\n",
    "    F1scoreValSVC = []\n",
    "    \n",
    "    for iteration, indices in enumerate(fold.split(trainUnderSampleY), 1):\n",
    "        \n",
    "        # Call the logistic regression model with a certain C parameter\n",
    "        lr = LogisticRegression(C = Cparameter, penalty = 'l2')\n",
    "        svc = SVC(C = Cparameter)\n",
    "        \n",
    "        # Use the training data to fit the model. In this case, we use the portion of the fold to train the model\n",
    "        # with indices[0]. We then predict on the portion assigned as the 'test cross validation' with indices[1]\n",
    "        \n",
    "        lr.fit(trainUnderSampleX.iloc[indices[0], :], trainUnderSampleY.iloc[indices[0]])\n",
    "        svc.fit(trainUnderSampleX.iloc[indices[0], :], trainUnderSampleY.iloc[indices[0]])\n",
    "        \n",
    "        # Predict values using the test indices in the training data\n",
    "        yPred = lr.predict(trainUnderSampleX.iloc[indices[1], :])\n",
    "        yPredSVC = svc.predict(trainUnderSampleX.iloc[indices[1], :])\n",
    "        \n",
    "        recallval = recall_score(trainUnderSampleY.iloc[indices[1]], yPred)\n",
    "        recallvalSVC = recall_score(trainUnderSampleY.iloc[indices[1]], yPredSVC)\n",
    "        \n",
    "        precisionval = precision_score(trainUnderSampleY.iloc[indices[1]], yPred)\n",
    "        precisionvalSVC = precision_score(trainUnderSampleY.iloc[indices[1]], yPredSVC)\n",
    "        \n",
    "        F1scoreval = f1_score(trainUnderSampleY.iloc[indices[1]], yPred)\n",
    "        F1scorevalSVC = f1_score(trainUnderSampleY.iloc[indices[1]], yPredSVC)\n",
    "        \n",
    "        recallVal.append(recallval)\n",
    "        precisionVal.append(precisionval)\n",
    "        F1scoreVal.append(F1scoreval)\n",
    "        recallValSVC.append(recallvalSVC)\n",
    "        precisionValSVC.append(precisionvalSVC)\n",
    "        F1scoreValSVC.append(F1scorevalSVC)\n",
    "        \n",
    "        print 'Iteration', iteration, ': recall score = ', recallval, \\\n",
    "              ', precision score = ', precisionval, ', F1 score = ', F1scoreval\n",
    "        print 'Iteration', iteration, ': recall score SVC = ', recallvalSVC, \\\n",
    "              ', precision score SVC = ', precisionvalSVC, ', F1 score SVC= ', F1scorevalSVC    \n",
    "    \n",
    "    resultsTable.loc[j, 'Cparameter'] = Cparameter\n",
    "    resultsTable.loc[j, 'MeanRecallScore'] = np.mean(recallVal)\n",
    "    resultsTable.loc[j, 'MeanPrecisionScore'] = np.mean(precisionVal)\n",
    "    resultsTable.loc[j, 'MeanF1Score'] = np.mean(F1scoreVal)\n",
    "    \n",
    "    resultsTableSVC.loc[j, 'Cparameter'] = Cparameter\n",
    "    resultsTableSVC.loc[j, 'MeanRecallScoreSVC'] = np.mean(recallValSVC)\n",
    "    resultsTableSVC.loc[j, 'MeanPrecisionScoreSVC'] = np.mean(precisionValSVC)\n",
    "    resultsTableSVC.loc[j, 'MeanF1ScoreSVC'] = np.mean(F1scoreValSVC)\n",
    "    \n",
    "    j += 1"
   ]
  },
  {
   "cell_type": "code",
   "execution_count": 215,
   "metadata": {},
   "outputs": [
    {
     "data": {
      "text/html": [
       "<div>\n",
       "<style>\n",
       "    .dataframe thead tr:only-child th {\n",
       "        text-align: right;\n",
       "    }\n",
       "\n",
       "    .dataframe thead th {\n",
       "        text-align: left;\n",
       "    }\n",
       "\n",
       "    .dataframe tbody tr th {\n",
       "        vertical-align: top;\n",
       "    }\n",
       "</style>\n",
       "<table border=\"1\" class=\"dataframe\">\n",
       "  <thead>\n",
       "    <tr style=\"text-align: right;\">\n",
       "      <th></th>\n",
       "      <th>Cparameter</th>\n",
       "      <th>MeanRecallScore</th>\n",
       "      <th>MeanPrecisionScore</th>\n",
       "      <th>MeanF1Score</th>\n",
       "    </tr>\n",
       "  </thead>\n",
       "  <tbody>\n",
       "    <tr>\n",
       "      <th>0</th>\n",
       "      <td>0.001</td>\n",
       "      <td>0.985472</td>\n",
       "      <td>0.871669</td>\n",
       "      <td>0.924273</td>\n",
       "    </tr>\n",
       "    <tr>\n",
       "      <th>1</th>\n",
       "      <td>0.005</td>\n",
       "      <td>0.944838</td>\n",
       "      <td>0.935673</td>\n",
       "      <td>0.939994</td>\n",
       "    </tr>\n",
       "    <tr>\n",
       "      <th>2</th>\n",
       "      <td>0.01</td>\n",
       "      <td>0.939124</td>\n",
       "      <td>0.952413</td>\n",
       "      <td>0.945485</td>\n",
       "    </tr>\n",
       "    <tr>\n",
       "      <th>3</th>\n",
       "      <td>0.1</td>\n",
       "      <td>0.921738</td>\n",
       "      <td>0.968479</td>\n",
       "      <td>0.944412</td>\n",
       "    </tr>\n",
       "    <tr>\n",
       "      <th>4</th>\n",
       "      <td>1</td>\n",
       "      <td>0.921738</td>\n",
       "      <td>0.953702</td>\n",
       "      <td>0.937146</td>\n",
       "    </tr>\n",
       "    <tr>\n",
       "      <th>5</th>\n",
       "      <td>10</td>\n",
       "      <td>0.919174</td>\n",
       "      <td>0.953702</td>\n",
       "      <td>0.93575</td>\n",
       "    </tr>\n",
       "    <tr>\n",
       "      <th>6</th>\n",
       "      <td>100</td>\n",
       "      <td>0.924278</td>\n",
       "      <td>0.951019</td>\n",
       "      <td>0.937156</td>\n",
       "    </tr>\n",
       "    <tr>\n",
       "      <th>7</th>\n",
       "      <td>1000</td>\n",
       "      <td>0.924522</td>\n",
       "      <td>0.948707</td>\n",
       "      <td>0.935922</td>\n",
       "    </tr>\n",
       "  </tbody>\n",
       "</table>\n",
       "</div>"
      ],
      "text/plain": [
       "  Cparameter MeanRecallScore MeanPrecisionScore MeanF1Score\n",
       "0      0.001        0.985472           0.871669    0.924273\n",
       "1      0.005        0.944838           0.935673    0.939994\n",
       "2       0.01        0.939124           0.952413    0.945485\n",
       "3        0.1        0.921738           0.968479    0.944412\n",
       "4          1        0.921738           0.953702    0.937146\n",
       "5         10        0.919174           0.953702     0.93575\n",
       "6        100        0.924278           0.951019    0.937156\n",
       "7       1000        0.924522           0.948707    0.935922"
      ]
     },
     "execution_count": 215,
     "metadata": {},
     "output_type": "execute_result"
    }
   ],
   "source": [
    "resultsTable"
   ]
  },
  {
   "cell_type": "markdown",
   "metadata": {},
   "source": [
    "Let's work with C = 0.005. It gives a good value for recall without making the precision too small. "
   ]
  },
  {
   "cell_type": "code",
   "execution_count": 226,
   "metadata": {
    "collapsed": true
   },
   "outputs": [],
   "source": [
    "Cbest = 0.005"
   ]
  },
  {
   "cell_type": "code",
   "execution_count": 216,
   "metadata": {},
   "outputs": [
    {
     "data": {
      "text/html": [
       "<div>\n",
       "<style>\n",
       "    .dataframe thead tr:only-child th {\n",
       "        text-align: right;\n",
       "    }\n",
       "\n",
       "    .dataframe thead th {\n",
       "        text-align: left;\n",
       "    }\n",
       "\n",
       "    .dataframe tbody tr th {\n",
       "        vertical-align: top;\n",
       "    }\n",
       "</style>\n",
       "<table border=\"1\" class=\"dataframe\">\n",
       "  <thead>\n",
       "    <tr style=\"text-align: right;\">\n",
       "      <th></th>\n",
       "      <th>Cparameter</th>\n",
       "      <th>MeanRecallScoreSVC</th>\n",
       "      <th>MeanPrecisionScoreSVC</th>\n",
       "      <th>MeanF1ScoreSVC</th>\n",
       "    </tr>\n",
       "  </thead>\n",
       "  <tbody>\n",
       "    <tr>\n",
       "      <th>0</th>\n",
       "      <td>0.001</td>\n",
       "      <td>0.774286</td>\n",
       "      <td>0.510257</td>\n",
       "      <td>0.600914</td>\n",
       "    </tr>\n",
       "    <tr>\n",
       "      <th>1</th>\n",
       "      <td>0.005</td>\n",
       "      <td>0.774286</td>\n",
       "      <td>0.510257</td>\n",
       "      <td>0.600914</td>\n",
       "    </tr>\n",
       "    <tr>\n",
       "      <th>2</th>\n",
       "      <td>0.01</td>\n",
       "      <td>0.805055</td>\n",
       "      <td>0.732999</td>\n",
       "      <td>0.674687</td>\n",
       "    </tr>\n",
       "    <tr>\n",
       "      <th>3</th>\n",
       "      <td>0.1</td>\n",
       "      <td>0.924278</td>\n",
       "      <td>0.894821</td>\n",
       "      <td>0.9089</td>\n",
       "    </tr>\n",
       "    <tr>\n",
       "      <th>4</th>\n",
       "      <td>1</td>\n",
       "      <td>0.933142</td>\n",
       "      <td>0.94339</td>\n",
       "      <td>0.937866</td>\n",
       "    </tr>\n",
       "    <tr>\n",
       "      <th>5</th>\n",
       "      <td>10</td>\n",
       "      <td>0.949138</td>\n",
       "      <td>0.922004</td>\n",
       "      <td>0.935203</td>\n",
       "    </tr>\n",
       "    <tr>\n",
       "      <th>6</th>\n",
       "      <td>100</td>\n",
       "      <td>0.947134</td>\n",
       "      <td>0.922356</td>\n",
       "      <td>0.934292</td>\n",
       "    </tr>\n",
       "    <tr>\n",
       "      <th>7</th>\n",
       "      <td>1000</td>\n",
       "      <td>0.947134</td>\n",
       "      <td>0.922356</td>\n",
       "      <td>0.934292</td>\n",
       "    </tr>\n",
       "  </tbody>\n",
       "</table>\n",
       "</div>"
      ],
      "text/plain": [
       "  Cparameter MeanRecallScoreSVC MeanPrecisionScoreSVC MeanF1ScoreSVC\n",
       "0      0.001           0.774286              0.510257       0.600914\n",
       "1      0.005           0.774286              0.510257       0.600914\n",
       "2       0.01           0.805055              0.732999       0.674687\n",
       "3        0.1           0.924278              0.894821         0.9089\n",
       "4          1           0.933142               0.94339       0.937866\n",
       "5         10           0.949138              0.922004       0.935203\n",
       "6        100           0.947134              0.922356       0.934292\n",
       "7       1000           0.947134              0.922356       0.934292"
      ]
     },
     "execution_count": 216,
     "metadata": {},
     "output_type": "execute_result"
    }
   ],
   "source": [
    "resultsTableSVC"
   ]
  },
  {
   "cell_type": "code",
   "execution_count": 179,
   "metadata": {
    "collapsed": true
   },
   "outputs": [],
   "source": [
    "CbestSVC = 10.0"
   ]
  },
  {
   "cell_type": "markdown",
   "metadata": {},
   "source": [
    "For SVC the best C value is 10. \n",
    "\n",
    "Use these C parameters to build the final model with the whole (undersampled) training dataset and predict the classes in test. "
   ]
  },
  {
   "cell_type": "markdown",
   "metadata": {},
   "source": [
    "Let's look at which kernel is better for SVC"
   ]
  },
  {
   "cell_type": "code",
   "execution_count": 221,
   "metadata": {},
   "outputs": [],
   "source": [
    "svc = SVC(C = CbestSVC)               \n",
    "svc.fit(trainUnderSampleX, trainUnderSampleY)\n",
    "yPredSVC = svc.predict(testUnderSampleX)\n",
    "\n",
    "svclinear = SVC(C = CbestSVC, kernel = 'linear')               \n",
    "svclinear.fit(trainUnderSampleX, trainUnderSampleY)\n",
    "yPredSVClinear = svclinear.predict(testUnderSampleX)\n",
    "\n",
    "recallvalSVCRBF = recall_score(testUnderSampleY, yPredSVC)\n",
    "precisionvalSVCRBF = precision_score(testUnderSampleY, yPredSVC)\n",
    "f1scoreSVCRBF = f1_score(testUnderSampleY, yPredSVC)\n",
    "\n",
    "recallvalSVClinear = recall_score(testUnderSampleY, yPredSVClinear)\n",
    "precisionvalSVClinear = precision_score(testUnderSampleY, yPredSVClinear)\n",
    "f1scoreSVClinear = f1_score(testUnderSampleY, yPredSVClinear)"
   ]
  },
  {
   "cell_type": "code",
   "execution_count": 222,
   "metadata": {},
   "outputs": [
    {
     "data": {
      "text/plain": [
       "(0.891156462585034, 0.89726027397260277, 0.89419795221843001)"
      ]
     },
     "execution_count": 222,
     "metadata": {},
     "output_type": "execute_result"
    }
   ],
   "source": [
    "recallvalSVCRBF, precisionvalSVCRBF, f1scoreSVCRBF "
   ]
  },
  {
   "cell_type": "code",
   "execution_count": 223,
   "metadata": {},
   "outputs": [
    {
     "data": {
      "text/plain": [
       "(0.88435374149659862, 0.94890510948905105, 0.91549295774647876)"
      ]
     },
     "execution_count": 223,
     "metadata": {},
     "output_type": "execute_result"
    }
   ],
   "source": [
    "recallvalSVClinear, precisionvalSVClinear, f1scoreSVClinear "
   ]
  },
  {
   "cell_type": "markdown",
   "metadata": {},
   "source": [
    "The RBF kernel seems slightly better especially because we want high recall"
   ]
  },
  {
   "cell_type": "code",
   "execution_count": 245,
   "metadata": {},
   "outputs": [],
   "source": [
    "lr = LogisticRegression(C = Cbest)\n",
    "lr.fit(trainUnderSampleX, trainUnderSampleY)\n",
    "yPredTest = lr.predict(testUnderSampleX)\n",
    "svc = SVC(C = CbestSVC)\n",
    "svc.fit(trainUnderSampleX, trainUnderSampleY)\n",
    "yPredTestSVC = svc.predict(testUnderSampleX)"
   ]
  },
  {
   "cell_type": "code",
   "execution_count": 250,
   "metadata": {
    "collapsed": true
   },
   "outputs": [],
   "source": [
    "confMatrix = confusion_matrix(testUnderSampleY, yPredTest)\n",
    "confMatrixSVC = confusion_matrix(testUnderSampleY, yPredTestSVC)"
   ]
  },
  {
   "cell_type": "code",
   "execution_count": 247,
   "metadata": {},
   "outputs": [
    {
     "data": {
      "text/plain": [
       "array([[133,  16],\n",
       "       [ 15, 132]])"
      ]
     },
     "execution_count": 247,
     "metadata": {},
     "output_type": "execute_result"
    }
   ],
   "source": [
    "confMatrix"
   ]
  },
  {
   "cell_type": "code",
   "execution_count": 248,
   "metadata": {},
   "outputs": [
    {
     "name": "stdout",
     "output_type": "stream",
     "text": [
      "Recall score on the test data:  0.897959183673\n",
      "Precision score on the test data:  0.891891891892\n",
      "F1 score on the test data:  0.894915254237\n"
     ]
    }
   ],
   "source": [
    "print 'Recall score on the test data: ', recall_score(testUnderSampleY, yPredTest)\n",
    "print 'Precision score on the test data: ', precision_score(testUnderSampleY, yPredTest)\n",
    "print 'F1 score on the test data: ', f1_score(testUnderSampleY, yPredTest)"
   ]
  },
  {
   "cell_type": "code",
   "execution_count": 254,
   "metadata": {},
   "outputs": [
    {
     "data": {
      "text/plain": [
       "<matplotlib.text.Text at 0x7f58f42294d0>"
      ]
     },
     "execution_count": 254,
     "metadata": {},
     "output_type": "execute_result"
    },
    {
     "data": {
      "image/png": "[encoded data removed]",
      "text/plain": [
       "<matplotlib.figure.Figure at 0x7f58f4249fd0>"
      ]
     },
     "metadata": {},
     "output_type": "display_data"
    }
   ],
   "source": [
    "sns.heatmap(confMatrix, annot= True, fmt = '.0f', annot_kws={'size': 14})\n",
    "plt.xlabel('Predicted label', fontsize = 16)\n",
    "plt.ylabel('Actual label', fontsize = 16)\n",
    "plt.title('Confusion Matrix with logistic reg', fontsize = 14)"
   ]
  },
  {
   "cell_type": "code",
   "execution_count": 253,
   "metadata": {},
   "outputs": [
    {
     "data": {
      "text/plain": [
       "<matplotlib.text.Text at 0x7f58f4377c90>"
      ]
     },
     "execution_count": 253,
     "metadata": {},
     "output_type": "execute_result"
    },
    {
     "data": {
      "image/png": "[encoded data removed]",
      "text/plain": [
       "<matplotlib.figure.Figure at 0x7f58fb119d10>"
      ]
     },
     "metadata": {},
     "output_type": "display_data"
    }
   ],
   "source": [
    "sns.heatmap(confMatrixSVC, annot= True, fmt = '.0f', annot_kws={'size': 14})\n",
    "plt.xlabel('Predicted label', fontsize = 16)\n",
    "plt.ylabel('Actual label', fontsize = 16)\n",
    "plt.title('Confusion Matrix with SVC', fontsize = 14)"
   ]
  },
  {
   "cell_type": "markdown",
   "metadata": {
    "collapsed": true
   },
   "source": [
    "**The model offers about 90% recall accuracy on previously unseen data, which is a pretty good result for both logistic regression and SVM. Let's use our model on the full data**"
   ]
  },
  {
   "cell_type": "code",
   "execution_count": 255,
   "metadata": {},
   "outputs": [
    {
     "data": {
      "text/plain": [
       "(284315, 29)"
      ]
     },
     "execution_count": 255,
     "metadata": {},
     "output_type": "execute_result"
    }
   ],
   "source": [
    "NormalTransactionModX.shape"
   ]
  },
  {
   "cell_type": "code",
   "execution_count": 256,
   "metadata": {},
   "outputs": [
    {
     "data": {
      "text/plain": [
       "(492, 29)"
      ]
     },
     "execution_count": 256,
     "metadata": {},
     "output_type": "execute_result"
    }
   ],
   "source": [
    "FraudTransactionModX.shape"
   ]
  },
  {
   "cell_type": "code",
   "execution_count": 257,
   "metadata": {},
   "outputs": [
    {
     "data": {
      "text/plain": [
       "284315"
      ]
     },
     "execution_count": 257,
     "metadata": {},
     "output_type": "execute_result"
    }
   ],
   "source": [
    "len(NormalTransactionModX)"
   ]
  },
  {
   "cell_type": "code",
   "execution_count": 258,
   "metadata": {
    "collapsed": true
   },
   "outputs": [],
   "source": [
    "NormalPlusFraudX = pd.concat([NormalTransactionModX, FraudTransactionModX])\n",
    "NormalPlusFraudY = pd.concat([NormalTransactionModY, FraudTransactionModY])"
   ]
  },
  {
   "cell_type": "code",
   "execution_count": 263,
   "metadata": {
    "collapsed": true
   },
   "outputs": [],
   "source": [
    "lr = LogisticRegression(C = Cbest)\n",
    "lr.fit(trainUnderSampleX, trainUnderSampleY)\n",
    "yPredFull = lr.predict(NormalPlusFraudX)\n",
    "svc = SVC(C = CbestSVC)\n",
    "svc.fit(trainUnderSampleX, trainUnderSampleY)\n",
    "yPredFullSVC = svc.predict(NormalPlusFraudX)"
   ]
  },
  {
   "cell_type": "code",
   "execution_count": 264,
   "metadata": {},
   "outputs": [
    {
     "name": "stdout",
     "output_type": "stream",
     "text": [
      "Recall score on the entire data:  0.930894308943\n",
      "Precision score on the entire data:  0.0250122876959\n",
      "F1 score on the entire data:  0.0487156304845\n"
     ]
    }
   ],
   "source": [
    "print 'Recall score on the entire data: ', recall_score(NormalPlusFraudY, yPredFull)\n",
    "print 'Precision score on the entire data: ', precision_score(NormalPlusFraudY, yPredFull)\n",
    "print 'F1 score on the entire data: ', f1_score(NormalPlusFraudY, yPredFull)"
   ]
  },
  {
   "cell_type": "code",
   "execution_count": 268,
   "metadata": {
    "collapsed": true
   },
   "outputs": [],
   "source": [
    "confMatrixFull = confusion_matrix(NormalPlusFraudY, yPredFull)"
   ]
  },
  {
   "cell_type": "code",
   "execution_count": 269,
   "metadata": {},
   "outputs": [
    {
     "data": {
      "text/plain": [
       "<matplotlib.text.Text at 0x7f58f3fd6cd0>"
      ]
     },
     "execution_count": 269,
     "metadata": {},
     "output_type": "execute_result"
    },
    {
     "data": {
      "image/png": "[encoded data removed]",
      "text/plain": [
       "<matplotlib.figure.Figure at 0x7f58f4026ed0>"
      ]
     },
     "metadata": {},
     "output_type": "display_data"
    }
   ],
   "source": [
    "sns.heatmap(confMatrixFull, annot= True, fmt = '.0f', annot_kws={'size': 14})\n",
    "plt.xlabel('Predicted label', fontsize = 16)\n",
    "plt.ylabel('Actual label', fontsize = 16)"
   ]
  },
  {
   "cell_type": "code",
   "execution_count": 270,
   "metadata": {},
   "outputs": [
    {
     "name": "stdout",
     "output_type": "stream",
     "text": [
      "Recall score on the entire data with SVC:  0.961382113821\n",
      "Precision score on the entire data with SVC:  0.0214590327556\n",
      "F1 score on the entire data with SVC:  0.0419810064791\n"
     ]
    }
   ],
   "source": [
    "print 'Recall score on the entire data with SVC: ', recall_score(NormalPlusFraudY, yPredFullSVC)\n",
    "print 'Precision score on the entire data with SVC: ', precision_score(NormalPlusFraudY, yPredFullSVC)\n",
    "print 'F1 score on the entire data with SVC: ', f1_score(NormalPlusFraudY, yPredFullSVC)"
   ]
  },
  {
   "cell_type": "code",
   "execution_count": 271,
   "metadata": {
    "collapsed": true
   },
   "outputs": [],
   "source": [
    "confMatrixFullSVC = confusion_matrix(NormalPlusFraudY, yPredFullSVC)"
   ]
  },
  {
   "cell_type": "code",
   "execution_count": 273,
   "metadata": {},
   "outputs": [
    {
     "data": {
      "text/plain": [
       "<matplotlib.text.Text at 0x7f58f3dad150>"
      ]
     },
     "execution_count": 273,
     "metadata": {},
     "output_type": "execute_result"
    },
    {
     "data": {
      "image/png": "[encoded data removed]",
      "text/plain": [
       "<matplotlib.figure.Figure at 0x7f58f41e2d90>"
      ]
     },
     "metadata": {},
     "output_type": "display_data"
    }
   ],
   "source": [
    "sns.heatmap(confMatrixFullSVC, annot= True, fmt = '.0f', annot_kws={'size': 14})\n",
    "plt.xlabel('Predicted label', fontsize = 16)\n",
    "plt.ylabel('Actual label', fontsize = 16)"
   ]
  },
  {
   "cell_type": "markdown",
   "metadata": {},
   "source": [
    "** A large false positive rate, but a small false negative rate. **\n",
    "\n",
    "Although decreasing FN is the most important. The next improvement on the model would be decreasing FP (we don't wanna irritate the customers). One possible way to do this (while keeping the FN rate low) is to employ feature engineering. This will involve looking at the features which are in the tail for normal transactions as well and engineering new features which drive these examples from tail into the body. \n",
    "\n",
    "Of course, the other way is to use the Anomaly detection algorithms which shall form basis of next notebook. "
   ]
  },
  {
   "cell_type": "markdown",
   "metadata": {},
   "source": [
    "### ROC: receiver operating characteristic curve\n",
    "\n",
    "ROC plots the True positive rate vs. the false positive rate.\n",
    "\n",
    "True positive rate: This is nothing but recall (TP / (TP + FN)) -- when it's actually yes, how often does it predict yes. \n",
    "\n",
    "False positive rate: When it's actually no, how often does it predict yes. (FP/ actual no = FP / (FP + TN))\n",
    "\n",
    "ROC curve illustrates the diagnostic ability of a binary classifier system as its discrimination threshold is varied. Accuracy is measured by the area under the ROC curve. An area of 1 represents a perfect test; an area of 0.5 worthless test. "
   ]
  },
  {
   "cell_type": "markdown",
   "metadata": {},
   "source": [
    "roc_curve syntax is as follows:\n",
    "\n",
    "sklearn.metrics.roc_curve(y_true, y_score, pos_label=None, sample_weight=None, drop_intermediate=True)\n",
    "\n",
    "y_true: true binary labels in range {0, 1} or {-1, 1}\n",
    "\n",
    "y_score: Target scores, can either be probability estimates of the positive class, confidence values, or non-thresholded measure of decisions (as returned by “decision_function” on some classifiers). "
   ]
  },
  {
   "cell_type": "code",
   "execution_count": 274,
   "metadata": {
    "collapsed": true
   },
   "outputs": [],
   "source": [
    "lr = LogisticRegression(C = Cbest)\n",
    "lr.fit(trainUnderSampleX, trainUnderSampleY)\n",
    "yTestScore = lr.decision_function(testUnderSampleX.values)\n",
    "\n",
    "fpr, tpr, threshold = roc_curve(testUnderSampleY, yTestScore)"
   ]
  },
  {
   "cell_type": "code",
   "execution_count": 275,
   "metadata": {},
   "outputs": [
    {
     "data": {
      "text/plain": [
       "array([ 3.79673383,  2.58563474,  5.68371432, -1.00333362, -0.39280765])"
      ]
     },
     "execution_count": 275,
     "metadata": {},
     "output_type": "execute_result"
    }
   ],
   "source": [
    "yTestScore[:5]"
   ]
  },
  {
   "cell_type": "markdown",
   "metadata": {},
   "source": [
    "Decision function predicts confidence scores for samples.\n",
    "The confidence score for a sample is the signed distance of that sample to the hyperplane. Therefore it can be negative."
   ]
  },
  {
   "cell_type": "code",
   "execution_count": 276,
   "metadata": {},
   "outputs": [
    {
     "data": {
      "text/plain": [
       "array([ 0.        ,  0.        ,  0.00671141,  0.00671141,  0.01342282,\n",
       "        0.01342282,  0.02013423,  0.02013423,  0.02684564,  0.02684564,\n",
       "        0.03355705,  0.03355705,  0.04697987,  0.04697987,  0.06711409,\n",
       "        0.06711409,  0.08053691,  0.08053691,  0.10738255,  0.10738255,\n",
       "        0.12080537,  0.12080537,  0.1409396 ,  0.1409396 ,  0.14765101,\n",
       "        0.14765101,  0.19463087,  0.19463087,  0.22818792,  0.22818792,\n",
       "        0.24161074,  0.24161074,  0.26174497,  0.26174497,  0.28187919,\n",
       "        0.28187919,  0.31543624,  0.31543624,  0.51006711,  0.51006711,\n",
       "        0.5704698 ,  0.5704698 ,  0.88590604,  0.88590604,  1.        ])"
      ]
     },
     "execution_count": 276,
     "metadata": {},
     "output_type": "execute_result"
    }
   ],
   "source": [
    "fpr"
   ]
  },
  {
   "cell_type": "code",
   "execution_count": 277,
   "metadata": {},
   "outputs": [
    {
     "data": {
      "text/plain": [
       "array([  1.37006633e+01,   1.31031682e+00,   1.07588557e+00,\n",
       "         9.97338000e-01,   9.41727236e-01,   6.96025068e-01,\n",
       "         6.51762867e-01,   5.87740453e-01,   5.38818349e-01,\n",
       "         5.24601208e-01,   4.82399474e-01,   4.35546720e-01,\n",
       "         3.63742975e-01,   3.13581679e-01,   2.14062883e-01,\n",
       "         1.90959667e-01,   1.24158935e-01,   5.94604105e-02,\n",
       "         1.24793255e-02,  -2.00735104e-02,  -8.43607417e-02,\n",
       "        -1.39653367e-01,  -1.85833363e-01,  -1.91770974e-01,\n",
       "        -2.07365438e-01,  -2.13936709e-01,  -2.82926651e-01,\n",
       "        -2.93544547e-01,  -3.32933663e-01,  -3.39682164e-01,\n",
       "        -3.60252855e-01,  -3.66573656e-01,  -3.85589233e-01,\n",
       "        -3.92807653e-01,  -4.04561960e-01,  -4.05136503e-01,\n",
       "        -4.33692075e-01,  -4.46531191e-01,  -5.85543659e-01,\n",
       "        -5.90108247e-01,  -6.33334632e-01,  -6.34473429e-01,\n",
       "        -8.43418008e-01,  -8.46919002e-01,  -1.46012948e+00])"
      ]
     },
     "execution_count": 277,
     "metadata": {},
     "output_type": "execute_result"
    }
   ],
   "source": [
    "threshold"
   ]
  },
  {
   "cell_type": "code",
   "execution_count": 278,
   "metadata": {
    "collapsed": true
   },
   "outputs": [],
   "source": [
    "roc_auc = roc_auc_score(testUnderSampleY, yTestScore)\n",
    "\n",
    "# Can also use the general area under the curve function: auc(fpr,tpr)"
   ]
  },
  {
   "cell_type": "code",
   "execution_count": 279,
   "metadata": {},
   "outputs": [
    {
     "data": {
      "image/png": "[encoded data removed]",
      "text/plain": [
       "<matplotlib.figure.Figure at 0x7f58f3cace10>"
      ]
     },
     "metadata": {},
     "output_type": "display_data"
    }
   ],
   "source": [
    "plt.title('Receiver Operating Characteristic')\n",
    "plt.plot(fpr, tpr, 'b',label='AUC = %0.2f'% roc_auc)\n",
    "plt.legend(loc='lower right')\n",
    "plt.plot([0,1],[0,1],'r--')\n",
    "plt.xlim([-0.1,1.0])\n",
    "plt.ylim([-0.1,1.01])\n",
    "plt.ylabel('True Positive Rate')\n",
    "plt.xlabel('False Positive Rate')\n",
    "plt.show()"
   ]
  },
  {
   "cell_type": "markdown",
   "metadata": {},
   "source": [
    "Looks great.  Our model works fine. "
   ]
  },
  {
   "cell_type": "markdown",
   "metadata": {},
   "source": [
    "### Changing threshold\n",
    "\n",
    "The predict_proba() method returns the probabilities for each class. The idea is that by changing the threshold to assign a record to class 1, we can control the precision and the recall.  "
   ]
  },
  {
   "cell_type": "code",
   "execution_count": 512,
   "metadata": {
    "collapsed": true
   },
   "outputs": [],
   "source": [
    "lr = LogisticRegression(C = Cbest)\n",
    "lr.fit(trainUnderSampleX, trainUnderSampleY)\n",
    "yPredUnderSampleProba = lr.predict_proba(testUnderSampleX)\n",
    "yTestScore = lr.decision_function(testUnderSampleX)\n",
    "\n",
    "thresholds = [0.1,0.2,0.3,0.4,0.5,0.6,0.7,0.8,0.9]"
   ]
  },
  {
   "cell_type": "code",
   "execution_count": 477,
   "metadata": {},
   "outputs": [
    {
     "name": "stdout",
     "output_type": "stream",
     "text": [
      "Threshold =  0.1 , recall =  1.0 , precision =  0.533783783784 , f1_score =  0.696035242291\n",
      "Threshold =  0.2 , recall =  1.0 , precision =  0.533783783784 , f1_score =  0.696035242291\n",
      "Threshold =  0.3 , recall =  1.0 , precision =  0.533783783784 , f1_score =  0.696035242291\n",
      "Threshold =  0.4 , recall =  1.0 , precision =  0.535593220339 , f1_score =  0.697571743929\n",
      "Threshold =  0.5 , recall =  0.955696202532 , precision =  0.848314606742 , f1_score =  0.89880952381\n",
      "Threshold =  0.6 , recall =  0.879746835443 , precision =  0.965277777778 , f1_score =  0.920529801325\n",
      "Threshold =  0.7 , recall =  0.810126582278 , precision =  1.0 , f1_score =  0.895104895105\n",
      "Threshold =  0.8 , recall =  0.778481012658 , precision =  1.0 , f1_score =  0.875444839858\n",
      "Threshold =  0.9 , recall =  0.620253164557 , precision =  1.0 , f1_score =  0.765625\n"
     ]
    },
    {
     "data": {
      "image/png": "[encoded data removed]",
      "text/plain": [
       "<matplotlib.figure.Figure at 0x7f29f90eeb90>"
      ]
     },
     "metadata": {},
     "output_type": "display_data"
    }
   ],
   "source": [
    "plt.figure(figsize = (14,14))\n",
    "\n",
    "j = 1\n",
    "\n",
    "for i in thresholds:\n",
    "    \n",
    "    yTestPred = yPredUnderSampleProba[:, 1] > i\n",
    "    \n",
    "    plt.subplot(3, 3, j)\n",
    "    \n",
    "    j += 1\n",
    "    \n",
    "    print 'Threshold = ', i, ', recall = ', recall_score(testUnderSampleY, yTestPred), \\\n",
    "          ', precision = ', precision_score(testUnderSampleY, yTestPred), \\\n",
    "          ', f1_score = ', f1_score(testUnderSampleY, yTestPred)\n",
    "    \n",
    "    sns.heatmap(confusion_matrix(testUnderSampleY, yTestPred), annot= True, fmt = '.0f')\n",
    "    plt.xlabel('Predicted label')\n",
    "    plt.ylabel('Actual label')\n",
    "    plt.title('Threshold = %0.1f' %i)"
   ]
  },
  {
   "cell_type": "markdown",
   "metadata": {},
   "source": [
    "It's clear that when the threshold is low, everything is classified as an anomaly. As threshold is steadily increased, more examples are transfered from \"1\" class to \"0\" class.  It's also clear that some examples are so anamolous that even with very large threshold, they are still classified as anamolous. "
   ]
  },
  {
   "cell_type": "markdown",
   "metadata": {},
   "source": [
    "Let's look at the precision recall curve which shows the value for precision and recall for different thresholds. \n",
    "\n",
    "The precision recall curve function from the from sklearn.metrics require y_true and probas_pred. \n",
    "The documentation says that probas_pred are the estimated probabilities or decision function. Below we test both."
   ]
  },
  {
   "cell_type": "markdown",
   "metadata": {},
   "source": [
    "The predict predict_proba method gives the probability for the class 0 and class 1. (Spits an array of size numberSample x 2). Of course the probabilities for class 0 and class 1 for each sample add to 1.\n",
    "\n",
    "The decision function gives the confidence score -- signed distance of that sample to the hyperplane."
   ]
  },
  {
   "cell_type": "code",
   "execution_count": 537,
   "metadata": {
    "collapsed": true
   },
   "outputs": [],
   "source": [
    "#yPredUnderSampleProba = lr.predict_proba(testUnderSampleX)\n",
    "#yTestScore = lr.decision_function(testUnderSampleX)\n",
    "\n",
    "pr, recall, thresh = precision_recall_curve(testUnderSampleY, yTestScore)\n",
    "pr1, recall1, thresh1 = precision_recall_curve(testUnderSampleY, yPredUnderSampleProba[:,0])\n",
    "#using the probability for getting 0\n",
    "pr2, recall2, thresh2 = precision_recall_curve(testUnderSampleY, yPredUnderSampleProba[:,1])\n",
    "#using the probability for getting 1. "
   ]
  },
  {
   "cell_type": "code",
   "execution_count": 543,
   "metadata": {},
   "outputs": [
    {
     "data": {
      "text/plain": [
       "<matplotlib.text.Text at 0x7f29f9e27bd0>"
      ]
     },
     "execution_count": 543,
     "metadata": {},
     "output_type": "execute_result"
    },
    {
     "data": {
      "image/png": "[encoded data removed]",
      "text/plain": [
       "<matplotlib.figure.Figure at 0x7f29fa305750>"
      ]
     },
     "metadata": {},
     "output_type": "display_data"
    }
   ],
   "source": [
    "plt.plot(recall, pr)\n",
    "plt.xlabel('recall')\n",
    "plt.ylabel('precision')\n",
    "plt.title('Using decision function score')"
   ]
  },
  {
   "cell_type": "code",
   "execution_count": 540,
   "metadata": {},
   "outputs": [
    {
     "data": {
      "text/plain": [
       "<matplotlib.text.Text at 0x7f29fa393050>"
      ]
     },
     "execution_count": 540,
     "metadata": {},
     "output_type": "execute_result"
    },
    {
     "data": {
      "image/png": "[encoded data removed]",
      "text/plain": [
       "<matplotlib.figure.Figure at 0x7f29fa525d10>"
      ]
     },
     "metadata": {},
     "output_type": "display_data"
    }
   ],
   "source": [
    "plt.plot(recall1, pr1)\n",
    "plt.xlabel('recall')\n",
    "plt.ylabel('precision')\n",
    "plt.title('Using probability for getting class 0')"
   ]
  },
  {
   "cell_type": "markdown",
   "metadata": {},
   "source": [
    "Evidently, using probability for class 0 as the score in the precision-recall function gives garbage answer. "
   ]
  },
  {
   "cell_type": "code",
   "execution_count": 541,
   "metadata": {},
   "outputs": [
    {
     "data": {
      "text/plain": [
       "<matplotlib.text.Text at 0x7f29fa4c8f90>"
      ]
     },
     "execution_count": 541,
     "metadata": {},
     "output_type": "execute_result"
    },
    {
     "data": {
      "image/png": "[encoded data removed]",
      "text/plain": [
       "<matplotlib.figure.Figure at 0x7f29f90bb910>"
      ]
     },
     "metadata": {},
     "output_type": "display_data"
    }
   ],
   "source": [
    "plt.plot(recall2, pr2)\n",
    "plt.xlabel('recall')\n",
    "plt.ylabel('precision')\n",
    "plt.title('Using probability for getting class 1')"
   ]
  },
  {
   "cell_type": "markdown",
   "metadata": {},
   "source": [
    "Same answer as by using the score from decision function.\n",
    "\n",
    "Let's look at precision and recall as a function of threshold and precision."
   ]
  },
  {
   "cell_type": "code",
   "execution_count": 523,
   "metadata": {},
   "outputs": [
    {
     "data": {
      "text/plain": [
       "(279,)"
      ]
     },
     "execution_count": 523,
     "metadata": {},
     "output_type": "execute_result"
    }
   ],
   "source": [
    "pr.shape"
   ]
  },
  {
   "cell_type": "code",
   "execution_count": 524,
   "metadata": {},
   "outputs": [
    {
     "data": {
      "text/plain": [
       "(279,)"
      ]
     },
     "execution_count": 524,
     "metadata": {},
     "output_type": "execute_result"
    }
   ],
   "source": [
    "recall.shape"
   ]
  },
  {
   "cell_type": "code",
   "execution_count": 525,
   "metadata": {},
   "outputs": [
    {
     "data": {
      "text/plain": [
       "(278,)"
      ]
     },
     "execution_count": 525,
     "metadata": {},
     "output_type": "execute_result"
    }
   ],
   "source": [
    "thresh.shape"
   ]
  },
  {
   "cell_type": "code",
   "execution_count": 526,
   "metadata": {},
   "outputs": [
    {
     "data": {
      "text/plain": [
       "(296, 29)"
      ]
     },
     "execution_count": 526,
     "metadata": {},
     "output_type": "execute_result"
    }
   ],
   "source": [
    "testUnderSampleX.shape"
   ]
  },
  {
   "cell_type": "code",
   "execution_count": 557,
   "metadata": {},
   "outputs": [
    {
     "data": {
      "text/plain": [
       "<matplotlib.text.Text at 0x7f29f8fab190>"
      ]
     },
     "execution_count": 557,
     "metadata": {},
     "output_type": "execute_result"
    },
    {
     "data": {
      "image/png": "[encoded data removed]",
      "text/plain": [
       "<matplotlib.figure.Figure at 0x7f29f9955c90>"
      ]
     },
     "metadata": {},
     "output_type": "display_data"
    }
   ],
   "source": [
    "plt.figure(figsize = (8,4))\n",
    "plt.subplot(1, 2, 1)\n",
    "plt.plot(thresh2, pr2[0:len(pr2)-1])\n",
    "plt.xlabel('threshold')\n",
    "plt.ylabel('precision')\n",
    "plt.subplot(1, 2, 2)\n",
    "plt.plot(thresh2, recall2[0:len(recall2)-1])\n",
    "plt.xlabel('threshold')\n",
    "plt.ylabel('recall')\n",
    "plt.suptitle('Threshold from prob for class 1 in P-R curve fn')"
   ]
  },
  {
   "cell_type": "code",
   "execution_count": 556,
   "metadata": {},
   "outputs": [
    {
     "data": {
      "text/plain": [
       "<matplotlib.text.Text at 0x7f29f99ed090>"
      ]
     },
     "execution_count": 556,
     "metadata": {},
     "output_type": "execute_result"
    },
    {
     "data": {
      "image/png": "[encoded data removed]",
      "text/plain": [
       "<matplotlib.figure.Figure at 0x7f29f9507590>"
      ]
     },
     "metadata": {},
     "output_type": "display_data"
    }
   ],
   "source": [
    "plt.figure(figsize = (8,4))\n",
    "plt.subplot(1, 2, 1)\n",
    "plt.plot(thresh1, pr1[0:len(pr1)-1])\n",
    "plt.xlabel('threshold')\n",
    "plt.ylabel('precision')\n",
    "plt.subplot(1, 2, 2)\n",
    "plt.plot(thresh1, recall1[0:len(recall1)-1])\n",
    "plt.xlabel('threshold')\n",
    "plt.ylabel('recall')\n",
    "plt.suptitle('Threshold from prob for class 0 in P-R curve fn')"
   ]
  },
  {
   "cell_type": "markdown",
   "metadata": {},
   "source": [
    "#### Obviously this is not right"
   ]
  },
  {
   "cell_type": "code",
   "execution_count": 558,
   "metadata": {},
   "outputs": [
    {
     "data": {
      "text/plain": [
       "<matplotlib.text.Text at 0x7f29f919a090>"
      ]
     },
     "execution_count": 558,
     "metadata": {},
     "output_type": "execute_result"
    },
    {
     "data": {
      "image/png": "[encoded data removed]",
      "text/plain": [
       "<matplotlib.figure.Figure at 0x7f29fad69a90>"
      ]
     },
     "metadata": {},
     "output_type": "display_data"
    }
   ],
   "source": [
    "plt.figure(figsize = (8,4))\n",
    "plt.subplot(1, 2, 1)\n",
    "plt.plot(thresh, pr[0:len(pr)-1])\n",
    "plt.xlabel('threshold')\n",
    "plt.ylabel('precision')\n",
    "plt.subplot(1, 2, 2)\n",
    "plt.plot(thresh, recall[0:len(recall)-1])\n",
    "plt.xlabel('threshold')\n",
    "plt.ylabel('recall')\n",
    "plt.suptitle('Threshold from using scores from decision function in P-R curve fn')"
   ]
  },
  {
   "cell_type": "markdown",
   "metadata": {},
   "source": [
    "Threshold obtained from using the decision function scores in the precision_recall_curve function doesn't have the same interpretation as the threshold on probabilities.  "
   ]
  }
 ],
 "metadata": {
  "kernelspec": {
   "display_name": "Python 2",
   "language": "python",
   "name": "python2"
  },
  "language_info": {
   "codemirror_mode": {
    "name": "ipython",
    "version": 2
   },
   "file_extension": ".py",
   "mimetype": "text/x-python",
   "name": "python",
   "nbconvert_exporter": "python",
   "pygments_lexer": "ipython2",
   "version": "2.7.13"
  }
 },
 "nbformat": 4,
 "nbformat_minor": 2
}
