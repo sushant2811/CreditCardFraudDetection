{
 "cells": [
  {
   "cell_type": "markdown",
   "metadata": {},
   "source": [
    "# Credit card fraud detection\n",
    "\n",
    "### Exploring the credit card transaction data to learn a model for anomalies. \n",
    "### Key concept: handling skewed data.\n",
    "\n",
    "#### Author: Sushant N. More\n",
    "\n",
    "#### Revision history: \n",
    "\n",
    "October 20, 2017: Started writing\n",
    "\n",
    "Borrows elements from the [this notebook](https://www.kaggle.com/joparga3/in-depth-skewed-data-classif-93-recall-acc-now/notebook) on Kaggle\n",
    "\n",
    "See the description for data [here](https://www.kaggle.com/dalpozz/creditcardfraud)\n"
   ]
  },
  {
   "cell_type": "markdown",
   "metadata": {},
   "source": [
    "### Brief summary:\n",
    "\n",
    "Logistic regression and support vector machine models are trained on a highly skewed data. This is accomplished through resampling (specifically undersampling). The parameters of the models are chosen through KFold cross validation to give a high recall accuracy.  \n",
    "\n",
    "For unseen data, logistic regression and SVM both give over 90% recall accuracy, with SVM doing slightly better. \n",
    "\n",
    "The notebook also does the ROC analysis and the looks at precision recall curves as a function of threshold."
   ]
  },
  {
   "cell_type": "code",
   "execution_count": 56,
   "metadata": {
    "collapsed": true
   },
   "outputs": [],
   "source": [
    "import pandas as pd\n",
    "import matplotlib.pyplot as plt\n",
    "import numpy as np\n",
    "import seaborn as sns\n",
    "\n",
    "%matplotlib inline"
   ]
  },
  {
   "cell_type": "markdown",
   "metadata": {},
   "source": [
    "Importing the data"
   ]
  },
  {
   "cell_type": "code",
   "execution_count": 57,
   "metadata": {
    "collapsed": true
   },
   "outputs": [],
   "source": [
    "df = pd.read_csv('./creditcard.csv')"
   ]
  },
  {
   "cell_type": "code",
   "execution_count": 58,
   "metadata": {},
   "outputs": [
    {
     "data": {
      "text/html": [
       "<div>\n",
       "<style>\n",
       "    .dataframe thead tr:only-child th {\n",
       "        text-align: right;\n",
       "    }\n",
       "\n",
       "    .dataframe thead th {\n",
       "        text-align: left;\n",
       "    }\n",
       "\n",
       "    .dataframe tbody tr th {\n",
       "        vertical-align: top;\n",
       "    }\n",
       "</style>\n",
       "<table border=\"1\" class=\"dataframe\">\n",
       "  <thead>\n",
       "    <tr style=\"text-align: right;\">\n",
       "      <th></th>\n",
       "      <th>Time</th>\n",
       "      <th>V1</th>\n",
       "      <th>V2</th>\n",
       "      <th>V3</th>\n",
       "      <th>V4</th>\n",
       "      <th>V5</th>\n",
       "      <th>V6</th>\n",
       "      <th>V7</th>\n",
       "      <th>V8</th>\n",
       "      <th>V9</th>\n",
       "      <th>...</th>\n",
       "      <th>V21</th>\n",
       "      <th>V22</th>\n",
       "      <th>V23</th>\n",
       "      <th>V24</th>\n",
       "      <th>V25</th>\n",
       "      <th>V26</th>\n",
       "      <th>V27</th>\n",
       "      <th>V28</th>\n",
       "      <th>Amount</th>\n",
       "      <th>Class</th>\n",
       "    </tr>\n",
       "  </thead>\n",
       "  <tbody>\n",
       "    <tr>\n",
       "      <th>0</th>\n",
       "      <td>0.0</td>\n",
       "      <td>-1.359807</td>\n",
       "      <td>-0.072781</td>\n",
       "      <td>2.536347</td>\n",
       "      <td>1.378155</td>\n",
       "      <td>-0.338321</td>\n",
       "      <td>0.462388</td>\n",
       "      <td>0.239599</td>\n",
       "      <td>0.098698</td>\n",
       "      <td>0.363787</td>\n",
       "      <td>...</td>\n",
       "      <td>-0.018307</td>\n",
       "      <td>0.277838</td>\n",
       "      <td>-0.110474</td>\n",
       "      <td>0.066928</td>\n",
       "      <td>0.128539</td>\n",
       "      <td>-0.189115</td>\n",
       "      <td>0.133558</td>\n",
       "      <td>-0.021053</td>\n",
       "      <td>149.62</td>\n",
       "      <td>0</td>\n",
       "    </tr>\n",
       "    <tr>\n",
       "      <th>1</th>\n",
       "      <td>0.0</td>\n",
       "      <td>1.191857</td>\n",
       "      <td>0.266151</td>\n",
       "      <td>0.166480</td>\n",
       "      <td>0.448154</td>\n",
       "      <td>0.060018</td>\n",
       "      <td>-0.082361</td>\n",
       "      <td>-0.078803</td>\n",
       "      <td>0.085102</td>\n",
       "      <td>-0.255425</td>\n",
       "      <td>...</td>\n",
       "      <td>-0.225775</td>\n",
       "      <td>-0.638672</td>\n",
       "      <td>0.101288</td>\n",
       "      <td>-0.339846</td>\n",
       "      <td>0.167170</td>\n",
       "      <td>0.125895</td>\n",
       "      <td>-0.008983</td>\n",
       "      <td>0.014724</td>\n",
       "      <td>2.69</td>\n",
       "      <td>0</td>\n",
       "    </tr>\n",
       "    <tr>\n",
       "      <th>2</th>\n",
       "      <td>1.0</td>\n",
       "      <td>-1.358354</td>\n",
       "      <td>-1.340163</td>\n",
       "      <td>1.773209</td>\n",
       "      <td>0.379780</td>\n",
       "      <td>-0.503198</td>\n",
       "      <td>1.800499</td>\n",
       "      <td>0.791461</td>\n",
       "      <td>0.247676</td>\n",
       "      <td>-1.514654</td>\n",
       "      <td>...</td>\n",
       "      <td>0.247998</td>\n",
       "      <td>0.771679</td>\n",
       "      <td>0.909412</td>\n",
       "      <td>-0.689281</td>\n",
       "      <td>-0.327642</td>\n",
       "      <td>-0.139097</td>\n",
       "      <td>-0.055353</td>\n",
       "      <td>-0.059752</td>\n",
       "      <td>378.66</td>\n",
       "      <td>0</td>\n",
       "    </tr>\n",
       "    <tr>\n",
       "      <th>3</th>\n",
       "      <td>1.0</td>\n",
       "      <td>-0.966272</td>\n",
       "      <td>-0.185226</td>\n",
       "      <td>1.792993</td>\n",
       "      <td>-0.863291</td>\n",
       "      <td>-0.010309</td>\n",
       "      <td>1.247203</td>\n",
       "      <td>0.237609</td>\n",
       "      <td>0.377436</td>\n",
       "      <td>-1.387024</td>\n",
       "      <td>...</td>\n",
       "      <td>-0.108300</td>\n",
       "      <td>0.005274</td>\n",
       "      <td>-0.190321</td>\n",
       "      <td>-1.175575</td>\n",
       "      <td>0.647376</td>\n",
       "      <td>-0.221929</td>\n",
       "      <td>0.062723</td>\n",
       "      <td>0.061458</td>\n",
       "      <td>123.50</td>\n",
       "      <td>0</td>\n",
       "    </tr>\n",
       "    <tr>\n",
       "      <th>4</th>\n",
       "      <td>2.0</td>\n",
       "      <td>-1.158233</td>\n",
       "      <td>0.877737</td>\n",
       "      <td>1.548718</td>\n",
       "      <td>0.403034</td>\n",
       "      <td>-0.407193</td>\n",
       "      <td>0.095921</td>\n",
       "      <td>0.592941</td>\n",
       "      <td>-0.270533</td>\n",
       "      <td>0.817739</td>\n",
       "      <td>...</td>\n",
       "      <td>-0.009431</td>\n",
       "      <td>0.798278</td>\n",
       "      <td>-0.137458</td>\n",
       "      <td>0.141267</td>\n",
       "      <td>-0.206010</td>\n",
       "      <td>0.502292</td>\n",
       "      <td>0.219422</td>\n",
       "      <td>0.215153</td>\n",
       "      <td>69.99</td>\n",
       "      <td>0</td>\n",
       "    </tr>\n",
       "  </tbody>\n",
       "</table>\n",
       "<p>5 rows × 31 columns</p>\n",
       "</div>"
      ],
      "text/plain": [
       "   Time        V1        V2        V3        V4        V5        V6        V7  \\\n",
       "0   0.0 -1.359807 -0.072781  2.536347  1.378155 -0.338321  0.462388  0.239599   \n",
       "1   0.0  1.191857  0.266151  0.166480  0.448154  0.060018 -0.082361 -0.078803   \n",
       "2   1.0 -1.358354 -1.340163  1.773209  0.379780 -0.503198  1.800499  0.791461   \n",
       "3   1.0 -0.966272 -0.185226  1.792993 -0.863291 -0.010309  1.247203  0.237609   \n",
       "4   2.0 -1.158233  0.877737  1.548718  0.403034 -0.407193  0.095921  0.592941   \n",
       "\n",
       "         V8        V9  ...         V21       V22       V23       V24  \\\n",
       "0  0.098698  0.363787  ...   -0.018307  0.277838 -0.110474  0.066928   \n",
       "1  0.085102 -0.255425  ...   -0.225775 -0.638672  0.101288 -0.339846   \n",
       "2  0.247676 -1.514654  ...    0.247998  0.771679  0.909412 -0.689281   \n",
       "3  0.377436 -1.387024  ...   -0.108300  0.005274 -0.190321 -1.175575   \n",
       "4 -0.270533  0.817739  ...   -0.009431  0.798278 -0.137458  0.141267   \n",
       "\n",
       "        V25       V26       V27       V28  Amount  Class  \n",
       "0  0.128539 -0.189115  0.133558 -0.021053  149.62      0  \n",
       "1  0.167170  0.125895 -0.008983  0.014724    2.69      0  \n",
       "2 -0.327642 -0.139097 -0.055353 -0.059752  378.66      0  \n",
       "3  0.647376 -0.221929  0.062723  0.061458  123.50      0  \n",
       "4 -0.206010  0.502292  0.219422  0.215153   69.99      0  \n",
       "\n",
       "[5 rows x 31 columns]"
      ]
     },
     "execution_count": 58,
     "metadata": {},
     "output_type": "execute_result"
    }
   ],
   "source": [
    "df.head()"
   ]
  },
  {
   "cell_type": "markdown",
   "metadata": {},
   "source": [
    "As described here V1 through V28 are the obtained through PCA.\n",
    "The only features which have not been transformed with PCA are 'Time' and 'Amount'. Feature 'Time' contains the seconds elapsed between each transaction and the first transaction in the dataset. The feature 'Amount' is the transaction Amount, this feature can be used for example-dependant cost-senstive learning. Feature 'Class' is the response variable and it takes value 1 in case of fraud and 0 otherwise.\n",
    "\n",
    "\n",
    "\n",
    "Data exploration is in the order"
   ]
  },
  {
   "cell_type": "code",
   "execution_count": 59,
   "metadata": {},
   "outputs": [
    {
     "data": {
      "text/plain": [
       "0    0.0\n",
       "1    0.0\n",
       "2    1.0\n",
       "3    1.0\n",
       "4    2.0\n",
       "5    2.0\n",
       "6    4.0\n",
       "7    7.0\n",
       "8    7.0\n",
       "9    9.0\n",
       "Name: Time, dtype: float64"
      ]
     },
     "execution_count": 59,
     "metadata": {},
     "output_type": "execute_result"
    }
   ],
   "source": [
    "df['Time'].head(10)"
   ]
  },
  {
   "cell_type": "markdown",
   "metadata": {},
   "source": [
    "So, time just monotonically increases"
   ]
  },
  {
   "cell_type": "code",
   "execution_count": 60,
   "metadata": {},
   "outputs": [
    {
     "name": "stdout",
     "output_type": "stream",
     "text": [
      "<class 'pandas.core.frame.DataFrame'>\n",
      "RangeIndex: 284807 entries, 0 to 284806\n",
      "Data columns (total 31 columns):\n",
      "Time      284807 non-null float64\n",
      "V1        284807 non-null float64\n",
      "V2        284807 non-null float64\n",
      "V3        284807 non-null float64\n",
      "V4        284807 non-null float64\n",
      "V5        284807 non-null float64\n",
      "V6        284807 non-null float64\n",
      "V7        284807 non-null float64\n",
      "V8        284807 non-null float64\n",
      "V9        284807 non-null float64\n",
      "V10       284807 non-null float64\n",
      "V11       284807 non-null float64\n",
      "V12       284807 non-null float64\n",
      "V13       284807 non-null float64\n",
      "V14       284807 non-null float64\n",
      "V15       284807 non-null float64\n",
      "V16       284807 non-null float64\n",
      "V17       284807 non-null float64\n",
      "V18       284807 non-null float64\n",
      "V19       284807 non-null float64\n",
      "V20       284807 non-null float64\n",
      "V21       284807 non-null float64\n",
      "V22       284807 non-null float64\n",
      "V23       284807 non-null float64\n",
      "V24       284807 non-null float64\n",
      "V25       284807 non-null float64\n",
      "V26       284807 non-null float64\n",
      "V27       284807 non-null float64\n",
      "V28       284807 non-null float64\n",
      "Amount    284807 non-null float64\n",
      "Class     284807 non-null int64\n",
      "dtypes: float64(30), int64(1)\n",
      "memory usage: 67.4 MB\n"
     ]
    }
   ],
   "source": [
    "df.info()"
   ]
  },
  {
   "cell_type": "markdown",
   "metadata": {},
   "source": [
    "We find that no NULL values are present.\n",
    "\n",
    "Just taking a look at the purchase amount to get a feel for values"
   ]
  },
  {
   "cell_type": "code",
   "execution_count": 61,
   "metadata": {},
   "outputs": [
    {
     "data": {
      "text/plain": [
       "0    149.62\n",
       "1      2.69\n",
       "2    378.66\n",
       "3    123.50\n",
       "4     69.99\n",
       "Name: Amount, dtype: float64"
      ]
     },
     "execution_count": 61,
     "metadata": {},
     "output_type": "execute_result"
    }
   ],
   "source": [
    "df.loc[:,'Amount'].head()"
   ]
  },
  {
   "cell_type": "code",
   "execution_count": 62,
   "metadata": {},
   "outputs": [
    {
     "data": {
      "text/plain": [
       "count    284807.000000\n",
       "mean         88.349619\n",
       "std         250.120109\n",
       "min           0.000000\n",
       "25%           5.600000\n",
       "50%          22.000000\n",
       "75%          77.165000\n",
       "max       25691.160000\n",
       "Name: Amount, dtype: float64"
      ]
     },
     "execution_count": 62,
     "metadata": {},
     "output_type": "execute_result"
    }
   ],
   "source": [
    "df['Amount'].describe()"
   ]
  },
  {
   "cell_type": "code",
   "execution_count": 63,
   "metadata": {},
   "outputs": [
    {
     "data": {
      "text/plain": [
       "0    284315\n",
       "1       492\n",
       "Name: Class, dtype: int64"
      ]
     },
     "execution_count": 63,
     "metadata": {},
     "output_type": "execute_result"
    }
   ],
   "source": [
    "df['Class'].value_counts()"
   ]
  },
  {
   "cell_type": "code",
   "execution_count": 64,
   "metadata": {},
   "outputs": [
    {
     "data": {
      "image/png": "[encoded data removed]",
      "text/plain": [
       "<matplotlib.figure.Figure at 0x7fb433903e90>"
      ]
     },
     "metadata": {},
     "output_type": "display_data"
    }
   ],
   "source": [
    "df['Class'].value_counts().plot(kind = 'bar')\n",
    "_ = plt.xlabel('Class')\n",
    "_ = plt.ylabel('Frequency')"
   ]
  },
  {
   "cell_type": "markdown",
   "metadata": {},
   "source": [
    "** Highly skewed **\n",
    "\n",
    "There are two things to keep in mind when dealing with skewed data\n",
    "\n",
    "1. Accuracy is no longer a good metric.  (A model which predicts y = 0, will be highly accurate too!). So, we need to change the accuracy metric to some thing like F1 score\n",
    "\n",
    "2. Try to restore the balance by resampling.  This has two components. \n",
    "\n",
    "(i) Oversampling: add copies of the under-represented class (works better when dataset small)\n",
    "\n",
    "(ii) Undersampling: Delete instances from the over-represented class (works better when dataset large)\n",
    "\n",
    "Another popular approach goes by the name SMOTE---Synthetic minority oversampling technique. In SMOTE the oversampling approach is not by replicating minority class but constructing new minority class data instance via an algorithm.\n",
    "\n",
    "Note: the resampling methods are still in the spirit of supervised learning.  Another approach to try is the anomaly detection algorithm where we build the (joint) probability distribution for the features.  The idea is that the features occur in the tail.  The threshold \\epislon can be chosen by cross validation."
   ]
  },
  {
   "cell_type": "code",
   "execution_count": 65,
   "metadata": {},
   "outputs": [
    {
     "data": {
      "image/png": "[encoded data removed]",
      "text/plain": [
       "<matplotlib.figure.Figure at 0x7fb42ac6bd10>"
      ]
     },
     "metadata": {},
     "output_type": "display_data"
    }
   ],
   "source": [
    "_ = sns.distplot(df['Amount'], kde = False)"
   ]
  },
  {
   "cell_type": "code",
   "execution_count": 66,
   "metadata": {},
   "outputs": [
    {
     "data": {
      "image/png": "[encoded data removed]",
      "text/plain": [
       "<matplotlib.figure.Figure at 0x7fb4335a6ed0>"
      ]
     },
     "metadata": {},
     "output_type": "display_data"
    }
   ],
   "source": [
    "_ = sns.distplot(df['Time'])"
   ]
  },
  {
   "cell_type": "code",
   "execution_count": 67,
   "metadata": {},
   "outputs": [
    {
     "data": {
      "image/png": "[encoded data removed]",
      "text/plain": [
       "<matplotlib.figure.Figure at 0x7fb433699ed0>"
      ]
     },
     "metadata": {},
     "output_type": "display_data"
    }
   ],
   "source": [
    "_ = sns.distplot(df['V1'], kde = False)"
   ]
  },
  {
   "cell_type": "code",
   "execution_count": 68,
   "metadata": {},
   "outputs": [
    {
     "data": {
      "image/png": "[encoded data removed]",
      "text/plain": [
       "<matplotlib.figure.Figure at 0x7fb4337b9b10>"
      ]
     },
     "metadata": {},
     "output_type": "display_data"
    }
   ],
   "source": [
    "_ = sns.distplot(df['V2'], kde = False)"
   ]
  },
  {
   "cell_type": "code",
   "execution_count": 69,
   "metadata": {},
   "outputs": [
    {
     "data": {
      "image/png": "[encoded data removed]",
      "text/plain": [
       "<matplotlib.figure.Figure at 0x7fb42a8fb650>"
      ]
     },
     "metadata": {},
     "output_type": "display_data"
    }
   ],
   "source": [
    "_ = sns.distplot(df['V3'], kde = False)"
   ]
  },
  {
   "cell_type": "code",
   "execution_count": 70,
   "metadata": {},
   "outputs": [
    {
     "data": {
      "image/png": "[encoded data removed]",
      "text/plain": [
       "<matplotlib.figure.Figure at 0x7fb42aabbe10>"
      ]
     },
     "metadata": {},
     "output_type": "display_data"
    }
   ],
   "source": [
    "_ = sns.distplot(df['V28'], kde = False)"
   ]
  },
  {
   "cell_type": "markdown",
   "metadata": {},
   "source": [
    "Interesting to note that the features V1 through V28 are mostly centered around zero. "
   ]
  },
  {
   "cell_type": "code",
   "execution_count": 71,
   "metadata": {},
   "outputs": [
    {
     "data": {
      "text/plain": [
       "count    2.848070e+05\n",
       "mean     9.170318e-16\n",
       "std      1.020713e+00\n",
       "min     -4.797473e+00\n",
       "25%     -7.624942e-01\n",
       "50%     -3.275735e-02\n",
       "75%      7.395934e-01\n",
       "max      1.201891e+01\n",
       "Name: V11, dtype: float64"
      ]
     },
     "execution_count": 71,
     "metadata": {},
     "output_type": "execute_result"
    }
   ],
   "source": [
    "df['V11'].describe()"
   ]
  },
  {
   "cell_type": "markdown",
   "metadata": {},
   "source": [
    "Normalize the Time and the Amount feature to fall in line with the V's. "
   ]
  },
  {
   "cell_type": "code",
   "execution_count": 72,
   "metadata": {},
   "outputs": [
    {
     "data": {
      "text/plain": [
       "array([[ 149.62],\n",
       "       [   2.69],\n",
       "       [ 378.66],\n",
       "       ..., \n",
       "       [  67.88],\n",
       "       [  10.  ],\n",
       "       [ 217.  ]])"
      ]
     },
     "execution_count": 72,
     "metadata": {},
     "output_type": "execute_result"
    }
   ],
   "source": [
    "df['Amount'].values.reshape(-1, 1)"
   ]
  },
  {
   "cell_type": "code",
   "execution_count": 73,
   "metadata": {},
   "outputs": [
    {
     "data": {
      "text/plain": [
       "(284807, 1)"
      ]
     },
     "execution_count": 73,
     "metadata": {},
     "output_type": "execute_result"
    }
   ],
   "source": [
    "np.shape(df['Amount'].values.reshape(-1, 1))"
   ]
  },
  {
   "cell_type": "markdown",
   "metadata": {},
   "source": [
    "Use reshape to get the amount column in the row form. The -1 entry tells numpy to figure out the length of that dimension. "
   ]
  },
  {
   "cell_type": "code",
   "execution_count": 74,
   "metadata": {
    "collapsed": true
   },
   "outputs": [],
   "source": [
    "from sklearn.preprocessing import StandardScaler\n",
    "\n",
    "df['normAmount'] = StandardScaler().fit_transform(df['Amount'].values.reshape(-1,1))\n",
    "df['normTime'] = StandardScaler().fit_transform(df['Time'].values.reshape(-1,1))"
   ]
  },
  {
   "cell_type": "code",
   "execution_count": 75,
   "metadata": {},
   "outputs": [
    {
     "data": {
      "image/png": "[encoded data removed]",
      "text/plain": [
       "<matplotlib.figure.Figure at 0x7fb42a8fbc90>"
      ]
     },
     "metadata": {},
     "output_type": "display_data"
    }
   ],
   "source": [
    "_ = sns.distplot(df['normAmount'], kde = False)"
   ]
  },
  {
   "cell_type": "code",
   "execution_count": 76,
   "metadata": {},
   "outputs": [
    {
     "data": {
      "image/png": "[encoded data removed]",
      "text/plain": [
       "<matplotlib.figure.Figure at 0x7fb42efef310>"
      ]
     },
     "metadata": {},
     "output_type": "display_data"
    }
   ],
   "source": [
    "_ = sns.distplot(df['normTime'], kde = False)"
   ]
  },
  {
   "cell_type": "code",
   "execution_count": 77,
   "metadata": {
    "collapsed": true
   },
   "outputs": [],
   "source": [
    "dfMod = df.drop(['Time','Amount'], axis = 1)"
   ]
  },
  {
   "cell_type": "code",
   "execution_count": 78,
   "metadata": {},
   "outputs": [
    {
     "data": {
      "text/html": [
       "<div>\n",
       "<style>\n",
       "    .dataframe thead tr:only-child th {\n",
       "        text-align: right;\n",
       "    }\n",
       "\n",
       "    .dataframe thead th {\n",
       "        text-align: left;\n",
       "    }\n",
       "\n",
       "    .dataframe tbody tr th {\n",
       "        vertical-align: top;\n",
       "    }\n",
       "</style>\n",
       "<table border=\"1\" class=\"dataframe\">\n",
       "  <thead>\n",
       "    <tr style=\"text-align: right;\">\n",
       "      <th></th>\n",
       "      <th>V1</th>\n",
       "      <th>V2</th>\n",
       "      <th>V3</th>\n",
       "      <th>V4</th>\n",
       "      <th>V5</th>\n",
       "      <th>V6</th>\n",
       "      <th>V7</th>\n",
       "      <th>V8</th>\n",
       "      <th>V9</th>\n",
       "      <th>V10</th>\n",
       "      <th>...</th>\n",
       "      <th>V22</th>\n",
       "      <th>V23</th>\n",
       "      <th>V24</th>\n",
       "      <th>V25</th>\n",
       "      <th>V26</th>\n",
       "      <th>V27</th>\n",
       "      <th>V28</th>\n",
       "      <th>Class</th>\n",
       "      <th>normAmount</th>\n",
       "      <th>normTime</th>\n",
       "    </tr>\n",
       "  </thead>\n",
       "  <tbody>\n",
       "    <tr>\n",
       "      <th>0</th>\n",
       "      <td>-1.359807</td>\n",
       "      <td>-0.072781</td>\n",
       "      <td>2.536347</td>\n",
       "      <td>1.378155</td>\n",
       "      <td>-0.338321</td>\n",
       "      <td>0.462388</td>\n",
       "      <td>0.239599</td>\n",
       "      <td>0.098698</td>\n",
       "      <td>0.363787</td>\n",
       "      <td>0.090794</td>\n",
       "      <td>...</td>\n",
       "      <td>0.277838</td>\n",
       "      <td>-0.110474</td>\n",
       "      <td>0.066928</td>\n",
       "      <td>0.128539</td>\n",
       "      <td>-0.189115</td>\n",
       "      <td>0.133558</td>\n",
       "      <td>-0.021053</td>\n",
       "      <td>0</td>\n",
       "      <td>0.244964</td>\n",
       "      <td>-1.996583</td>\n",
       "    </tr>\n",
       "    <tr>\n",
       "      <th>1</th>\n",
       "      <td>1.191857</td>\n",
       "      <td>0.266151</td>\n",
       "      <td>0.166480</td>\n",
       "      <td>0.448154</td>\n",
       "      <td>0.060018</td>\n",
       "      <td>-0.082361</td>\n",
       "      <td>-0.078803</td>\n",
       "      <td>0.085102</td>\n",
       "      <td>-0.255425</td>\n",
       "      <td>-0.166974</td>\n",
       "      <td>...</td>\n",
       "      <td>-0.638672</td>\n",
       "      <td>0.101288</td>\n",
       "      <td>-0.339846</td>\n",
       "      <td>0.167170</td>\n",
       "      <td>0.125895</td>\n",
       "      <td>-0.008983</td>\n",
       "      <td>0.014724</td>\n",
       "      <td>0</td>\n",
       "      <td>-0.342475</td>\n",
       "      <td>-1.996583</td>\n",
       "    </tr>\n",
       "    <tr>\n",
       "      <th>2</th>\n",
       "      <td>-1.358354</td>\n",
       "      <td>-1.340163</td>\n",
       "      <td>1.773209</td>\n",
       "      <td>0.379780</td>\n",
       "      <td>-0.503198</td>\n",
       "      <td>1.800499</td>\n",
       "      <td>0.791461</td>\n",
       "      <td>0.247676</td>\n",
       "      <td>-1.514654</td>\n",
       "      <td>0.207643</td>\n",
       "      <td>...</td>\n",
       "      <td>0.771679</td>\n",
       "      <td>0.909412</td>\n",
       "      <td>-0.689281</td>\n",
       "      <td>-0.327642</td>\n",
       "      <td>-0.139097</td>\n",
       "      <td>-0.055353</td>\n",
       "      <td>-0.059752</td>\n",
       "      <td>0</td>\n",
       "      <td>1.160686</td>\n",
       "      <td>-1.996562</td>\n",
       "    </tr>\n",
       "    <tr>\n",
       "      <th>3</th>\n",
       "      <td>-0.966272</td>\n",
       "      <td>-0.185226</td>\n",
       "      <td>1.792993</td>\n",
       "      <td>-0.863291</td>\n",
       "      <td>-0.010309</td>\n",
       "      <td>1.247203</td>\n",
       "      <td>0.237609</td>\n",
       "      <td>0.377436</td>\n",
       "      <td>-1.387024</td>\n",
       "      <td>-0.054952</td>\n",
       "      <td>...</td>\n",
       "      <td>0.005274</td>\n",
       "      <td>-0.190321</td>\n",
       "      <td>-1.175575</td>\n",
       "      <td>0.647376</td>\n",
       "      <td>-0.221929</td>\n",
       "      <td>0.062723</td>\n",
       "      <td>0.061458</td>\n",
       "      <td>0</td>\n",
       "      <td>0.140534</td>\n",
       "      <td>-1.996562</td>\n",
       "    </tr>\n",
       "    <tr>\n",
       "      <th>4</th>\n",
       "      <td>-1.158233</td>\n",
       "      <td>0.877737</td>\n",
       "      <td>1.548718</td>\n",
       "      <td>0.403034</td>\n",
       "      <td>-0.407193</td>\n",
       "      <td>0.095921</td>\n",
       "      <td>0.592941</td>\n",
       "      <td>-0.270533</td>\n",
       "      <td>0.817739</td>\n",
       "      <td>0.753074</td>\n",
       "      <td>...</td>\n",
       "      <td>0.798278</td>\n",
       "      <td>-0.137458</td>\n",
       "      <td>0.141267</td>\n",
       "      <td>-0.206010</td>\n",
       "      <td>0.502292</td>\n",
       "      <td>0.219422</td>\n",
       "      <td>0.215153</td>\n",
       "      <td>0</td>\n",
       "      <td>-0.073403</td>\n",
       "      <td>-1.996541</td>\n",
       "    </tr>\n",
       "  </tbody>\n",
       "</table>\n",
       "<p>5 rows × 31 columns</p>\n",
       "</div>"
      ],
      "text/plain": [
       "         V1        V2        V3        V4        V5        V6        V7  \\\n",
       "0 -1.359807 -0.072781  2.536347  1.378155 -0.338321  0.462388  0.239599   \n",
       "1  1.191857  0.266151  0.166480  0.448154  0.060018 -0.082361 -0.078803   \n",
       "2 -1.358354 -1.340163  1.773209  0.379780 -0.503198  1.800499  0.791461   \n",
       "3 -0.966272 -0.185226  1.792993 -0.863291 -0.010309  1.247203  0.237609   \n",
       "4 -1.158233  0.877737  1.548718  0.403034 -0.407193  0.095921  0.592941   \n",
       "\n",
       "         V8        V9       V10    ...          V22       V23       V24  \\\n",
       "0  0.098698  0.363787  0.090794    ...     0.277838 -0.110474  0.066928   \n",
       "1  0.085102 -0.255425 -0.166974    ...    -0.638672  0.101288 -0.339846   \n",
       "2  0.247676 -1.514654  0.207643    ...     0.771679  0.909412 -0.689281   \n",
       "3  0.377436 -1.387024 -0.054952    ...     0.005274 -0.190321 -1.175575   \n",
       "4 -0.270533  0.817739  0.753074    ...     0.798278 -0.137458  0.141267   \n",
       "\n",
       "        V25       V26       V27       V28  Class  normAmount  normTime  \n",
       "0  0.128539 -0.189115  0.133558 -0.021053      0    0.244964 -1.996583  \n",
       "1  0.167170  0.125895 -0.008983  0.014724      0   -0.342475 -1.996583  \n",
       "2 -0.327642 -0.139097 -0.055353 -0.059752      0    1.160686 -1.996562  \n",
       "3  0.647376 -0.221929  0.062723  0.061458      0    0.140534 -1.996562  \n",
       "4 -0.206010  0.502292  0.219422  0.215153      0   -0.073403 -1.996541  \n",
       "\n",
       "[5 rows x 31 columns]"
      ]
     },
     "execution_count": 78,
     "metadata": {},
     "output_type": "execute_result"
    }
   ],
   "source": [
    "dfMod.head()"
   ]
  },
  {
   "cell_type": "markdown",
   "metadata": {},
   "source": [
    "Let's look at the fraud and normal transactions separately"
   ]
  },
  {
   "cell_type": "code",
   "execution_count": 79,
   "metadata": {
    "collapsed": true
   },
   "outputs": [],
   "source": [
    "FraudTransaction = dfMod[dfMod['Class'] == 1]\n",
    "NormalTransaction = dfMod[dfMod['Class'] == 0]"
   ]
  },
  {
   "cell_type": "markdown",
   "metadata": {},
   "source": [
    "Interested in seeing if there is there is a correlation between the amount and the fraud transaction"
   ]
  },
  {
   "cell_type": "code",
   "execution_count": 80,
   "metadata": {},
   "outputs": [
    {
     "data": {
      "image/png": "[encoded data removed]",
      "text/plain": [
       "<matplotlib.figure.Figure at 0x7fb42acf4d50>"
      ]
     },
     "metadata": {},
     "output_type": "display_data"
    }
   ],
   "source": [
    "_ = FraudTransaction['normAmount'].plot.hist()"
   ]
  },
  {
   "cell_type": "code",
   "execution_count": 81,
   "metadata": {},
   "outputs": [
    {
     "data": {
      "image/png": "[encoded data removed]",
      "text/plain": [
       "<matplotlib.figure.Figure at 0x7fb42a6cf310>"
      ]
     },
     "metadata": {},
     "output_type": "display_data"
    }
   ],
   "source": [
    "_ = NormalTransaction['normAmount'].plot.hist()"
   ]
  },
  {
   "cell_type": "code",
   "execution_count": 82,
   "metadata": {},
   "outputs": [
    {
     "data": {
      "text/plain": [
       "array([  -0.35322939,   -0.35322939,   -0.35322939, ...,   75.25058053,\n",
       "         78.23527182,  102.36224271])"
      ]
     },
     "execution_count": 82,
     "metadata": {},
     "output_type": "execute_result"
    }
   ],
   "source": [
    "np.sort(NormalTransaction['normAmount'])"
   ]
  },
  {
   "cell_type": "markdown",
   "metadata": {},
   "source": [
    "So, fraud transactions where done for both small and large amount. Next look at the time"
   ]
  },
  {
   "cell_type": "code",
   "execution_count": 83,
   "metadata": {},
   "outputs": [
    {
     "data": {
      "image/png": "[encoded data removed]",
      "text/plain": [
       "<matplotlib.figure.Figure at 0x7fb42ae2dd50>"
      ]
     },
     "metadata": {},
     "output_type": "display_data"
    }
   ],
   "source": [
    "_ = FraudTransaction['normTime'].plot(kind = 'hist')"
   ]
  },
  {
   "cell_type": "code",
   "execution_count": 84,
   "metadata": {},
   "outputs": [
    {
     "data": {
      "image/png": "[encoded data removed]",
      "text/plain": [
       "<matplotlib.figure.Figure at 0x7fb42ae2d7d0>"
      ]
     },
     "metadata": {},
     "output_type": "display_data"
    }
   ],
   "source": [
    "_ = NormalTransaction['normTime'].plot.hist()"
   ]
  },
  {
   "cell_type": "markdown",
   "metadata": {},
   "source": [
    "Again, the same kind of distribution for fraud vs. normal"
   ]
  },
  {
   "cell_type": "code",
   "execution_count": 85,
   "metadata": {},
   "outputs": [
    {
     "data": {
      "image/png": "[encoded data removed]",
      "text/plain": [
       "<matplotlib.figure.Figure at 0x7fb42a98aad0>"
      ]
     },
     "metadata": {},
     "output_type": "display_data"
    }
   ],
   "source": [
    "_ = FraudTransaction['V23'].plot.hist()"
   ]
  },
  {
   "cell_type": "code",
   "execution_count": 86,
   "metadata": {},
   "outputs": [
    {
     "data": {
      "image/png": "[encoded data removed]",
      "text/plain": [
       "<matplotlib.figure.Figure at 0x7fb437bde790>"
      ]
     },
     "metadata": {},
     "output_type": "display_data"
    }
   ],
   "source": [
    "_ = NormalTransaction['V23'].plot.hist()"
   ]
  },
  {
   "cell_type": "code",
   "execution_count": 87,
   "metadata": {},
   "outputs": [
    {
     "data": {
      "text/plain": [
       "array([-44.8077352 , -36.66600007, -32.828995  , ...,  20.8033441 ,\n",
       "        22.08354487,  22.52841169])"
      ]
     },
     "execution_count": 87,
     "metadata": {},
     "output_type": "execute_result"
    }
   ],
   "source": [
    "np.sort(NormalTransaction['V23'])"
   ]
  },
  {
   "cell_type": "code",
   "execution_count": 88,
   "metadata": {},
   "outputs": [
    {
     "data": {
      "image/png": "[encoded data removed]",
      "text/plain": [
       "<matplotlib.figure.Figure at 0x7fb42e1f5b10>"
      ]
     },
     "metadata": {},
     "output_type": "display_data"
    }
   ],
   "source": [
    "_ = sns.distplot(dfMod['V22'][dfMod['Class'] == 0])\n",
    "_ = sns.distplot(dfMod['V22'][dfMod['Class'] == 1])"
   ]
  },
  {
   "cell_type": "code",
   "execution_count": 89,
   "metadata": {},
   "outputs": [
    {
     "data": {
      "image/png": "[encoded data removed]",
      "text/plain": [
       "<matplotlib.figure.Figure at 0x7fb42a5a8e10>"
      ]
     },
     "metadata": {},
     "output_type": "display_data"
    }
   ],
   "source": [
    "_ = sns.distplot(dfMod['normAmount'][dfMod['Class'] == 0])\n",
    "_ = sns.distplot(dfMod['normAmount'][dfMod['Class'] == 1])"
   ]
  },
  {
   "cell_type": "code",
   "execution_count": 90,
   "metadata": {},
   "outputs": [
    {
     "data": {
      "image/png": "[encoded data removed]",
      "text/plain": [
       "<matplotlib.figure.Figure at 0x7fb42d70f810>"
      ]
     },
     "metadata": {},
     "output_type": "display_data"
    }
   ],
   "source": [
    "_ = sns.distplot(dfMod['V20'][dfMod['Class'] == 0])\n",
    "_ = sns.distplot(dfMod['V20'][dfMod['Class'] == 1])"
   ]
  },
  {
   "cell_type": "code",
   "execution_count": 91,
   "metadata": {},
   "outputs": [
    {
     "data": {
      "image/png": "[encoded data removed]",
      "text/plain": [
       "<matplotlib.figure.Figure at 0x7fb42a90d6d0>"
      ]
     },
     "metadata": {},
     "output_type": "display_data"
    }
   ],
   "source": [
    "_ = sns.distplot(dfMod['V5'][dfMod['Class'] == 0])\n",
    "_ = sns.distplot(dfMod['V5'][dfMod['Class'] == 1])"
   ]
  },
  {
   "cell_type": "markdown",
   "metadata": {},
   "source": [
    "Looking at the distribution of few randomly selected features for the normal and the fraud cases, we can convince ourselves that in the fraud cases, features seem to take extreme values. "
   ]
  },
  {
   "cell_type": "markdown",
   "metadata": {},
   "source": [
    "Time column is just the chronological difference between the first transaction and the next. Can't see how it can affect the Fraud analysis.  Drop it. "
   ]
  },
  {
   "cell_type": "code",
   "execution_count": 92,
   "metadata": {},
   "outputs": [
    {
     "data": {
      "text/plain": [
       "Index([u'V1', u'V2', u'V3', u'V4', u'V5', u'V6', u'V7', u'V8', u'V9', u'V10',\n",
       "       u'V11', u'V12', u'V13', u'V14', u'V15', u'V16', u'V17', u'V18', u'V19',\n",
       "       u'V20', u'V21', u'V22', u'V23', u'V24', u'V25', u'V26', u'V27', u'V28',\n",
       "       u'Class', u'normAmount', u'normTime'],\n",
       "      dtype='object')"
      ]
     },
     "execution_count": 92,
     "metadata": {},
     "output_type": "execute_result"
    }
   ],
   "source": [
    "dfMod.columns"
   ]
  },
  {
   "cell_type": "code",
   "execution_count": 93,
   "metadata": {
    "collapsed": true
   },
   "outputs": [],
   "source": [
    "dfMod = dfMod.drop('normTime', axis = 1)"
   ]
  },
  {
   "cell_type": "code",
   "execution_count": 94,
   "metadata": {},
   "outputs": [
    {
     "data": {
      "text/plain": [
       "Index([u'V1', u'V2', u'V3', u'V4', u'V5', u'V6', u'V7', u'V8', u'V9', u'V10',\n",
       "       u'V11', u'V12', u'V13', u'V14', u'V15', u'V16', u'V17', u'V18', u'V19',\n",
       "       u'V20', u'V21', u'V22', u'V23', u'V24', u'V25', u'V26', u'V27', u'V28',\n",
       "       u'Class', u'normAmount'],\n",
       "      dtype='object')"
      ]
     },
     "execution_count": 94,
     "metadata": {},
     "output_type": "execute_result"
    }
   ],
   "source": [
    "dfMod.columns"
   ]
  },
  {
   "cell_type": "markdown",
   "metadata": {},
   "source": [
    "Now, let's seprate the class column from all other features. "
   ]
  },
  {
   "cell_type": "code",
   "execution_count": 95,
   "metadata": {
    "collapsed": true
   },
   "outputs": [],
   "source": [
    "X = dfMod.loc[:, dfMod.columns != 'Class']\n",
    "y = dfMod.loc[:, dfMod.columns == 'Class']"
   ]
  },
  {
   "cell_type": "code",
   "execution_count": 96,
   "metadata": {},
   "outputs": [
    {
     "data": {
      "text/plain": [
       "Index([u'V1', u'V2', u'V3', u'V4', u'V5', u'V6', u'V7', u'V8', u'V9', u'V10',\n",
       "       u'V11', u'V12', u'V13', u'V14', u'V15', u'V16', u'V17', u'V18', u'V19',\n",
       "       u'V20', u'V21', u'V22', u'V23', u'V24', u'V25', u'V26', u'V27', u'V28',\n",
       "       u'normAmount'],\n",
       "      dtype='object')"
      ]
     },
     "execution_count": 96,
     "metadata": {},
     "output_type": "execute_result"
    }
   ],
   "source": [
    "X.columns"
   ]
  },
  {
   "cell_type": "code",
   "execution_count": 97,
   "metadata": {},
   "outputs": [
    {
     "data": {
      "text/html": [
       "<div>\n",
       "<style>\n",
       "    .dataframe thead tr:only-child th {\n",
       "        text-align: right;\n",
       "    }\n",
       "\n",
       "    .dataframe thead th {\n",
       "        text-align: left;\n",
       "    }\n",
       "\n",
       "    .dataframe tbody tr th {\n",
       "        vertical-align: top;\n",
       "    }\n",
       "</style>\n",
       "<table border=\"1\" class=\"dataframe\">\n",
       "  <thead>\n",
       "    <tr style=\"text-align: right;\">\n",
       "      <th></th>\n",
       "      <th>Class</th>\n",
       "    </tr>\n",
       "  </thead>\n",
       "  <tbody>\n",
       "    <tr>\n",
       "      <th>0</th>\n",
       "      <td>0</td>\n",
       "    </tr>\n",
       "    <tr>\n",
       "      <th>1</th>\n",
       "      <td>0</td>\n",
       "    </tr>\n",
       "    <tr>\n",
       "      <th>2</th>\n",
       "      <td>0</td>\n",
       "    </tr>\n",
       "    <tr>\n",
       "      <th>3</th>\n",
       "      <td>0</td>\n",
       "    </tr>\n",
       "    <tr>\n",
       "      <th>4</th>\n",
       "      <td>0</td>\n",
       "    </tr>\n",
       "  </tbody>\n",
       "</table>\n",
       "</div>"
      ],
      "text/plain": [
       "   Class\n",
       "0      0\n",
       "1      0\n",
       "2      0\n",
       "3      0\n",
       "4      0"
      ]
     },
     "execution_count": 97,
     "metadata": {},
     "output_type": "execute_result"
    }
   ],
   "source": [
    "y.head()"
   ]
  },
  {
   "cell_type": "code",
   "execution_count": 98,
   "metadata": {},
   "outputs": [
    {
     "data": {
      "text/plain": [
       "(492, 31)"
      ]
     },
     "execution_count": 98,
     "metadata": {},
     "output_type": "execute_result"
    }
   ],
   "source": [
    "FraudTransaction.shape"
   ]
  },
  {
   "cell_type": "code",
   "execution_count": 99,
   "metadata": {},
   "outputs": [
    {
     "data": {
      "text/plain": [
       "(284315, 31)"
      ]
     },
     "execution_count": 99,
     "metadata": {},
     "output_type": "execute_result"
    }
   ],
   "source": [
    "NormalTransaction.shape"
   ]
  },
  {
   "cell_type": "code",
   "execution_count": 100,
   "metadata": {},
   "outputs": [
    {
     "data": {
      "text/plain": [
       "(284807, 29)"
      ]
     },
     "execution_count": 100,
     "metadata": {},
     "output_type": "execute_result"
    }
   ],
   "source": [
    "X.shape"
   ]
  },
  {
   "cell_type": "code",
   "execution_count": 101,
   "metadata": {
    "collapsed": true
   },
   "outputs": [],
   "source": [
    "numberFraud = FraudTransaction.shape[0]"
   ]
  },
  {
   "cell_type": "code",
   "execution_count": 102,
   "metadata": {
    "collapsed": true
   },
   "outputs": [],
   "source": [
    "FraudTransactionModX = FraudTransaction.drop(['normTime', 'Class'], axis = 1)"
   ]
  },
  {
   "cell_type": "code",
   "execution_count": 103,
   "metadata": {},
   "outputs": [
    {
     "data": {
      "text/plain": [
       "(492, 29)"
      ]
     },
     "execution_count": 103,
     "metadata": {},
     "output_type": "execute_result"
    }
   ],
   "source": [
    "FraudTransactionModX.shape"
   ]
  },
  {
   "cell_type": "code",
   "execution_count": 104,
   "metadata": {
    "collapsed": true
   },
   "outputs": [],
   "source": [
    "NormalTransactionModX = NormalTransaction.drop(['normTime', 'Class'], axis = 1)"
   ]
  },
  {
   "cell_type": "code",
   "execution_count": 105,
   "metadata": {},
   "outputs": [
    {
     "data": {
      "text/plain": [
       "(284315, 29)"
      ]
     },
     "execution_count": 105,
     "metadata": {},
     "output_type": "execute_result"
    }
   ],
   "source": [
    "NormalTransactionModX.shape"
   ]
  },
  {
   "cell_type": "code",
   "execution_count": 106,
   "metadata": {
    "collapsed": true
   },
   "outputs": [],
   "source": [
    "NormalTransactionModY = NormalTransaction['Class']"
   ]
  },
  {
   "cell_type": "code",
   "execution_count": 107,
   "metadata": {},
   "outputs": [
    {
     "data": {
      "text/plain": [
       "0    0\n",
       "1    0\n",
       "2    0\n",
       "3    0\n",
       "4    0\n",
       "Name: Class, dtype: int64"
      ]
     },
     "execution_count": 107,
     "metadata": {},
     "output_type": "execute_result"
    }
   ],
   "source": [
    "NormalTransactionModY.head()"
   ]
  },
  {
   "cell_type": "code",
   "execution_count": 108,
   "metadata": {
    "collapsed": true
   },
   "outputs": [],
   "source": [
    "FraudTransactionModY = FraudTransaction['Class']"
   ]
  },
  {
   "cell_type": "code",
   "execution_count": 109,
   "metadata": {},
   "outputs": [
    {
     "data": {
      "text/html": [
       "<div>\n",
       "<style>\n",
       "    .dataframe thead tr:only-child th {\n",
       "        text-align: right;\n",
       "    }\n",
       "\n",
       "    .dataframe thead th {\n",
       "        text-align: left;\n",
       "    }\n",
       "\n",
       "    .dataframe tbody tr th {\n",
       "        vertical-align: top;\n",
       "    }\n",
       "</style>\n",
       "<table border=\"1\" class=\"dataframe\">\n",
       "  <thead>\n",
       "    <tr style=\"text-align: right;\">\n",
       "      <th></th>\n",
       "      <th>V1</th>\n",
       "      <th>V2</th>\n",
       "      <th>V3</th>\n",
       "      <th>V4</th>\n",
       "      <th>V5</th>\n",
       "      <th>V6</th>\n",
       "      <th>V7</th>\n",
       "      <th>V8</th>\n",
       "      <th>V9</th>\n",
       "      <th>V10</th>\n",
       "      <th>...</th>\n",
       "      <th>V21</th>\n",
       "      <th>V22</th>\n",
       "      <th>V23</th>\n",
       "      <th>V24</th>\n",
       "      <th>V25</th>\n",
       "      <th>V26</th>\n",
       "      <th>V27</th>\n",
       "      <th>V28</th>\n",
       "      <th>Class</th>\n",
       "      <th>normAmount</th>\n",
       "    </tr>\n",
       "  </thead>\n",
       "  <tbody>\n",
       "    <tr>\n",
       "      <th>0</th>\n",
       "      <td>-1.359807</td>\n",
       "      <td>-0.072781</td>\n",
       "      <td>2.536347</td>\n",
       "      <td>1.378155</td>\n",
       "      <td>-0.338321</td>\n",
       "      <td>0.462388</td>\n",
       "      <td>0.239599</td>\n",
       "      <td>0.098698</td>\n",
       "      <td>0.363787</td>\n",
       "      <td>0.090794</td>\n",
       "      <td>...</td>\n",
       "      <td>-0.018307</td>\n",
       "      <td>0.277838</td>\n",
       "      <td>-0.110474</td>\n",
       "      <td>0.066928</td>\n",
       "      <td>0.128539</td>\n",
       "      <td>-0.189115</td>\n",
       "      <td>0.133558</td>\n",
       "      <td>-0.021053</td>\n",
       "      <td>0</td>\n",
       "      <td>0.244964</td>\n",
       "    </tr>\n",
       "    <tr>\n",
       "      <th>1</th>\n",
       "      <td>1.191857</td>\n",
       "      <td>0.266151</td>\n",
       "      <td>0.166480</td>\n",
       "      <td>0.448154</td>\n",
       "      <td>0.060018</td>\n",
       "      <td>-0.082361</td>\n",
       "      <td>-0.078803</td>\n",
       "      <td>0.085102</td>\n",
       "      <td>-0.255425</td>\n",
       "      <td>-0.166974</td>\n",
       "      <td>...</td>\n",
       "      <td>-0.225775</td>\n",
       "      <td>-0.638672</td>\n",
       "      <td>0.101288</td>\n",
       "      <td>-0.339846</td>\n",
       "      <td>0.167170</td>\n",
       "      <td>0.125895</td>\n",
       "      <td>-0.008983</td>\n",
       "      <td>0.014724</td>\n",
       "      <td>0</td>\n",
       "      <td>-0.342475</td>\n",
       "    </tr>\n",
       "    <tr>\n",
       "      <th>2</th>\n",
       "      <td>-1.358354</td>\n",
       "      <td>-1.340163</td>\n",
       "      <td>1.773209</td>\n",
       "      <td>0.379780</td>\n",
       "      <td>-0.503198</td>\n",
       "      <td>1.800499</td>\n",
       "      <td>0.791461</td>\n",
       "      <td>0.247676</td>\n",
       "      <td>-1.514654</td>\n",
       "      <td>0.207643</td>\n",
       "      <td>...</td>\n",
       "      <td>0.247998</td>\n",
       "      <td>0.771679</td>\n",
       "      <td>0.909412</td>\n",
       "      <td>-0.689281</td>\n",
       "      <td>-0.327642</td>\n",
       "      <td>-0.139097</td>\n",
       "      <td>-0.055353</td>\n",
       "      <td>-0.059752</td>\n",
       "      <td>0</td>\n",
       "      <td>1.160686</td>\n",
       "    </tr>\n",
       "    <tr>\n",
       "      <th>3</th>\n",
       "      <td>-0.966272</td>\n",
       "      <td>-0.185226</td>\n",
       "      <td>1.792993</td>\n",
       "      <td>-0.863291</td>\n",
       "      <td>-0.010309</td>\n",
       "      <td>1.247203</td>\n",
       "      <td>0.237609</td>\n",
       "      <td>0.377436</td>\n",
       "      <td>-1.387024</td>\n",
       "      <td>-0.054952</td>\n",
       "      <td>...</td>\n",
       "      <td>-0.108300</td>\n",
       "      <td>0.005274</td>\n",
       "      <td>-0.190321</td>\n",
       "      <td>-1.175575</td>\n",
       "      <td>0.647376</td>\n",
       "      <td>-0.221929</td>\n",
       "      <td>0.062723</td>\n",
       "      <td>0.061458</td>\n",
       "      <td>0</td>\n",
       "      <td>0.140534</td>\n",
       "    </tr>\n",
       "    <tr>\n",
       "      <th>4</th>\n",
       "      <td>-1.158233</td>\n",
       "      <td>0.877737</td>\n",
       "      <td>1.548718</td>\n",
       "      <td>0.403034</td>\n",
       "      <td>-0.407193</td>\n",
       "      <td>0.095921</td>\n",
       "      <td>0.592941</td>\n",
       "      <td>-0.270533</td>\n",
       "      <td>0.817739</td>\n",
       "      <td>0.753074</td>\n",
       "      <td>...</td>\n",
       "      <td>-0.009431</td>\n",
       "      <td>0.798278</td>\n",
       "      <td>-0.137458</td>\n",
       "      <td>0.141267</td>\n",
       "      <td>-0.206010</td>\n",
       "      <td>0.502292</td>\n",
       "      <td>0.219422</td>\n",
       "      <td>0.215153</td>\n",
       "      <td>0</td>\n",
       "      <td>-0.073403</td>\n",
       "    </tr>\n",
       "  </tbody>\n",
       "</table>\n",
       "<p>5 rows × 30 columns</p>\n",
       "</div>"
      ],
      "text/plain": [
       "         V1        V2        V3        V4        V5        V6        V7  \\\n",
       "0 -1.359807 -0.072781  2.536347  1.378155 -0.338321  0.462388  0.239599   \n",
       "1  1.191857  0.266151  0.166480  0.448154  0.060018 -0.082361 -0.078803   \n",
       "2 -1.358354 -1.340163  1.773209  0.379780 -0.503198  1.800499  0.791461   \n",
       "3 -0.966272 -0.185226  1.792993 -0.863291 -0.010309  1.247203  0.237609   \n",
       "4 -1.158233  0.877737  1.548718  0.403034 -0.407193  0.095921  0.592941   \n",
       "\n",
       "         V8        V9       V10     ...           V21       V22       V23  \\\n",
       "0  0.098698  0.363787  0.090794     ...     -0.018307  0.277838 -0.110474   \n",
       "1  0.085102 -0.255425 -0.166974     ...     -0.225775 -0.638672  0.101288   \n",
       "2  0.247676 -1.514654  0.207643     ...      0.247998  0.771679  0.909412   \n",
       "3  0.377436 -1.387024 -0.054952     ...     -0.108300  0.005274 -0.190321   \n",
       "4 -0.270533  0.817739  0.753074     ...     -0.009431  0.798278 -0.137458   \n",
       "\n",
       "        V24       V25       V26       V27       V28  Class  normAmount  \n",
       "0  0.066928  0.128539 -0.189115  0.133558 -0.021053      0    0.244964  \n",
       "1 -0.339846  0.167170  0.125895 -0.008983  0.014724      0   -0.342475  \n",
       "2 -0.689281 -0.327642 -0.139097 -0.055353 -0.059752      0    1.160686  \n",
       "3 -1.175575  0.647376 -0.221929  0.062723  0.061458      0    0.140534  \n",
       "4  0.141267 -0.206010  0.502292  0.219422  0.215153      0   -0.073403  \n",
       "\n",
       "[5 rows x 30 columns]"
      ]
     },
     "execution_count": 109,
     "metadata": {},
     "output_type": "execute_result"
    }
   ],
   "source": [
    "dfMod.head()"
   ]
  },
  {
   "cell_type": "code",
   "execution_count": 110,
   "metadata": {},
   "outputs": [
    {
     "data": {
      "text/html": [
       "<div>\n",
       "<style>\n",
       "    .dataframe thead tr:only-child th {\n",
       "        text-align: right;\n",
       "    }\n",
       "\n",
       "    .dataframe thead th {\n",
       "        text-align: left;\n",
       "    }\n",
       "\n",
       "    .dataframe tbody tr th {\n",
       "        vertical-align: top;\n",
       "    }\n",
       "</style>\n",
       "<table border=\"1\" class=\"dataframe\">\n",
       "  <thead>\n",
       "    <tr style=\"text-align: right;\">\n",
       "      <th></th>\n",
       "      <th>V1</th>\n",
       "      <th>V2</th>\n",
       "      <th>V3</th>\n",
       "      <th>V4</th>\n",
       "      <th>V5</th>\n",
       "      <th>V6</th>\n",
       "      <th>V7</th>\n",
       "      <th>V8</th>\n",
       "      <th>V9</th>\n",
       "      <th>V10</th>\n",
       "      <th>...</th>\n",
       "      <th>V20</th>\n",
       "      <th>V21</th>\n",
       "      <th>V22</th>\n",
       "      <th>V23</th>\n",
       "      <th>V24</th>\n",
       "      <th>V25</th>\n",
       "      <th>V26</th>\n",
       "      <th>V27</th>\n",
       "      <th>V28</th>\n",
       "      <th>normAmount</th>\n",
       "    </tr>\n",
       "  </thead>\n",
       "  <tbody>\n",
       "    <tr>\n",
       "      <th>541</th>\n",
       "      <td>-2.312227</td>\n",
       "      <td>1.951992</td>\n",
       "      <td>-1.609851</td>\n",
       "      <td>3.997906</td>\n",
       "      <td>-0.522188</td>\n",
       "      <td>-1.426545</td>\n",
       "      <td>-2.537387</td>\n",
       "      <td>1.391657</td>\n",
       "      <td>-2.770089</td>\n",
       "      <td>-2.772272</td>\n",
       "      <td>...</td>\n",
       "      <td>0.126911</td>\n",
       "      <td>0.517232</td>\n",
       "      <td>-0.035049</td>\n",
       "      <td>-0.465211</td>\n",
       "      <td>0.320198</td>\n",
       "      <td>0.044519</td>\n",
       "      <td>0.177840</td>\n",
       "      <td>0.261145</td>\n",
       "      <td>-0.143276</td>\n",
       "      <td>-0.353229</td>\n",
       "    </tr>\n",
       "    <tr>\n",
       "      <th>623</th>\n",
       "      <td>-3.043541</td>\n",
       "      <td>-3.157307</td>\n",
       "      <td>1.088463</td>\n",
       "      <td>2.288644</td>\n",
       "      <td>1.359805</td>\n",
       "      <td>-1.064823</td>\n",
       "      <td>0.325574</td>\n",
       "      <td>-0.067794</td>\n",
       "      <td>-0.270953</td>\n",
       "      <td>-0.838587</td>\n",
       "      <td>...</td>\n",
       "      <td>2.102339</td>\n",
       "      <td>0.661696</td>\n",
       "      <td>0.435477</td>\n",
       "      <td>1.375966</td>\n",
       "      <td>-0.293803</td>\n",
       "      <td>0.279798</td>\n",
       "      <td>-0.145362</td>\n",
       "      <td>-0.252773</td>\n",
       "      <td>0.035764</td>\n",
       "      <td>1.761758</td>\n",
       "    </tr>\n",
       "    <tr>\n",
       "      <th>4920</th>\n",
       "      <td>-2.303350</td>\n",
       "      <td>1.759247</td>\n",
       "      <td>-0.359745</td>\n",
       "      <td>2.330243</td>\n",
       "      <td>-0.821628</td>\n",
       "      <td>-0.075788</td>\n",
       "      <td>0.562320</td>\n",
       "      <td>-0.399147</td>\n",
       "      <td>-0.238253</td>\n",
       "      <td>-1.525412</td>\n",
       "      <td>...</td>\n",
       "      <td>-0.430022</td>\n",
       "      <td>-0.294166</td>\n",
       "      <td>-0.932391</td>\n",
       "      <td>0.172726</td>\n",
       "      <td>-0.087330</td>\n",
       "      <td>-0.156114</td>\n",
       "      <td>-0.542628</td>\n",
       "      <td>0.039566</td>\n",
       "      <td>-0.153029</td>\n",
       "      <td>0.606031</td>\n",
       "    </tr>\n",
       "    <tr>\n",
       "      <th>6108</th>\n",
       "      <td>-4.397974</td>\n",
       "      <td>1.358367</td>\n",
       "      <td>-2.592844</td>\n",
       "      <td>2.679787</td>\n",
       "      <td>-1.128131</td>\n",
       "      <td>-1.706536</td>\n",
       "      <td>-3.496197</td>\n",
       "      <td>-0.248778</td>\n",
       "      <td>-0.247768</td>\n",
       "      <td>-4.801637</td>\n",
       "      <td>...</td>\n",
       "      <td>-0.171608</td>\n",
       "      <td>0.573574</td>\n",
       "      <td>0.176968</td>\n",
       "      <td>-0.436207</td>\n",
       "      <td>-0.053502</td>\n",
       "      <td>0.252405</td>\n",
       "      <td>-0.657488</td>\n",
       "      <td>-0.827136</td>\n",
       "      <td>0.849573</td>\n",
       "      <td>-0.117342</td>\n",
       "    </tr>\n",
       "    <tr>\n",
       "      <th>6329</th>\n",
       "      <td>1.234235</td>\n",
       "      <td>3.019740</td>\n",
       "      <td>-4.304597</td>\n",
       "      <td>4.732795</td>\n",
       "      <td>3.624201</td>\n",
       "      <td>-1.357746</td>\n",
       "      <td>1.713445</td>\n",
       "      <td>-0.496358</td>\n",
       "      <td>-1.282858</td>\n",
       "      <td>-2.447469</td>\n",
       "      <td>...</td>\n",
       "      <td>0.009061</td>\n",
       "      <td>-0.379068</td>\n",
       "      <td>-0.704181</td>\n",
       "      <td>-0.656805</td>\n",
       "      <td>-1.632653</td>\n",
       "      <td>1.488901</td>\n",
       "      <td>0.566797</td>\n",
       "      <td>-0.010016</td>\n",
       "      <td>0.146793</td>\n",
       "      <td>-0.349231</td>\n",
       "    </tr>\n",
       "  </tbody>\n",
       "</table>\n",
       "<p>5 rows × 29 columns</p>\n",
       "</div>"
      ],
      "text/plain": [
       "            V1        V2        V3        V4        V5        V6        V7  \\\n",
       "541  -2.312227  1.951992 -1.609851  3.997906 -0.522188 -1.426545 -2.537387   \n",
       "623  -3.043541 -3.157307  1.088463  2.288644  1.359805 -1.064823  0.325574   \n",
       "4920 -2.303350  1.759247 -0.359745  2.330243 -0.821628 -0.075788  0.562320   \n",
       "6108 -4.397974  1.358367 -2.592844  2.679787 -1.128131 -1.706536 -3.496197   \n",
       "6329  1.234235  3.019740 -4.304597  4.732795  3.624201 -1.357746  1.713445   \n",
       "\n",
       "            V8        V9       V10     ...           V20       V21       V22  \\\n",
       "541   1.391657 -2.770089 -2.772272     ...      0.126911  0.517232 -0.035049   \n",
       "623  -0.067794 -0.270953 -0.838587     ...      2.102339  0.661696  0.435477   \n",
       "4920 -0.399147 -0.238253 -1.525412     ...     -0.430022 -0.294166 -0.932391   \n",
       "6108 -0.248778 -0.247768 -4.801637     ...     -0.171608  0.573574  0.176968   \n",
       "6329 -0.496358 -1.282858 -2.447469     ...      0.009061 -0.379068 -0.704181   \n",
       "\n",
       "           V23       V24       V25       V26       V27       V28  normAmount  \n",
       "541  -0.465211  0.320198  0.044519  0.177840  0.261145 -0.143276   -0.353229  \n",
       "623   1.375966 -0.293803  0.279798 -0.145362 -0.252773  0.035764    1.761758  \n",
       "4920  0.172726 -0.087330 -0.156114 -0.542628  0.039566 -0.153029    0.606031  \n",
       "6108 -0.436207 -0.053502  0.252405 -0.657488 -0.827136  0.849573   -0.117342  \n",
       "6329 -0.656805 -1.632653  1.488901  0.566797 -0.010016  0.146793   -0.349231  \n",
       "\n",
       "[5 rows x 29 columns]"
      ]
     },
     "execution_count": 110,
     "metadata": {},
     "output_type": "execute_result"
    }
   ],
   "source": [
    "FraudTransactionModX.head()"
   ]
  },
  {
   "cell_type": "code",
   "execution_count": 111,
   "metadata": {},
   "outputs": [
    {
     "data": {
      "text/plain": [
       "V2    1.951992\n",
       "V3   -1.609851\n",
       "V4    3.997906\n",
       "Name: 541, dtype: float64"
      ]
     },
     "execution_count": 111,
     "metadata": {},
     "output_type": "execute_result"
    }
   ],
   "source": [
    "dfMod.iloc[541,1:4]"
   ]
  },
  {
   "cell_type": "code",
   "execution_count": 112,
   "metadata": {},
   "outputs": [
    {
     "data": {
      "text/html": [
       "<div>\n",
       "<style>\n",
       "    .dataframe thead tr:only-child th {\n",
       "        text-align: right;\n",
       "    }\n",
       "\n",
       "    .dataframe thead th {\n",
       "        text-align: left;\n",
       "    }\n",
       "\n",
       "    .dataframe tbody tr th {\n",
       "        vertical-align: top;\n",
       "    }\n",
       "</style>\n",
       "<table border=\"1\" class=\"dataframe\">\n",
       "  <thead>\n",
       "    <tr style=\"text-align: right;\">\n",
       "      <th></th>\n",
       "      <th>V1</th>\n",
       "      <th>V2</th>\n",
       "      <th>V3</th>\n",
       "      <th>V4</th>\n",
       "      <th>V5</th>\n",
       "      <th>V6</th>\n",
       "      <th>V7</th>\n",
       "      <th>V8</th>\n",
       "      <th>V9</th>\n",
       "      <th>V10</th>\n",
       "      <th>...</th>\n",
       "      <th>V20</th>\n",
       "      <th>V21</th>\n",
       "      <th>V22</th>\n",
       "      <th>V23</th>\n",
       "      <th>V24</th>\n",
       "      <th>V25</th>\n",
       "      <th>V26</th>\n",
       "      <th>V27</th>\n",
       "      <th>V28</th>\n",
       "      <th>normAmount</th>\n",
       "    </tr>\n",
       "  </thead>\n",
       "  <tbody>\n",
       "    <tr>\n",
       "      <th>42945</th>\n",
       "      <td>-13.68076</td>\n",
       "      <td>6.990389</td>\n",
       "      <td>-13.770001</td>\n",
       "      <td>8.694897</td>\n",
       "      <td>-11.426968</td>\n",
       "      <td>-2.919845</td>\n",
       "      <td>-14.594562</td>\n",
       "      <td>8.622905</td>\n",
       "      <td>-8.090697</td>\n",
       "      <td>-12.780634</td>\n",
       "      <td>...</td>\n",
       "      <td>-0.877392</td>\n",
       "      <td>2.989553</td>\n",
       "      <td>0.497599</td>\n",
       "      <td>-0.509290</td>\n",
       "      <td>0.732503</td>\n",
       "      <td>0.280528</td>\n",
       "      <td>0.280037</td>\n",
       "      <td>-1.406687</td>\n",
       "      <td>-0.663643</td>\n",
       "      <td>-0.350191</td>\n",
       "    </tr>\n",
       "    <tr>\n",
       "      <th>150654</th>\n",
       "      <td>-3.76568</td>\n",
       "      <td>5.890735</td>\n",
       "      <td>-10.202268</td>\n",
       "      <td>10.259036</td>\n",
       "      <td>-5.611448</td>\n",
       "      <td>-3.235376</td>\n",
       "      <td>-10.632683</td>\n",
       "      <td>3.272716</td>\n",
       "      <td>-5.268905</td>\n",
       "      <td>-11.182125</td>\n",
       "      <td>...</td>\n",
       "      <td>1.194137</td>\n",
       "      <td>2.245606</td>\n",
       "      <td>0.546321</td>\n",
       "      <td>0.381853</td>\n",
       "      <td>0.382025</td>\n",
       "      <td>-0.821036</td>\n",
       "      <td>0.394355</td>\n",
       "      <td>1.412961</td>\n",
       "      <td>0.782407</td>\n",
       "      <td>-0.353189</td>\n",
       "    </tr>\n",
       "  </tbody>\n",
       "</table>\n",
       "<p>2 rows × 29 columns</p>\n",
       "</div>"
      ],
      "text/plain": [
       "              V1        V2         V3         V4         V5        V6  \\\n",
       "42945  -13.68076  6.990389 -13.770001   8.694897 -11.426968 -2.919845   \n",
       "150654  -3.76568  5.890735 -10.202268  10.259036  -5.611448 -3.235376   \n",
       "\n",
       "               V7        V8        V9        V10     ...           V20  \\\n",
       "42945  -14.594562  8.622905 -8.090697 -12.780634     ...     -0.877392   \n",
       "150654 -10.632683  3.272716 -5.268905 -11.182125     ...      1.194137   \n",
       "\n",
       "             V21       V22       V23       V24       V25       V26       V27  \\\n",
       "42945   2.989553  0.497599 -0.509290  0.732503  0.280528  0.280037 -1.406687   \n",
       "150654  2.245606  0.546321  0.381853  0.382025 -0.821036  0.394355  1.412961   \n",
       "\n",
       "             V28  normAmount  \n",
       "42945  -0.663643   -0.350191  \n",
       "150654  0.782407   -0.353189  \n",
       "\n",
       "[2 rows x 29 columns]"
      ]
     },
     "execution_count": 112,
     "metadata": {},
     "output_type": "execute_result"
    }
   ],
   "source": [
    "FraudTransactionModX.sample(n= 2)"
   ]
  },
  {
   "cell_type": "code",
   "execution_count": 113,
   "metadata": {},
   "outputs": [
    {
     "data": {
      "text/plain": [
       "V2    12.785971\n",
       "V3    -9.906650\n",
       "V4     3.320337\n",
       "Name: 102445, dtype: float64"
      ]
     },
     "execution_count": 113,
     "metadata": {},
     "output_type": "execute_result"
    }
   ],
   "source": [
    "dfMod.iloc[102445,1:4]"
   ]
  },
  {
   "cell_type": "markdown",
   "metadata": {},
   "source": [
    "Sample works as expected"
   ]
  },
  {
   "cell_type": "markdown",
   "metadata": {},
   "source": [
    "We will now jump into undersampling. Specifically, we will choose at random numberFraud examples from the Normal transaction data set. Ideally, we should do this random selection multiple times and take an average of results. But will leave it for later. There is no reason to believe that things will change drastically depending on the random choice. "
   ]
  },
  {
   "cell_type": "code",
   "execution_count": 114,
   "metadata": {
    "collapsed": true
   },
   "outputs": [],
   "source": [
    "underSampleNormalX = NormalTransactionModX.sample(n = numberFraud)"
   ]
  },
  {
   "cell_type": "code",
   "execution_count": 115,
   "metadata": {},
   "outputs": [
    {
     "data": {
      "text/html": [
       "<div>\n",
       "<style>\n",
       "    .dataframe thead tr:only-child th {\n",
       "        text-align: right;\n",
       "    }\n",
       "\n",
       "    .dataframe thead th {\n",
       "        text-align: left;\n",
       "    }\n",
       "\n",
       "    .dataframe tbody tr th {\n",
       "        vertical-align: top;\n",
       "    }\n",
       "</style>\n",
       "<table border=\"1\" class=\"dataframe\">\n",
       "  <thead>\n",
       "    <tr style=\"text-align: right;\">\n",
       "      <th></th>\n",
       "      <th>V1</th>\n",
       "      <th>V2</th>\n",
       "      <th>V3</th>\n",
       "      <th>V4</th>\n",
       "      <th>V5</th>\n",
       "      <th>V6</th>\n",
       "      <th>V7</th>\n",
       "      <th>V8</th>\n",
       "      <th>V9</th>\n",
       "      <th>V10</th>\n",
       "      <th>...</th>\n",
       "      <th>V20</th>\n",
       "      <th>V21</th>\n",
       "      <th>V22</th>\n",
       "      <th>V23</th>\n",
       "      <th>V24</th>\n",
       "      <th>V25</th>\n",
       "      <th>V26</th>\n",
       "      <th>V27</th>\n",
       "      <th>V28</th>\n",
       "      <th>normAmount</th>\n",
       "    </tr>\n",
       "  </thead>\n",
       "  <tbody>\n",
       "    <tr>\n",
       "      <th>236937</th>\n",
       "      <td>1.979227</td>\n",
       "      <td>-0.519687</td>\n",
       "      <td>-0.603594</td>\n",
       "      <td>0.183405</td>\n",
       "      <td>-0.296002</td>\n",
       "      <td>0.416866</td>\n",
       "      <td>-0.806501</td>\n",
       "      <td>0.243517</td>\n",
       "      <td>1.316410</td>\n",
       "      <td>0.012742</td>\n",
       "      <td>...</td>\n",
       "      <td>-0.197664</td>\n",
       "      <td>0.198517</td>\n",
       "      <td>0.731214</td>\n",
       "      <td>0.083111</td>\n",
       "      <td>0.203130</td>\n",
       "      <td>-0.055554</td>\n",
       "      <td>-0.231918</td>\n",
       "      <td>0.028687</td>\n",
       "      <td>-0.045962</td>\n",
       "      <td>-0.313289</td>\n",
       "    </tr>\n",
       "    <tr>\n",
       "      <th>170879</th>\n",
       "      <td>1.941601</td>\n",
       "      <td>-0.105717</td>\n",
       "      <td>-2.025099</td>\n",
       "      <td>0.021689</td>\n",
       "      <td>1.257679</td>\n",
       "      <td>1.180161</td>\n",
       "      <td>-0.212451</td>\n",
       "      <td>0.406611</td>\n",
       "      <td>0.369452</td>\n",
       "      <td>-0.321224</td>\n",
       "      <td>...</td>\n",
       "      <td>-0.266748</td>\n",
       "      <td>-0.275532</td>\n",
       "      <td>-0.651069</td>\n",
       "      <td>0.353144</td>\n",
       "      <td>-1.058401</td>\n",
       "      <td>-0.454839</td>\n",
       "      <td>0.282256</td>\n",
       "      <td>-0.022103</td>\n",
       "      <td>-0.058297</td>\n",
       "      <td>-0.345313</td>\n",
       "    </tr>\n",
       "    <tr>\n",
       "      <th>137818</th>\n",
       "      <td>1.033967</td>\n",
       "      <td>-0.208079</td>\n",
       "      <td>1.202856</td>\n",
       "      <td>1.736385</td>\n",
       "      <td>-0.693588</td>\n",
       "      <td>0.621207</td>\n",
       "      <td>-0.475716</td>\n",
       "      <td>0.256849</td>\n",
       "      <td>1.190473</td>\n",
       "      <td>-0.439242</td>\n",
       "      <td>...</td>\n",
       "      <td>-0.135075</td>\n",
       "      <td>-0.396894</td>\n",
       "      <td>-0.701575</td>\n",
       "      <td>0.058085</td>\n",
       "      <td>0.087818</td>\n",
       "      <td>0.430801</td>\n",
       "      <td>-0.513236</td>\n",
       "      <td>0.089279</td>\n",
       "      <td>0.033720</td>\n",
       "      <td>-0.214536</td>\n",
       "    </tr>\n",
       "    <tr>\n",
       "      <th>124006</th>\n",
       "      <td>1.169884</td>\n",
       "      <td>0.230835</td>\n",
       "      <td>0.250791</td>\n",
       "      <td>1.151696</td>\n",
       "      <td>-0.323831</td>\n",
       "      <td>-0.958252</td>\n",
       "      <td>0.258145</td>\n",
       "      <td>-0.233877</td>\n",
       "      <td>0.003336</td>\n",
       "      <td>0.002006</td>\n",
       "      <td>...</td>\n",
       "      <td>-0.076396</td>\n",
       "      <td>0.048912</td>\n",
       "      <td>0.092864</td>\n",
       "      <td>-0.130765</td>\n",
       "      <td>0.395357</td>\n",
       "      <td>0.667771</td>\n",
       "      <td>-0.331982</td>\n",
       "      <td>0.005386</td>\n",
       "      <td>0.026707</td>\n",
       "      <td>-0.182071</td>\n",
       "    </tr>\n",
       "    <tr>\n",
       "      <th>21681</th>\n",
       "      <td>1.312581</td>\n",
       "      <td>-0.686000</td>\n",
       "      <td>-0.320082</td>\n",
       "      <td>-0.841366</td>\n",
       "      <td>-0.380897</td>\n",
       "      <td>-0.248501</td>\n",
       "      <td>-0.203107</td>\n",
       "      <td>-0.236858</td>\n",
       "      <td>-0.948141</td>\n",
       "      <td>0.604739</td>\n",
       "      <td>...</td>\n",
       "      <td>-0.185902</td>\n",
       "      <td>-0.615446</td>\n",
       "      <td>-1.488654</td>\n",
       "      <td>-0.075584</td>\n",
       "      <td>-0.983679</td>\n",
       "      <td>0.240404</td>\n",
       "      <td>0.890117</td>\n",
       "      <td>-0.074834</td>\n",
       "      <td>0.014613</td>\n",
       "      <td>0.056255</td>\n",
       "    </tr>\n",
       "  </tbody>\n",
       "</table>\n",
       "<p>5 rows × 29 columns</p>\n",
       "</div>"
      ],
      "text/plain": [
       "              V1        V2        V3        V4        V5        V6        V7  \\\n",
       "236937  1.979227 -0.519687 -0.603594  0.183405 -0.296002  0.416866 -0.806501   \n",
       "170879  1.941601 -0.105717 -2.025099  0.021689  1.257679  1.180161 -0.212451   \n",
       "137818  1.033967 -0.208079  1.202856  1.736385 -0.693588  0.621207 -0.475716   \n",
       "124006  1.169884  0.230835  0.250791  1.151696 -0.323831 -0.958252  0.258145   \n",
       "21681   1.312581 -0.686000 -0.320082 -0.841366 -0.380897 -0.248501 -0.203107   \n",
       "\n",
       "              V8        V9       V10     ...           V20       V21  \\\n",
       "236937  0.243517  1.316410  0.012742     ...     -0.197664  0.198517   \n",
       "170879  0.406611  0.369452 -0.321224     ...     -0.266748 -0.275532   \n",
       "137818  0.256849  1.190473 -0.439242     ...     -0.135075 -0.396894   \n",
       "124006 -0.233877  0.003336  0.002006     ...     -0.076396  0.048912   \n",
       "21681  -0.236858 -0.948141  0.604739     ...     -0.185902 -0.615446   \n",
       "\n",
       "             V22       V23       V24       V25       V26       V27       V28  \\\n",
       "236937  0.731214  0.083111  0.203130 -0.055554 -0.231918  0.028687 -0.045962   \n",
       "170879 -0.651069  0.353144 -1.058401 -0.454839  0.282256 -0.022103 -0.058297   \n",
       "137818 -0.701575  0.058085  0.087818  0.430801 -0.513236  0.089279  0.033720   \n",
       "124006  0.092864 -0.130765  0.395357  0.667771 -0.331982  0.005386  0.026707   \n",
       "21681  -1.488654 -0.075584 -0.983679  0.240404  0.890117 -0.074834  0.014613   \n",
       "\n",
       "        normAmount  \n",
       "236937   -0.313289  \n",
       "170879   -0.345313  \n",
       "137818   -0.214536  \n",
       "124006   -0.182071  \n",
       "21681     0.056255  \n",
       "\n",
       "[5 rows x 29 columns]"
      ]
     },
     "execution_count": 115,
     "metadata": {},
     "output_type": "execute_result"
    }
   ],
   "source": [
    "underSampleNormalX.head()"
   ]
  },
  {
   "cell_type": "code",
   "execution_count": 116,
   "metadata": {},
   "outputs": [
    {
     "data": {
      "text/plain": [
       "1.9792265768592803"
      ]
     },
     "execution_count": 116,
     "metadata": {},
     "output_type": "execute_result"
    }
   ],
   "source": [
    "underSampleNormalX.iloc[0,0]"
   ]
  },
  {
   "cell_type": "code",
   "execution_count": 117,
   "metadata": {
    "collapsed": true
   },
   "outputs": [],
   "source": [
    "underSampleNormalY = NormalTransactionModY.sample(n = numberFraud)"
   ]
  },
  {
   "cell_type": "code",
   "execution_count": 118,
   "metadata": {
    "collapsed": true
   },
   "outputs": [],
   "source": [
    "underSampleNormPlusFraudX = pd.concat([underSampleNormalX, FraudTransactionModX])"
   ]
  },
  {
   "cell_type": "code",
   "execution_count": 119,
   "metadata": {},
   "outputs": [
    {
     "data": {
      "text/html": [
       "<div>\n",
       "<style>\n",
       "    .dataframe thead tr:only-child th {\n",
       "        text-align: right;\n",
       "    }\n",
       "\n",
       "    .dataframe thead th {\n",
       "        text-align: left;\n",
       "    }\n",
       "\n",
       "    .dataframe tbody tr th {\n",
       "        vertical-align: top;\n",
       "    }\n",
       "</style>\n",
       "<table border=\"1\" class=\"dataframe\">\n",
       "  <thead>\n",
       "    <tr style=\"text-align: right;\">\n",
       "      <th></th>\n",
       "      <th>V1</th>\n",
       "      <th>V2</th>\n",
       "      <th>V3</th>\n",
       "      <th>V4</th>\n",
       "      <th>V5</th>\n",
       "      <th>V6</th>\n",
       "      <th>V7</th>\n",
       "      <th>V8</th>\n",
       "      <th>V9</th>\n",
       "      <th>V10</th>\n",
       "      <th>...</th>\n",
       "      <th>V20</th>\n",
       "      <th>V21</th>\n",
       "      <th>V22</th>\n",
       "      <th>V23</th>\n",
       "      <th>V24</th>\n",
       "      <th>V25</th>\n",
       "      <th>V26</th>\n",
       "      <th>V27</th>\n",
       "      <th>V28</th>\n",
       "      <th>normAmount</th>\n",
       "    </tr>\n",
       "  </thead>\n",
       "  <tbody>\n",
       "    <tr>\n",
       "      <th>236937</th>\n",
       "      <td>1.979227</td>\n",
       "      <td>-0.519687</td>\n",
       "      <td>-0.603594</td>\n",
       "      <td>0.183405</td>\n",
       "      <td>-0.296002</td>\n",
       "      <td>0.416866</td>\n",
       "      <td>-0.806501</td>\n",
       "      <td>0.243517</td>\n",
       "      <td>1.316410</td>\n",
       "      <td>0.012742</td>\n",
       "      <td>...</td>\n",
       "      <td>-0.197664</td>\n",
       "      <td>0.198517</td>\n",
       "      <td>0.731214</td>\n",
       "      <td>0.083111</td>\n",
       "      <td>0.203130</td>\n",
       "      <td>-0.055554</td>\n",
       "      <td>-0.231918</td>\n",
       "      <td>0.028687</td>\n",
       "      <td>-0.045962</td>\n",
       "      <td>-0.313289</td>\n",
       "    </tr>\n",
       "    <tr>\n",
       "      <th>170879</th>\n",
       "      <td>1.941601</td>\n",
       "      <td>-0.105717</td>\n",
       "      <td>-2.025099</td>\n",
       "      <td>0.021689</td>\n",
       "      <td>1.257679</td>\n",
       "      <td>1.180161</td>\n",
       "      <td>-0.212451</td>\n",
       "      <td>0.406611</td>\n",
       "      <td>0.369452</td>\n",
       "      <td>-0.321224</td>\n",
       "      <td>...</td>\n",
       "      <td>-0.266748</td>\n",
       "      <td>-0.275532</td>\n",
       "      <td>-0.651069</td>\n",
       "      <td>0.353144</td>\n",
       "      <td>-1.058401</td>\n",
       "      <td>-0.454839</td>\n",
       "      <td>0.282256</td>\n",
       "      <td>-0.022103</td>\n",
       "      <td>-0.058297</td>\n",
       "      <td>-0.345313</td>\n",
       "    </tr>\n",
       "    <tr>\n",
       "      <th>137818</th>\n",
       "      <td>1.033967</td>\n",
       "      <td>-0.208079</td>\n",
       "      <td>1.202856</td>\n",
       "      <td>1.736385</td>\n",
       "      <td>-0.693588</td>\n",
       "      <td>0.621207</td>\n",
       "      <td>-0.475716</td>\n",
       "      <td>0.256849</td>\n",
       "      <td>1.190473</td>\n",
       "      <td>-0.439242</td>\n",
       "      <td>...</td>\n",
       "      <td>-0.135075</td>\n",
       "      <td>-0.396894</td>\n",
       "      <td>-0.701575</td>\n",
       "      <td>0.058085</td>\n",
       "      <td>0.087818</td>\n",
       "      <td>0.430801</td>\n",
       "      <td>-0.513236</td>\n",
       "      <td>0.089279</td>\n",
       "      <td>0.033720</td>\n",
       "      <td>-0.214536</td>\n",
       "    </tr>\n",
       "    <tr>\n",
       "      <th>124006</th>\n",
       "      <td>1.169884</td>\n",
       "      <td>0.230835</td>\n",
       "      <td>0.250791</td>\n",
       "      <td>1.151696</td>\n",
       "      <td>-0.323831</td>\n",
       "      <td>-0.958252</td>\n",
       "      <td>0.258145</td>\n",
       "      <td>-0.233877</td>\n",
       "      <td>0.003336</td>\n",
       "      <td>0.002006</td>\n",
       "      <td>...</td>\n",
       "      <td>-0.076396</td>\n",
       "      <td>0.048912</td>\n",
       "      <td>0.092864</td>\n",
       "      <td>-0.130765</td>\n",
       "      <td>0.395357</td>\n",
       "      <td>0.667771</td>\n",
       "      <td>-0.331982</td>\n",
       "      <td>0.005386</td>\n",
       "      <td>0.026707</td>\n",
       "      <td>-0.182071</td>\n",
       "    </tr>\n",
       "    <tr>\n",
       "      <th>21681</th>\n",
       "      <td>1.312581</td>\n",
       "      <td>-0.686000</td>\n",
       "      <td>-0.320082</td>\n",
       "      <td>-0.841366</td>\n",
       "      <td>-0.380897</td>\n",
       "      <td>-0.248501</td>\n",
       "      <td>-0.203107</td>\n",
       "      <td>-0.236858</td>\n",
       "      <td>-0.948141</td>\n",
       "      <td>0.604739</td>\n",
       "      <td>...</td>\n",
       "      <td>-0.185902</td>\n",
       "      <td>-0.615446</td>\n",
       "      <td>-1.488654</td>\n",
       "      <td>-0.075584</td>\n",
       "      <td>-0.983679</td>\n",
       "      <td>0.240404</td>\n",
       "      <td>0.890117</td>\n",
       "      <td>-0.074834</td>\n",
       "      <td>0.014613</td>\n",
       "      <td>0.056255</td>\n",
       "    </tr>\n",
       "  </tbody>\n",
       "</table>\n",
       "<p>5 rows × 29 columns</p>\n",
       "</div>"
      ],
      "text/plain": [
       "              V1        V2        V3        V4        V5        V6        V7  \\\n",
       "236937  1.979227 -0.519687 -0.603594  0.183405 -0.296002  0.416866 -0.806501   \n",
       "170879  1.941601 -0.105717 -2.025099  0.021689  1.257679  1.180161 -0.212451   \n",
       "137818  1.033967 -0.208079  1.202856  1.736385 -0.693588  0.621207 -0.475716   \n",
       "124006  1.169884  0.230835  0.250791  1.151696 -0.323831 -0.958252  0.258145   \n",
       "21681   1.312581 -0.686000 -0.320082 -0.841366 -0.380897 -0.248501 -0.203107   \n",
       "\n",
       "              V8        V9       V10     ...           V20       V21  \\\n",
       "236937  0.243517  1.316410  0.012742     ...     -0.197664  0.198517   \n",
       "170879  0.406611  0.369452 -0.321224     ...     -0.266748 -0.275532   \n",
       "137818  0.256849  1.190473 -0.439242     ...     -0.135075 -0.396894   \n",
       "124006 -0.233877  0.003336  0.002006     ...     -0.076396  0.048912   \n",
       "21681  -0.236858 -0.948141  0.604739     ...     -0.185902 -0.615446   \n",
       "\n",
       "             V22       V23       V24       V25       V26       V27       V28  \\\n",
       "236937  0.731214  0.083111  0.203130 -0.055554 -0.231918  0.028687 -0.045962   \n",
       "170879 -0.651069  0.353144 -1.058401 -0.454839  0.282256 -0.022103 -0.058297   \n",
       "137818 -0.701575  0.058085  0.087818  0.430801 -0.513236  0.089279  0.033720   \n",
       "124006  0.092864 -0.130765  0.395357  0.667771 -0.331982  0.005386  0.026707   \n",
       "21681  -1.488654 -0.075584 -0.983679  0.240404  0.890117 -0.074834  0.014613   \n",
       "\n",
       "        normAmount  \n",
       "236937   -0.313289  \n",
       "170879   -0.345313  \n",
       "137818   -0.214536  \n",
       "124006   -0.182071  \n",
       "21681     0.056255  \n",
       "\n",
       "[5 rows x 29 columns]"
      ]
     },
     "execution_count": 119,
     "metadata": {},
     "output_type": "execute_result"
    }
   ],
   "source": [
    "underSampleNormPlusFraudX.head()"
   ]
  },
  {
   "cell_type": "code",
   "execution_count": 120,
   "metadata": {},
   "outputs": [
    {
     "data": {
      "text/html": [
       "<div>\n",
       "<style>\n",
       "    .dataframe thead tr:only-child th {\n",
       "        text-align: right;\n",
       "    }\n",
       "\n",
       "    .dataframe thead th {\n",
       "        text-align: left;\n",
       "    }\n",
       "\n",
       "    .dataframe tbody tr th {\n",
       "        vertical-align: top;\n",
       "    }\n",
       "</style>\n",
       "<table border=\"1\" class=\"dataframe\">\n",
       "  <thead>\n",
       "    <tr style=\"text-align: right;\">\n",
       "      <th></th>\n",
       "      <th>V1</th>\n",
       "      <th>V2</th>\n",
       "      <th>V3</th>\n",
       "      <th>V4</th>\n",
       "      <th>V5</th>\n",
       "      <th>V6</th>\n",
       "      <th>V7</th>\n",
       "      <th>V8</th>\n",
       "      <th>V9</th>\n",
       "      <th>V10</th>\n",
       "      <th>...</th>\n",
       "      <th>V20</th>\n",
       "      <th>V21</th>\n",
       "      <th>V22</th>\n",
       "      <th>V23</th>\n",
       "      <th>V24</th>\n",
       "      <th>V25</th>\n",
       "      <th>V26</th>\n",
       "      <th>V27</th>\n",
       "      <th>V28</th>\n",
       "      <th>normAmount</th>\n",
       "    </tr>\n",
       "  </thead>\n",
       "  <tbody>\n",
       "    <tr>\n",
       "      <th>279863</th>\n",
       "      <td>-1.927883</td>\n",
       "      <td>1.125653</td>\n",
       "      <td>-4.518331</td>\n",
       "      <td>1.749293</td>\n",
       "      <td>-1.566487</td>\n",
       "      <td>-2.010494</td>\n",
       "      <td>-0.882850</td>\n",
       "      <td>0.697211</td>\n",
       "      <td>-2.064945</td>\n",
       "      <td>-5.587794</td>\n",
       "      <td>...</td>\n",
       "      <td>1.252967</td>\n",
       "      <td>0.778584</td>\n",
       "      <td>-0.319189</td>\n",
       "      <td>0.639419</td>\n",
       "      <td>-0.294885</td>\n",
       "      <td>0.537503</td>\n",
       "      <td>0.788395</td>\n",
       "      <td>0.292680</td>\n",
       "      <td>0.147968</td>\n",
       "      <td>1.206024</td>\n",
       "    </tr>\n",
       "    <tr>\n",
       "      <th>280143</th>\n",
       "      <td>1.378559</td>\n",
       "      <td>1.289381</td>\n",
       "      <td>-5.004247</td>\n",
       "      <td>1.411850</td>\n",
       "      <td>0.442581</td>\n",
       "      <td>-1.326536</td>\n",
       "      <td>-1.413170</td>\n",
       "      <td>0.248525</td>\n",
       "      <td>-1.127396</td>\n",
       "      <td>-3.232153</td>\n",
       "      <td>...</td>\n",
       "      <td>0.226138</td>\n",
       "      <td>0.370612</td>\n",
       "      <td>0.028234</td>\n",
       "      <td>-0.145640</td>\n",
       "      <td>-0.081049</td>\n",
       "      <td>0.521875</td>\n",
       "      <td>0.739467</td>\n",
       "      <td>0.389152</td>\n",
       "      <td>0.186637</td>\n",
       "      <td>-0.350191</td>\n",
       "    </tr>\n",
       "    <tr>\n",
       "      <th>280149</th>\n",
       "      <td>-0.676143</td>\n",
       "      <td>1.126366</td>\n",
       "      <td>-2.213700</td>\n",
       "      <td>0.468308</td>\n",
       "      <td>-1.120541</td>\n",
       "      <td>-0.003346</td>\n",
       "      <td>-2.234739</td>\n",
       "      <td>1.210158</td>\n",
       "      <td>-0.652250</td>\n",
       "      <td>-3.463891</td>\n",
       "      <td>...</td>\n",
       "      <td>0.247968</td>\n",
       "      <td>0.751826</td>\n",
       "      <td>0.834108</td>\n",
       "      <td>0.190944</td>\n",
       "      <td>0.032070</td>\n",
       "      <td>-0.739695</td>\n",
       "      <td>0.471111</td>\n",
       "      <td>0.385107</td>\n",
       "      <td>0.194361</td>\n",
       "      <td>-0.041818</td>\n",
       "    </tr>\n",
       "    <tr>\n",
       "      <th>281144</th>\n",
       "      <td>-3.113832</td>\n",
       "      <td>0.585864</td>\n",
       "      <td>-5.399730</td>\n",
       "      <td>1.817092</td>\n",
       "      <td>-0.840618</td>\n",
       "      <td>-2.943548</td>\n",
       "      <td>-2.208002</td>\n",
       "      <td>1.058733</td>\n",
       "      <td>-1.632333</td>\n",
       "      <td>-5.245984</td>\n",
       "      <td>...</td>\n",
       "      <td>0.306271</td>\n",
       "      <td>0.583276</td>\n",
       "      <td>-0.269209</td>\n",
       "      <td>-0.456108</td>\n",
       "      <td>-0.183659</td>\n",
       "      <td>-0.328168</td>\n",
       "      <td>0.606116</td>\n",
       "      <td>0.884876</td>\n",
       "      <td>-0.253700</td>\n",
       "      <td>0.626302</td>\n",
       "    </tr>\n",
       "    <tr>\n",
       "      <th>281674</th>\n",
       "      <td>1.991976</td>\n",
       "      <td>0.158476</td>\n",
       "      <td>-2.583441</td>\n",
       "      <td>0.408670</td>\n",
       "      <td>1.151147</td>\n",
       "      <td>-0.096695</td>\n",
       "      <td>0.223050</td>\n",
       "      <td>-0.068384</td>\n",
       "      <td>0.577829</td>\n",
       "      <td>-0.888722</td>\n",
       "      <td>...</td>\n",
       "      <td>-0.017652</td>\n",
       "      <td>-0.164350</td>\n",
       "      <td>-0.295135</td>\n",
       "      <td>-0.072173</td>\n",
       "      <td>-0.450261</td>\n",
       "      <td>0.313267</td>\n",
       "      <td>-0.289617</td>\n",
       "      <td>0.002988</td>\n",
       "      <td>-0.015309</td>\n",
       "      <td>-0.183191</td>\n",
       "    </tr>\n",
       "  </tbody>\n",
       "</table>\n",
       "<p>5 rows × 29 columns</p>\n",
       "</div>"
      ],
      "text/plain": [
       "              V1        V2        V3        V4        V5        V6        V7  \\\n",
       "279863 -1.927883  1.125653 -4.518331  1.749293 -1.566487 -2.010494 -0.882850   \n",
       "280143  1.378559  1.289381 -5.004247  1.411850  0.442581 -1.326536 -1.413170   \n",
       "280149 -0.676143  1.126366 -2.213700  0.468308 -1.120541 -0.003346 -2.234739   \n",
       "281144 -3.113832  0.585864 -5.399730  1.817092 -0.840618 -2.943548 -2.208002   \n",
       "281674  1.991976  0.158476 -2.583441  0.408670  1.151147 -0.096695  0.223050   \n",
       "\n",
       "              V8        V9       V10     ...           V20       V21  \\\n",
       "279863  0.697211 -2.064945 -5.587794     ...      1.252967  0.778584   \n",
       "280143  0.248525 -1.127396 -3.232153     ...      0.226138  0.370612   \n",
       "280149  1.210158 -0.652250 -3.463891     ...      0.247968  0.751826   \n",
       "281144  1.058733 -1.632333 -5.245984     ...      0.306271  0.583276   \n",
       "281674 -0.068384  0.577829 -0.888722     ...     -0.017652 -0.164350   \n",
       "\n",
       "             V22       V23       V24       V25       V26       V27       V28  \\\n",
       "279863 -0.319189  0.639419 -0.294885  0.537503  0.788395  0.292680  0.147968   \n",
       "280143  0.028234 -0.145640 -0.081049  0.521875  0.739467  0.389152  0.186637   \n",
       "280149  0.834108  0.190944  0.032070 -0.739695  0.471111  0.385107  0.194361   \n",
       "281144 -0.269209 -0.456108 -0.183659 -0.328168  0.606116  0.884876 -0.253700   \n",
       "281674 -0.295135 -0.072173 -0.450261  0.313267 -0.289617  0.002988 -0.015309   \n",
       "\n",
       "        normAmount  \n",
       "279863    1.206024  \n",
       "280143   -0.350191  \n",
       "280149   -0.041818  \n",
       "281144    0.626302  \n",
       "281674   -0.183191  \n",
       "\n",
       "[5 rows x 29 columns]"
      ]
     },
     "execution_count": 120,
     "metadata": {},
     "output_type": "execute_result"
    }
   ],
   "source": [
    "underSampleNormPlusFraudX.tail()"
   ]
  },
  {
   "cell_type": "code",
   "execution_count": 121,
   "metadata": {},
   "outputs": [
    {
     "data": {
      "text/plain": [
       "1"
      ]
     },
     "execution_count": 121,
     "metadata": {},
     "output_type": "execute_result"
    }
   ],
   "source": [
    "dfMod.loc[281144, 'Class']"
   ]
  },
  {
   "cell_type": "code",
   "execution_count": 122,
   "metadata": {},
   "outputs": [
    {
     "data": {
      "text/plain": [
       "(984, 29)"
      ]
     },
     "execution_count": 122,
     "metadata": {},
     "output_type": "execute_result"
    }
   ],
   "source": [
    "underSampleNormPlusFraudX.shape"
   ]
  },
  {
   "cell_type": "code",
   "execution_count": 123,
   "metadata": {
    "collapsed": true
   },
   "outputs": [],
   "source": [
    "underSampleNormPlusFraudY = pd.concat([underSampleNormalY, FraudTransactionModY])"
   ]
  },
  {
   "cell_type": "code",
   "execution_count": 124,
   "metadata": {},
   "outputs": [
    {
     "data": {
      "text/plain": [
       "(984,)"
      ]
     },
     "execution_count": 124,
     "metadata": {},
     "output_type": "execute_result"
    }
   ],
   "source": [
    "underSampleNormPlusFraudY.shape"
   ]
  },
  {
   "cell_type": "markdown",
   "metadata": {},
   "source": [
    "** Splitting data into train and test sets **"
   ]
  },
  {
   "cell_type": "code",
   "execution_count": 125,
   "metadata": {},
   "outputs": [],
   "source": [
    "from sklearn.model_selection import train_test_split"
   ]
  },
  {
   "cell_type": "code",
   "execution_count": 126,
   "metadata": {},
   "outputs": [],
   "source": [
    "trainUnderSampleX, testUnderSampleX, trainUnderSampleY, testUnderSampleY \\\n",
    "    = train_test_split(underSampleNormPlusFraudX, underSampleNormPlusFraudY, test_size = 0.3) "
   ]
  },
  {
   "cell_type": "code",
   "execution_count": 127,
   "metadata": {},
   "outputs": [
    {
     "name": "stdout",
     "output_type": "stream",
     "text": [
      "Number transactions train dataset:  688\n",
      "Number transactions test dataset:  296\n",
      "Total number of transactions:  984\n"
     ]
    }
   ],
   "source": [
    "print \"Number transactions train dataset: \", len(trainUnderSampleX)\n",
    "print \"Number transactions test dataset: \", len(testUnderSampleX)\n",
    "print \"Total number of transactions: \", len(trainUnderSampleX)+len(testUnderSampleX)"
   ]
  },
  {
   "cell_type": "code",
   "execution_count": 128,
   "metadata": {},
   "outputs": [
    {
     "data": {
      "text/plain": [
       "(688, 29)"
      ]
     },
     "execution_count": 128,
     "metadata": {},
     "output_type": "execute_result"
    }
   ],
   "source": [
    "trainUnderSampleX.shape"
   ]
  },
  {
   "cell_type": "code",
   "execution_count": 129,
   "metadata": {},
   "outputs": [
    {
     "data": {
      "text/plain": [
       "39459     0\n",
       "53441     0\n",
       "95053     0\n",
       "144754    1\n",
       "52466     1\n",
       "30100     1\n",
       "68522     1\n",
       "154454    1\n",
       "151196    1\n",
       "68812     0\n",
       "Name: Class, dtype: int64"
      ]
     },
     "execution_count": 129,
     "metadata": {},
     "output_type": "execute_result"
    }
   ],
   "source": [
    "trainUnderSampleY.head(10)"
   ]
  },
  {
   "cell_type": "code",
   "execution_count": 130,
   "metadata": {},
   "outputs": [
    {
     "data": {
      "text/plain": [
       "42700     1\n",
       "212516    1\n",
       "6334      1\n",
       "6609      1\n",
       "130490    0\n",
       "151304    0\n",
       "123322    0\n",
       "251891    1\n",
       "8615      1\n",
       "6336      1\n",
       "Name: Class, dtype: int64"
      ]
     },
     "execution_count": 130,
     "metadata": {},
     "output_type": "execute_result"
    }
   ],
   "source": [
    "testUnderSampleY.head(10)"
   ]
  },
  {
   "cell_type": "code",
   "execution_count": 131,
   "metadata": {},
   "outputs": [
    {
     "data": {
      "text/plain": [
       "1    149\n",
       "0    147\n",
       "Name: Class, dtype: int64"
      ]
     },
     "execution_count": 131,
     "metadata": {},
     "output_type": "execute_result"
    }
   ],
   "source": [
    "testUnderSampleY.value_counts()"
   ]
  },
  {
   "cell_type": "code",
   "execution_count": 132,
   "metadata": {},
   "outputs": [
    {
     "data": {
      "text/plain": [
       "0    345\n",
       "1    343\n",
       "Name: Class, dtype: int64"
      ]
     },
     "execution_count": 132,
     "metadata": {},
     "output_type": "execute_result"
    }
   ],
   "source": [
    "trainUnderSampleY.value_counts()"
   ]
  },
  {
   "cell_type": "markdown",
   "metadata": {},
   "source": [
    "Now we can go ahead and start fitting models. \n",
    "\n",
    "Before that let's review some concepts:\n",
    "\n",
    "* Accuracy = (TP + TN) / total\n",
    "\n",
    "* Precision = TP / (TP + FP)\n",
    "\n",
    "* Recall = TP / (TP + FN)\n",
    "\n",
    "In the credit card case, we want to minimize the False negatives (i.e., we don't want to miss flagging fradulent transactions). So in general we want the accuracy to be large."
   ]
  },
  {
   "cell_type": "code",
   "execution_count": 133,
   "metadata": {
    "collapsed": true
   },
   "outputs": [],
   "source": [
    "from sklearn.linear_model import LogisticRegression\n",
    "from sklearn.svm import SVC\n",
    "from sklearn.model_selection import KFold, cross_val_score"
   ]
  },
  {
   "cell_type": "markdown",
   "metadata": {},
   "source": [
    "**KFold:**\n",
    "\n",
    "Provides train/test indices to split data in train test sets. Split dataset into k consecutive folds (without shuffling).\n",
    "\n",
    "Each fold is then used a validation set once while the k - 1 remaining fold form the training set."
   ]
  },
  {
   "cell_type": "code",
   "execution_count": 134,
   "metadata": {
    "collapsed": true
   },
   "outputs": [],
   "source": [
    "fold = KFold(5, shuffle=False) "
   ]
  },
  {
   "cell_type": "code",
   "execution_count": 135,
   "metadata": {},
   "outputs": [
    {
     "data": {
      "text/plain": [
       "KFold(n_splits=5, random_state=None, shuffle=False)"
      ]
     },
     "execution_count": 135,
     "metadata": {},
     "output_type": "execute_result"
    }
   ],
   "source": [
    "fold"
   ]
  },
  {
   "cell_type": "code",
   "execution_count": 136,
   "metadata": {},
   "outputs": [
    {
     "data": {
      "text/plain": [
       "<generator object split at 0x7fb42d8afc80>"
      ]
     },
     "execution_count": 136,
     "metadata": {},
     "output_type": "execute_result"
    }
   ],
   "source": [
    "fold.split(trainUnderSampleY)"
   ]
  },
  {
   "cell_type": "code",
   "execution_count": 137,
   "metadata": {
    "collapsed": true
   },
   "outputs": [],
   "source": [
    "# different C parameters\n",
    "CparamRange = [0.001, 0.005, 0.01, 0.1, 1, 10, 100, 1000]"
   ]
  },
  {
   "cell_type": "code",
   "execution_count": 138,
   "metadata": {
    "collapsed": true
   },
   "outputs": [],
   "source": [
    "resultsTable = pd.DataFrame(index = range(len(CparamRange),2), columns = ['Cparameter','MeanRecallScore', \\\n",
    "                                                                          'MeanPrecisionScore', 'MeanF1Score'])"
   ]
  },
  {
   "cell_type": "code",
   "execution_count": 139,
   "metadata": {
    "collapsed": true
   },
   "outputs": [],
   "source": [
    "resultsTableSVC = pd.DataFrame(columns = ['Cparameter','MeanRecallScoreSVC', \\\n",
    "                                                                          'MeanPrecisionScoreSVC', 'MeanF1ScoreSVC'])"
   ]
  },
  {
   "cell_type": "code",
   "execution_count": 140,
   "metadata": {},
   "outputs": [
    {
     "data": {
      "text/plain": [
       "[]"
      ]
     },
     "execution_count": 140,
     "metadata": {},
     "output_type": "execute_result"
    }
   ],
   "source": [
    "range(len(CparamRange),2)"
   ]
  },
  {
   "cell_type": "code",
   "execution_count": 141,
   "metadata": {},
   "outputs": [
    {
     "data": {
      "text/html": [
       "<div>\n",
       "<style>\n",
       "    .dataframe thead tr:only-child th {\n",
       "        text-align: right;\n",
       "    }\n",
       "\n",
       "    .dataframe thead th {\n",
       "        text-align: left;\n",
       "    }\n",
       "\n",
       "    .dataframe tbody tr th {\n",
       "        vertical-align: top;\n",
       "    }\n",
       "</style>\n",
       "<table border=\"1\" class=\"dataframe\">\n",
       "  <thead>\n",
       "    <tr style=\"text-align: right;\">\n",
       "      <th></th>\n",
       "      <th>Cparameter</th>\n",
       "      <th>MeanRecallScoreSVC</th>\n",
       "      <th>MeanPrecisionScoreSVC</th>\n",
       "      <th>MeanF1ScoreSVC</th>\n",
       "    </tr>\n",
       "  </thead>\n",
       "  <tbody>\n",
       "  </tbody>\n",
       "</table>\n",
       "</div>"
      ],
      "text/plain": [
       "Empty DataFrame\n",
       "Columns: [Cparameter, MeanRecallScoreSVC, MeanPrecisionScoreSVC, MeanF1ScoreSVC]\n",
       "Index: []"
      ]
     },
     "execution_count": 141,
     "metadata": {},
     "output_type": "execute_result"
    }
   ],
   "source": [
    "resultsTableSVC"
   ]
  },
  {
   "cell_type": "code",
   "execution_count": 142,
   "metadata": {},
   "outputs": [
    {
     "data": {
      "text/plain": [
       "[]"
      ]
     },
     "execution_count": 142,
     "metadata": {},
     "output_type": "execute_result"
    }
   ],
   "source": [
    "range(3,2)"
   ]
  },
  {
   "cell_type": "code",
   "execution_count": 143,
   "metadata": {
    "collapsed": true
   },
   "outputs": [],
   "source": [
    "resultsTable['Cparameter'] = CparamRange"
   ]
  },
  {
   "cell_type": "code",
   "execution_count": 144,
   "metadata": {},
   "outputs": [
    {
     "data": {
      "text/html": [
       "<div>\n",
       "<style>\n",
       "    .dataframe thead tr:only-child th {\n",
       "        text-align: right;\n",
       "    }\n",
       "\n",
       "    .dataframe thead th {\n",
       "        text-align: left;\n",
       "    }\n",
       "\n",
       "    .dataframe tbody tr th {\n",
       "        vertical-align: top;\n",
       "    }\n",
       "</style>\n",
       "<table border=\"1\" class=\"dataframe\">\n",
       "  <thead>\n",
       "    <tr style=\"text-align: right;\">\n",
       "      <th></th>\n",
       "      <th>Cparameter</th>\n",
       "      <th>MeanRecallScore</th>\n",
       "      <th>MeanPrecisionScore</th>\n",
       "      <th>MeanF1Score</th>\n",
       "    </tr>\n",
       "  </thead>\n",
       "  <tbody>\n",
       "    <tr>\n",
       "      <th>0</th>\n",
       "      <td>0.001</td>\n",
       "      <td>NaN</td>\n",
       "      <td>NaN</td>\n",
       "      <td>NaN</td>\n",
       "    </tr>\n",
       "    <tr>\n",
       "      <th>1</th>\n",
       "      <td>0.005</td>\n",
       "      <td>NaN</td>\n",
       "      <td>NaN</td>\n",
       "      <td>NaN</td>\n",
       "    </tr>\n",
       "    <tr>\n",
       "      <th>2</th>\n",
       "      <td>0.010</td>\n",
       "      <td>NaN</td>\n",
       "      <td>NaN</td>\n",
       "      <td>NaN</td>\n",
       "    </tr>\n",
       "    <tr>\n",
       "      <th>3</th>\n",
       "      <td>0.100</td>\n",
       "      <td>NaN</td>\n",
       "      <td>NaN</td>\n",
       "      <td>NaN</td>\n",
       "    </tr>\n",
       "    <tr>\n",
       "      <th>4</th>\n",
       "      <td>1.000</td>\n",
       "      <td>NaN</td>\n",
       "      <td>NaN</td>\n",
       "      <td>NaN</td>\n",
       "    </tr>\n",
       "    <tr>\n",
       "      <th>5</th>\n",
       "      <td>10.000</td>\n",
       "      <td>NaN</td>\n",
       "      <td>NaN</td>\n",
       "      <td>NaN</td>\n",
       "    </tr>\n",
       "    <tr>\n",
       "      <th>6</th>\n",
       "      <td>100.000</td>\n",
       "      <td>NaN</td>\n",
       "      <td>NaN</td>\n",
       "      <td>NaN</td>\n",
       "    </tr>\n",
       "    <tr>\n",
       "      <th>7</th>\n",
       "      <td>1000.000</td>\n",
       "      <td>NaN</td>\n",
       "      <td>NaN</td>\n",
       "      <td>NaN</td>\n",
       "    </tr>\n",
       "  </tbody>\n",
       "</table>\n",
       "</div>"
      ],
      "text/plain": [
       "   Cparameter MeanRecallScore MeanPrecisionScore MeanF1Score\n",
       "0       0.001             NaN                NaN         NaN\n",
       "1       0.005             NaN                NaN         NaN\n",
       "2       0.010             NaN                NaN         NaN\n",
       "3       0.100             NaN                NaN         NaN\n",
       "4       1.000             NaN                NaN         NaN\n",
       "5      10.000             NaN                NaN         NaN\n",
       "6     100.000             NaN                NaN         NaN\n",
       "7    1000.000             NaN                NaN         NaN"
      ]
     },
     "execution_count": 144,
     "metadata": {},
     "output_type": "execute_result"
    }
   ],
   "source": [
    "resultsTable"
   ]
  },
  {
   "cell_type": "markdown",
   "metadata": {},
   "source": [
    " Enumerate is a built-in Python function. \n",
    " It allows us to loop over something and have an automatic counter. Here is an example:"
   ]
  },
  {
   "cell_type": "code",
   "execution_count": 145,
   "metadata": {},
   "outputs": [
    {
     "name": "stdout",
     "output_type": "stream",
     "text": [
      "2 apple\n",
      "3 banana\n",
      "4 grapes\n",
      "5 pear\n"
     ]
    }
   ],
   "source": [
    "my_list = ['apple', 'banana', 'grapes', 'pear']\n",
    "for c, value in enumerate(my_list, start = 2):\n",
    "    print c, value"
   ]
  },
  {
   "cell_type": "code",
   "execution_count": 146,
   "metadata": {},
   "outputs": [
    {
     "data": {
      "text/plain": [
       "<enumerate at 0x7fb42d8aff00>"
      ]
     },
     "execution_count": 146,
     "metadata": {},
     "output_type": "execute_result"
    }
   ],
   "source": [
    "enumerate(my_list)"
   ]
  },
  {
   "cell_type": "code",
   "execution_count": 147,
   "metadata": {},
   "outputs": [
    {
     "name": "stdout",
     "output_type": "stream",
     "text": [
      "550\n",
      "138\n",
      "550\n",
      "138\n",
      "550\n",
      "138\n",
      "551\n",
      "137\n",
      "551\n",
      "137\n"
     ]
    }
   ],
   "source": [
    "for iterations, indices in enumerate(fold.split(trainUnderSampleX)):\n",
    "    print len(indices[0]) \n",
    "    print len(indices[1]) "
   ]
  },
  {
   "cell_type": "code",
   "execution_count": 148,
   "metadata": {},
   "outputs": [
    {
     "data": {
      "text/plain": [
       "array([551, 552, 553, 554, 555, 556, 557, 558, 559, 560, 561, 562, 563,\n",
       "       564, 565, 566, 567, 568, 569, 570, 571, 572, 573, 574, 575, 576,\n",
       "       577, 578, 579, 580, 581, 582, 583, 584, 585, 586, 587, 588, 589,\n",
       "       590, 591, 592, 593, 594, 595, 596, 597, 598, 599, 600, 601, 602,\n",
       "       603, 604, 605, 606, 607, 608, 609, 610, 611, 612, 613, 614, 615,\n",
       "       616, 617, 618, 619, 620, 621, 622, 623, 624, 625, 626, 627, 628,\n",
       "       629, 630, 631, 632, 633, 634, 635, 636, 637, 638, 639, 640, 641,\n",
       "       642, 643, 644, 645, 646, 647, 648, 649, 650, 651, 652, 653, 654,\n",
       "       655, 656, 657, 658, 659, 660, 661, 662, 663, 664, 665, 666, 667,\n",
       "       668, 669, 670, 671, 672, 673, 674, 675, 676, 677, 678, 679, 680,\n",
       "       681, 682, 683, 684, 685, 686, 687])"
      ]
     },
     "execution_count": 148,
     "metadata": {},
     "output_type": "execute_result"
    }
   ],
   "source": [
    "indices[1]"
   ]
  },
  {
   "cell_type": "code",
   "execution_count": 149,
   "metadata": {},
   "outputs": [
    {
     "data": {
      "text/plain": [
       "685"
      ]
     },
     "execution_count": 149,
     "metadata": {},
     "output_type": "execute_result"
    }
   ],
   "source": [
    "137*5"
   ]
  },
  {
   "cell_type": "markdown",
   "metadata": {},
   "source": [
    "the k-fold will give 2 lists: train_indices = indices[0], test_indices = indices[1]"
   ]
  },
  {
   "cell_type": "code",
   "execution_count": 150,
   "metadata": {
    "collapsed": true
   },
   "outputs": [],
   "source": [
    "indices[0];"
   ]
  },
  {
   "cell_type": "code",
   "execution_count": 151,
   "metadata": {},
   "outputs": [
    {
     "data": {
      "text/plain": [
       "array([0, 0, 0, 1, 1, 1, 1, 1, 1, 0, 1, 1, 1, 0, 1, 0, 0, 1, 1, 1, 1, 1, 1,\n",
       "       1, 1, 0, 0, 1, 0, 0, 0, 0, 0, 0, 1, 1, 1, 1, 1, 0, 0, 0, 1, 0, 1, 1,\n",
       "       1, 1, 0, 1, 1, 1, 0, 1, 1, 1, 1, 0, 1, 1, 1, 0, 0, 0, 0, 1, 0, 0, 0,\n",
       "       0, 0, 0, 0, 0, 1, 0, 0, 1, 1, 1, 0, 1, 0, 1, 1, 1, 1, 1, 1, 0, 1, 0,\n",
       "       1, 1, 1, 0, 0, 1, 0, 0, 1, 1, 1, 1, 1, 0, 1, 0, 0, 1, 1, 0, 0, 0, 1,\n",
       "       0, 0, 1, 1, 1, 1, 0, 0, 0, 0, 1, 0, 1, 1, 0, 1, 1, 1, 0, 0, 1, 0, 1,\n",
       "       0, 1, 0, 1, 1, 0, 1, 0, 1, 1, 0, 1, 1, 1, 1, 1, 0, 0, 0, 1, 0, 0, 1,\n",
       "       1, 0, 1, 0, 0, 1, 1, 0, 0, 1, 0, 0, 1, 1, 0, 0, 0, 0, 0, 0, 1, 0, 0,\n",
       "       0, 0, 0, 0, 0, 0, 1, 1, 0, 0, 0, 1, 1, 0, 1, 1, 0, 1, 0, 0, 0, 0, 0,\n",
       "       0, 0, 0, 0, 0, 1, 1, 1, 0, 0, 0, 1, 1, 0, 0, 0, 0, 0, 1, 0, 1, 0, 0,\n",
       "       1, 0, 0, 0, 0, 0, 1, 0, 1, 0, 0, 1, 1, 0, 0, 1, 0, 0, 1, 0, 1, 1, 1,\n",
       "       1, 1, 1, 1, 0, 1, 1, 1, 0, 0, 0, 1, 0, 1, 1, 0, 0, 0, 1, 0, 0, 0, 1,\n",
       "       1, 0, 0, 0, 0, 0, 1, 1, 0, 0, 1, 0, 0, 1, 1, 1, 0, 1, 1, 1, 0, 1, 0,\n",
       "       1, 0, 1, 0, 1, 0, 1, 0, 1, 1, 1, 0, 1, 1, 0, 1, 1, 0, 0, 0, 1, 0, 0,\n",
       "       0, 0, 0, 0, 1, 1, 1, 0, 1, 1, 1, 0, 1, 0, 0, 1, 0, 1, 0, 0, 1, 0, 0,\n",
       "       0, 0, 0, 1, 1, 1, 0, 0, 1, 0, 0, 1, 0, 1, 1, 0, 0, 1, 1, 0, 0, 1, 1,\n",
       "       0, 0, 1, 1, 1, 1, 0, 0, 0, 1, 1, 1, 1, 1, 1, 0, 1, 0, 1, 1, 0, 0, 1,\n",
       "       0, 1, 0, 1, 0, 1, 0, 1, 0, 1, 0, 1, 0, 1, 0, 0, 0, 0, 0, 0, 1, 0, 1,\n",
       "       0, 1, 0, 1, 1, 0, 1, 1, 0, 1, 0, 1, 1, 0, 0, 0, 1, 1, 0, 1, 1, 0, 0,\n",
       "       1, 1, 0, 1, 0, 0, 1, 1, 1, 0, 1, 0, 1, 0, 1, 0, 1, 0, 1, 0, 0, 1, 1,\n",
       "       0, 0, 0, 1, 0, 0, 1, 1, 1, 1, 1, 0, 1, 1, 0, 0, 0, 0, 1, 1, 0, 1, 0,\n",
       "       0, 0, 1, 0, 0, 0, 0, 0, 0, 0, 0, 1, 0, 1, 1, 0, 0, 1, 0, 1, 0, 1, 1,\n",
       "       1, 0, 0, 0, 1, 0, 1, 1, 1, 1, 0, 0, 1, 0, 1, 1, 0, 1, 1, 0, 0, 0, 0,\n",
       "       1, 0, 0, 1, 1, 0, 1, 0, 0, 0, 0, 1, 0, 1, 1, 1, 0, 1, 1, 0, 0, 1])"
      ]
     },
     "execution_count": 151,
     "metadata": {},
     "output_type": "execute_result"
    }
   ],
   "source": [
    "trainUnderSampleY.iloc[indices[0]].values"
   ]
  },
  {
   "cell_type": "code",
   "execution_count": 152,
   "metadata": {
    "collapsed": true
   },
   "outputs": [],
   "source": [
    "from sklearn.metrics import confusion_matrix, precision_recall_curve, auc,roc_auc_score, \\\n",
    "roc_curve, recall_score, classification_report, precision_score, f1_score "
   ]
  },
  {
   "cell_type": "code",
   "execution_count": 153,
   "metadata": {},
   "outputs": [
    {
     "name": "stdout",
     "output_type": "stream",
     "text": [
      "------------------------------\n",
      "C value =  0.001\n",
      "------------------------------\n",
      "Iteration 1 : recall score =  0.961038961039 , precision score =  0.913580246914 , F1 score =  0.936708860759\n",
      "Iteration 1 : recall score SVC =  0.0 , precision score SVC =  0.0 , F1 score SVC=  0.0\n",
      "Iteration 2 : recall score =  0.947368421053 , precision score =  0.818181818182 , F1 score =  0.878048780488\n",
      "Iteration 2 : recall score SVC =  1.0 , precision score SVC =  0.413043478261 , F1 score SVC=  0.584615384615\n",
      "Iteration 3 : recall score =  0.985074626866 , precision score =  0.814814814815 , F1 score =  0.891891891892\n",
      "Iteration 3 : recall score SVC =  1.0 , precision score SVC =  0.485507246377 , F1 score SVC=  0.653658536585\n",
      "Iteration 4 : recall score =  1.0 , precision score =  0.88 , F1 score =  0.936170212766\n",
      "Iteration 4 : recall score SVC =  1.0 , precision score SVC =  0.481751824818 , F1 score SVC=  0.650246305419\n",
      "Iteration 5 : recall score =  0.947368421053 , precision score =  0.947368421053 , F1 score =  0.947368421053\n",
      "Iteration 5 : recall score SVC =  0.0 , precision score SVC =  0.0 , F1 score SVC=  0.0\n",
      "------------------------------\n",
      "C value =  0.005\n",
      "------------------------------\n"
     ]
    },
    {
     "name": "stderr",
     "output_type": "stream",
     "text": [
      "/home/sushant/anaconda2/lib/python2.7/site-packages/sklearn/metrics/classification.py:1113: UndefinedMetricWarning: Precision is ill-defined and being set to 0.0 due to no predicted samples.\n",
      "  'precision', 'predicted', average, warn_for)\n",
      "/home/sushant/anaconda2/lib/python2.7/site-packages/sklearn/metrics/classification.py:1113: UndefinedMetricWarning: F-score is ill-defined and being set to 0.0 due to no predicted samples.\n",
      "  'precision', 'predicted', average, warn_for)\n"
     ]
    },
    {
     "name": "stdout",
     "output_type": "stream",
     "text": [
      "Iteration 1 : recall score =  0.961038961039 , precision score =  0.936708860759 , F1 score =  0.948717948718\n",
      "Iteration 1 : recall score SVC =  0.0 , precision score SVC =  0.0 , F1 score SVC=  0.0\n",
      "Iteration 2 : recall score =  0.947368421053 , precision score =  0.84375 , F1 score =  0.892561983471\n",
      "Iteration 2 : recall score SVC =  1.0 , precision score SVC =  0.413043478261 , F1 score SVC=  0.584615384615\n",
      "Iteration 3 : recall score =  0.985074626866 , precision score =  0.929577464789 , F1 score =  0.95652173913\n",
      "Iteration 3 : recall score SVC =  1.0 , precision score SVC =  0.485507246377 , F1 score SVC=  0.653658536585\n",
      "Iteration 4 : recall score =  0.939393939394 , precision score =  0.911764705882 , F1 score =  0.925373134328\n",
      "Iteration 4 : recall score SVC =  1.0 , precision score SVC =  0.481751824818 , F1 score SVC=  0.650246305419\n",
      "Iteration 5 : recall score =  0.881578947368 , precision score =  0.971014492754 , F1 score =  0.924137931034\n",
      "Iteration 5 : recall score SVC =  0.0 , precision score SVC =  0.0 , F1 score SVC=  0.0\n",
      "------------------------------\n",
      "C value =  0.01\n",
      "------------------------------\n",
      "Iteration 1 : recall score =  0.922077922078 , precision score =  0.959459459459 , F1 score =  0.940397350993\n",
      "Iteration 1 : recall score SVC =  0.441558441558 , precision score SVC =  1.0 , F1 score SVC=  0.612612612613\n",
      "Iteration 2 : recall score =  0.947368421053 , precision score =  0.9 , F1 score =  0.923076923077\n",
      "Iteration 2 : recall score SVC =  1.0 , precision score SVC =  0.478991596639 , F1 score SVC=  0.647727272727\n",
      "Iteration 3 : recall score =  0.970149253731 , precision score =  0.955882352941 , F1 score =  0.962962962963\n",
      "Iteration 3 : recall score SVC =  1.0 , precision score SVC =  0.592920353982 , F1 score SVC=  0.744444444444\n",
      "Iteration 4 : recall score =  0.939393939394 , precision score =  0.96875 , F1 score =  0.953846153846\n",
      "Iteration 4 : recall score SVC =  0.984848484848 , precision score SVC =  0.601851851852 , F1 score SVC=  0.747126436782\n",
      "Iteration 5 : recall score =  0.881578947368 , precision score =  0.971014492754 , F1 score =  0.924137931034\n",
      "Iteration 5 : recall score SVC =  0.842105263158 , precision score SVC =  1.0 , F1 score SVC=  0.914285714286\n",
      "------------------------------\n",
      "C value =  0.1\n",
      "------------------------------\n",
      "Iteration 1 : recall score =  0.909090909091 , precision score =  0.985915492958 , F1 score =  0.945945945946\n",
      "Iteration 1 : recall score SVC =  0.935064935065 , precision score SVC =  0.935064935065 , F1 score SVC=  0.935064935065\n",
      "Iteration 2 : recall score =  0.947368421053 , precision score =  0.931034482759 , F1 score =  0.939130434783\n",
      "Iteration 2 : recall score SVC =  0.929824561404 , precision score SVC =  0.883333333333 , F1 score SVC=  0.905982905983\n",
      "Iteration 3 : recall score =  0.970149253731 , precision score =  0.955882352941 , F1 score =  0.962962962963\n",
      "Iteration 3 : recall score SVC =  0.940298507463 , precision score SVC =  0.926470588235 , F1 score SVC=  0.933333333333\n",
      "Iteration 4 : recall score =  0.939393939394 , precision score =  1.0 , F1 score =  0.96875\n",
      "Iteration 4 : recall score SVC =  0.909090909091 , precision score SVC =  0.923076923077 , F1 score SVC=  0.916030534351\n",
      "Iteration 5 : recall score =  0.881578947368 , precision score =  0.985294117647 , F1 score =  0.930555555556\n",
      "Iteration 5 : recall score SVC =  0.881578947368 , precision score SVC =  0.943661971831 , F1 score SVC=  0.91156462585\n",
      "------------------------------\n",
      "C value =  1\n",
      "------------------------------\n",
      "Iteration 1 : recall score =  0.922077922078 , precision score =  0.972602739726 , F1 score =  0.946666666667\n",
      "Iteration 1 : recall score SVC =  0.935064935065 , precision score SVC =  0.947368421053 , F1 score SVC=  0.941176470588\n",
      "Iteration 2 : recall score =  0.947368421053 , precision score =  0.931034482759 , F1 score =  0.939130434783\n",
      "Iteration 2 : recall score SVC =  0.947368421053 , precision score SVC =  0.915254237288 , F1 score SVC=  0.931034482759\n",
      "Iteration 3 : recall score =  0.955223880597 , precision score =  0.927536231884 , F1 score =  0.941176470588\n",
      "Iteration 3 : recall score SVC =  0.955223880597 , precision score SVC =  0.955223880597 , F1 score SVC=  0.955223880597\n",
      "Iteration 4 : recall score =  0.924242424242 , precision score =  1.0 , F1 score =  0.96062992126\n",
      "Iteration 4 : recall score SVC =  0.939393939394 , precision score SVC =  0.953846153846 , F1 score SVC=  0.946564885496\n",
      "Iteration 5 : recall score =  0.881578947368 , precision score =  0.985294117647 , F1 score =  0.930555555556\n",
      "Iteration 5 : recall score SVC =  0.881578947368 , precision score SVC =  0.971014492754 , F1 score SVC=  0.924137931034\n",
      "------------------------------\n",
      "C value =  10\n",
      "------------------------------\n",
      "Iteration 1 : recall score =  0.922077922078 , precision score =  0.959459459459 , F1 score =  0.940397350993\n",
      "Iteration 1 : recall score SVC =  0.922077922078 , precision score SVC =  0.898734177215 , F1 score SVC=  0.910256410256\n",
      "Iteration 2 : recall score =  0.947368421053 , precision score =  0.915254237288 , F1 score =  0.931034482759\n",
      "Iteration 2 : recall score SVC =  0.964912280702 , precision score SVC =  0.887096774194 , F1 score SVC=  0.924369747899\n",
      "Iteration 3 : recall score =  0.940298507463 , precision score =  0.913043478261 , F1 score =  0.926470588235\n",
      "Iteration 3 : recall score SVC =  0.955223880597 , precision score SVC =  0.914285714286 , F1 score SVC=  0.934306569343\n",
      "Iteration 4 : recall score =  0.924242424242 , precision score =  1.0 , F1 score =  0.96062992126\n",
      "Iteration 4 : recall score SVC =  0.954545454545 , precision score SVC =  0.969230769231 , F1 score SVC=  0.961832061069\n",
      "Iteration 5 : recall score =  0.881578947368 , precision score =  0.957142857143 , F1 score =  0.917808219178\n",
      "Iteration 5 : recall score SVC =  0.894736842105 , precision score SVC =  0.971428571429 , F1 score SVC=  0.931506849315\n",
      "------------------------------\n",
      "C value =  100\n",
      "------------------------------\n",
      "Iteration 1 : recall score =  0.935064935065 , precision score =  0.96 , F1 score =  0.947368421053\n",
      "Iteration 1 : recall score SVC =  0.922077922078 , precision score SVC =  0.898734177215 , F1 score SVC=  0.910256410256\n",
      "Iteration 2 : recall score =  0.947368421053 , precision score =  0.915254237288 , F1 score =  0.931034482759\n",
      "Iteration 2 : recall score SVC =  0.964912280702 , precision score SVC =  0.887096774194 , F1 score SVC=  0.924369747899\n",
      "Iteration 3 : recall score =  0.955223880597 , precision score =  0.888888888889 , F1 score =  0.920863309353\n",
      "Iteration 3 : recall score SVC =  0.955223880597 , precision score SVC =  0.901408450704 , F1 score SVC=  0.927536231884\n",
      "Iteration 4 : recall score =  0.939393939394 , precision score =  1.0 , F1 score =  0.96875\n",
      "Iteration 4 : recall score SVC =  0.954545454545 , precision score SVC =  0.940298507463 , F1 score SVC=  0.947368421053\n",
      "Iteration 5 : recall score =  0.881578947368 , precision score =  0.943661971831 , F1 score =  0.91156462585\n",
      "Iteration 5 : recall score SVC =  0.881578947368 , precision score SVC =  0.943661971831 , F1 score SVC=  0.91156462585\n",
      "------------------------------\n",
      "C value =  1000\n",
      "------------------------------\n",
      "Iteration 1 : recall score =  0.935064935065 , precision score =  0.96 , F1 score =  0.947368421053\n",
      "Iteration 1 : recall score SVC =  0.922077922078 , precision score SVC =  0.898734177215 , F1 score SVC=  0.910256410256\n",
      "Iteration 2 : recall score =  0.947368421053 , precision score =  0.915254237288 , F1 score =  0.931034482759\n",
      "Iteration 2 : recall score SVC =  0.964912280702 , precision score SVC =  0.887096774194 , F1 score SVC=  0.924369747899\n",
      "Iteration 3 : recall score =  0.955223880597 , precision score =  0.888888888889 , F1 score =  0.920863309353\n",
      "Iteration 3 : recall score SVC =  0.955223880597 , precision score SVC =  0.901408450704 , F1 score SVC=  0.927536231884\n",
      "Iteration 4 : recall score =  0.939393939394 , precision score =  1.0 , F1 score =  0.96875\n",
      "Iteration 4 : recall score SVC =  0.954545454545 , precision score SVC =  0.940298507463 , F1 score SVC=  0.947368421053\n",
      "Iteration 5 : recall score =  0.881578947368 , precision score =  0.943661971831 , F1 score =  0.91156462585\n",
      "Iteration 5 : recall score SVC =  0.881578947368 , precision score SVC =  0.943661971831 , F1 score SVC=  0.91156462585\n"
     ]
    }
   ],
   "source": [
    "j = 0\n",
    "for Cparameter in CparamRange:\n",
    "    print '------------------------------'\n",
    "    print 'C value = ', Cparameter\n",
    "    print '------------------------------'\n",
    "    \n",
    "    recallVal = []\n",
    "    precisionVal = []\n",
    "    F1scoreVal = []\n",
    "    recallValSVC = []\n",
    "    precisionValSVC = []\n",
    "    F1scoreValSVC = []\n",
    "    \n",
    "    for iteration, indices in enumerate(fold.split(trainUnderSampleY), 1):\n",
    "        \n",
    "        # Call the logistic regression model with a certain C parameter\n",
    "        lr = LogisticRegression(C = Cparameter, penalty = 'l2')\n",
    "        svc = SVC(C = Cparameter)\n",
    "        \n",
    "        # Use the training data to fit the model. In this case, we use the portion of the fold to train the model\n",
    "        # with indices[0]. We then predict on the portion assigned as the 'test cross validation' with indices[1]\n",
    "        \n",
    "        lr.fit(trainUnderSampleX.iloc[indices[0], :], trainUnderSampleY.iloc[indices[0]])\n",
    "        svc.fit(trainUnderSampleX.iloc[indices[0], :], trainUnderSampleY.iloc[indices[0]])\n",
    "        \n",
    "        # Predict values using the test indices in the training data\n",
    "        yPred = lr.predict(trainUnderSampleX.iloc[indices[1], :])\n",
    "        yPredSVC = svc.predict(trainUnderSampleX.iloc[indices[1], :])\n",
    "        \n",
    "        recallval = recall_score(trainUnderSampleY.iloc[indices[1]], yPred)\n",
    "        recallvalSVC = recall_score(trainUnderSampleY.iloc[indices[1]], yPredSVC)\n",
    "        \n",
    "        precisionval = precision_score(trainUnderSampleY.iloc[indices[1]], yPred)\n",
    "        precisionvalSVC = precision_score(trainUnderSampleY.iloc[indices[1]], yPredSVC)\n",
    "        \n",
    "        F1scoreval = f1_score(trainUnderSampleY.iloc[indices[1]], yPred)\n",
    "        F1scorevalSVC = f1_score(trainUnderSampleY.iloc[indices[1]], yPredSVC)\n",
    "        \n",
    "        recallVal.append(recallval)\n",
    "        precisionVal.append(precisionval)\n",
    "        F1scoreVal.append(F1scoreval)\n",
    "        recallValSVC.append(recallvalSVC)\n",
    "        precisionValSVC.append(precisionvalSVC)\n",
    "        F1scoreValSVC.append(F1scorevalSVC)\n",
    "        \n",
    "        print 'Iteration', iteration, ': recall score = ', recallval, \\\n",
    "              ', precision score = ', precisionval, ', F1 score = ', F1scoreval\n",
    "        print 'Iteration', iteration, ': recall score SVC = ', recallvalSVC, \\\n",
    "              ', precision score SVC = ', precisionvalSVC, ', F1 score SVC= ', F1scorevalSVC    \n",
    "    \n",
    "    resultsTable.loc[j, 'Cparameter'] = Cparameter\n",
    "    resultsTable.loc[j, 'MeanRecallScore'] = np.mean(recallVal)\n",
    "    resultsTable.loc[j, 'MeanPrecisionScore'] = np.mean(precisionVal)\n",
    "    resultsTable.loc[j, 'MeanF1Score'] = np.mean(F1scoreVal)\n",
    "    \n",
    "    resultsTableSVC.loc[j, 'Cparameter'] = Cparameter\n",
    "    resultsTableSVC.loc[j, 'MeanRecallScoreSVC'] = np.mean(recallValSVC)\n",
    "    resultsTableSVC.loc[j, 'MeanPrecisionScoreSVC'] = np.mean(precisionValSVC)\n",
    "    resultsTableSVC.loc[j, 'MeanF1ScoreSVC'] = np.mean(F1scoreValSVC)\n",
    "    \n",
    "    j += 1"
   ]
  },
  {
   "cell_type": "code",
   "execution_count": 154,
   "metadata": {},
   "outputs": [
    {
     "data": {
      "text/html": [
       "<div>\n",
       "<style>\n",
       "    .dataframe thead tr:only-child th {\n",
       "        text-align: right;\n",
       "    }\n",
       "\n",
       "    .dataframe thead th {\n",
       "        text-align: left;\n",
       "    }\n",
       "\n",
       "    .dataframe tbody tr th {\n",
       "        vertical-align: top;\n",
       "    }\n",
       "</style>\n",
       "<table border=\"1\" class=\"dataframe\">\n",
       "  <thead>\n",
       "    <tr style=\"text-align: right;\">\n",
       "      <th></th>\n",
       "      <th>Cparameter</th>\n",
       "      <th>MeanRecallScore</th>\n",
       "      <th>MeanPrecisionScore</th>\n",
       "      <th>MeanF1Score</th>\n",
       "    </tr>\n",
       "  </thead>\n",
       "  <tbody>\n",
       "    <tr>\n",
       "      <th>0</th>\n",
       "      <td>0.001</td>\n",
       "      <td>0.96817</td>\n",
       "      <td>0.874789</td>\n",
       "      <td>0.918038</td>\n",
       "    </tr>\n",
       "    <tr>\n",
       "      <th>1</th>\n",
       "      <td>0.005</td>\n",
       "      <td>0.942891</td>\n",
       "      <td>0.918563</td>\n",
       "      <td>0.929463</td>\n",
       "    </tr>\n",
       "    <tr>\n",
       "      <th>2</th>\n",
       "      <td>0.010</td>\n",
       "      <td>0.932114</td>\n",
       "      <td>0.951021</td>\n",
       "      <td>0.940884</td>\n",
       "    </tr>\n",
       "    <tr>\n",
       "      <th>3</th>\n",
       "      <td>0.100</td>\n",
       "      <td>0.929516</td>\n",
       "      <td>0.971625</td>\n",
       "      <td>0.949469</td>\n",
       "    </tr>\n",
       "    <tr>\n",
       "      <th>4</th>\n",
       "      <td>1.000</td>\n",
       "      <td>0.926098</td>\n",
       "      <td>0.963294</td>\n",
       "      <td>0.943632</td>\n",
       "    </tr>\n",
       "    <tr>\n",
       "      <th>5</th>\n",
       "      <td>10.000</td>\n",
       "      <td>0.923113</td>\n",
       "      <td>0.94898</td>\n",
       "      <td>0.935268</td>\n",
       "    </tr>\n",
       "    <tr>\n",
       "      <th>6</th>\n",
       "      <td>100.000</td>\n",
       "      <td>0.931726</td>\n",
       "      <td>0.941561</td>\n",
       "      <td>0.935916</td>\n",
       "    </tr>\n",
       "    <tr>\n",
       "      <th>7</th>\n",
       "      <td>1000.000</td>\n",
       "      <td>0.931726</td>\n",
       "      <td>0.941561</td>\n",
       "      <td>0.935916</td>\n",
       "    </tr>\n",
       "  </tbody>\n",
       "</table>\n",
       "</div>"
      ],
      "text/plain": [
       "   Cparameter MeanRecallScore MeanPrecisionScore MeanF1Score\n",
       "0       0.001         0.96817           0.874789    0.918038\n",
       "1       0.005        0.942891           0.918563    0.929463\n",
       "2       0.010        0.932114           0.951021    0.940884\n",
       "3       0.100        0.929516           0.971625    0.949469\n",
       "4       1.000        0.926098           0.963294    0.943632\n",
       "5      10.000        0.923113            0.94898    0.935268\n",
       "6     100.000        0.931726           0.941561    0.935916\n",
       "7    1000.000        0.931726           0.941561    0.935916"
      ]
     },
     "execution_count": 154,
     "metadata": {},
     "output_type": "execute_result"
    }
   ],
   "source": [
    "resultsTable"
   ]
  },
  {
   "cell_type": "markdown",
   "metadata": {},
   "source": [
    "Let's work with C = 0.005. It gives a good value for recall without making the precision too small. "
   ]
  },
  {
   "cell_type": "code",
   "execution_count": 155,
   "metadata": {
    "collapsed": true
   },
   "outputs": [],
   "source": [
    "Cbest = 0.005"
   ]
  },
  {
   "cell_type": "code",
   "execution_count": 156,
   "metadata": {},
   "outputs": [
    {
     "data": {
      "text/html": [
       "<div>\n",
       "<style>\n",
       "    .dataframe thead tr:only-child th {\n",
       "        text-align: right;\n",
       "    }\n",
       "\n",
       "    .dataframe thead th {\n",
       "        text-align: left;\n",
       "    }\n",
       "\n",
       "    .dataframe tbody tr th {\n",
       "        vertical-align: top;\n",
       "    }\n",
       "</style>\n",
       "<table border=\"1\" class=\"dataframe\">\n",
       "  <thead>\n",
       "    <tr style=\"text-align: right;\">\n",
       "      <th></th>\n",
       "      <th>Cparameter</th>\n",
       "      <th>MeanRecallScoreSVC</th>\n",
       "      <th>MeanPrecisionScoreSVC</th>\n",
       "      <th>MeanF1ScoreSVC</th>\n",
       "    </tr>\n",
       "  </thead>\n",
       "  <tbody>\n",
       "    <tr>\n",
       "      <th>0</th>\n",
       "      <td>0.001</td>\n",
       "      <td>0.6</td>\n",
       "      <td>0.276061</td>\n",
       "      <td>0.377704</td>\n",
       "    </tr>\n",
       "    <tr>\n",
       "      <th>1</th>\n",
       "      <td>0.005</td>\n",
       "      <td>0.6</td>\n",
       "      <td>0.276061</td>\n",
       "      <td>0.377704</td>\n",
       "    </tr>\n",
       "    <tr>\n",
       "      <th>2</th>\n",
       "      <td>0.01</td>\n",
       "      <td>0.853702</td>\n",
       "      <td>0.734753</td>\n",
       "      <td>0.733239</td>\n",
       "    </tr>\n",
       "    <tr>\n",
       "      <th>3</th>\n",
       "      <td>0.1</td>\n",
       "      <td>0.919172</td>\n",
       "      <td>0.922322</td>\n",
       "      <td>0.920395</td>\n",
       "    </tr>\n",
       "    <tr>\n",
       "      <th>4</th>\n",
       "      <td>1</td>\n",
       "      <td>0.931726</td>\n",
       "      <td>0.948541</td>\n",
       "      <td>0.939628</td>\n",
       "    </tr>\n",
       "    <tr>\n",
       "      <th>5</th>\n",
       "      <td>10</td>\n",
       "      <td>0.938299</td>\n",
       "      <td>0.928155</td>\n",
       "      <td>0.932454</td>\n",
       "    </tr>\n",
       "    <tr>\n",
       "      <th>6</th>\n",
       "      <td>100</td>\n",
       "      <td>0.935668</td>\n",
       "      <td>0.91424</td>\n",
       "      <td>0.924219</td>\n",
       "    </tr>\n",
       "    <tr>\n",
       "      <th>7</th>\n",
       "      <td>1000</td>\n",
       "      <td>0.935668</td>\n",
       "      <td>0.91424</td>\n",
       "      <td>0.924219</td>\n",
       "    </tr>\n",
       "  </tbody>\n",
       "</table>\n",
       "</div>"
      ],
      "text/plain": [
       "  Cparameter MeanRecallScoreSVC MeanPrecisionScoreSVC MeanF1ScoreSVC\n",
       "0      0.001                0.6              0.276061       0.377704\n",
       "1      0.005                0.6              0.276061       0.377704\n",
       "2       0.01           0.853702              0.734753       0.733239\n",
       "3        0.1           0.919172              0.922322       0.920395\n",
       "4          1           0.931726              0.948541       0.939628\n",
       "5         10           0.938299              0.928155       0.932454\n",
       "6        100           0.935668               0.91424       0.924219\n",
       "7       1000           0.935668               0.91424       0.924219"
      ]
     },
     "execution_count": 156,
     "metadata": {},
     "output_type": "execute_result"
    }
   ],
   "source": [
    "resultsTableSVC"
   ]
  },
  {
   "cell_type": "code",
   "execution_count": 157,
   "metadata": {
    "collapsed": true
   },
   "outputs": [],
   "source": [
    "CbestSVC = 10.0"
   ]
  },
  {
   "cell_type": "markdown",
   "metadata": {},
   "source": [
    "For SVC the best C value is 10. \n",
    "\n",
    "Use these C parameters to build the final model with the whole (undersampled) training dataset and predict the classes in test. "
   ]
  },
  {
   "cell_type": "markdown",
   "metadata": {},
   "source": [
    "Let's look at which kernel is better for SVC"
   ]
  },
  {
   "cell_type": "code",
   "execution_count": 158,
   "metadata": {
    "collapsed": true
   },
   "outputs": [],
   "source": [
    "svc = SVC(C = CbestSVC)               \n",
    "svc.fit(trainUnderSampleX, trainUnderSampleY)\n",
    "yPredSVC = svc.predict(testUnderSampleX)\n",
    "\n",
    "svclinear = SVC(C = CbestSVC, kernel = 'linear')               \n",
    "svclinear.fit(trainUnderSampleX, trainUnderSampleY)\n",
    "yPredSVClinear = svclinear.predict(testUnderSampleX)\n",
    "\n",
    "recallvalSVCRBF = recall_score(testUnderSampleY, yPredSVC)\n",
    "precisionvalSVCRBF = precision_score(testUnderSampleY, yPredSVC)\n",
    "f1scoreSVCRBF = f1_score(testUnderSampleY, yPredSVC)\n",
    "\n",
    "recallvalSVClinear = recall_score(testUnderSampleY, yPredSVClinear)\n",
    "precisionvalSVClinear = precision_score(testUnderSampleY, yPredSVClinear)\n",
    "f1scoreSVClinear = f1_score(testUnderSampleY, yPredSVClinear)"
   ]
  },
  {
   "cell_type": "code",
   "execution_count": 159,
   "metadata": {},
   "outputs": [
    {
     "data": {
      "text/plain": [
       "(0.91275167785234901, 0.90666666666666662, 0.90969899665551834)"
      ]
     },
     "execution_count": 159,
     "metadata": {},
     "output_type": "execute_result"
    }
   ],
   "source": [
    "recallvalSVCRBF, precisionvalSVCRBF, f1scoreSVCRBF "
   ]
  },
  {
   "cell_type": "code",
   "execution_count": 160,
   "metadata": {},
   "outputs": [
    {
     "data": {
      "text/plain": [
       "(0.90604026845637586, 0.92465753424657537, 0.9152542372881356)"
      ]
     },
     "execution_count": 160,
     "metadata": {},
     "output_type": "execute_result"
    }
   ],
   "source": [
    "recallvalSVClinear, precisionvalSVClinear, f1scoreSVClinear "
   ]
  },
  {
   "cell_type": "markdown",
   "metadata": {},
   "source": [
    "The RBF kernel seems slightly better especially because we want high recall"
   ]
  },
  {
   "cell_type": "code",
   "execution_count": 161,
   "metadata": {
    "collapsed": true
   },
   "outputs": [],
   "source": [
    "lr = LogisticRegression(C = Cbest)\n",
    "lr.fit(trainUnderSampleX, trainUnderSampleY)\n",
    "yPredTest = lr.predict(testUnderSampleX)\n",
    "svc = SVC(C = CbestSVC)\n",
    "svc.fit(trainUnderSampleX, trainUnderSampleY)\n",
    "yPredTestSVC = svc.predict(testUnderSampleX)"
   ]
  },
  {
   "cell_type": "code",
   "execution_count": 162,
   "metadata": {
    "collapsed": true
   },
   "outputs": [],
   "source": [
    "confMatrix = confusion_matrix(testUnderSampleY, yPredTest)\n",
    "confMatrixSVC = confusion_matrix(testUnderSampleY, yPredTestSVC)"
   ]
  },
  {
   "cell_type": "code",
   "execution_count": 163,
   "metadata": {},
   "outputs": [
    {
     "data": {
      "text/plain": [
       "array([[130,  17],\n",
       "       [ 10, 139]])"
      ]
     },
     "execution_count": 163,
     "metadata": {},
     "output_type": "execute_result"
    }
   ],
   "source": [
    "confMatrix"
   ]
  },
  {
   "cell_type": "code",
   "execution_count": 164,
   "metadata": {},
   "outputs": [
    {
     "name": "stdout",
     "output_type": "stream",
     "text": [
      "Recall score on the test data:  0.93288590604\n",
      "Precision score on the test data:  0.891025641026\n",
      "F1 score on the test data:  0.911475409836\n"
     ]
    }
   ],
   "source": [
    "print 'Recall score on the test data: ', recall_score(testUnderSampleY, yPredTest)\n",
    "print 'Precision score on the test data: ', precision_score(testUnderSampleY, yPredTest)\n",
    "print 'F1 score on the test data: ', f1_score(testUnderSampleY, yPredTest)"
   ]
  },
  {
   "cell_type": "code",
   "execution_count": 197,
   "metadata": {},
   "outputs": [
    {
     "data": {
      "image/png": "[encoded data removed]",
      "text/plain": [
       "<matplotlib.figure.Figure at 0x7fb42ac32f90>"
      ]
     },
     "metadata": {},
     "output_type": "display_data"
    }
   ],
   "source": [
    "sns.heatmap(confMatrix, annot= True, fmt = '.0f', annot_kws={'size': 14})\n",
    "_ = plt.xlabel('Predicted label', fontsize = 16)\n",
    "_ = plt.ylabel('Actual label', fontsize = 16)\n",
    "_ = plt.title('Confusion Matrix with logistic reg', fontsize = 14)"
   ]
  },
  {
   "cell_type": "code",
   "execution_count": 198,
   "metadata": {},
   "outputs": [
    {
     "data": {
      "image/png": "[encoded data removed]",
      "text/plain": [
       "<matplotlib.figure.Figure at 0x7fb42e26cb50>"
      ]
     },
     "metadata": {},
     "output_type": "display_data"
    }
   ],
   "source": [
    "sns.heatmap(confMatrixSVC, annot= True, fmt = '.0f', annot_kws={'size': 14})\n",
    "_ = plt.xlabel('Predicted label', fontsize = 16)\n",
    "_ = plt.ylabel('Actual label', fontsize = 16)\n",
    "_ = plt.title('Confusion Matrix with SVC', fontsize = 14)"
   ]
  },
  {
   "cell_type": "markdown",
   "metadata": {
    "collapsed": true
   },
   "source": [
    "**The model offers about 90% recall accuracy on previously unseen data, which is a pretty good result for both logistic regression and SVM. Let's use our model on the full data**"
   ]
  },
  {
   "cell_type": "code",
   "execution_count": 167,
   "metadata": {},
   "outputs": [
    {
     "data": {
      "text/plain": [
       "(284315, 29)"
      ]
     },
     "execution_count": 167,
     "metadata": {},
     "output_type": "execute_result"
    }
   ],
   "source": [
    "NormalTransactionModX.shape"
   ]
  },
  {
   "cell_type": "code",
   "execution_count": 168,
   "metadata": {},
   "outputs": [
    {
     "data": {
      "text/plain": [
       "(492, 29)"
      ]
     },
     "execution_count": 168,
     "metadata": {},
     "output_type": "execute_result"
    }
   ],
   "source": [
    "FraudTransactionModX.shape"
   ]
  },
  {
   "cell_type": "code",
   "execution_count": 169,
   "metadata": {},
   "outputs": [
    {
     "data": {
      "text/plain": [
       "284315"
      ]
     },
     "execution_count": 169,
     "metadata": {},
     "output_type": "execute_result"
    }
   ],
   "source": [
    "len(NormalTransactionModX)"
   ]
  },
  {
   "cell_type": "code",
   "execution_count": 170,
   "metadata": {
    "collapsed": true
   },
   "outputs": [],
   "source": [
    "NormalPlusFraudX = pd.concat([NormalTransactionModX, FraudTransactionModX])\n",
    "NormalPlusFraudY = pd.concat([NormalTransactionModY, FraudTransactionModY])"
   ]
  },
  {
   "cell_type": "code",
   "execution_count": 171,
   "metadata": {
    "collapsed": true
   },
   "outputs": [],
   "source": [
    "lr = LogisticRegression(C = Cbest)\n",
    "lr.fit(trainUnderSampleX, trainUnderSampleY)\n",
    "yPredFull = lr.predict(NormalPlusFraudX)\n",
    "svc = SVC(C = CbestSVC)\n",
    "svc.fit(trainUnderSampleX, trainUnderSampleY)\n",
    "yPredFullSVC = svc.predict(NormalPlusFraudX)"
   ]
  },
  {
   "cell_type": "code",
   "execution_count": 172,
   "metadata": {},
   "outputs": [
    {
     "name": "stdout",
     "output_type": "stream",
     "text": [
      "Recall score on the entire data:  0.936991869919\n",
      "Precision score on the entire data:  0.0194753073381\n",
      "F1 score on the entire data:  0.0381575135538\n"
     ]
    }
   ],
   "source": [
    "print 'Recall score on the entire data: ', recall_score(NormalPlusFraudY, yPredFull)\n",
    "print 'Precision score on the entire data: ', precision_score(NormalPlusFraudY, yPredFull)\n",
    "print 'F1 score on the entire data: ', f1_score(NormalPlusFraudY, yPredFull)"
   ]
  },
  {
   "cell_type": "code",
   "execution_count": 173,
   "metadata": {
    "collapsed": true
   },
   "outputs": [],
   "source": [
    "confMatrixFull = confusion_matrix(NormalPlusFraudY, yPredFull)"
   ]
  },
  {
   "cell_type": "code",
   "execution_count": 199,
   "metadata": {},
   "outputs": [
    {
     "data": {
      "image/png": "[encoded data removed]",
      "text/plain": [
       "<matplotlib.figure.Figure at 0x7fb4337d23d0>"
      ]
     },
     "metadata": {},
     "output_type": "display_data"
    }
   ],
   "source": [
    "sns.heatmap(confMatrixFull, annot= True, fmt = '.0f', annot_kws={'size': 14})\n",
    "_ = plt.xlabel('Predicted label', fontsize = 16)\n",
    "_ = plt.ylabel('Actual label', fontsize = 16)"
   ]
  },
  {
   "cell_type": "code",
   "execution_count": 175,
   "metadata": {},
   "outputs": [
    {
     "name": "stdout",
     "output_type": "stream",
     "text": [
      "Recall score on the entire data with SVC:  0.965447154472\n",
      "Precision score on the entire data with SVC:  0.0186172297562\n",
      "F1 score on the entire data with SVC:  0.0365300315312\n"
     ]
    }
   ],
   "source": [
    "print 'Recall score on the entire data with SVC: ', recall_score(NormalPlusFraudY, yPredFullSVC)\n",
    "print 'Precision score on the entire data with SVC: ', precision_score(NormalPlusFraudY, yPredFullSVC)\n",
    "print 'F1 score on the entire data with SVC: ', f1_score(NormalPlusFraudY, yPredFullSVC)"
   ]
  },
  {
   "cell_type": "code",
   "execution_count": 176,
   "metadata": {
    "collapsed": true
   },
   "outputs": [],
   "source": [
    "confMatrixFullSVC = confusion_matrix(NormalPlusFraudY, yPredFullSVC)"
   ]
  },
  {
   "cell_type": "code",
   "execution_count": 200,
   "metadata": {},
   "outputs": [
    {
     "data": {
      "image/png": "[encoded data removed]",
      "text/plain": [
       "<matplotlib.figure.Figure at 0x7fb42ae10fd0>"
      ]
     },
     "metadata": {},
     "output_type": "display_data"
    }
   ],
   "source": [
    "sns.heatmap(confMatrixFullSVC, annot= True, fmt = '.0f', annot_kws={'size': 14})\n",
    "_ = plt.xlabel('Predicted label', fontsize = 16)\n",
    "_ = plt.ylabel('Actual label', fontsize = 16)"
   ]
  },
  {
   "cell_type": "markdown",
   "metadata": {},
   "source": [
    "** A large false positive rate, but a small false negative rate. **\n",
    "\n",
    "Although decreasing FN is the most important. The next improvement on the model would be decreasing FP (we don't wanna irritate the customers). One possible way to do this (while keeping the FN rate low) is to employ feature engineering. This will involve looking at the features which are in the tail for normal transactions as well and engineering new features which drive these examples from tail into the body. \n",
    "\n",
    "Of course, the other way is to use the Anomaly detection algorithms which shall form basis of next notebook. "
   ]
  },
  {
   "cell_type": "markdown",
   "metadata": {},
   "source": [
    "### ROC: receiver operating characteristic curve\n",
    "\n",
    "ROC plots the True positive rate vs. the false positive rate.\n",
    "\n",
    "True positive rate: This is nothing but recall (TP / (TP + FN)) -- when it's actually yes, how often does it predict yes. \n",
    "\n",
    "False positive rate: When it's actually no, how often does it predict yes. (FP/ actual no = FP / (FP + TN))\n",
    "\n",
    "ROC curve illustrates the diagnostic ability of a binary classifier system as its discrimination threshold is varied. Accuracy is measured by the area under the ROC curve. An area of 1 represents a perfect test; an area of 0.5 worthless test. "
   ]
  },
  {
   "cell_type": "markdown",
   "metadata": {},
   "source": [
    "roc_curve syntax is as follows:\n",
    "\n",
    "sklearn.metrics.roc_curve(y_true, y_score, pos_label=None, sample_weight=None, drop_intermediate=True)\n",
    "\n",
    "y_true: true binary labels in range {0, 1} or {-1, 1}\n",
    "\n",
    "y_score: Target scores, can either be probability estimates of the positive class, confidence values, or non-thresholded measure of decisions (as returned by “decision_function” on some classifiers). "
   ]
  },
  {
   "cell_type": "code",
   "execution_count": 178,
   "metadata": {
    "collapsed": true
   },
   "outputs": [],
   "source": [
    "lr = LogisticRegression(C = Cbest)\n",
    "lr.fit(trainUnderSampleX, trainUnderSampleY)\n",
    "yTestScore = lr.decision_function(testUnderSampleX.values)\n",
    "\n",
    "fpr, tpr, threshold = roc_curve(testUnderSampleY, yTestScore)"
   ]
  },
  {
   "cell_type": "code",
   "execution_count": 179,
   "metadata": {},
   "outputs": [
    {
     "data": {
      "text/plain": [
       "array([ 11.55780411,   3.47275146,   6.71822229,   4.65169159,  -0.56686014])"
      ]
     },
     "execution_count": 179,
     "metadata": {},
     "output_type": "execute_result"
    }
   ],
   "source": [
    "yTestScore[:5]"
   ]
  },
  {
   "cell_type": "markdown",
   "metadata": {},
   "source": [
    "Decision function predicts confidence scores for samples.\n",
    "The confidence score for a sample is the signed distance of that sample to the hyperplane. Therefore it can be negative."
   ]
  },
  {
   "cell_type": "code",
   "execution_count": 180,
   "metadata": {},
   "outputs": [
    {
     "data": {
      "text/plain": [
       "array([ 0.        ,  0.        ,  0.        ,  0.        ,  0.        ,\n",
       "        0.        ,  0.        ,  0.        ,  0.02040816,  0.02040816,\n",
       "        0.02721088,  0.02721088,  0.03401361,  0.03401361,  0.04081633,\n",
       "        0.04081633,  0.04761905,  0.04761905,  0.06802721,  0.06802721,\n",
       "        0.11564626,  0.11564626,  0.15646259,  0.15646259,  0.19047619,\n",
       "        0.19047619,  0.3537415 ,  0.3537415 ,  0.36734694,  0.36734694,\n",
       "        0.40816327,  0.40816327,  0.46938776,  0.46938776,  0.92517007,\n",
       "        0.92517007,  0.93197279,  0.93197279,  1.        ])"
      ]
     },
     "execution_count": 180,
     "metadata": {},
     "output_type": "execute_result"
    }
   ],
   "source": [
    "fpr"
   ]
  },
  {
   "cell_type": "code",
   "execution_count": 181,
   "metadata": {},
   "outputs": [
    {
     "data": {
      "text/plain": [
       "array([  1.46167132e+01,   1.46159578e+01,   1.42938209e+01,\n",
       "         1.34637522e+01,   1.33934843e+01,   9.27796914e+00,\n",
       "         8.39297119e+00,   1.39858365e+00,   1.09032063e+00,\n",
       "         1.08165000e+00,   1.06972258e+00,   8.60286792e-01,\n",
       "         8.49901932e-01,   5.29898093e-01,   4.85927049e-01,\n",
       "         4.38825679e-01,   4.20316948e-01,   3.50870466e-01,\n",
       "         2.45656023e-01,   2.18737268e-01,   4.78839065e-02,\n",
       "        -1.20865245e-03,  -5.24996860e-02,  -5.36652596e-02,\n",
       "        -1.73283338e-01,  -2.01103497e-01,  -4.63202741e-01,\n",
       "        -4.73159541e-01,  -4.85038805e-01,  -4.98449135e-01,\n",
       "        -5.24258869e-01,  -5.24303963e-01,  -5.55799985e-01,\n",
       "        -5.65097077e-01,  -8.61859693e-01,  -8.68640980e-01,\n",
       "        -8.71123423e-01,  -8.91353975e-01,  -9.99727705e-01])"
      ]
     },
     "execution_count": 181,
     "metadata": {},
     "output_type": "execute_result"
    }
   ],
   "source": [
    "threshold"
   ]
  },
  {
   "cell_type": "code",
   "execution_count": 182,
   "metadata": {
    "collapsed": true
   },
   "outputs": [],
   "source": [
    "roc_auc = roc_auc_score(testUnderSampleY, yTestScore)\n",
    "\n",
    "# Can also use the general area under the curve function: auc(fpr,tpr)"
   ]
  },
  {
   "cell_type": "code",
   "execution_count": 183,
   "metadata": {},
   "outputs": [
    {
     "data": {
      "image/png": "[encoded data removed]",
      "text/plain": [
       "<matplotlib.figure.Figure at 0x7fb42aacea10>"
      ]
     },
     "metadata": {},
     "output_type": "display_data"
    }
   ],
   "source": [
    "plt.title('Receiver Operating Characteristic')\n",
    "plt.plot(fpr, tpr, 'b',label='AUC = %0.2f'% roc_auc)\n",
    "plt.legend(loc='lower right')\n",
    "plt.plot([0,1],[0,1],'r--')\n",
    "plt.xlim([-0.1,1.0])\n",
    "plt.ylim([-0.1,1.01])\n",
    "plt.ylabel('True Positive Rate')\n",
    "plt.xlabel('False Positive Rate')\n",
    "plt.show()"
   ]
  },
  {
   "cell_type": "markdown",
   "metadata": {},
   "source": [
    "Looks great.  Our model works fine. "
   ]
  },
  {
   "cell_type": "markdown",
   "metadata": {},
   "source": [
    "### Changing threshold\n",
    "\n",
    "The predict_proba() method returns the probabilities for each class. The idea is that by changing the threshold to assign a record to class 1, we can control the precision and the recall.  "
   ]
  },
  {
   "cell_type": "code",
   "execution_count": 184,
   "metadata": {
    "collapsed": true
   },
   "outputs": [],
   "source": [
    "lr = LogisticRegression(C = Cbest)\n",
    "lr.fit(trainUnderSampleX, trainUnderSampleY)\n",
    "yPredUnderSampleProba = lr.predict_proba(testUnderSampleX)\n",
    "yTestScore = lr.decision_function(testUnderSampleX)\n",
    "\n",
    "thresholds = [0.1,0.2,0.3,0.4,0.5,0.6,0.7,0.8,0.9]"
   ]
  },
  {
   "cell_type": "code",
   "execution_count": 185,
   "metadata": {},
   "outputs": [
    {
     "name": "stdout",
     "output_type": "stream",
     "text": [
      "Threshold =  0.1 , recall =  1.0 , precision =  0.503378378378 , f1_score =  0.669662921348\n",
      "Threshold =  0.2 , recall =  1.0 , precision =  0.503378378378 , f1_score =  0.669662921348\n",
      "Threshold =  0.3 , recall =  0.986577181208 , precision =  0.52688172043 , f1_score =  0.68691588785\n",
      "Threshold =  0.4 , recall =  0.953020134228 , precision =  0.767567567568 , f1_score =  0.850299401198\n",
      "Threshold =  0.5 , recall =  0.93288590604 , precision =  0.891025641026 , f1_score =  0.911475409836\n",
      "Threshold =  0.6 , recall =  0.89932885906 , precision =  0.950354609929 , f1_score =  0.924137931034\n",
      "Threshold =  0.7 , recall =  0.852348993289 , precision =  0.962121212121 , f1_score =  0.903914590747\n",
      "Threshold =  0.8 , recall =  0.825503355705 , precision =  1.0 , f1_score =  0.904411764706\n",
      "Threshold =  0.9 , recall =  0.785234899329 , precision =  1.0 , f1_score =  0.87969924812\n"
     ]
    },
    {
     "data": {
      "image/png": "[encoded data removed]",
      "text/plain": [
       "<matplotlib.figure.Figure at 0x7fb42aad7ad0>"
      ]
     },
     "metadata": {},
     "output_type": "display_data"
    }
   ],
   "source": [
    "plt.figure(figsize = (14,14))\n",
    "\n",
    "j = 1\n",
    "\n",
    "for i in thresholds:\n",
    "    \n",
    "    yTestPred = yPredUnderSampleProba[:, 1] > i\n",
    "    \n",
    "    plt.subplot(3, 3, j)\n",
    "    \n",
    "    j += 1\n",
    "    \n",
    "    print 'Threshold = ', i, ', recall = ', recall_score(testUnderSampleY, yTestPred), \\\n",
    "          ', precision = ', precision_score(testUnderSampleY, yTestPred), \\\n",
    "          ', f1_score = ', f1_score(testUnderSampleY, yTestPred)\n",
    "    \n",
    "    sns.heatmap(confusion_matrix(testUnderSampleY, yTestPred), annot= True, fmt = '.0f')\n",
    "    plt.xlabel('Predicted label')\n",
    "    plt.ylabel('Actual label')\n",
    "    plt.title('Threshold = %0.1f' %i)"
   ]
  },
  {
   "cell_type": "markdown",
   "metadata": {},
   "source": [
    "It's clear that when the threshold is low, everything is classified as an anomaly. As threshold is steadily increased, more examples are transfered from \"1\" class to \"0\" class.  It's also clear that some examples are so anamolous that even with very large threshold, they are still classified as anamolous. "
   ]
  },
  {
   "cell_type": "markdown",
   "metadata": {},
   "source": [
    "Let's look at the precision recall curve which shows the value for precision and recall for different thresholds. \n",
    "\n",
    "The precision recall curve function from the from sklearn.metrics require y_true and probas_pred. \n",
    "The documentation says that probas_pred are the estimated probabilities or decision function. Below we test both."
   ]
  },
  {
   "cell_type": "markdown",
   "metadata": {},
   "source": [
    "The predict predict_proba method gives the probability for the class 0 and class 1. (Spits an array of size numberSample x 2). Of course the probabilities for class 0 and class 1 for each sample add to 1.\n",
    "\n",
    "The decision function gives the confidence score -- signed distance of that sample to the hyperplane."
   ]
  },
  {
   "cell_type": "code",
   "execution_count": 186,
   "metadata": {
    "collapsed": true
   },
   "outputs": [],
   "source": [
    "#yPredUnderSampleProba = lr.predict_proba(testUnderSampleX)\n",
    "#yTestScore = lr.decision_function(testUnderSampleX)\n",
    "\n",
    "pr, recall, thresh = precision_recall_curve(testUnderSampleY, yTestScore)\n",
    "pr1, recall1, thresh1 = precision_recall_curve(testUnderSampleY, yPredUnderSampleProba[:,0])\n",
    "#using the probability for getting 0\n",
    "pr2, recall2, thresh2 = precision_recall_curve(testUnderSampleY, yPredUnderSampleProba[:,1])\n",
    "#using the probability for getting 1. "
   ]
  },
  {
   "cell_type": "code",
   "execution_count": 201,
   "metadata": {},
   "outputs": [
    {
     "data": {
      "image/png": "[encoded data removed]",
      "text/plain": [
       "<matplotlib.figure.Figure at 0x7fb42f082b50>"
      ]
     },
     "metadata": {},
     "output_type": "display_data"
    }
   ],
   "source": [
    "_ = plt.plot(recall, pr)\n",
    "_ = plt.xlabel('recall')\n",
    "_ = plt.ylabel('precision')\n",
    "_ = plt.title('Using decision function score')"
   ]
  },
  {
   "cell_type": "code",
   "execution_count": 202,
   "metadata": {},
   "outputs": [
    {
     "data": {
      "image/png": "[encoded data removed]",
      "text/plain": [
       "<matplotlib.figure.Figure at 0x7fb42aca4fd0>"
      ]
     },
     "metadata": {},
     "output_type": "display_data"
    }
   ],
   "source": [
    "_ = plt.plot(recall1, pr1)\n",
    "_ = plt.xlabel('recall')\n",
    "_ = plt.ylabel('precision')\n",
    "_ = plt.title('Using probability for getting class 0')"
   ]
  },
  {
   "cell_type": "markdown",
   "metadata": {},
   "source": [
    "Evidently, using probability for class 0 as the score in the precision-recall function gives garbage answer. "
   ]
  },
  {
   "cell_type": "code",
   "execution_count": 203,
   "metadata": {},
   "outputs": [
    {
     "data": {
      "image/png": "[encoded data removed]",
      "text/plain": [
       "<matplotlib.figure.Figure at 0x7fb42efb7ed0>"
      ]
     },
     "metadata": {},
     "output_type": "display_data"
    }
   ],
   "source": [
    "_ = plt.plot(recall2, pr2)\n",
    "_ = plt.xlabel('recall')\n",
    "_ = plt.ylabel('precision')\n",
    "_ = plt.title('Using probability for getting class 1')"
   ]
  },
  {
   "cell_type": "markdown",
   "metadata": {},
   "source": [
    "Same answer as by using the score from decision function.\n",
    "\n",
    "Let's look at precision and recall as a function of threshold and precision."
   ]
  },
  {
   "cell_type": "code",
   "execution_count": 190,
   "metadata": {},
   "outputs": [
    {
     "data": {
      "text/plain": [
       "(284,)"
      ]
     },
     "execution_count": 190,
     "metadata": {},
     "output_type": "execute_result"
    }
   ],
   "source": [
    "pr.shape"
   ]
  },
  {
   "cell_type": "code",
   "execution_count": 191,
   "metadata": {},
   "outputs": [
    {
     "data": {
      "text/plain": [
       "(284,)"
      ]
     },
     "execution_count": 191,
     "metadata": {},
     "output_type": "execute_result"
    }
   ],
   "source": [
    "recall.shape"
   ]
  },
  {
   "cell_type": "code",
   "execution_count": 192,
   "metadata": {},
   "outputs": [
    {
     "data": {
      "text/plain": [
       "(283,)"
      ]
     },
     "execution_count": 192,
     "metadata": {},
     "output_type": "execute_result"
    }
   ],
   "source": [
    "thresh.shape"
   ]
  },
  {
   "cell_type": "code",
   "execution_count": 193,
   "metadata": {},
   "outputs": [
    {
     "data": {
      "text/plain": [
       "(296, 29)"
      ]
     },
     "execution_count": 193,
     "metadata": {},
     "output_type": "execute_result"
    }
   ],
   "source": [
    "testUnderSampleX.shape"
   ]
  },
  {
   "cell_type": "code",
   "execution_count": 207,
   "metadata": {},
   "outputs": [
    {
     "data": {
      "image/png": "[encoded data removed]",
      "text/plain": [
       "<matplotlib.figure.Figure at 0x7fb42f082350>"
      ]
     },
     "metadata": {},
     "output_type": "display_data"
    }
   ],
   "source": [
    "_ = plt.figure(figsize = (8,4))\n",
    "_ = plt.subplot(1, 2, 1)\n",
    "_ = plt.plot(thresh2, pr2[0:len(pr2)-1])\n",
    "_ = plt.xlabel('threshold')\n",
    "_ = plt.ylabel('precision')\n",
    "_ = plt.subplot(1, 2, 2)\n",
    "_ = plt.plot(thresh2, recall2[0:len(recall2)-1])\n",
    "_ = plt.xlabel('threshold')\n",
    "_ = plt.ylabel('recall')\n",
    "_ = plt.suptitle('Threshold from prob for class 1 in P-R curve fn')"
   ]
  },
  {
   "cell_type": "code",
   "execution_count": 204,
   "metadata": {},
   "outputs": [
    {
     "data": {
      "image/png": "[encoded data removed]",
      "text/plain": [
       "<matplotlib.figure.Figure at 0x7fb42f0e03d0>"
      ]
     },
     "metadata": {},
     "output_type": "display_data"
    }
   ],
   "source": [
    "_ = plt.figure(figsize = (8,4))\n",
    "_ = plt.subplot(1, 2, 1)\n",
    "_ = plt.plot(thresh1, pr1[0:len(pr1)-1])\n",
    "_ = plt.xlabel('threshold')\n",
    "_ = plt.ylabel('precision')\n",
    "_ = plt.subplot(1, 2, 2)\n",
    "_ = plt.plot(thresh1, recall1[0:len(recall1)-1])\n",
    "_ = plt.xlabel('threshold')\n",
    "_ = plt.ylabel('recall')\n",
    "_ = plt.suptitle('Threshold from prob for class 0 in P-R curve fn')"
   ]
  },
  {
   "cell_type": "markdown",
   "metadata": {},
   "source": [
    "#### Obviously this is not right"
   ]
  },
  {
   "cell_type": "code",
   "execution_count": 205,
   "metadata": {},
   "outputs": [
    {
     "data": {
      "image/png": "[encoded data removed]",
      "text/plain": [
       "<matplotlib.figure.Figure at 0x7fb42ef9a290>"
      ]
     },
     "metadata": {},
     "output_type": "display_data"
    }
   ],
   "source": [
    "_ = plt.figure(figsize = (8,4))\n",
    "_ = plt.subplot(1, 2, 1)\n",
    "_ = plt.plot(thresh, pr[0:len(pr)-1])\n",
    "_ = plt.xlabel('threshold')\n",
    "_ = plt.ylabel('precision')\n",
    "_ = plt.subplot(1, 2, 2)\n",
    "_ = plt.plot(thresh, recall[0:len(recall)-1])\n",
    "_ = plt.xlabel('threshold')\n",
    "_ = plt.ylabel('recall')\n",
    "_ = plt.suptitle('Threshold from using scores from decision function in P-R curve fn')"
   ]
  },
  {
   "cell_type": "markdown",
   "metadata": {},
   "source": [
    "Threshold obtained from using the decision function scores in the precision_recall_curve function doesn't have the same interpretation as the threshold on probabilities.  "
   ]
  },
  {
   "cell_type": "markdown",
   "metadata": {},
   "source": [
    "** Selecting the most important features **\n",
    "\n",
    "Let's try looking at which are the most important features. "
   ]
  },
  {
   "cell_type": "code",
   "execution_count": 211,
   "metadata": {},
   "outputs": [
    {
     "data": {
      "text/plain": [
       "39459     0\n",
       "53441     0\n",
       "95053     0\n",
       "144754    1\n",
       "52466     1\n",
       "Name: Class, dtype: int64"
      ]
     },
     "execution_count": 211,
     "metadata": {},
     "output_type": "execute_result"
    }
   ],
   "source": [
    "trainUnderSampleY.head()"
   ]
  },
  {
   "cell_type": "code",
   "execution_count": 212,
   "metadata": {},
   "outputs": [],
   "source": [
    "UndersampleTrain = pd.concat([trainUnderSampleX, trainUnderSampleY])"
   ]
  },
  {
   "cell_type": "code",
   "execution_count": 213,
   "metadata": {},
   "outputs": [
    {
     "data": {
      "text/plain": [
       "(688, 29)"
      ]
     },
     "execution_count": 213,
     "metadata": {},
     "output_type": "execute_result"
    }
   ],
   "source": [
    "trainUnderSampleX.shape"
   ]
  },
  {
   "cell_type": "code",
   "execution_count": 217,
   "metadata": {},
   "outputs": [
    {
     "data": {
      "text/plain": [
       "39459     0\n",
       "53441     0\n",
       "95053     0\n",
       "144754    1\n",
       "52466     1\n",
       "Name: Class, dtype: int64"
      ]
     },
     "execution_count": 217,
     "metadata": {},
     "output_type": "execute_result"
    }
   ],
   "source": [
    "trainUnderSampleY.head()"
   ]
  },
  {
   "cell_type": "code",
   "execution_count": 218,
   "metadata": {},
   "outputs": [
    {
     "data": {
      "text/html": [
       "<div>\n",
       "<style>\n",
       "    .dataframe thead tr:only-child th {\n",
       "        text-align: right;\n",
       "    }\n",
       "\n",
       "    .dataframe thead th {\n",
       "        text-align: left;\n",
       "    }\n",
       "\n",
       "    .dataframe tbody tr th {\n",
       "        vertical-align: top;\n",
       "    }\n",
       "</style>\n",
       "<table border=\"1\" class=\"dataframe\">\n",
       "  <thead>\n",
       "    <tr style=\"text-align: right;\">\n",
       "      <th></th>\n",
       "      <th>V1</th>\n",
       "      <th>V2</th>\n",
       "      <th>V3</th>\n",
       "      <th>V4</th>\n",
       "      <th>V5</th>\n",
       "      <th>V6</th>\n",
       "      <th>V7</th>\n",
       "      <th>V8</th>\n",
       "      <th>V9</th>\n",
       "      <th>V10</th>\n",
       "      <th>...</th>\n",
       "      <th>V20</th>\n",
       "      <th>V21</th>\n",
       "      <th>V22</th>\n",
       "      <th>V23</th>\n",
       "      <th>V24</th>\n",
       "      <th>V25</th>\n",
       "      <th>V26</th>\n",
       "      <th>V27</th>\n",
       "      <th>V28</th>\n",
       "      <th>normAmount</th>\n",
       "    </tr>\n",
       "  </thead>\n",
       "  <tbody>\n",
       "    <tr>\n",
       "      <th>2806</th>\n",
       "      <td>-1.303390</td>\n",
       "      <td>1.451622</td>\n",
       "      <td>0.210419</td>\n",
       "      <td>-0.365147</td>\n",
       "      <td>-0.314256</td>\n",
       "      <td>-0.081985</td>\n",
       "      <td>-0.287094</td>\n",
       "      <td>1.138562</td>\n",
       "      <td>-0.394935</td>\n",
       "      <td>-0.218745</td>\n",
       "      <td>...</td>\n",
       "      <td>-0.086101</td>\n",
       "      <td>-0.225017</td>\n",
       "      <td>-0.919637</td>\n",
       "      <td>-0.043687</td>\n",
       "      <td>-0.919111</td>\n",
       "      <td>-0.044095</td>\n",
       "      <td>0.142735</td>\n",
       "      <td>0.111400</td>\n",
       "      <td>0.016982</td>\n",
       "      <td>-0.313328</td>\n",
       "    </tr>\n",
       "    <tr>\n",
       "      <th>247029</th>\n",
       "      <td>2.004995</td>\n",
       "      <td>-0.943807</td>\n",
       "      <td>-1.253053</td>\n",
       "      <td>-0.700827</td>\n",
       "      <td>-0.752537</td>\n",
       "      <td>-0.407215</td>\n",
       "      <td>-1.039084</td>\n",
       "      <td>0.108554</td>\n",
       "      <td>-0.064436</td>\n",
       "      <td>0.250725</td>\n",
       "      <td>...</td>\n",
       "      <td>0.108886</td>\n",
       "      <td>0.306500</td>\n",
       "      <td>0.740068</td>\n",
       "      <td>0.099601</td>\n",
       "      <td>0.639953</td>\n",
       "      <td>-0.218457</td>\n",
       "      <td>-0.145786</td>\n",
       "      <td>0.004241</td>\n",
       "      <td>-0.007433</td>\n",
       "      <td>-0.077361</td>\n",
       "    </tr>\n",
       "    <tr>\n",
       "      <th>156985</th>\n",
       "      <td>0.028934</td>\n",
       "      <td>1.194791</td>\n",
       "      <td>-0.085263</td>\n",
       "      <td>-0.018869</td>\n",
       "      <td>0.912909</td>\n",
       "      <td>-1.175212</td>\n",
       "      <td>1.010390</td>\n",
       "      <td>-0.378855</td>\n",
       "      <td>1.046169</td>\n",
       "      <td>-1.421956</td>\n",
       "      <td>...</td>\n",
       "      <td>-0.135690</td>\n",
       "      <td>0.186787</td>\n",
       "      <td>0.931965</td>\n",
       "      <td>-0.245178</td>\n",
       "      <td>-0.201505</td>\n",
       "      <td>-0.512354</td>\n",
       "      <td>-0.192555</td>\n",
       "      <td>0.208723</td>\n",
       "      <td>0.236633</td>\n",
       "      <td>-0.333279</td>\n",
       "    </tr>\n",
       "    <tr>\n",
       "      <th>144754</th>\n",
       "      <td>-0.670238</td>\n",
       "      <td>0.945206</td>\n",
       "      <td>0.610051</td>\n",
       "      <td>2.640065</td>\n",
       "      <td>-2.707775</td>\n",
       "      <td>1.952611</td>\n",
       "      <td>-1.624608</td>\n",
       "      <td>-5.229908</td>\n",
       "      <td>0.210202</td>\n",
       "      <td>-2.069904</td>\n",
       "      <td>...</td>\n",
       "      <td>1.474929</td>\n",
       "      <td>-2.504450</td>\n",
       "      <td>1.436472</td>\n",
       "      <td>0.351542</td>\n",
       "      <td>0.648467</td>\n",
       "      <td>0.579681</td>\n",
       "      <td>0.075738</td>\n",
       "      <td>0.346717</td>\n",
       "      <td>0.282209</td>\n",
       "      <td>0.941231</td>\n",
       "    </tr>\n",
       "    <tr>\n",
       "      <th>52466</th>\n",
       "      <td>-1.476893</td>\n",
       "      <td>2.122314</td>\n",
       "      <td>-1.229470</td>\n",
       "      <td>1.201849</td>\n",
       "      <td>-0.343264</td>\n",
       "      <td>-1.317704</td>\n",
       "      <td>-1.528142</td>\n",
       "      <td>-0.620953</td>\n",
       "      <td>-1.213040</td>\n",
       "      <td>-2.975267</td>\n",
       "      <td>...</td>\n",
       "      <td>0.276893</td>\n",
       "      <td>1.186036</td>\n",
       "      <td>-0.040215</td>\n",
       "      <td>-0.238930</td>\n",
       "      <td>0.110144</td>\n",
       "      <td>0.045418</td>\n",
       "      <td>-0.569232</td>\n",
       "      <td>0.481019</td>\n",
       "      <td>-0.047555</td>\n",
       "      <td>-0.349231</td>\n",
       "    </tr>\n",
       "  </tbody>\n",
       "</table>\n",
       "<p>5 rows × 29 columns</p>\n",
       "</div>"
      ],
      "text/plain": [
       "              V1        V2        V3        V4        V5        V6        V7  \\\n",
       "2806   -1.303390  1.451622  0.210419 -0.365147 -0.314256 -0.081985 -0.287094   \n",
       "247029  2.004995 -0.943807 -1.253053 -0.700827 -0.752537 -0.407215 -1.039084   \n",
       "156985  0.028934  1.194791 -0.085263 -0.018869  0.912909 -1.175212  1.010390   \n",
       "144754 -0.670238  0.945206  0.610051  2.640065 -2.707775  1.952611 -1.624608   \n",
       "52466  -1.476893  2.122314 -1.229470  1.201849 -0.343264 -1.317704 -1.528142   \n",
       "\n",
       "              V8        V9       V10     ...           V20       V21  \\\n",
       "2806    1.138562 -0.394935 -0.218745     ...     -0.086101 -0.225017   \n",
       "247029  0.108554 -0.064436  0.250725     ...      0.108886  0.306500   \n",
       "156985 -0.378855  1.046169 -1.421956     ...     -0.135690  0.186787   \n",
       "144754 -5.229908  0.210202 -2.069904     ...      1.474929 -2.504450   \n",
       "52466  -0.620953 -1.213040 -2.975267     ...      0.276893  1.186036   \n",
       "\n",
       "             V22       V23       V24       V25       V26       V27       V28  \\\n",
       "2806   -0.919637 -0.043687 -0.919111 -0.044095  0.142735  0.111400  0.016982   \n",
       "247029  0.740068  0.099601  0.639953 -0.218457 -0.145786  0.004241 -0.007433   \n",
       "156985  0.931965 -0.245178 -0.201505 -0.512354 -0.192555  0.208723  0.236633   \n",
       "144754  1.436472  0.351542  0.648467  0.579681  0.075738  0.346717  0.282209   \n",
       "52466  -0.040215 -0.238930  0.110144  0.045418 -0.569232  0.481019 -0.047555   \n",
       "\n",
       "        normAmount  \n",
       "2806     -0.313328  \n",
       "247029   -0.077361  \n",
       "156985   -0.333279  \n",
       "144754    0.941231  \n",
       "52466    -0.349231  \n",
       "\n",
       "[5 rows x 29 columns]"
      ]
     },
     "execution_count": 218,
     "metadata": {},
     "output_type": "execute_result"
    }
   ],
   "source": [
    "trainUnderSampleX.head()"
   ]
  },
  {
   "cell_type": "code",
   "execution_count": 220,
   "metadata": {},
   "outputs": [
    {
     "data": {
      "text/html": [
       "<div>\n",
       "<style>\n",
       "    .dataframe thead tr:only-child th {\n",
       "        text-align: right;\n",
       "    }\n",
       "\n",
       "    .dataframe thead th {\n",
       "        text-align: left;\n",
       "    }\n",
       "\n",
       "    .dataframe tbody tr th {\n",
       "        vertical-align: top;\n",
       "    }\n",
       "</style>\n",
       "<table border=\"1\" class=\"dataframe\">\n",
       "  <thead>\n",
       "    <tr style=\"text-align: right;\">\n",
       "      <th></th>\n",
       "      <th>0</th>\n",
       "      <th>V1</th>\n",
       "      <th>V10</th>\n",
       "      <th>V11</th>\n",
       "      <th>V12</th>\n",
       "      <th>V13</th>\n",
       "      <th>V14</th>\n",
       "      <th>V15</th>\n",
       "      <th>V16</th>\n",
       "      <th>V17</th>\n",
       "      <th>...</th>\n",
       "      <th>V27</th>\n",
       "      <th>V28</th>\n",
       "      <th>V3</th>\n",
       "      <th>V4</th>\n",
       "      <th>V5</th>\n",
       "      <th>V6</th>\n",
       "      <th>V7</th>\n",
       "      <th>V8</th>\n",
       "      <th>V9</th>\n",
       "      <th>normAmount</th>\n",
       "    </tr>\n",
       "  </thead>\n",
       "  <tbody>\n",
       "    <tr>\n",
       "      <th>2806</th>\n",
       "      <td>NaN</td>\n",
       "      <td>-1.303390</td>\n",
       "      <td>-0.218745</td>\n",
       "      <td>-0.380866</td>\n",
       "      <td>-0.553738</td>\n",
       "      <td>-1.864986</td>\n",
       "      <td>1.257116</td>\n",
       "      <td>0.407747</td>\n",
       "      <td>1.062258</td>\n",
       "      <td>-0.618120</td>\n",
       "      <td>...</td>\n",
       "      <td>0.111400</td>\n",
       "      <td>0.016982</td>\n",
       "      <td>0.210419</td>\n",
       "      <td>-0.365147</td>\n",
       "      <td>-0.314256</td>\n",
       "      <td>-0.081985</td>\n",
       "      <td>-0.287094</td>\n",
       "      <td>1.138562</td>\n",
       "      <td>-0.394935</td>\n",
       "      <td>-0.313328</td>\n",
       "    </tr>\n",
       "    <tr>\n",
       "      <th>247029</th>\n",
       "      <td>NaN</td>\n",
       "      <td>2.004995</td>\n",
       "      <td>0.250725</td>\n",
       "      <td>1.204899</td>\n",
       "      <td>-0.630491</td>\n",
       "      <td>-0.889726</td>\n",
       "      <td>-1.711951</td>\n",
       "      <td>-0.212598</td>\n",
       "      <td>1.930003</td>\n",
       "      <td>1.173226</td>\n",
       "      <td>...</td>\n",
       "      <td>0.004241</td>\n",
       "      <td>-0.007433</td>\n",
       "      <td>-1.253053</td>\n",
       "      <td>-0.700827</td>\n",
       "      <td>-0.752537</td>\n",
       "      <td>-0.407215</td>\n",
       "      <td>-1.039084</td>\n",
       "      <td>0.108554</td>\n",
       "      <td>-0.064436</td>\n",
       "      <td>-0.077361</td>\n",
       "    </tr>\n",
       "    <tr>\n",
       "      <th>156985</th>\n",
       "      <td>NaN</td>\n",
       "      <td>0.028934</td>\n",
       "      <td>-1.421956</td>\n",
       "      <td>0.365134</td>\n",
       "      <td>-2.829262</td>\n",
       "      <td>1.585014</td>\n",
       "      <td>0.669308</td>\n",
       "      <td>-0.014241</td>\n",
       "      <td>-0.089336</td>\n",
       "      <td>1.223423</td>\n",
       "      <td>...</td>\n",
       "      <td>0.208723</td>\n",
       "      <td>0.236633</td>\n",
       "      <td>-0.085263</td>\n",
       "      <td>-0.018869</td>\n",
       "      <td>0.912909</td>\n",
       "      <td>-1.175212</td>\n",
       "      <td>1.010390</td>\n",
       "      <td>-0.378855</td>\n",
       "      <td>1.046169</td>\n",
       "      <td>-0.333279</td>\n",
       "    </tr>\n",
       "    <tr>\n",
       "      <th>144754</th>\n",
       "      <td>NaN</td>\n",
       "      <td>-0.670238</td>\n",
       "      <td>-2.069904</td>\n",
       "      <td>-0.529806</td>\n",
       "      <td>0.999716</td>\n",
       "      <td>-0.086112</td>\n",
       "      <td>-1.508557</td>\n",
       "      <td>-0.450669</td>\n",
       "      <td>-0.328387</td>\n",
       "      <td>2.270271</td>\n",
       "      <td>...</td>\n",
       "      <td>0.346717</td>\n",
       "      <td>0.282209</td>\n",
       "      <td>0.610051</td>\n",
       "      <td>2.640065</td>\n",
       "      <td>-2.707775</td>\n",
       "      <td>1.952611</td>\n",
       "      <td>-1.624608</td>\n",
       "      <td>-5.229908</td>\n",
       "      <td>0.210202</td>\n",
       "      <td>0.941231</td>\n",
       "    </tr>\n",
       "    <tr>\n",
       "      <th>52466</th>\n",
       "      <td>NaN</td>\n",
       "      <td>-1.476893</td>\n",
       "      <td>-2.975267</td>\n",
       "      <td>3.532220</td>\n",
       "      <td>-3.682640</td>\n",
       "      <td>-1.154777</td>\n",
       "      <td>-5.165229</td>\n",
       "      <td>-0.240091</td>\n",
       "      <td>-2.404927</td>\n",
       "      <td>-5.671739</td>\n",
       "      <td>...</td>\n",
       "      <td>0.481019</td>\n",
       "      <td>-0.047555</td>\n",
       "      <td>-1.229470</td>\n",
       "      <td>1.201849</td>\n",
       "      <td>-0.343264</td>\n",
       "      <td>-1.317704</td>\n",
       "      <td>-1.528142</td>\n",
       "      <td>-0.620953</td>\n",
       "      <td>-1.213040</td>\n",
       "      <td>-0.349231</td>\n",
       "    </tr>\n",
       "  </tbody>\n",
       "</table>\n",
       "<p>5 rows × 30 columns</p>\n",
       "</div>"
      ],
      "text/plain": [
       "         0        V1       V10       V11       V12       V13       V14  \\\n",
       "2806   NaN -1.303390 -0.218745 -0.380866 -0.553738 -1.864986  1.257116   \n",
       "247029 NaN  2.004995  0.250725  1.204899 -0.630491 -0.889726 -1.711951   \n",
       "156985 NaN  0.028934 -1.421956  0.365134 -2.829262  1.585014  0.669308   \n",
       "144754 NaN -0.670238 -2.069904 -0.529806  0.999716 -0.086112 -1.508557   \n",
       "52466  NaN -1.476893 -2.975267  3.532220 -3.682640 -1.154777 -5.165229   \n",
       "\n",
       "             V15       V16       V17     ...           V27       V28  \\\n",
       "2806    0.407747  1.062258 -0.618120     ...      0.111400  0.016982   \n",
       "247029 -0.212598  1.930003  1.173226     ...      0.004241 -0.007433   \n",
       "156985 -0.014241 -0.089336  1.223423     ...      0.208723  0.236633   \n",
       "144754 -0.450669 -0.328387  2.270271     ...      0.346717  0.282209   \n",
       "52466  -0.240091 -2.404927 -5.671739     ...      0.481019 -0.047555   \n",
       "\n",
       "              V3        V4        V5        V6        V7        V8        V9  \\\n",
       "2806    0.210419 -0.365147 -0.314256 -0.081985 -0.287094  1.138562 -0.394935   \n",
       "247029 -1.253053 -0.700827 -0.752537 -0.407215 -1.039084  0.108554 -0.064436   \n",
       "156985 -0.085263 -0.018869  0.912909 -1.175212  1.010390 -0.378855  1.046169   \n",
       "144754  0.610051  2.640065 -2.707775  1.952611 -1.624608 -5.229908  0.210202   \n",
       "52466  -1.229470  1.201849 -0.343264 -1.317704 -1.528142 -0.620953 -1.213040   \n",
       "\n",
       "        normAmount  \n",
       "2806     -0.313328  \n",
       "247029   -0.077361  \n",
       "156985   -0.333279  \n",
       "144754    0.941231  \n",
       "52466    -0.349231  \n",
       "\n",
       "[5 rows x 30 columns]"
      ]
     },
     "execution_count": 220,
     "metadata": {},
     "output_type": "execute_result"
    }
   ],
   "source": [
    "UndersampleTrain.head()"
   ]
  },
  {
   "cell_type": "code",
   "execution_count": 221,
   "metadata": {},
   "outputs": [
    {
     "data": {
      "text/plain": [
       "(284315, 31)"
      ]
     },
     "execution_count": 221,
     "metadata": {},
     "output_type": "execute_result"
    }
   ],
   "source": [
    "NormalTransaction.shape"
   ]
  },
  {
   "cell_type": "code",
   "execution_count": 222,
   "metadata": {},
   "outputs": [
    {
     "data": {
      "text/plain": [
       "(492, 31)"
      ]
     },
     "execution_count": 222,
     "metadata": {},
     "output_type": "execute_result"
    }
   ],
   "source": [
    "FraudTransaction.shape"
   ]
  },
  {
   "cell_type": "code",
   "execution_count": 223,
   "metadata": {},
   "outputs": [
    {
     "data": {
      "text/plain": [
       "492"
      ]
     },
     "execution_count": 223,
     "metadata": {},
     "output_type": "execute_result"
    }
   ],
   "source": [
    "FraudTransaction.shape[0]"
   ]
  },
  {
   "cell_type": "code",
   "execution_count": 224,
   "metadata": {
    "collapsed": true
   },
   "outputs": [],
   "source": [
    "UnderSampleNormalTransaction = NormalTransaction.sample(n = FraudTransaction.shape[0])"
   ]
  },
  {
   "cell_type": "code",
   "execution_count": 225,
   "metadata": {
    "collapsed": true
   },
   "outputs": [],
   "source": [
    "UnderSampleNormalPlusFraud = pd.concat([UnderSampleNormalTransaction, FraudTransaction])"
   ]
  },
  {
   "cell_type": "code",
   "execution_count": 226,
   "metadata": {},
   "outputs": [
    {
     "data": {
      "text/html": [
       "<div>\n",
       "<style>\n",
       "    .dataframe thead tr:only-child th {\n",
       "        text-align: right;\n",
       "    }\n",
       "\n",
       "    .dataframe thead th {\n",
       "        text-align: left;\n",
       "    }\n",
       "\n",
       "    .dataframe tbody tr th {\n",
       "        vertical-align: top;\n",
       "    }\n",
       "</style>\n",
       "<table border=\"1\" class=\"dataframe\">\n",
       "  <thead>\n",
       "    <tr style=\"text-align: right;\">\n",
       "      <th></th>\n",
       "      <th>V1</th>\n",
       "      <th>V2</th>\n",
       "      <th>V3</th>\n",
       "      <th>V4</th>\n",
       "      <th>V5</th>\n",
       "      <th>V6</th>\n",
       "      <th>V7</th>\n",
       "      <th>V8</th>\n",
       "      <th>V9</th>\n",
       "      <th>V10</th>\n",
       "      <th>...</th>\n",
       "      <th>V22</th>\n",
       "      <th>V23</th>\n",
       "      <th>V24</th>\n",
       "      <th>V25</th>\n",
       "      <th>V26</th>\n",
       "      <th>V27</th>\n",
       "      <th>V28</th>\n",
       "      <th>Class</th>\n",
       "      <th>normAmount</th>\n",
       "      <th>normTime</th>\n",
       "    </tr>\n",
       "  </thead>\n",
       "  <tbody>\n",
       "    <tr>\n",
       "      <th>267000</th>\n",
       "      <td>-1.385301</td>\n",
       "      <td>2.012758</td>\n",
       "      <td>-1.404025</td>\n",
       "      <td>-0.679939</td>\n",
       "      <td>0.205607</td>\n",
       "      <td>-0.943622</td>\n",
       "      <td>0.410893</td>\n",
       "      <td>0.504008</td>\n",
       "      <td>0.548972</td>\n",
       "      <td>0.085895</td>\n",
       "      <td>...</td>\n",
       "      <td>-0.947125</td>\n",
       "      <td>0.199164</td>\n",
       "      <td>0.533189</td>\n",
       "      <td>-0.283900</td>\n",
       "      <td>0.079022</td>\n",
       "      <td>-0.149708</td>\n",
       "      <td>-0.078081</td>\n",
       "      <td>0</td>\n",
       "      <td>-0.305292</td>\n",
       "      <td>1.426867</td>\n",
       "    </tr>\n",
       "    <tr>\n",
       "      <th>228116</th>\n",
       "      <td>2.047479</td>\n",
       "      <td>-0.708486</td>\n",
       "      <td>-0.802881</td>\n",
       "      <td>-1.637358</td>\n",
       "      <td>-0.653100</td>\n",
       "      <td>-0.684198</td>\n",
       "      <td>-0.554278</td>\n",
       "      <td>-0.024632</td>\n",
       "      <td>1.899540</td>\n",
       "      <td>-0.781778</td>\n",
       "      <td>...</td>\n",
       "      <td>-0.421440</td>\n",
       "      <td>0.300151</td>\n",
       "      <td>-0.510425</td>\n",
       "      <td>-0.386514</td>\n",
       "      <td>-0.550001</td>\n",
       "      <td>0.021052</td>\n",
       "      <td>-0.053171</td>\n",
       "      <td>0</td>\n",
       "      <td>-0.321285</td>\n",
       "      <td>1.064502</td>\n",
       "    </tr>\n",
       "    <tr>\n",
       "      <th>168850</th>\n",
       "      <td>2.020765</td>\n",
       "      <td>-0.967323</td>\n",
       "      <td>-1.409797</td>\n",
       "      <td>-0.877021</td>\n",
       "      <td>0.369254</td>\n",
       "      <td>1.551308</td>\n",
       "      <td>-0.871212</td>\n",
       "      <td>0.418395</td>\n",
       "      <td>-0.529123</td>\n",
       "      <td>0.896373</td>\n",
       "      <td>...</td>\n",
       "      <td>-0.235324</td>\n",
       "      <td>0.300288</td>\n",
       "      <td>-0.946692</td>\n",
       "      <td>-0.453302</td>\n",
       "      <td>0.637371</td>\n",
       "      <td>-0.004462</td>\n",
       "      <td>-0.074363</td>\n",
       "      <td>0</td>\n",
       "      <td>-0.273268</td>\n",
       "      <td>0.518028</td>\n",
       "    </tr>\n",
       "    <tr>\n",
       "      <th>268511</th>\n",
       "      <td>-0.209294</td>\n",
       "      <td>1.207118</td>\n",
       "      <td>-0.939205</td>\n",
       "      <td>-0.716779</td>\n",
       "      <td>0.837066</td>\n",
       "      <td>-0.311177</td>\n",
       "      <td>0.513159</td>\n",
       "      <td>0.498703</td>\n",
       "      <td>-0.423601</td>\n",
       "      <td>-0.887885</td>\n",
       "      <td>...</td>\n",
       "      <td>-0.826938</td>\n",
       "      <td>0.098596</td>\n",
       "      <td>0.084701</td>\n",
       "      <td>-0.371345</td>\n",
       "      <td>0.124822</td>\n",
       "      <td>0.089676</td>\n",
       "      <td>0.007791</td>\n",
       "      <td>0</td>\n",
       "      <td>-0.317287</td>\n",
       "      <td>1.441102</td>\n",
       "    </tr>\n",
       "    <tr>\n",
       "      <th>67497</th>\n",
       "      <td>-1.105080</td>\n",
       "      <td>1.828850</td>\n",
       "      <td>-1.147194</td>\n",
       "      <td>-0.289847</td>\n",
       "      <td>0.918705</td>\n",
       "      <td>0.260664</td>\n",
       "      <td>0.061591</td>\n",
       "      <td>1.073447</td>\n",
       "      <td>-0.842993</td>\n",
       "      <td>-1.098197</td>\n",
       "      <td>...</td>\n",
       "      <td>-0.268704</td>\n",
       "      <td>-0.237598</td>\n",
       "      <td>-1.863215</td>\n",
       "      <td>-0.142803</td>\n",
       "      <td>0.387941</td>\n",
       "      <td>-0.026792</td>\n",
       "      <td>0.087290</td>\n",
       "      <td>0</td>\n",
       "      <td>-0.350191</td>\n",
       "      <td>-0.889736</td>\n",
       "    </tr>\n",
       "  </tbody>\n",
       "</table>\n",
       "<p>5 rows × 31 columns</p>\n",
       "</div>"
      ],
      "text/plain": [
       "              V1        V2        V3        V4        V5        V6        V7  \\\n",
       "267000 -1.385301  2.012758 -1.404025 -0.679939  0.205607 -0.943622  0.410893   \n",
       "228116  2.047479 -0.708486 -0.802881 -1.637358 -0.653100 -0.684198 -0.554278   \n",
       "168850  2.020765 -0.967323 -1.409797 -0.877021  0.369254  1.551308 -0.871212   \n",
       "268511 -0.209294  1.207118 -0.939205 -0.716779  0.837066 -0.311177  0.513159   \n",
       "67497  -1.105080  1.828850 -1.147194 -0.289847  0.918705  0.260664  0.061591   \n",
       "\n",
       "              V8        V9       V10    ...          V22       V23       V24  \\\n",
       "267000  0.504008  0.548972  0.085895    ...    -0.947125  0.199164  0.533189   \n",
       "228116 -0.024632  1.899540 -0.781778    ...    -0.421440  0.300151 -0.510425   \n",
       "168850  0.418395 -0.529123  0.896373    ...    -0.235324  0.300288 -0.946692   \n",
       "268511  0.498703 -0.423601 -0.887885    ...    -0.826938  0.098596  0.084701   \n",
       "67497   1.073447 -0.842993 -1.098197    ...    -0.268704 -0.237598 -1.863215   \n",
       "\n",
       "             V25       V26       V27       V28  Class  normAmount  normTime  \n",
       "267000 -0.283900  0.079022 -0.149708 -0.078081      0   -0.305292  1.426867  \n",
       "228116 -0.386514 -0.550001  0.021052 -0.053171      0   -0.321285  1.064502  \n",
       "168850 -0.453302  0.637371 -0.004462 -0.074363      0   -0.273268  0.518028  \n",
       "268511 -0.371345  0.124822  0.089676  0.007791      0   -0.317287  1.441102  \n",
       "67497  -0.142803  0.387941 -0.026792  0.087290      0   -0.350191 -0.889736  \n",
       "\n",
       "[5 rows x 31 columns]"
      ]
     },
     "execution_count": 226,
     "metadata": {},
     "output_type": "execute_result"
    }
   ],
   "source": [
    "UnderSampleNormalPlusFraud.head()"
   ]
  },
  {
   "cell_type": "code",
   "execution_count": 227,
   "metadata": {},
   "outputs": [
    {
     "data": {
      "text/html": [
       "<div>\n",
       "<style>\n",
       "    .dataframe thead tr:only-child th {\n",
       "        text-align: right;\n",
       "    }\n",
       "\n",
       "    .dataframe thead th {\n",
       "        text-align: left;\n",
       "    }\n",
       "\n",
       "    .dataframe tbody tr th {\n",
       "        vertical-align: top;\n",
       "    }\n",
       "</style>\n",
       "<table border=\"1\" class=\"dataframe\">\n",
       "  <thead>\n",
       "    <tr style=\"text-align: right;\">\n",
       "      <th></th>\n",
       "      <th>V1</th>\n",
       "      <th>V2</th>\n",
       "      <th>V3</th>\n",
       "      <th>V4</th>\n",
       "      <th>V5</th>\n",
       "      <th>V6</th>\n",
       "      <th>V7</th>\n",
       "      <th>V8</th>\n",
       "      <th>V9</th>\n",
       "      <th>V10</th>\n",
       "      <th>...</th>\n",
       "      <th>V22</th>\n",
       "      <th>V23</th>\n",
       "      <th>V24</th>\n",
       "      <th>V25</th>\n",
       "      <th>V26</th>\n",
       "      <th>V27</th>\n",
       "      <th>V28</th>\n",
       "      <th>Class</th>\n",
       "      <th>normAmount</th>\n",
       "      <th>normTime</th>\n",
       "    </tr>\n",
       "  </thead>\n",
       "  <tbody>\n",
       "    <tr>\n",
       "      <th>279863</th>\n",
       "      <td>-1.927883</td>\n",
       "      <td>1.125653</td>\n",
       "      <td>-4.518331</td>\n",
       "      <td>1.749293</td>\n",
       "      <td>-1.566487</td>\n",
       "      <td>-2.010494</td>\n",
       "      <td>-0.882850</td>\n",
       "      <td>0.697211</td>\n",
       "      <td>-2.064945</td>\n",
       "      <td>-5.587794</td>\n",
       "      <td>...</td>\n",
       "      <td>-0.319189</td>\n",
       "      <td>0.639419</td>\n",
       "      <td>-0.294885</td>\n",
       "      <td>0.537503</td>\n",
       "      <td>0.788395</td>\n",
       "      <td>0.292680</td>\n",
       "      <td>0.147968</td>\n",
       "      <td>1</td>\n",
       "      <td>1.206024</td>\n",
       "      <td>1.565196</td>\n",
       "    </tr>\n",
       "    <tr>\n",
       "      <th>280143</th>\n",
       "      <td>1.378559</td>\n",
       "      <td>1.289381</td>\n",
       "      <td>-5.004247</td>\n",
       "      <td>1.411850</td>\n",
       "      <td>0.442581</td>\n",
       "      <td>-1.326536</td>\n",
       "      <td>-1.413170</td>\n",
       "      <td>0.248525</td>\n",
       "      <td>-1.127396</td>\n",
       "      <td>-3.232153</td>\n",
       "      <td>...</td>\n",
       "      <td>0.028234</td>\n",
       "      <td>-0.145640</td>\n",
       "      <td>-0.081049</td>\n",
       "      <td>0.521875</td>\n",
       "      <td>0.739467</td>\n",
       "      <td>0.389152</td>\n",
       "      <td>0.186637</td>\n",
       "      <td>1</td>\n",
       "      <td>-0.350191</td>\n",
       "      <td>1.569513</td>\n",
       "    </tr>\n",
       "    <tr>\n",
       "      <th>280149</th>\n",
       "      <td>-0.676143</td>\n",
       "      <td>1.126366</td>\n",
       "      <td>-2.213700</td>\n",
       "      <td>0.468308</td>\n",
       "      <td>-1.120541</td>\n",
       "      <td>-0.003346</td>\n",
       "      <td>-2.234739</td>\n",
       "      <td>1.210158</td>\n",
       "      <td>-0.652250</td>\n",
       "      <td>-3.463891</td>\n",
       "      <td>...</td>\n",
       "      <td>0.834108</td>\n",
       "      <td>0.190944</td>\n",
       "      <td>0.032070</td>\n",
       "      <td>-0.739695</td>\n",
       "      <td>0.471111</td>\n",
       "      <td>0.385107</td>\n",
       "      <td>0.194361</td>\n",
       "      <td>1</td>\n",
       "      <td>-0.041818</td>\n",
       "      <td>1.569597</td>\n",
       "    </tr>\n",
       "    <tr>\n",
       "      <th>281144</th>\n",
       "      <td>-3.113832</td>\n",
       "      <td>0.585864</td>\n",
       "      <td>-5.399730</td>\n",
       "      <td>1.817092</td>\n",
       "      <td>-0.840618</td>\n",
       "      <td>-2.943548</td>\n",
       "      <td>-2.208002</td>\n",
       "      <td>1.058733</td>\n",
       "      <td>-1.632333</td>\n",
       "      <td>-5.245984</td>\n",
       "      <td>...</td>\n",
       "      <td>-0.269209</td>\n",
       "      <td>-0.456108</td>\n",
       "      <td>-0.183659</td>\n",
       "      <td>-0.328168</td>\n",
       "      <td>0.606116</td>\n",
       "      <td>0.884876</td>\n",
       "      <td>-0.253700</td>\n",
       "      <td>1</td>\n",
       "      <td>0.626302</td>\n",
       "      <td>1.582548</td>\n",
       "    </tr>\n",
       "    <tr>\n",
       "      <th>281674</th>\n",
       "      <td>1.991976</td>\n",
       "      <td>0.158476</td>\n",
       "      <td>-2.583441</td>\n",
       "      <td>0.408670</td>\n",
       "      <td>1.151147</td>\n",
       "      <td>-0.096695</td>\n",
       "      <td>0.223050</td>\n",
       "      <td>-0.068384</td>\n",
       "      <td>0.577829</td>\n",
       "      <td>-0.888722</td>\n",
       "      <td>...</td>\n",
       "      <td>-0.295135</td>\n",
       "      <td>-0.072173</td>\n",
       "      <td>-0.450261</td>\n",
       "      <td>0.313267</td>\n",
       "      <td>-0.289617</td>\n",
       "      <td>0.002988</td>\n",
       "      <td>-0.015309</td>\n",
       "      <td>1</td>\n",
       "      <td>-0.183191</td>\n",
       "      <td>1.590592</td>\n",
       "    </tr>\n",
       "  </tbody>\n",
       "</table>\n",
       "<p>5 rows × 31 columns</p>\n",
       "</div>"
      ],
      "text/plain": [
       "              V1        V2        V3        V4        V5        V6        V7  \\\n",
       "279863 -1.927883  1.125653 -4.518331  1.749293 -1.566487 -2.010494 -0.882850   \n",
       "280143  1.378559  1.289381 -5.004247  1.411850  0.442581 -1.326536 -1.413170   \n",
       "280149 -0.676143  1.126366 -2.213700  0.468308 -1.120541 -0.003346 -2.234739   \n",
       "281144 -3.113832  0.585864 -5.399730  1.817092 -0.840618 -2.943548 -2.208002   \n",
       "281674  1.991976  0.158476 -2.583441  0.408670  1.151147 -0.096695  0.223050   \n",
       "\n",
       "              V8        V9       V10    ...          V22       V23       V24  \\\n",
       "279863  0.697211 -2.064945 -5.587794    ...    -0.319189  0.639419 -0.294885   \n",
       "280143  0.248525 -1.127396 -3.232153    ...     0.028234 -0.145640 -0.081049   \n",
       "280149  1.210158 -0.652250 -3.463891    ...     0.834108  0.190944  0.032070   \n",
       "281144  1.058733 -1.632333 -5.245984    ...    -0.269209 -0.456108 -0.183659   \n",
       "281674 -0.068384  0.577829 -0.888722    ...    -0.295135 -0.072173 -0.450261   \n",
       "\n",
       "             V25       V26       V27       V28  Class  normAmount  normTime  \n",
       "279863  0.537503  0.788395  0.292680  0.147968      1    1.206024  1.565196  \n",
       "280143  0.521875  0.739467  0.389152  0.186637      1   -0.350191  1.569513  \n",
       "280149 -0.739695  0.471111  0.385107  0.194361      1   -0.041818  1.569597  \n",
       "281144 -0.328168  0.606116  0.884876 -0.253700      1    0.626302  1.582548  \n",
       "281674  0.313267 -0.289617  0.002988 -0.015309      1   -0.183191  1.590592  \n",
       "\n",
       "[5 rows x 31 columns]"
      ]
     },
     "execution_count": 227,
     "metadata": {},
     "output_type": "execute_result"
    }
   ],
   "source": [
    "UnderSampleNormalPlusFraud.tail()"
   ]
  },
  {
   "cell_type": "code",
   "execution_count": 230,
   "metadata": {},
   "outputs": [],
   "source": [
    "corrmat = UnderSampleNormalPlusFraud.corr()"
   ]
  },
  {
   "cell_type": "code",
   "execution_count": 232,
   "metadata": {},
   "outputs": [
    {
     "data": {
      "image/png": "[encoded data removed]",
      "text/plain": [
       "<matplotlib.figure.Figure at 0x7fb42c343c10>"
      ]
     },
     "metadata": {},
     "output_type": "display_data"
    }
   ],
   "source": [
    "f, ax = plt.subplots(figsize = (14, 11))\n",
    "sns.heatmap(corrmat, vmax = 1, square = True);"
   ]
  },
  {
   "cell_type": "markdown",
   "metadata": {},
   "source": [
    "Let's look at the feature which has the most effect on the Class"
   ]
  },
  {
   "cell_type": "code",
   "execution_count": 237,
   "metadata": {},
   "outputs": [
    {
     "data": {
      "text/plain": [
       "Class    1.000000\n",
       "V4       0.713622\n",
       "V11      0.679820\n",
       "V2       0.489964\n",
       "V19      0.296758\n",
       "V20      0.159352\n",
       "V21      0.128239\n",
       "V27      0.084405\n",
       "V28      0.080843\n",
       "Name: Class, dtype: float64"
      ]
     },
     "execution_count": 237,
     "metadata": {},
     "output_type": "execute_result"
    }
   ],
   "source": [
    "corrmat.nlargest(9, 'Class')['Class']"
   ]
  },
  {
   "cell_type": "code",
   "execution_count": 240,
   "metadata": {},
   "outputs": [
    {
     "data": {
      "text/plain": [
       "V14   -0.750183\n",
       "V12   -0.680018\n",
       "V10   -0.626290\n",
       "V16   -0.596461\n",
       "V3    -0.565558\n",
       "V9    -0.563469\n",
       "V17   -0.559624\n",
       "V7    -0.473789\n",
       "V18   -0.465559\n",
       "Name: Class, dtype: float64"
      ]
     },
     "execution_count": 240,
     "metadata": {},
     "output_type": "execute_result"
    }
   ],
   "source": [
    "corrmat.nsmallest(9, 'Class')['Class']"
   ]
  },
  {
   "cell_type": "markdown",
   "metadata": {},
   "source": [
    "The features which have a high correlation for the fradulent/ normal transactions are V14, V4, V12, V11, V10, V16. "
   ]
  },
  {
   "cell_type": "code",
   "execution_count": null,
   "metadata": {
    "collapsed": true
   },
   "outputs": [],
   "source": []
  }
 ],
 "metadata": {
  "kernelspec": {
   "display_name": "Python 2",
   "language": "python",
   "name": "python2"
  },
  "language_info": {
   "codemirror_mode": {
    "name": "ipython",
    "version": 2
   },
   "file_extension": ".py",
   "mimetype": "text/x-python",
   "name": "python",
   "nbconvert_exporter": "python",
   "pygments_lexer": "ipython2",
   "version": "2.7.13"
  }
 },
 "nbformat": 4,
 "nbformat_minor": 2
}
